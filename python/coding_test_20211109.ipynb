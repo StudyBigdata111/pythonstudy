{
 "cells": [
  {
   "cell_type": "code",
   "execution_count": 2,
   "id": "e4a38fe0",
   "metadata": {},
   "outputs": [],
   "source": [
    "# 입력 부분을 고정\n",
    "n = 5\n",
    "plans = [\"R\",\"R\",\"R\",\"U\",\"D\",\"D\"]\n",
    "\n",
    "# 변수의 수와 값들을 ->  시작점\n",
    "x, y = 1, 1"
   ]
  },
  {
   "cell_type": "code",
   "execution_count": 3,
   "id": "2b31deee",
   "metadata": {},
   "outputs": [],
   "source": [
    "# 이동에 대한 부분을 정의!!!!\n",
    "move_type = [\"L\",\"R\",\"U\",\"D\"]\n",
    "dx =        [ 0,  0 , -1, 1]\n",
    "dy =        [ -1, 1 , 0,  0]"
   ]
  },
  {
   "cell_type": "code",
   "execution_count": 6,
   "id": "21359ec8",
   "metadata": {},
   "outputs": [
    {
     "name": "stdout",
     "output_type": "stream",
     "text": [
      "3 4\n"
     ]
    }
   ],
   "source": [
    "# 지시 사항을 다 해봐야 함..\n",
    "for plan in plans:\n",
    "    #####################################################################\n",
    "    # 내가 받은 지시사항을 보고 정의된 움직임을 찾아서 이동해보기...\n",
    "    for i in range(len(move_type)):\n",
    "        if plan == move_type[i]:\n",
    "            n_x = x + dx[i] # 일단 지시 사항에 대해서 이동했을 때 위치\n",
    "            n_y = y + dy[i]\n",
    "    ######################################################################\n",
    "    # 일단 지시 사항 1개에 대해서 움직이고 나서...\n",
    "    if n_x <1 or n_y < 1 or n_x >n or n_y > n:\n",
    "        continue\n",
    "    else:\n",
    "        x , y = n_x, n_y\n",
    "    ##########################################################################\n",
    "print(x,y)"
   ]
  },
  {
   "cell_type": "code",
   "execution_count": 8,
   "id": "e08bce8f",
   "metadata": {},
   "outputs": [
    {
     "data": {
      "text/plain": [
       "['a', 'b', 'c', 'd']"
      ]
     },
     "execution_count": 8,
     "metadata": {},
     "output_type": "execute_result"
    }
   ],
   "source": [
    "list(\"abcd\")"
   ]
  },
  {
   "cell_type": "code",
   "execution_count": 7,
   "id": "ce1d7499",
   "metadata": {},
   "outputs": [
    {
     "data": {
      "text/plain": [
       "['a', 'b', 'c', 'd']"
      ]
     },
     "execution_count": 7,
     "metadata": {},
     "output_type": "execute_result"
    }
   ],
   "source": [
    "[\"a\",\"b\",\"c\",\"d\"]"
   ]
  },
  {
   "cell_type": "code",
   "execution_count": 9,
   "id": "845d2fde",
   "metadata": {},
   "outputs": [
    {
     "name": "stdout",
     "output_type": "stream",
     "text": [
      "지도의 크기를 입력하세요 max 1004\n",
      "지시사항을 입력하세요-> 예시:RRRUDDRRRUDD\n",
      "4\n",
      "['R', 'R', 'R', 'U', 'D', 'D']\n"
     ]
    }
   ],
   "source": [
    "n = int(input(\"지도의 크기를 입력하세요 max 100\"))\n",
    "plans = list(input(\"지시사항을 입력하세요-> 예시:RRRUDD\"))\n",
    "print(n)\n",
    "print(plans)"
   ]
  },
  {
   "cell_type": "code",
   "execution_count": null,
   "id": "8ac6da73",
   "metadata": {},
   "outputs": [],
   "source": [
    "# 이동에 대한 부분을 정의!!!!\n",
    "move_type = [\"L\",\"R\",\"U\",\"D\"]\n",
    "dx =        [ 0,  0 , -1, 1]\n",
    "dy =        [ -1, 1 , 0,  0]"
   ]
  },
  {
   "cell_type": "code",
   "execution_count": 28,
   "id": "61f411ff",
   "metadata": {},
   "outputs": [
    {
     "name": "stdout",
     "output_type": "stream",
     "text": [
      "3 4\n"
     ]
    }
   ],
   "source": [
    "# 입력 부분을 고정\n",
    "n = 5\n",
    "plans = [\"R\",\"R\",\"R\",\"U\",\"D\",\"D\"]\n",
    "\n",
    "# 변수의 수와 값들을 ->  시작점\n",
    "x, y = 1, 1\n",
    "\n",
    "# 키 : 이동 지시사항 종류, 값 : 이동 종류에 대한 [ x, y ] 이동\n",
    "move = {\n",
    "    \"L\" : [0, -1], \n",
    "    \"R\" : [0, 1],\n",
    "    \"U\" : [-1, 0],\n",
    "    \"D\" : [1, 0]\n",
    "}\n",
    "\n",
    "for plan in plans:\n",
    "    dx, dy = move[plan]\n",
    "    if (x + dx <1) or (x + dx > n) or (y +dy <1) or(y + dy >n):\n",
    "        continue\n",
    "    else:\n",
    "        x = x + dx\n",
    "        y = y + dy\n",
    "print(x, y)"
   ]
  },
  {
   "cell_type": "code",
   "execution_count": 21,
   "id": "dbadd4d0",
   "metadata": {},
   "outputs": [
    {
     "data": {
      "text/plain": [
       "{'L': [0, -1], 'R': [0, 1], 'U': [-1, 0], 'D': [1, 0]}"
      ]
     },
     "execution_count": 21,
     "metadata": {},
     "output_type": "execute_result"
    }
   ],
   "source": [
    "move = {\n",
    "    \"L\" : [0, -1], \n",
    "    \"R\" : [0, 1],\n",
    "    \"U\" : [-1, 0],\n",
    "    \"D\" : [1, 0]\n",
    "}\n"
   ]
  },
  {
   "cell_type": "code",
   "execution_count": 26,
   "id": "51effe62",
   "metadata": {},
   "outputs": [
    {
     "data": {
      "text/plain": [
       "[0, 1]"
      ]
     },
     "execution_count": 26,
     "metadata": {},
     "output_type": "execute_result"
    }
   ],
   "source": [
    "move[\"R\"]"
   ]
  },
  {
   "cell_type": "code",
   "execution_count": 23,
   "id": "b3b92cd2",
   "metadata": {},
   "outputs": [
    {
     "name": "stdout",
     "output_type": "stream",
     "text": [
      "0\n",
      "1\n"
     ]
    }
   ],
   "source": [
    "ta, tb = move[\"R\"]\n",
    "print(ta)\n",
    "print(tb)"
   ]
  },
  {
   "cell_type": "code",
   "execution_count": 27,
   "id": "6483d399",
   "metadata": {},
   "outputs": [],
   "source": [
    "ta = move[\"R\"][0]\n",
    "tb = move[\"R\"][1]"
   ]
  },
  {
   "cell_type": "code",
   "execution_count": 25,
   "id": "98bfe7c4",
   "metadata": {},
   "outputs": [
    {
     "data": {
      "text/plain": [
       "dict_items([('L', [0, -1]), ('R', [0, 1]), ('U', [-1, 0]), ('D', [1, 0])])"
      ]
     },
     "execution_count": 25,
     "metadata": {},
     "output_type": "execute_result"
    }
   ],
   "source": [
    "move.items()"
   ]
  },
  {
   "cell_type": "code",
   "execution_count": 24,
   "id": "11a45859",
   "metadata": {},
   "outputs": [
    {
     "name": "stdout",
     "output_type": "stream",
     "text": [
      "L [0, -1]\n",
      "R [0, 1]\n",
      "U [-1, 0]\n",
      "D [1, 0]\n"
     ]
    }
   ],
   "source": [
    "for k, v in move.items():\n",
    "    print(k, v)"
   ]
  },
  {
   "cell_type": "code",
   "execution_count": 1,
   "id": "77e0712b",
   "metadata": {},
   "outputs": [],
   "source": [
    "def solution(files):\n",
    "    lenF = len(files)\n",
    "    numStartIndex = []\n",
    "    numEndIndex = []\n",
    "    for i in files:\n",
    "        startIndex = 0\n",
    "        endIndex = 0\n",
    "        num = 0\n",
    "        for j in range(0, len(i)):\n",
    "            s = i[j]\n",
    "            if int(ord(s)) > 47 and int(ord(s)) < 58:\n",
    "                #print(s, ord(s), j)\n",
    "                num = j\n",
    "            elif startIndex != 0:\n",
    "                num = j\n",
    "                endIndex = num - 1\n",
    "                numEndIndex.append(endIndex)\n",
    "                #print(s,\"endIndex\", endIndex)\n",
    "                break;\n",
    "                \n",
    "            if num > 0 and startIndex == 0:\n",
    "                startIndex = num\n",
    "                numStartIndex.append(startIndex)\n",
    "                #print(\"startIndex\", startIndex)\n",
    "                \n",
    "    #print(numStartIndex)\n",
    "    #print(numEndIndex)\n",
    "    # HEAD 글자 구함\n",
    "    head = []\n",
    "    for i in range(0, lenF):\n",
    "        file = files[i]\n",
    "        #print(file)\n",
    "        s = \"\"\n",
    "        for j in range(0, numStartIndex[i]):\n",
    "            s += file[j]\n",
    "        head.append([s.upper(), i])\n",
    "        \n",
    "    #print(head)\n",
    "    # HEAD 기준으로 정렬한 index값 구함\n",
    "    head_sort = sorted(head, key = lambda x : x[0])\n",
    "    #print(head_sort)\n",
    "\n",
    "    # head_sort기준으로 file 재정렬\n",
    "    files_head_sort = []\n",
    "    for i in range(0, lenF):\n",
    "        files_head_sort.append(files[head_sort[i][1]])\n",
    "    #print(files_head_sort)\n",
    "    \n",
    "    files = files_head_sort\n",
    "    #print(files)\n",
    "\n",
    "\n",
    "    # NUMBER 글자 구함\n",
    "    number = []\n",
    "    for i in range(0, lenF):\n",
    "        file = files[i]\n",
    "        #print(file)\n",
    "        s = \"\"\n",
    "        for j in range(numStartIndex[i], numEndIndex[i] + 1):\n",
    "            s += file[j]\n",
    "        number.append([int(s), i])\n",
    "    \n",
    "    print(number)\n",
    "    \n",
    "    fileSame = []\n",
    "    for i in range(0, lenF):\n",
    "        #print(\"files_head_sort\", files_head_sort[i])\n",
    "        s = \"\"\n",
    "       \n",
    "        for j in range(0, numStartIndex[i]):\n",
    "            s += files_head_sort[i][j]\n",
    "            \n",
    "        fileSame.append(s)\n",
    "        fileSame.append(number[i])\n",
    "\n",
    "        print(\"files_head_sort\", fileSame)\n",
    "        \n",
    "    for i in range(0, len(fileSame), 2):\n",
    "        print(fileSame[i])\n",
    "        \n",
    "    # NUMBER 기준으로 정렬 index값 구함\n",
    "    number_sort = sorted(number, key = lambda x : x[0])\n",
    "    #print(number_sort)\n",
    "    \n",
    "    # number_sort기준으로 file 재정렬\n",
    "    \n",
    "    files_number_sort = []\n",
    "    for i in range(0, lenF):\n",
    "        files_number_sort.append(files[number_sort[i][1]])\n",
    "    #print(files_number_sort)\n",
    "    \n",
    "    files = files_number_sort\n",
    "    #print(files)\n",
    "    \n",
    "    answer = files\n",
    "    \n",
    "    return answer"
   ]
  },
  {
   "cell_type": "code",
   "execution_count": 2,
   "id": "c913aa90",
   "metadata": {},
   "outputs": [],
   "source": [
    "def solution(N, stages):\n",
    "    answer = []\n",
    "    sLen = len(stages)\n",
    "    print(sLen)\n",
    "    losePer = []\n",
    "    for i in range(N):\n",
    "        #print(i)\n",
    "        count = 0\n",
    "        \n",
    "        for j in stages:\n",
    "            if i+1 == j:\n",
    "                count += 1\n",
    "                #print(\"성공\",j)\n",
    "        if sLen == 0:\n",
    "            losePer.append([i+1, 1.0])\n",
    "        else:\n",
    "            print(i+1,\"스테이지 실패자수는\",count, \"사람수는\",sLen, \"실패율은\", count/sLen)\n",
    "            losePer.append([i+1, count/sLen])\n",
    "        sLen -= count\n",
    "    print(\"losePer\", losePer)\n",
    "    \n",
    "    losePer.sort(key = lambda x : (-x[1], x[0]))\n",
    "    #losePer.sort(key = lambda x : x[1], reverse=True)\n",
    "    \n",
    "    print(\"losePer\", losePer)\n",
    "    for i in range(N):\n",
    "        answer.append(losePer[i][0])\n",
    "    print(\"answer\",answer)\n",
    "    \n",
    "    return answer"
   ]
  },
  {
   "cell_type": "code",
   "execution_count": 1,
   "id": "0eae798b",
   "metadata": {},
   "outputs": [
    {
     "data": {
      "text/plain": [
       "'mislav'"
      ]
     },
     "execution_count": 1,
     "metadata": {},
     "output_type": "execute_result"
    }
   ],
   "source": [
    "def solution(participant, completion):\n",
    "    answer = ''\n",
    "    \n",
    "    for i in completion:\n",
    "        participant.remove(i) # remove가 속도가 느린듯\n",
    "    # print(participant)\n",
    "    answer = participant[0]\n",
    "    \n",
    "    return answer\n",
    "solution([\"leo\", \"kiki\", \"eden\"], [\"eden\", \"kiki\"])\n",
    "solution([\"marina\", \"josipa\", \"nikola\", \"vinko\", \"filipa\"], \n",
    "         [\"josipa\", \"filipa\", \"marina\", \"nikola\"])\n",
    "solution([\"mislav\", \"stanko\", \"mislav\", \"ana\"],\n",
    "         [\"stanko\", \"ana\", \"mislav\"])"
   ]
  },
  {
   "cell_type": "code",
   "execution_count": 30,
   "id": "dbd7215c",
   "metadata": {},
   "outputs": [],
   "source": [
    "def solution(clothes):\n",
    "    answer = 1\n",
    "    dic = {}\n",
    "    \n",
    "    for i in clothes:\n",
    "        if i[1] in dic:\n",
    "            dic[i[1]] += 1\n",
    "        else:\n",
    "            dic[i[1]] = 1\n",
    "            \n",
    "    a = dic.values()\n",
    "    arr = []\n",
    "    for i in a:\n",
    "        arr.append(i)\n",
    "    \n",
    "    for i in range(0, len(arr)):\n",
    "        print(i, arr[i])\n",
    "        answer *= (arr[i] + 1)\n",
    "        \n",
    "    answer -= 1\n",
    "    return answer"
   ]
  },
  {
   "cell_type": "code",
   "execution_count": 31,
   "id": "3fa14b55",
   "metadata": {},
   "outputs": [
    {
     "name": "stdout",
     "output_type": "stream",
     "text": [
      "0 2\n",
      "1 1\n",
      "2 3\n"
     ]
    },
    {
     "data": {
      "text/plain": [
       "23"
      ]
     },
     "execution_count": 31,
     "metadata": {},
     "output_type": "execute_result"
    }
   ],
   "source": [
    "solution([[\"yellowhat\", \"headgear\"], \n",
    "          [\"bluesunglasses\", \"eyewear\"], \n",
    "          [\"green_turban\", \"headgear\"],\n",
    "         [\"crowmask\", \"face\"], \n",
    "          [\"bluesunglasses\", \"face\"], \n",
    "          [\"smoky_makeup\", \"face\"]])"
   ]
  },
  {
   "cell_type": "code",
   "execution_count": 32,
   "id": "bf3bd217",
   "metadata": {},
   "outputs": [
    {
     "name": "stdout",
     "output_type": "stream",
     "text": [
      "0 3\n"
     ]
    },
    {
     "data": {
      "text/plain": [
       "3"
      ]
     },
     "execution_count": 32,
     "metadata": {},
     "output_type": "execute_result"
    }
   ],
   "source": [
    "solution([[\"crowmask\", \"face\"], \n",
    "          [\"bluesunglasses\", \"face\"], \n",
    "          [\"smoky_makeup\", \"face\"]])"
   ]
  },
  {
   "cell_type": "code",
   "execution_count": 15,
   "id": "be7ace48",
   "metadata": {},
   "outputs": [
    {
     "name": "stdout",
     "output_type": "stream",
     "text": [
      "4개 입력..4 4 2 1\n",
      "2개 입력..1 2\n",
      "2개 입력..1 3\n",
      "2개 입력..2 3\n",
      "2개 입력..2 4\n",
      "[[], [2, 3], [3, 4], [], []]\n",
      "1 [2, 3]\n",
      "1 [2, 3]\n",
      "2 [3, 4]\n",
      "2 [3, 4]\n",
      "0 0 2\n",
      "1 1 2\n",
      "2 2 2\n",
      "k 2\n",
      "3 3 2\n",
      "4 4 2\n",
      "{0: 0, 1: 0, 2: 1, 3: 1, 4: 2}\n"
     ]
    }
   ],
   "source": [
    "# 입력 부분 #\n",
    "n, m, k, x = map(int, input(\"4개 입력..\").split())\n",
    "graph = [ [] for _ in range(n+1)]\n",
    "for _ in range(m):\n",
    "    s, e = map(int, input(\"2개 입력..\").split())\n",
    "    graph[s].append(e)\n",
    "    \n",
    "print(graph)\n",
    "\n",
    "city_list = {}\n",
    "def findcity(s):\n",
    "    for i in range(n + 1):\n",
    "        city_list[i] = 0\n",
    "    \n",
    "    q = list()\n",
    "    q.append(s)\n",
    "    \n",
    "    while q :\n",
    "        s = q.pop(0)\n",
    "        for i in graph[s]:        \n",
    "            q.append(i)\n",
    "            if city_list[i] == 0:\n",
    "                city_list[i] = city_list[s] + 1\n",
    "            print(s, graph[s])\n",
    "   \n",
    "findcity(1)\n",
    "\n",
    "for i, j in enumerate(city_list):\n",
    "# for i in city_list.keys():\n",
    "    print(i, j, k)\n",
    "    if j == k:\n",
    "        print(\"k\",i)        \n",
    "\n",
    "\n",
    "print(city_list)\n",
    "\n",
    "#4 4 2 1\n",
    "#1 2\n",
    "#1 3\n",
    "#2 3\n",
    "#2 4\n",
    "\n",
    "#4 3 2 1\n",
    "#1 2\n",
    "#1 3\n",
    "#1 4\n",
    "\n",
    "#4 4 1 1\n",
    "#1 2\n",
    "#1 3\n",
    "#2 3\n",
    "#2 4"
   ]
  },
  {
   "cell_type": "code",
   "execution_count": null,
   "id": "4abd5265",
   "metadata": {},
   "outputs": [],
   "source": []
  }
 ],
 "metadata": {
  "kernelspec": {
   "display_name": "Python 3",
   "language": "python",
   "name": "python3"
  },
  "language_info": {
   "codemirror_mode": {
    "name": "ipython",
    "version": 3
   },
   "file_extension": ".py",
   "mimetype": "text/x-python",
   "name": "python",
   "nbconvert_exporter": "python",
   "pygments_lexer": "ipython3",
   "version": "3.8.8"
  }
 },
 "nbformat": 4,
 "nbformat_minor": 5
}
