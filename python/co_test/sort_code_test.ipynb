{
 "cells": [
  {
   "cell_type": "code",
   "execution_count": 2,
   "metadata": {
    "colab": {
     "base_uri": "https://localhost:8080/"
    },
    "executionInfo": {
     "elapsed": 379,
     "status": "ok",
     "timestamp": 1636607451144,
     "user": {
      "displayName": "Minkyu Kwon",
      "photoUrl": "https://lh3.googleusercontent.com/a/default-user=s64",
      "userId": "08202342554901369599"
     },
     "user_tz": -540
    },
    "id": "BrTNgRHKWyW1",
    "outputId": "8908ed18-45ba-41bb-8fb0-9972adedd8f3"
   },
   "outputs": [
    {
     "data": {
      "text/plain": [
       "[20, 12, 10, 15, 2]"
      ]
     },
     "execution_count": 2,
     "metadata": {},
     "output_type": "execute_result"
    }
   ],
   "source": []
  },
  {
   "cell_type": "markdown",
   "metadata": {
    "id": "gvljTj_6cWUP"
   },
   "source": [
    "* 선택 정렬 샘플 코드"
   ]
  },
  {
   "cell_type": "code",
   "execution_count": 6,
   "metadata": {
    "colab": {
     "base_uri": "https://localhost:8080/"
    },
    "executionInfo": {
     "elapsed": 344,
     "status": "ok",
     "timestamp": 1636608072075,
     "user": {
      "displayName": "Minkyu Kwon",
      "photoUrl": "https://lh3.googleusercontent.com/a/default-user=s64",
      "userId": "08202342554901369599"
     },
     "user_tz": -540
    },
    "id": "XDvAD383cUm1",
    "outputId": "e050b8d1-4137-47de-b17b-7db7ba21bbca"
   },
   "outputs": [
    {
     "data": {
      "text/plain": [
       "[20, 12, 10, 15, 2]"
      ]
     },
     "execution_count": 6,
     "metadata": {},
     "output_type": "execute_result"
    }
   ],
   "source": [
    "arr = [20,12,10, 15,2]\n",
    "arr # -> 2, 10, 12, 15 ,20 : 컴"
   ]
  },
  {
   "cell_type": "code",
   "execution_count": 5,
   "metadata": {
    "colab": {
     "base_uri": "https://localhost:8080/"
    },
    "executionInfo": {
     "elapsed": 368,
     "status": "ok",
     "timestamp": 1636607896003,
     "user": {
      "displayName": "Minkyu Kwon",
      "photoUrl": "https://lh3.googleusercontent.com/a/default-user=s64",
      "userId": "08202342554901369599"
     },
     "user_tz": -540
    },
    "id": "YLi4st5dW3MD",
    "outputId": "83c86717-1a0c-40db-f8ba-8bb9418df674"
   },
   "outputs": [
    {
     "name": "stdout",
     "output_type": "stream",
     "text": [
      "[2, 10, 12, 15, 20]\n"
     ]
    }
   ],
   "source": [
    "for step in range(len(arr)):\n",
    "  min_index = step\n",
    "  for i in range(step+1, len(arr)):\n",
    "    if arr[i] < arr[min_index]:\n",
    "      min_index = i\n",
    "    else:\n",
    "      pass\n",
    "  arr[step], arr[min_index] = arr[min_index], arr[step]\n",
    "\n",
    "print(arr)"
   ]
  },
  {
   "cell_type": "code",
   "execution_count": null,
   "metadata": {
    "id": "X0YM51LDW3Ox"
   },
   "outputs": [],
   "source": []
  },
  {
   "cell_type": "markdown",
   "metadata": {
    "id": "sOhU5_AofbjG"
   },
   "source": [
    "삽입정렬"
   ]
  },
  {
   "cell_type": "code",
   "execution_count": 7,
   "metadata": {
    "colab": {
     "base_uri": "https://localhost:8080/"
    },
    "executionInfo": {
     "elapsed": 407,
     "status": "ok",
     "timestamp": 1636608903124,
     "user": {
      "displayName": "Minkyu Kwon",
      "photoUrl": "https://lh3.googleusercontent.com/a/default-user=s64",
      "userId": "08202342554901369599"
     },
     "user_tz": -540
    },
    "id": "ydRIe5deW3RZ",
    "outputId": "1c86be4d-6359-4946-852c-ef611de4b257"
   },
   "outputs": [
    {
     "data": {
      "text/plain": [
       "[9, 5, 1, 4, 3]"
      ]
     },
     "execution_count": 7,
     "metadata": {},
     "output_type": "execute_result"
    }
   ],
   "source": [
    "arr = [9,5,1,4,3]\n",
    "arr"
   ]
  },
  {
   "cell_type": "code",
   "execution_count": 12,
   "metadata": {
    "colab": {
     "base_uri": "https://localhost:8080/"
    },
    "executionInfo": {
     "elapsed": 460,
     "status": "ok",
     "timestamp": 1636611460264,
     "user": {
      "displayName": "Minkyu Kwon",
      "photoUrl": "https://lh3.googleusercontent.com/a/default-user=s64",
      "userId": "08202342554901369599"
     },
     "user_tz": -540
    },
    "id": "rKq3OwNEW3T4",
    "outputId": "634dcc4e-c68f-4a37-8986-160102b8564c"
   },
   "outputs": [
    {
     "name": "stdout",
     "output_type": "stream",
     "text": [
      "[1, 3, 4, 5, 9]\n"
     ]
    }
   ],
   "source": [
    " # 9 ,,,,,,,,,\n",
    "# 9, 5 ---> 5, 9 ,,,,,,,,,\n",
    "# 5, 9 (1) ---> 5 (1) 9 ---> (1) 5 9 ,,,,,,,\n",
    "# 1, 5, 9 ,(4) --> 1, 5, (4), 9 ---> 1 (4) 5 9  ,,,,,,\n",
    "# 1, 4, 5, 9 (3) --> 1,4,5,(3),9 -> 1,4,(3),5 9 -> 1, (3) 4 5 9\n",
    "#                                              -> 1, 3, 4,5,9,\n",
    "\n",
    "# 보통 이런 식으로 시작하는 이유는\n",
    "# 0번 step에서는 맨 앞에 있는 9가 1개 카드가 정리가 이미 되었다고\n",
    "# 간주를 하기에,,,굳이 0번 스탭을 할 필요가 없어서 생략함!!!\n",
    "arr = [9,5,1,4,3]\n",
    "for step in range(1, len(arr)):\n",
    "  for i in range(step, 0, -1):\n",
    "    if arr[i-1] > arr[i] : # 정리된 것 중에서 제일 큰거가 new 와 비교해서 크면 뒤로\n",
    "      arr[i], arr[i-1] = arr[i-1], arr[i]\n",
    "    else:\n",
    "      pass\n",
    "    # print(arr)\n",
    "    # print(\"----\")\n",
    "print(arr)"
   ]
  },
  {
   "cell_type": "markdown",
   "metadata": {
    "id": "JaYVilf4pRxY"
   },
   "source": [
    "버블 정렬"
   ]
  },
  {
   "cell_type": "code",
   "execution_count": 14,
   "metadata": {
    "colab": {
     "base_uri": "https://localhost:8080/"
    },
    "executionInfo": {
     "elapsed": 382,
     "status": "ok",
     "timestamp": 1636612666689,
     "user": {
      "displayName": "Minkyu Kwon",
      "photoUrl": "https://lh3.googleusercontent.com/a/default-user=s64",
      "userId": "08202342554901369599"
     },
     "user_tz": -540
    },
    "id": "0EeXBSxJpRLo",
    "outputId": "09c29ecf-2371-45aa-e070-d17a697ac314"
   },
   "outputs": [
    {
     "name": "stdout",
     "output_type": "stream",
     "text": [
      "[-9, -2, 0, 11, 45]\n"
     ]
    }
   ],
   "source": [
    "arr = [-2, 45, 0, 11, -9]\n",
    "\n",
    "# 원소 갯수만큼 돌려야하니..\n",
    "for step in range(0, len(arr)):\n",
    "  for i in range(0, len(arr)-step-1):\n",
    "    if arr[i] > arr[i+1] :# 2 값중에서 앞에가 더 크면 swap\n",
    "      arr[i], arr[i+1] = arr[i+1], arr[i]\n",
    "    else:\n",
    "      pass\n",
    "print(arr)"
   ]
  },
  {
   "cell_type": "markdown",
   "metadata": {
    "id": "4Vv9EKNHzZc3"
   },
   "source": [
    "## 파이썬에서 정렬에 대해서..."
   ]
  },
  {
   "cell_type": "markdown",
   "metadata": {
    "id": "sJ1YWE1Ozolg"
   },
   "source": [
    "### sort 이용"
   ]
  },
  {
   "cell_type": "code",
   "execution_count": 18,
   "metadata": {
    "colab": {
     "base_uri": "https://localhost:8080/"
    },
    "executionInfo": {
     "elapsed": 512,
     "status": "ok",
     "timestamp": 1636614290246,
     "user": {
      "displayName": "Minkyu Kwon",
      "photoUrl": "https://lh3.googleusercontent.com/a/default-user=s64",
      "userId": "08202342554901369599"
     },
     "user_tz": -540
    },
    "id": "EICxXDGYW3WS",
    "outputId": "92205f03-9281-4c9b-eaec-e2090fe1d02f"
   },
   "outputs": [
    {
     "data": {
      "text/plain": [
       "[20, 80, 10, 3, 90, 13]"
      ]
     },
     "execution_count": 18,
     "metadata": {},
     "output_type": "execute_result"
    }
   ],
   "source": [
    "a = [ 20, 80,10,3,90,13]\n",
    "a"
   ]
  },
  {
   "cell_type": "code",
   "execution_count": 19,
   "metadata": {
    "executionInfo": {
     "elapsed": 366,
     "status": "ok",
     "timestamp": 1636614305327,
     "user": {
      "displayName": "Minkyu Kwon",
      "photoUrl": "https://lh3.googleusercontent.com/a/default-user=s64",
      "userId": "08202342554901369599"
     },
     "user_tz": -540
    },
    "id": "8XM97pjwzsRz"
   },
   "outputs": [],
   "source": [
    "a.sort(reverse = True)"
   ]
  },
  {
   "cell_type": "code",
   "execution_count": 20,
   "metadata": {
    "colab": {
     "base_uri": "https://localhost:8080/"
    },
    "executionInfo": {
     "elapsed": 408,
     "status": "ok",
     "timestamp": 1636614313182,
     "user": {
      "displayName": "Minkyu Kwon",
      "photoUrl": "https://lh3.googleusercontent.com/a/default-user=s64",
      "userId": "08202342554901369599"
     },
     "user_tz": -540
    },
    "id": "45zJeEsqzsUP",
    "outputId": "5733ff53-7ae0-4376-c31d-73933c196e04"
   },
   "outputs": [
    {
     "name": "stdout",
     "output_type": "stream",
     "text": [
      "[90, 80, 20, 13, 10, 3]\n"
     ]
    }
   ],
   "source": [
    "print(a)"
   ]
  },
  {
   "cell_type": "code",
   "execution_count": 25,
   "metadata": {
    "colab": {
     "base_uri": "https://localhost:8080/"
    },
    "executionInfo": {
     "elapsed": 377,
     "status": "ok",
     "timestamp": 1636614565989,
     "user": {
      "displayName": "Minkyu Kwon",
      "photoUrl": "https://lh3.googleusercontent.com/a/default-user=s64",
      "userId": "08202342554901369599"
     },
     "user_tz": -540
    },
    "id": "TnoCcObdzsWY",
    "outputId": "3f67f816-6bca-4b36-ffd9-d8c02a0cc5c6"
   },
   "outputs": [
    {
     "data": {
      "text/plain": [
       "['one', 'I', 'four', 'six', 'eight', 'asdasdasdas', 'dsdsdsd']"
      ]
     },
     "execution_count": 25,
     "metadata": {},
     "output_type": "execute_result"
    }
   ],
   "source": [
    "b = [\"one\",\"I\",\"four\",\"six\", \"eight\", \"asdasdasdas\",\"dsdsdsd\"]\n",
    "b"
   ]
  },
  {
   "cell_type": "code",
   "execution_count": 26,
   "metadata": {
    "colab": {
     "base_uri": "https://localhost:8080/"
    },
    "executionInfo": {
     "elapsed": 340,
     "status": "ok",
     "timestamp": 1636614567973,
     "user": {
      "displayName": "Minkyu Kwon",
      "photoUrl": "https://lh3.googleusercontent.com/a/default-user=s64",
      "userId": "08202342554901369599"
     },
     "user_tz": -540
    },
    "id": "eK_B_F8m0dNd",
    "outputId": "69775a87-50bc-4063-8b7f-9c2de99d68dc"
   },
   "outputs": [
    {
     "data": {
      "text/plain": [
       "['I', 'one', 'six', 'four', 'eight', 'dsdsdsd', 'asdasdasdas']"
      ]
     },
     "execution_count": 26,
     "metadata": {},
     "output_type": "execute_result"
    }
   ],
   "source": [
    "b.sort( key = lambda x : len(x) )\n",
    "b"
   ]
  },
  {
   "cell_type": "markdown",
   "metadata": {
    "id": "FKnvEfr-1Wpe"
   },
   "source": [
    "* sorted"
   ]
  },
  {
   "cell_type": "code",
   "execution_count": 27,
   "metadata": {
    "colab": {
     "base_uri": "https://localhost:8080/"
    },
    "executionInfo": {
     "elapsed": 349,
     "status": "ok",
     "timestamp": 1636614654999,
     "user": {
      "displayName": "Minkyu Kwon",
      "photoUrl": "https://lh3.googleusercontent.com/a/default-user=s64",
      "userId": "08202342554901369599"
     },
     "user_tz": -540
    },
    "id": "ppKwOz050dP8",
    "outputId": "b970a907-aaf1-45c2-eea6-e676f0072fea"
   },
   "outputs": [
    {
     "data": {
      "text/plain": [
       "[20, 80, 10, 3, 90, 13]"
      ]
     },
     "execution_count": 27,
     "metadata": {},
     "output_type": "execute_result"
    }
   ],
   "source": [
    "a = [ 20, 80,10,3,90,13]\n",
    "a"
   ]
  },
  {
   "cell_type": "code",
   "execution_count": 29,
   "metadata": {
    "colab": {
     "base_uri": "https://localhost:8080/"
    },
    "executionInfo": {
     "elapsed": 356,
     "status": "ok",
     "timestamp": 1636614755839,
     "user": {
      "displayName": "Minkyu Kwon",
      "photoUrl": "https://lh3.googleusercontent.com/a/default-user=s64",
      "userId": "08202342554901369599"
     },
     "user_tz": -540
    },
    "id": "JNFUNQ1S1dNI",
    "outputId": "72ad95f1-dc2a-4dd4-9488-653d3daa4977"
   },
   "outputs": [
    {
     "name": "stdout",
     "output_type": "stream",
     "text": [
      "[90, 80, 20, 13, 10, 3]\n",
      "[20, 80, 10, 3, 90, 13]\n"
     ]
    }
   ],
   "source": [
    "a_s = sorted(a, reverse=True)\n",
    "print(a_s)\n",
    "print(a)"
   ]
  },
  {
   "cell_type": "code",
   "execution_count": 31,
   "metadata": {
    "colab": {
     "base_uri": "https://localhost:8080/"
    },
    "executionInfo": {
     "elapsed": 383,
     "status": "ok",
     "timestamp": 1636614897115,
     "user": {
      "displayName": "Minkyu Kwon",
      "photoUrl": "https://lh3.googleusercontent.com/a/default-user=s64",
      "userId": "08202342554901369599"
     },
     "user_tz": -540
    },
    "id": "_JCyLy2I1dPa",
    "outputId": "d8195007-3410-44eb-9df2-5cf27045e776"
   },
   "outputs": [
    {
     "data": {
      "text/plain": [
       "[('d', 30), ('c', 20), ('a', 50), ('b', 25), ('e', 40)]"
      ]
     },
     "execution_count": 31,
     "metadata": {},
     "output_type": "execute_result"
    }
   ],
   "source": [
    "bb = [ (\"d\", 30),(\"c\", 20), (\"a\",50), (\"b\", 25), (\"e\", 40) ]\n",
    "bb"
   ]
  },
  {
   "cell_type": "code",
   "execution_count": 32,
   "metadata": {
    "colab": {
     "base_uri": "https://localhost:8080/"
    },
    "executionInfo": {
     "elapsed": 327,
     "status": "ok",
     "timestamp": 1636614915096,
     "user": {
      "displayName": "Minkyu Kwon",
      "photoUrl": "https://lh3.googleusercontent.com/a/default-user=s64",
      "userId": "08202342554901369599"
     },
     "user_tz": -540
    },
    "id": "t5VsKiT31dR6",
    "outputId": "0a4c4df2-1a12-47f5-d037-d63a822d0cdd"
   },
   "outputs": [
    {
     "data": {
      "text/plain": [
       "[('a', 50), ('b', 25), ('c', 20), ('d', 30), ('e', 40)]"
      ]
     },
     "execution_count": 32,
     "metadata": {},
     "output_type": "execute_result"
    }
   ],
   "source": [
    "sorted(bb)"
   ]
  },
  {
   "cell_type": "code",
   "execution_count": 34,
   "metadata": {
    "colab": {
     "base_uri": "https://localhost:8080/"
    },
    "executionInfo": {
     "elapsed": 395,
     "status": "ok",
     "timestamp": 1636615102012,
     "user": {
      "displayName": "Minkyu Kwon",
      "photoUrl": "https://lh3.googleusercontent.com/a/default-user=s64",
      "userId": "08202342554901369599"
     },
     "user_tz": -540
    },
    "id": "BMI5LUEn1dT2",
    "outputId": "7a83e037-3e61-415b-b84c-7374d0ada912"
   },
   "outputs": [
    {
     "name": "stdout",
     "output_type": "stream",
     "text": [
      "[('a', 50), ('e', 40), ('d', 30), ('b', 25), ('c', 20)]\n",
      "[('d', 30), ('c', 20), ('a', 50), ('b', 25), ('e', 40)]\n"
     ]
    }
   ],
   "source": [
    "# 기준이 뒤에 점수를 가지고 정렬 &&& 원본 데이터는 그대로 유지!!!!\n",
    "cc = sorted(bb, key = lambda x : x[1], reverse=True )\n",
    "print(cc)\n",
    "print(bb)"
   ]
  },
  {
   "cell_type": "markdown",
   "metadata": {
    "id": "BrN1msqW3crT"
   },
   "source": [
    "* 성적 정렬 문제"
   ]
  },
  {
   "cell_type": "code",
   "execution_count": 38,
   "metadata": {
    "colab": {
     "base_uri": "https://localhost:8080/"
    },
    "executionInfo": {
     "elapsed": 16987,
     "status": "ok",
     "timestamp": 1636615893788,
     "user": {
      "displayName": "Minkyu Kwon",
      "photoUrl": "https://lh3.googleusercontent.com/a/default-user=s64",
      "userId": "08202342554901369599"
     },
     "user_tz": -540
    },
    "id": "xQQnp6TN3b8k",
    "outputId": "c993c5d4-0dde-4be3-cf3d-55a322ac37e4"
   },
   "outputs": [
    {
     "name": "stdout",
     "output_type": "stream",
     "text": [
      "몇 명의 학생의 이름과 성적을 입력하실껀가요?2\n",
      "1번째 학생의 이름 성적 입력하세요..홍길동 95\n",
      "2번째 학생의 이름 성적 입력하세요..이순신 77\n",
      "이순신 홍길동 "
     ]
    }
   ],
   "source": [
    "# 입력 부분 설정\n",
    "n = int(input(\"몇 명의 학생의 이름과 성적을 입력하실껀가요?\"))\n",
    "# 입력에 대한 부분을 받는 변수 -> 여러개가 들어오니까...파이썬의 리스트\n",
    "data = []\n",
    "for i in range(n):\n",
    "  input_data = input(\"{0}번째 학생의 이름 성적 입력하세요..\".format(i+1)).split(\" \")\n",
    "  data.append( ( input_data[0], int(input_data[1])) ) \n",
    "#print(data)\n",
    "\n",
    "# 내가 받은 데이터를 중심으로 정렬에 대한 기준 설정 & 정렬 수행./\n",
    "data_sort = sorted(data, key = lambda x : x[1]) #  sorted( 누구를 가지고, 어떤 기준으로 key :lambda)\n",
    "\n",
    "# 정렬된 결과에서 이름만 출력을 하겠다..\n",
    "for std in data_sort:\n",
    "  print(std[0], end=\" \")"
   ]
  },
  {
   "cell_type": "markdown",
   "metadata": {
    "id": "lcQa2lhv9fWo"
   },
   "source": [
    "## 카카오 파일 정리 문제"
   ]
  },
  {
   "cell_type": "code",
   "execution_count": 1,
   "metadata": {
    "executionInfo": {
     "elapsed": 363,
     "status": "ok",
     "timestamp": 1636616784441,
     "user": {
      "displayName": "Minkyu Kwon",
      "photoUrl": "https://lh3.googleusercontent.com/a/default-user=s64",
      "userId": "08202342554901369599"
     },
     "user_tz": -540
    },
    "id": "WY0zr9s73cFC"
   },
   "outputs": [],
   "source": [
    "import re"
   ]
  },
  {
   "cell_type": "code",
   "execution_count": null,
   "metadata": {
    "id": "mU1UK5x69mu1"
   },
   "outputs": [],
   "source": [
    "re.findall(정규식, 찾을 대상..)"
   ]
  },
  {
   "cell_type": "code",
   "execution_count": null,
   "metadata": {
    "id": "L8RoB06H9mxH"
   },
   "outputs": [],
   "source": [
    "\"img2.jpg\""
   ]
  },
  {
   "cell_type": "code",
   "execution_count": 2,
   "metadata": {
    "colab": {
     "base_uri": "https://localhost:8080/"
    },
    "executionInfo": {
     "elapsed": 363,
     "status": "ok",
     "timestamp": 1636616884521,
     "user": {
      "displayName": "Minkyu Kwon",
      "photoUrl": "https://lh3.googleusercontent.com/a/default-user=s64",
      "userId": "08202342554901369599"
     },
     "user_tz": -540
    },
    "id": "ylmQ16Hh9mzn",
    "outputId": "37401d50-d123-4aba-9087-3452304cae99"
   },
   "outputs": [
    {
     "data": {
      "text/plain": [
       "['233', '434343']"
      ]
     },
     "execution_count": 2,
     "metadata": {},
     "output_type": "execute_result"
    }
   ],
   "source": [
    "re.findall( \"\\d+\", \"img233abcd434343.jpg\") # head : img, number : 233, tail :abcd43~~~~~~"
   ]
  },
  {
   "cell_type": "code",
   "execution_count": 10,
   "metadata": {},
   "outputs": [
    {
     "name": "stdout",
     "output_type": "stream",
     "text": [
      "['233', '434343']\n",
      "<callable_iterator object at 0x0000029DE2C21490>\n",
      "re.compile('\\\\d+')\n",
      "None\n",
      "re.compile('\\\\d+')\n",
      "<re.Match object; span=(3, 6), match='233'>\n"
     ]
    }
   ],
   "source": [
    "a = re.findall( \"\\d+\", \"img233abcd434343.jpg\") \n",
    "print(a)\n",
    "a = re.finditer( \"\\d+\", \"img233abcd434343.jpg\")\n",
    "print(a)\n",
    "p = re.compile(\"\\d+\")\n",
    "print(p)\n",
    "a = p.match(\"img233abcd434343.jpg\")\n",
    "print(a)\n",
    "p = re.compile(\"\\d+\")\n",
    "print(p)\n",
    "a = p.search(\"img233abcd434343.jpg\")\n",
    "print(a)"
   ]
  },
  {
   "cell_type": "code",
   "execution_count": 12,
   "metadata": {},
   "outputs": [
    {
     "name": "stdout",
     "output_type": "stream",
     "text": [
      "<re.Match object; span=(0, 6), match='python'>\n"
     ]
    }
   ],
   "source": [
    "import re\n",
    "p = re.compile('[a-z]+')\n",
    "m = p.match(\"python\")\n",
    "print(m)"
   ]
  },
  {
   "cell_type": "code",
   "execution_count": 3,
   "metadata": {
    "colab": {
     "base_uri": "https://localhost:8080/"
    },
    "executionInfo": {
     "elapsed": 461,
     "status": "ok",
     "timestamp": 1636618741129,
     "user": {
      "displayName": "Minkyu Kwon",
      "photoUrl": "https://lh3.googleusercontent.com/a/default-user=s64",
      "userId": "08202342554901369599"
     },
     "user_tz": -540
    },
    "id": "EqjHqpi39m1x",
    "outputId": "630ae45d-b6eb-4085-f46a-38f33b6597f2"
   },
   "outputs": [
    {
     "data": {
      "text/plain": [
       "['img12.png', 'img10.png', 'img02.png', 'img1.png', 'IMG01.GIF', 'img2.JPG']"
      ]
     },
     "execution_count": 3,
     "metadata": {},
     "output_type": "execute_result"
    }
   ],
   "source": [
    "files = [\"img12.png\", \"img10.png\", \"img02.png\", \"img1.png\", \"IMG01.GIF\", \"img2.JPG\"]\n",
    "files"
   ]
  },
  {
   "cell_type": "code",
   "execution_count": 4,
   "metadata": {
    "colab": {
     "base_uri": "https://localhost:8080/"
    },
    "executionInfo": {
     "elapsed": 357,
     "status": "ok",
     "timestamp": 1636619068083,
     "user": {
      "displayName": "Minkyu Kwon",
      "photoUrl": "https://lh3.googleusercontent.com/a/default-user=s64",
      "userId": "08202342554901369599"
     },
     "user_tz": -540
    },
    "id": "7_MabkC3GEaP",
    "outputId": "f2dbca93-106d-409a-9b4c-318a96903542"
   },
   "outputs": [
    {
     "name": "stdout",
     "output_type": "stream",
     "text": [
      "0 img12.png\n",
      "1 img10.png\n",
      "2 img02.png\n",
      "3 img1.png\n",
      "4 IMG01.GIF\n",
      "5 img2.JPG\n"
     ]
    }
   ],
   "source": [
    "# 리스트에서 인덱스와 값을 같이 가지고 해야할 때 enumerate 라는 함수 사용!!!!!!!\n",
    "# 자주 사용되니 dict.items() 더불어서 잘 알아둬야 함!!!!!\n",
    "for idx, i in enumerate(files):\n",
    "    print(idx, i)"
   ]
  },
  {
   "cell_type": "code",
   "execution_count": null,
   "metadata": {
    "id": "82h4QuOa9m39"
   },
   "outputs": [],
   "source": [
    "[ 3, 4, 2, 5, 1, 0]"
   ]
  },
  {
   "cell_type": "code",
   "execution_count": 15,
   "metadata": {
    "id": "rS7SG6qsFpSC"
   },
   "outputs": [
    {
     "name": "stdout",
     "output_type": "stream",
     "text": [
      "img1.png\n",
      "IMG01.GIF\n",
      "img02.png\n"
     ]
    }
   ],
   "source": [
    "print(files[3])\n",
    "print(files[4])\n",
    "print(files[2])"
   ]
  },
  {
   "cell_type": "code",
   "execution_count": 61,
   "metadata": {
    "executionInfo": {
     "elapsed": 385,
     "status": "ok",
     "timestamp": 1636620443446,
     "user": {
      "displayName": "Minkyu Kwon",
      "photoUrl": "https://lh3.googleusercontent.com/a/default-user=s64",
      "userId": "08202342554901369599"
     },
     "user_tz": -540
    },
    "id": "Y1al93BeFpU2"
   },
   "outputs": [],
   "source": [
    "import re # 정규식을 가지고 좀 더 편하게 하겠습니다. -> 기본 패키지..\n",
    "\n",
    "def solution(files):\n",
    "    answer = []\n",
    "    ####### 파일들에 대한 정렬을 해서 answer로 내보내는 과정을 하면 됨.\n",
    "    # 내가 처리하면서 순위에 대한 인덱스 정보를 가질 변수를 세팅 -> 여러개 -> 리스트\n",
    "    my_files = []\n",
    "\n",
    "    # 주어진 입력에 대해서 정수 인덱스와 값을 가지고 처리를 하고자 함....\n",
    "    for idx, i in enumerate(files):\n",
    "        # 숫자 파트에 대해서...처리\n",
    "        number = re.findall(\"\\d+\",i )\n",
    "        \n",
    "        # 파일명의 head 부분을 추출... \n",
    "        head = i[:i.index(number[0])]\n",
    "        # 대소문자 구별을 안 하고 정렬을 해야하니...소문자로 다 변환!!!!\n",
    "        head = head.lower()\n",
    "        \n",
    "        # 입력1개 파일에 대해서 head 파트 처리, 숫자 파트, 몇 번째인지 정수인덱스\n",
    "        my_files.append([head, int(number[0]), idx])\n",
    "\n",
    "    # 리스트이고, 바로 정렬해서 처리하면 되니... sort 메서드로 처리.\n",
    "    # 문제???---> 내가 만든 my_files를 기준으로 정렬에 대한 기준을 \n",
    "    #              직접 만들어야 함!!!!!\n",
    "    #              head 를 기준으로 먼저 정렬, 숫자 파트로 정렬..\n",
    "    # tab 1단계 : 모든 입력에 대해서 head, number, idx 다 처리된 상태에서...\n",
    "    # 정렬ㄹ...\n",
    "    my_files.sort(key = lambda x : (x[0], x[1]))\n",
    "    ###########################################\n",
    "\n",
    "    # 출력 부분 정리\n",
    "    for i in my_files:\n",
    "        answer.append(files[i[2]])\n",
    "\n",
    "\n",
    "    #######\n",
    "    return answer"
   ]
  },
  {
   "cell_type": "code",
   "execution_count": 62,
   "metadata": {
    "colab": {
     "base_uri": "https://localhost:8080/"
    },
    "executionInfo": {
     "elapsed": 335,
     "status": "ok",
     "timestamp": 1636620454658,
     "user": {
      "displayName": "Minkyu Kwon",
      "photoUrl": "https://lh3.googleusercontent.com/a/default-user=s64",
      "userId": "08202342554901369599"
     },
     "user_tz": -540
    },
    "id": "UjkLwnHGLQ9D",
    "outputId": "39134adc-1109-4b81-927d-ff267957fa8c"
   },
   "outputs": [
    {
     "name": "stdout",
     "output_type": "stream",
     "text": [
      "['img12.png', 'img10.png', 'img02.png', 'img1.png', 'IMG01.GIF', 'img2.JPG']\n"
     ]
    },
    {
     "data": {
      "text/plain": [
       "['img1.png', 'IMG01.GIF', 'img02.png', 'img2.JPG', 'img10.png', 'img12.png']"
      ]
     },
     "execution_count": 62,
     "metadata": {},
     "output_type": "execute_result"
    }
   ],
   "source": [
    "print(files)\n",
    "solution(files)"
   ]
  },
  {
   "cell_type": "code",
   "execution_count": 54,
   "metadata": {
    "colab": {
     "base_uri": "https://localhost:8080/"
    },
    "executionInfo": {
     "elapsed": 343,
     "status": "ok",
     "timestamp": 1636619891233,
     "user": {
      "displayName": "Minkyu Kwon",
      "photoUrl": "https://lh3.googleusercontent.com/a/default-user=s64",
      "userId": "08202342554901369599"
     },
     "user_tz": -540
    },
    "id": "OEEKtBIlFpX5",
    "outputId": "9fe6ed82-817c-489b-ebc3-a877d5b9c838"
   },
   "outputs": [
    {
     "data": {
      "text/plain": [
       "['12333', '333']"
      ]
     },
     "execution_count": 54,
     "metadata": {},
     "output_type": "execute_result"
    }
   ],
   "source": [
    "a = re.findall(\"\\d+\", \"IMg12333dsdsd333.png\")\n",
    "a"
   ]
  },
  {
   "cell_type": "code",
   "execution_count": 56,
   "metadata": {
    "colab": {
     "base_uri": "https://localhost:8080/",
     "height": 36
    },
    "executionInfo": {
     "elapsed": 391,
     "status": "ok",
     "timestamp": 1636619906239,
     "user": {
      "displayName": "Minkyu Kwon",
      "photoUrl": "https://lh3.googleusercontent.com/a/default-user=s64",
      "userId": "08202342554901369599"
     },
     "user_tz": -540
    },
    "id": "UV8mJv-4I4TB",
    "outputId": "615bbcbc-df37-492f-b8c6-7986e7821603"
   },
   "outputs": [
    {
     "data": {
      "application/vnd.google.colaboratory.intrinsic+json": {
       "type": "string"
      },
      "text/plain": [
       "'img'"
      ]
     },
     "execution_count": 56,
     "metadata": {},
     "output_type": "execute_result"
    }
   ],
   "source": [
    "\"IMg12333dsdsd333.png\"[:\"IMg12333dsdsd333.png\".index(a[0])].lower()"
   ]
  },
  {
   "cell_type": "code",
   "execution_count": 58,
   "metadata": {
    "colab": {
     "base_uri": "https://localhost:8080/"
    },
    "executionInfo": {
     "elapsed": 361,
     "status": "ok",
     "timestamp": 1636619964709,
     "user": {
      "displayName": "Minkyu Kwon",
      "photoUrl": "https://lh3.googleusercontent.com/a/default-user=s64",
      "userId": "08202342554901369599"
     },
     "user_tz": -540
    },
    "id": "QwLfFzUFI4d9",
    "outputId": "32807e6b-dbc1-4b29-9af8-0e3fe7126a15"
   },
   "outputs": [
    {
     "data": {
      "text/plain": [
       "1"
      ]
     },
     "execution_count": 58,
     "metadata": {},
     "output_type": "execute_result"
    }
   ],
   "source": [
    "int(\"0001\")"
   ]
  },
  {
   "cell_type": "code",
   "execution_count": 49,
   "metadata": {
    "colab": {
     "base_uri": "https://localhost:8080/"
    },
    "executionInfo": {
     "elapsed": 330,
     "status": "ok",
     "timestamp": 1636619657033,
     "user": {
      "displayName": "Minkyu Kwon",
      "photoUrl": "https://lh3.googleusercontent.com/a/default-user=s64",
      "userId": "08202342554901369599"
     },
     "user_tz": -540
    },
    "id": "pcumuXRX3cIG",
    "outputId": "753126a9-93b6-4f75-faff-bc824b47a597"
   },
   "outputs": [
    {
     "data": {
      "text/plain": [
       "['12']"
      ]
     },
     "execution_count": 49,
     "metadata": {},
     "output_type": "execute_result"
    }
   ],
   "source": [
    "re.findall(\"\\d+\", \"img12.png\")"
   ]
  },
  {
   "cell_type": "code",
   "execution_count": null,
   "metadata": {
    "id": "qTrls7JLb2bU"
   },
   "outputs": [],
   "source": []
  },
  {
   "cell_type": "code",
   "execution_count": null,
   "metadata": {
    "id": "pkaAUDIJb2ho"
   },
   "outputs": [],
   "source": []
  },
  {
   "cell_type": "code",
   "execution_count": null,
   "metadata": {
    "id": "fywqag4tb2kl"
   },
   "outputs": [],
   "source": []
  },
  {
   "cell_type": "code",
   "execution_count": null,
   "metadata": {
    "id": "pHZgrQmub2nh"
   },
   "outputs": [],
   "source": []
  },
  {
   "cell_type": "code",
   "execution_count": null,
   "metadata": {
    "id": "f50Xfd6ub2qz"
   },
   "outputs": [],
   "source": []
  },
  {
   "cell_type": "code",
   "execution_count": null,
   "metadata": {
    "id": "Jk0HhLAzb23b"
   },
   "outputs": [],
   "source": []
  },
  {
   "cell_type": "code",
   "execution_count": null,
   "metadata": {
    "id": "Hust6udwb26C"
   },
   "outputs": [],
   "source": []
  },
  {
   "cell_type": "code",
   "execution_count": null,
   "metadata": {
    "id": "p04N2Xbrb3IF"
   },
   "outputs": [],
   "source": []
  }
 ],
 "metadata": {
  "colab": {
   "authorship_tag": "ABX9TyPRMVF0Q9hcle+Jzv6W6ZzV",
   "name": "sort_code_test.ipynb",
   "provenance": []
  },
  "kernelspec": {
   "display_name": "Python 3",
   "language": "python",
   "name": "python3"
  },
  "language_info": {
   "codemirror_mode": {
    "name": "ipython",
    "version": 3
   },
   "file_extension": ".py",
   "mimetype": "text/x-python",
   "name": "python",
   "nbconvert_exporter": "python",
   "pygments_lexer": "ipython3",
   "version": "3.8.8"
  }
 },
 "nbformat": 4,
 "nbformat_minor": 1
}
