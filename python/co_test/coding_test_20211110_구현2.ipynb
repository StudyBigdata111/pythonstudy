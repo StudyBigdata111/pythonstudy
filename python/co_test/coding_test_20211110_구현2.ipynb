{
 "cells": [
  {
   "cell_type": "code",
   "execution_count": 18,
   "id": "6995564a",
   "metadata": {},
   "outputs": [
    {
     "name": "stdout",
     "output_type": "stream",
     "text": [
      "1 1\n"
     ]
    }
   ],
   "source": [
    "# 가상의 입력 : 문자(열), 숫자(행)\n",
    "input_data = \"a1\"\n",
    "\n",
    "# 위치에 대한 수치 변환 과정\n",
    "# 2개 : 가로, 세로\n",
    "row = int(input_data[1])\n",
    "column = int(ord(input_data[0]) - ord(\"a\") + 1)\n",
    "print(row, column)"
   ]
  },
  {
   "cell_type": "code",
   "execution_count": 19,
   "id": "87729caa",
   "metadata": {},
   "outputs": [
    {
     "data": {
      "text/plain": [
       "[(-2, -1), (-2, 1), (2, -1), (2, 1), (1, -2), (1, 2), (-1, -2), (-1, 2)]"
      ]
     },
     "execution_count": 19,
     "metadata": {},
     "output_type": "execute_result"
    }
   ],
   "source": [
    "# 8가지 이동에 대한 것을 주어진 가로, 세로 정보를 바탕으로 구현\n",
    "steps = [\n",
    "    (-2, -1),\n",
    "    (-2, 1),\n",
    "    (2, -1),\n",
    "    (2, 1),\n",
    "    (1, -2),\n",
    "    (1, 2),\n",
    "    (-1, -2),\n",
    "    (-1, 2)\n",
    "]\n",
    "steps"
   ]
  },
  {
   "cell_type": "code",
   "execution_count": null,
   "id": "af9ff0ed",
   "metadata": {},
   "outputs": [],
   "source": [
    "# 카운팅에 대한 초기값 count =0 \n",
    "# 이동의 경우의 수들을 다 돌아가면서  : for\n",
    "# --> 지금 위치에서 이동상황별 이동했을 때의 위치 생성\n",
    "# ---------> 그 포지션이 사각형 안or 밖 : if \n",
    "# -----------------------> 안 : 이동이 가능 : 카운팅!!! count +=1\n",
    "# -----------------------> 밖 : 다음 이동에 대해서...\n"
   ]
  },
  {
   "cell_type": "code",
   "execution_count": 21,
   "id": "a6f0d260",
   "metadata": {},
   "outputs": [
    {
     "name": "stdout",
     "output_type": "stream",
     "text": [
      "1 1\n"
     ]
    }
   ],
   "source": [
    "print(row, column)"
   ]
  },
  {
   "cell_type": "code",
   "execution_count": 26,
   "id": "cccf6ed8",
   "metadata": {},
   "outputs": [
    {
     "name": "stdout",
     "output_type": "stream",
     "text": [
      "2\n"
     ]
    }
   ],
   "source": [
    "count = 0\n",
    "for step in steps:\n",
    "    # 주어진 시작점에서 step별로 각기 이동을 시켜봄..\n",
    "    next_row = row + step[0]\n",
    "    next_column = column + step[1]\n",
    "    \n",
    "    # 이동을 했을 대, next_row, next_column 이 모두다!!! 사각형 안에 있을 때..\n",
    "    if next_row >=1 and next_row <=8 and next_column >=1 and next_column <=8:\n",
    "        count +=1   # count = count + 1\n",
    "    else:\n",
    "        pass\n",
    "print(count)"
   ]
  },
  {
   "cell_type": "code",
   "execution_count": 30,
   "id": "3d456778",
   "metadata": {},
   "outputs": [
    {
     "data": {
      "text/plain": [
       "['a', 'b', 'c', 'd', 'e', 'f', 'g', 'h']"
      ]
     },
     "execution_count": 30,
     "metadata": {},
     "output_type": "execute_result"
    }
   ],
   "source": [
    "column = [\"a\",\"b\",\"c\",\"d\",\"e\",\"f\",\"g\",\"h\"] \n",
    "column"
   ]
  },
  {
   "cell_type": "code",
   "execution_count": 33,
   "id": "d0ba35d3",
   "metadata": {},
   "outputs": [
    {
     "data": {
      "text/plain": [
       "0"
      ]
     },
     "execution_count": 33,
     "metadata": {},
     "output_type": "execute_result"
    }
   ],
   "source": [
    "column.index(\"a\")"
   ]
  },
  {
   "cell_type": "code",
   "execution_count": 38,
   "id": "f70abad2",
   "metadata": {},
   "outputs": [
    {
     "name": "stdout",
     "output_type": "stream",
     "text": [
      "2\n"
     ]
    }
   ],
   "source": [
    "#### 위의 것을 파이썬의 리스트의 메서드 및 기능들을 좀 이용해서...\n",
    "input_data = list(\"a1\")\n",
    "\n",
    "# 주어진 대로 맵을 구현\n",
    "row = [\"1\",\"2\",\"3\",\"4\",\"5\",\"6\",\"7\",\"8\"]\n",
    "column = [\"a\",\"b\",\"c\",\"d\",\"e\",\"f\",\"g\",\"h\"] \n",
    "\n",
    "# 위치에 대한 것을 파이썬의 리스트의 index라는 메서드를 이용해서...위치 이동..\n",
    "location_mat = [1,1]\n",
    "location_mat[0] += row.index(input_data[1])\n",
    "location_mat[1] += column.index(input_data[0])\n",
    "\n",
    "# 이동에 대해서 처리 -> 뒤에 이동에 대해서 정수 인덱스 기반으로 돌리기 위해서..\n",
    "dx = [-2, -2, 2, 2, 1, 1, -1, -1]\n",
    "dy = [-1, 1, -1, 1, -2, 2, -2, 2]\n",
    "\n",
    "# 이제 이동에 대해서 해보자~~~\n",
    "count  = 0\n",
    "for i in range(len(dx)):\n",
    "    if (location_mat[0] + dx[i] >=1) and (location_mat[0] + dx[i] <=8 ) \\\n",
    "        and (location_mat[1] +dy[i] >=1) and (location_mat[1] +dy[i] <=8):\n",
    "            count +=1\n",
    "    else:\n",
    "        pass\n",
    "print(count)"
   ]
  },
  {
   "cell_type": "code",
   "execution_count": null,
   "id": "d2cfa740",
   "metadata": {},
   "outputs": [],
   "source": []
  },
  {
   "cell_type": "code",
   "execution_count": null,
   "id": "9686dc62",
   "metadata": {},
   "outputs": [],
   "source": [
    "# 거리를 계산하는 함수~~~~~~"
   ]
  },
  {
   "cell_type": "code",
   "execution_count": null,
   "id": "79e0b652",
   "metadata": {},
   "outputs": [],
   "source": [
    "# 이동에 대해서 크게 3가지 부분으로 나눠있어요..\n",
    "# case1) 1,4,7 :\"무조건 왼손\n",
    "# case2) 3,6,9: 무조건 오른손\n",
    "# case3) 2,5,8,0 : 왼손과 버튼사이 거리, 오른손과 버튼 사이 거리~ \n",
    "#                    --> 1번 상황 : 누가 가깝다.\n",
    "#                                   -> 가까운 것을 사용\n",
    "#                    --> 2번 상황 : 거리가 같네?\n",
    "#                                   -> 입력변수 hand 값을 참고!!!"
   ]
  },
  {
   "cell_type": "code",
   "execution_count": null,
   "id": "6fa14030",
   "metadata": {},
   "outputs": [],
   "source": []
  },
  {
   "cell_type": "code",
   "execution_count": 42,
   "id": "5b9a46e7",
   "metadata": {},
   "outputs": [],
   "source": [
    "# 2, 5, 8,0 번이 나오면 거리를 계산하는 함수...\n",
    "# 입력 : 눌러야 하는 (2,5,8,0)중의 숫자1개, 거리 계산하려는 기준 엄지의 위치!!!!\n",
    "# 출력 : 거리\n",
    "def get_distance(number, hand): ## \"2\" 어느 버튼 누를지, \"6\": 왼/오 지금 엄지 위치\n",
    "    key_pos = {\n",
    "        \"1\" :(0,0), \"2\": (0,1), \"3\": (0,2),\n",
    "        \"4\" :(1,0), \"5\": (1,1), \"6\": (1,2),\n",
    "        \"7\" :(2,0), \"8\": (2,1), \"9\": (2,2),\n",
    "        \"*\" :(3,0), \"0\" :(3,1), \"#\" :(3,2)\n",
    "    }\n",
    "    # 명시적으로 입력에 대해서 문자로 변경\n",
    "    number = str(number)\n",
    "    # 눌러야 할 버튼의 위치정보 체크 \n",
    "    x_number, y_number = key_pos[number]\n",
    "    \n",
    "    ## 지금 엄지에 대한 것..\n",
    "    hand   = str(hand)\n",
    "    # 기준 엄지에 대한 위치정보 체크 : hand = \"6\" --> (1,2) : X_hand, y_hand\n",
    "    x_hand, y_hand = key_pos[hand]\n",
    "    \n",
    "    ### 눌러야 할 버튼과 엄지의 위치 -> 거리...... x끼의 차이 + y끼리의 차이\n",
    "    # abs --> 절대 값을 계산해주는 함수...\n",
    "    return abs(x_number - x_hand) + abs(y_number - y_hand)"
   ]
  },
  {
   "cell_type": "code",
   "execution_count": 46,
   "id": "74c0b43c",
   "metadata": {},
   "outputs": [],
   "source": [
    "def solution(numbers, hand):\n",
    "    answer=''\n",
    "    ##############################################################################\n",
    "    # 왼손, 오른손 엄지 위치에 대한 초기화\n",
    "    left_pos = \"*\"\n",
    "    right_pos = \"#\"\n",
    "    # 입출력에 대해서 보면 right -> R, left -> L : 무슨 손 잡이인지도 맞춰서 대문자.\n",
    "    if hand ==\"right\":\n",
    "        hand = \"R\"\n",
    "    elif hand ==\"left\":\n",
    "        hand =\"L\"\n",
    "    else:\n",
    "        print(\"Input hands Error~~~~~\")\n",
    "    ############ 입력 숫자들에대해서 돌리기 ##########\n",
    "    for num in numbers: # numbers에는 숫자들로 들어 있음...\n",
    "        if num in [1,4,7]:\n",
    "            answer += \"L\"\n",
    "            left_pos = str(num)\n",
    "            continue\n",
    "        elif num in [3,6,9]:\n",
    "            answer += \"R\"\n",
    "            right_pos = str(num)\n",
    "            continue\n",
    "        elif num in [2,5,8,0]:\n",
    "            # 주어진 버튼과 왼손/오른손의 거리에 대해서 체크...\n",
    "            dis_left = get_distance(str(num), left_pos)\n",
    "            dis_right = get_distance(str(num), right_pos)\n",
    "            if dis_left < dis_right: # 왼손의 거리가 짧은 -> 왼손\n",
    "                answer += \"L\"\n",
    "                left_pos = str(num)\n",
    "            elif dis_left > dis_right : # 오른손의 거리가 짧은 -> 오른손\n",
    "                answer += \"R\"\n",
    "                right_pos = str(num)\n",
    "            elif dis_left == dis_right: # 오른손/왼손 거리가 동일!!!-> 무슨손잡이?\n",
    "                answer += hand\n",
    "                if hand ==\"R\":\n",
    "                    right_pos = str(num)\n",
    "                elif hand ==\"L\":\n",
    "                    left_pos = str(num)\n",
    "                else:\n",
    "                    pass\n",
    "            else:\n",
    "                pass\n",
    "            \n",
    "\n",
    "# 이동에 대해서 크게 3가지 부분으로 나눠있어요..\n",
    "# case1) 1,4,7 :\"무조건 왼손\n",
    "# case2) 3,6,9: 무조건 오른손\n",
    "# case3) 2,5,8,0 : 왼손과 버튼사이 거리, 오른손과 버튼 사이 거리~ \n",
    "#                    --> 1번 상황 : 누가 가깝다.\n",
    "#                                   -> 가까운 것을 사용\n",
    "#                    --> 2번 상황 : 거리가 같네?\n",
    "#                                   -> 입력변수 hand 값을 참고!!!\n",
    "    return answer"
   ]
  },
  {
   "cell_type": "code",
   "execution_count": 48,
   "id": "fbb43eb2",
   "metadata": {},
   "outputs": [
    {
     "data": {
      "text/plain": [
       "'LRLLRRLLLRR'"
      ]
     },
     "execution_count": 48,
     "metadata": {},
     "output_type": "execute_result"
    }
   ],
   "source": [
    "a =   [7, 0, 8, 2, 8, 3, 1, 5, 7, 6, 2]\n",
    "b = \"left\"\n",
    "solution(a,b)"
   ]
  },
  {
   "cell_type": "code",
   "execution_count": null,
   "id": "64c08203",
   "metadata": {},
   "outputs": [],
   "source": [
    "LRLLRRLLLRR"
   ]
  },
  {
   "cell_type": "code",
   "execution_count": 40,
   "id": "2e29ea47",
   "metadata": {},
   "outputs": [
    {
     "data": {
      "text/plain": [
       "21"
      ]
     },
     "execution_count": 40,
     "metadata": {},
     "output_type": "execute_result"
    }
   ],
   "source": [
    "LRLLLRLLRRL"
   ]
  }
 ],
 "metadata": {
  "kernelspec": {
   "display_name": "Python 3",
   "language": "python",
   "name": "python3"
  },
  "language_info": {
   "codemirror_mode": {
    "name": "ipython",
    "version": 3
   },
   "file_extension": ".py",
   "mimetype": "text/x-python",
   "name": "python",
   "nbconvert_exporter": "python",
   "pygments_lexer": "ipython3",
   "version": "3.8.8"
  }
 },
 "nbformat": 4,
 "nbformat_minor": 5
}
