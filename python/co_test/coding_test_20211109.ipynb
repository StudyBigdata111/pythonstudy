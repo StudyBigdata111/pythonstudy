{
 "cells": [
  {
   "cell_type": "code",
   "execution_count": 2,
   "id": "e4a38fe0",
   "metadata": {},
   "outputs": [],
   "source": [
    "# 입력 부분을 고정\n",
    "n = 5\n",
    "plans = [\"R\",\"R\",\"R\",\"U\",\"D\",\"D\"]\n",
    "\n",
    "# 변수의 수와 값들을 ->  시작점\n",
    "x, y = 1, 1"
   ]
  },
  {
   "cell_type": "code",
   "execution_count": 3,
   "id": "2b31deee",
   "metadata": {},
   "outputs": [],
   "source": [
    "# 이동에 대한 부분을 정의!!!!\n",
    "move_type = [\"L\",\"R\",\"U\",\"D\"]\n",
    "dx =        [ 0,  0 , -1, 1]\n",
    "dy =        [ -1, 1 , 0,  0]"
   ]
  },
  {
   "cell_type": "code",
   "execution_count": 6,
   "id": "21359ec8",
   "metadata": {},
   "outputs": [
    {
     "name": "stdout",
     "output_type": "stream",
     "text": [
      "3 4\n"
     ]
    }
   ],
   "source": [
    "# 지시 사항을 다 해봐야 함..\n",
    "for plan in plans:\n",
    "    #####################################################################\n",
    "    # 내가 받은 지시사항을 보고 정의된 움직임을 찾아서 이동해보기...\n",
    "    for i in range(len(move_type)):\n",
    "        if plan == move_type[i]:\n",
    "            n_x = x + dx[i] # 일단 지시 사항에 대해서 이동했을 때 위치\n",
    "            n_y = y + dy[i]\n",
    "    ######################################################################\n",
    "    # 일단 지시 사항 1개에 대해서 움직이고 나서...\n",
    "    if n_x <1 or n_y < 1 or n_x >n or n_y > n:\n",
    "        continue\n",
    "    else:\n",
    "        x , y = n_x, n_y\n",
    "    ##########################################################################\n",
    "print(x,y)"
   ]
  },
  {
   "cell_type": "code",
   "execution_count": 8,
   "id": "e08bce8f",
   "metadata": {},
   "outputs": [
    {
     "data": {
      "text/plain": [
       "['a', 'b', 'c', 'd']"
      ]
     },
     "execution_count": 8,
     "metadata": {},
     "output_type": "execute_result"
    }
   ],
   "source": [
    "list(\"abcd\")"
   ]
  },
  {
   "cell_type": "code",
   "execution_count": 7,
   "id": "ce1d7499",
   "metadata": {},
   "outputs": [
    {
     "data": {
      "text/plain": [
       "['a', 'b', 'c', 'd']"
      ]
     },
     "execution_count": 7,
     "metadata": {},
     "output_type": "execute_result"
    }
   ],
   "source": [
    "[\"a\",\"b\",\"c\",\"d\"]"
   ]
  },
  {
   "cell_type": "code",
   "execution_count": 9,
   "id": "845d2fde",
   "metadata": {},
   "outputs": [
    {
     "name": "stdout",
     "output_type": "stream",
     "text": [
      "지도의 크기를 입력하세요 max 1004\n",
      "지시사항을 입력하세요-> 예시:RRRUDDRRRUDD\n",
      "4\n",
      "['R', 'R', 'R', 'U', 'D', 'D']\n"
     ]
    }
   ],
   "source": [
    "n = int(input(\"지도의 크기를 입력하세요 max 100\"))\n",
    "plans = list(input(\"지시사항을 입력하세요-> 예시:RRRUDD\"))\n",
    "print(n)\n",
    "print(plans)"
   ]
  },
  {
   "cell_type": "code",
   "execution_count": null,
   "id": "8ac6da73",
   "metadata": {},
   "outputs": [],
   "source": [
    "# 이동에 대한 부분을 정의!!!!\n",
    "move_type = [\"L\",\"R\",\"U\",\"D\"]\n",
    "dx =        [ 0,  0 , -1, 1]\n",
    "dy =        [ -1, 1 , 0,  0]"
   ]
  },
  {
   "cell_type": "code",
   "execution_count": 28,
   "id": "61f411ff",
   "metadata": {},
   "outputs": [
    {
     "name": "stdout",
     "output_type": "stream",
     "text": [
      "3 4\n"
     ]
    }
   ],
   "source": [
    "# 입력 부분을 고정\n",
    "n = 5\n",
    "plans = [\"R\",\"R\",\"R\",\"U\",\"D\",\"D\"]\n",
    "\n",
    "# 변수의 수와 값들을 ->  시작점\n",
    "x, y = 1, 1\n",
    "\n",
    "# 키 : 이동 지시사항 종류, 값 : 이동 종류에 대한 [ x, y ] 이동\n",
    "move = {\n",
    "    \"L\" : [0, -1], \n",
    "    \"R\" : [0, 1],\n",
    "    \"U\" : [-1, 0],\n",
    "    \"D\" : [1, 0]\n",
    "}\n",
    "\n",
    "for plan in plans:\n",
    "    dx, dy = move[plan]\n",
    "    if (x + dx <1) or (x + dx > n) or (y +dy <1) or(y + dy >n):\n",
    "        continue\n",
    "    else:\n",
    "        x = x + dx\n",
    "        y = y + dy\n",
    "print(x, y)"
   ]
  },
  {
   "cell_type": "code",
   "execution_count": 21,
   "id": "dbadd4d0",
   "metadata": {},
   "outputs": [
    {
     "data": {
      "text/plain": [
       "{'L': [0, -1], 'R': [0, 1], 'U': [-1, 0], 'D': [1, 0]}"
      ]
     },
     "execution_count": 21,
     "metadata": {},
     "output_type": "execute_result"
    }
   ],
   "source": [
    "move = {\n",
    "    \"L\" : [0, -1], \n",
    "    \"R\" : [0, 1],\n",
    "    \"U\" : [-1, 0],\n",
    "    \"D\" : [1, 0]\n",
    "}\n"
   ]
  },
  {
   "cell_type": "code",
   "execution_count": 26,
   "id": "51effe62",
   "metadata": {},
   "outputs": [
    {
     "data": {
      "text/plain": [
       "[0, 1]"
      ]
     },
     "execution_count": 26,
     "metadata": {},
     "output_type": "execute_result"
    }
   ],
   "source": [
    "move[\"R\"]"
   ]
  },
  {
   "cell_type": "code",
   "execution_count": 23,
   "id": "b3b92cd2",
   "metadata": {},
   "outputs": [
    {
     "name": "stdout",
     "output_type": "stream",
     "text": [
      "0\n",
      "1\n"
     ]
    }
   ],
   "source": [
    "ta, tb = move[\"R\"]\n",
    "print(ta)\n",
    "print(tb)"
   ]
  },
  {
   "cell_type": "code",
   "execution_count": 27,
   "id": "6483d399",
   "metadata": {},
   "outputs": [],
   "source": [
    "ta = move[\"R\"][0]\n",
    "tb = move[\"R\"][1]"
   ]
  },
  {
   "cell_type": "code",
   "execution_count": 25,
   "id": "98bfe7c4",
   "metadata": {},
   "outputs": [
    {
     "data": {
      "text/plain": [
       "dict_items([('L', [0, -1]), ('R', [0, 1]), ('U', [-1, 0]), ('D', [1, 0])])"
      ]
     },
     "execution_count": 25,
     "metadata": {},
     "output_type": "execute_result"
    }
   ],
   "source": [
    "move.items()"
   ]
  },
  {
   "cell_type": "code",
   "execution_count": 24,
   "id": "11a45859",
   "metadata": {},
   "outputs": [
    {
     "name": "stdout",
     "output_type": "stream",
     "text": [
      "L [0, -1]\n",
      "R [0, 1]\n",
      "U [-1, 0]\n",
      "D [1, 0]\n"
     ]
    }
   ],
   "source": [
    "for k, v in move.items():\n",
    "    print(k, v)"
   ]
  }
 ],
 "metadata": {
  "kernelspec": {
   "display_name": "Python 3",
   "language": "python",
   "name": "python3"
  },
  "language_info": {
   "codemirror_mode": {
    "name": "ipython",
    "version": 3
   },
   "file_extension": ".py",
   "mimetype": "text/x-python",
   "name": "python",
   "nbconvert_exporter": "python",
   "pygments_lexer": "ipython3",
   "version": "3.8.8"
  }
 },
 "nbformat": 4,
 "nbformat_minor": 5
}
