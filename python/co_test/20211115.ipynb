{
 "cells": [
  {
   "cell_type": "markdown",
   "metadata": {
    "id": "8jQFuTrm7S4S"
   },
   "source": [
    "퀵 정렬에 대해서"
   ]
  },
  {
   "cell_type": "code",
   "execution_count": 1,
   "metadata": {
    "colab": {
     "base_uri": "https://localhost:8080/"
    },
    "executionInfo": {
     "elapsed": 621,
     "status": "ok",
     "timestamp": 1636936021078,
     "user": {
      "displayName": "Minkyu Kwon",
      "photoUrl": "https://lh3.googleusercontent.com/a/default-user=s64",
      "userId": "08202342554901369599"
     },
     "user_tz": -540
    },
    "id": "TqctQHfH7TXQ",
    "outputId": "1dcec11b-0d07-4a69-a68e-8d62e10fb1f3"
   },
   "outputs": [
    {
     "data": {
      "text/plain": [
       "[5, 7, 9, 0, 3, 1, 6, 2, 4, 8]"
      ]
     },
     "execution_count": 1,
     "metadata": {},
     "output_type": "execute_result"
    }
   ],
   "source": [
    "arr = [ 5, 7, 9, 0, 3, 1, 6, 2, 4, 8]\n",
    "arr"
   ]
  },
  {
   "cell_type": "code",
   "execution_count": 2,
   "metadata": {
    "executionInfo": {
     "elapsed": 946,
     "status": "ok",
     "timestamp": 1636938482434,
     "user": {
      "displayName": "Minkyu Kwon",
      "photoUrl": "https://lh3.googleusercontent.com/a/default-user=s64",
      "userId": "08202342554901369599"
     },
     "user_tz": -540
    },
    "id": "0kqB21vp7TZv"
   },
   "outputs": [],
   "source": [
    "# 재귀 함수로 구현을 하면 보다 쉽게 구현을 할 수 있음!!!\n",
    "# 입력 : 숫자들의 데이터, 주어진 기준 위치!!!!!!!\n",
    "def quick_sort(array, start, end):\n",
    "    # 원소가 1개인 경우에 종료를 위해서...\n",
    "    if start >= end :\n",
    "        return\n",
    "    else : # 실제 원소의 수가 2개 이상인 경우들에 대해서 정리를 해야함.\n",
    "        # 시작을 위한 기준\n",
    "        pivot = start\n",
    "        left = start + 1 # --->\n",
    "        right = end\n",
    "\n",
    "        while(left <= right):\n",
    "            # pivot보다 큰 데이터를 찾을 때 까지 :left가 오른쪽으로 달릴 조건..\n",
    "            while( left <= end and array[left] <= array[pivot] ): # left 가 도는 기준..\n",
    "                left += 1\n",
    "            # pivot 보다 작은 데이터를 찾을 때 까지 : right가 왼쪽으로 달릴 조건\n",
    "            while( right > start and array[right] >= array[pivot]):\n",
    "                right -= 1\n",
    "            \n",
    "            # left, right 다 각기 역할을 수행을 시킨 후에\n",
    "            # 서로 위치가 뒤집어 지는지, 아닌지에 따라서....\n",
    "            if left > right: \n",
    "                array[right], array[pivot] = array[pivot], array[right]\n",
    "            else: # 아직 left, right가 서로 크로스는 아니고, 멈춘 상태...\n",
    "                array[left], array[right] = array[right], array[left]\n",
    "        ###############################################################\n",
    "        ### pivot을 기준으로 UP, DOWN만 구별을 함!!!!!\n",
    "        # pivot 보다 작은 파트에 적용\n",
    "        quick_sort(array, start, right-1)\n",
    "        # pivot 보다 큰 파트에 적용\n",
    "        quick_sort(array, right+1, end)"
   ]
  },
  {
   "cell_type": "code",
   "execution_count": 3,
   "metadata": {
    "colab": {
     "base_uri": "https://localhost:8080/"
    },
    "executionInfo": {
     "elapsed": 320,
     "status": "ok",
     "timestamp": 1636938528590,
     "user": {
      "displayName": "Minkyu Kwon",
      "photoUrl": "https://lh3.googleusercontent.com/a/default-user=s64",
      "userId": "08202342554901369599"
     },
     "user_tz": -540
    },
    "id": "S_lcpm-i7Tc2",
    "outputId": "91691bee-9274-48b7-82e2-a50a9d558426"
   },
   "outputs": [
    {
     "name": "stdout",
     "output_type": "stream",
     "text": [
      "[0, 1, 2, 3, 4, 5, 6, 7, 8, 9]\n"
     ]
    }
   ],
   "source": [
    "quick_sort(arr, 0, len(arr)-1)\n",
    "print(arr)"
   ]
  },
  {
   "cell_type": "markdown",
   "metadata": {
    "id": "VdRuT50XNWb3"
   },
   "source": [
    "퀵 정렬에 대해서 파이썬 답게 수정해보자~"
   ]
  },
  {
   "cell_type": "code",
   "execution_count": 4,
   "metadata": {
    "colab": {
     "base_uri": "https://localhost:8080/"
    },
    "executionInfo": {
     "elapsed": 307,
     "status": "ok",
     "timestamp": 1636939732123,
     "user": {
      "displayName": "Minkyu Kwon",
      "photoUrl": "https://lh3.googleusercontent.com/a/default-user=s64",
      "userId": "08202342554901369599"
     },
     "user_tz": -540
    },
    "id": "k5JtPCgRNbML",
    "outputId": "cbdc952c-9653-463d-df19-86fb5c9f57a8"
   },
   "outputs": [
    {
     "data": {
      "text/plain": [
       "[5, 7, 9, 0, 3, 1, 6, 2, 4, 8]"
      ]
     },
     "execution_count": 4,
     "metadata": {},
     "output_type": "execute_result"
    }
   ],
   "source": [
    "arr = [ 5, 7, 9, 0, 3, 1, 6, 2, 4, 8]\n",
    "arr"
   ]
  },
  {
   "cell_type": "code",
   "execution_count": null,
   "metadata": {
    "id": "AXh1VOlVNbO1"
   },
   "outputs": [],
   "source": []
  },
  {
   "cell_type": "code",
   "execution_count": 6,
   "metadata": {
    "colab": {
     "base_uri": "https://localhost:8080/"
    },
    "executionInfo": {
     "elapsed": 301,
     "status": "ok",
     "timestamp": 1636939873034,
     "user": {
      "displayName": "Minkyu Kwon",
      "photoUrl": "https://lh3.googleusercontent.com/a/default-user=s64",
      "userId": "08202342554901369599"
     },
     "user_tz": -540
    },
    "id": "gBm5IZDaNbRi",
    "outputId": "322a5cbb-d416-4fd0-b0f0-597eec756b32"
   },
   "outputs": [
    {
     "name": "stdout",
     "output_type": "stream",
     "text": [
      "[5, 7, 9]\n",
      "[1, 3]\n"
     ]
    }
   ],
   "source": [
    "a = [ 1, 3 ,5, 7, 9]\n",
    "au = []\n",
    "ad = []\n",
    "for i in a:\n",
    "    if i >= 5:\n",
    "        au.append(i)\n",
    "    else:\n",
    "        ad.append(i)\n",
    "print(au)\n",
    "print(ad)"
   ]
  },
  {
   "cell_type": "code",
   "execution_count": 11,
   "metadata": {
    "colab": {
     "base_uri": "https://localhost:8080/"
    },
    "executionInfo": {
     "elapsed": 307,
     "status": "ok",
     "timestamp": 1636939998832,
     "user": {
      "displayName": "Minkyu Kwon",
      "photoUrl": "https://lh3.googleusercontent.com/a/default-user=s64",
      "userId": "08202342554901369599"
     },
     "user_tz": -540
    },
    "id": "f-gmXuFdOcP0",
    "outputId": "b6fcee14-fe20-4fd3-81e1-00d5a0b5ba8e"
   },
   "outputs": [
    {
     "data": {
      "text/plain": [
       "[5, 7, 9]"
      ]
     },
     "execution_count": 11,
     "metadata": {},
     "output_type": "execute_result"
    }
   ],
   "source": [
    "[ i for i in a if i >=5]"
   ]
  },
  {
   "cell_type": "code",
   "execution_count": 12,
   "metadata": {
    "colab": {
     "base_uri": "https://localhost:8080/"
    },
    "executionInfo": {
     "elapsed": 356,
     "status": "ok",
     "timestamp": 1636940008517,
     "user": {
      "displayName": "Minkyu Kwon",
      "photoUrl": "https://lh3.googleusercontent.com/a/default-user=s64",
      "userId": "08202342554901369599"
     },
     "user_tz": -540
    },
    "id": "TluuU-vJOjek",
    "outputId": "efb8d1d5-5f25-4157-9f86-0c4b45e1efe3"
   },
   "outputs": [
    {
     "data": {
      "text/plain": [
       "[1, 3]"
      ]
     },
     "execution_count": 12,
     "metadata": {},
     "output_type": "execute_result"
    }
   ],
   "source": [
    "[ i for i in a if i <5]"
   ]
  },
  {
   "cell_type": "code",
   "execution_count": 7,
   "metadata": {
    "colab": {
     "base_uri": "https://localhost:8080/"
    },
    "executionInfo": {
     "elapsed": 268,
     "status": "ok",
     "timestamp": 1636939906744,
     "user": {
      "displayName": "Minkyu Kwon",
      "photoUrl": "https://lh3.googleusercontent.com/a/default-user=s64",
      "userId": "08202342554901369599"
     },
     "user_tz": -540
    },
    "id": "PDkrk7YjOLMO",
    "outputId": "840a3c2e-a354-4e17-d2c7-10b12ddd883d"
   },
   "outputs": [
    {
     "data": {
      "text/plain": [
       "[5, 7, 9]"
      ]
     },
     "execution_count": 7,
     "metadata": {},
     "output_type": "execute_result"
    }
   ],
   "source": [
    "au"
   ]
  },
  {
   "cell_type": "code",
   "execution_count": 9,
   "metadata": {
    "colab": {
     "base_uri": "https://localhost:8080/"
    },
    "executionInfo": {
     "elapsed": 293,
     "status": "ok",
     "timestamp": 1636939954718,
     "user": {
      "displayName": "Minkyu Kwon",
      "photoUrl": "https://lh3.googleusercontent.com/a/default-user=s64",
      "userId": "08202342554901369599"
     },
     "user_tz": -540
    },
    "id": "WI1SRabPOMlT",
    "outputId": "a37ab9b9-c938-4f8f-ad81-95670c7f4337"
   },
   "outputs": [
    {
     "name": "stdout",
     "output_type": "stream",
     "text": [
      "[7, 9]\n",
      "[5]\n"
     ]
    }
   ],
   "source": [
    "auu = []\n",
    "aud = []\n",
    "for i in au:\n",
    "    if i >= 7:\n",
    "        auu.append(i)\n",
    "    else:\n",
    "        aud.append(i)\n",
    "print(auu)\n",
    "print(aud)"
   ]
  },
  {
   "cell_type": "code",
   "execution_count": 13,
   "metadata": {
    "colab": {
     "base_uri": "https://localhost:8080/"
    },
    "executionInfo": {
     "elapsed": 277,
     "status": "ok",
     "timestamp": 1636940100442,
     "user": {
      "displayName": "Minkyu Kwon",
      "photoUrl": "https://lh3.googleusercontent.com/a/default-user=s64",
      "userId": "08202342554901369599"
     },
     "user_tz": -540
    },
    "id": "WO0ATu_JO6J2",
    "outputId": "5b7328a0-8f98-451b-e423-f3ce98b89f85"
   },
   "outputs": [
    {
     "data": {
      "text/plain": [
       "[5, 7, 9, 0, 3, 1, 6, 2, 4, 8]"
      ]
     },
     "execution_count": 13,
     "metadata": {},
     "output_type": "execute_result"
    }
   ],
   "source": [
    "arr"
   ]
  },
  {
   "cell_type": "code",
   "execution_count": 14,
   "metadata": {
    "executionInfo": {
     "elapsed": 315,
     "status": "ok",
     "timestamp": 1636940931299,
     "user": {
      "displayName": "Minkyu Kwon",
      "photoUrl": "https://lh3.googleusercontent.com/a/default-user=s64",
      "userId": "08202342554901369599"
     },
     "user_tz": -540
    },
    "id": "f7em5OL7O6Mi"
   },
   "outputs": [],
   "source": [
    "def sort_quick_py(array):\n",
    "    # 입력의 리스트에 원소가 1개가 있으면 종료하자~~\n",
    "    if len(array) <=1:\n",
    "        return array\n",
    "    # 입력한 부분에서 기준 pivot은 첫번째 원소로 세팅\n",
    "    pivot = array[0]\n",
    "    tail = array[1:] # pivot 제외한 값들...\n",
    "    # -> 그 pivot을 제외한 값들 분리하고 -> pivot을 중심으로 up part, down part 구현!!!\n",
    "    # 주어진 tail을 겹치지 않게 left, rigth 로 분할을 위해서 등호처리는 한쪽.\n",
    "    # 리스트의 컴프리핸션?\n",
    "    left_side = [ x for x in tail if x  <= pivot]\n",
    "    right_side = [ x for x in tail if x > pivot]\n",
    "   \n",
    "    # 출력\n",
    "    # 위에서 구한 pivot의 왼쪽 파트? + 기준 + pivot 오른쪽 파트 ?\n",
    "    return sort_quick_py(left_side) + [pivot] + sort_quick_py(right_side)\n",
    "    "
   ]
  },
  {
   "cell_type": "code",
   "execution_count": 15,
   "metadata": {
    "colab": {
     "base_uri": "https://localhost:8080/"
    },
    "executionInfo": {
     "elapsed": 293,
     "status": "ok",
     "timestamp": 1636940933152,
     "user": {
      "displayName": "Minkyu Kwon",
      "photoUrl": "https://lh3.googleusercontent.com/a/default-user=s64",
      "userId": "08202342554901369599"
     },
     "user_tz": -540
    },
    "id": "1F7xjAKTO6O8",
    "outputId": "0a9a7d4e-f939-44fd-f9aa-085a236fb177"
   },
   "outputs": [
    {
     "data": {
      "text/plain": [
       "[0, 1, 2, 3, 4, 5, 6, 7, 8, 9]"
      ]
     },
     "execution_count": 15,
     "metadata": {},
     "output_type": "execute_result"
    }
   ],
   "source": [
    "sort_quick_py(arr)"
   ]
  },
  {
   "cell_type": "markdown",
   "metadata": {
    "id": "QDU1kzt7TGi3"
   },
   "source": [
    "그리디"
   ]
  },
  {
   "cell_type": "code",
   "execution_count": 17,
   "metadata": {
    "colab": {
     "base_uri": "https://localhost:8080/"
    },
    "executionInfo": {
     "elapsed": 286,
     "status": "ok",
     "timestamp": 1636941253583,
     "user": {
      "displayName": "Minkyu Kwon",
      "photoUrl": "https://lh3.googleusercontent.com/a/default-user=s64",
      "userId": "08202342554901369599"
     },
     "user_tz": -540
    },
    "id": "ryi0GFLSTFzN",
    "outputId": "0d4f37ae-4bf1-4145-fc2e-1ac5760c6a54"
   },
   "outputs": [
    {
     "data": {
      "text/plain": [
       "9"
      ]
     },
     "execution_count": 17,
     "metadata": {},
     "output_type": "execute_result"
    }
   ],
   "source": [
    "# 4720원에서 500원으로 지불할 수 있는 최대 동전의 수는?\n",
    "4720 // 500"
   ]
  },
  {
   "cell_type": "code",
   "execution_count": 25,
   "metadata": {
    "colab": {
     "base_uri": "https://localhost:8080/"
    },
    "executionInfo": {
     "elapsed": 318,
     "status": "ok",
     "timestamp": 1636942026070,
     "user": {
      "displayName": "Minkyu Kwon",
      "photoUrl": "https://lh3.googleusercontent.com/a/default-user=s64",
      "userId": "08202342554901369599"
     },
     "user_tz": -540
    },
    "id": "7ou5neizTNEb",
    "outputId": "78c9b628-185a-47e4-f7c8-c3c9b2a0a28e"
   },
   "outputs": [
    {
     "name": "stdout",
     "output_type": "stream",
     "text": [
      "31\n"
     ]
    }
   ],
   "source": [
    "cost = 4720\n",
    "coin_type = [1, 50, 100, 500]\n",
    "coin_type.sort(reverse=True)\n",
    "# print(coin_type)\n",
    "\n",
    "# 상용할 동전의 수\n",
    "count = 0 \n",
    "\n",
    "# 큰 값의 코인부터 시작~\n",
    "for coin in coin_type:\n",
    "    count += (cost // coin) # count = count + cost // coin\n",
    "    cost %= coin          # cost = cost % coin \n",
    "print(count)\n"
   ]
  },
  {
   "cell_type": "code",
   "execution_count": 21,
   "metadata": {
    "colab": {
     "base_uri": "https://localhost:8080/"
    },
    "executionInfo": {
     "elapsed": 290,
     "status": "ok",
     "timestamp": 1636941904391,
     "user": {
      "displayName": "Minkyu Kwon",
      "photoUrl": "https://lh3.googleusercontent.com/a/default-user=s64",
      "userId": "08202342554901369599"
     },
     "user_tz": -540
    },
    "id": "ua6YQOIbVr3q",
    "outputId": "7cc1f5f4-c689-47ca-a310-f0b8bd87c8b1"
   },
   "outputs": [
    {
     "data": {
      "text/plain": [
       "220"
      ]
     },
     "execution_count": 21,
     "metadata": {},
     "output_type": "execute_result"
    }
   ],
   "source": [
    "4720 - (4720 //500)*500"
   ]
  },
  {
   "cell_type": "code",
   "execution_count": 22,
   "metadata": {
    "colab": {
     "base_uri": "https://localhost:8080/"
    },
    "executionInfo": {
     "elapsed": 292,
     "status": "ok",
     "timestamp": 1636941913391,
     "user": {
      "displayName": "Minkyu Kwon",
      "photoUrl": "https://lh3.googleusercontent.com/a/default-user=s64",
      "userId": "08202342554901369599"
     },
     "user_tz": -540
    },
    "id": "n-CKRdzcV0ad",
    "outputId": "ce6a7de4-ca10-46b3-f1c9-7e40f1c72df2"
   },
   "outputs": [
    {
     "data": {
      "text/plain": [
       "220"
      ]
     },
     "execution_count": 22,
     "metadata": {},
     "output_type": "execute_result"
    }
   ],
   "source": [
    "4720 % 500"
   ]
  },
  {
   "cell_type": "code",
   "execution_count": null,
   "metadata": {
    "id": "ncGRrKWQTNHD"
   },
   "outputs": [],
   "source": [
    "print(count) # 31개"
   ]
  },
  {
   "cell_type": "code",
   "execution_count": null,
   "metadata": {
    "id": "LodMVgK2TNJ4"
   },
   "outputs": [],
   "source": [
    "9(4500) + 2(200) + 0(0)+ 20 "
   ]
  },
  {
   "cell_type": "code",
   "execution_count": null,
   "metadata": {
    "id": "_5965gDDTF13"
   },
   "outputs": [],
   "source": []
  },
  {
   "cell_type": "markdown",
   "metadata": {
    "id": "DGbnQMMkcpOU"
   },
   "source": [
    "최대의 합을 만드는 문제"
   ]
  },
  {
   "cell_type": "code",
   "execution_count": 37,
   "metadata": {
    "colab": {
     "base_uri": "https://localhost:8080/",
     "height": 139
    },
    "executionInfo": {
     "elapsed": 339,
     "status": "error",
     "timestamp": 1636949463942,
     "user": {
      "displayName": "Minkyu Kwon",
      "photoUrl": "https://lh3.googleusercontent.com/a/default-user=s64",
      "userId": "08202342554901369599"
     },
     "user_tz": -540
    },
    "id": "75TA6IpITF4R",
    "outputId": "a224063b-7600-4938-caf0-624f004968e7"
   },
   "outputs": [
    {
     "ename": "SyntaxError",
     "evalue": "ignored",
     "output_type": "error",
     "traceback": [
      "\u001b[0;36m  File \u001b[0;32m\"<ipython-input-37-7fe1270a4cd2>\"\u001b[0;36m, line \u001b[0;32m16\u001b[0m\n\u001b[0;31m    while\u001b[0m\n\u001b[0m          ^\u001b[0m\n\u001b[0;31mSyntaxError\u001b[0m\u001b[0;31m:\u001b[0m invalid syntax\n"
     ]
    }
   ],
   "source": [
    "# 입력 부분 -> 크게 2파트\n",
    "n, m, k = map(int, input(\"n,m,k의 수를 입력하세요...(공란기준)\").split())\n",
    "data = list(map(int, input(\"수들을 입력하세요~\").split()))\n",
    "\n",
    "# first, second\n",
    "data.sort()\n",
    "first = data[n-1]\n",
    "second = data[n-2]\n",
    "\n",
    "# 더한 값을 기록할 변수\n",
    "result = 0\n",
    "\n",
    "# 1) data의 max를 알아야 함!!!!  -> first : 최대 k 번 더하기..\n",
    "# 2) data의 max보다 바로 작은 수 -> second : 최대 1번\n",
    "# 1~2이 셋트~~~~~이 1/2번 세트를 언제까지 m번까지~~~~\n",
    "# --> 1개 값을 더할 때 마다....m : -1씩 줄여나갑니다.. m=0 종료를~~~\n",
    "while Ture:\n",
    "    # first를 최대 k개까지 더해가면서, m에서는 더할 때 마다 줄임.\n",
    "    for i in range(k):\n",
    "        if m ==0:\n",
    "            break\n",
    "        else:\n",
    "            result += first\n",
    "            m -= 1\n",
    "    # first 작업이 끝나고,,, 혹시 그 전에 m =0이 될 수 있으니...\n",
    "    # m =0이면 체크해서 나가고... 아니면,,,second만 1번만 더하고\n",
    "    # 다시 frist 쪽으로 넘기기 위해서..\n",
    "    if m ==0:\n",
    "        break\n",
    "    else:\n",
    "        result += second\n",
    "        m -= 1\n",
    "print(result)\n",
    "\n"
   ]
  },
  {
   "cell_type": "code",
   "execution_count": 32,
   "metadata": {
    "colab": {
     "base_uri": "https://localhost:8080/"
    },
    "executionInfo": {
     "elapsed": 2647,
     "status": "ok",
     "timestamp": 1636943982923,
     "user": {
      "displayName": "Minkyu Kwon",
      "photoUrl": "https://lh3.googleusercontent.com/a/default-user=s64",
      "userId": "08202342554901369599"
     },
     "user_tz": -540
    },
    "id": "GT8aZ8X3TF6b",
    "outputId": "87ca6542-dbcf-4d69-8986-c9a0f07a66ff"
   },
   "outputs": [
    {
     "name": "stdout",
     "output_type": "stream",
     "text": [
      "수들을 입력하세요~1 3 5\n"
     ]
    },
    {
     "data": {
      "text/plain": [
       "[1, 3, 5]"
      ]
     },
     "execution_count": 32,
     "metadata": {},
     "output_type": "execute_result"
    }
   ],
   "source": [
    "2,4, 5, 4, 6 → M : 10, K : 3\n",
    "data"
   ]
  },
  {
   "cell_type": "code",
   "execution_count": null,
   "metadata": {
    "id": "n632HKDPduVr"
   },
   "outputs": [],
   "source": [
    "first : 6\n",
    "second : 5\n",
    "( 6 + 6 + 6 + 5) + ( 6+6+6+5) + 6+6\n",
    "# first의 K , second 1개 : 덩어리로 생각하면,,,,\n",
    "# M에 대해서 덩어리가 몇 개가 있고, 남은 것이 몇 개인지....\n",
    "#  -------------------------------------> 남는 것은 first로 더해주면 됨!"
   ]
  },
  {
   "cell_type": "code",
   "execution_count": 36,
   "metadata": {
    "colab": {
     "base_uri": "https://localhost:8080/"
    },
    "executionInfo": {
     "elapsed": 9705,
     "status": "ok",
     "timestamp": 1636945044517,
     "user": {
      "displayName": "Minkyu Kwon",
      "photoUrl": "https://lh3.googleusercontent.com/a/default-user=s64",
      "userId": "08202342554901369599"
     },
     "user_tz": -540
    },
    "id": "Bmq7AKJJfIwJ",
    "outputId": "85137ea8-20da-4d8e-da54-c76657a6549d"
   },
   "outputs": [
    {
     "name": "stdout",
     "output_type": "stream",
     "text": [
      "n,m,k의 수를 입력하세요...(공란기준)5 8 3\n",
      "수들을 입력하세요~2 4 5 4 6\n",
      "46\n"
     ]
    }
   ],
   "source": [
    "# 입력 부분 -> 크게 2파트\n",
    "n, m, k = map(int, input(\"n,m,k의 수를 입력하세요...(공란기준)\").split())\n",
    "data = list(map(int, input(\"수들을 입력하세요~\").split()))\n",
    "\n",
    "# first, second\n",
    "data.sort()\n",
    "first = data[n-1]\n",
    "second = data[n-2]\n",
    "\n",
    "# 더한 값을 기록할 변수\n",
    "result = 0\n",
    "\n",
    "# first : k, second : 1 -> 이것을 덩어리로 보면, 덩어리 원소의 수 : k+1\n",
    "# ---------------------------------> 몇 덩어리인지, 몇 개가 남는지...\n",
    "# 1) first는 덩어리에서 몇 덩어리 + 남는 것...ㅣ\n",
    "count_first = (m // (k+1)) * k\n",
    "count_first += m % (k+1) # count_first = count_first + (m % (k+1))\n",
    "\n",
    "# 2) second 는 오로지 몇 덩어리인지만!!!!!!\n",
    "count_second = m - count_first\n",
    "\n",
    "# first의 숫자와 갯수로 합을, second의 숫자와 갯수로 합을\n",
    "result += count_first * first\n",
    "result += count_second * second\n",
    "\n",
    "print(result)\n"
   ]
  },
  {
   "cell_type": "markdown",
   "metadata": {
    "id": "Hk_TPJ3u3QLS"
   },
   "source": [
    "set"
   ]
  },
  {
   "cell_type": "code",
   "execution_count": 38,
   "metadata": {
    "colab": {
     "base_uri": "https://localhost:8080/"
    },
    "executionInfo": {
     "elapsed": 362,
     "status": "ok",
     "timestamp": 1636950681837,
     "user": {
      "displayName": "Minkyu Kwon",
      "photoUrl": "https://lh3.googleusercontent.com/a/default-user=s64",
      "userId": "08202342554901369599"
     },
     "user_tz": -540
    },
    "id": "s1XnymOIwnAg",
    "outputId": "b10036e8-43f8-4ea2-be96-e315d4fa363d"
   },
   "outputs": [
    {
     "data": {
      "text/plain": [
       "{1, 3, 5, 7, 9}"
      ]
     },
     "execution_count": 38,
     "metadata": {},
     "output_type": "execute_result"
    }
   ],
   "source": [
    "{1,3,5,7,9}"
   ]
  },
  {
   "cell_type": "code",
   "execution_count": 39,
   "metadata": {
    "colab": {
     "base_uri": "https://localhost:8080/"
    },
    "executionInfo": {
     "elapsed": 331,
     "status": "ok",
     "timestamp": 1636950804666,
     "user": {
      "displayName": "Minkyu Kwon",
      "photoUrl": "https://lh3.googleusercontent.com/a/default-user=s64",
      "userId": "08202342554901369599"
     },
     "user_tz": -540
    },
    "id": "rL_OM6MhwnDV",
    "outputId": "aebd4232-bc67-4e9f-cc1f-eba0fd6e4515"
   },
   "outputs": [
    {
     "name": "stdout",
     "output_type": "stream",
     "text": [
      "{4, 5}\n"
     ]
    }
   ],
   "source": [
    "s1 = { 1,2,3,4,5}\n",
    "s2 = {4,5,6,7,8,9,10}\n",
    "# 교집합 메서드\n",
    "print(s1.intersection(s2))\n"
   ]
  },
  {
   "cell_type": "code",
   "execution_count": 40,
   "metadata": {
    "colab": {
     "base_uri": "https://localhost:8080/"
    },
    "executionInfo": {
     "elapsed": 320,
     "status": "ok",
     "timestamp": 1636950829042,
     "user": {
      "displayName": "Minkyu Kwon",
      "photoUrl": "https://lh3.googleusercontent.com/a/default-user=s64",
      "userId": "08202342554901369599"
     },
     "user_tz": -540
    },
    "id": "DHCnQHBawnFy",
    "outputId": "57be6a53-cf73-494d-b792-253784dd9384"
   },
   "outputs": [
    {
     "name": "stdout",
     "output_type": "stream",
     "text": [
      "{4, 5}\n"
     ]
    }
   ],
   "source": [
    "\n",
    "print(s1 & s2)"
   ]
  },
  {
   "cell_type": "code",
   "execution_count": 42,
   "metadata": {
    "colab": {
     "base_uri": "https://localhost:8080/",
     "height": 177
    },
    "executionInfo": {
     "elapsed": 310,
     "status": "error",
     "timestamp": 1636950840427,
     "user": {
      "displayName": "Minkyu Kwon",
      "photoUrl": "https://lh3.googleusercontent.com/a/default-user=s64",
      "userId": "08202342554901369599"
     },
     "user_tz": -540
    },
    "id": "ulVF2kPnwnKg",
    "outputId": "04f8bc5d-e5b8-4296-99a5-15ee1f20e6e4"
   },
   "outputs": [
    {
     "ename": "TypeError",
     "evalue": "ignored",
     "output_type": "error",
     "traceback": [
      "\u001b[0;31m---------------------------------------------------------------------------\u001b[0m",
      "\u001b[0;31mTypeError\u001b[0m                                 Traceback (most recent call last)",
      "\u001b[0;32m<ipython-input-42-0074d39de00d>\u001b[0m in \u001b[0;36m<module>\u001b[0;34m()\u001b[0m\n\u001b[0;32m----> 1\u001b[0;31m \u001b[0ms1\u001b[0m\u001b[0;34m.\u001b[0m\u001b[0mintersection\u001b[0m\u001b[0;34m(\u001b[0m\u001b[0ms2\u001b[0m\u001b[0;34m)\u001b[0m\u001b[0;34m[\u001b[0m\u001b[0;36m0\u001b[0m\u001b[0;34m]\u001b[0m\u001b[0;34m\u001b[0m\u001b[0;34m\u001b[0m\u001b[0m\n\u001b[0m",
      "\u001b[0;31mTypeError\u001b[0m: 'set' object is not subscriptable"
     ]
    }
   ],
   "source": [
    "s1.intersection(s2)[0]"
   ]
  },
  {
   "cell_type": "code",
   "execution_count": 43,
   "metadata": {
    "colab": {
     "base_uri": "https://localhost:8080/"
    },
    "executionInfo": {
     "elapsed": 320,
     "status": "ok",
     "timestamp": 1636950914363,
     "user": {
      "displayName": "Minkyu Kwon",
      "photoUrl": "https://lh3.googleusercontent.com/a/default-user=s64",
      "userId": "08202342554901369599"
     },
     "user_tz": -540
    },
    "id": "ew1RsMtj36GG",
    "outputId": "dc998746-6e6f-40d6-a17f-0891c8eeb1f4"
   },
   "outputs": [
    {
     "name": "stdout",
     "output_type": "stream",
     "text": [
      "{1, 2, 3}\n"
     ]
    }
   ],
   "source": [
    "s1 = { 1,2,3,4,5}\n",
    "s2 = {4,5,6,7,8,9,10}\n",
    "# 차집합 메서드\n",
    "print(s1.difference(s2))"
   ]
  },
  {
   "cell_type": "code",
   "execution_count": 44,
   "metadata": {
    "colab": {
     "base_uri": "https://localhost:8080/"
    },
    "executionInfo": {
     "elapsed": 277,
     "status": "ok",
     "timestamp": 1636950924759,
     "user": {
      "displayName": "Minkyu Kwon",
      "photoUrl": "https://lh3.googleusercontent.com/a/default-user=s64",
      "userId": "08202342554901369599"
     },
     "user_tz": -540
    },
    "id": "v92HeMZY36LL",
    "outputId": "4cafb007-aec6-4627-a971-3b77184c1e12"
   },
   "outputs": [
    {
     "name": "stdout",
     "output_type": "stream",
     "text": [
      "{6, 7, 8, 9, 10}\n"
     ]
    }
   ],
   "source": [
    "print(s2.difference(s1))"
   ]
  },
  {
   "cell_type": "code",
   "execution_count": 45,
   "metadata": {
    "colab": {
     "base_uri": "https://localhost:8080/"
    },
    "executionInfo": {
     "elapsed": 331,
     "status": "ok",
     "timestamp": 1636950972089,
     "user": {
      "displayName": "Minkyu Kwon",
      "photoUrl": "https://lh3.googleusercontent.com/a/default-user=s64",
      "userId": "08202342554901369599"
     },
     "user_tz": -540
    },
    "id": "O3c6UFib36OB",
    "outputId": "b2a80b19-58ab-40a9-e60c-a3e107c18ab3"
   },
   "outputs": [
    {
     "data": {
      "text/plain": [
       "True"
      ]
     },
     "execution_count": 45,
     "metadata": {},
     "output_type": "execute_result"
    }
   ],
   "source": [
    "s1 = { 1,2,3,4,5}\n",
    "s2 = {5,4,3,2,1,1,1,1,1,2,2,2,3,4,4,4} \n",
    "s1 == s2"
   ]
  },
  {
   "cell_type": "code",
   "execution_count": 48,
   "metadata": {
    "executionInfo": {
     "elapsed": 277,
     "status": "ok",
     "timestamp": 1636951065333,
     "user": {
      "displayName": "Minkyu Kwon",
      "photoUrl": "https://lh3.googleusercontent.com/a/default-user=s64",
      "userId": "08202342554901369599"
     },
     "user_tz": -540
    },
    "id": "76R76QzO4kaz"
   },
   "outputs": [],
   "source": [
    "p1 = [\"leo\", \"kiki\", \"eden\"]\n",
    "c1 = [\"eden\", \"kiki\"]"
   ]
  },
  {
   "cell_type": "code",
   "execution_count": 50,
   "metadata": {
    "executionInfo": {
     "elapsed": 330,
     "status": "ok",
     "timestamp": 1636951108131,
     "user": {
      "displayName": "Minkyu Kwon",
      "photoUrl": "https://lh3.googleusercontent.com/a/default-user=s64",
      "userId": "08202342554901369599"
     },
     "user_tz": -540
    },
    "id": "bLVNCDVf41nF"
   },
   "outputs": [],
   "source": [
    "set_p1 = set(p1)\n",
    "set_c1 = set(c1)"
   ]
  },
  {
   "cell_type": "code",
   "execution_count": 55,
   "metadata": {
    "colab": {
     "base_uri": "https://localhost:8080/",
     "height": 36
    },
    "executionInfo": {
     "elapsed": 312,
     "status": "ok",
     "timestamp": 1636951231860,
     "user": {
      "displayName": "Minkyu Kwon",
      "photoUrl": "https://lh3.googleusercontent.com/a/default-user=s64",
      "userId": "08202342554901369599"
     },
     "user_tz": -540
    },
    "id": "fNHKMrLQ4kf5",
    "outputId": "d51075f8-7389-467c-e3f5-cf9a305755f8"
   },
   "outputs": [
    {
     "data": {
      "application/vnd.google.colaboratory.intrinsic+json": {
       "type": "string"
      },
      "text/plain": [
       "'leo'"
      ]
     },
     "execution_count": 55,
     "metadata": {},
     "output_type": "execute_result"
    }
   ],
   "source": [
    "list(set_p1.difference(set_c1))[0]"
   ]
  },
  {
   "cell_type": "code",
   "execution_count": 70,
   "metadata": {
    "executionInfo": {
     "elapsed": 288,
     "status": "ok",
     "timestamp": 1636952134883,
     "user": {
      "displayName": "Minkyu Kwon",
      "photoUrl": "https://lh3.googleusercontent.com/a/default-user=s64",
      "userId": "08202342554901369599"
     },
     "user_tz": -540
    },
    "id": "y1xCHOI65Jlf"
   },
   "outputs": [],
   "source": [
    "def solution(participant, completion):\n",
    "    answer = ''\n",
    "    ################\n",
    "    set_p1 = set(participant)\n",
    "    set_c1 = set(completion)\n",
    "    answer = str(list(set_p1.difference(set_c1))[0])\n",
    "    ################\n",
    "    return answer"
   ]
  },
  {
   "cell_type": "code",
   "execution_count": 57,
   "metadata": {
    "colab": {
     "base_uri": "https://localhost:8080/",
     "height": 36
    },
    "executionInfo": {
     "elapsed": 287,
     "status": "ok",
     "timestamp": 1636951388274,
     "user": {
      "displayName": "Minkyu Kwon",
      "photoUrl": "https://lh3.googleusercontent.com/a/default-user=s64",
      "userId": "08202342554901369599"
     },
     "user_tz": -540
    },
    "id": "Tb-mE3Sc5Jqy",
    "outputId": "a481e5d0-e4f2-449b-d89f-df19ada5c833"
   },
   "outputs": [
    {
     "data": {
      "application/vnd.google.colaboratory.intrinsic+json": {
       "type": "string"
      },
      "text/plain": [
       "'leo'"
      ]
     },
     "execution_count": 57,
     "metadata": {},
     "output_type": "execute_result"
    }
   ],
   "source": [
    "solution([\"leo\", \"kiki\", \"eden\"], [\"eden\", \"kiki\"])"
   ]
  },
  {
   "cell_type": "code",
   "execution_count": 58,
   "metadata": {
    "colab": {
     "base_uri": "https://localhost:8080/",
     "height": 36
    },
    "executionInfo": {
     "elapsed": 275,
     "status": "ok",
     "timestamp": 1636951408465,
     "user": {
      "displayName": "Minkyu Kwon",
      "photoUrl": "https://lh3.googleusercontent.com/a/default-user=s64",
      "userId": "08202342554901369599"
     },
     "user_tz": -540
    },
    "id": "KJCI-5bk5Jtp",
    "outputId": "aa3963c1-7856-4487-f370-bb181f01ccbf"
   },
   "outputs": [
    {
     "data": {
      "application/vnd.google.colaboratory.intrinsic+json": {
       "type": "string"
      },
      "text/plain": [
       "'vinko'"
      ]
     },
     "execution_count": 58,
     "metadata": {},
     "output_type": "execute_result"
    }
   ],
   "source": [
    "solution([\"marina\", \"josipa\", \"nikola\", \"vinko\", \"filipa\"],[\"josipa\", \"filipa\", \"marina\", \"nikola\"]\n",
    "         )"
   ]
  },
  {
   "cell_type": "code",
   "execution_count": 71,
   "metadata": {
    "colab": {
     "base_uri": "https://localhost:8080/",
     "height": 309
    },
    "executionInfo": {
     "elapsed": 283,
     "status": "error",
     "timestamp": 1636952151622,
     "user": {
      "displayName": "Minkyu Kwon",
      "photoUrl": "https://lh3.googleusercontent.com/a/default-user=s64",
      "userId": "08202342554901369599"
     },
     "user_tz": -540
    },
    "id": "mMdDCHAi80lY",
    "outputId": "02e70126-4387-4173-a3b6-d33f6a123d11"
   },
   "outputs": [
    {
     "ename": "IndexError",
     "evalue": "ignored",
     "output_type": "error",
     "traceback": [
      "\u001b[0;31m---------------------------------------------------------------------------\u001b[0m",
      "\u001b[0;31mIndexError\u001b[0m                                Traceback (most recent call last)",
      "\u001b[0;32m<ipython-input-71-5512d48cb4db>\u001b[0m in \u001b[0;36m<module>\u001b[0;34m()\u001b[0m\n\u001b[0;32m----> 1\u001b[0;31m \u001b[0msolution\u001b[0m\u001b[0;34m(\u001b[0m\u001b[0;34m[\u001b[0m\u001b[0;34m\"mislav\"\u001b[0m\u001b[0;34m,\u001b[0m \u001b[0;34m\"stanko\"\u001b[0m\u001b[0;34m,\u001b[0m \u001b[0;34m\"mislav\"\u001b[0m\u001b[0;34m,\u001b[0m \u001b[0;34m\"ana\"\u001b[0m\u001b[0;34m]\u001b[0m\u001b[0;34m,\u001b[0m\u001b[0;34m[\u001b[0m\u001b[0;34m\"stanko\"\u001b[0m\u001b[0;34m,\u001b[0m \u001b[0;34m\"ana\"\u001b[0m\u001b[0;34m,\u001b[0m \u001b[0;34m\"mislav\"\u001b[0m\u001b[0;34m]\u001b[0m \u001b[0;34m)\u001b[0m\u001b[0;34m\u001b[0m\u001b[0;34m\u001b[0m\u001b[0m\n\u001b[0m",
      "\u001b[0;32m<ipython-input-70-d76fe9908242>\u001b[0m in \u001b[0;36msolution\u001b[0;34m(participant, completion)\u001b[0m\n\u001b[1;32m      4\u001b[0m     \u001b[0mset_p1\u001b[0m \u001b[0;34m=\u001b[0m \u001b[0mset\u001b[0m\u001b[0;34m(\u001b[0m\u001b[0mparticipant\u001b[0m\u001b[0;34m)\u001b[0m\u001b[0;34m\u001b[0m\u001b[0;34m\u001b[0m\u001b[0m\n\u001b[1;32m      5\u001b[0m     \u001b[0mset_c1\u001b[0m \u001b[0;34m=\u001b[0m \u001b[0mset\u001b[0m\u001b[0;34m(\u001b[0m\u001b[0mcompletion\u001b[0m\u001b[0;34m)\u001b[0m\u001b[0;34m\u001b[0m\u001b[0;34m\u001b[0m\u001b[0m\n\u001b[0;32m----> 6\u001b[0;31m     \u001b[0manswer\u001b[0m \u001b[0;34m=\u001b[0m \u001b[0mstr\u001b[0m\u001b[0;34m(\u001b[0m\u001b[0mlist\u001b[0m\u001b[0;34m(\u001b[0m\u001b[0mset_p1\u001b[0m\u001b[0;34m.\u001b[0m\u001b[0mdifference\u001b[0m\u001b[0;34m(\u001b[0m\u001b[0mset_c1\u001b[0m\u001b[0;34m)\u001b[0m\u001b[0;34m)\u001b[0m\u001b[0;34m[\u001b[0m\u001b[0;36m0\u001b[0m\u001b[0;34m]\u001b[0m\u001b[0;34m)\u001b[0m\u001b[0;34m\u001b[0m\u001b[0;34m\u001b[0m\u001b[0m\n\u001b[0m\u001b[1;32m      7\u001b[0m     \u001b[0;31m################\u001b[0m\u001b[0;34m\u001b[0m\u001b[0;34m\u001b[0m\u001b[0;34m\u001b[0m\u001b[0m\n\u001b[1;32m      8\u001b[0m     \u001b[0;32mreturn\u001b[0m \u001b[0manswer\u001b[0m\u001b[0;34m\u001b[0m\u001b[0;34m\u001b[0m\u001b[0m\n",
      "\u001b[0;31mIndexError\u001b[0m: list index out of range"
     ]
    }
   ],
   "source": [
    "solution([\"mislav\", \"stanko\", \"mislav\", \"ana\"],[\"stanko\", \"ana\", \"mislav\"] )"
   ]
  },
  {
   "cell_type": "code",
   "execution_count": null,
   "metadata": {
    "id": "QRUPFunc6MCs"
   },
   "outputs": [],
   "source": [
    "##### Dict를 이용해서 위의 문제를 풀어보자~~~"
   ]
  },
  {
   "cell_type": "code",
   "execution_count": 59,
   "metadata": {
    "colab": {
     "base_uri": "https://localhost:8080/"
    },
    "executionInfo": {
     "elapsed": 310,
     "status": "ok",
     "timestamp": 1636951550533,
     "user": {
      "displayName": "Minkyu Kwon",
      "photoUrl": "https://lh3.googleusercontent.com/a/default-user=s64",
      "userId": "08202342554901369599"
     },
     "user_tz": -540
    },
    "id": "JFQ6czC66hiG",
    "outputId": "8cc1585a-54c7-450b-d6bb-7ea9d1610012"
   },
   "outputs": [
    {
     "data": {
      "text/plain": [
       "{'a': 123, 'b': 345}"
      ]
     },
     "execution_count": 59,
     "metadata": {},
     "output_type": "execute_result"
    }
   ],
   "source": [
    "a = {}\n",
    "a[\"a\"] = 123\n",
    "a[\"b\"] = 345\n",
    "a"
   ]
  },
  {
   "cell_type": "code",
   "execution_count": 60,
   "metadata": {
    "executionInfo": {
     "elapsed": 2,
     "status": "ok",
     "timestamp": 1636951567595,
     "user": {
      "displayName": "Minkyu Kwon",
      "photoUrl": "https://lh3.googleusercontent.com/a/default-user=s64",
      "userId": "08202342554901369599"
     },
     "user_tz": -540
    },
    "id": "KyczFHPK6nbY"
   },
   "outputs": [],
   "source": [
    "a[\"a\"] = 345"
   ]
  },
  {
   "cell_type": "code",
   "execution_count": 61,
   "metadata": {
    "colab": {
     "base_uri": "https://localhost:8080/"
    },
    "executionInfo": {
     "elapsed": 287,
     "status": "ok",
     "timestamp": 1636951570468,
     "user": {
      "displayName": "Minkyu Kwon",
      "photoUrl": "https://lh3.googleusercontent.com/a/default-user=s64",
      "userId": "08202342554901369599"
     },
     "user_tz": -540
    },
    "id": "dVQ9jPdE6neM",
    "outputId": "f86b81dd-d64f-4161-d884-261e31bfb4ef"
   },
   "outputs": [
    {
     "data": {
      "text/plain": [
       "{'a': 345, 'b': 345}"
      ]
     },
     "execution_count": 61,
     "metadata": {},
     "output_type": "execute_result"
    }
   ],
   "source": [
    "a"
   ]
  },
  {
   "cell_type": "code",
   "execution_count": 73,
   "metadata": {
    "executionInfo": {
     "elapsed": 264,
     "status": "ok",
     "timestamp": 1636952268280,
     "user": {
      "displayName": "Minkyu Kwon",
      "photoUrl": "https://lh3.googleusercontent.com/a/default-user=s64",
      "userId": "08202342554901369599"
     },
     "user_tz": -540
    },
    "id": "9H0v6Ns66MFX"
   },
   "outputs": [],
   "source": [
    "def solution(participant, completion):\n",
    "    answer = ''\n",
    "    members = {}\n",
    "    for p_name in participant:\n",
    "        if p_name in members: # 동명 이인인 경우에는 값을 +1을 더 추가..Update\n",
    "            members[p_name] += 1\n",
    "        else:         # 동명 이인이 아닌 경우 새로운 이름 : Insert\n",
    "            members[p_name] = 1 \n",
    "    # 완주자들을 빼가면 될 듯..\n",
    "    for c_name in completion:\n",
    "        if members[c_name] == 1 : # 동명이인이 아닌 참가자 중 완주했다면..\n",
    "            del members[c_name]\n",
    "        else : # 동명이인 중 완주한 사람이 있다면...\n",
    "            members[c_name] -=1\n",
    "    answer = str(list(members.keys())[0])\n",
    "\n",
    "    return answer"
   ]
  },
  {
   "cell_type": "code",
   "execution_count": 74,
   "metadata": {
    "colab": {
     "base_uri": "https://localhost:8080/",
     "height": 36
    },
    "executionInfo": {
     "elapsed": 277,
     "status": "ok",
     "timestamp": 1636952276877,
     "user": {
      "displayName": "Minkyu Kwon",
      "photoUrl": "https://lh3.googleusercontent.com/a/default-user=s64",
      "userId": "08202342554901369599"
     },
     "user_tz": -540
    },
    "id": "22M9K9l_9Xba",
    "outputId": "99e04259-91a9-4f0d-9b83-9b56e2246cfc"
   },
   "outputs": [
    {
     "data": {
      "application/vnd.google.colaboratory.intrinsic+json": {
       "type": "string"
      },
      "text/plain": [
       "'mislav'"
      ]
     },
     "execution_count": 74,
     "metadata": {},
     "output_type": "execute_result"
    }
   ],
   "source": [
    "solution([\"mislav\", \"stanko\", \"mislav\", \"ana\"],[\"stanko\", \"ana\", \"mislav\"] )"
   ]
  },
  {
   "cell_type": "code",
   "execution_count": 63,
   "metadata": {
    "colab": {
     "base_uri": "https://localhost:8080/"
    },
    "executionInfo": {
     "elapsed": 280,
     "status": "ok",
     "timestamp": 1636952011474,
     "user": {
      "displayName": "Minkyu Kwon",
      "photoUrl": "https://lh3.googleusercontent.com/a/default-user=s64",
      "userId": "08202342554901369599"
     },
     "user_tz": -540
    },
    "id": "UUOHHs8x6MH2",
    "outputId": "69e45808-f31f-4d78-ffd3-316d90fb3427"
   },
   "outputs": [
    {
     "data": {
      "text/plain": [
       "{}"
      ]
     },
     "execution_count": 63,
     "metadata": {},
     "output_type": "execute_result"
    }
   ],
   "source": [
    "a = {}\n",
    "a"
   ]
  },
  {
   "cell_type": "markdown",
   "metadata": {
    "id": "t_jCX19x8WfB"
   },
   "source": []
  },
  {
   "cell_type": "code",
   "execution_count": 64,
   "metadata": {
    "colab": {
     "base_uri": "https://localhost:8080/"
    },
    "executionInfo": {
     "elapsed": 300,
     "status": "ok",
     "timestamp": 1636952029382,
     "user": {
      "displayName": "Minkyu Kwon",
      "photoUrl": "https://lh3.googleusercontent.com/a/default-user=s64",
      "userId": "08202342554901369599"
     },
     "user_tz": -540
    },
    "id": "MJ-5DvB_6MKW",
    "outputId": "5c09adc9-ea58-44ef-b889-93a0a5c10d3e"
   },
   "outputs": [
    {
     "data": {
      "text/plain": [
       "{'mislav': 1}"
      ]
     },
     "execution_count": 64,
     "metadata": {},
     "output_type": "execute_result"
    }
   ],
   "source": [
    "a[\"mislav\"] = 1\n",
    "a"
   ]
  },
  {
   "cell_type": "code",
   "execution_count": 65,
   "metadata": {
    "executionInfo": {
     "elapsed": 269,
     "status": "ok",
     "timestamp": 1636952041405,
     "user": {
      "displayName": "Minkyu Kwon",
      "photoUrl": "https://lh3.googleusercontent.com/a/default-user=s64",
      "userId": "08202342554901369599"
     },
     "user_tz": -540
    },
    "id": "BMmMtVsS4kiP"
   },
   "outputs": [],
   "source": [
    "a[\"stanko\"] = 1"
   ]
  },
  {
   "cell_type": "code",
   "execution_count": 67,
   "metadata": {
    "colab": {
     "base_uri": "https://localhost:8080/"
    },
    "executionInfo": {
     "elapsed": 274,
     "status": "ok",
     "timestamp": 1636952071153,
     "user": {
      "displayName": "Minkyu Kwon",
      "photoUrl": "https://lh3.googleusercontent.com/a/default-user=s64",
      "userId": "08202342554901369599"
     },
     "user_tz": -540
    },
    "id": "UQg3N84I8e9B",
    "outputId": "521cd245-a55e-43bd-a9b1-768a86d65ae7"
   },
   "outputs": [
    {
     "data": {
      "text/plain": [
       "{'mislav': 2, 'stanko': 1}"
      ]
     },
     "execution_count": 67,
     "metadata": {},
     "output_type": "execute_result"
    }
   ],
   "source": [
    "a[\"mislav\"] = 1+ 1\n",
    "a"
   ]
  },
  {
   "cell_type": "code",
   "execution_count": 68,
   "metadata": {
    "colab": {
     "base_uri": "https://localhost:8080/"
    },
    "executionInfo": {
     "elapsed": 290,
     "status": "ok",
     "timestamp": 1636952084685,
     "user": {
      "displayName": "Minkyu Kwon",
      "photoUrl": "https://lh3.googleusercontent.com/a/default-user=s64",
      "userId": "08202342554901369599"
     },
     "user_tz": -540
    },
    "id": "NPYX6clQ8nwB",
    "outputId": "5b685ffa-bbe4-41b4-ea1d-39461081106d"
   },
   "outputs": [
    {
     "data": {
      "text/plain": [
       "{'ana': 1, 'mislav': 2, 'stanko': 1}"
      ]
     },
     "execution_count": 68,
     "metadata": {},
     "output_type": "execute_result"
    }
   ],
   "source": [
    "a[\"ana\"] = 1\n",
    "a"
   ]
  },
  {
   "cell_type": "code",
   "execution_count": 69,
   "metadata": {
    "colab": {
     "base_uri": "https://localhost:8080/"
    },
    "executionInfo": {
     "elapsed": 268,
     "status": "ok",
     "timestamp": 1636952115757,
     "user": {
      "displayName": "Minkyu Kwon",
      "photoUrl": "https://lh3.googleusercontent.com/a/default-user=s64",
      "userId": "08202342554901369599"
     },
     "user_tz": -540
    },
    "id": "crf0i7QV8s3W",
    "outputId": "e39ad55f-cf0c-45a5-9a16-18b220f1c011"
   },
   "outputs": [
    {
     "data": {
      "text/plain": [
       "{'ana': 1, 'mislav': 2}"
      ]
     },
     "execution_count": 69,
     "metadata": {},
     "output_type": "execute_result"
    }
   ],
   "source": [
    "del a[\"stanko\"]\n",
    "a"
   ]
  },
  {
   "cell_type": "code",
   "execution_count": null,
   "metadata": {
    "id": "zmZWg0S2F8lX"
   },
   "outputs": [],
   "source": []
  },
  {
   "cell_type": "markdown",
   "metadata": {
    "id": "f28vgpd_F-f1"
   },
   "source": [
    "의상 문제"
   ]
  },
  {
   "cell_type": "code",
   "execution_count": 6,
   "metadata": {
    "executionInfo": {
     "elapsed": 354,
     "status": "ok",
     "timestamp": 1636955456767,
     "user": {
      "displayName": "Minkyu Kwon",
      "photoUrl": "https://lh3.googleusercontent.com/a/default-user=s64",
      "userId": "08202342554901369599"
     },
     "user_tz": -540
    },
    "id": "1WzsV2GlF9sT"
   },
   "outputs": [],
   "source": [
    "def solution(clothes):\n",
    "    answer = 0\n",
    "    ##################\n",
    "    answer = 1 \n",
    "    cloth_dict = {} # key : 종류 -> value : 이름들..but 원소는 여러개도 가능: list\n",
    "    for name, category in clothes: # 입력 원소들에 대해서..\n",
    "        if category not in  cloth_dict: # 새로운 카테고리/...\n",
    "            cloth_dict[category] = [ name ]   # value 쪽을 리스트로 하려고 하니 name이 아님!!![name]으로~~\n",
    "        else:   # 이미 카테고리는 기존에 있는 것...다만, 이름만 새로운 것..\n",
    "            cloth_dict[category].append(name)\n",
    "\n",
    "    print(cloth_dict)\n",
    "    for k, v in cloth_dict.items():\n",
    "        print(v, len(v))\n",
    "        answer *= (len(v)+1)\n",
    "    answer -= 1\n",
    "    ##################\n",
    "    return answer"
   ]
  },
  {
   "cell_type": "code",
   "execution_count": 7,
   "metadata": {
    "colab": {
     "base_uri": "https://localhost:8080/"
    },
    "executionInfo": {
     "elapsed": 274,
     "status": "ok",
     "timestamp": 1636955479060,
     "user": {
      "displayName": "Minkyu Kwon",
      "photoUrl": "https://lh3.googleusercontent.com/a/default-user=s64",
      "userId": "08202342554901369599"
     },
     "user_tz": -540
    },
    "id": "-MgN39ViJg9R",
    "outputId": "d39e35ad-14dd-484b-c826-83fd31305d28"
   },
   "outputs": [
    {
     "name": "stdout",
     "output_type": "stream",
     "text": [
      "{'headgear': ['yellowhat', 'green_turban'], 'eyewear': ['bluesunglasses']}\n",
      "['yellowhat', 'green_turban'] 2\n",
      "['bluesunglasses'] 1\n"
     ]
    },
    {
     "data": {
      "text/plain": [
       "5"
      ]
     },
     "execution_count": 7,
     "metadata": {},
     "output_type": "execute_result"
    }
   ],
   "source": [
    "solution([[\"yellowhat\", \"headgear\"], [\"bluesunglasses\", \"eyewear\"], [\"green_turban\", \"headgear\"]])"
   ]
  },
  {
   "cell_type": "code",
   "execution_count": 3,
   "metadata": {
    "colab": {
     "base_uri": "https://localhost:8080/"
    },
    "executionInfo": {
     "elapsed": 313,
     "status": "ok",
     "timestamp": 1636955507059,
     "user": {
      "displayName": "Minkyu Kwon",
      "photoUrl": "https://lh3.googleusercontent.com/a/default-user=s64",
      "userId": "08202342554901369599"
     },
     "user_tz": -540
    },
    "id": "4A5ZNF6eJmrM",
    "outputId": "9ef9c97e-e411-4a1b-e953-0ef6d69db59e"
   },
   "outputs": [
    {
     "data": {
      "text/plain": [
       "3"
      ]
     },
     "execution_count": 3,
     "metadata": {},
     "output_type": "execute_result"
    }
   ],
   "source": [
    "solution([[\"crowmask\", \"face\"], [\"bluesunglasses\", \"face\"], [\"smoky_makeup\", \"face\"]])"
   ]
  },
  {
   "cell_type": "code",
   "execution_count": 82,
   "metadata": {
    "colab": {
     "base_uri": "https://localhost:8080/"
    },
    "executionInfo": {
     "elapsed": 323,
     "status": "ok",
     "timestamp": 1636955350569,
     "user": {
      "displayName": "Minkyu Kwon",
      "photoUrl": "https://lh3.googleusercontent.com/a/default-user=s64",
      "userId": "08202342554901369599"
     },
     "user_tz": -540
    },
    "id": "Tb_vW8u4F8n3",
    "outputId": "60b49c40-1a81-4456-d2c4-3a98b640061a"
   },
   "outputs": [
    {
     "data": {
      "text/plain": [
       "{'eyewear': ['bluesunglasses'], 'headgear': ['yellowhat', 'green_turban']}"
      ]
     },
     "execution_count": 82,
     "metadata": {},
     "output_type": "execute_result"
    }
   ],
   "source": [
    "b = {}\n",
    "b[\"headgear\"] = [\"yellowhat\"]\n",
    "b[\"eyewear\"] = [\"bluesunglasses\"]\n",
    "b[\"headgear\"].append(\"green_turban\")\n",
    "b"
   ]
  },
  {
   "cell_type": "code",
   "execution_count": 76,
   "metadata": {
    "colab": {
     "base_uri": "https://localhost:8080/"
    },
    "executionInfo": {
     "elapsed": 282,
     "status": "ok",
     "timestamp": 1636954914618,
     "user": {
      "displayName": "Minkyu Kwon",
      "photoUrl": "https://lh3.googleusercontent.com/a/default-user=s64",
      "userId": "08202342554901369599"
     },
     "user_tz": -540
    },
    "id": "QQNF20elF8qr",
    "outputId": "7a6eaf72-9d90-4229-d816-8ffc9e2a725d"
   },
   "outputs": [
    {
     "name": "stdout",
     "output_type": "stream",
     "text": [
      "yellowhat ---- headgear\n",
      "bluesunglasses ---- eyewear\n",
      "green_turban ---- headgear\n"
     ]
    }
   ],
   "source": [
    "a = [[\"yellowhat\", \"headgear\"], [\"bluesunglasses\", \"eyewear\"], [\"green_turban\", \"headgear\"]]\n",
    "for i,j in a:\n",
    "    print(i, \"----\",j)"
   ]
  },
  {
   "cell_type": "code",
   "execution_count": 78,
   "metadata": {
    "colab": {
     "base_uri": "https://localhost:8080/"
    },
    "executionInfo": {
     "elapsed": 505,
     "status": "ok",
     "timestamp": 1636955122186,
     "user": {
      "displayName": "Minkyu Kwon",
      "photoUrl": "https://lh3.googleusercontent.com/a/default-user=s64",
      "userId": "08202342554901369599"
     },
     "user_tz": -540
    },
    "id": "5-Wh01mVHgZM",
    "outputId": "ef56a621-ebb7-48d7-b801-2fec384db3a2"
   },
   "outputs": [
    {
     "name": "stdout",
     "output_type": "stream",
     "text": [
      "aaa --- [1, 2, 3, 4]\n",
      "bbb --- [345]\n"
     ]
    }
   ],
   "source": [
    "a = {\"aaa\":[1,2,3,4], \"bbb\":[345]}\n",
    "for k, v in a.items():\n",
    "    print(k, \"---\",v)"
   ]
  },
  {
   "cell_type": "code",
   "execution_count": 80,
   "metadata": {
    "executionInfo": {
     "elapsed": 357,
     "status": "ok",
     "timestamp": 1636955199980,
     "user": {
      "displayName": "Minkyu Kwon",
      "photoUrl": "https://lh3.googleusercontent.com/a/default-user=s64",
      "userId": "08202342554901369599"
     },
     "user_tz": -540
    },
    "id": "kLLS0NFdHge8"
   },
   "outputs": [],
   "source": [
    "a[\"aaa\"].append(5)"
   ]
  },
  {
   "cell_type": "code",
   "execution_count": 81,
   "metadata": {
    "colab": {
     "base_uri": "https://localhost:8080/"
    },
    "executionInfo": {
     "elapsed": 295,
     "status": "ok",
     "timestamp": 1636955203718,
     "user": {
      "displayName": "Minkyu Kwon",
      "photoUrl": "https://lh3.googleusercontent.com/a/default-user=s64",
      "userId": "08202342554901369599"
     },
     "user_tz": -540
    },
    "id": "N-EwFY_NIiEn",
    "outputId": "eace6302-82a0-44da-8047-feea3f353fc1"
   },
   "outputs": [
    {
     "data": {
      "text/plain": [
       "{'aaa': [1, 2, 3, 4, 5], 'bbb': [345]}"
      ]
     },
     "execution_count": 81,
     "metadata": {},
     "output_type": "execute_result"
    }
   ],
   "source": [
    "a"
   ]
  }
 ],
 "metadata": {
  "colab": {
   "authorship_tag": "ABX9TyOUo7nfWpZ5J8aVSFNo5kfy",
   "name": "20211115",
   "provenance": []
  },
  "kernelspec": {
   "display_name": "Python 3",
   "language": "python",
   "name": "python3"
  },
  "language_info": {
   "codemirror_mode": {
    "name": "ipython",
    "version": 3
   },
   "file_extension": ".py",
   "mimetype": "text/x-python",
   "name": "python",
   "nbconvert_exporter": "python",
   "pygments_lexer": "ipython3",
   "version": "3.8.8"
  }
 },
 "nbformat": 4,
 "nbformat_minor": 1
}
