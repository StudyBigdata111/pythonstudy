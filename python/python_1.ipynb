{
 "cells": [
  {
   "cell_type": "markdown",
   "id": "9f6a933e",
   "metadata": {},
   "source": [
    "## Hello, world! 출력\n",
    "print 함수로 Hello, world!를 출력합니다"
   ]
  },
  {
   "cell_type": "code",
   "execution_count": 1,
   "id": "c80f9fc8",
   "metadata": {},
   "outputs": [
    {
     "name": "stdout",
     "output_type": "stream",
     "text": [
      "hello\n"
     ]
    }
   ],
   "source": [
    "print(\"hello\")"
   ]
  },
  {
   "cell_type": "code",
   "execution_count": 2,
   "id": "4a398032",
   "metadata": {},
   "outputs": [
    {
     "ename": "ImportError",
     "evalue": "cannot import name 'BeatutifulSoup' from 'bs4' (C:\\Users\\TFG5076XG\\anaconda3\\lib\\site-packages\\bs4\\__init__.py)",
     "output_type": "error",
     "traceback": [
      "\u001b[1;31m---------------------------------------------------------------------------\u001b[0m",
      "\u001b[1;31mImportError\u001b[0m                               Traceback (most recent call last)",
      "\u001b[1;32m<ipython-input-2-34fa1f9f48d5>\u001b[0m in \u001b[0;36m<module>\u001b[1;34m\u001b[0m\n\u001b[1;32m----> 1\u001b[1;33m \u001b[1;32mfrom\u001b[0m \u001b[0mbs4\u001b[0m \u001b[1;32mimport\u001b[0m \u001b[0mBeatutifulSoup\u001b[0m\u001b[1;33m\u001b[0m\u001b[1;33m\u001b[0m\u001b[0m\n\u001b[0m\u001b[0;32m      2\u001b[0m \u001b[1;33m\u001b[0m\u001b[0m\n\u001b[0;32m      3\u001b[0m \u001b[1;32mimport\u001b[0m \u001b[0mbs4\u001b[0m\u001b[1;33m.\u001b[0m\u001b[0mtests\u001b[0m\u001b[1;33m\u001b[0m\u001b[1;33m\u001b[0m\u001b[0m\n",
      "\u001b[1;31mImportError\u001b[0m: cannot import name 'BeatutifulSoup' from 'bs4' (C:\\Users\\TFG5076XG\\anaconda3\\lib\\site-packages\\bs4\\__init__.py)"
     ]
    }
   ],
   "source": [
    "from bs4 import BeatutifulSoup\n",
    "\n",
    "import bs4.tests"
   ]
  },
  {
   "cell_type": "code",
   "execution_count": 1,
   "id": "ca24b0f9",
   "metadata": {},
   "outputs": [
    {
     "name": "stdout",
     "output_type": "stream",
     "text": [
      "3\n"
     ]
    }
   ],
   "source": [
    "a = 3\n",
    "print(a)"
   ]
  },
  {
   "cell_type": "code",
   "execution_count": 2,
   "id": "48706b7e",
   "metadata": {},
   "outputs": [
    {
     "name": "stdout",
     "output_type": "stream",
     "text": [
      "a\n",
      "1\n"
     ]
    }
   ],
   "source": [
    "a = \"a\"\n",
    "A = \"1\"\n",
    "print(a)\n",
    "print(A)"
   ]
  },
  {
   "cell_type": "code",
   "execution_count": 5,
   "id": "fe87292e",
   "metadata": {},
   "outputs": [
    {
     "name": "stdout",
     "output_type": "stream",
     "text": [
      "a\n"
     ]
    }
   ],
   "source": [
    "print (a)"
   ]
  },
  {
   "cell_type": "code",
   "execution_count": 6,
   "id": "ff4c1814",
   "metadata": {},
   "outputs": [
    {
     "data": {
      "text/plain": [
       "str"
      ]
     },
     "execution_count": 6,
     "metadata": {},
     "output_type": "execute_result"
    }
   ],
   "source": [
    "type(a)"
   ]
  },
  {
   "cell_type": "code",
   "execution_count": 7,
   "id": "2d69a608",
   "metadata": {},
   "outputs": [
    {
     "name": "stdout",
     "output_type": "stream",
     "text": [
      "<class 'str'>\n"
     ]
    }
   ],
   "source": [
    "print(type(a))"
   ]
  },
  {
   "cell_type": "code",
   "execution_count": 9,
   "id": "5ba01608",
   "metadata": {},
   "outputs": [
    {
     "name": "stdout",
     "output_type": "stream",
     "text": [
      "<class 'int'>\n",
      "<class 'float'>\n",
      "<class 'str'>\n"
     ]
    }
   ],
   "source": [
    "a = 3\n",
    "print(type(a))\n",
    "a = 3.11111\n",
    "print(type(a))\n",
    "a = \"1234\"\n",
    "print(type(a))"
   ]
  },
  {
   "cell_type": "code",
   "execution_count": 10,
   "id": "007727fb",
   "metadata": {},
   "outputs": [
    {
     "name": "stdout",
     "output_type": "stream",
     "text": [
      "1.6666666666666667\n",
      "1\n",
      "2\n"
     ]
    }
   ],
   "source": [
    "print(5/3)\n",
    "print(5//3)\n",
    "print(5 % 3)"
   ]
  },
  {
   "cell_type": "code",
   "execution_count": 11,
   "id": "9d36c427",
   "metadata": {},
   "outputs": [
    {
     "name": "stdout",
     "output_type": "stream",
     "text": [
      "125\n"
     ]
    }
   ],
   "source": [
    "print(5**3)"
   ]
  },
  {
   "cell_type": "code",
   "execution_count": 12,
   "id": "57c57911",
   "metadata": {},
   "outputs": [
    {
     "data": {
      "text/plain": [
       "2"
      ]
     },
     "execution_count": 12,
     "metadata": {},
     "output_type": "execute_result"
    }
   ],
   "source": [
    "a = 3\n",
    "b = 2\n",
    "a & b"
   ]
  },
  {
   "cell_type": "code",
   "execution_count": 13,
   "id": "4f56d473",
   "metadata": {},
   "outputs": [
    {
     "name": "stdout",
     "output_type": "stream",
     "text": [
      "2\n"
     ]
    }
   ],
   "source": [
    "print(a & b)"
   ]
  },
  {
   "cell_type": "code",
   "execution_count": 14,
   "id": "da358103",
   "metadata": {},
   "outputs": [
    {
     "name": "stdout",
     "output_type": "stream",
     "text": [
      "3\n"
     ]
    }
   ],
   "source": [
    "print(a)"
   ]
  },
  {
   "cell_type": "code",
   "execution_count": 15,
   "id": "74f6fd6d",
   "metadata": {},
   "outputs": [
    {
     "name": "stdout",
     "output_type": "stream",
     "text": [
      "2\n"
     ]
    }
   ],
   "source": [
    "print(b)"
   ]
  },
  {
   "cell_type": "code",
   "execution_count": 16,
   "id": "840ba1ff",
   "metadata": {},
   "outputs": [
    {
     "name": "stdout",
     "output_type": "stream",
     "text": [
      "False\n"
     ]
    }
   ],
   "source": [
    "print(a==b)"
   ]
  },
  {
   "cell_type": "code",
   "execution_count": 17,
   "id": "0132a447",
   "metadata": {},
   "outputs": [
    {
     "name": "stdout",
     "output_type": "stream",
     "text": [
      "3\n"
     ]
    }
   ],
   "source": [
    "print(a|b)"
   ]
  },
  {
   "cell_type": "code",
   "execution_count": 18,
   "id": "9d914640",
   "metadata": {},
   "outputs": [
    {
     "name": "stdout",
     "output_type": "stream",
     "text": [
      "False\n"
     ]
    }
   ],
   "source": [
    "print(a==3 & b ==2)"
   ]
  },
  {
   "cell_type": "code",
   "execution_count": 19,
   "id": "e45b9e1a",
   "metadata": {},
   "outputs": [
    {
     "name": "stdout",
     "output_type": "stream",
     "text": [
      "True\n"
     ]
    }
   ],
   "source": [
    "print(a == 3)"
   ]
  },
  {
   "cell_type": "code",
   "execution_count": 20,
   "id": "81d38d3c",
   "metadata": {},
   "outputs": [
    {
     "name": "stdout",
     "output_type": "stream",
     "text": [
      "True\n"
     ]
    }
   ],
   "source": [
    "print(b == 2)"
   ]
  },
  {
   "cell_type": "code",
   "execution_count": 21,
   "id": "524bc9b2",
   "metadata": {},
   "outputs": [
    {
     "name": "stdout",
     "output_type": "stream",
     "text": [
      "False\n"
     ]
    }
   ],
   "source": [
    "print(a == 3 | b == 2)"
   ]
  },
  {
   "cell_type": "code",
   "execution_count": 23,
   "id": "24cd83d7",
   "metadata": {},
   "outputs": [
    {
     "name": "stdout",
     "output_type": "stream",
     "text": [
      "True\n"
     ]
    }
   ],
   "source": [
    "print (a == 3 and b == 2)"
   ]
  },
  {
   "cell_type": "code",
   "execution_count": 24,
   "id": "282f46a1",
   "metadata": {},
   "outputs": [
    {
     "name": "stdout",
     "output_type": "stream",
     "text": [
      "ac \"helloe\" bd\n"
     ]
    }
   ],
   "source": [
    "a = 'aaaa'\n",
    "b = \"abcd\"\n",
    "c = '''ac \"helloe\" bd'''\n",
    "print(c)"
   ]
  },
  {
   "cell_type": "code",
   "execution_count": 25,
   "id": "6ce2197e",
   "metadata": {},
   "outputs": [
    {
     "name": "stdout",
     "output_type": "stream",
     "text": [
      " \"WJAT!\"\" \n"
     ]
    }
   ],
   "source": [
    "c = \"\"\" \"WJAT!\"\\\" \"\"\"\n",
    "print(c)"
   ]
  },
  {
   "cell_type": "code",
   "execution_count": 27,
   "id": "1330fb18",
   "metadata": {},
   "outputs": [
    {
     "data": {
      "text/plain": [
       "[10, 20, 30, 'abd', [1, 2, 3]]"
      ]
     },
     "execution_count": 27,
     "metadata": {},
     "output_type": "execute_result"
    }
   ],
   "source": [
    "[10, 20, 30, 'abd', [1, 2, 3]]"
   ]
  },
  {
   "cell_type": "code",
   "execution_count": 28,
   "id": "10ecaf12",
   "metadata": {},
   "outputs": [
    {
     "data": {
      "text/plain": [
       "'aaa'"
      ]
     },
     "execution_count": 28,
     "metadata": {},
     "output_type": "execute_result"
    }
   ],
   "source": [
    "# 슬라이싱~~~ 시작 : 끝 : 간격\n",
    "a[0:3]"
   ]
  },
  {
   "cell_type": "code",
   "execution_count": 29,
   "id": "3e0ff351",
   "metadata": {},
   "outputs": [
    {
     "name": "stdout",
     "output_type": "stream",
     "text": [
      "[1, 2, 3, 'abcd']\n"
     ]
    }
   ],
   "source": [
    "a_list = [1,2,3,\"abcd\"]\n",
    "print(a_list)"
   ]
  },
  {
   "cell_type": "code",
   "execution_count": 30,
   "id": "41bca847",
   "metadata": {},
   "outputs": [
    {
     "name": "stdout",
     "output_type": "stream",
     "text": [
      "[1, 2, 3, 'abcd', 'a']\n"
     ]
    }
   ],
   "source": [
    "a_list.append(\"a\")\n",
    "print(a_list)"
   ]
  },
  {
   "cell_type": "code",
   "execution_count": 31,
   "id": "6f44ba1e",
   "metadata": {},
   "outputs": [
    {
     "name": "stdout",
     "output_type": "stream",
     "text": [
      "[1, 2, 'b', 3, 'abcd', 'a']\n"
     ]
    }
   ],
   "source": [
    "a_list.insert(2,\"b\")\n",
    "print(a_list)"
   ]
  },
  {
   "cell_type": "code",
   "execution_count": 33,
   "id": "1add3997",
   "metadata": {},
   "outputs": [
    {
     "name": "stdout",
     "output_type": "stream",
     "text": [
      "[1, 2, 'b', 3, 'abcd', 'a']\n",
      "[1, 2, 'b', 'abcd', 'a']\n"
     ]
    }
   ],
   "source": [
    "print (a_list)\n",
    "a_list.pop(3)\n",
    "print (a_list)"
   ]
  },
  {
   "cell_type": "code",
   "execution_count": 34,
   "id": "79ac41fe",
   "metadata": {},
   "outputs": [
    {
     "name": "stdout",
     "output_type": "stream",
     "text": [
      "[1, 2, 'b', 'abcd', 'a']\n"
     ]
    }
   ],
   "source": [
    "print(a_list)"
   ]
  },
  {
   "cell_type": "code",
   "execution_count": 35,
   "id": "8cced370",
   "metadata": {},
   "outputs": [
    {
     "name": "stdout",
     "output_type": "stream",
     "text": [
      "[2, 'b', 'abcd', 'a']\n"
     ]
    }
   ],
   "source": [
    "a_list.remove(1)\n",
    "print(a_list)"
   ]
  },
  {
   "cell_type": "code",
   "execution_count": 36,
   "id": "3eb3fcd9",
   "metadata": {},
   "outputs": [
    {
     "data": {
      "text/plain": [
       "['b', 'a']"
      ]
     },
     "execution_count": 36,
     "metadata": {},
     "output_type": "execute_result"
    }
   ],
   "source": [
    "a_list[1::2]"
   ]
  },
  {
   "cell_type": "code",
   "execution_count": 37,
   "id": "dc4e7aa8",
   "metadata": {},
   "outputs": [
    {
     "name": "stdout",
     "output_type": "stream",
     "text": [
      "['b', 'a']\n"
     ]
    }
   ],
   "source": [
    "print(a_list[1::2])"
   ]
  },
  {
   "cell_type": "code",
   "execution_count": 39,
   "id": "4bf7f8e4",
   "metadata": {},
   "outputs": [
    {
     "name": "stdout",
     "output_type": "stream",
     "text": [
      "['b', 'abcd', 'a']\n"
     ]
    }
   ],
   "source": [
    "print(a_list[1::1])"
   ]
  },
  {
   "cell_type": "code",
   "execution_count": 40,
   "id": "55d7cdae",
   "metadata": {},
   "outputs": [
    {
     "name": "stdout",
     "output_type": "stream",
     "text": [
      "['b']\n"
     ]
    }
   ],
   "source": [
    "print(a_list[1::3])"
   ]
  },
  {
   "cell_type": "code",
   "execution_count": 41,
   "id": "848ff645",
   "metadata": {},
   "outputs": [
    {
     "name": "stdout",
     "output_type": "stream",
     "text": [
      "['b']\n"
     ]
    }
   ],
   "source": [
    "print(a_list[1::4])"
   ]
  },
  {
   "cell_type": "code",
   "execution_count": 42,
   "id": "3321e31d",
   "metadata": {},
   "outputs": [
    {
     "name": "stdout",
     "output_type": "stream",
     "text": [
      "[2, 'b', 'abcd', 'a']\n"
     ]
    }
   ],
   "source": [
    "print(a_list[0::1])"
   ]
  },
  {
   "cell_type": "code",
   "execution_count": 49,
   "id": "c35e10db",
   "metadata": {},
   "outputs": [
    {
     "name": "stdout",
     "output_type": "stream",
     "text": [
      "[2, 'a']\n"
     ]
    }
   ],
   "source": [
    "print(a_list[0::3])"
   ]
  },
  {
   "cell_type": "code",
   "execution_count": 44,
   "id": "a19a6b28",
   "metadata": {},
   "outputs": [
    {
     "name": "stdout",
     "output_type": "stream",
     "text": [
      "[2, 'abcd']\n"
     ]
    }
   ],
   "source": [
    "print(a_list[0::2])"
   ]
  },
  {
   "cell_type": "code",
   "execution_count": 45,
   "id": "d00524b6",
   "metadata": {},
   "outputs": [
    {
     "name": "stdout",
     "output_type": "stream",
     "text": [
      "[2]\n"
     ]
    }
   ],
   "source": [
    "print(a_list[0::4])"
   ]
  },
  {
   "cell_type": "code",
   "execution_count": 46,
   "id": "df35e002",
   "metadata": {},
   "outputs": [
    {
     "name": "stdout",
     "output_type": "stream",
     "text": [
      "[2, 'b', 'abcd', 'a']\n"
     ]
    }
   ],
   "source": [
    "print(a_list[::1])"
   ]
  },
  {
   "cell_type": "code",
   "execution_count": 47,
   "id": "a6d85e3e",
   "metadata": {},
   "outputs": [
    {
     "name": "stdout",
     "output_type": "stream",
     "text": [
      "['a', 'abcd', 'b', 2]\n"
     ]
    }
   ],
   "source": [
    "print(a_list[::-1])"
   ]
  },
  {
   "cell_type": "code",
   "execution_count": 48,
   "id": "0834e234",
   "metadata": {},
   "outputs": [
    {
     "ename": "NameError",
     "evalue": "name '키' is not defined",
     "output_type": "error",
     "traceback": [
      "\u001b[1;31m---------------------------------------------------------------------------\u001b[0m",
      "\u001b[1;31mNameError\u001b[0m                                 Traceback (most recent call last)",
      "\u001b[1;32m<ipython-input-48-5df6bbe0726b>\u001b[0m in \u001b[0;36m<module>\u001b[1;34m\u001b[0m\n\u001b[1;32m----> 1\u001b[1;33m \u001b[0ma_dict\u001b[0m \u001b[1;33m=\u001b[0m \u001b[1;33m{\u001b[0m\u001b[0m키\u001b[0m \u001b[1;33m:\u001b[0m \u001b[0m값\u001b[0m\u001b[1;33m,\u001b[0m \u001b[0m키2\u001b[0m \u001b[1;33m:\u001b[0m \u001b[0m값2\u001b[0m\u001b[1;33m}\u001b[0m\u001b[1;33m\u001b[0m\u001b[1;33m\u001b[0m\u001b[0m\n\u001b[0m",
      "\u001b[1;31mNameError\u001b[0m: name '키' is not defined"
     ]
    }
   ],
   "source": [
    "a_dict = {키 : 값, 키2 : 값2}"
   ]
  },
  {
   "cell_type": "code",
   "execution_count": 51,
   "id": "ce554dc7",
   "metadata": {},
   "outputs": [],
   "source": [
    "a_dict = {'a':1234, 'b':5678}"
   ]
  },
  {
   "cell_type": "code",
   "execution_count": 52,
   "id": "39aa54cd",
   "metadata": {},
   "outputs": [
    {
     "name": "stdout",
     "output_type": "stream",
     "text": [
      "{'a': 1234, 'b': 5678}\n"
     ]
    }
   ],
   "source": [
    "print(a_dict)"
   ]
  },
  {
   "cell_type": "code",
   "execution_count": 53,
   "id": "45310444",
   "metadata": {},
   "outputs": [
    {
     "data": {
      "text/plain": [
       "dict_keys(['a', 'b'])"
      ]
     },
     "execution_count": 53,
     "metadata": {},
     "output_type": "execute_result"
    }
   ],
   "source": [
    "a_dict.keys()"
   ]
  },
  {
   "cell_type": "code",
   "execution_count": 54,
   "id": "232650f6",
   "metadata": {},
   "outputs": [
    {
     "name": "stdout",
     "output_type": "stream",
     "text": [
      "dict_keys(['a', 'b'])\n"
     ]
    }
   ],
   "source": [
    "print(a_dict.keys())"
   ]
  },
  {
   "cell_type": "code",
   "execution_count": 57,
   "id": "4329c4fe",
   "metadata": {},
   "outputs": [
    {
     "name": "stdout",
     "output_type": "stream",
     "text": [
      "dict_values([1234, 5678])\n"
     ]
    }
   ],
   "source": [
    "print(a_dict.values())"
   ]
  },
  {
   "cell_type": "code",
   "execution_count": 58,
   "id": "6f21e00d",
   "metadata": {},
   "outputs": [
    {
     "name": "stdout",
     "output_type": "stream",
     "text": [
      "1234\n"
     ]
    }
   ],
   "source": [
    "print(a_dict[\"a\"])"
   ]
  },
  {
   "cell_type": "code",
   "execution_count": 59,
   "id": "66fe89f1",
   "metadata": {},
   "outputs": [
    {
     "name": "stdout",
     "output_type": "stream",
     "text": [
      "0\n",
      "1\n",
      "2\n",
      "3\n"
     ]
    }
   ],
   "source": [
    "for i in range(0, 4, 1):\n",
    "    print(i)"
   ]
  },
  {
   "cell_type": "code",
   "execution_count": 60,
   "id": "d3d7aa41",
   "metadata": {},
   "outputs": [
    {
     "name": "stdout",
     "output_type": "stream",
     "text": [
      "a\n",
      "b\n",
      "c\n"
     ]
    }
   ],
   "source": [
    "for i in [\"a\", \"b\", \"c\"]:\n",
    "    print(i)"
   ]
  },
  {
   "cell_type": "code",
   "execution_count": 67,
   "id": "636c9230",
   "metadata": {},
   "outputs": [
    {
     "name": "stdout",
     "output_type": "stream",
     "text": [
      "['a', 'b', 'd', 'f', 'g', 'i']\n"
     ]
    }
   ],
   "source": [
    "a = [\"a\", \"b\", \"c\", \"d\", \"f\", \"g\", \"c\", \"i\"]\n",
    "# -> c원소만 제거를 해서...\n",
    "# b = [ \"a\", \"b\", \"d\", \"f\", \"g\", \"i\"]\n",
    "\n",
    "# 1) a의 모든 원소를 돌아가면서.... -> 값, 정수 인덱스\n",
    "# 2) \"C\"인지 아닌지 비교..\n",
    "# 3) \"C\" 이냐, 아니냐에 따라서~~~~~~~\n",
    "b = []\n",
    "for i in a:\n",
    "     if i != \"c\":\n",
    "         b.append(i)\n",
    "     \n",
    "print(b)\n",
    "         "
   ]
  },
  {
   "cell_type": "code",
   "execution_count": 68,
   "id": "213d956b",
   "metadata": {},
   "outputs": [
    {
     "name": "stdout",
     "output_type": "stream",
     "text": [
      "['a', 'b', 'c', 'd', 'f', 'g', 'c', 'i']\n",
      "['a', 'b', 'd', 'f', 'g', 'i']\n"
     ]
    }
   ],
   "source": [
    "print(a)\n",
    "print(b)"
   ]
  },
  {
   "cell_type": "code",
   "execution_count": 69,
   "id": "4598db64",
   "metadata": {},
   "outputs": [
    {
     "name": "stdout",
     "output_type": "stream",
     "text": [
      "a\n",
      "b\n",
      "c\n",
      "d\n",
      "f\n",
      "g\n",
      "c\n",
      "i\n"
     ]
    }
   ],
   "source": [
    "for i in range(0, len(a)):\n",
    "    print(a[i])"
   ]
  },
  {
   "cell_type": "code",
   "execution_count": 70,
   "id": "6a4e9398",
   "metadata": {},
   "outputs": [
    {
     "name": "stdout",
     "output_type": "stream",
     "text": [
      "a\n",
      "b\n",
      "d\n",
      "f\n",
      "g\n",
      "i\n"
     ]
    }
   ],
   "source": [
    "for i in range(0, len(a)):\n",
    "    if(a[i] != \"c\"):\n",
    "        print(a[i])"
   ]
  },
  {
   "cell_type": "code",
   "execution_count": 71,
   "id": "6d001de1",
   "metadata": {},
   "outputs": [
    {
     "name": "stdout",
     "output_type": "stream",
     "text": [
      "a\n",
      "b\n",
      "d\n",
      "f\n",
      "g\n",
      "i\n"
     ]
    }
   ],
   "source": [
    "for i in range(0, len(a)):\n",
    "    if a[i] != \"c\":\n",
    "        print(a[i])"
   ]
  },
  {
   "cell_type": "code",
   "execution_count": 72,
   "id": "031f5543",
   "metadata": {},
   "outputs": [],
   "source": [
    "b = []\n",
    "for i in range(0, len(a)):\n",
    "    if a[i] != \"c\":\n",
    "        b.append(a[i])\n",
    "    else:\n",
    "        pass"
   ]
  },
  {
   "cell_type": "code",
   "execution_count": 73,
   "id": "8a740cd2",
   "metadata": {},
   "outputs": [
    {
     "data": {
      "text/plain": [
       "['a', 'b', 'd', 'f', 'g', 'i']"
      ]
     },
     "execution_count": 73,
     "metadata": {},
     "output_type": "execute_result"
    }
   ],
   "source": [
    "b"
   ]
  },
  {
   "cell_type": "code",
   "execution_count": 74,
   "id": "a62c8a06",
   "metadata": {},
   "outputs": [
    {
     "name": "stdout",
     "output_type": "stream",
     "text": [
      "['a', 'b', 'd', 'f', 'g', 'i']\n"
     ]
    }
   ],
   "source": [
    "b = []\n",
    "for i in range(0, len(a)):\n",
    "    if a[i] != \"c\":\n",
    "        b.append(a[i])\n",
    "    else:\n",
    "        pass\n",
    "print(b)"
   ]
  },
  {
   "cell_type": "code",
   "execution_count": 76,
   "id": "741716bb",
   "metadata": {},
   "outputs": [],
   "source": [
    "a = [['a', 'b', 'c', 'd'], 'f', 'g', ['c'], 'i']"
   ]
  },
  {
   "cell_type": "code",
   "execution_count": 77,
   "id": "b0de6d6e",
   "metadata": {},
   "outputs": [
    {
     "data": {
      "text/plain": [
       "['a', 'b', 'c', 'd']"
      ]
     },
     "execution_count": 77,
     "metadata": {},
     "output_type": "execute_result"
    }
   ],
   "source": [
    "a[0]"
   ]
  },
  {
   "cell_type": "code",
   "execution_count": 78,
   "id": "82172bb0",
   "metadata": {},
   "outputs": [
    {
     "data": {
      "text/plain": [
       "'c'"
      ]
     },
     "execution_count": 78,
     "metadata": {},
     "output_type": "execute_result"
    }
   ],
   "source": [
    "a[0][2]"
   ]
  },
  {
   "cell_type": "code",
   "execution_count": 79,
   "id": "b7def1aa",
   "metadata": {},
   "outputs": [
    {
     "data": {
      "text/plain": [
       "'f'"
      ]
     },
     "execution_count": 79,
     "metadata": {},
     "output_type": "execute_result"
    }
   ],
   "source": [
    "a[1]"
   ]
  },
  {
   "cell_type": "code",
   "execution_count": 80,
   "id": "e0d84100",
   "metadata": {},
   "outputs": [
    {
     "name": "stdout",
     "output_type": "stream",
     "text": [
      "a\n",
      "b\n",
      "c\n",
      "d\n",
      "f\n",
      "g\n",
      "c\n",
      "i\n"
     ]
    }
   ],
   "source": [
    "for i in a:\n",
    "    for j in i:\n",
    "        print(j)"
   ]
  },
  {
   "cell_type": "code",
   "execution_count": 81,
   "id": "e22348b7",
   "metadata": {},
   "outputs": [
    {
     "data": {
      "text/plain": [
       "5"
      ]
     },
     "execution_count": 81,
     "metadata": {},
     "output_type": "execute_result"
    }
   ],
   "source": [
    "len(a)"
   ]
  },
  {
   "cell_type": "code",
   "execution_count": 101,
   "id": "1c9fc736",
   "metadata": {},
   "outputs": [
    {
     "name": "stdout",
     "output_type": "stream",
     "text": [
      "['a', 'b', 'd', 'f', 'g', 'i']\n",
      "['a', 'b', 'd', 'f', 'g', 'i']\n"
     ]
    }
   ],
   "source": [
    "# 1) 정수인덱스로 해보기\n",
    "b = []\n",
    "for i in range(0, len(a)):\n",
    "    for j in range(0, len(a[i])):\n",
    "        if a[i][j] != \"c\":\n",
    "            b.append(a[i][j])\n",
    "        else:\n",
    "            pass\n",
    "        \n",
    "print(b)\n",
    "\n",
    "\n",
    "# 2) 값 자체로 해보기... --> for\n",
    "b = []\n",
    "for i in a:\n",
    "    for j in i:\n",
    "        if j != \"c\":\n",
    "            b.append(j)\n",
    "        else:\n",
    "            pass\n",
    "        \n",
    "print(b)\n",
    "        "
   ]
  },
  {
   "cell_type": "code",
   "execution_count": 102,
   "id": "4db04b93",
   "metadata": {},
   "outputs": [
    {
     "name": "stdout",
     "output_type": "stream",
     "text": [
      "9\n",
      "9\n"
     ]
    }
   ],
   "source": [
    "print(1 + 3 + 5)\n",
    "print( sum([1, 3, 5]) )"
   ]
  },
  {
   "cell_type": "code",
   "execution_count": 105,
   "id": "448298fd",
   "metadata": {},
   "outputs": [
    {
     "name": "stdout",
     "output_type": "stream",
     "text": [
      "40\n",
      "40\n"
     ]
    }
   ],
   "source": [
    "# 입력, 출력, 입출관계!!!!\n",
    "def sum2( a, b ): # 입력은 2개, a/b --> 왜냐 + 하는데, 이는 이항연산자여서...\n",
    "    # 입력 : a, b, 출력 : result ---> 입/출력의 관계~~~~~~\n",
    "    result = a + b\n",
    "    return result # return : 출력!!!!\n",
    "\n",
    "print( sum2(10, 30) )\n",
    "print(10 + 30)"
   ]
  },
  {
   "cell_type": "code",
   "execution_count": 106,
   "id": "2a098017",
   "metadata": {},
   "outputs": [
    {
     "name": "stdout",
     "output_type": "stream",
     "text": [
      "40\n"
     ]
    }
   ],
   "source": [
    "def multiple2( a, b):\n",
    "    result = a * b\n",
    "    return result\n",
    "\n",
    "print( multiple2(2, 20) )"
   ]
  },
  {
   "cell_type": "code",
   "execution_count": 107,
   "id": "0f5744f1",
   "metadata": {},
   "outputs": [
    {
     "name": "stdout",
     "output_type": "stream",
     "text": [
      "Hello\n"
     ]
    }
   ],
   "source": [
    "def noinput():\n",
    "    result = \"Hello\"\n",
    "    return result\n",
    "\n",
    "a = noinput()\n",
    "print(a)"
   ]
  },
  {
   "cell_type": "code",
   "execution_count": 109,
   "id": "8a929830",
   "metadata": {},
   "outputs": [
    {
     "name": "stdout",
     "output_type": "stream",
     "text": [
      "Hello 5\n",
      "None\n"
     ]
    }
   ],
   "source": [
    "def noreturn(a, b):\n",
    "    result = a + b\n",
    "    print(\"Hello \" + str(result))\n",
    "    \n",
    "a = noreturn(2, 3)\n",
    "print(a)"
   ]
  },
  {
   "cell_type": "code",
   "execution_count": 115,
   "id": "a794f805",
   "metadata": {},
   "outputs": [
    {
     "name": "stdout",
     "output_type": "stream",
     "text": [
      "21\n",
      "550\n"
     ]
    }
   ],
   "source": [
    "#def sumrandom( 몇개가 될 지 모르는 수들...):\n",
    "#    그 수들을 다 더해서....\n",
    "#    출력 : 그 더한 값을 내보내겠다..\n",
    "        \n",
    "def sumrandom( *args ):\n",
    "    result = 0\n",
    "    for i in args:\n",
    "        result += i     #result = result + i\n",
    "    return result\n",
    "\n",
    "print(sumrandom(1,2,3,4,5,6))\n",
    "print(sumrandom(10,20,30,40,50,60,70,80,90,100))"
   ]
  },
  {
   "cell_type": "code",
   "execution_count": 122,
   "id": "e230fd7d",
   "metadata": {},
   "outputs": [
    {
     "name": "stdout",
     "output_type": "stream",
     "text": [
      "60\n",
      "3\n",
      "No func!\n"
     ]
    }
   ],
   "source": [
    "# 입력 : 내가 여러개의 숫자들, 대신, 몇 개일지는 미정...\n",
    "# ---> 그 입력 숫자들에 대해서 합도,,,, 몇 개인지도....\n",
    "# ---------------> 입력 : 기능(문자열로 \"sum\" / \"count\", 여러개의 숫자...)\n",
    "# aaa(\"sum\", 10, 20, 30) : 60\n",
    "# aaa(\"count\", 10, 20, 30) : 3\n",
    "    \n",
    "def myfunc(func, *args):\n",
    "    \n",
    "    if func == \"sum\":\n",
    "        result = 0\n",
    "        for i in args:\n",
    "            result += i\n",
    "        return result\n",
    "    elif func == \"count\":\n",
    "        return len(args)\n",
    "    else:\n",
    "        return \"No func!\"\n",
    "\n",
    "print(myfunc(\"sum\", 10, 20, 30))\n",
    "print(myfunc(\"count\", 10, 20, 30))\n",
    "print(myfunc(\"nono\", 10, 20 ,30))"
   ]
  },
  {
   "cell_type": "code",
   "execution_count": 123,
   "id": "9b9606e6",
   "metadata": {},
   "outputs": [
    {
     "name": "stdout",
     "output_type": "stream",
     "text": [
      "(50, 600, 0.6666666666666666, 70)\n"
     ]
    }
   ],
   "source": [
    "def multititi(a, b):\n",
    "    return a+b, a*b, a/b, a+b+20\n",
    "\n",
    "print(multititi(20, 30))"
   ]
  },
  {
   "cell_type": "code",
   "execution_count": 124,
   "id": "df109f8e",
   "metadata": {},
   "outputs": [],
   "source": [
    "#df[\"new_id\"] = df[\"id\"].apply(lambda x : str(x)[:3])\n",
    "\n",
    "#for i in range(0, len(df)):\n",
    "#    df.iat[1, 0] = ~~~~~"
   ]
  },
  {
   "cell_type": "code",
   "execution_count": 128,
   "id": "4090bd5d",
   "metadata": {},
   "outputs": [
    {
     "name": "stdout",
     "output_type": "stream",
     "text": [
      "30\n",
      "30\n"
     ]
    }
   ],
   "source": [
    "def sum2(a, b):\n",
    "    return a + b\n",
    "\n",
    "print( sum2(10, 20) )\n",
    "\n",
    "print( (lambda x, y: x + y)(10, 20) )"
   ]
  },
  {
   "cell_type": "code",
   "execution_count": 134,
   "id": "6cc7f964",
   "metadata": {},
   "outputs": [
    {
     "name": "stdout",
     "output_type": "stream",
     "text": [
      "30\n",
      "25\n",
      "30.0\n",
      "25.0\n"
     ]
    }
   ],
   "source": [
    "# 실습) 몇 개의 입력이 들어올지(단, 숫자로) 모르는 상황에서,\n",
    "# 입력한 값들에 대한 평균값을 계산하여 출력하는 함수를 만들어 보세요.\n",
    "# mean 이런 함수 사용하시지 마시구요~\n",
    "def mean2( *args ):\n",
    "    sum = 0\n",
    "    for i in args:\n",
    "        sum += i\n",
    "    ave = sum // len(args)\n",
    "    return ave\n",
    "\n",
    "print(mean2(10, 30, 50))\n",
    "print(mean2(20, 30))\n",
    "\n",
    "def mymean(*args):\n",
    "    #sum, 곱\n",
    "    result = 0\n",
    "    cnt = 0\n",
    "    for i in args:\n",
    "        result += i\n",
    "        cnt += 1\n",
    "    return result/cnt\n",
    "\n",
    "print(mymean(10, 30, 50))\n",
    "print(mymean(20, 30))"
   ]
  },
  {
   "cell_type": "code",
   "execution_count": 8,
   "id": "96f7b173",
   "metadata": {},
   "outputs": [
    {
     "name": "stdout",
     "output_type": "stream",
     "text": [
      "dict_items([('A', 30), ('B', 40)])\n",
      "A\n",
      "30\n",
      "-----\n",
      "B\n",
      "40\n",
      "-----\n"
     ]
    }
   ],
   "source": [
    "a = {'A':30,\"B\":40}\n",
    "print(a.items())\n",
    "for k, v in a.items():\n",
    "    print(k)\n",
    "    print(v)\n",
    "    print('-----')\n",
    "    \n"
   ]
  },
  {
   "cell_type": "code",
   "execution_count": 15,
   "id": "2454c675",
   "metadata": {},
   "outputs": [
    {
     "name": "stdout",
     "output_type": "stream",
     "text": [
      "[11, 12, 13, 14, 15]\n",
      "[11, 13, 15]\n",
      "1\n",
      "3\n",
      "5\n"
     ]
    }
   ],
   "source": [
    "a = [1,2,3,4,5]\n",
    "print([ i+10 for i in a])\n",
    "print([ i+10 for i in a if i not in [2,4]])\n",
    "for i in a:\n",
    "    if i not in [2,4]:\n",
    "        print(i)"
   ]
  },
  {
   "cell_type": "code",
   "execution_count": 16,
   "id": "922e7cdf",
   "metadata": {},
   "outputs": [
    {
     "name": "stdout",
     "output_type": "stream",
     "text": [
      "1\n",
      "2\n",
      "3\n"
     ]
    }
   ],
   "source": [
    "a = input()\n",
    "b = input()\n",
    "c = int(a)+int(b)\n",
    "print(c)"
   ]
  },
  {
   "cell_type": "code",
   "execution_count": 52,
   "id": "1b456bd6",
   "metadata": {},
   "outputs": [
    {
     "name": "stdout",
     "output_type": "stream",
     "text": [
      "2\n",
      "1 3\n",
      "3 4\n",
      "Case #1: 1 + 3 = 4\n",
      "Case #2: 3 + 4 = 7\n"
     ]
    }
   ],
   "source": [
    "import sys\n",
    "N, X = map(int, input().split())\n",
    "\n",
    "a = []\n",
    "for i in range(N):\n",
    "    a.append(int(input()))\n",
    "    \n",
    "for i in len(a):\n",
    "    print(i)"
   ]
  },
  {
   "cell_type": "code",
   "execution_count": 93,
   "id": "7881c7ac",
   "metadata": {},
   "outputs": [
    {
     "name": "stdout",
     "output_type": "stream",
     "text": [
      "10 5\n",
      "1 10 4 9 2 3 8 5 7 6\n",
      "1 4 2 3 \n"
     ]
    }
   ],
   "source": [
    "import sys\n",
    "n, x = map(int, input().split())\n",
    "\n",
    "a = input().split(\" \")\n",
    "    \n",
    "s = \"\"\n",
    "for i in a:\n",
    "    if int(i) < x:\n",
    "        s += str(i) + \" \"\n",
    "        \n",
    "print(s)"
   ]
  },
  {
   "cell_type": "code",
   "execution_count": 100,
   "id": "4b6d3ad0",
   "metadata": {},
   "outputs": [
    {
     "name": "stdout",
     "output_type": "stream",
     "text": [
      "5\n",
      "R R R R R\n",
      "1 2\n",
      "1 3\n",
      "1 4\n",
      "1 5\n",
      "5\n",
      "1 5\n"
     ]
    }
   ],
   "source": [
    "a = [1, 1]\n",
    "N = int(input())\n",
    "Move = input().upper().split(\" \")\n",
    "m = \"\"\n",
    "MoveDic = {\n",
    "    \"L\" : [0, -1],\n",
    "    \"R\" : [0, 1],\n",
    "    \"U\" : [-1, 0],\n",
    "    \"D\" : [1, 0]}\n",
    "\n",
    "for m in Move:\n",
    "    a[0] += MoveDic[m][0]\n",
    "    a[1] += MoveDic[m][1]\n",
    "    if a[0] > N:\n",
    "        a[0] = N\n",
    "    elif a[0] < 1:\n",
    "        a[0] = 1\n",
    "    if a[1] > N:\n",
    "        a[1] = N\n",
    "    elif a[1] < 1:\n",
    "        a[1] = 1\n",
    "\n",
    "    print(a[0],a[1])"
   ]
  },
  {
   "cell_type": "code",
   "execution_count": 30,
   "id": "7b5a5cf6",
   "metadata": {},
   "outputs": [
    {
     "name": "stdout",
     "output_type": "stream",
     "text": [
      "4\n",
      "9\n",
      "8\n",
      "[1, 2, 3, 7, 5, 6, 8, 9, 4]\n",
      "[4, 9, 8]\n"
     ]
    }
   ],
   "source": [
    "\n",
    "from random import randint\n",
    "\n",
    "a = []\n",
    "number = [1,2,3,4,5,6,7,8,9]\n",
    "numberSize = len(number)\n",
    "\n",
    "for j in range(0, 3):\n",
    "    numberSize -= 1\n",
    "    i = randint(0, numberSize)\n",
    "    print(number[i])\n",
    "    a.append(number[i])    \n",
    "    tmp = number[numberSize]\n",
    "    number[numberSize] = number[i]\n",
    "    number[i] = tmp\n",
    "\n",
    "print(number)\n",
    "print(a)"
   ]
  },
  {
   "cell_type": "code",
   "execution_count": 36,
   "id": "c28ab727",
   "metadata": {},
   "outputs": [],
   "source": [
    "import pymysql\n"
   ]
  },
  {
   "cell_type": "code",
   "execution_count": 38,
   "id": "576adc0b",
   "metadata": {},
   "outputs": [],
   "source": [
    "#mysql이 동작하고 있어야 함!!!\n",
    "mysql_con = pymysql.connect(\n",
    "    user = \"root\", #사용자 계정\n",
    "    passwd = \"1234\", # 계정에 대한 비번\n",
    "    host = \"127.0.0.1\", # 접속할 ip 주소\n",
    "    db = \"sqldb\", # db이름..\n",
    "    #port번호 생략..\n",
    "    charset = \"utf8\" # 데이타가 한글 일 때, 파이썬에서 안깨지고 보려고.....\n",
    ")"
   ]
  },
  {
   "cell_type": "code",
   "execution_count": 40,
   "id": "c4ece657",
   "metadata": {},
   "outputs": [],
   "source": [
    "#연결\n",
    "my_cursor = mysql_con.cursor(pymysql.cursors.DictCursor)"
   ]
  },
  {
   "cell_type": "code",
   "execution_count": 41,
   "id": "f6191372",
   "metadata": {},
   "outputs": [],
   "source": [
    "# 요청할 쿼리문을 문자열로!!! -> ; 까지 포함해서!!!!\n",
    "sql = \"select * from usertbl;\""
   ]
  },
  {
   "cell_type": "code",
   "execution_count": 48,
   "id": "b9b8c9fb",
   "metadata": {},
   "outputs": [
    {
     "data": {
      "text/plain": [
       "10"
      ]
     },
     "execution_count": 48,
     "metadata": {},
     "output_type": "execute_result"
    }
   ],
   "source": [
    "my_cursor.execute(sql)"
   ]
  },
  {
   "cell_type": "code",
   "execution_count": 49,
   "id": "57300a92",
   "metadata": {},
   "outputs": [],
   "source": [
    "result = my_cursor.fetchall()"
   ]
  },
  {
   "cell_type": "code",
   "execution_count": 50,
   "id": "42fde54f",
   "metadata": {},
   "outputs": [
    {
     "data": {
      "text/plain": [
       "[{'userID': 'BBK',\n",
       "  'name': '바비킴',\n",
       "  'birthYear': 1973,\n",
       "  'addr': '서울',\n",
       "  'mobile1': '010',\n",
       "  'mobile2': '0000000',\n",
       "  'height': 176,\n",
       "  'mDate': datetime.date(2013, 5, 5)},\n",
       " {'userID': 'EJW',\n",
       "  'name': '은지원',\n",
       "  'birthYear': 1972,\n",
       "  'addr': '경북',\n",
       "  'mobile1': '011',\n",
       "  'mobile2': '8888888',\n",
       "  'height': 174,\n",
       "  'mDate': datetime.date(2014, 3, 3)},\n",
       " {'userID': 'JKW',\n",
       "  'name': '조관우',\n",
       "  'birthYear': 1965,\n",
       "  'addr': '경기',\n",
       "  'mobile1': '018',\n",
       "  'mobile2': '9999999',\n",
       "  'height': 172,\n",
       "  'mDate': datetime.date(2010, 10, 10)},\n",
       " {'userID': 'JYP',\n",
       "  'name': '조용필',\n",
       "  'birthYear': 1950,\n",
       "  'addr': '경기',\n",
       "  'mobile1': '011',\n",
       "  'mobile2': '4444444',\n",
       "  'height': 166,\n",
       "  'mDate': datetime.date(2009, 4, 4)},\n",
       " {'userID': 'KBS',\n",
       "  'name': '김범수',\n",
       "  'birthYear': 1979,\n",
       "  'addr': '경남',\n",
       "  'mobile1': '011',\n",
       "  'mobile2': '2222222',\n",
       "  'height': 173,\n",
       "  'mDate': datetime.date(2012, 4, 4)},\n",
       " {'userID': 'KKH',\n",
       "  'name': '김경호',\n",
       "  'birthYear': 1971,\n",
       "  'addr': '전남',\n",
       "  'mobile1': '019',\n",
       "  'mobile2': '3333333',\n",
       "  'height': 177,\n",
       "  'mDate': datetime.date(2007, 7, 7)},\n",
       " {'userID': 'LJB',\n",
       "  'name': '임재범',\n",
       "  'birthYear': 1963,\n",
       "  'addr': '서울',\n",
       "  'mobile1': '016',\n",
       "  'mobile2': '666666',\n",
       "  'height': 182,\n",
       "  'mDate': datetime.date(2009, 9, 9)},\n",
       " {'userID': 'LSG',\n",
       "  'name': '이승기',\n",
       "  'birthYear': 1987,\n",
       "  'addr': '서울',\n",
       "  'mobile1': '011',\n",
       "  'mobile2': '111111',\n",
       "  'height': 182,\n",
       "  'mDate': datetime.date(2008, 8, 8)},\n",
       " {'userID': 'SSK',\n",
       "  'name': '성시경',\n",
       "  'birthYear': 1979,\n",
       "  'addr': '서울',\n",
       "  'mobile1': None,\n",
       "  'mobile2': None,\n",
       "  'height': 186,\n",
       "  'mDate': datetime.date(2013, 12, 12)},\n",
       " {'userID': 'YJS',\n",
       "  'name': '윤종신',\n",
       "  'birthYear': 1969,\n",
       "  'addr': '경남',\n",
       "  'mobile1': None,\n",
       "  'mobile2': None,\n",
       "  'height': 170,\n",
       "  'mDate': datetime.date(2005, 5, 5)}]"
      ]
     },
     "execution_count": 50,
     "metadata": {},
     "output_type": "execute_result"
    }
   ],
   "source": [
    "result"
   ]
  },
  {
   "cell_type": "code",
   "execution_count": 51,
   "id": "2f43af7b",
   "metadata": {},
   "outputs": [],
   "source": [
    "import pandas as pd"
   ]
  },
  {
   "cell_type": "code",
   "execution_count": 52,
   "id": "299e6986",
   "metadata": {},
   "outputs": [],
   "source": [
    "result_df = pd.DataFrame(result)"
   ]
  },
  {
   "cell_type": "code",
   "execution_count": 53,
   "id": "1cfdd851",
   "metadata": {},
   "outputs": [
    {
     "data": {
      "text/html": [
       "<div>\n",
       "<style scoped>\n",
       "    .dataframe tbody tr th:only-of-type {\n",
       "        vertical-align: middle;\n",
       "    }\n",
       "\n",
       "    .dataframe tbody tr th {\n",
       "        vertical-align: top;\n",
       "    }\n",
       "\n",
       "    .dataframe thead th {\n",
       "        text-align: right;\n",
       "    }\n",
       "</style>\n",
       "<table border=\"1\" class=\"dataframe\">\n",
       "  <thead>\n",
       "    <tr style=\"text-align: right;\">\n",
       "      <th></th>\n",
       "      <th>userID</th>\n",
       "      <th>name</th>\n",
       "      <th>birthYear</th>\n",
       "      <th>addr</th>\n",
       "      <th>mobile1</th>\n",
       "      <th>mobile2</th>\n",
       "      <th>height</th>\n",
       "      <th>mDate</th>\n",
       "    </tr>\n",
       "  </thead>\n",
       "  <tbody>\n",
       "    <tr>\n",
       "      <th>0</th>\n",
       "      <td>BBK</td>\n",
       "      <td>바비킴</td>\n",
       "      <td>1973</td>\n",
       "      <td>서울</td>\n",
       "      <td>010</td>\n",
       "      <td>0000000</td>\n",
       "      <td>176</td>\n",
       "      <td>2013-05-05</td>\n",
       "    </tr>\n",
       "    <tr>\n",
       "      <th>1</th>\n",
       "      <td>EJW</td>\n",
       "      <td>은지원</td>\n",
       "      <td>1972</td>\n",
       "      <td>경북</td>\n",
       "      <td>011</td>\n",
       "      <td>8888888</td>\n",
       "      <td>174</td>\n",
       "      <td>2014-03-03</td>\n",
       "    </tr>\n",
       "    <tr>\n",
       "      <th>2</th>\n",
       "      <td>JKW</td>\n",
       "      <td>조관우</td>\n",
       "      <td>1965</td>\n",
       "      <td>경기</td>\n",
       "      <td>018</td>\n",
       "      <td>9999999</td>\n",
       "      <td>172</td>\n",
       "      <td>2010-10-10</td>\n",
       "    </tr>\n",
       "    <tr>\n",
       "      <th>3</th>\n",
       "      <td>JYP</td>\n",
       "      <td>조용필</td>\n",
       "      <td>1950</td>\n",
       "      <td>경기</td>\n",
       "      <td>011</td>\n",
       "      <td>4444444</td>\n",
       "      <td>166</td>\n",
       "      <td>2009-04-04</td>\n",
       "    </tr>\n",
       "    <tr>\n",
       "      <th>4</th>\n",
       "      <td>KBS</td>\n",
       "      <td>김범수</td>\n",
       "      <td>1979</td>\n",
       "      <td>경남</td>\n",
       "      <td>011</td>\n",
       "      <td>2222222</td>\n",
       "      <td>173</td>\n",
       "      <td>2012-04-04</td>\n",
       "    </tr>\n",
       "    <tr>\n",
       "      <th>5</th>\n",
       "      <td>KKH</td>\n",
       "      <td>김경호</td>\n",
       "      <td>1971</td>\n",
       "      <td>전남</td>\n",
       "      <td>019</td>\n",
       "      <td>3333333</td>\n",
       "      <td>177</td>\n",
       "      <td>2007-07-07</td>\n",
       "    </tr>\n",
       "    <tr>\n",
       "      <th>6</th>\n",
       "      <td>LJB</td>\n",
       "      <td>임재범</td>\n",
       "      <td>1963</td>\n",
       "      <td>서울</td>\n",
       "      <td>016</td>\n",
       "      <td>666666</td>\n",
       "      <td>182</td>\n",
       "      <td>2009-09-09</td>\n",
       "    </tr>\n",
       "    <tr>\n",
       "      <th>7</th>\n",
       "      <td>LSG</td>\n",
       "      <td>이승기</td>\n",
       "      <td>1987</td>\n",
       "      <td>서울</td>\n",
       "      <td>011</td>\n",
       "      <td>111111</td>\n",
       "      <td>182</td>\n",
       "      <td>2008-08-08</td>\n",
       "    </tr>\n",
       "    <tr>\n",
       "      <th>8</th>\n",
       "      <td>SSK</td>\n",
       "      <td>성시경</td>\n",
       "      <td>1979</td>\n",
       "      <td>서울</td>\n",
       "      <td>None</td>\n",
       "      <td>None</td>\n",
       "      <td>186</td>\n",
       "      <td>2013-12-12</td>\n",
       "    </tr>\n",
       "    <tr>\n",
       "      <th>9</th>\n",
       "      <td>YJS</td>\n",
       "      <td>윤종신</td>\n",
       "      <td>1969</td>\n",
       "      <td>경남</td>\n",
       "      <td>None</td>\n",
       "      <td>None</td>\n",
       "      <td>170</td>\n",
       "      <td>2005-05-05</td>\n",
       "    </tr>\n",
       "  </tbody>\n",
       "</table>\n",
       "</div>"
      ],
      "text/plain": [
       "  userID name  birthYear addr mobile1  mobile2  height       mDate\n",
       "0    BBK  바비킴       1973   서울     010  0000000     176  2013-05-05\n",
       "1    EJW  은지원       1972   경북     011  8888888     174  2014-03-03\n",
       "2    JKW  조관우       1965   경기     018  9999999     172  2010-10-10\n",
       "3    JYP  조용필       1950   경기     011  4444444     166  2009-04-04\n",
       "4    KBS  김범수       1979   경남     011  2222222     173  2012-04-04\n",
       "5    KKH  김경호       1971   전남     019  3333333     177  2007-07-07\n",
       "6    LJB  임재범       1963   서울     016   666666     182  2009-09-09\n",
       "7    LSG  이승기       1987   서울     011   111111     182  2008-08-08\n",
       "8    SSK  성시경       1979   서울    None     None     186  2013-12-12\n",
       "9    YJS  윤종신       1969   경남    None     None     170  2005-05-05"
      ]
     },
     "execution_count": 53,
     "metadata": {},
     "output_type": "execute_result"
    }
   ],
   "source": [
    "result_df"
   ]
  },
  {
   "cell_type": "code",
   "execution_count": 55,
   "id": "3b629ca2",
   "metadata": {},
   "outputs": [
    {
     "name": "stdout",
     "output_type": "stream",
     "text": [
      "<class 'pandas.core.frame.DataFrame'>\n",
      "RangeIndex: 10 entries, 0 to 9\n",
      "Data columns (total 8 columns):\n",
      " #   Column     Non-Null Count  Dtype \n",
      "---  ------     --------------  ----- \n",
      " 0   userID     10 non-null     object\n",
      " 1   name       10 non-null     object\n",
      " 2   birthYear  10 non-null     int64 \n",
      " 3   addr       10 non-null     object\n",
      " 4   mobile1    8 non-null      object\n",
      " 5   mobile2    8 non-null      object\n",
      " 6   height     10 non-null     int64 \n",
      " 7   mDate      10 non-null     object\n",
      "dtypes: int64(2), object(6)\n",
      "memory usage: 768.0+ bytes\n"
     ]
    }
   ],
   "source": [
    "result_df.info()"
   ]
  },
  {
   "cell_type": "code",
   "execution_count": 5,
   "id": "601735f0",
   "metadata": {},
   "outputs": [
    {
     "name": "stdout",
     "output_type": "stream",
     "text": [
      "[0, 1, 2, 3, 4, 5, 6, 7, 8, 9, 10, 11, 12, 13, 14, 15, 16, 17, 18, 19]\n"
     ]
    },
    {
     "data": {
      "text/plain": [
       "[0, 1, 2, 3, 4, 5, 6, 7, 8, 9, 10, 11, 12, 13, 14, 15, 16, 17, 18, 19]"
      ]
     },
     "execution_count": 5,
     "metadata": {},
     "output_type": "execute_result"
    }
   ],
   "source": [
    "arr = []\n",
    "for i in range(20):\n",
    "    arr.append(i)\n",
    "print(arr)\n",
    "##################################\n",
    "arr = [ i for i in range(20)]\n",
    "arr"
   ]
  },
  {
   "cell_type": "code",
   "execution_count": 2,
   "id": "ad6da62a",
   "metadata": {},
   "outputs": [
    {
     "name": "stdout",
     "output_type": "stream",
     "text": [
      "[1, 3, 5, 7, 9, 11, 13, 15, 17, 19]\n"
     ]
    },
    {
     "data": {
      "text/plain": [
       "[1, 3, 5, 7, 9, 11, 13, 15, 17, 19]"
      ]
     },
     "execution_count": 2,
     "metadata": {},
     "output_type": "execute_result"
    }
   ],
   "source": [
    "arr = []\n",
    "for i in range(20):\n",
    "    if i % 2 ==1:\n",
    "        arr.append(i)\n",
    "    else:\n",
    "        pass\n",
    "print(arr)\n",
    "###############################\n",
    "arr = [ i for i in range(20) if i%2 ==1]\n",
    "arr"
   ]
  },
  {
   "cell_type": "code",
   "execution_count": 8,
   "id": "1be69efe",
   "metadata": {},
   "outputs": [
    {
     "name": "stdout",
     "output_type": "stream",
     "text": [
      "45\n",
      "hello\n",
      "hello\n",
      "hello\n",
      "hello\n",
      "hello\n",
      "hello\n",
      "hello\n",
      "hello\n",
      "hello\n"
     ]
    }
   ],
   "source": [
    "# for에서 i 의 값을 사용\n",
    "sum = 0\n",
    "for i in range(1, 10):\n",
    "    sum += i\n",
    "print(sum)\n",
    "####################################\n",
    "# 단순 반복횟수에 대해서\n",
    "for _ in range(1,10):\n",
    "    print(\"hello\")"
   ]
  },
  {
   "cell_type": "code",
   "execution_count": 9,
   "id": "e592ab9d",
   "metadata": {},
   "outputs": [
    {
     "name": "stdout",
     "output_type": "stream",
     "text": [
      "입력하세요1\n",
      "1\n"
     ]
    }
   ],
   "source": [
    "a = input(\"입력하세요\")\n",
    "print(a)"
   ]
  },
  {
   "cell_type": "code",
   "execution_count": 10,
   "id": "d66e6005",
   "metadata": {},
   "outputs": [
    {
     "name": "stdout",
     "output_type": "stream",
     "text": [
      "입력하세요10 20\n",
      "10\n",
      "20\n",
      "입력하세요10/20\n",
      "10\n",
      "20\n"
     ]
    }
   ],
   "source": [
    "######################################################################\n",
    "##### 2개의 입력에 대한 구분 : 공란\n",
    "a ,b = input(\"입력하세요\").split()\n",
    "print(a)\n",
    "print(b)\n",
    "######################################################################\n",
    "\n",
    "\n",
    "######################################################################\n",
    "##### 2개의 입력이 특정한 문자로 구분:\n",
    "a ,b = input(\"입력하세요\").split(\"/\")\n",
    "print(a)\n",
    "print(b)\n",
    "######################################################################"
   ]
  },
  {
   "cell_type": "code",
   "execution_count": 14,
   "id": "5a7a23c9",
   "metadata": {},
   "outputs": [
    {
     "name": "stdout",
     "output_type": "stream",
     "text": [
      "더하기를 할 두 수를 공란으로 입력하세요..1 2\n",
      "12\n"
     ]
    }
   ],
   "source": [
    "######################################################################\n",
    "# 문제 제기) 아래와 같이 하면 편할 것 같은데,,,안 되네;;;;\n",
    "# 이유는 input은 기본적으로 문자열로 받아서 처리를 하기 때문!!\n",
    "a, b = input(\"더하기를 할 두 수를 공란으로 입력하세요..\").split()\n",
    "print(a+b)\n",
    "######################################################################"
   ]
  },
  {
   "cell_type": "code",
   "execution_count": 15,
   "id": "9977d041",
   "metadata": {},
   "outputs": [
    {
     "name": "stdout",
     "output_type": "stream",
     "text": [
      "더하기를 할 두 수를 공란으로 입력하세요..1 2\n",
      "3\n"
     ]
    }
   ],
   "source": [
    "a, b = input(\"더하기를 할 두 수를 공란으로 입력하세요..\").split()\n",
    "# 강제 형 변환\n",
    "a = int(a)\n",
    "b = int(b)\n",
    "print(a+b)"
   ]
  },
  {
   "cell_type": "code",
   "execution_count": 16,
   "id": "495f909c",
   "metadata": {},
   "outputs": [
    {
     "name": "stdout",
     "output_type": "stream",
     "text": [
      "<map object at 0x000001CB01FCC850>\n",
      "[2, 3, 4, 5]\n"
     ]
    },
    {
     "data": {
      "text/plain": [
       "[2, 3, 4, 5]"
      ]
     },
     "execution_count": 16,
     "metadata": {},
     "output_type": "execute_result"
    }
   ],
   "source": [
    "def add_one(n): \n",
    "    return n + 1\n",
    "\n",
    "a = map(add_one, [1,2,3,4])\n",
    "print(a)\n",
    "a = list(a)\n",
    "print(a)\n",
    "\n",
    "list(map(add_one, [1,2,3,4]))"
   ]
  },
  {
   "cell_type": "code",
   "execution_count": 18,
   "id": "7202447f",
   "metadata": {},
   "outputs": [
    {
     "name": "stdout",
     "output_type": "stream",
     "text": [
      "더하기를 할 두 수를 공란으로 입력하세요..1 2\n",
      "3\n",
      "더하기를 할 두 수를 ,으로 입력하세요..1 , 3\n",
      "4\n"
     ]
    }
   ],
   "source": [
    "######################################################################\n",
    "##### 단순 공란으로\n",
    "a, b = map(int, input(\"더하기를 할 두 수를 공란으로 입력하세요..\").split())\n",
    "print(a + b)\n",
    "######################################################################\n",
    "\n",
    "######################################################################\n",
    "##### ,로 구분\n",
    "a, b = map(int, input(\"더하기를 할 두 수를 ,으로 입력하세요..\").split(\",\"))\n",
    "print(a + b)\n",
    "######################################################################\n",
    "\n"
   ]
  },
  {
   "cell_type": "code",
   "execution_count": 19,
   "id": "e1709dcc",
   "metadata": {},
   "outputs": [
    {
     "name": "stdout",
     "output_type": "stream",
     "text": [
      "0\n",
      "aaa\n",
      "1\n",
      "bbb\n",
      "2\n",
      "ccc\n"
     ]
    }
   ],
   "source": [
    "b = [\"aaa\",\"bbb\",\"ccc\"]\n",
    "for i,j in enumerate(b):\n",
    "\tprint(i)\n",
    "\tprint(j)"
   ]
  },
  {
   "cell_type": "code",
   "execution_count": 20,
   "id": "8709106f",
   "metadata": {},
   "outputs": [
    {
     "name": "stdout",
     "output_type": "stream",
     "text": [
      "10\n",
      "aaa\n",
      "11\n",
      "bbb\n",
      "12\n",
      "ccc\n"
     ]
    }
   ],
   "source": [
    "    b = [\"aaa\",\"bbb\",\"ccc\"]\n",
    "for i,j in enumerate(b, start =10):\n",
    "\tprint(i)\n",
    "\tprint(j)"
   ]
  },
  {
   "cell_type": "code",
   "execution_count": 21,
   "id": "eb8e51bc",
   "metadata": {},
   "outputs": [
    {
     "name": "stdout",
     "output_type": "stream",
     "text": [
      "20.0% red\n",
      "30.0% green\n",
      "10.0% blue\n",
      "40.0% purple\n",
      "20.0% red\n",
      "30.0% green\n",
      "10.0% blue\n",
      "40.0% purple\n"
     ]
    }
   ],
   "source": [
    "# 서로 다른 2개의 리스트를 합쳐서 순서대로 사용할 때 \n",
    "colors = [\"red\", \"green\", \"blue\", \"purple\"]\n",
    "ratios = [0.2, 0.3, 0.1, 0.4]\n",
    "for i, color in enumerate(colors):\n",
    "    ratio = ratios[i]\n",
    "    print(\"{}% {}\".format(ratio * 100, color))\n",
    "\n",
    "\n",
    "# 위의  enumerate가 아니라 2개의 서로 다른 리스트를 한 번에 하기위해서는\n",
    "# zip으로 묶어서 사용한다!!!!\n",
    "colors = [\"red\", \"green\", \"blue\", \"purple\"]\n",
    "ratios = [0.2, 0.3, 0.1, 0.4]\n",
    "for color, ratio in zip(colors, ratios):\n",
    "    print(\"{}% {}\".format(ratio * 100, color))"
   ]
  },
  {
   "cell_type": "code",
   "execution_count": 23,
   "id": "b005fa51",
   "metadata": {},
   "outputs": [
    {
     "name": "stdout",
     "output_type": "stream",
     "text": [
      "150\n",
      "5\n",
      "No Function!!!!\n",
      "None\n",
      "None\n",
      "None\n"
     ]
    }
   ],
   "source": [
    "# 기능 : sum -> 더하기, count -> 입력된 숫자들의 수\n",
    "def myfunction(func, *args):\n",
    "\tif func ==\"sum\":\n",
    "\t\tresult = 0\n",
    "\t\tfor i in args:\n",
    "\t\t\tresult = result + i\n",
    "\t\treturn result\n",
    "\telif func ==\"count\":\n",
    "\t\treturn len(args)\n",
    "\telse:\n",
    "\t\treturn \"No Function!!!!\"\n",
    "\n",
    "a = print(myfunction(\"sum\",10,20,30,40,50))\n",
    "b = print(myfunction(\"count\",10,20,30,40,50))\n",
    "c = print(myfunction(\"nono\",10,20,30,40,50))\n",
    "\n",
    "print(a)\n",
    "print(b)\n",
    "print(c)"
   ]
  },
  {
   "cell_type": "code",
   "execution_count": 24,
   "id": "2a6071d2",
   "metadata": {},
   "outputs": [
    {
     "name": "stdout",
     "output_type": "stream",
     "text": [
      "[3, 10]\n",
      "--------\n",
      "[10, 3]\n"
     ]
    }
   ],
   "source": [
    "#### 일반적으로 swap를 하기위해서는 아래와 같은 temp를 사용해서 처리를 해야한\n",
    "arr = [3,10]\n",
    "print(arr)\n",
    "print(\"--------\")\n",
    "temp = arr[0]\n",
    "arr[0] = arr[1]\n",
    "arr[1] = temp\n",
    "print(arr)"
   ]
  },
  {
   "cell_type": "code",
   "execution_count": 25,
   "id": "c2556c56",
   "metadata": {},
   "outputs": [
    {
     "name": "stdout",
     "output_type": "stream",
     "text": [
      "[3, 10]\n",
      "------\n",
      "[10, 3]\n"
     ]
    }
   ],
   "source": [
    "# temp 없이 바로 바꾸기 위해서는 아래와 같은 형식을 사용을 함!!!!!\n",
    "arr = [3, 10]\n",
    "print(arr)\n",
    "print(\"------\")\n",
    "arr[0], arr[1] = arr[1], arr[0]\n",
    "print(arr)"
   ]
  },
  {
   "cell_type": "code",
   "execution_count": 32,
   "id": "16ad81b6",
   "metadata": {},
   "outputs": [
    {
     "name": "stdout",
     "output_type": "stream",
     "text": [
      "4\n",
      "1130\n"
     ]
    },
    {
     "ename": "TypeError",
     "evalue": "'int' object is not callable",
     "output_type": "error",
     "traceback": [
      "\u001b[1;31m---------------------------------------------------------------------------\u001b[0m",
      "\u001b[1;31mTypeError\u001b[0m                                 Traceback (most recent call last)",
      "\u001b[1;32m<ipython-input-32-1551337273fc>\u001b[0m in \u001b[0;36m<module>\u001b[1;34m\u001b[0m\n\u001b[0;32m      3\u001b[0m \u001b[0mprint\u001b[0m\u001b[1;33m(\u001b[0m\u001b[0mmin\u001b[0m\u001b[1;33m(\u001b[0m\u001b[0mnumbers\u001b[0m\u001b[1;33m)\u001b[0m\u001b[1;33m)\u001b[0m\u001b[1;33m\u001b[0m\u001b[1;33m\u001b[0m\u001b[0m\n\u001b[0;32m      4\u001b[0m \u001b[0mprint\u001b[0m\u001b[1;33m(\u001b[0m\u001b[0mmax\u001b[0m\u001b[1;33m(\u001b[0m\u001b[0mnumbers\u001b[0m\u001b[1;33m)\u001b[0m\u001b[1;33m)\u001b[0m\u001b[1;33m\u001b[0m\u001b[1;33m\u001b[0m\u001b[0m\n\u001b[1;32m----> 5\u001b[1;33m \u001b[0mprint\u001b[0m\u001b[1;33m(\u001b[0m\u001b[0msum\u001b[0m\u001b[1;33m(\u001b[0m\u001b[0mnumbers\u001b[0m\u001b[1;33m)\u001b[0m\u001b[1;33m)\u001b[0m\u001b[1;33m\u001b[0m\u001b[1;33m\u001b[0m\u001b[0m\n\u001b[0m",
      "\u001b[1;31mTypeError\u001b[0m: 'int' object is not callable"
     ]
    }
   ],
   "source": [
    "numbers = (10,30, 50,100,23,4,1130)\n",
    "numbers\n",
    "print(min(numbers))\n",
    "print(max(numbers))\n",
    "print(sum(numbers))"
   ]
  },
  {
   "cell_type": "code",
   "execution_count": 26,
   "id": "a93ef088",
   "metadata": {},
   "outputs": [
    {
     "data": {
      "text/plain": [
       "('c', 1)"
      ]
     },
     "execution_count": 26,
     "metadata": {},
     "output_type": "execute_result"
    }
   ],
   "source": [
    "a = [('a', 5), ('b', 3), ('c', 1), ('d', 6),(\"F\",10), (\"A\",1)]\n",
    "min(a, key=lambda t:t[1])"
   ]
  },
  {
   "cell_type": "code",
   "execution_count": 27,
   "id": "ea981e54",
   "metadata": {},
   "outputs": [
    {
     "name": "stdout",
     "output_type": "stream",
     "text": [
      "('A', 0.2)\n",
      "('F', 10)\n"
     ]
    }
   ],
   "source": [
    "a = [('a', 5), ('b', 3), ('c', 1), ('d', 6),(\"F\",10), (\"A\",0.2)]\n",
    "print(min(a, key=lambda t:t[1]))\n",
    "print(max(a, key=lambda t:t[1]))"
   ]
  },
  {
   "cell_type": "code",
   "execution_count": 33,
   "id": "6158d093",
   "metadata": {},
   "outputs": [
    {
     "data": {
      "text/plain": [
       "{'name': 'Kwon', 'region': 'Seoul', 'age': 'Mola', 'height': 180}"
      ]
     },
     "execution_count": 33,
     "metadata": {},
     "output_type": "execute_result"
    }
   ],
   "source": [
    "dict_1 = {\"name\" : \"Kwon\",\n",
    "         \"region\":\"Seoul\",\n",
    "         \"age\" : \"Mola\",\n",
    "         \"height\": 180}\n",
    "dict_1"
   ]
  },
  {
   "cell_type": "code",
   "execution_count": 34,
   "id": "bb3c85c2",
   "metadata": {},
   "outputs": [
    {
     "data": {
      "text/plain": [
       "{'name': 'Kwon', 'region': 'Seoul', 'age': 'Mola', 'height': 180}"
      ]
     },
     "execution_count": 34,
     "metadata": {},
     "output_type": "execute_result"
    }
   ],
   "source": [
    "dict_1 = {\"name\" : \"Kwon\",\n",
    "         \"region\":\"Seoul\",\n",
    "         \"age\" : \"Mola\",\n",
    "         \"height\": 180}\n",
    "dict_1"
   ]
  },
  {
   "cell_type": "code",
   "execution_count": 35,
   "id": "922a2e71",
   "metadata": {},
   "outputs": [
    {
     "data": {
      "text/plain": [
       "{'name': 'Kwon', 'region': 180, 'age': 'Mola'}"
      ]
     },
     "execution_count": 35,
     "metadata": {},
     "output_type": "execute_result"
    }
   ],
   "source": [
    "################ 위에 있었던 코드 그대로 활용 #########\n",
    "dict_2 = { }\n",
    "dict_2[\"name\"] = \"Kwon\"\n",
    "dict_2[\"region\"] = \"Seoul\"\n",
    "dict_2[\"age\"] = \"Mola\"\n",
    "dict_2[\"region\"] = 180\n",
    "dict_2[\"Face\"] = \"Mola\"\n",
    "dict_2[\"Face\"] = \"NoComment\"\n",
    "##################################################\n",
    "del dict_2[\"Face\"]\n",
    "dict_2"
   ]
  },
  {
   "cell_type": "code",
   "execution_count": 37,
   "id": "799c988b",
   "metadata": {},
   "outputs": [
    {
     "data": {
      "text/plain": [
       "{}"
      ]
     },
     "execution_count": 37,
     "metadata": {},
     "output_type": "execute_result"
    }
   ],
   "source": [
    "dict_2.clear()\n",
    "dict_2"
   ]
  },
  {
   "cell_type": "code",
   "execution_count": 38,
   "id": "2e8cf370",
   "metadata": {},
   "outputs": [
    {
     "ename": "NameError",
     "evalue": "name 'dict2' is not defined",
     "output_type": "error",
     "traceback": [
      "\u001b[1;31m---------------------------------------------------------------------------\u001b[0m",
      "\u001b[1;31mNameError\u001b[0m                                 Traceback (most recent call last)",
      "\u001b[1;32m<ipython-input-38-9d12c48c8b39>\u001b[0m in \u001b[0;36m<module>\u001b[1;34m\u001b[0m\n\u001b[1;32m----> 1\u001b[1;33m \u001b[1;32mdel\u001b[0m \u001b[0mdict2\u001b[0m\u001b[1;33m\u001b[0m\u001b[1;33m\u001b[0m\u001b[0m\n\u001b[0m\u001b[0;32m      2\u001b[0m \u001b[0mdict\u001b[0m\u001b[1;33m\u001b[0m\u001b[1;33m\u001b[0m\u001b[0m\n",
      "\u001b[1;31mNameError\u001b[0m: name 'dict2' is not defined"
     ]
    }
   ],
   "source": [
    "del dict2\n",
    "dict"
   ]
  },
  {
   "cell_type": "code",
   "execution_count": 39,
   "id": "a54410e7",
   "metadata": {},
   "outputs": [
    {
     "data": {
      "text/plain": [
       "{'name': 'Kwon', 'region': 180, 'age': 'Mola', 1234: 'Mola'}"
      ]
     },
     "execution_count": 39,
     "metadata": {},
     "output_type": "execute_result"
    }
   ],
   "source": [
    "# 키 값에 문자열, 숫자 가능함.\n",
    "dict_1 = {\"name\" : \"Kwon\",\n",
    "         \"region\":\"Seoul\",\n",
    "         \"age\" : \"Mola\",\n",
    "         \"region\": 180,\n",
    "         1234 : \"Mola\"}\n",
    "dict_1"
   ]
  },
  {
   "cell_type": "code",
   "execution_count": 40,
   "id": "fbea4b6f",
   "metadata": {},
   "outputs": [
    {
     "data": {
      "text/plain": [
       "{'name': 'Kwon', 'region': 180, 'age': 'Mola', ('Face', 'Face2'): 'Mola'}"
      ]
     },
     "execution_count": 40,
     "metadata": {},
     "output_type": "execute_result"
    }
   ],
   "source": [
    "# 키 값에 튜플은 가능함!!!!\n",
    "dict_1 = {\"name\" : \"Kwon\",\n",
    "         \"region\":\"Seoul\",\n",
    "         \"age\" : \"Mola\",\n",
    "         \"region\": 180,\n",
    "         (\"Face\",\"Face2\") : \"Mola\"}\n",
    "dict_1"
   ]
  },
  {
   "cell_type": "code",
   "execution_count": 41,
   "id": "6f9895e9",
   "metadata": {},
   "outputs": [
    {
     "data": {
      "text/plain": [
       "4"
      ]
     },
     "execution_count": 41,
     "metadata": {},
     "output_type": "execute_result"
    }
   ],
   "source": [
    "dict_1 = {\"name\" : \"Kwon\",\n",
    "         \"region\":\"Seoul\",\n",
    "         \"age\" : \"Mola\",\n",
    "         \"region\": 180,\n",
    "         \"Face\" : \"Mola\"}\n",
    "#########\n",
    "len(dict_1)"
   ]
  },
  {
   "cell_type": "code",
   "execution_count": 42,
   "id": "9b1cb591",
   "metadata": {},
   "outputs": [
    {
     "ename": "TypeError",
     "evalue": "'dict_keys' object is not subscriptable",
     "output_type": "error",
     "traceback": [
      "\u001b[1;31m---------------------------------------------------------------------------\u001b[0m",
      "\u001b[1;31mTypeError\u001b[0m                                 Traceback (most recent call last)",
      "\u001b[1;32m<ipython-input-42-2cd51a385298>\u001b[0m in \u001b[0;36m<module>\u001b[1;34m\u001b[0m\n\u001b[0;32m      9\u001b[0m \u001b[0mtype\u001b[0m\u001b[1;33m(\u001b[0m\u001b[0mdict_1\u001b[0m\u001b[1;33m.\u001b[0m\u001b[0mkeys\u001b[0m\u001b[1;33m(\u001b[0m\u001b[1;33m)\u001b[0m\u001b[1;33m)\u001b[0m\u001b[1;33m\u001b[0m\u001b[1;33m\u001b[0m\u001b[0m\n\u001b[0;32m     10\u001b[0m \u001b[1;33m\u001b[0m\u001b[0m\n\u001b[1;32m---> 11\u001b[1;33m \u001b[0mdict_1\u001b[0m\u001b[1;33m.\u001b[0m\u001b[0mkeys\u001b[0m\u001b[1;33m(\u001b[0m\u001b[1;33m)\u001b[0m\u001b[1;33m[\u001b[0m\u001b[1;36m1\u001b[0m\u001b[1;33m]\u001b[0m\u001b[1;33m\u001b[0m\u001b[1;33m\u001b[0m\u001b[0m\n\u001b[0m\u001b[0;32m     12\u001b[0m \u001b[1;33m\u001b[0m\u001b[0m\n\u001b[0;32m     13\u001b[0m \u001b[0mlist\u001b[0m\u001b[1;33m(\u001b[0m\u001b[0mdict_1\u001b[0m\u001b[1;33m.\u001b[0m\u001b[0mkeys\u001b[0m\u001b[1;33m(\u001b[0m\u001b[1;33m)\u001b[0m\u001b[1;33m)\u001b[0m\u001b[1;33m[\u001b[0m\u001b[1;36m1\u001b[0m\u001b[1;33m]\u001b[0m\u001b[1;33m\u001b[0m\u001b[1;33m\u001b[0m\u001b[0m\n",
      "\u001b[1;31mTypeError\u001b[0m: 'dict_keys' object is not subscriptable"
     ]
    }
   ],
   "source": [
    "dict_1 = {\"name\" : \"Kwon\",\n",
    "         \"region\":\"Seoul\",\n",
    "         \"age\" : \"Mola\",\n",
    "         \"region\": 180,\n",
    "         \"Face\" : \"Mola\"}\n",
    "##########################\n",
    "dict_1.keys()\n",
    "\n",
    "type(dict_1.keys())\n",
    "\n",
    "dict_1.keys()[1]\n",
    "\n",
    "list(dict_1.keys())[1]"
   ]
  },
  {
   "cell_type": "code",
   "execution_count": 43,
   "id": "a552a013",
   "metadata": {},
   "outputs": [
    {
     "ename": "TypeError",
     "evalue": "'dict_values' object is not subscriptable",
     "output_type": "error",
     "traceback": [
      "\u001b[1;31m---------------------------------------------------------------------------\u001b[0m",
      "\u001b[1;31mTypeError\u001b[0m                                 Traceback (most recent call last)",
      "\u001b[1;32m<ipython-input-43-a4bda3bd1e22>\u001b[0m in \u001b[0;36m<module>\u001b[1;34m\u001b[0m\n\u001b[0;32m      9\u001b[0m \u001b[0mtype\u001b[0m\u001b[1;33m(\u001b[0m\u001b[0mdict_1\u001b[0m\u001b[1;33m.\u001b[0m\u001b[0mvalues\u001b[0m\u001b[1;33m(\u001b[0m\u001b[1;33m)\u001b[0m\u001b[1;33m)\u001b[0m\u001b[1;33m\u001b[0m\u001b[1;33m\u001b[0m\u001b[0m\n\u001b[0;32m     10\u001b[0m \u001b[1;33m\u001b[0m\u001b[0m\n\u001b[1;32m---> 11\u001b[1;33m \u001b[0mdict_1\u001b[0m\u001b[1;33m.\u001b[0m\u001b[0mvalues\u001b[0m\u001b[1;33m(\u001b[0m\u001b[1;33m)\u001b[0m\u001b[1;33m[\u001b[0m\u001b[1;36m1\u001b[0m\u001b[1;33m]\u001b[0m\u001b[1;33m\u001b[0m\u001b[1;33m\u001b[0m\u001b[0m\n\u001b[0m\u001b[0;32m     12\u001b[0m \u001b[1;33m\u001b[0m\u001b[0m\n\u001b[0;32m     13\u001b[0m \u001b[0mlist\u001b[0m\u001b[1;33m(\u001b[0m\u001b[0mdict_1\u001b[0m\u001b[1;33m.\u001b[0m\u001b[0mvalues\u001b[0m\u001b[1;33m(\u001b[0m\u001b[1;33m)\u001b[0m\u001b[1;33m)\u001b[0m\u001b[1;33m[\u001b[0m\u001b[1;36m1\u001b[0m\u001b[1;33m]\u001b[0m\u001b[1;33m\u001b[0m\u001b[1;33m\u001b[0m\u001b[0m\n",
      "\u001b[1;31mTypeError\u001b[0m: 'dict_values' object is not subscriptable"
     ]
    }
   ],
   "source": [
    "dict_1 = {\"name\" : \"Kwon\",\n",
    "         \"region\":\"Seoul\",\n",
    "         \"age\" : \"Mola\",\n",
    "         \"region\": 180,\n",
    "         \"Face\" : \"Mola\"}\n",
    "##########################\n",
    "dict_1.values()\n",
    "\n",
    "type(dict_1.values())\n",
    "\n",
    "dict_1.values()[1]\n",
    "\n",
    "list(dict_1.values())[1]"
   ]
  },
  {
   "cell_type": "code",
   "execution_count": 44,
   "id": "cd5339e7",
   "metadata": {},
   "outputs": [
    {
     "ename": "TypeError",
     "evalue": "'dict_items' object is not subscriptable",
     "output_type": "error",
     "traceback": [
      "\u001b[1;31m---------------------------------------------------------------------------\u001b[0m",
      "\u001b[1;31mTypeError\u001b[0m                                 Traceback (most recent call last)",
      "\u001b[1;32m<ipython-input-44-eb8128069285>\u001b[0m in \u001b[0;36m<module>\u001b[1;34m\u001b[0m\n\u001b[0;32m      6\u001b[0m \u001b[1;31m###################\u001b[0m\u001b[1;33m\u001b[0m\u001b[1;33m\u001b[0m\u001b[1;33m\u001b[0m\u001b[0m\n\u001b[0;32m      7\u001b[0m \u001b[0mdict_1\u001b[0m\u001b[1;33m.\u001b[0m\u001b[0mitems\u001b[0m\u001b[1;33m(\u001b[0m\u001b[1;33m)\u001b[0m\u001b[1;33m\u001b[0m\u001b[1;33m\u001b[0m\u001b[0m\n\u001b[1;32m----> 8\u001b[1;33m \u001b[0mdict_1\u001b[0m\u001b[1;33m.\u001b[0m\u001b[0mitems\u001b[0m\u001b[1;33m(\u001b[0m\u001b[1;33m)\u001b[0m\u001b[1;33m[\u001b[0m\u001b[1;36m1\u001b[0m\u001b[1;33m]\u001b[0m\u001b[1;33m\u001b[0m\u001b[1;33m\u001b[0m\u001b[0m\n\u001b[0m\u001b[0;32m      9\u001b[0m \u001b[1;33m\u001b[0m\u001b[0m\n\u001b[0;32m     10\u001b[0m \u001b[0mlist\u001b[0m\u001b[1;33m(\u001b[0m\u001b[0mdict_1\u001b[0m\u001b[1;33m.\u001b[0m\u001b[0mitems\u001b[0m\u001b[1;33m(\u001b[0m\u001b[1;33m)\u001b[0m\u001b[1;33m)\u001b[0m\u001b[1;33m[\u001b[0m\u001b[1;36m1\u001b[0m\u001b[1;33m]\u001b[0m\u001b[1;33m\u001b[0m\u001b[1;33m\u001b[0m\u001b[0m\n",
      "\u001b[1;31mTypeError\u001b[0m: 'dict_items' object is not subscriptable"
     ]
    }
   ],
   "source": [
    "dict_1 = {\"name\" : \"Kwon\",\n",
    "         \"region\":\"Seoul\",\n",
    "         \"age\" : \"Mola\",\n",
    "         \"region\": 180,\n",
    "         \"Face\" : \"Mola\"}\n",
    "###################\n",
    "dict_1.items()\n",
    "dict_1.items()[1]\n",
    "\n",
    "list(dict_1.items())[1]"
   ]
  },
  {
   "cell_type": "code",
   "execution_count": 45,
   "id": "ef281ecb",
   "metadata": {},
   "outputs": [
    {
     "ename": "TypeError",
     "evalue": "pop expected at least 1 argument, got 0",
     "output_type": "error",
     "traceback": [
      "\u001b[1;31m---------------------------------------------------------------------------\u001b[0m",
      "\u001b[1;31mTypeError\u001b[0m                                 Traceback (most recent call last)",
      "\u001b[1;32m<ipython-input-45-00d32d89c785>\u001b[0m in \u001b[0;36m<module>\u001b[1;34m\u001b[0m\n\u001b[0;32m      5\u001b[0m          \"Face\" : \"Mola\"}\n\u001b[0;32m      6\u001b[0m \u001b[1;31m###########\u001b[0m\u001b[1;33m\u001b[0m\u001b[1;33m\u001b[0m\u001b[1;33m\u001b[0m\u001b[0m\n\u001b[1;32m----> 7\u001b[1;33m \u001b[0mdict_1\u001b[0m\u001b[1;33m.\u001b[0m\u001b[0mpop\u001b[0m\u001b[1;33m(\u001b[0m\u001b[1;33m)\u001b[0m\u001b[1;33m\u001b[0m\u001b[1;33m\u001b[0m\u001b[0m\n\u001b[0m\u001b[0;32m      8\u001b[0m \u001b[1;33m\u001b[0m\u001b[0m\n\u001b[0;32m      9\u001b[0m \u001b[0mdict_1\u001b[0m\u001b[1;33m.\u001b[0m\u001b[0mpop\u001b[0m\u001b[1;33m(\u001b[0m\u001b[1;34m\"Face\"\u001b[0m\u001b[1;33m)\u001b[0m\u001b[1;33m\u001b[0m\u001b[1;33m\u001b[0m\u001b[0m\n",
      "\u001b[1;31mTypeError\u001b[0m: pop expected at least 1 argument, got 0"
     ]
    }
   ],
   "source": [
    "dict_1 = {\"name\" : \"Kwon\",\n",
    "         \"region\":\"Seoul\",\n",
    "         \"age\" : \"Mola\",\n",
    "         \"region\": 180,\n",
    "         \"Face\" : \"Mola\"}\n",
    "###########\n",
    "dict_1.pop()\n",
    "\n",
    "dict_1.pop(\"Face\")\n",
    "\n",
    "dict_1"
   ]
  },
  {
   "cell_type": "code",
   "execution_count": 46,
   "id": "ef0b37ee",
   "metadata": {},
   "outputs": [
    {
     "name": "stdout",
     "output_type": "stream",
     "text": [
      "{'the': 3, 'snow': 1, 'glows': 1, 'white': 1, 'on': 1, 'mountain': 1, 'tonight': 1, 'not': 1, 'a': 2, 'footprint': 1, 'to': 1, 'be': 1, 'seen': 1, 'kingdom': 1, 'of': 1, 'isolation': 1, 'and': 1, 'it': 1, 'looks': 1, 'like': 1, \"i'm\": 1, 'queen': 1}\n"
     ]
    }
   ],
   "source": [
    "# 노래 가사\n",
    "songs= \"The snow glows white on the mountain tonight Not a footprint to be seen A kingdom of isolation And it looks like I'm the queen\"\n",
    "# 비어있는 사전\n",
    "counts = { } \n",
    "# 노래 가사를 공란을 중심으로 분리 \n",
    "words = songs.split(\" \")\n",
    "# 분리된 것들 돌아가면서 추가하자!!!\n",
    "for word in words:\n",
    "    word = word.lower() # 소문자 변경\n",
    "    if word not in counts:\n",
    "        counts[word] = 1  # 새롭게 등장한 단어는 1로 신규 등록\n",
    "    else:\n",
    "        counts[word] +=1 # 기존에 있는 단어는 +1로 카운팅\n",
    "print(counts)"
   ]
  },
  {
   "cell_type": "code",
   "execution_count": 47,
   "id": "0701eac3",
   "metadata": {},
   "outputs": [
    {
     "name": "stdout",
     "output_type": "stream",
     "text": [
      "4\n",
      "12.56\n",
      "1.7320508075688772\n"
     ]
    }
   ],
   "source": [
    "# 정사각형의 넓이 계산 함수\n",
    "def square(x):\n",
    "    return x*x \n",
    "\n",
    "# 원 넓이 계산 함수\n",
    "def circle(r):\n",
    "    return 3.14 * r * r\n",
    "\n",
    "# 정삼각형 넓이 함수\n",
    "def equilateraltriangle(s):\n",
    "    return (s*s) * (3 ** 0.5) /4 \n",
    "\n",
    "# 문자열과 함수를 매핑하는 사전!!!!\n",
    "areas = { \"sq\": square, \"ci\":circle, \"eqtri\":equilateraltriangle}\n",
    "\n",
    "#####\n",
    "n = 2\n",
    "print(areas[\"sq\"](n))\n",
    "print(areas[\"ci\"](n))\n",
    "print(areas[\"eqtri\"](n))"
   ]
  },
  {
   "cell_type": "code",
   "execution_count": 48,
   "id": "9a2f23fd",
   "metadata": {},
   "outputs": [
    {
     "ename": "NameError",
     "evalue": "name 'grades' is not defined",
     "output_type": "error",
     "traceback": [
      "\u001b[1;31m---------------------------------------------------------------------------\u001b[0m",
      "\u001b[1;31mNameError\u001b[0m                                 Traceback (most recent call last)",
      "\u001b[1;32m<ipython-input-48-3ce06c812add>\u001b[0m in \u001b[0;36m<module>\u001b[1;34m\u001b[0m\n\u001b[0;32m      1\u001b[0m \u001b[1;31m# 사람 개별 이름 접근하기\u001b[0m\u001b[1;33m\u001b[0m\u001b[1;33m\u001b[0m\u001b[1;33m\u001b[0m\u001b[0m\n\u001b[1;32m----> 2\u001b[1;33m \u001b[1;32mfor\u001b[0m \u001b[0mstudent\u001b[0m \u001b[1;32min\u001b[0m \u001b[0mgrades\u001b[0m\u001b[1;33m.\u001b[0m\u001b[0mkeys\u001b[0m\u001b[1;33m(\u001b[0m\u001b[1;33m)\u001b[0m\u001b[1;33m:\u001b[0m\u001b[1;33m\u001b[0m\u001b[1;33m\u001b[0m\u001b[0m\n\u001b[0m\u001b[0;32m      3\u001b[0m     \u001b[0mprint\u001b[0m\u001b[1;33m(\u001b[0m\u001b[0mstudent\u001b[0m\u001b[1;33m)\u001b[0m\u001b[1;33m\u001b[0m\u001b[1;33m\u001b[0m\u001b[0m\n",
      "\u001b[1;31mNameError\u001b[0m: name 'grades' is not defined"
     ]
    }
   ],
   "source": [
    "# 사람 개별 이름 접근하기\n",
    "for student in grades.keys():\n",
    "    print(student)"
   ]
  },
  {
   "cell_type": "code",
   "execution_count": 49,
   "id": "3fd01194",
   "metadata": {},
   "outputs": [
    {
     "ename": "NameError",
     "evalue": "name 'grades' is not defined",
     "output_type": "error",
     "traceback": [
      "\u001b[1;31m---------------------------------------------------------------------------\u001b[0m",
      "\u001b[1;31mNameError\u001b[0m                                 Traceback (most recent call last)",
      "\u001b[1;32m<ipython-input-49-6f51b37d658c>\u001b[0m in \u001b[0;36m<module>\u001b[1;34m\u001b[0m\n\u001b[0;32m      1\u001b[0m \u001b[1;31m# 개별 점수를 가지고 와서 평균을 구하기..\u001b[0m\u001b[1;33m\u001b[0m\u001b[1;33m\u001b[0m\u001b[1;33m\u001b[0m\u001b[0m\n\u001b[1;32m----> 2\u001b[1;33m \u001b[1;32mfor\u001b[0m \u001b[0mscore\u001b[0m \u001b[1;32min\u001b[0m \u001b[0mgrades\u001b[0m\u001b[1;33m.\u001b[0m\u001b[0mvalues\u001b[0m\u001b[1;33m(\u001b[0m\u001b[1;33m)\u001b[0m\u001b[1;33m:\u001b[0m\u001b[1;33m\u001b[0m\u001b[1;33m\u001b[0m\u001b[0m\n\u001b[0m\u001b[0;32m      3\u001b[0m     \u001b[0mprint\u001b[0m\u001b[1;33m(\u001b[0m\u001b[0msum\u001b[0m\u001b[1;33m(\u001b[0m\u001b[0mscore\u001b[0m\u001b[1;33m)\u001b[0m\u001b[1;33m/\u001b[0m\u001b[1;36m2\u001b[0m\u001b[1;33m)\u001b[0m\u001b[1;33m\u001b[0m\u001b[1;33m\u001b[0m\u001b[0m\n",
      "\u001b[1;31mNameError\u001b[0m: name 'grades' is not defined"
     ]
    }
   ],
   "source": [
    "# 개별 점수를 가지고 와서 평균을 구하기..\n",
    "for score in grades.values():\n",
    "    print(sum(score)/2)"
   ]
  },
  {
   "cell_type": "code",
   "execution_count": 50,
   "id": "01734488",
   "metadata": {},
   "outputs": [
    {
     "ename": "NameError",
     "evalue": "name 'grades' is not defined",
     "output_type": "error",
     "traceback": [
      "\u001b[1;31m---------------------------------------------------------------------------\u001b[0m",
      "\u001b[1;31mNameError\u001b[0m                                 Traceback (most recent call last)",
      "\u001b[1;32m<ipython-input-50-086ed9102e5f>\u001b[0m in \u001b[0;36m<module>\u001b[1;34m\u001b[0m\n\u001b[1;32m----> 1\u001b[1;33m \u001b[1;32mfor\u001b[0m \u001b[0mstudent\u001b[0m \u001b[1;32min\u001b[0m \u001b[0mgrades\u001b[0m\u001b[1;33m.\u001b[0m\u001b[0mkeys\u001b[0m\u001b[1;33m(\u001b[0m\u001b[1;33m)\u001b[0m\u001b[1;33m:\u001b[0m\u001b[1;33m\u001b[0m\u001b[1;33m\u001b[0m\u001b[0m\n\u001b[0m\u001b[0;32m      2\u001b[0m     \u001b[0mscores\u001b[0m \u001b[1;33m=\u001b[0m \u001b[0mgrades\u001b[0m\u001b[1;33m[\u001b[0m\u001b[0mstudent\u001b[0m\u001b[1;33m]\u001b[0m\u001b[1;33m\u001b[0m\u001b[1;33m\u001b[0m\u001b[0m\n\u001b[0;32m      3\u001b[0m                 \u001b[1;31m### 이 부분이 앞에서 배운 것들을 종합적으로 응용\u001b[0m\u001b[1;33m\u001b[0m\u001b[1;33m\u001b[0m\u001b[1;33m\u001b[0m\u001b[0m\n\u001b[0;32m      4\u001b[0m     \u001b[1;31m#### ---> grades[student]  가 결과가 리스트\u001b[0m\u001b[1;33m\u001b[0m\u001b[1;33m\u001b[0m\u001b[1;33m\u001b[0m\u001b[0m\n\u001b[0;32m      5\u001b[0m     \u001b[1;31m### ---> 그러니 리스트의 원소 추라 append 활용 가능!!!\u001b[0m\u001b[1;33m\u001b[0m\u001b[1;33m\u001b[0m\u001b[1;33m\u001b[0m\u001b[0m\n",
      "\u001b[1;31mNameError\u001b[0m: name 'grades' is not defined"
     ]
    }
   ],
   "source": [
    "for student in grades.keys():\n",
    "    scores = grades[student]\n",
    "\t\t### 이 부분이 앞에서 배운 것들을 종합적으로 응용\n",
    "    #### ---> grades[student]  가 결과가 리스트\n",
    "    ### ---> 그러니 리스트의 원소 추라 append 활용 가능!!!\n",
    "    grades[student].append(sum(scores)/2)\n",
    "print(grades)"
   ]
  },
  {
   "cell_type": "code",
   "execution_count": 51,
   "id": "2740dd3a",
   "metadata": {},
   "outputs": [
    {
     "name": "stdout",
     "output_type": "stream",
     "text": [
      "<class 'set'>\n",
      "{1, 2, 3, 4, 5}\n",
      "<class 'set'>\n",
      "{1, 2, 3, 4, 5}\n",
      "<class 'set'>\n",
      "{1, 2, 3, 4, 5}\n",
      "<class 'set'>\n",
      "{1, 2, 3, 4, 5}\n"
     ]
    }
   ],
   "source": [
    "s1 = set({1,2,3,4,5})\n",
    "print(type(s1))\n",
    "print(s1)\n",
    "###############\n",
    "s2= set([1,2,3,4,5])\n",
    "print(type(s2))\n",
    "print(s2)\n",
    "################\n",
    "s3= set((1,2,3,4,5))\n",
    "print(type(s3))\n",
    "print(s3)\n",
    "#################\n",
    "s4 = { 1,2,3,4,5}\n",
    "print(type(s4))\n",
    "print(s4)\n",
    "\n",
    "#순서가 없음 & 값 중복은 불가능!! & 값들 수정 가능함!!!!"
   ]
  },
  {
   "cell_type": "code",
   "execution_count": 52,
   "id": "de9b10fe",
   "metadata": {},
   "outputs": [
    {
     "name": "stdout",
     "output_type": "stream",
     "text": [
      "{4, 5}\n",
      "{4, 5}\n"
     ]
    }
   ],
   "source": [
    "s1 = { 1,2,3,4,5}\n",
    "s2 = {4,5,6,7,8,9,10}\n",
    "# 교집합 메서드\n",
    "print(s1.intersection(s2))\n",
    "# 교집합 연산자\n",
    "print(s1 & s2)"
   ]
  },
  {
   "cell_type": "code",
   "execution_count": 53,
   "id": "72988fcf",
   "metadata": {},
   "outputs": [
    {
     "name": "stdout",
     "output_type": "stream",
     "text": [
      "{1, 2, 3, 4, 5, 6, 7, 8, 9, 10}\n",
      "{1, 2, 3, 4, 5, 6, 7, 8, 9, 10}\n"
     ]
    }
   ],
   "source": [
    "s1 = { 1,2,3,4,5}\n",
    "s2 = {4,5,6,7,8,9,10}\n",
    "# 합집합 메서드\n",
    "print(s1.union(s2))\n",
    "# 합집합 연산자\n",
    "print(s1 | s2)"
   ]
  },
  {
   "cell_type": "code",
   "execution_count": 54,
   "id": "d8da7105",
   "metadata": {},
   "outputs": [
    {
     "name": "stdout",
     "output_type": "stream",
     "text": [
      "{1, 2, 3}\n",
      "{1, 2, 3}\n"
     ]
    }
   ],
   "source": [
    "s1 = { 1,2,3,4,5}\n",
    "s2 = {4,5,6,7,8,9,10}\n",
    "# 차집합 메서드\n",
    "print(s1.difference(s2))\n",
    "# 차집합 연산자\n",
    "print(s1 - s2)"
   ]
  },
  {
   "cell_type": "code",
   "execution_count": 39,
   "id": "707ac071",
   "metadata": {},
   "outputs": [
    {
     "name": "stdout",
     "output_type": "stream",
     "text": [
      "False\n",
      "True\n",
      "True\n"
     ]
    }
   ],
   "source": [
    "s1 = { 1,2,3,4,5}\n",
    "s2 = {4,5,6,7,8,9,10}\n",
    "print(s1 == s2)\n",
    "#################################3\n",
    "s1 = { 1,2,3,4,5}\n",
    "s2 = {5,4,3,2,1}\n",
    "print(s1 == s2)\n",
    "##################################\n",
    "\n",
    "\n",
    "s1 = { 1,2,3,4,5}\n",
    "s2 = {5,4,3,2,1,1,1,1,1,2,2,2,3,4,4,4} \n",
    "print(s1 == s2)\n",
    "## 이유는 집합은 중복된 것을 1개로 인식!!! & 순서 상관 없으니,,\n",
    "##단순히 값들이 같은 것들이 정확히 있는지만."
   ]
  },
  {
   "cell_type": "code",
   "execution_count": 40,
   "id": "4ab21300",
   "metadata": {},
   "outputs": [
    {
     "ename": "TypeError",
     "evalue": "issubset() takes exactly one argument (0 given)",
     "output_type": "error",
     "traceback": [
      "\u001b[1;31m---------------------------------------------------------------------------\u001b[0m",
      "\u001b[1;31mTypeError\u001b[0m                                 Traceback (most recent call last)",
      "\u001b[1;32m<ipython-input-40-2472ac5b49fd>\u001b[0m in \u001b[0;36m<module>\u001b[1;34m\u001b[0m\n\u001b[0;32m      4\u001b[0m \u001b[0ms1\u001b[0m\u001b[1;33m.\u001b[0m\u001b[0misdisjoint\u001b[0m\u001b[1;33m(\u001b[0m\u001b[0ms2\u001b[0m\u001b[1;33m)\u001b[0m\u001b[1;33m\u001b[0m\u001b[1;33m\u001b[0m\u001b[0m\n\u001b[0;32m      5\u001b[0m \u001b[1;31m#- 부분집합 :\u001b[0m\u001b[1;33m\u001b[0m\u001b[1;33m\u001b[0m\u001b[1;33m\u001b[0m\u001b[0m\n\u001b[1;32m----> 6\u001b[1;33m \u001b[0ms1\u001b[0m\u001b[1;33m.\u001b[0m\u001b[0missubset\u001b[0m\u001b[1;33m(\u001b[0m\u001b[1;33m)\u001b[0m\u001b[1;33m\u001b[0m\u001b[1;33m\u001b[0m\u001b[0m\n\u001b[0m\u001b[0;32m      7\u001b[0m \u001b[1;31m#- 대칭차집합 :\u001b[0m\u001b[1;33m\u001b[0m\u001b[1;33m\u001b[0m\u001b[1;33m\u001b[0m\u001b[0m\n\u001b[0;32m      8\u001b[0m \u001b[0ms1\u001b[0m\u001b[1;33m.\u001b[0m\u001b[0msymmetric_difference\u001b[0m\u001b[1;33m(\u001b[0m\u001b[0ms2\u001b[0m\u001b[1;33m)\u001b[0m\u001b[1;33m,\u001b[0m \u001b[0ms1\u001b[0m \u001b[1;33m^\u001b[0m \u001b[0ms2\u001b[0m\u001b[1;33m\u001b[0m\u001b[1;33m\u001b[0m\u001b[0m\n",
      "\u001b[1;31mTypeError\u001b[0m: issubset() takes exactly one argument (0 given)"
     ]
    }
   ],
   "source": [
    "## 기타 등등 (어차피 잘 안 쓰니..일단 있다는 정도만..)\n",
    "\n",
    "#- 아예 다른지 등에서는 \n",
    "s1.isdisjoint(s2)\n",
    "#- 부분집합 :  \n",
    "s1.issubset()\n",
    "#- 대칭차집합 : \n",
    "s1.symmetric_difference(s2), s1 ^ s2"
   ]
  },
  {
   "cell_type": "code",
   "execution_count": 100,
   "id": "9fd19b10",
   "metadata": {},
   "outputs": [
    {
     "name": "stdout",
     "output_type": "stream",
     "text": [
      "[20, 12, 10, 15, 2]\n",
      "0 번째 [2, 12, 10, 15, 20]\n",
      "1 번째 [2, 10, 12, 15, 20]\n",
      "2 번째 [2, 10, 12, 15, 20]\n",
      "3 번째 [2, 10, 12, 15, 20]\n",
      "4 번째 [2, 10, 12, 15, 20]\n",
      "[2, 10, 12, 15, 20]\n",
      "[29, 72, 98, 13, 87, 66, 52, 51, 36]\n",
      "0 번째 [13, 72, 98, 29, 87, 66, 52, 51, 36]\n",
      "1 번째 [13, 29, 98, 72, 87, 66, 52, 51, 36]\n",
      "2 번째 [13, 29, 36, 72, 87, 66, 52, 51, 98]\n",
      "3 번째 [13, 29, 36, 51, 87, 66, 52, 72, 98]\n",
      "4 번째 [13, 29, 36, 51, 52, 66, 87, 72, 98]\n",
      "5 번째 [13, 29, 36, 51, 52, 66, 87, 72, 98]\n",
      "6 번째 [13, 29, 36, 51, 52, 66, 72, 87, 98]\n",
      "7 번째 [13, 29, 36, 51, 52, 66, 72, 87, 98]\n",
      "8 번째 [13, 29, 36, 51, 52, 66, 72, 87, 98]\n",
      "[13, 29, 36, 51, 52, 66, 72, 87, 98]\n",
      "[9, 5, 1, 4, 3]\n",
      "0 번째 [1, 5, 9, 4, 3]\n",
      "1 번째 [1, 3, 9, 4, 5]\n",
      "2 번째 [1, 3, 4, 9, 5]\n",
      "3 번째 [1, 3, 4, 5, 9]\n",
      "4 번째 [1, 3, 4, 5, 9]\n",
      "[1, 3, 4, 5, 9]\n"
     ]
    }
   ],
   "source": [
    "def SelectionSort(args):\n",
    "    print(args)\n",
    "    for i in range(0, len(args)):\n",
    "        min_index = i\n",
    "        for j in range(i, len(args)):\n",
    "            if args[min_index] > args[j]:\n",
    "                min_index = j\n",
    "            else:\n",
    "                pass\n",
    "        args[i], args[min_index] = args[min_index], args[i]\n",
    "        print(i,\"번째\",args)\n",
    "    return args\n",
    "\n",
    "#print(SelectionSort(input().split()))\n",
    "print(SelectionSort([20, 12, 10, 15, 2]))\n",
    "print(SelectionSort([29, 72, 98, 13, 87, 66, 52, 51, 36]))\n",
    "print(SelectionSort([9,5,1,4,3]))"
   ]
  },
  {
   "cell_type": "code",
   "execution_count": 99,
   "id": "7a1b5d03",
   "metadata": {},
   "outputs": [
    {
     "name": "stdout",
     "output_type": "stream",
     "text": [
      "[1, 3, 4, 5, 9]\n"
     ]
    }
   ],
   "source": [
    "arr = [9,5,1,4,3]\n",
    "for step in range(len(arr)):\n",
    "    min_index = step\n",
    "    for i in range(step+1, len(arr)):\n",
    "        if arr[i] < arr[min_index]:\n",
    "            min_index = i\n",
    "        else:\n",
    "            pass\n",
    "    arr[step], arr[min_index] = arr[min_index], arr[step]\n",
    "\n",
    "print(arr)"
   ]
  },
  {
   "cell_type": "code",
   "execution_count": 107,
   "id": "b371945c",
   "metadata": {},
   "outputs": [
    {
     "name": "stdout",
     "output_type": "stream",
     "text": [
      "[2, 10, 12, 15, 20]\n",
      "[13, 29, 36, 51, 52, 66, 72, 87, 98]\n",
      "[1, 3, 4, 5, 9]\n"
     ]
    }
   ],
   "source": [
    "def InsertionSort(args):\n",
    "    lenA = len(args)\n",
    "    #print(args)\n",
    "    for i in range(1, lenA):\n",
    "        for j in range(i, 0, -1):\n",
    "            #print(j)\n",
    "            if args[j] < args[j-1]:\n",
    "                args[j], args[j-1] = args[j-1], args[j]\n",
    "            #print(j, args[j], j + 1, args[j+1])\n",
    "            #if args[j] > args[j+1]:\n",
    "            #    args[j], args[j+1] = args[j+1], args[j]\n",
    "        #print(i,\"번째\",args)\n",
    "    return args\n",
    "#print(InsertionSort(input().split()))\n",
    "print(InsertionSort([20, 12, 10, 15, 2]))\n",
    "print(InsertionSort([29, 72, 98, 13, 87, 66, 52, 51, 36]))\n",
    "print(InsertionSort([9,5,1,4,3]))"
   ]
  },
  {
   "cell_type": "code",
   "execution_count": 82,
   "id": "c44da037",
   "metadata": {},
   "outputs": [
    {
     "name": "stdout",
     "output_type": "stream",
     "text": [
      "2\n",
      "1\n"
     ]
    }
   ],
   "source": [
    "i = 2\n",
    "for j in range(i, 0, -1):\n",
    "    print(j)"
   ]
  },
  {
   "cell_type": "code",
   "execution_count": 103,
   "id": "214f6a6e",
   "metadata": {},
   "outputs": [
    {
     "name": "stdout",
     "output_type": "stream",
     "text": [
      "[9, 5, 1, 4, 3]\n",
      "[5, 9, 1, 4, 3]\n",
      "------\n",
      "[1, 5, 9, 4, 3]\n",
      "------\n",
      "[1, 4, 5, 9, 3]\n",
      "------\n",
      "[1, 3, 4, 5, 9]\n",
      "------\n",
      "[1, 3, 4, 5, 9]\n"
     ]
    }
   ],
   "source": [
    "arr = [9,5,1,4,3]\n",
    "print(arr)\n",
    "for step in range(1, len(arr)):\n",
    "    for i in range(step, 0, -1):\n",
    "        if arr[i-1] > arr[i]:\n",
    "            arr[i], arr[i-1] = arr[i-1], arr[i]\n",
    "        else:\n",
    "            pass\n",
    "    print(arr)\n",
    "    print(\"------\")\n",
    "print(arr)"
   ]
  },
  {
   "cell_type": "code",
   "execution_count": 115,
   "id": "198866a3",
   "metadata": {},
   "outputs": [
    {
     "name": "stdout",
     "output_type": "stream",
     "text": [
      "[20, 12, 10, 15, 2]\n",
      "5 번째 [12, 10, 15, 2, 20]\n",
      "4 번째 [10, 12, 2, 15, 20]\n",
      "3 번째 [10, 2, 12, 15, 20]\n",
      "2 번째 [2, 10, 12, 15, 20]\n",
      "1 번째 [2, 10, 12, 15, 20]\n",
      "[2, 10, 12, 15, 20]\n",
      "[29, 72, 98, 13, 87, 66, 52, 51, 36]\n",
      "9 번째 [29, 72, 13, 87, 66, 52, 51, 36, 98]\n",
      "8 번째 [29, 13, 72, 66, 52, 51, 36, 87, 98]\n",
      "7 번째 [13, 29, 66, 52, 51, 36, 72, 87, 98]\n",
      "6 번째 [13, 29, 52, 51, 36, 66, 72, 87, 98]\n",
      "5 번째 [13, 29, 51, 36, 52, 66, 72, 87, 98]\n",
      "4 번째 [13, 29, 36, 51, 52, 66, 72, 87, 98]\n",
      "3 번째 [13, 29, 36, 51, 52, 66, 72, 87, 98]\n",
      "2 번째 [13, 29, 36, 51, 52, 66, 72, 87, 98]\n",
      "1 번째 [13, 29, 36, 51, 52, 66, 72, 87, 98]\n",
      "[13, 29, 36, 51, 52, 66, 72, 87, 98]\n",
      "[9, 5, 1, 4, 3]\n",
      "5 번째 [5, 1, 4, 3, 9]\n",
      "4 번째 [1, 4, 3, 5, 9]\n",
      "3 번째 [1, 3, 4, 5, 9]\n",
      "2 번째 [1, 3, 4, 5, 9]\n",
      "1 번째 [1, 3, 4, 5, 9]\n",
      "[1, 3, 4, 5, 9]\n",
      "[-2, 45, 0, 11, -9]\n",
      "5 번째 [-2, 0, 11, -9, 45]\n",
      "4 번째 [-2, 0, -9, 11, 45]\n",
      "3 번째 [-2, -9, 0, 11, 45]\n",
      "2 번째 [-9, -2, 0, 11, 45]\n",
      "1 번째 [-9, -2, 0, 11, 45]\n",
      "[-9, -2, 0, 11, 45]\n"
     ]
    }
   ],
   "source": [
    "arr = [9,5,1,4,3]\n",
    "def BubbleSort(args):\n",
    "    print(args)\n",
    "    lenA = len(args)\n",
    "    for i in range(lenA, 0, -1):\n",
    "        for j in range(0, i - 1):\n",
    "            if args[j] > args[j+1]:\n",
    "                args[j], args[j+1] = args[j+1], args[j]\n",
    "        print(i,\"번째\",args)\n",
    "    return args\n",
    "\n",
    "arr = [20, 12, 10, 15, 2]\n",
    "print(BubbleSort(arr))\n",
    "arr = [29, 72, 98, 13, 87, 66, 52, 51, 36]\n",
    "print(BubbleSort(arr))\n",
    "arr = [9,5,1,4,3]\n",
    "print(BubbleSort(arr))\n",
    "arr = [-2, 45, 0, 11, -9]\n",
    "print(BubbleSort(arr))"
   ]
  },
  {
   "cell_type": "code",
   "execution_count": 114,
   "id": "9218dbe7",
   "metadata": {},
   "outputs": [
    {
     "name": "stdout",
     "output_type": "stream",
     "text": [
      "[-9, -2, 0, 11, 45]\n"
     ]
    }
   ],
   "source": [
    "arr = [-2, 45, 0, 11, -9]\n",
    "\n",
    "# 원소 갯수만큼 돌려야하니..\n",
    "for step in range(0, len(arr)):\n",
    "    for i in range(0, len(arr) - step - 1):\n",
    "        if arr[i] > arr[i+1] : # 2 값중에서 앞에가 더 크면 swap\n",
    "            arr[i], arr[i+1] = arr [i+1], arr[i]\n",
    "        else:\n",
    "            pass\n",
    "print(arr)"
   ]
  },
  {
   "cell_type": "code",
   "execution_count": 117,
   "id": "054b32ab",
   "metadata": {},
   "outputs": [
    {
     "data": {
      "text/plain": [
       "['one', 'two', 'four', 'six', 'eight']"
      ]
     },
     "execution_count": 117,
     "metadata": {},
     "output_type": "execute_result"
    }
   ],
   "source": [
    "b = [\"one\", \"two\", \"four\", \"six\", \"eight\"]\n",
    "b"
   ]
  },
  {
   "cell_type": "code",
   "execution_count": 118,
   "id": "5766274b",
   "metadata": {},
   "outputs": [
    {
     "data": {
      "text/plain": [
       "['eight', 'four', 'one', 'six', 'two']"
      ]
     },
     "execution_count": 118,
     "metadata": {},
     "output_type": "execute_result"
    }
   ],
   "source": [
    "b.sort()\n",
    "b"
   ]
  },
  {
   "cell_type": "code",
   "execution_count": 120,
   "id": "89ae4b16",
   "metadata": {},
   "outputs": [
    {
     "data": {
      "text/plain": [
       "['one', 'six', 'two', 'four', 'eight']"
      ]
     },
     "execution_count": 120,
     "metadata": {},
     "output_type": "execute_result"
    }
   ],
   "source": [
    "b.sort( key = lambda x : len(x))\n",
    "b"
   ]
  },
  {
   "cell_type": "code",
   "execution_count": 121,
   "id": "32cc425e",
   "metadata": {},
   "outputs": [
    {
     "data": {
      "text/plain": [
       "<function sorted(iterable, /, *, key=None, reverse=False)>"
      ]
     },
     "execution_count": 121,
     "metadata": {},
     "output_type": "execute_result"
    }
   ],
   "source": [
    "sorted"
   ]
  },
  {
   "cell_type": "code",
   "execution_count": 122,
   "id": "2297b293",
   "metadata": {},
   "outputs": [
    {
     "name": "stdout",
     "output_type": "stream",
     "text": [
      "[90, 80, 20, 13, 10, 3]\n",
      "[20, 80, 10, 3, 90, 13]\n"
     ]
    }
   ],
   "source": [
    "a = [20, 80, 10, 3, 90, 13]\n",
    "a_s = sorted(a, reverse = True)\n",
    "print(a_s)\n",
    "print(a)"
   ]
  },
  {
   "cell_type": "code",
   "execution_count": 123,
   "id": "bb7ab1d5",
   "metadata": {},
   "outputs": [
    {
     "data": {
      "text/plain": [
       "[('d', 30), ('c', 20), ('a', 50), ('b', 25), ('e', 40)]"
      ]
     },
     "execution_count": 123,
     "metadata": {},
     "output_type": "execute_result"
    }
   ],
   "source": [
    "bb = [ (\"d\", 30),(\"c\",20),(\"a\",50),(\"b\",25),(\"e\",40)]\n",
    "bb"
   ]
  },
  {
   "cell_type": "code",
   "execution_count": 124,
   "id": "e3be2264",
   "metadata": {},
   "outputs": [
    {
     "data": {
      "text/plain": [
       "[('a', 50), ('b', 25), ('c', 20), ('d', 30), ('e', 40)]"
      ]
     },
     "execution_count": 124,
     "metadata": {},
     "output_type": "execute_result"
    }
   ],
   "source": [
    "sorted(bb)"
   ]
  },
  {
   "cell_type": "code",
   "execution_count": 126,
   "id": "5a72c4bf",
   "metadata": {},
   "outputs": [
    {
     "data": {
      "text/plain": [
       "[('a', 50), ('e', 40), ('d', 30), ('b', 25), ('c', 20)]"
      ]
     },
     "execution_count": 126,
     "metadata": {},
     "output_type": "execute_result"
    }
   ],
   "source": [
    "sorted(bb, key = lambda x : x[1], reverse = True)"
   ]
  },
  {
   "cell_type": "code",
   "execution_count": 1,
   "id": "e777c35f",
   "metadata": {},
   "outputs": [],
   "source": [
    "import re"
   ]
  },
  {
   "cell_type": "code",
   "execution_count": 2,
   "id": "1444b195",
   "metadata": {},
   "outputs": [
    {
     "ename": "NameError",
     "evalue": "name 'a' is not defined",
     "output_type": "error",
     "traceback": [
      "\u001b[1;31m---------------------------------------------------------------------------\u001b[0m",
      "\u001b[1;31mNameError\u001b[0m                                 Traceback (most recent call last)",
      "\u001b[1;32m<ipython-input-2-4a4004f9230f>\u001b[0m in \u001b[0;36m<module>\u001b[1;34m\u001b[0m\n\u001b[1;32m----> 1\u001b[1;33m \u001b[1;33m[\u001b[0m\u001b[0ma\u001b[0m\u001b[1;33m-\u001b[0m\u001b[0mz\u001b[0m\u001b[1;33m]\u001b[0m\u001b[1;33m\u001b[0m\u001b[1;33m\u001b[0m\u001b[0m\n\u001b[0m",
      "\u001b[1;31mNameError\u001b[0m: name 'a' is not defined"
     ]
    }
   ],
   "source": [
    "[a-z]"
   ]
  },
  {
   "cell_type": "code",
   "execution_count": 6,
   "id": "3593a4fd",
   "metadata": {},
   "outputs": [],
   "source": [
    "# * 학생이름, 국어, 수학, 영어, 과학 점수 테이블을 만들고 싶다\n",
    "students = [\n",
    "    {\"name\":\"AAA\", \"korean\":98,\"math\":93,\"english\":79,\"science\":95},\n",
    "    {\"name\":\"BBB\", \"korean\":78,\"math\":87,\"english\":87,\"science\":91},\n",
    "    {\"name\":\"CCC\", \"korean\":87,\"math\":88,\"english\":83,\"science\":93},\n",
    "    {\"name\":\"DDD\", \"korean\":79,\"math\":92,\"english\":99,\"science\":88},\n",
    "    {\"name\":\"EEE\", \"korean\":92,\"math\":98,\"english\":94,\"science\":83},\n",
    "    {\"name\":\"FFF\", \"korean\":94,\"math\":99,\"english\":98,\"science\":77},\n",
    "    {\"name\":\"GGG\", \"korean\":84,\"math\":96,\"english\":99,\"science\":79},\n",
    "    {\"name\":\"HHH\", \"korean\":87,\"math\":78,\"english\":88,\"science\":95}\n",
    "]"
   ]
  },
  {
   "cell_type": "code",
   "execution_count": 7,
   "id": "7246f1f1",
   "metadata": {},
   "outputs": [
    {
     "data": {
      "text/plain": [
       "[{'name': 'AAA', 'korean': 98, 'math': 93, 'english': 79, 'science': 95},\n",
       " {'name': 'BBB', 'korean': 78, 'math': 87, 'english': 87, 'science': 91},\n",
       " {'name': 'CCC', 'korean': 87, 'math': 88, 'english': 83, 'science': 93},\n",
       " {'name': 'DDD', 'korean': 79, 'math': 92, 'english': 99, 'science': 88},\n",
       " {'name': 'EEE', 'korean': 92, 'math': 98, 'english': 94, 'science': 83},\n",
       " {'name': 'FFF', 'korean': 94, 'math': 99, 'english': 98, 'science': 77},\n",
       " {'name': 'GGG', 'korean': 84, 'math': 96, 'english': 99, 'science': 79},\n",
       " {'name': 'HHH', 'korean': 87, 'math': 78, 'english': 88, 'science': 95}]"
      ]
     },
     "execution_count": 7,
     "metadata": {},
     "output_type": "execute_result"
    }
   ],
   "source": [
    "students"
   ]
  },
  {
   "cell_type": "code",
   "execution_count": 19,
   "id": "58144d6c",
   "metadata": {},
   "outputs": [
    {
     "name": "stdout",
     "output_type": "stream",
     "text": [
      "AAA\t365\t91.25\n",
      "BBB\t343\t85.75\n",
      "CCC\t351\t87.75\n",
      "DDD\t358\t89.5\n",
      "EEE\t367\t91.75\n",
      "FFF\t368\t92.0\n",
      "GGG\t358\t89.5\n",
      "HHH\t348\t87.0\n"
     ]
    }
   ],
   "source": [
    "for student in students:\n",
    "    score_sum = student[\"korean\"] + student[\"math\"] \\\n",
    "                + student[\"english\"] + student[\"science\"]\n",
    "    score_avg = score_sum / 4\n",
    "    print(student[\"name\"], score_sum, score_avg, sep=\"\\t\")"
   ]
  },
  {
   "cell_type": "code",
   "execution_count": 20,
   "id": "6266f2b1",
   "metadata": {},
   "outputs": [],
   "source": [
    "# 학생에 대한 정보 생성 함수, 1명 학생에 대한 정보로 총점구하는 함수\n",
    "# 1명 학생에 대한 정보로 총점을 구하는 함수\n",
    "# 1명 학생에 대한 정보로 평균을 구하는 함수\n",
    "# 1명 학생에 대한 이름, 총점, 평균을 출력하는 함수\n",
    "def create_student(name, korean, math, english, science):\n",
    "    return {\"name\":name,\n",
    "           \"korean\":korean,\n",
    "           \"math\":math,\n",
    "           \"english\":english,\n",
    "           \"science\":science}\n",
    "\n",
    "def student_get_sum(student):\n",
    "    score_sum = student[\"korean\"] + student[\"math\"] \\\n",
    "                + student[\"english\"] + student[\"science\"]\n",
    "    return score_sum\n",
    "\n",
    "def student_get_avg(student):\n",
    "    score_avg = student_get_sum(student) / 4\n",
    "    return score_avg\n",
    "\n",
    "def student_to_string(student):\n",
    "    temp = \"{0}\\t{1}\\t{2}\".format(student[\"name\"]\n",
    "                                  ,student_get_sum(student)\n",
    "                                  ,student_get_avg(student))\n",
    "    return temp"
   ]
  },
  {
   "cell_type": "code",
   "execution_count": 21,
   "id": "937d1786",
   "metadata": {},
   "outputs": [],
   "source": [
    "students = [\n",
    "    create_student('AAA',98,93,79,95),\n",
    "    create_student('BBB',78,87,87,91),\n",
    "    create_student('CCC',87,88,83,93),\n",
    "    create_student('DDD',79,92,99,88),\n",
    "    create_student('EEE',92,98,94,83),\n",
    "    create_student('FFF',94,99,98,77),\n",
    "    create_student('GGG',84,96,99,79),\n",
    "    create_student('HHH',87,78,88,95)\n",
    "]"
   ]
  },
  {
   "cell_type": "code",
   "execution_count": 22,
   "id": "84ec3500",
   "metadata": {},
   "outputs": [
    {
     "name": "stdout",
     "output_type": "stream",
     "text": [
      "AAA\t365\t91.25\n",
      "BBB\t343\t85.75\n",
      "CCC\t351\t87.75\n",
      "DDD\t358\t89.5\n",
      "EEE\t367\t91.75\n",
      "FFF\t368\t92.0\n",
      "GGG\t358\t89.5\n",
      "HHH\t348\t87.0\n"
     ]
    }
   ],
   "source": [
    "for student in students:\n",
    "    print(student_to_string(student))"
   ]
  },
  {
   "cell_type": "code",
   "execution_count": 2,
   "id": "09dff675",
   "metadata": {},
   "outputs": [],
   "source": [
    "class Student:\n",
    "    def __init__(self,name,korean,math,english,science):\n",
    "        self.name = name\n",
    "        self.korean = korean\n",
    "        self.math = math\n",
    "        self.english = english\n",
    "        self.science = science\n",
    "    ## student 클래스에서 필요한 기능들을 만들자 : 메소드\n",
    "    def get_sum(self):\n",
    "        score_sum = self.korean + self.math + self.english + self.science\n",
    "        return score_sum\n",
    "    def get_avg(self):\n",
    "        score_avg = self.get_sum() / 4\n",
    "        return score_avg\n",
    "    def to_string(self):\n",
    "        temp = \"{0}\\t{1}\\t{2}\".format(self.name\n",
    "                                  ,self.get_sum()\n",
    "                                  ,self.get_avg())\n",
    "        return temp\n",
    "    ## 특별 메소드\n",
    "    def __str__(self):\n",
    "        temp = \"{0}\\t{1}\\t{2}\".format(self.name\n",
    "                                  ,self.get_sum()\n",
    "                                  ,self.get_avg())\n",
    "        return temp\n",
    "    ### 비교 관련 특별 메소드\n",
    "    # == : eq, != :ne, > : gt, >= : ge, < : lt, <= le\n",
    "    def __eq__(self, value):\n",
    "        return self.get_sum() == value.get_sum()\n",
    "    def __ne__(self, value):\n",
    "        return self.get_sum() != value.get_sum()\n",
    "    def __gt__(self, value):\n",
    "        return self.get_sum() > value.get_sum()\n",
    "    def __ge__(self, value):\n",
    "        return self.get_sum() >= value.get_sum()\n",
    "    def __lt__(self, value):\n",
    "        return self.get_sum() < value.get_sum()\n",
    "    def __le__(self, value):\n",
    "        return self.get_sum() <= value.get_sum()"
   ]
  },
  {
   "cell_type": "code",
   "execution_count": 3,
   "id": "3857d2d7",
   "metadata": {},
   "outputs": [],
   "source": [
    "students = [\n",
    "    Student('AAA',98,93,79,95),\n",
    "    Student('BBB',78,87,87,91),\n",
    "    Student('CCC',87,88,83,93),\n",
    "    Student('DDD',79,92,99,88),\n",
    "    Student('EEE',92,98,94,83),\n",
    "    Student('FFF',94,99,98,77),\n",
    "    Student('GGG',84,96,99,79),\n",
    "    Student('HHH',87,78,88,95)\n",
    "]"
   ]
  },
  {
   "cell_type": "code",
   "execution_count": 4,
   "id": "e10c1dc9",
   "metadata": {},
   "outputs": [
    {
     "name": "stdout",
     "output_type": "stream",
     "text": [
      "AAA\n",
      "98\n",
      "95\n",
      "87\n"
     ]
    }
   ],
   "source": [
    "print(students[0].name)\n",
    "print(students[0].korean)\n",
    "print(students[0].science)\n",
    "\n",
    "print(students[7].korean)"
   ]
  },
  {
   "cell_type": "code",
   "execution_count": 32,
   "id": "6c6d6d5f",
   "metadata": {},
   "outputs": [],
   "source": [
    "#이번에는 학생이라는 대상의 속성이 아니라, 그 속성을 바탕으로 뭔가 기능을 정의를 하고 싶음!!"
   ]
  },
  {
   "cell_type": "code",
   "execution_count": 33,
   "id": "7fe34695",
   "metadata": {},
   "outputs": [
    {
     "ename": "SyntaxError",
     "evalue": "invalid syntax (<ipython-input-33-3ae2a9a68821>, line 3)",
     "output_type": "error",
     "traceback": [
      "\u001b[1;36m  File \u001b[1;32m\"<ipython-input-33-3ae2a9a68821>\"\u001b[1;36m, line \u001b[1;32m3\u001b[0m\n\u001b[1;33m    생성자 : 뭔가 틀을 만들 때, 처음에 그 틀에 채울 값들..\u001b[0m\n\u001b[1;37m             ^\u001b[0m\n\u001b[1;31mSyntaxError\u001b[0m\u001b[1;31m:\u001b[0m invalid syntax\n"
     ]
    }
   ],
   "source": [
    "class 클래스이름:\n",
    "    def __init__(self):\n",
    "        생성자 : 뭔가 틀을 만들 때, 처음에 그 틀에 채울 값들..\n",
    "    def 메서드에 대한 이름(self, 입력 인자들이 필요하면...)\n",
    "        ~~~~~~"
   ]
  },
  {
   "cell_type": "code",
   "execution_count": 51,
   "id": "735d0012",
   "metadata": {},
   "outputs": [
    {
     "data": {
      "text/plain": [
       "[1, 2, 3, 4, 2]"
      ]
     },
     "execution_count": 51,
     "metadata": {},
     "output_type": "execute_result"
    }
   ],
   "source": [
    "a = [1, 2, 3, 4]\n",
    "a.append(2)\n",
    "a"
   ]
  },
  {
   "cell_type": "code",
   "execution_count": 52,
   "id": "37c50579",
   "metadata": {},
   "outputs": [
    {
     "name": "stdout",
     "output_type": "stream",
     "text": [
      "343\n",
      "85.75\n"
     ]
    }
   ],
   "source": [
    "print(students[1].get_sum())\n",
    "print(students[1].get_avg())"
   ]
  },
  {
   "cell_type": "code",
   "execution_count": 54,
   "id": "bc9ee6b9",
   "metadata": {},
   "outputs": [
    {
     "name": "stdout",
     "output_type": "stream",
     "text": [
      "AAA\t365\t91.25\n",
      "<__main__.Student object at 0x00000190511EBD90>\n",
      "BBB\t343\t85.75\n",
      "<__main__.Student object at 0x00000190511EBF70>\n",
      "CCC\t351\t87.75\n",
      "<__main__.Student object at 0x00000190511EB880>\n",
      "DDD\t358\t89.5\n",
      "<__main__.Student object at 0x00000190511EBF40>\n",
      "EEE\t367\t91.75\n",
      "<__main__.Student object at 0x00000190511EB970>\n",
      "FFF\t368\t92.0\n",
      "<__main__.Student object at 0x00000190511EBC40>\n",
      "GGG\t358\t89.5\n",
      "<__main__.Student object at 0x00000190511EBFD0>\n",
      "HHH\t348\t87.0\n",
      "<__main__.Student object at 0x00000190511EB3A0>\n"
     ]
    }
   ],
   "source": [
    "for student in students:\n",
    "    print(student.to_string())\n",
    "    print(student)"
   ]
  },
  {
   "cell_type": "code",
   "execution_count": 57,
   "id": "9e4c3b20",
   "metadata": {},
   "outputs": [
    {
     "name": "stdout",
     "output_type": "stream",
     "text": [
      "AAA\t365\t91.25\n",
      "AAA\t365\t91.25\n",
      "BBB\t343\t85.75\n",
      "BBB\t343\t85.75\n",
      "CCC\t351\t87.75\n",
      "CCC\t351\t87.75\n",
      "DDD\t358\t89.5\n",
      "DDD\t358\t89.5\n",
      "EEE\t367\t91.75\n",
      "EEE\t367\t91.75\n",
      "FFF\t368\t92.0\n",
      "FFF\t368\t92.0\n",
      "GGG\t358\t89.5\n",
      "GGG\t358\t89.5\n",
      "HHH\t348\t87.0\n",
      "HHH\t348\t87.0\n"
     ]
    }
   ],
   "source": [
    "for student in students:\n",
    "    print(student.to_string())\n",
    "    print(student)"
   ]
  },
  {
   "cell_type": "code",
   "execution_count": 58,
   "id": "acc8ce5c",
   "metadata": {},
   "outputs": [
    {
     "data": {
      "text/plain": [
       "'123456'"
      ]
     },
     "execution_count": 58,
     "metadata": {},
     "output_type": "execute_result"
    }
   ],
   "source": [
    "\"123\" + \"456\""
   ]
  },
  {
   "cell_type": "code",
   "execution_count": 59,
   "id": "23c82c20",
   "metadata": {},
   "outputs": [
    {
     "data": {
      "text/plain": [
       "579"
      ]
     },
     "execution_count": 59,
     "metadata": {},
     "output_type": "execute_result"
    }
   ],
   "source": [
    "123 + 456"
   ]
  },
  {
   "cell_type": "code",
   "execution_count": 60,
   "id": "65478383",
   "metadata": {},
   "outputs": [
    {
     "data": {
      "text/plain": [
       "[123, 456]"
      ]
     },
     "execution_count": 60,
     "metadata": {},
     "output_type": "execute_result"
    }
   ],
   "source": [
    "[123] + [456]"
   ]
  },
  {
   "cell_type": "code",
   "execution_count": 61,
   "id": "49a7687d",
   "metadata": {},
   "outputs": [
    {
     "data": {
      "text/plain": [
       "False"
      ]
     },
     "execution_count": 61,
     "metadata": {},
     "output_type": "execute_result"
    }
   ],
   "source": [
    "123 < 456"
   ]
  },
  {
   "cell_type": "code",
   "execution_count": 62,
   "id": "511dad89",
   "metadata": {},
   "outputs": [
    {
     "data": {
      "text/plain": [
       "False"
      ]
     },
     "execution_count": 62,
     "metadata": {},
     "output_type": "execute_result"
    }
   ],
   "source": [
    "\"123\" < \"456\""
   ]
  },
  {
   "cell_type": "code",
   "execution_count": 66,
   "id": "a2632d69",
   "metadata": {},
   "outputs": [
    {
     "data": {
      "text/plain": [
       "False"
      ]
     },
     "execution_count": 66,
     "metadata": {},
     "output_type": "execute_result"
    }
   ],
   "source": [
    "[123,4] > [123,5]"
   ]
  },
  {
   "cell_type": "code",
   "execution_count": 68,
   "id": "90dd668d",
   "metadata": {
    "scrolled": true
   },
   "outputs": [
    {
     "data": {
      "text/plain": [
       "True"
      ]
     },
     "execution_count": 68,
     "metadata": {},
     "output_type": "execute_result"
    }
   ],
   "source": [
    "[\"c=\",12] < [\"c=\",45]"
   ]
  },
  {
   "cell_type": "code",
   "execution_count": 69,
   "id": "14bc42b8",
   "metadata": {},
   "outputs": [
    {
     "data": {
      "text/plain": [
       "True"
      ]
     },
     "execution_count": 69,
     "metadata": {},
     "output_type": "execute_result"
    }
   ],
   "source": [
    "[\"c=\",45] == [\"c=\",45]"
   ]
  },
  {
   "cell_type": "code",
   "execution_count": 5,
   "id": "a9242b27",
   "metadata": {},
   "outputs": [
    {
     "name": "stdout",
     "output_type": "stream",
     "text": [
      "365\n",
      "343\n",
      "False\n",
      "True\n",
      "True\n",
      "True\n",
      "False\n",
      "False\n"
     ]
    }
   ],
   "source": [
    "std1 = Student('AAA',98,93,79,95)\n",
    "std2 = Student('BBB',78,87,87,91)\n",
    "print(std1.get_sum())\n",
    "print(std2.get_sum())\n",
    "print(std1 == std2)\n",
    "print(std1 != std2)\n",
    "print(std1 > std2)\n",
    "print(std1 >= std2)\n",
    "print(std1 < std2)\n",
    "print(std1 <= std2)\n"
   ]
  },
  {
   "cell_type": "code",
   "execution_count": 9,
   "id": "a2f502f9",
   "metadata": {},
   "outputs": [
    {
     "name": "stdout",
     "output_type": "stream",
     "text": [
      "[1, 2, 3, 4, 5]\n",
      "None\n",
      "[1, 2, 3, 4, 5, 6]\n",
      "None\n",
      "[1, 2, 3, 4, 5, 6, 7]\n",
      "7\n",
      "[1, 2, 3, 4, 5, 6]\n",
      "6\n",
      "[1, 2, 3, 4, 5]\n"
     ]
    }
   ],
   "source": [
    "numbers = [1,2,3,4,5]\n",
    "print(numbers)\n",
    "print(numbers.append(6))\n",
    "print(numbers)\n",
    "print(numbers.append(7))\n",
    "print(numbers)\n",
    "print(numbers.pop())\n",
    "print(numbers)\n",
    "print(numbers.pop())\n",
    "print(numbers)"
   ]
  },
  {
   "cell_type": "code",
   "execution_count": 10,
   "id": "c9cb6f4b",
   "metadata": {},
   "outputs": [
    {
     "name": "stdout",
     "output_type": "stream",
     "text": [
      "[1, 2, 3, 4, 5, 6]\n",
      "[1, 2, 3, 4, 5, 6, 7]\n",
      "1\n",
      "[2, 3, 4, 5, 6, 7]\n",
      "2\n",
      "[3, 4, 5, 6, 7]\n"
     ]
    }
   ],
   "source": [
    "numbers = [1,2,3,4,5]\n",
    "numbers.append(6)\n",
    "print(numbers)\n",
    "numbers.append(7)\n",
    "print(numbers)\n",
    "print(numbers.pop(0))\n",
    "print(numbers)\n",
    "print(numbers.pop(0))\n",
    "print(numbers)"
   ]
  },
  {
   "cell_type": "code",
   "execution_count": 11,
   "id": "40b12c69",
   "metadata": {},
   "outputs": [
    {
     "name": "stdout",
     "output_type": "stream",
     "text": [
      "나는 재귀함수다!!\n",
      "나는 재귀함수다!!\n",
      "나는 재귀함수다!!\n",
      "나는 재귀함수다!!\n",
      "나는 재귀함수다!!\n",
      "나는 재귀함수다!!\n",
      "나는 재귀함수다!!\n",
      "나는 재귀함수다!!\n",
      "나는 재귀함수다!!\n",
      "나는 재귀함수다!!\n",
      "나는 재귀함수다!!\n",
      "나는 재귀함수다!!\n",
      "나는 재귀함수다!!\n",
      "나는 재귀함수다!!\n",
      "나는 재귀함수다!!\n",
      "나는 재귀함수다!!\n",
      "나는 재귀함수다!!\n",
      "나는 재귀함수다!!\n",
      "나는 재귀함수다!!\n",
      "나는 재귀함수다!!\n",
      "나는 재귀함수다!!\n",
      "나는 재귀함수다!!\n",
      "나는 재귀함수다!!\n",
      "나는 재귀함수다!!\n",
      "나는 재귀함수다!!\n",
      "나는 재귀함수다!!\n",
      "나는 재귀함수다!!\n",
      "나는 재귀함수다!!\n",
      "나는 재귀함수다!!\n",
      "나는 재귀함수다!!\n",
      "나는 재귀함수다!!\n",
      "나는 재귀함수다!!\n",
      "나는 재귀함수다!!\n",
      "나는 재귀함수다!!\n",
      "나는 재귀함수다!!\n",
      "나는 재귀함수다!!\n",
      "나는 재귀함수다!!\n",
      "나는 재귀함수다!!\n",
      "나는 재귀함수다!!\n",
      "나는 재귀함수다!!\n",
      "나는 재귀함수다!!\n",
      "나는 재귀함수다!!\n",
      "나는 재귀함수다!!\n",
      "나는 재귀함수다!!\n",
      "나는 재귀함수다!!\n",
      "나는 재귀함수다!!\n",
      "나는 재귀함수다!!\n",
      "나는 재귀함수다!!\n",
      "나는 재귀함수다!!\n",
      "나는 재귀함수다!!\n",
      "나는 재귀함수다!!\n",
      "나는 재귀함수다!!\n",
      "나는 재귀함수다!!\n",
      "나는 재귀함수다!!\n",
      "나는 재귀함수다!!\n",
      "나는 재귀함수다!!\n",
      "나는 재귀함수다!!\n",
      "나는 재귀함수다!!\n",
      "나는 재귀함수다!!\n",
      "나는 재귀함수다!!\n",
      "나는 재귀함수다!!\n",
      "나는 재귀함수다!!\n",
      "나는 재귀함수다!!\n",
      "나는 재귀함수다!!\n",
      "나는 재귀함수다!!\n",
      "나는 재귀함수다!!\n",
      "나는 재귀함수다!!\n",
      "나는 재귀함수다!!\n",
      "나는 재귀함수다!!\n",
      "나는 재귀함수다!!\n",
      "나는 재귀함수다!!\n",
      "나는 재귀함수다!!\n",
      "나는 재귀함수다!!\n",
      "나는 재귀함수다!!\n",
      "나는 재귀함수다!!\n",
      "나는 재귀함수다!!\n",
      "나는 재귀함수다!!\n",
      "나는 재귀함수다!!\n",
      "나는 재귀함수다!!\n",
      "나는 재귀함수다!!\n",
      "나는 재귀함수다!!\n",
      "나는 재귀함수다!!\n",
      "나는 재귀함수다!!\n",
      "나는 재귀함수다!!\n",
      "나는 재귀함수다!!\n",
      "나는 재귀함수다!!\n",
      "나는 재귀함수다!!\n",
      "나는 재귀함수다!!\n",
      "나는 재귀함수다!!\n",
      "나는 재귀함수다!!\n",
      "나는 재귀함수다!!\n",
      "나는 재귀함수다!!\n",
      "나는 재귀함수다!!\n",
      "나는 재귀함수다!!\n",
      "나는 재귀함수다!!\n",
      "나는 재귀함수다!!\n",
      "나는 재귀함수다!!\n",
      "나는 재귀함수다!!\n",
      "나는 재귀함수다!!\n",
      "나는 재귀함수다!!\n",
      "나는 재귀함수다!!\n",
      "나는 재귀함수다!!\n",
      "나는 재귀함수다!!\n",
      "나는 재귀함수다!!\n",
      "나는 재귀함수다!!\n",
      "나는 재귀함수다!!\n",
      "나는 재귀함수다!!\n",
      "나는 재귀함수다!!\n",
      "나는 재귀함수다!!\n",
      "나는 재귀함수다!!\n",
      "나는 재귀함수다!!\n",
      "나는 재귀함수다!!\n",
      "나는 재귀함수다!!\n",
      "나는 재귀함수다!!\n",
      "나는 재귀함수다!!\n",
      "나는 재귀함수다!!\n",
      "나는 재귀함수다!!\n",
      "나는 재귀함수다!!\n",
      "나는 재귀함수다!!\n",
      "나는 재귀함수다!!\n",
      "나는 재귀함수다!!\n",
      "나는 재귀함수다!!\n",
      "나는 재귀함수다!!\n",
      "나는 재귀함수다!!\n",
      "나는 재귀함수다!!\n",
      "나는 재귀함수다!!\n",
      "나는 재귀함수다!!\n",
      "나는 재귀함수다!!\n",
      "나는 재귀함수다!!\n",
      "나는 재귀함수다!!\n",
      "나는 재귀함수다!!\n",
      "나는 재귀함수다!!\n",
      "나는 재귀함수다!!\n",
      "나는 재귀함수다!!\n",
      "나는 재귀함수다!!\n",
      "나는 재귀함수다!!\n",
      "나는 재귀함수다!!\n",
      "나는 재귀함수다!!\n",
      "나는 재귀함수다!!\n",
      "나는 재귀함수다!!\n",
      "나는 재귀함수다!!\n",
      "나는 재귀함수다!!\n",
      "나는 재귀함수다!!\n",
      "나는 재귀함수다!!\n",
      "나는 재귀함수다!!\n",
      "나는 재귀함수다!!\n",
      "나는 재귀함수다!!\n",
      "나는 재귀함수다!!\n",
      "나는 재귀함수다!!\n",
      "나는 재귀함수다!!\n",
      "나는 재귀함수다!!\n",
      "나는 재귀함수다!!\n",
      "나는 재귀함수다!!\n",
      "나는 재귀함수다!!\n",
      "나는 재귀함수다!!\n",
      "나는 재귀함수다!!\n",
      "나는 재귀함수다!!\n",
      "나는 재귀함수다!!\n",
      "나는 재귀함수다!!\n",
      "나는 재귀함수다!!\n",
      "나는 재귀함수다!!\n",
      "나는 재귀함수다!!\n",
      "나는 재귀함수다!!\n",
      "나는 재귀함수다!!\n",
      "나는 재귀함수다!!\n",
      "나는 재귀함수다!!\n",
      "나는 재귀함수다!!\n",
      "나는 재귀함수다!!\n",
      "나는 재귀함수다!!\n",
      "나는 재귀함수다!!\n",
      "나는 재귀함수다!!\n",
      "나는 재귀함수다!!\n",
      "나는 재귀함수다!!\n",
      "나는 재귀함수다!!\n",
      "나는 재귀함수다!!\n",
      "나는 재귀함수다!!\n",
      "나는 재귀함수다!!\n",
      "나는 재귀함수다!!\n",
      "나는 재귀함수다!!\n",
      "나는 재귀함수다!!\n",
      "나는 재귀함수다!!\n",
      "나는 재귀함수다!!\n",
      "나는 재귀함수다!!\n",
      "나는 재귀함수다!!\n",
      "나는 재귀함수다!!\n",
      "나는 재귀함수다!!\n",
      "나는 재귀함수다!!\n",
      "나는 재귀함수다!!\n",
      "나는 재귀함수다!!\n",
      "나는 재귀함수다!!\n",
      "나는 재귀함수다!!\n",
      "나는 재귀함수다!!\n",
      "나는 재귀함수다!!\n",
      "나는 재귀함수다!!\n",
      "나는 재귀함수다!!\n",
      "나는 재귀함수다!!\n",
      "나는 재귀함수다!!\n",
      "나는 재귀함수다!!\n",
      "나는 재귀함수다!!\n",
      "나는 재귀함수다!!\n",
      "나는 재귀함수다!!\n",
      "나는 재귀함수다!!\n",
      "나는 재귀함수다!!\n",
      "나는 재귀함수다!!\n",
      "나는 재귀함수다!!\n",
      "나는 재귀함수다!!\n",
      "나는 재귀함수다!!\n",
      "나는 재귀함수다!!\n",
      "나는 재귀함수다!!\n",
      "나는 재귀함수다!!\n",
      "나는 재귀함수다!!\n",
      "나는 재귀함수다!!\n",
      "나는 재귀함수다!!\n",
      "나는 재귀함수다!!\n",
      "나는 재귀함수다!!\n",
      "나는 재귀함수다!!\n",
      "나는 재귀함수다!!\n",
      "나는 재귀함수다!!\n",
      "나는 재귀함수다!!\n",
      "나는 재귀함수다!!\n",
      "나는 재귀함수다!!\n",
      "나는 재귀함수다!!\n",
      "나는 재귀함수다!!\n",
      "나는 재귀함수다!!\n",
      "나는 재귀함수다!!\n",
      "나는 재귀함수다!!\n",
      "나는 재귀함수다!!\n",
      "나는 재귀함수다!!\n",
      "나는 재귀함수다!!\n",
      "나는 재귀함수다!!\n",
      "나는 재귀함수다!!\n",
      "나는 재귀함수다!!\n",
      "나는 재귀함수다!!\n",
      "나는 재귀함수다!!\n",
      "나는 재귀함수다!!\n",
      "나는 재귀함수다!!\n",
      "나는 재귀함수다!!\n",
      "나는 재귀함수다!!\n",
      "나는 재귀함수다!!\n",
      "나는 재귀함수다!!\n",
      "나는 재귀함수다!!\n",
      "나는 재귀함수다!!\n",
      "나는 재귀함수다!!\n",
      "나는 재귀함수다!!\n",
      "나는 재귀함수다!!\n",
      "나는 재귀함수다!!\n",
      "나는 재귀함수다!!\n",
      "나는 재귀함수다!!\n",
      "나는 재귀함수다!!\n",
      "나는 재귀함수다!!\n",
      "나는 재귀함수다!!\n",
      "나는 재귀함수다!!\n",
      "나는 재귀함수다!!\n",
      "나는 재귀함수다!!\n",
      "나는 재귀함수다!!\n",
      "나는 재귀함수다!!\n",
      "나는 재귀함수다!!\n",
      "나는 재귀함수다!!\n",
      "나는 재귀함수다!!\n",
      "나는 재귀함수다!!\n",
      "나는 재귀함수다!!\n",
      "나는 재귀함수다!!\n",
      "나는 재귀함수다!!\n",
      "나는 재귀함수다!!\n",
      "나는 재귀함수다!!\n",
      "나는 재귀함수다!!\n",
      "나는 재귀함수다!!\n",
      "나는 재귀함수다!!\n",
      "나는 재귀함수다!!\n",
      "나는 재귀함수다!!\n",
      "나는 재귀함수다!!\n",
      "나는 재귀함수다!!\n",
      "나는 재귀함수다!!\n",
      "나는 재귀함수다!!\n",
      "나는 재귀함수다!!\n",
      "나는 재귀함수다!!\n",
      "나는 재귀함수다!!\n",
      "나는 재귀함수다!!\n",
      "나는 재귀함수다!!\n",
      "나는 재귀함수다!!\n",
      "나는 재귀함수다!!\n",
      "나는 재귀함수다!!\n",
      "나는 재귀함수다!!\n",
      "나는 재귀함수다!!\n",
      "나는 재귀함수다!!\n",
      "나는 재귀함수다!!\n",
      "나는 재귀함수다!!\n",
      "나는 재귀함수다!!\n",
      "나는 재귀함수다!!\n",
      "나는 재귀함수다!!\n",
      "나는 재귀함수다!!\n",
      "나는 재귀함수다!!\n",
      "나는 재귀함수다!!\n",
      "나는 재귀함수다!!\n",
      "나는 재귀함수다!!\n",
      "나는 재귀함수다!!\n",
      "나는 재귀함수다!!\n",
      "나는 재귀함수다!!\n",
      "나는 재귀함수다!!\n",
      "나는 재귀함수다!!\n",
      "나는 재귀함수다!!\n",
      "나는 재귀함수다!!\n",
      "나는 재귀함수다!!\n",
      "나는 재귀함수다!!\n",
      "나는 재귀함수다!!\n",
      "나는 재귀함수다!!\n",
      "나는 재귀함수다!!\n",
      "나는 재귀함수다!!\n",
      "나는 재귀함수다!!\n",
      "나는 재귀함수다!!\n",
      "나는 재귀함수다!!\n",
      "나는 재귀함수다!!\n",
      "나는 재귀함수다!!\n",
      "나는 재귀함수다!!\n",
      "나는 재귀함수다!!\n",
      "나는 재귀함수다!!\n",
      "나는 재귀함수다!!\n",
      "나는 재귀함수다!!\n",
      "나는 재귀함수다!!\n",
      "나는 재귀함수다!!\n",
      "나는 재귀함수다!!\n",
      "나는 재귀함수다!!\n",
      "나는 재귀함수다!!\n",
      "나는 재귀함수다!!\n",
      "나는 재귀함수다!!\n",
      "나는 재귀함수다!!\n",
      "나는 재귀함수다!!\n",
      "나는 재귀함수다!!\n",
      "나는 재귀함수다!!\n",
      "나는 재귀함수다!!\n",
      "나는 재귀함수다!!\n",
      "나는 재귀함수다!!\n",
      "나는 재귀함수다!!\n",
      "나는 재귀함수다!!\n",
      "나는 재귀함수다!!\n",
      "나는 재귀함수다!!\n",
      "나는 재귀함수다!!\n",
      "나는 재귀함수다!!\n",
      "나는 재귀함수다!!\n",
      "나는 재귀함수다!!\n",
      "나는 재귀함수다!!\n",
      "나는 재귀함수다!!\n",
      "나는 재귀함수다!!\n",
      "나는 재귀함수다!!\n",
      "나는 재귀함수다!!\n",
      "나는 재귀함수다!!\n",
      "나는 재귀함수다!!\n",
      "나는 재귀함수다!!\n",
      "나는 재귀함수다!!\n",
      "나는 재귀함수다!!\n",
      "나는 재귀함수다!!\n",
      "나는 재귀함수다!!\n",
      "나는 재귀함수다!!\n",
      "나는 재귀함수다!!\n",
      "나는 재귀함수다!!\n",
      "나는 재귀함수다!!\n",
      "나는 재귀함수다!!\n",
      "나는 재귀함수다!!\n",
      "나는 재귀함수다!!\n",
      "나는 재귀함수다!!\n",
      "나는 재귀함수다!!\n",
      "나는 재귀함수다!!\n",
      "나는 재귀함수다!!\n",
      "나는 재귀함수다!!\n",
      "나는 재귀함수다!!\n",
      "나는 재귀함수다!!\n",
      "나는 재귀함수다!!\n",
      "나는 재귀함수다!!\n",
      "나는 재귀함수다!!\n",
      "나는 재귀함수다!!\n",
      "나는 재귀함수다!!\n",
      "나는 재귀함수다!!\n",
      "나는 재귀함수다!!\n",
      "나는 재귀함수다!!\n",
      "나는 재귀함수다!!\n",
      "나는 재귀함수다!!\n",
      "나는 재귀함수다!!\n",
      "나는 재귀함수다!!\n",
      "나는 재귀함수다!!\n",
      "나는 재귀함수다!!\n",
      "나는 재귀함수다!!\n",
      "나는 재귀함수다!!\n",
      "나는 재귀함수다!!\n",
      "나는 재귀함수다!!\n",
      "나는 재귀함수다!!\n",
      "나는 재귀함수다!!\n",
      "나는 재귀함수다!!\n",
      "나는 재귀함수다!!\n",
      "나는 재귀함수다!!\n",
      "나는 재귀함수다!!\n",
      "나는 재귀함수다!!\n",
      "나는 재귀함수다!!\n",
      "나는 재귀함수다!!\n",
      "나는 재귀함수다!!\n",
      "나는 재귀함수다!!\n",
      "나는 재귀함수다!!\n",
      "나는 재귀함수다!!\n",
      "나는 재귀함수다!!\n",
      "나는 재귀함수다!!\n",
      "나는 재귀함수다!!\n",
      "나는 재귀함수다!!\n",
      "나는 재귀함수다!!\n",
      "나는 재귀함수다!!\n",
      "나는 재귀함수다!!\n",
      "나는 재귀함수다!!\n",
      "나는 재귀함수다!!\n",
      "나는 재귀함수다!!\n",
      "나는 재귀함수다!!\n",
      "나는 재귀함수다!!\n",
      "나는 재귀함수다!!\n",
      "나는 재귀함수다!!\n",
      "나는 재귀함수다!!\n",
      "나는 재귀함수다!!\n",
      "나는 재귀함수다!!\n",
      "나는 재귀함수다!!\n",
      "나는 재귀함수다!!\n",
      "나는 재귀함수다!!\n",
      "나는 재귀함수다!!\n",
      "나는 재귀함수다!!\n",
      "나는 재귀함수다!!\n",
      "나는 재귀함수다!!\n",
      "나는 재귀함수다!!\n",
      "나는 재귀함수다!!\n",
      "나는 재귀함수다!!\n",
      "나는 재귀함수다!!\n",
      "나는 재귀함수다!!\n",
      "나는 재귀함수다!!\n",
      "나는 재귀함수다!!\n",
      "나는 재귀함수다!!\n",
      "나는 재귀함수다!!\n",
      "나는 재귀함수다!!\n",
      "나는 재귀함수다!!\n",
      "나는 재귀함수다!!\n",
      "나는 재귀함수다!!\n",
      "나는 재귀함수다!!\n",
      "나는 재귀함수다!!\n",
      "나는 재귀함수다!!\n",
      "나는 재귀함수다!!\n",
      "나는 재귀함수다!!\n",
      "나는 재귀함수다!!\n",
      "나는 재귀함수다!!\n",
      "나는 재귀함수다!!\n",
      "나는 재귀함수다!!\n",
      "나는 재귀함수다!!\n",
      "나는 재귀함수다!!\n",
      "나는 재귀함수다!!\n",
      "나는 재귀함수다!!\n",
      "나는 재귀함수다!!\n",
      "나는 재귀함수다!!\n",
      "나는 재귀함수다!!\n",
      "나는 재귀함수다!!\n",
      "나는 재귀함수다!!\n",
      "나는 재귀함수다!!\n",
      "나는 재귀함수다!!\n",
      "나는 재귀함수다!!\n",
      "나는 재귀함수다!!\n",
      "나는 재귀함수다!!\n",
      "나는 재귀함수다!!\n",
      "나는 재귀함수다!!\n",
      "나는 재귀함수다!!\n",
      "나는 재귀함수다!!\n",
      "나는 재귀함수다!!\n",
      "나는 재귀함수다!!\n",
      "나는 재귀함수다!!\n",
      "나는 재귀함수다!!\n",
      "나는 재귀함수다!!\n",
      "나는 재귀함수다!!\n",
      "나는 재귀함수다!!\n",
      "나는 재귀함수다!!\n",
      "나는 재귀함수다!!\n",
      "나는 재귀함수다!!\n",
      "나는 재귀함수다!!\n",
      "나는 재귀함수다!!\n",
      "나는 재귀함수다!!\n",
      "나는 재귀함수다!!\n",
      "나는 재귀함수다!!\n",
      "나는 재귀함수다!!\n",
      "나는 재귀함수다!!\n",
      "나는 재귀함수다!!\n",
      "나는 재귀함수다!!\n",
      "나는 재귀함수다!!\n",
      "나는 재귀함수다!!\n",
      "나는 재귀함수다!!\n",
      "나는 재귀함수다!!\n",
      "나는 재귀함수다!!\n",
      "나는 재귀함수다!!\n",
      "나는 재귀함수다!!\n",
      "나는 재귀함수다!!\n",
      "나는 재귀함수다!!\n",
      "나는 재귀함수다!!\n",
      "나는 재귀함수다!!\n",
      "나는 재귀함수다!!\n",
      "나는 재귀함수다!!\n",
      "나는 재귀함수다!!\n",
      "나는 재귀함수다!!\n",
      "나는 재귀함수다!!\n",
      "나는 재귀함수다!!\n",
      "나는 재귀함수다!!\n",
      "나는 재귀함수다!!\n",
      "나는 재귀함수다!!\n",
      "나는 재귀함수다!!\n",
      "나는 재귀함수다!!\n",
      "나는 재귀함수다!!\n",
      "나는 재귀함수다!!\n",
      "나는 재귀함수다!!\n",
      "나는 재귀함수다!!\n",
      "나는 재귀함수다!!\n",
      "나는 재귀함수다!!\n",
      "나는 재귀함수다!!\n",
      "나는 재귀함수다!!\n",
      "나는 재귀함수다!!\n",
      "나는 재귀함수다!!\n",
      "나는 재귀함수다!!\n",
      "나는 재귀함수다!!\n",
      "나는 재귀함수다!!\n",
      "나는 재귀함수다!!\n",
      "나는 재귀함수다!!\n",
      "나는 재귀함수다!!\n",
      "나는 재귀함수다!!\n",
      "나는 재귀함수다!!\n",
      "나는 재귀함수다!!\n",
      "나는 재귀함수다!!\n",
      "나는 재귀함수다!!\n",
      "나는 재귀함수다!!\n",
      "나는 재귀함수다!!\n",
      "나는 재귀함수다!!\n",
      "나는 재귀함수다!!\n",
      "나는 재귀함수다!!\n",
      "나는 재귀함수다!!\n",
      "나는 재귀함수다!!\n",
      "나는 재귀함수다!!\n",
      "나는 재귀함수다!!\n",
      "나는 재귀함수다!!\n",
      "나는 재귀함수다!!\n",
      "나는 재귀함수다!!\n",
      "나는 재귀함수다!!\n",
      "나는 재귀함수다!!\n",
      "나는 재귀함수다!!\n",
      "나는 재귀함수다!!\n",
      "나는 재귀함수다!!\n",
      "나는 재귀함수다!!\n",
      "나는 재귀함수다!!\n",
      "나는 재귀함수다!!\n",
      "나는 재귀함수다!!\n",
      "나는 재귀함수다!!\n",
      "나는 재귀함수다!!\n",
      "나는 재귀함수다!!\n",
      "나는 재귀함수다!!\n",
      "나는 재귀함수다!!\n",
      "나는 재귀함수다!!\n",
      "나는 재귀함수다!!\n",
      "나는 재귀함수다!!\n",
      "나는 재귀함수다!!\n",
      "나는 재귀함수다!!\n",
      "나는 재귀함수다!!\n",
      "나는 재귀함수다!!\n",
      "나는 재귀함수다!!\n",
      "나는 재귀함수다!!\n",
      "나는 재귀함수다!!\n",
      "나는 재귀함수다!!\n",
      "나는 재귀함수다!!\n",
      "나는 재귀함수다!!\n",
      "나는 재귀함수다!!\n",
      "나는 재귀함수다!!\n",
      "나는 재귀함수다!!\n",
      "나는 재귀함수다!!\n",
      "나는 재귀함수다!!\n",
      "나는 재귀함수다!!\n",
      "나는 재귀함수다!!\n",
      "나는 재귀함수다!!\n",
      "나는 재귀함수다!!\n",
      "나는 재귀함수다!!\n",
      "나는 재귀함수다!!\n",
      "나는 재귀함수다!!\n",
      "나는 재귀함수다!!\n",
      "나는 재귀함수다!!\n",
      "나는 재귀함수다!!\n",
      "나는 재귀함수다!!\n",
      "나는 재귀함수다!!\n",
      "나는 재귀함수다!!\n",
      "나는 재귀함수다!!\n",
      "나는 재귀함수다!!\n",
      "나는 재귀함수다!!\n",
      "나는 재귀함수다!!\n",
      "나는 재귀함수다!!\n",
      "나는 재귀함수다!!\n",
      "나는 재귀함수다!!\n",
      "나는 재귀함수다!!\n",
      "나는 재귀함수다!!\n",
      "나는 재귀함수다!!\n",
      "나는 재귀함수다!!\n",
      "나는 재귀함수다!!\n",
      "나는 재귀함수다!!\n",
      "나는 재귀함수다!!\n",
      "나는 재귀함수다!!\n",
      "나는 재귀함수다!!\n",
      "나는 재귀함수다!!\n",
      "나는 재귀함수다!!\n",
      "나는 재귀함수다!!\n",
      "나는 재귀함수다!!\n",
      "나는 재귀함수다!!\n",
      "나는 재귀함수다!!\n",
      "나는 재귀함수다!!\n",
      "나는 재귀함수다!!\n",
      "나는 재귀함수다!!\n",
      "나는 재귀함수다!!\n",
      "나는 재귀함수다!!\n",
      "나는 재귀함수다!!\n",
      "나는 재귀함수다!!\n",
      "나는 재귀함수다!!\n",
      "나는 재귀함수다!!\n",
      "나는 재귀함수다!!\n",
      "나는 재귀함수다!!\n",
      "나는 재귀함수다!!\n",
      "나는 재귀함수다!!\n",
      "나는 재귀함수다!!\n",
      "나는 재귀함수다!!\n",
      "나는 재귀함수다!!\n",
      "나는 재귀함수다!!\n",
      "나는 재귀함수다!!\n",
      "나는 재귀함수다!!\n",
      "나는 재귀함수다!!\n",
      "나는 재귀함수다!!\n",
      "나는 재귀함수다!!\n",
      "나는 재귀함수다!!\n",
      "나는 재귀함수다!!\n",
      "나는 재귀함수다!!\n",
      "나는 재귀함수다!!\n",
      "나는 재귀함수다!!\n",
      "나는 재귀함수다!!\n",
      "나는 재귀함수다!!\n",
      "나는 재귀함수다!!\n",
      "나는 재귀함수다!!\n",
      "나는 재귀함수다!!\n",
      "나는 재귀함수다!!\n",
      "나는 재귀함수다!!\n",
      "나는 재귀함수다!!\n",
      "나는 재귀함수다!!\n",
      "나는 재귀함수다!!\n",
      "나는 재귀함수다!!\n",
      "나는 재귀함수다!!\n",
      "나는 재귀함수다!!\n",
      "나는 재귀함수다!!\n",
      "나는 재귀함수다!!\n",
      "나는 재귀함수다!!\n",
      "나는 재귀함수다!!\n",
      "나는 재귀함수다!!\n",
      "나는 재귀함수다!!\n",
      "나는 재귀함수다!!\n",
      "나는 재귀함수다!!\n",
      "나는 재귀함수다!!\n",
      "나는 재귀함수다!!\n",
      "나는 재귀함수다!!\n",
      "나는 재귀함수다!!\n",
      "나는 재귀함수다!!\n",
      "나는 재귀함수다!!\n",
      "나는 재귀함수다!!\n",
      "나는 재귀함수다!!\n",
      "나는 재귀함수다!!\n",
      "나는 재귀함수다!!\n",
      "나는 재귀함수다!!\n",
      "나는 재귀함수다!!\n",
      "나는 재귀함수다!!\n",
      "나는 재귀함수다!!\n",
      "나는 재귀함수다!!\n",
      "나는 재귀함수다!!\n",
      "나는 재귀함수다!!\n",
      "나는 재귀함수다!!\n",
      "나는 재귀함수다!!\n",
      "나는 재귀함수다!!\n",
      "나는 재귀함수다!!\n",
      "나는 재귀함수다!!\n",
      "나는 재귀함수다!!\n",
      "나는 재귀함수다!!\n",
      "나는 재귀함수다!!\n",
      "나는 재귀함수다!!\n",
      "나는 재귀함수다!!\n",
      "나는 재귀함수다!!\n",
      "나는 재귀함수다!!\n",
      "나는 재귀함수다!!\n",
      "나는 재귀함수다!!\n",
      "나는 재귀함수다!!\n",
      "나는 재귀함수다!!\n",
      "나는 재귀함수다!!\n",
      "나는 재귀함수다!!\n",
      "나는 재귀함수다!!\n",
      "나는 재귀함수다!!\n",
      "나는 재귀함수다!!\n",
      "나는 재귀함수다!!\n",
      "나는 재귀함수다!!\n",
      "나는 재귀함수다!!\n",
      "나는 재귀함수다!!\n",
      "나는 재귀함수다!!\n",
      "나는 재귀함수다!!\n",
      "나는 재귀함수다!!\n",
      "나는 재귀함수다!!\n",
      "나는 재귀함수다!!\n",
      "나는 재귀함수다!!\n",
      "나는 재귀함수다!!\n",
      "나는 재귀함수다!!\n",
      "나는 재귀함수다!!\n",
      "나는 재귀함수다!!\n",
      "나는 재귀함수다!!\n",
      "나는 재귀함수다!!\n",
      "나는 재귀함수다!!\n",
      "나는 재귀함수다!!\n",
      "나는 재귀함수다!!\n",
      "나는 재귀함수다!!\n",
      "나는 재귀함수다!!\n",
      "나는 재귀함수다!!\n",
      "나는 재귀함수다!!\n",
      "나는 재귀함수다!!\n",
      "나는 재귀함수다!!\n",
      "나는 재귀함수다!!\n",
      "나는 재귀함수다!!\n",
      "나는 재귀함수다!!\n",
      "나는 재귀함수다!!\n",
      "나는 재귀함수다!!\n",
      "나는 재귀함수다!!\n",
      "나는 재귀함수다!!\n",
      "나는 재귀함수다!!\n",
      "나는 재귀함수다!!\n",
      "나는 재귀함수다!!\n",
      "나는 재귀함수다!!\n",
      "나는 재귀함수다!!\n",
      "나는 재귀함수다!!\n",
      "나는 재귀함수다!!\n",
      "나는 재귀함수다!!\n",
      "나는 재귀함수다!!\n",
      "나는 재귀함수다!!\n",
      "나는 재귀함수다!!\n",
      "나는 재귀함수다!!\n",
      "나는 재귀함수다!!\n",
      "나는 재귀함수다!!\n",
      "나는 재귀함수다!!\n",
      "나는 재귀함수다!!\n",
      "나는 재귀함수다!!\n",
      "나는 재귀함수다!!\n",
      "나는 재귀함수다!!\n",
      "나는 재귀함수다!!\n",
      "나는 재귀함수다!!\n",
      "나는 재귀함수다!!\n",
      "나는 재귀함수다!!\n",
      "나는 재귀함수다!!\n",
      "나는 재귀함수다!!\n",
      "나는 재귀함수다!!\n",
      "나는 재귀함수다!!\n",
      "나는 재귀함수다!!\n",
      "나는 재귀함수다!!\n",
      "나는 재귀함수다!!\n",
      "나는 재귀함수다!!\n",
      "나는 재귀함수다!!\n",
      "나는 재귀함수다!!\n",
      "나는 재귀함수다!!\n",
      "나는 재귀함수다!!\n",
      "나는 재귀함수다!!\n",
      "나는 재귀함수다!!\n",
      "나는 재귀함수다!!\n",
      "나는 재귀함수다!!\n",
      "나는 재귀함수다!!\n",
      "나는 재귀함수다!!\n",
      "나는 재귀함수다!!\n",
      "나는 재귀함수다!!\n",
      "나는 재귀함수다!!\n",
      "나는 재귀함수다!!\n",
      "나는 재귀함수다!!\n",
      "나는 재귀함수다!!\n",
      "나는 재귀함수다!!\n",
      "나는 재귀함수다!!\n",
      "나는 재귀함수다!!\n",
      "나는 재귀함수다!!\n",
      "나는 재귀함수다!!\n",
      "나는 재귀함수다!!\n",
      "나는 재귀함수다!!\n",
      "나는 재귀함수다!!\n",
      "나는 재귀함수다!!\n",
      "나는 재귀함수다!!\n",
      "나는 재귀함수다!!\n",
      "나는 재귀함수다!!\n",
      "나는 재귀함수다!!\n",
      "나는 재귀함수다!!\n",
      "나는 재귀함수다!!\n",
      "나는 재귀함수다!!\n",
      "나는 재귀함수다!!\n",
      "나는 재귀함수다!!\n",
      "나는 재귀함수다!!\n",
      "나는 재귀함수다!!\n",
      "나는 재귀함수다!!\n",
      "나는 재귀함수다!!\n",
      "나는 재귀함수다!!\n",
      "나는 재귀함수다!!\n",
      "나는 재귀함수다!!\n",
      "나는 재귀함수다!!\n",
      "나는 재귀함수다!!\n",
      "나는 재귀함수다!!\n",
      "나는 재귀함수다!!\n",
      "나는 재귀함수다!!\n",
      "나는 재귀함수다!!\n",
      "나는 재귀함수다!!\n",
      "나는 재귀함수다!!\n",
      "나는 재귀함수다!!\n",
      "나는 재귀함수다!!\n",
      "나는 재귀함수다!!\n",
      "나는 재귀함수다!!\n",
      "나는 재귀함수다!!\n",
      "나는 재귀함수다!!\n",
      "나는 재귀함수다!!\n",
      "나는 재귀함수다!!\n",
      "나는 재귀함수다!!\n",
      "나는 재귀함수다!!\n",
      "나는 재귀함수다!!\n",
      "나는 재귀함수다!!\n",
      "나는 재귀함수다!!\n",
      "나는 재귀함수다!!\n",
      "나는 재귀함수다!!\n",
      "나는 재귀함수다!!\n",
      "나는 재귀함수다!!\n",
      "나는 재귀함수다!!\n",
      "나는 재귀함수다!!\n",
      "나는 재귀함수다!!\n",
      "나는 재귀함수다!!\n",
      "나는 재귀함수다!!\n",
      "나는 재귀함수다!!\n",
      "나는 재귀함수다!!\n",
      "나는 재귀함수다!!\n",
      "나는 재귀함수다!!\n",
      "나는 재귀함수다!!\n",
      "나는 재귀함수다!!\n",
      "나는 재귀함수다!!\n",
      "나는 재귀함수다!!\n",
      "나는 재귀함수다!!\n",
      "나는 재귀함수다!!\n",
      "나는 재귀함수다!!\n",
      "나는 재귀함수다!!\n",
      "나는 재귀함수다!!\n",
      "나는 재귀함수다!!\n",
      "나는 재귀함수다!!\n",
      "나는 재귀함수다!!\n",
      "나는 재귀함수다!!\n",
      "나는 재귀함수다!!\n",
      "나는 재귀함수다!!\n",
      "나는 재귀함수다!!\n",
      "나는 재귀함수다!!\n",
      "나는 재귀함수다!!\n",
      "나는 재귀함수다!!\n",
      "나는 재귀함수다!!\n",
      "나는 재귀함수다!!\n",
      "나는 재귀함수다!!\n",
      "나는 재귀함수다!!\n",
      "나는 재귀함수다!!\n",
      "나는 재귀함수다!!\n",
      "나는 재귀함수다!!\n",
      "나는 재귀함수다!!\n",
      "나는 재귀함수다!!\n",
      "나는 재귀함수다!!\n",
      "나는 재귀함수다!!\n",
      "나는 재귀함수다!!\n",
      "나는 재귀함수다!!\n",
      "나는 재귀함수다!!\n",
      "나는 재귀함수다!!\n",
      "나는 재귀함수다!!\n",
      "나는 재귀함수다!!\n",
      "나는 재귀함수다!!\n",
      "나는 재귀함수다!!\n",
      "나는 재귀함수다!!\n",
      "나는 재귀함수다!!\n",
      "나는 재귀함수다!!\n",
      "나는 재귀함수다!!\n",
      "나는 재귀함수다!!\n",
      "나는 재귀함수다!!\n",
      "나는 재귀함수다!!\n",
      "나는 재귀함수다!!\n",
      "나는 재귀함수다!!\n",
      "나는 재귀함수다!!\n",
      "나는 재귀함수다!!\n",
      "나는 재귀함수다!!\n",
      "나는 재귀함수다!!\n",
      "나는 재귀함수다!!\n",
      "나는 재귀함수다!!\n",
      "나는 재귀함수다!!\n",
      "나는 재귀함수다!!\n",
      "나는 재귀함수다!!\n",
      "나는 재귀함수다!!\n",
      "나는 재귀함수다!!\n",
      "나는 재귀함수다!!\n",
      "나는 재귀함수다!!\n",
      "나는 재귀함수다!!\n",
      "나는 재귀함수다!!\n",
      "나는 재귀함수다!!\n",
      "나는 재귀함수다!!\n",
      "나는 재귀함수다!!\n",
      "나는 재귀함수다!!\n",
      "나는 재귀함수다!!\n",
      "나는 재귀함수다!!\n",
      "나는 재귀함수다!!\n",
      "나는 재귀함수다!!\n",
      "나는 재귀함수다!!\n",
      "나는 재귀함수다!!\n",
      "나는 재귀함수다!!\n",
      "나는 재귀함수다!!\n",
      "나는 재귀함수다!!\n",
      "나는 재귀함수다!!\n",
      "나는 재귀함수다!!\n",
      "나는 재귀함수다!!\n",
      "나는 재귀함수다!!\n",
      "나는 재귀함수다!!\n",
      "나는 재귀함수다!!\n",
      "나는 재귀함수다!!\n",
      "나는 재귀함수다!!\n",
      "나는 재귀함수다!!\n",
      "나는 재귀함수다!!\n",
      "나는 재귀함수다!!\n",
      "나는 재귀함수다!!\n",
      "나는 재귀함수다!!\n",
      "나는 재귀함수다!!\n",
      "나는 재귀함수다!!\n",
      "나는 재귀함수다!!\n",
      "나는 재귀함수다!!\n",
      "나는 재귀함수다!!\n",
      "나는 재귀함수다!!\n",
      "나는 재귀함수다!!\n",
      "나는 재귀함수다!!\n",
      "나는 재귀함수다!!\n",
      "나는 재귀함수다!!\n",
      "나는 재귀함수다!!\n",
      "나는 재귀함수다!!\n",
      "나는 재귀함수다!!\n",
      "나는 재귀함수다!!\n",
      "나는 재귀함수다!!\n",
      "나는 재귀함수다!!\n",
      "나는 재귀함수다!!\n",
      "나는 재귀함수다!!\n",
      "나는 재귀함수다!!\n",
      "나는 재귀함수다!!\n",
      "나는 재귀함수다!!\n",
      "나는 재귀함수다!!\n",
      "나는 재귀함수다!!\n",
      "나는 재귀함수다!!\n",
      "나는 재귀함수다!!\n",
      "나는 재귀함수다!!\n",
      "나는 재귀함수다!!\n",
      "나는 재귀함수다!!\n",
      "나는 재귀함수다!!\n",
      "나는 재귀함수다!!\n",
      "나는 재귀함수다!!\n",
      "나는 재귀함수다!!\n",
      "나는 재귀함수다!!\n",
      "나는 재귀함수다!!\n",
      "나는 재귀함수다!!\n",
      "나는 재귀함수다!!\n",
      "나는 재귀함수다!!\n",
      "나는 재귀함수다!!\n",
      "나는 재귀함수다!!\n",
      "나는 재귀함수다!!\n",
      "나는 재귀함수다!!\n",
      "나는 재귀함수다!!\n",
      "나는 재귀함수다!!\n",
      "나는 재귀함수다!!\n",
      "나는 재귀함수다!!\n",
      "나는 재귀함수다!!\n",
      "나는 재귀함수다!!\n",
      "나는 재귀함수다!!\n",
      "나는 재귀함수다!!\n",
      "나는 재귀함수다!!\n",
      "나는 재귀함수다!!\n",
      "나는 재귀함수다!!\n",
      "나는 재귀함수다!!\n",
      "나는 재귀함수다!!\n",
      "나는 재귀함수다!!\n",
      "나는 재귀함수다!!\n",
      "나는 재귀함수다!!\n",
      "나는 재귀함수다!!\n",
      "나는 재귀함수다!!\n",
      "나는 재귀함수다!!\n",
      "나는 재귀함수다!!\n",
      "나는 재귀함수다!!\n",
      "나는 재귀함수다!!\n",
      "나는 재귀함수다!!\n",
      "나는 재귀함수다!!\n",
      "나는 재귀함수다!!\n",
      "나는 재귀함수다!!\n",
      "나는 재귀함수다!!\n",
      "나는 재귀함수다!!\n",
      "나는 재귀함수다!!\n",
      "나는 재귀함수다!!\n",
      "나는 재귀함수다!!\n",
      "나는 재귀함수다!!\n",
      "나는 재귀함수다!!\n",
      "나는 재귀함수다!!\n",
      "나는 재귀함수다!!\n",
      "나는 재귀함수다!!\n",
      "나는 재귀함수다!!\n",
      "나는 재귀함수다!!\n",
      "나는 재귀함수다!!\n",
      "나는 재귀함수다!!\n",
      "나는 재귀함수다!!\n",
      "나는 재귀함수다!!\n",
      "나는 재귀함수다!!\n",
      "나는 재귀함수다!!\n",
      "나는 재귀함수다!!\n",
      "나는 재귀함수다!!\n",
      "나는 재귀함수다!!\n",
      "나는 재귀함수다!!\n",
      "나는 재귀함수다!!\n",
      "나는 재귀함수다!!\n",
      "나는 재귀함수다!!\n",
      "나는 재귀함수다!!\n",
      "나는 재귀함수다!!\n",
      "나는 재귀함수다!!\n",
      "나는 재귀함수다!!\n",
      "나는 재귀함수다!!\n",
      "나는 재귀함수다!!\n",
      "나는 재귀함수다!!\n",
      "나는 재귀함수다!!\n",
      "나는 재귀함수다!!\n",
      "나는 재귀함수다!!\n",
      "나는 재귀함수다!!\n",
      "나는 재귀함수다!!\n",
      "나는 재귀함수다!!\n",
      "나는 재귀함수다!!\n",
      "나는 재귀함수다!!\n",
      "나는 재귀함수다!!\n",
      "나는 재귀함수다!!\n",
      "나는 재귀함수다!!\n",
      "나는 재귀함수다!!\n",
      "나는 재귀함수다!!\n",
      "나는 재귀함수다!!\n",
      "나는 재귀함수다!!\n",
      "나는 재귀함수다!!\n",
      "나는 재귀함수다!!\n",
      "나는 재귀함수다!!\n",
      "나는 재귀함수다!!\n",
      "나는 재귀함수다!!\n",
      "나는 재귀함수다!!\n",
      "나는 재귀함수다!!\n",
      "나는 재귀함수다!!\n",
      "나는 재귀함수다!!\n",
      "나는 재귀함수다!!\n",
      "나는 재귀함수다!!\n",
      "나는 재귀함수다!!\n",
      "나는 재귀함수다!!\n",
      "나는 재귀함수다!!\n",
      "나는 재귀함수다!!\n",
      "나는 재귀함수다!!\n",
      "나는 재귀함수다!!\n",
      "나는 재귀함수다!!\n",
      "나는 재귀함수다!!\n",
      "나는 재귀함수다!!\n",
      "나는 재귀함수다!!\n",
      "나는 재귀함수다!!\n",
      "나는 재귀함수다!!\n",
      "나는 재귀함수다!!\n",
      "나는 재귀함수다!!\n",
      "나는 재귀함수다!!\n",
      "나는 재귀함수다!!\n",
      "나는 재귀함수다!!\n",
      "나는 재귀함수다!!\n",
      "나는 재귀함수다!!\n",
      "나는 재귀함수다!!\n",
      "나는 재귀함수다!!\n",
      "나는 재귀함수다!!\n",
      "나는 재귀함수다!!\n",
      "나는 재귀함수다!!\n",
      "나는 재귀함수다!!\n",
      "나는 재귀함수다!!\n",
      "나는 재귀함수다!!\n",
      "나는 재귀함수다!!\n",
      "나는 재귀함수다!!\n",
      "나는 재귀함수다!!\n",
      "나는 재귀함수다!!\n",
      "나는 재귀함수다!!\n",
      "나는 재귀함수다!!\n",
      "나는 재귀함수다!!\n",
      "나는 재귀함수다!!\n",
      "나는 재귀함수다!!\n",
      "나는 재귀함수다!!\n",
      "나는 재귀함수다!!\n",
      "나는 재귀함수다!!\n",
      "나는 재귀함수다!!\n",
      "나는 재귀함수다!!\n",
      "나는 재귀함수다!!\n",
      "나는 재귀함수다!!\n",
      "나는 재귀함수다!!\n",
      "나는 재귀함수다!!\n",
      "나는 재귀함수다!!\n",
      "나는 재귀함수다!!\n",
      "나는 재귀함수다!!\n",
      "나는 재귀함수다!!\n",
      "나는 재귀함수다!!\n",
      "나는 재귀함수다!!\n",
      "나는 재귀함수다!!\n",
      "나는 재귀함수다!!\n",
      "나는 재귀함수다!!\n",
      "나는 재귀함수다!!\n",
      "나는 재귀함수다!!\n",
      "나는 재귀함수다!!\n",
      "나는 재귀함수다!!\n",
      "나는 재귀함수다!!\n",
      "나는 재귀함수다!!\n",
      "나는 재귀함수다!!\n",
      "나는 재귀함수다!!\n",
      "나는 재귀함수다!!\n",
      "나는 재귀함수다!!\n",
      "나는 재귀함수다!!\n",
      "나는 재귀함수다!!\n",
      "나는 재귀함수다!!\n",
      "나는 재귀함수다!!\n",
      "나는 재귀함수다!!\n",
      "나는 재귀함수다!!\n",
      "나는 재귀함수다!!\n",
      "나는 재귀함수다!!\n",
      "나는 재귀함수다!!\n",
      "나는 재귀함수다!!\n",
      "나는 재귀함수다!!\n",
      "나는 재귀함수다!!\n",
      "나는 재귀함수다!!\n",
      "나는 재귀함수다!!\n",
      "나는 재귀함수다!!\n",
      "나는 재귀함수다!!\n",
      "나는 재귀함수다!!\n",
      "나는 재귀함수다!!\n",
      "나는 재귀함수다!!\n",
      "나는 재귀함수다!!\n",
      "나는 재귀함수다!!\n",
      "나는 재귀함수다!!\n",
      "나는 재귀함수다!!\n",
      "나는 재귀함수다!!\n",
      "나는 재귀함수다!!\n",
      "나는 재귀함수다!!\n",
      "나는 재귀함수다!!\n",
      "나는 재귀함수다!!\n",
      "나는 재귀함수다!!\n",
      "나는 재귀함수다!!\n",
      "나는 재귀함수다!!\n",
      "나는 재귀함수다!!\n",
      "나는 재귀함수다!!\n",
      "나는 재귀함수다!!\n",
      "나는 재귀함수다!!\n",
      "나는 재귀함수다!!\n",
      "나는 재귀함수다!!\n",
      "나는 재귀함수다!!\n",
      "나는 재귀함수다!!\n",
      "나는 재귀함수다!!\n",
      "나는 재귀함수다!!\n",
      "나는 재귀함수다!!\n",
      "나는 재귀함수다!!\n",
      "나는 재귀함수다!!\n",
      "나는 재귀함수다!!\n",
      "나는 재귀함수다!!\n",
      "나는 재귀함수다!!\n",
      "나는 재귀함수다!!\n",
      "나는 재귀함수다!!\n",
      "나는 재귀함수다!!\n",
      "나는 재귀함수다!!\n",
      "나는 재귀함수다!!\n",
      "나는 재귀함수다!!\n",
      "나는 재귀함수다!!\n",
      "나는 재귀함수다!!\n",
      "나는 재귀함수다!!\n",
      "나는 재귀함수다!!\n",
      "나는 재귀함수다!!\n",
      "나는 재귀함수다!!\n",
      "나는 재귀함수다!!\n",
      "나는 재귀함수다!!\n",
      "나는 재귀함수다!!\n",
      "나는 재귀함수다!!\n",
      "나는 재귀함수다!!\n",
      "나는 재귀함수다!!\n",
      "나는 재귀함수다!!\n",
      "나는 재귀함수다!!\n",
      "나는 재귀함수다!!\n",
      "나는 재귀함수다!!\n",
      "나는 재귀함수다!!\n",
      "나는 재귀함수다!!\n",
      "나는 재귀함수다!!\n",
      "나는 재귀함수다!!\n",
      "나는 재귀함수다!!\n",
      "나는 재귀함수다!!\n",
      "나는 재귀함수다!!\n",
      "나는 재귀함수다!!\n",
      "나는 재귀함수다!!\n",
      "나는 재귀함수다!!\n",
      "나는 재귀함수다!!\n",
      "나는 재귀함수다!!\n",
      "나는 재귀함수다!!\n",
      "나는 재귀함수다!!\n",
      "나는 재귀함수다!!\n",
      "나는 재귀함수다!!\n",
      "나는 재귀함수다!!\n",
      "나는 재귀함수다!!\n",
      "나는 재귀함수다!!\n",
      "나는 재귀함수다!!\n",
      "나는 재귀함수다!!\n",
      "나는 재귀함수다!!\n",
      "나는 재귀함수다!!\n",
      "나는 재귀함수다!!\n",
      "나는 재귀함수다!!\n",
      "나는 재귀함수다!!\n",
      "나는 재귀함수다!!\n",
      "나는 재귀함수다!!\n",
      "나는 재귀함수다!!\n",
      "나는 재귀함수다!!\n",
      "나는 재귀함수다!!\n",
      "나는 재귀함수다!!\n",
      "나는 재귀함수다!!\n",
      "나는 재귀함수다!!\n",
      "나는 재귀함수다!!\n",
      "나는 재귀함수다!!\n",
      "나는 재귀함수다!!\n",
      "나는 재귀함수다!!\n",
      "나는 재귀함수다!!\n",
      "나는 재귀함수다!!\n",
      "나는 재귀함수다!!\n",
      "나는 재귀함수다!!\n",
      "나는 재귀함수다!!\n",
      "나는 재귀함수다!!\n",
      "나는 재귀함수다!!\n",
      "나는 재귀함수다!!\n",
      "나는 재귀함수다!!\n",
      "나는 재귀함수다!!\n",
      "나는 재귀함수다!!\n",
      "나는 재귀함수다!!\n",
      "나는 재귀함수다!!\n",
      "나는 재귀함수다!!\n",
      "나는 재귀함수다!!\n",
      "나는 재귀함수다!!\n",
      "나는 재귀함수다!!\n",
      "나는 재귀함수다!!\n",
      "나는 재귀함수다!!\n",
      "나는 재귀함수다!!\n",
      "나는 재귀함수다!!\n",
      "나는 재귀함수다!!\n",
      "나는 재귀함수다!!\n",
      "나는 재귀함수다!!\n",
      "나는 재귀함수다!!\n",
      "나는 재귀함수다!!\n",
      "나는 재귀함수다!!\n",
      "나는 재귀함수다!!\n",
      "나는 재귀함수다!!\n",
      "나는 재귀함수다!!\n",
      "나는 재귀함수다!!\n",
      "나는 재귀함수다!!\n",
      "나는 재귀함수다!!\n",
      "나는 재귀함수다!!\n",
      "나는 재귀함수다!!\n",
      "나는 재귀함수다!!\n",
      "나는 재귀함수다!!\n",
      "나는 재귀함수다!!\n",
      "나는 재귀함수다!!\n",
      "나는 재귀함수다!!\n",
      "나는 재귀함수다!!\n",
      "나는 재귀함수다!!\n",
      "나는 재귀함수다!!\n",
      "나는 재귀함수다!!\n",
      "나는 재귀함수다!!\n",
      "나는 재귀함수다!!\n",
      "나는 재귀함수다!!\n",
      "나는 재귀함수다!!\n",
      "나는 재귀함수다!!\n",
      "나는 재귀함수다!!\n",
      "나는 재귀함수다!!\n",
      "나는 재귀함수다!!\n",
      "나는 재귀함수다!!\n",
      "나는 재귀함수다!!\n",
      "나는 재귀함수다!!\n",
      "나는 재귀함수다!!\n",
      "나는 재귀함수다!!\n",
      "나는 재귀함수다!!\n",
      "나는 재귀함수다!!\n",
      "나는 재귀함수다!!\n",
      "나는 재귀함수다!!\n",
      "나는 재귀함수다!!\n",
      "나는 재귀함수다!!\n",
      "나는 재귀함수다!!\n",
      "나는 재귀함수다!!\n",
      "나는 재귀함수다!!\n",
      "나는 재귀함수다!!\n",
      "나는 재귀함수다!!\n",
      "나는 재귀함수다!!\n",
      "나는 재귀함수다!!\n",
      "나는 재귀함수다!!\n",
      "나는 재귀함수다!!\n",
      "나는 재귀함수다!!\n",
      "나는 재귀함수다!!\n",
      "나는 재귀함수다!!\n",
      "나는 재귀함수다!!\n",
      "나는 재귀함수다!!\n",
      "나는 재귀함수다!!\n",
      "나는 재귀함수다!!\n",
      "나는 재귀함수다!!\n",
      "나는 재귀함수다!!\n",
      "나는 재귀함수다!!\n",
      "나는 재귀함수다!!\n",
      "나는 재귀함수다!!\n",
      "나는 재귀함수다!!\n",
      "나는 재귀함수다!!\n",
      "나는 재귀함수다!!\n",
      "나는 재귀함수다!!\n",
      "나는 재귀함수다!!\n",
      "나는 재귀함수다!!\n",
      "나는 재귀함수다!!\n",
      "나는 재귀함수다!!\n",
      "나는 재귀함수다!!\n",
      "나는 재귀함수다!!\n",
      "나는 재귀함수다!!\n",
      "나는 재귀함수다!!\n",
      "나는 재귀함수다!!\n",
      "나는 재귀함수다!!\n",
      "나는 재귀함수다!!\n",
      "나는 재귀함수다!!\n",
      "나는 재귀함수다!!\n",
      "나는 재귀함수다!!\n",
      "나는 재귀함수다!!\n",
      "나는 재귀함수다!!\n",
      "나는 재귀함수다!!\n",
      "나는 재귀함수다!!\n",
      "나는 재귀함수다!!\n",
      "나는 재귀함수다!!\n",
      "나는 재귀함수다!!\n",
      "나는 재귀함수다!!\n",
      "나는 재귀함수다!!\n",
      "나는 재귀함수다!!\n",
      "나는 재귀함수다!!\n",
      "나는 재귀함수다!!\n",
      "나는 재귀함수다!!\n",
      "나는 재귀함수다!!\n",
      "나는 재귀함수다!!\n",
      "나는 재귀함수다!!\n",
      "나는 재귀함수다!!\n",
      "나는 재귀함수다!!\n",
      "나는 재귀함수다!!\n",
      "나는 재귀함수다!!\n",
      "나는 재귀함수다!!\n",
      "나는 재귀함수다!!\n",
      "나는 재귀함수다!!\n",
      "나는 재귀함수다!!\n",
      "나는 재귀함수다!!\n",
      "나는 재귀함수다!!\n",
      "나는 재귀함수다!!\n",
      "나는 재귀함수다!!\n",
      "나는 재귀함수다!!\n",
      "나는 재귀함수다!!\n",
      "나는 재귀함수다!!\n",
      "나는 재귀함수다!!\n",
      "나는 재귀함수다!!\n",
      "나는 재귀함수다!!\n",
      "나는 재귀함수다!!\n",
      "나는 재귀함수다!!\n",
      "나는 재귀함수다!!\n",
      "나는 재귀함수다!!\n",
      "나는 재귀함수다!!\n",
      "나는 재귀함수다!!\n",
      "나는 재귀함수다!!\n",
      "나는 재귀함수다!!\n",
      "나는 재귀함수다!!\n",
      "나는 재귀함수다!!\n",
      "나는 재귀함수다!!\n",
      "나는 재귀함수다!!\n",
      "나는 재귀함수다!!\n",
      "나는 재귀함수다!!\n",
      "나는 재귀함수다!!\n",
      "나는 재귀함수다!!\n",
      "나는 재귀함수다!!\n",
      "나는 재귀함수다!!\n",
      "나는 재귀함수다!!\n",
      "나는 재귀함수다!!\n",
      "나는 재귀함수다!!\n",
      "나는 재귀함수다!!\n",
      "나는 재귀함수다!!\n",
      "나는 재귀함수다!!\n",
      "나는 재귀함수다!!\n",
      "나는 재귀함수다!!\n",
      "나는 재귀함수다!!\n",
      "나는 재귀함수다!!\n",
      "나는 재귀함수다!!\n",
      "나는 재귀함수다!!\n",
      "나는 재귀함수다!!\n",
      "나는 재귀함수다!!\n",
      "나는 재귀함수다!!\n",
      "나는 재귀함수다!!\n",
      "나는 재귀함수다!!\n",
      "나는 재귀함수다!!\n",
      "나는 재귀함수다!!\n",
      "나는 재귀함수다!!\n",
      "나는 재귀함수다!!\n",
      "나는 재귀함수다!!\n",
      "나는 재귀함수다!!\n",
      "나는 재귀함수다!!\n",
      "나는 재귀함수다!!\n",
      "나는 재귀함수다!!\n",
      "나는 재귀함수다!!\n",
      "나는 재귀함수다!!\n",
      "나는 재귀함수다!!\n",
      "나는 재귀함수다!!\n",
      "나는 재귀함수다!!\n",
      "나는 재귀함수다!!\n",
      "나는 재귀함수다!!\n",
      "나는 재귀함수다!!\n",
      "나는 재귀함수다!!\n",
      "나는 재귀함수다!!\n",
      "나는 재귀함수다!!\n",
      "나는 재귀함수다!!\n",
      "나는 재귀함수다!!\n",
      "나는 재귀함수다!!\n",
      "나는 재귀함수다!!\n",
      "나는 재귀함수다!!\n",
      "나는 재귀함수다!!\n",
      "나는 재귀함수다!!\n",
      "나는 재귀함수다!!\n",
      "나는 재귀함수다!!\n",
      "나는 재귀함수다!!\n",
      "나는 재귀함수다!!\n",
      "나는 재귀함수다!!\n",
      "나는 재귀함수다!!\n",
      "나는 재귀함수다!!\n",
      "나는 재귀함수다!!\n",
      "나는 재귀함수다!!\n",
      "나는 재귀함수다!!\n",
      "나는 재귀함수다!!\n",
      "나는 재귀함수다!!\n",
      "나는 재귀함수다!!\n",
      "나는 재귀함수다!!\n",
      "나는 재귀함수다!!\n",
      "나는 재귀함수다!!\n",
      "나는 재귀함수다!!\n",
      "나는 재귀함수다!!\n",
      "나는 재귀함수다!!\n",
      "나는 재귀함수다!!\n",
      "나는 재귀함수다!!\n",
      "나는 재귀함수다!!\n",
      "나는 재귀함수다!!\n",
      "나는 재귀함수다!!\n",
      "나는 재귀함수다!!\n",
      "나는 재귀함수다!!\n",
      "나는 재귀함수다!!\n",
      "나는 재귀함수다!!\n",
      "나는 재귀함수다!!\n",
      "나는 재귀함수다!!\n",
      "나는 재귀함수다!!\n",
      "나는 재귀함수다!!\n",
      "나는 재귀함수다!!\n",
      "나는 재귀함수다!!\n",
      "나는 재귀함수다!!\n",
      "나는 재귀함수다!!\n",
      "나는 재귀함수다!!\n",
      "나는 재귀함수다!!\n",
      "나는 재귀함수다!!\n",
      "나는 재귀함수다!!\n",
      "나는 재귀함수다!!\n",
      "나는 재귀함수다!!\n",
      "나는 재귀함수다!!\n",
      "나는 재귀함수다!!\n",
      "나는 재귀함수다!!\n",
      "나는 재귀함수다!!\n",
      "나는 재귀함수다!!\n",
      "나는 재귀함수다!!\n",
      "나는 재귀함수다!!\n",
      "나는 재귀함수다!!\n",
      "나는 재귀함수다!!\n",
      "나는 재귀함수다!!\n",
      "나는 재귀함수다!!\n",
      "나는 재귀함수다!!\n",
      "나는 재귀함수다!!\n",
      "나는 재귀함수다!!\n",
      "나는 재귀함수다!!\n",
      "나는 재귀함수다!!\n",
      "나는 재귀함수다!!\n",
      "나는 재귀함수다!!\n",
      "나는 재귀함수다!!\n",
      "나는 재귀함수다!!\n",
      "나는 재귀함수다!!\n",
      "나는 재귀함수다!!\n",
      "나는 재귀함수다!!\n",
      "나는 재귀함수다!!\n",
      "나는 재귀함수다!!\n",
      "나는 재귀함수다!!\n",
      "나는 재귀함수다!!\n",
      "나는 재귀함수다!!\n",
      "나는 재귀함수다!!\n",
      "나는 재귀함수다!!\n",
      "나는 재귀함수다!!\n",
      "나는 재귀함수다!!\n",
      "나는 재귀함수다!!\n",
      "나는 재귀함수다!!\n",
      "나는 재귀함수다!!\n",
      "나는 재귀함수다!!\n",
      "나는 재귀함수다!!\n",
      "나는 재귀함수다!!\n",
      "나는 재귀함수다!!\n",
      "나는 재귀함수다!!\n",
      "나는 재귀함수다!!\n",
      "나는 재귀함수다!!\n",
      "나는 재귀함수다!!\n",
      "나는 재귀함수다!!\n",
      "나는 재귀함수다!!\n",
      "나는 재귀함수다!!\n",
      "나는 재귀함수다!!\n",
      "나는 재귀함수다!!\n",
      "나는 재귀함수다!!\n",
      "나는 재귀함수다!!\n",
      "나는 재귀함수다!!\n",
      "나는 재귀함수다!!\n",
      "나는 재귀함수다!!\n",
      "나는 재귀함수다!!\n",
      "나는 재귀함수다!!\n",
      "나는 재귀함수다!!\n",
      "나는 재귀함수다!!\n",
      "나는 재귀함수다!!\n",
      "나는 재귀함수다!!\n",
      "나는 재귀함수다!!\n",
      "나는 재귀함수다!!\n",
      "나는 재귀함수다!!\n",
      "나는 재귀함수다!!\n",
      "나는 재귀함수다!!\n",
      "나는 재귀함수다!!\n",
      "나는 재귀함수다!!\n",
      "나는 재귀함수다!!\n",
      "나는 재귀함수다!!\n",
      "나는 재귀함수다!!\n",
      "나는 재귀함수다!!\n",
      "나는 재귀함수다!!\n",
      "나는 재귀함수다!!\n",
      "나는 재귀함수다!!\n",
      "나는 재귀함수다!!\n",
      "나는 재귀함수다!!\n",
      "나는 재귀함수다!!\n",
      "나는 재귀함수다!!\n",
      "나는 재귀함수다!!\n",
      "나는 재귀함수다!!\n",
      "나는 재귀함수다!!\n",
      "나는 재귀함수다!!\n",
      "나는 재귀함수다!!\n",
      "나는 재귀함수다!!\n",
      "나는 재귀함수다!!\n",
      "나는 재귀함수다!!\n",
      "나는 재귀함수다!!\n",
      "나는 재귀함수다!!\n",
      "나는 재귀함수다!!\n",
      "나는 재귀함수다!!\n",
      "나는 재귀함수다!!\n",
      "나는 재귀함수다!!\n",
      "나는 재귀함수다!!\n",
      "나는 재귀함수다!!\n",
      "나는 재귀함수다!!\n",
      "나는 재귀함수다!!\n",
      "나는 재귀함수다!!\n",
      "나는 재귀함수다!!\n",
      "나는 재귀함수다!!\n",
      "나는 재귀함수다!!\n",
      "나는 재귀함수다!!\n",
      "나는 재귀함수다!!\n",
      "나는 재귀함수다!!\n",
      "나는 재귀함수다!!\n",
      "나는 재귀함수다!!\n",
      "나는 재귀함수다!!\n",
      "나는 재귀함수다!!\n",
      "나는 재귀함수다!!\n",
      "나는 재귀함수다!!\n",
      "나는 재귀함수다!!\n",
      "나는 재귀함수다!!\n",
      "나는 재귀함수다!!\n",
      "나는 재귀함수다!!\n",
      "나는 재귀함수다!!\n",
      "나는 재귀함수다!!\n",
      "나는 재귀함수다!!\n",
      "나는 재귀함수다!!\n",
      "나는 재귀함수다!!\n",
      "나는 재귀함수다!!\n",
      "나는 재귀함수다!!\n",
      "나는 재귀함수다!!\n",
      "나는 재귀함수다!!\n",
      "나는 재귀함수다!!\n",
      "나는 재귀함수다!!\n",
      "나는 재귀함수다!!\n",
      "나는 재귀함수다!!\n",
      "나는 재귀함수다!!\n",
      "나는 재귀함수다!!\n",
      "나는 재귀함수다!!\n",
      "나는 재귀함수다!!\n",
      "나는 재귀함수다!!\n",
      "나는 재귀함수다!!\n",
      "나는 재귀함수다!!\n",
      "나는 재귀함수다!!\n",
      "나는 재귀함수다!!\n",
      "나는 재귀함수다!!\n",
      "나는 재귀함수다!!\n",
      "나는 재귀함수다!!\n",
      "나는 재귀함수다!!\n",
      "나는 재귀함수다!!\n",
      "나는 재귀함수다!!\n",
      "나는 재귀함수다!!\n",
      "나는 재귀함수다!!\n",
      "나는 재귀함수다!!\n",
      "나는 재귀함수다!!\n",
      "나는 재귀함수다!!\n",
      "나는 재귀함수다!!\n",
      "나는 재귀함수다!!\n",
      "나는 재귀함수다!!\n",
      "나는 재귀함수다!!\n",
      "나는 재귀함수다!!\n",
      "나는 재귀함수다!!\n",
      "나는 재귀함수다!!\n",
      "나는 재귀함수다!!\n",
      "나는 재귀함수다!!\n",
      "나는 재귀함수다!!\n",
      "나는 재귀함수다!!\n",
      "나는 재귀함수다!!\n",
      "나는 재귀함수다!!\n",
      "나는 재귀함수다!!\n",
      "나는 재귀함수다!!\n",
      "나는 재귀함수다!!\n",
      "나는 재귀함수다!!\n",
      "나는 재귀함수다!!\n",
      "나는 재귀함수다!!\n",
      "나는 재귀함수다!!\n",
      "나는 재귀함수다!!\n",
      "나는 재귀함수다!!\n",
      "나는 재귀함수다!!\n",
      "나는 재귀함수다!!\n",
      "나는 재귀함수다!!\n",
      "나는 재귀함수다!!\n",
      "나는 재귀함수다!!\n",
      "나는 재귀함수다!!\n",
      "나는 재귀함수다!!\n",
      "나는 재귀함수다!!\n",
      "나는 재귀함수다!!\n",
      "나는 재귀함수다!!\n",
      "나는 재귀함수다!!\n",
      "나는 재귀함수다!!\n",
      "나는 재귀함수다!!\n",
      "나는 재귀함수다!!\n",
      "나는 재귀함수다!!\n",
      "나는 재귀함수다!!\n",
      "나는 재귀함수다!!\n",
      "나는 재귀함수다!!\n",
      "나는 재귀함수다!!\n",
      "나는 재귀함수다!!\n",
      "나는 재귀함수다!!\n",
      "나는 재귀함수다!!\n",
      "나는 재귀함수다!!\n",
      "나는 재귀함수다!!\n",
      "나는 재귀함수다!!\n",
      "나는 재귀함수다!!\n",
      "나는 재귀함수다!!\n",
      "나는 재귀함수다!!\n",
      "나는 재귀함수다!!\n",
      "나는 재귀함수다!!\n",
      "나는 재귀함수다!!\n",
      "나는 재귀함수다!!\n",
      "나는 재귀함수다!!\n",
      "나는 재귀함수다!!\n",
      "나는 재귀함수다!!\n",
      "나는 재귀함수다!!\n",
      "나는 재귀함수다!!\n",
      "나는 재귀함수다!!\n",
      "나는 재귀함수다!!\n",
      "나는 재귀함수다!!\n",
      "나는 재귀함수다!!\n",
      "나는 재귀함수다!!\n",
      "나는 재귀함수다!!\n",
      "나는 재귀함수다!!\n",
      "나는 재귀함수다!!\n",
      "나는 재귀함수다!!\n",
      "나는 재귀함수다!!\n",
      "나는 재귀함수다!!\n",
      "나는 재귀함수다!!\n",
      "나는 재귀함수다!!\n",
      "나는 재귀함수다!!\n",
      "나는 재귀함수다!!\n",
      "나는 재귀함수다!!\n",
      "나는 재귀함수다!!\n",
      "나는 재귀함수다!!\n",
      "나는 재귀함수다!!\n",
      "나는 재귀함수다!!\n",
      "나는 재귀함수다!!\n",
      "나는 재귀함수다!!\n",
      "나는 재귀함수다!!\n",
      "나는 재귀함수다!!\n",
      "나는 재귀함수다!!\n",
      "나는 재귀함수다!!\n",
      "나는 재귀함수다!!\n",
      "나는 재귀함수다!!\n",
      "나는 재귀함수다!!\n",
      "나는 재귀함수다!!\n",
      "나는 재귀함수다!!\n",
      "나는 재귀함수다!!\n",
      "나는 재귀함수다!!\n",
      "나는 재귀함수다!!\n",
      "나는 재귀함수다!!\n",
      "나는 재귀함수다!!\n",
      "나는 재귀함수다!!\n",
      "나는 재귀함수다!!\n",
      "나는 재귀함수다!!\n",
      "나는 재귀함수다!!\n",
      "나는 재귀함수다!!\n",
      "나는 재귀함수다!!\n",
      "나는 재귀함수다!!\n",
      "나는 재귀함수다!!\n",
      "나는 재귀함수다!!\n",
      "나는 재귀함수다!!\n",
      "나는 재귀함수다!!\n",
      "나는 재귀함수다!!\n",
      "나는 재귀함수다!!\n",
      "나는 재귀함수다!!\n",
      "나는 재귀함수다!!\n",
      "나는 재귀함수다!!\n",
      "나는 재귀함수다!!\n",
      "나는 재귀함수다!!\n",
      "나는 재귀함수다!!\n",
      "나는 재귀함수다!!\n",
      "나는 재귀함수다!!\n",
      "나는 재귀함수다!!\n",
      "나는 재귀함수다!!\n",
      "나는 재귀함수다!!\n",
      "나는 재귀함수다!!\n",
      "나는 재귀함수다!!\n",
      "나는 재귀함수다!!\n",
      "나는 재귀함수다!!\n",
      "나는 재귀함수다!!\n",
      "나는 재귀함수다!!\n",
      "나는 재귀함수다!!\n",
      "나는 재귀함수다!!\n",
      "나는 재귀함수다!!\n",
      "나는 재귀함수다!!\n",
      "나는 재귀함수다!!\n",
      "나는 재귀함수다!!\n",
      "나는 재귀함수다!!\n",
      "나는 재귀함수다!!\n",
      "나는 재귀함수다!!\n",
      "나는 재귀함수다!!\n",
      "나는 재귀함수다!!\n",
      "나는 재귀함수다!!\n",
      "나는 재귀함수다!!\n",
      "나는 재귀함수다!!\n",
      "나는 재귀함수다!!\n",
      "나는 재귀함수다!!\n",
      "나는 재귀함수다!!\n",
      "나는 재귀함수다!!\n",
      "나는 재귀함수다!!\n",
      "나는 재귀함수다!!\n",
      "나는 재귀함수다!!\n",
      "나는 재귀함수다!!\n",
      "나는 재귀함수다!!\n",
      "나는 재귀함수다!!\n",
      "나는 재귀함수다!!\n",
      "나는 재귀함수다!!\n",
      "나는 재귀함수다!!\n",
      "나는 재귀함수다!!\n",
      "나는 재귀함수다!!\n",
      "나는 재귀함수다!!\n",
      "나는 재귀함수다!!\n",
      "나는 재귀함수다!!\n",
      "나는 재귀함수다!!\n",
      "나는 재귀함수다!!\n",
      "나는 재귀함수다!!\n",
      "나는 재귀함수다!!\n",
      "나는 재귀함수다!!\n",
      "나는 재귀함수다!!\n",
      "나는 재귀함수다!!\n",
      "나는 재귀함수다!!\n",
      "나는 재귀함수다!!\n",
      "나는 재귀함수다!!\n",
      "나는 재귀함수다!!\n",
      "나는 재귀함수다!!\n",
      "나는 재귀함수다!!\n",
      "나는 재귀함수다!!\n",
      "나는 재귀함수다!!\n",
      "나는 재귀함수다!!\n",
      "나는 재귀함수다!!\n",
      "나는 재귀함수다!!\n",
      "나는 재귀함수다!!\n",
      "나는 재귀함수다!!\n",
      "나는 재귀함수다!!\n",
      "나는 재귀함수다!!\n",
      "나는 재귀함수다!!\n",
      "나는 재귀함수다!!\n",
      "나는 재귀함수다!!\n",
      "나는 재귀함수다!!\n",
      "나는 재귀함수다!!\n",
      "나는 재귀함수다!!\n",
      "나는 재귀함수다!!\n",
      "나는 재귀함수다!!\n",
      "나는 재귀함수다!!\n",
      "나는 재귀함수다!!\n",
      "나는 재귀함수다!!\n",
      "나는 재귀함수다!!\n",
      "나는 재귀함수다!!\n",
      "나는 재귀함수다!!\n",
      "나는 재귀함수다!!\n",
      "나는 재귀함수다!!\n",
      "나는 재귀함수다!!\n",
      "나는 재귀함수다!!\n",
      "나는 재귀함수다!!\n",
      "나는 재귀함수다!!\n",
      "나는 재귀함수다!!\n",
      "나는 재귀함수다!!\n",
      "나는 재귀함수다!!\n",
      "나는 재귀함수다!!\n",
      "나는 재귀함수다!!\n",
      "나는 재귀함수다!!\n",
      "나는 재귀함수다!!\n",
      "나는 재귀함수다!!\n",
      "나는 재귀함수다!!\n",
      "나는 재귀함수다!!\n",
      "나는 재귀함수다!!\n",
      "나는 재귀함수다!!\n",
      "나는 재귀함수다!!\n",
      "나는 재귀함수다!!\n",
      "나는 재귀함수다!!\n",
      "나는 재귀함수다!!\n",
      "나는 재귀함수다!!\n",
      "나는 재귀함수다!!\n",
      "나는 재귀함수다!!\n",
      "나는 재귀함수다!!\n",
      "나는 재귀함수다!!\n",
      "나는 재귀함수다!!\n",
      "나는 재귀함수다!!\n",
      "나는 재귀함수다!!\n",
      "나는 재귀함수다!!\n",
      "나는 재귀함수다!!\n",
      "나는 재귀함수다!!\n",
      "나는 재귀함수다!!\n",
      "나는 재귀함수다!!\n",
      "나는 재귀함수다!!\n",
      "나는 재귀함수다!!\n",
      "나는 재귀함수다!!\n",
      "나는 재귀함수다!!\n",
      "나는 재귀함수다!!\n",
      "나는 재귀함수다!!\n",
      "나는 재귀함수다!!\n",
      "나는 재귀함수다!!\n",
      "나는 재귀함수다!!\n",
      "나는 재귀함수다!!\n",
      "나는 재귀함수다!!\n",
      "나는 재귀함수다!!\n",
      "나는 재귀함수다!!\n",
      "나는 재귀함수다!!\n",
      "나는 재귀함수다!!\n",
      "나는 재귀함수다!!\n",
      "나는 재귀함수다!!\n",
      "나는 재귀함수다!!\n",
      "나는 재귀함수다!!\n",
      "나는 재귀함수다!!\n",
      "나는 재귀함수다!!\n",
      "나는 재귀함수다!!\n",
      "나는 재귀함수다!!\n",
      "나는 재귀함수다!!\n",
      "나는 재귀함수다!!\n",
      "나는 재귀함수다!!\n",
      "나는 재귀함수다!!\n",
      "나는 재귀함수다!!\n",
      "나는 재귀함수다!!\n",
      "나는 재귀함수다!!\n",
      "나는 재귀함수다!!\n",
      "나는 재귀함수다!!\n",
      "나는 재귀함수다!!\n",
      "나는 재귀함수다!!\n",
      "나는 재귀함수다!!\n",
      "나는 재귀함수다!!\n",
      "나는 재귀함수다!!\n",
      "나는 재귀함수다!!\n",
      "나는 재귀함수다!!\n",
      "나는 재귀함수다!!\n",
      "나는 재귀함수다!!\n",
      "나는 재귀함수다!!\n",
      "나는 재귀함수다!!\n",
      "나는 재귀함수다!!\n",
      "나는 재귀함수다!!\n",
      "나는 재귀함수다!!\n",
      "나는 재귀함수다!!\n",
      "나는 재귀함수다!!\n",
      "나는 재귀함수다!!\n",
      "나는 재귀함수다!!\n",
      "나는 재귀함수다!!\n",
      "나는 재귀함수다!!\n",
      "나는 재귀함수다!!\n",
      "나는 재귀함수다!!\n",
      "나는 재귀함수다!!\n",
      "나는 재귀함수다!!\n",
      "나는 재귀함수다!!\n",
      "나는 재귀함수다!!\n",
      "나는 재귀함수다!!\n",
      "나는 재귀함수다!!\n",
      "나는 재귀함수다!!\n",
      "나는 재귀함수다!!\n",
      "나는 재귀함수다!!\n",
      "나는 재귀함수다!!\n",
      "나는 재귀함수다!!\n",
      "나는 재귀함수다!!\n",
      "나는 재귀함수다!!\n",
      "나는 재귀함수다!!\n",
      "나는 재귀함수다!!\n",
      "나는 재귀함수다!!\n",
      "나는 재귀함수다!!\n",
      "나는 재귀함수다!!\n",
      "나는 재귀함수다!!\n",
      "나는 재귀함수다!!\n",
      "나는 재귀함수다!!\n",
      "나는 재귀함수다!!\n",
      "나는 재귀함수다!!\n",
      "나는 재귀함수다!!\n",
      "나는 재귀함수다!!\n",
      "나는 재귀함수다!!\n",
      "나는 재귀함수다!!\n",
      "나는 재귀함수다!!\n",
      "나는 재귀함수다!!\n",
      "나는 재귀함수다!!\n",
      "나는 재귀함수다!!\n",
      "나는 재귀함수다!!\n",
      "나는 재귀함수다!!\n",
      "나는 재귀함수다!!\n",
      "나는 재귀함수다!!\n",
      "나는 재귀함수다!!\n",
      "나는 재귀함수다!!\n",
      "나는 재귀함수다!!\n",
      "나는 재귀함수다!!\n",
      "나는 재귀함수다!!\n",
      "나는 재귀함수다!!\n",
      "나는 재귀함수다!!\n",
      "나는 재귀함수다!!\n",
      "나는 재귀함수다!!\n",
      "나는 재귀함수다!!\n",
      "나는 재귀함수다!!\n",
      "나는 재귀함수다!!\n",
      "나는 재귀함수다!!\n",
      "나는 재귀함수다!!\n",
      "나는 재귀함수다!!\n",
      "나는 재귀함수다!!\n",
      "나는 재귀함수다!!\n",
      "나는 재귀함수다!!\n",
      "나는 재귀함수다!!\n",
      "나는 재귀함수다!!\n",
      "나는 재귀함수다!!\n",
      "나는 재귀함수다!!\n",
      "나는 재귀함수다!!\n",
      "나는 재귀함수다!!\n",
      "나는 재귀함수다!!\n",
      "나는 재귀함수다!!\n",
      "나는 재귀함수다!!\n",
      "나는 재귀함수다!!\n",
      "나는 재귀함수다!!\n",
      "나는 재귀함수다!!\n",
      "나는 재귀함수다!!\n",
      "나는 재귀함수다!!\n",
      "나는 재귀함수다!!\n",
      "나는 재귀함수다!!\n",
      "나는 재귀함수다!!\n",
      "나는 재귀함수다!!\n",
      "나는 재귀함수다!!\n",
      "나는 재귀함수다!!\n",
      "나는 재귀함수다!!\n",
      "나는 재귀함수다!!\n",
      "나는 재귀함수다!!\n",
      "나는 재귀함수다!!\n",
      "나는 재귀함수다!!\n",
      "나는 재귀함수다!!\n",
      "나는 재귀함수다!!\n",
      "나는 재귀함수다!!\n",
      "나는 재귀함수다!!\n",
      "나는 재귀함수다!!\n",
      "나는 재귀함수다!!\n",
      "나는 재귀함수다!!\n",
      "나는 재귀함수다!!\n",
      "나는 재귀함수다!!\n",
      "나는 재귀함수다!!\n",
      "나는 재귀함수다!!\n",
      "나는 재귀함수다!!\n",
      "나는 재귀함수다!!\n",
      "나는 재귀함수다!!\n",
      "나는 재귀함수다!!\n",
      "나는 재귀함수다!!\n",
      "나는 재귀함수다!!\n",
      "나는 재귀함수다!!\n",
      "나는 재귀함수다!!\n",
      "나는 재귀함수다!!\n",
      "나는 재귀함수다!!\n",
      "나는 재귀함수다!!\n",
      "나는 재귀함수다!!\n",
      "나는 재귀함수다!!\n",
      "나는 재귀함수다!!\n",
      "나는 재귀함수다!!\n",
      "나는 재귀함수다!!\n",
      "나는 재귀함수다!!\n",
      "나는 재귀함수다!!\n",
      "나는 재귀함수다!!\n",
      "나는 재귀함수다!!\n",
      "나는 재귀함수다!!\n",
      "나는 재귀함수다!!\n",
      "나는 재귀함수다!!\n",
      "나는 재귀함수다!!\n",
      "나는 재귀함수다!!\n",
      "나는 재귀함수다!!\n",
      "나는 재귀함수다!!\n",
      "나는 재귀함수다!!\n",
      "나는 재귀함수다!!\n",
      "나는 재귀함수다!!\n",
      "나는 재귀함수다!!\n",
      "나는 재귀함수다!!\n",
      "나는 재귀함수다!!\n",
      "나는 재귀함수다!!\n",
      "나는 재귀함수다!!\n",
      "나는 재귀함수다!!\n",
      "나는 재귀함수다!!\n",
      "나는 재귀함수다!!\n",
      "나는 재귀함수다!!\n",
      "나는 재귀함수다!!\n",
      "나는 재귀함수다!!\n",
      "나는 재귀함수다!!\n",
      "나는 재귀함수다!!\n",
      "나는 재귀함수다!!\n",
      "나는 재귀함수다!!\n",
      "나는 재귀함수다!!\n",
      "나는 재귀함수다!!\n",
      "나는 재귀함수다!!\n",
      "나는 재귀함수다!!\n",
      "나는 재귀함수다!!\n",
      "나는 재귀함수다!!\n",
      "나는 재귀함수다!!\n",
      "나는 재귀함수다!!\n",
      "나는 재귀함수다!!\n",
      "나는 재귀함수다!!\n",
      "나는 재귀함수다!!\n",
      "나는 재귀함수다!!\n",
      "나는 재귀함수다!!\n",
      "나는 재귀함수다!!\n",
      "나는 재귀함수다!!\n",
      "나는 재귀함수다!!\n",
      "나는 재귀함수다!!\n",
      "나는 재귀함수다!!\n",
      "나는 재귀함수다!!\n",
      "나는 재귀함수다!!\n",
      "나는 재귀함수다!!\n",
      "나는 재귀함수다!!\n",
      "나는 재귀함수다!!\n",
      "나는 재귀함수다!!\n",
      "나는 재귀함수다!!\n",
      "나는 재귀함수다!!\n",
      "나는 재귀함수다!!\n",
      "나는 재귀함수다!!\n",
      "나는 재귀함수다!!\n",
      "나는 재귀함수다!!\n",
      "나는 재귀함수다!!\n",
      "나는 재귀함수다!!\n",
      "나는 재귀함수다!!\n",
      "나는 재귀함수다!!\n",
      "나는 재귀함수다!!\n",
      "나는 재귀함수다!!\n",
      "나는 재귀함수다!!\n",
      "나는 재귀함수다!!\n",
      "나는 재귀함수다!!\n",
      "나는 재귀함수다!!\n",
      "나는 재귀함수다!!\n",
      "나는 재귀함수다!!\n",
      "나는 재귀함수다!!\n",
      "나는 재귀함수다!!\n",
      "나는 재귀함수다!!\n",
      "나는 재귀함수다!!\n",
      "나는 재귀함수다!!\n",
      "나는 재귀함수다!!\n",
      "나는 재귀함수다!!\n",
      "나는 재귀함수다!!\n",
      "나는 재귀함수다!!\n",
      "나는 재귀함수다!!\n",
      "나는 재귀함수다!!\n",
      "나는 재귀함수다!!\n",
      "나는 재귀함수다!!\n",
      "나는 재귀함수다!!\n",
      "나는 재귀함수다!!\n",
      "나는 재귀함수다!!\n",
      "나는 재귀함수다!!\n",
      "나는 재귀함수다!!\n",
      "나는 재귀함수다!!\n",
      "나는 재귀함수다!!\n",
      "나는 재귀함수다!!\n",
      "나는 재귀함수다!!\n",
      "나는 재귀함수다!!\n",
      "나는 재귀함수다!!\n",
      "나는 재귀함수다!!\n",
      "나는 재귀함수다!!\n",
      "나는 재귀함수다!!\n",
      "나는 재귀함수다!!\n",
      "나는 재귀함수다!!\n",
      "나는 재귀함수다!!\n",
      "나는 재귀함수다!!\n",
      "나는 재귀함수다!!\n",
      "나는 재귀함수다!!\n",
      "나는 재귀함수다!!\n",
      "나는 재귀함수다!!\n",
      "나는 재귀함수다!!\n",
      "나는 재귀함수다!!\n",
      "나는 재귀함수다!!\n",
      "나는 재귀함수다!!\n",
      "나는 재귀함수다!!\n",
      "나는 재귀함수다!!\n",
      "나는 재귀함수다!!\n",
      "나는 재귀함수다!!\n",
      "나는 재귀함수다!!\n",
      "나는 재귀함수다!!\n",
      "나는 재귀함수다!!\n",
      "나는 재귀함수다!!\n",
      "나는 재귀함수다!!\n",
      "나는 재귀함수다!!\n",
      "나는 재귀함수다!!\n",
      "나는 재귀함수다!!\n",
      "나는 재귀함수다!!\n",
      "나는 재귀함수다!!\n",
      "나는 재귀함수다!!\n",
      "나는 재귀함수다!!\n",
      "나는 재귀함수다!!\n",
      "나는 재귀함수다!!\n",
      "나는 재귀함수다!!\n",
      "나는 재귀함수다!!\n",
      "나는 재귀함수다!!\n",
      "나는 재귀함수다!!\n",
      "나는 재귀함수다!!\n",
      "나는 재귀함수다!!\n",
      "나는 재귀함수다!!\n",
      "나는 재귀함수다!!\n",
      "나는 재귀함수다!!\n",
      "나는 재귀함수다!!\n",
      "나는 재귀함수다!!\n",
      "나는 재귀함수다!!\n",
      "나는 재귀함수다!!\n",
      "나는 재귀함수다!!\n",
      "나는 재귀함수다!!\n",
      "나는 재귀함수다!!\n",
      "나는 재귀함수다!!\n",
      "나는 재귀함수다!!\n",
      "나는 재귀함수다!!\n",
      "나는 재귀함수다!!\n",
      "나는 재귀함수다!!\n",
      "나는 재귀함수다!!\n",
      "나는 재귀함수다!!\n",
      "나는 재귀함수다!!\n",
      "나는 재귀함수다!!\n",
      "나는 재귀함수다!!\n",
      "나는 재귀함수다!!\n",
      "나는 재귀함수다!!\n",
      "나는 재귀함수다!!\n",
      "나는 재귀함수다!!\n",
      "나는 재귀함수다!!\n",
      "나는 재귀함수다!!\n",
      "나는 재귀함수다!!\n",
      "나는 재귀함수다!!\n",
      "나는 재귀함수다!!\n",
      "나는 재귀함수다!!\n",
      "나는 재귀함수다!!\n",
      "나는 재귀함수다!!\n",
      "나는 재귀함수다!!\n",
      "나는 재귀함수다!!\n",
      "나는 재귀함수다!!\n",
      "나는 재귀함수다!!\n",
      "나는 재귀함수다!!\n",
      "나는 재귀함수다!!\n",
      "나는 재귀함수다!!\n",
      "나는 재귀함수다!!\n",
      "나는 재귀함수다!!\n",
      "나는 재귀함수다!!\n",
      "나는 재귀함수다!!\n",
      "나는 재귀함수다!!\n",
      "나는 재귀함수다!!\n",
      "나는 재귀함수다!!\n",
      "나는 재귀함수다!!\n",
      "나는 재귀함수다!!\n",
      "나는 재귀함수다!!\n",
      "나는 재귀함수다!!\n",
      "나는 재귀함수다!!\n",
      "나는 재귀함수다!!\n",
      "나는 재귀함수다!!\n",
      "나는 재귀함수다!!\n",
      "나는 재귀함수다!!\n",
      "나는 재귀함수다!!\n",
      "나는 재귀함수다!!\n",
      "나는 재귀함수다!!\n",
      "나는 재귀함수다!!\n",
      "나는 재귀함수다!!\n",
      "나는 재귀함수다!!\n",
      "나는 재귀함수다!!\n",
      "나는 재귀함수다!!\n",
      "나는 재귀함수다!!\n",
      "나는 재귀함수다!!\n",
      "나는 재귀함수다!!\n",
      "나는 재귀함수다!!\n",
      "나는 재귀함수다!!\n",
      "나는 재귀함수다!!\n",
      "나는 재귀함수다!!\n",
      "나는 재귀함수다!!\n",
      "나는 재귀함수다!!\n",
      "나는 재귀함수다!!\n",
      "나는 재귀함수다!!\n",
      "나는 재귀함수다!!\n",
      "나는 재귀함수다!!\n",
      "나는 재귀함수다!!\n",
      "나는 재귀함수다!!\n",
      "나는 재귀함수다!!\n",
      "나는 재귀함수다!!\n",
      "나는 재귀함수다!!\n",
      "나는 재귀함수다!!\n",
      "나는 재귀함수다!!\n",
      "나는 재귀함수다!!\n",
      "나는 재귀함수다!!\n",
      "나는 재귀함수다!!\n",
      "나는 재귀함수다!!\n",
      "나는 재귀함수다!!\n",
      "나는 재귀함수다!!\n",
      "나는 재귀함수다!!\n",
      "나는 재귀함수다!!\n",
      "나는 재귀함수다!!\n",
      "나는 재귀함수다!!\n",
      "나는 재귀함수다!!\n",
      "나는 재귀함수다!!\n",
      "나는 재귀함수다!!\n",
      "나는 재귀함수다!!\n",
      "나는 재귀함수다!!\n",
      "나는 재귀함수다!!\n",
      "나는 재귀함수다!!\n",
      "나는 재귀함수다!!\n",
      "나는 재귀함수다!!\n",
      "나는 재귀함수다!!\n",
      "나는 재귀함수다!!\n",
      "나는 재귀함수다!!\n",
      "나는 재귀함수다!!\n",
      "나는 재귀함수다!!\n",
      "나는 재귀함수다!!\n",
      "나는 재귀함수다!!\n",
      "나는 재귀함수다!!\n",
      "나는 재귀함수다!!\n",
      "나는 재귀함수다!!\n",
      "나는 재귀함수다!!\n",
      "나는 재귀함수다!!\n",
      "나는 재귀함수다!!\n",
      "나는 재귀함수다!!\n",
      "나는 재귀함수다!!\n",
      "나는 재귀함수다!!\n",
      "나는 재귀함수다!!\n",
      "나는 재귀함수다!!\n",
      "나는 재귀함수다!!\n",
      "나는 재귀함수다!!\n",
      "나는 재귀함수다!!\n",
      "나는 재귀함수다!!\n",
      "나는 재귀함수다!!\n",
      "나는 재귀함수다!!\n",
      "나는 재귀함수다!!\n",
      "나는 재귀함수다!!\n",
      "나는 재귀함수다!!\n",
      "나는 재귀함수다!!\n",
      "나는 재귀함수다!!\n",
      "나는 재귀함수다!!\n",
      "나는 재귀함수다!!\n",
      "나는 재귀함수다!!\n",
      "나는 재귀함수다!!\n",
      "나는 재귀함수다!!\n",
      "나는 재귀함수다!!\n",
      "나는 재귀함수다!!\n",
      "나는 재귀함수다!!\n",
      "나는 재귀함수다!!\n",
      "나는 재귀함수다!!\n",
      "나는 재귀함수다!!\n",
      "나는 재귀함수다!!\n",
      "나는 재귀함수다!!\n",
      "나는 재귀함수다!!\n",
      "나는 재귀함수다!!\n",
      "나는 재귀함수다!!\n",
      "나는 재귀함수다!!\n",
      "나는 재귀함수다!!\n",
      "나는 재귀함수다!!\n",
      "나는 재귀함수다!!\n",
      "나는 재귀함수다!!\n",
      "나는 재귀함수다!!\n",
      "나는 재귀함수다!!\n",
      "나는 재귀함수다!!\n",
      "나는 재귀함수다!!\n",
      "나는 재귀함수다!!\n",
      "나는 재귀함수다!!\n",
      "나는 재귀함수다!!\n",
      "나는 재귀함수다!!\n",
      "나는 재귀함수다!!\n",
      "나는 재귀함수다!!\n",
      "나는 재귀함수다!!\n",
      "나는 재귀함수다!!\n",
      "나는 재귀함수다!!\n",
      "나는 재귀함수다!!\n",
      "나는 재귀함수다!!\n",
      "나는 재귀함수다!!\n",
      "나는 재귀함수다!!\n",
      "나는 재귀함수다!!\n",
      "나는 재귀함수다!!\n",
      "나는 재귀함수다!!\n",
      "나는 재귀함수다!!\n",
      "나는 재귀함수다!!\n",
      "나는 재귀함수다!!\n",
      "나는 재귀함수다!!\n",
      "나는 재귀함수다!!\n",
      "나는 재귀함수다!!\n",
      "나는 재귀함수다!!\n",
      "나는 재귀함수다!!\n",
      "나는 재귀함수다!!\n",
      "나는 재귀함수다!!\n",
      "나는 재귀함수다!!\n",
      "나는 재귀함수다!!\n",
      "나는 재귀함수다!!\n",
      "나는 재귀함수다!!\n",
      "나는 재귀함수다!!\n",
      "나는 재귀함수다!!\n",
      "나는 재귀함수다!!\n",
      "나는 재귀함수다!!\n",
      "나는 재귀함수다!!\n",
      "나는 재귀함수다!!\n",
      "나는 재귀함수다!!\n",
      "나는 재귀함수다!!\n",
      "나는 재귀함수다!!\n",
      "나는 재귀함수다!!\n",
      "나는 재귀함수다!!\n",
      "나는 재귀함수다!!\n",
      "나는 재귀함수다!!\n",
      "나는 재귀함수다!!\n",
      "나는 재귀함수다!!\n",
      "나는 재귀함수다!!\n",
      "나는 재귀함수다!!\n",
      "나는 재귀함수다!!\n",
      "나는 재귀함수다!!\n",
      "나는 재귀함수다!!\n",
      "나는 재귀함수다!!\n",
      "나는 재귀함수다!!\n",
      "나는 재귀함수다!!\n",
      "나는 재귀함수다!!\n",
      "나는 재귀함수다!!\n",
      "나는 재귀함수다!!\n",
      "나는 재귀함수다!!\n",
      "나는 재귀함수다!!\n",
      "나는 재귀함수다!!\n",
      "나는 재귀함수다!!\n",
      "나는 재귀함수다!!\n",
      "나는 재귀함수다!!\n",
      "나는 재귀함수다!!\n",
      "나는 재귀함수다!!\n",
      "나는 재귀함수다!!\n",
      "나는 재귀함수다!!\n",
      "나는 재귀함수다!!\n",
      "나는 재귀함수다!!\n",
      "나는 재귀함수다!!\n",
      "나는 재귀함수다!!\n",
      "나는 재귀함수다!!\n",
      "나는 재귀함수다!!\n",
      "나는 재귀함수다!!\n",
      "나는 재귀함수다!!\n",
      "나는 재귀함수다!!\n",
      "나는 재귀함수다!!\n",
      "나는 재귀함수다!!\n",
      "나는 재귀함수다!!\n",
      "나는 재귀함수다!!\n",
      "나는 재귀함수다!!\n",
      "나는 재귀함수다!!\n",
      "나는 재귀함수다!!\n",
      "나는 재귀함수다!!\n",
      "나는 재귀함수다!!\n",
      "나는 재귀함수다!!\n",
      "나는 재귀함수다!!\n",
      "나는 재귀함수다!!\n",
      "나는 재귀함수다!!\n",
      "나는 재귀함수다!!\n",
      "나는 재귀함수다!!\n",
      "나는 재귀함수다!!\n",
      "나는 재귀함수다!!\n",
      "나는 재귀함수다!!\n",
      "나는 재귀함수다!!\n",
      "나는 재귀함수다!!\n",
      "나는 재귀함수다!!\n",
      "나는 재귀함수다!!\n",
      "나는 재귀함수다!!\n",
      "나는 재귀함수다!!\n",
      "나는 재귀함수다!!\n",
      "나는 재귀함수다!!\n",
      "나는 재귀함수다!!\n",
      "나는 재귀함수다!!\n",
      "나는 재귀함수다!!\n",
      "나는 재귀함수다!!\n",
      "나는 재귀함수다!!\n",
      "나는 재귀함수다!!\n",
      "나는 재귀함수다!!\n",
      "나는 재귀함수다!!\n",
      "나는 재귀함수다!!\n",
      "나는 재귀함수다!!\n",
      "나는 재귀함수다!!\n",
      "나는 재귀함수다!!\n",
      "나는 재귀함수다!!\n",
      "나는 재귀함수다!!\n",
      "나는 재귀함수다!!\n",
      "나는 재귀함수다!!\n",
      "나는 재귀함수다!!\n",
      "나는 재귀함수다!!\n",
      "나는 재귀함수다!!\n",
      "나는 재귀함수다!!\n",
      "나는 재귀함수다!!\n",
      "나는 재귀함수다!!\n",
      "나는 재귀함수다!!\n",
      "나는 재귀함수다!!\n",
      "나는 재귀함수다!!\n",
      "나는 재귀함수다!!\n",
      "나는 재귀함수다!!\n",
      "나는 재귀함수다!!\n",
      "나는 재귀함수다!!\n",
      "나는 재귀함수다!!\n",
      "나는 재귀함수다!!\n",
      "나는 재귀함수다!!\n",
      "나는 재귀함수다!!\n",
      "나는 재귀함수다!!\n",
      "나는 재귀함수다!!\n",
      "나는 재귀함수다!!\n",
      "나는 재귀함수다!!\n",
      "나는 재귀함수다!!\n",
      "나는 재귀함수다!!\n",
      "나는 재귀함수다!!\n",
      "나는 재귀함수다!!\n",
      "나는 재귀함수다!!\n",
      "나는 재귀함수다!!\n",
      "나는 재귀함수다!!\n",
      "나는 재귀함수다!!\n",
      "나는 재귀함수다!!\n",
      "나는 재귀함수다!!\n",
      "나는 재귀함수다!!\n",
      "나는 재귀함수다!!\n",
      "나는 재귀함수다!!\n",
      "나는 재귀함수다!!\n",
      "나는 재귀함수다!!\n",
      "나는 재귀함수다!!\n",
      "나는 재귀함수다!!\n",
      "나는 재귀함수다!!\n",
      "나는 재귀함수다!!\n",
      "나는 재귀함수다!!\n",
      "나는 재귀함수다!!\n",
      "나는 재귀함수다!!\n",
      "나는 재귀함수다!!\n",
      "나는 재귀함수다!!\n",
      "나는 재귀함수다!!\n",
      "나는 재귀함수다!!\n",
      "나는 재귀함수다!!\n",
      "나는 재귀함수다!!\n",
      "나는 재귀함수다!!\n",
      "나는 재귀함수다!!\n",
      "나는 재귀함수다!!\n",
      "나는 재귀함수다!!\n",
      "나는 재귀함수다!!\n",
      "나는 재귀함수다!!\n",
      "나는 재귀함수다!!\n",
      "나는 재귀함수다!!\n",
      "나는 재귀함수다!!\n",
      "나는 재귀함수다!!\n",
      "나는 재귀함수다!!\n",
      "나는 재귀함수다!!\n",
      "나는 재귀함수다!!\n",
      "나는 재귀함수다!!\n",
      "나는 재귀함수다!!\n",
      "나는 재귀함수다!!\n",
      "나는 재귀함수다!!\n",
      "나는 재귀함수다!!\n",
      "나는 재귀함수다!!\n",
      "나는 재귀함수다!!\n",
      "나는 재귀함수다!!\n",
      "나는 재귀함수다!!\n",
      "나는 재귀함수다!!\n",
      "나는 재귀함수다!!\n",
      "나는 재귀함수다!!\n",
      "나는 재귀함수다!!\n",
      "나는 재귀함수다!!\n",
      "나는 재귀함수다!!\n",
      "나는 재귀함수다!!\n",
      "나는 재귀함수다!!\n",
      "나는 재귀함수다!!\n",
      "나는 재귀함수다!!\n",
      "나는 재귀함수다!!\n",
      "나는 재귀함수다!!\n",
      "나는 재귀함수다!!\n",
      "나는 재귀함수다!!\n",
      "나는 재귀함수다!!\n",
      "나는 재귀함수다!!\n",
      "나는 재귀함수다!!\n",
      "나는 재귀함수다!!\n",
      "나는 재귀함수다!!\n",
      "나는 재귀함수다!!\n",
      "나는 재귀함수다!!\n",
      "나는 재귀함수다!!\n",
      "나는 재귀함수다!!\n",
      "나는 재귀함수다!!\n",
      "나는 재귀함수다!!\n",
      "나는 재귀함수다!!\n",
      "나는 재귀함수다!!\n",
      "나는 재귀함수다!!\n",
      "나는 재귀함수다!!\n",
      "나는 재귀함수다!!\n",
      "나는 재귀함수다!!\n",
      "나는 재귀함수다!!\n",
      "나는 재귀함수다!!\n",
      "나는 재귀함수다!!\n",
      "나는 재귀함수다!!\n",
      "나는 재귀함수다!!\n",
      "나는 재귀함수다!!\n",
      "나는 재귀함수다!!\n",
      "나는 재귀함수다!!\n",
      "나는 재귀함수다!!\n",
      "나는 재귀함수다!!\n",
      "나는 재귀함수다!!\n",
      "나는 재귀함수다!!\n",
      "나는 재귀함수다!!\n",
      "나는 재귀함수다!!\n",
      "나는 재귀함수다!!\n",
      "나는 재귀함수다!!\n",
      "나는 재귀함수다!!\n",
      "나는 재귀함수다!!\n",
      "나는 재귀함수다!!\n",
      "나는 재귀함수다!!\n",
      "나는 재귀함수다!!\n",
      "나는 재귀함수다!!\n",
      "나는 재귀함수다!!\n",
      "나는 재귀함수다!!\n",
      "나는 재귀함수다!!\n",
      "나는 재귀함수다!!\n",
      "나는 재귀함수다!!\n",
      "나는 재귀함수다!!\n",
      "나는 재귀함수다!!\n",
      "나는 재귀함수다!!\n",
      "나는 재귀함수다!!\n",
      "나는 재귀함수다!!\n",
      "나는 재귀함수다!!\n",
      "나는 재귀함수다!!\n",
      "나는 재귀함수다!!\n",
      "나는 재귀함수다!!\n",
      "나는 재귀함수다!!\n",
      "나는 재귀함수다!!\n",
      "나는 재귀함수다!!\n",
      "나는 재귀함수다!!\n",
      "나는 재귀함수다!!\n",
      "나는 재귀함수다!!\n",
      "나는 재귀함수다!!\n",
      "나는 재귀함수다!!\n",
      "나는 재귀함수다!!\n",
      "나는 재귀함수다!!\n",
      "나는 재귀함수다!!\n",
      "나는 재귀함수다!!\n",
      "나는 재귀함수다!!\n",
      "나는 재귀함수다!!\n",
      "나는 재귀함수다!!\n",
      "나는 재귀함수다!!\n",
      "나는 재귀함수다!!\n",
      "나는 재귀함수다!!\n",
      "나는 재귀함수다!!\n",
      "나는 재귀함수다!!\n",
      "나는 재귀함수다!!\n",
      "나는 재귀함수다!!\n",
      "나는 재귀함수다!!\n",
      "나는 재귀함수다!!\n",
      "나는 재귀함수다!!\n",
      "나는 재귀함수다!!\n",
      "나는 재귀함수다!!\n",
      "나는 재귀함수다!!\n",
      "나는 재귀함수다!!\n",
      "나는 재귀함수다!!\n",
      "나는 재귀함수다!!\n",
      "나는 재귀함수다!!\n",
      "나는 재귀함수다!!\n",
      "나는 재귀함수다!!\n",
      "나는 재귀함수다!!\n",
      "나는 재귀함수다!!\n",
      "나는 재귀함수다!!\n",
      "나는 재귀함수다!!\n",
      "나는 재귀함수다!!\n",
      "나는 재귀함수다!!\n",
      "나는 재귀함수다!!\n",
      "나는 재귀함수다!!\n",
      "나는 재귀함수다!!\n",
      "나는 재귀함수다!!\n",
      "나는 재귀함수다!!\n",
      "나는 재귀함수다!!\n",
      "나는 재귀함수다!!\n",
      "나는 재귀함수다!!\n",
      "나는 재귀함수다!!\n",
      "나는 재귀함수다!!\n",
      "나는 재귀함수다!!\n",
      "나는 재귀함수다!!\n",
      "나는 재귀함수다!!\n",
      "나는 재귀함수다!!\n",
      "나는 재귀함수다!!\n",
      "나는 재귀함수다!!\n",
      "나는 재귀함수다!!\n",
      "나는 재귀함수다!!\n",
      "나는 재귀함수다!!\n",
      "나는 재귀함수다!!\n",
      "나는 재귀함수다!!\n",
      "나는 재귀함수다!!\n",
      "나는 재귀함수다!!\n",
      "나는 재귀함수다!!\n",
      "나는 재귀함수다!!\n",
      "나는 재귀함수다!!\n",
      "나는 재귀함수다!!\n",
      "나는 재귀함수다!!\n",
      "나는 재귀함수다!!\n",
      "나는 재귀함수다!!\n",
      "나는 재귀함수다!!\n",
      "나는 재귀함수다!!\n",
      "나는 재귀함수다!!\n",
      "나는 재귀함수다!!\n",
      "나는 재귀함수다!!\n",
      "나는 재귀함수다!!\n",
      "나는 재귀함수다!!\n",
      "나는 재귀함수다!!\n",
      "나는 재귀함수다!!\n",
      "나는 재귀함수다!!\n",
      "나는 재귀함수다!!\n",
      "나는 재귀함수다!!\n",
      "나는 재귀함수다!!\n",
      "나는 재귀함수다!!\n",
      "나는 재귀함수다!!\n",
      "나는 재귀함수다!!\n",
      "나는 재귀함수다!!\n",
      "나는 재귀함수다!!\n",
      "나는 재귀함수다!!\n",
      "나는 재귀함수다!!\n",
      "나는 재귀함수다!!\n",
      "나는 재귀함수다!!\n",
      "나는 재귀함수다!!\n",
      "나는 재귀함수다!!\n",
      "나는 재귀함수다!!\n",
      "나는 재귀함수다!!\n",
      "나는 재귀함수다!!\n",
      "나는 재귀함수다!!\n",
      "나는 재귀함수다!!\n",
      "나는 재귀함수다!!\n",
      "나는 재귀함수다!!\n",
      "나는 재귀함수다!!\n",
      "나는 재귀함수다!!\n",
      "나는 재귀함수다!!\n",
      "나는 재귀함수다!!\n",
      "나는 재귀함수다!!\n",
      "나는 재귀함수다!!\n",
      "나는 재귀함수다!!\n",
      "나는 재귀함수다!!\n",
      "나는 재귀함수다!!\n",
      "나는 재귀함수다!!\n",
      "나는 재귀함수다!!\n",
      "나는 재귀함수다!!\n",
      "나는 재귀함수다!!\n",
      "나는 재귀함수다!!\n",
      "나는 재귀함수다!!\n",
      "나는 재귀함수다!!\n",
      "나는 재귀함수다!!\n",
      "나는 재귀함수다!!\n",
      "나는 재귀함수다!!\n",
      "나는 재귀함수다!!\n",
      "나는 재귀함수다!!\n",
      "나는 재귀함수다!!\n",
      "나는 재귀함수다!!\n",
      "나는 재귀함수다!!\n",
      "나는 재귀함수다!!\n",
      "나는 재귀함수다!!\n",
      "나는 재귀함수다!!\n",
      "나는 재귀함수다!!\n",
      "나는 재귀함수다!!\n",
      "나는 재귀함수다!!\n",
      "나는 재귀함수다!!\n",
      "나는 재귀함수다!!\n",
      "나는 재귀함수다!!\n",
      "나는 재귀함수다!!\n",
      "나는 재귀함수다!!\n",
      "나는 재귀함수다!!\n",
      "나는 재귀함수다!!\n",
      "나는 재귀함수다!!\n",
      "나는 재귀함수다!!\n",
      "나는 재귀함수다!!\n",
      "나는 재귀함수다!!\n",
      "나는 재귀함수다!!\n",
      "나는 재귀함수다!!\n",
      "나는 재귀함수다!!\n",
      "나는 재귀함수다!!\n",
      "나는 재귀함수다!!\n",
      "나는 재귀함수다!!\n",
      "나는 재귀함수다!!\n",
      "나는 재귀함수다!!\n",
      "나는 재귀함수다!!\n",
      "나는 재귀함수다!!\n",
      "나는 재귀함수다!!\n",
      "나는 재귀함수다!!\n",
      "나는 재귀함수다!!\n",
      "나는 재귀함수다!!\n",
      "나는 재귀함수다!!\n",
      "나는 재귀함수다!!\n",
      "나는 재귀함수다!!\n",
      "나는 재귀함수다!!\n",
      "나는 재귀함수다!!\n",
      "나는 재귀함수다!!\n",
      "나는 재귀함수다!!\n",
      "나는 재귀함수다!!\n",
      "나는 재귀함수다!!\n",
      "나는 재귀함수다!!\n",
      "나는 재귀함수다!!\n",
      "나는 재귀함수다!!\n",
      "나는 재귀함수다!!\n",
      "나는 재귀함수다!!\n",
      "나는 재귀함수다!!\n",
      "나는 재귀함수다!!\n",
      "나는 재귀함수다!!\n",
      "나는 재귀함수다!!\n",
      "나는 재귀함수다!!\n",
      "나는 재귀함수다!!\n",
      "나는 재귀함수다!!\n",
      "나는 재귀함수다!!\n",
      "나는 재귀함수다!!\n",
      "나는 재귀함수다!!\n",
      "나는 재귀함수다!!\n",
      "나는 재귀함수다!!\n",
      "나는 재귀함수다!!\n",
      "나는 재귀함수다!!\n",
      "나는 재귀함수다!!\n",
      "나는 재귀함수다!!\n",
      "나는 재귀함수다!!\n",
      "나는 재귀함수다!!\n",
      "나는 재귀함수다!!\n",
      "나는 재귀함수다!!\n",
      "나는 재귀함수다!!\n",
      "나는 재귀함수다!!\n",
      "나는 재귀함수다!!\n",
      "나는 재귀함수다!!\n",
      "나는 재귀함수다!!\n",
      "나는 재귀함수다!!\n",
      "나는 재귀함수다!!\n",
      "나는 재귀함수다!!\n",
      "나는 재귀함수다!!\n",
      "나는 재귀함수다!!\n",
      "나는 재귀함수다!!\n",
      "나는 재귀함수다!!\n",
      "나는 재귀함수다!!\n",
      "나는 재귀함수다!!\n",
      "나는 재귀함수다!!\n",
      "나는 재귀함수다!!\n",
      "나는 재귀함수다!!\n",
      "나는 재귀함수다!!\n",
      "나는 재귀함수다!!\n",
      "나는 재귀함수다!!\n",
      "나는 재귀함수다!!\n",
      "나는 재귀함수다!!\n",
      "나는 재귀함수다!!\n",
      "나는 재귀함수다!!\n",
      "나는 재귀함수다!!\n",
      "나는 재귀함수다!!\n",
      "나는 재귀함수다!!\n",
      "나는 재귀함수다!!\n",
      "나는 재귀함수다!!\n",
      "나는 재귀함수다!!\n",
      "나는 재귀함수다!!\n",
      "나는 재귀함수다!!\n",
      "나는 재귀함수다!!\n",
      "나는 재귀함수다!!\n",
      "나는 재귀함수다!!\n",
      "나는 재귀함수다!!\n",
      "나는 재귀함수다!!\n",
      "나는 재귀함수다!!\n",
      "나는 재귀함수다!!\n",
      "나는 재귀함수다!!\n",
      "나는 재귀함수다!!\n",
      "나는 재귀함수다!!\n",
      "나는 재귀함수다!!\n",
      "나는 재귀함수다!!\n",
      "나는 재귀함수다!!\n",
      "나는 재귀함수다!!\n",
      "나는 재귀함수다!!\n",
      "나는 재귀함수다!!\n",
      "나는 재귀함수다!!\n",
      "나는 재귀함수다!!\n",
      "나는 재귀함수다!!\n",
      "나는 재귀함수다!!\n",
      "나는 재귀함수다!!\n",
      "나는 재귀함수다!!\n",
      "나는 재귀함수다!!\n",
      "나는 재귀함수다!!\n",
      "나는 재귀함수다!!\n",
      "나는 재귀함수다!!\n",
      "나는 재귀함수다!!\n",
      "나는 재귀함수다!!\n",
      "나는 재귀함수다!!\n",
      "나는 재귀함수다!!\n",
      "나는 재귀함수다!!\n",
      "나는 재귀함수다!!\n",
      "나는 재귀함수다!!\n",
      "나는 재귀함수다!!\n",
      "나는 재귀함수다!!\n",
      "나는 재귀함수다!!\n",
      "나는 재귀함수다!!\n",
      "나는 재귀함수다!!\n",
      "나는 재귀함수다!!\n",
      "나는 재귀함수다!!\n",
      "나는 재귀함수다!!\n",
      "나는 재귀함수다!!\n",
      "나는 재귀함수다!!\n",
      "나는 재귀함수다!!\n",
      "나는 재귀함수다!!\n",
      "나는 재귀함수다!!\n",
      "나는 재귀함수다!!\n",
      "나는 재귀함수다!!\n",
      "나는 재귀함수다!!\n",
      "나는 재귀함수다!!\n",
      "나는 재귀함수다!!\n",
      "나는 재귀함수다!!\n",
      "나는 재귀함수다!!\n",
      "나는 재귀함수다!!\n",
      "나는 재귀함수다!!\n",
      "나는 재귀함수다!!\n",
      "나는 재귀함수다!!\n",
      "나는 재귀함수다!!\n",
      "나는 재귀함수다!!\n",
      "나는 재귀함수다!!\n",
      "나는 재귀함수다!!\n",
      "나는 재귀함수다!!\n",
      "나는 재귀함수다!!\n",
      "나는 재귀함수다!!\n",
      "나는 재귀함수다!!\n",
      "나는 재귀함수다!!\n",
      "나는 재귀함수다!!\n",
      "나는 재귀함수다!!\n",
      "나는 재귀함수다!!\n",
      "나는 재귀함수다!!\n",
      "나는 재귀함수다!!\n",
      "나는 재귀함수다!!\n",
      "나는 재귀함수다!!\n",
      "나는 재귀함수다!!\n",
      "나는 재귀함수다!!\n",
      "나는 재귀함수다!!\n",
      "나는 재귀함수다!!\n",
      "나는 재귀함수다!!\n",
      "나는 재귀함수다!!\n",
      "나는 재귀함수다!!\n",
      "나는 재귀함수다!!\n",
      "나는 재귀함수다!!\n",
      "나는 재귀함수다!!\n",
      "나는 재귀함수다!!\n",
      "나는 재귀함수다!!\n",
      "나는 재귀함수다!!\n",
      "나는 재귀함수다!!\n",
      "나는 재귀함수다!!\n",
      "나는 재귀함수다!!\n",
      "나는 재귀함수다!!\n",
      "나는 재귀함수다!!\n",
      "나는 재귀함수다!!\n",
      "나는 재귀함수다!!\n",
      "나는 재귀함수다!!\n",
      "나는 재귀함수다!!\n",
      "나는 재귀함수다!!\n",
      "나는 재귀함수다!!\n",
      "나는 재귀함수다!!\n",
      "나는 재귀함수다!!\n",
      "나는 재귀함수다!!\n",
      "나는 재귀함수다!!\n",
      "나는 재귀함수다!!\n",
      "나는 재귀함수다!!\n",
      "나는 재귀함수다!!\n",
      "나는 재귀함수다!!\n",
      "나는 재귀함수다!!\n",
      "나는 재귀함수다!!\n",
      "나는 재귀함수다!!\n",
      "나는 재귀함수다!!\n",
      "나는 재귀함수다!!\n",
      "나는 재귀함수다!!\n",
      "나는 재귀함수다!!\n",
      "나는 재귀함수다!!\n",
      "나는 재귀함수다!!\n",
      "나는 재귀함수다!!\n",
      "나는 재귀함수다!!\n",
      "나는 재귀함수다!!\n",
      "나는 재귀함수다!!\n",
      "나는 재귀함수다!!\n",
      "나는 재귀함수다!!\n",
      "나는 재귀함수다!!\n",
      "나는 재귀함수다!!\n",
      "나는 재귀함수다!!\n",
      "나는 재귀함수다!!\n",
      "나는 재귀함수다!!\n",
      "나는 재귀함수다!!\n",
      "나는 재귀함수다!!\n",
      "나는 재귀함수다!!\n",
      "나는 재귀함수다!!\n",
      "나는 재귀함수다!!\n",
      "나는 재귀함수다!!\n",
      "나는 재귀함수다!!\n",
      "나는 재귀함수다!!\n",
      "나는 재귀함수다!!\n",
      "나는 재귀함수다!!\n",
      "나는 재귀함수다!!\n",
      "나는 재귀함수다!!\n",
      "나는 재귀함수다!!\n",
      "나는 재귀함수다!!\n",
      "나는 재귀함수다!!\n",
      "나는 재귀함수다!!\n",
      "나는 재귀함수다!!\n",
      "나는 재귀함수다!!\n",
      "나는 재귀함수다!!\n",
      "나는 재귀함수다!!\n",
      "나는 재귀함수다!!\n",
      "나는 재귀함수다!!\n",
      "나는 재귀함수다!!\n",
      "나는 재귀함수다!!\n",
      "나는 재귀함수다!!\n",
      "나는 재귀함수다!!\n",
      "나는 재귀함수다!!\n",
      "나는 재귀함수다!!\n",
      "나는 재귀함수다!!\n",
      "나는 재귀함수다!!\n",
      "나는 재귀함수다!!\n",
      "나는 재귀함수다!!\n",
      "나는 재귀함수다!!\n",
      "나는 재귀함수다!!\n",
      "나는 재귀함수다!!\n",
      "나는 재귀함수다!!\n",
      "나는 재귀함수다!!\n",
      "나는 재귀함수다!!\n",
      "나는 재귀함수다!!\n",
      "나는 재귀함수다!!\n",
      "나는 재귀함수다!!\n",
      "나는 재귀함수다!!\n",
      "나는 재귀함수다!!\n",
      "나는 재귀함수다!!\n",
      "나는 재귀함수다!!\n",
      "나는 재귀함수다!!\n",
      "나는 재귀함수다!!\n",
      "나는 재귀함수다!!\n",
      "나는 재귀함수다!!\n",
      "나는 재귀함수다!!\n",
      "나는 재귀함수다!!\n",
      "나는 재귀함수다!!\n",
      "나는 재귀함수다!!\n",
      "나는 재귀함수다!!\n",
      "나는 재귀함수다!!\n",
      "나는 재귀함수다!!\n",
      "나는 재귀함수다!!\n",
      "나는 재귀함수다!!\n",
      "나는 재귀함수다!!\n",
      "나는 재귀함수다!!\n",
      "나는 재귀함수다!!\n",
      "나는 재귀함수다!!\n",
      "나는 재귀함수다!!\n",
      "나는 재귀함수다!!\n",
      "나는 재귀함수다!!\n",
      "나는 재귀함수다!!\n",
      "나는 재귀함수다!!\n",
      "나는 재귀함수다!!\n",
      "나는 재귀함수다!!\n",
      "나는 재귀함수다!!\n",
      "나는 재귀함수다!!\n",
      "나는 재귀함수다!!\n",
      "나는 재귀함수다!!\n",
      "나는 재귀함수다!!\n",
      "나는 재귀함수다!!\n",
      "나는 재귀함수다!!\n",
      "나는 재귀함수다!!\n",
      "나는 재귀함수다!!\n",
      "나는 재귀함수다!!\n"
     ]
    },
    {
     "ename": "RecursionError",
     "evalue": "maximum recursion depth exceeded while calling a Python object",
     "output_type": "error",
     "traceback": [
      "\u001b[1;31m---------------------------------------------------------------------------\u001b[0m",
      "\u001b[1;31mRecursionError\u001b[0m                            Traceback (most recent call last)",
      "\u001b[1;32m<ipython-input-11-07f806e3ccb3>\u001b[0m in \u001b[0;36m<module>\u001b[1;34m\u001b[0m\n\u001b[0;32m      4\u001b[0m \u001b[1;33m\u001b[0m\u001b[0m\n\u001b[0;32m      5\u001b[0m \u001b[1;31m# 재귀 함수 실행\u001b[0m\u001b[1;33m\u001b[0m\u001b[1;33m\u001b[0m\u001b[1;33m\u001b[0m\u001b[0m\n\u001b[1;32m----> 6\u001b[1;33m \u001b[0mrecursive_func\u001b[0m\u001b[1;33m(\u001b[0m\u001b[1;33m)\u001b[0m\u001b[1;33m\u001b[0m\u001b[1;33m\u001b[0m\u001b[0m\n\u001b[0m",
      "\u001b[1;32m<ipython-input-11-07f806e3ccb3>\u001b[0m in \u001b[0;36mrecursive_func\u001b[1;34m()\u001b[0m\n\u001b[0;32m      1\u001b[0m \u001b[1;32mdef\u001b[0m \u001b[0mrecursive_func\u001b[0m\u001b[1;33m(\u001b[0m\u001b[1;33m)\u001b[0m\u001b[1;33m:\u001b[0m\u001b[1;33m\u001b[0m\u001b[1;33m\u001b[0m\u001b[0m\n\u001b[0;32m      2\u001b[0m     \u001b[0mprint\u001b[0m\u001b[1;33m(\u001b[0m\u001b[1;34m\"나는 재귀함수다!!\"\u001b[0m\u001b[1;33m)\u001b[0m\u001b[1;33m\u001b[0m\u001b[1;33m\u001b[0m\u001b[0m\n\u001b[1;32m----> 3\u001b[1;33m     \u001b[0mrecursive_func\u001b[0m\u001b[1;33m(\u001b[0m\u001b[1;33m)\u001b[0m\u001b[1;33m\u001b[0m\u001b[1;33m\u001b[0m\u001b[0m\n\u001b[0m\u001b[0;32m      4\u001b[0m \u001b[1;33m\u001b[0m\u001b[0m\n\u001b[0;32m      5\u001b[0m \u001b[1;31m# 재귀 함수 실행\u001b[0m\u001b[1;33m\u001b[0m\u001b[1;33m\u001b[0m\u001b[1;33m\u001b[0m\u001b[0m\n",
      "... last 1 frames repeated, from the frame below ...\n",
      "\u001b[1;32m<ipython-input-11-07f806e3ccb3>\u001b[0m in \u001b[0;36mrecursive_func\u001b[1;34m()\u001b[0m\n\u001b[0;32m      1\u001b[0m \u001b[1;32mdef\u001b[0m \u001b[0mrecursive_func\u001b[0m\u001b[1;33m(\u001b[0m\u001b[1;33m)\u001b[0m\u001b[1;33m:\u001b[0m\u001b[1;33m\u001b[0m\u001b[1;33m\u001b[0m\u001b[0m\n\u001b[0;32m      2\u001b[0m     \u001b[0mprint\u001b[0m\u001b[1;33m(\u001b[0m\u001b[1;34m\"나는 재귀함수다!!\"\u001b[0m\u001b[1;33m)\u001b[0m\u001b[1;33m\u001b[0m\u001b[1;33m\u001b[0m\u001b[0m\n\u001b[1;32m----> 3\u001b[1;33m     \u001b[0mrecursive_func\u001b[0m\u001b[1;33m(\u001b[0m\u001b[1;33m)\u001b[0m\u001b[1;33m\u001b[0m\u001b[1;33m\u001b[0m\u001b[0m\n\u001b[0m\u001b[0;32m      4\u001b[0m \u001b[1;33m\u001b[0m\u001b[0m\n\u001b[0;32m      5\u001b[0m \u001b[1;31m# 재귀 함수 실행\u001b[0m\u001b[1;33m\u001b[0m\u001b[1;33m\u001b[0m\u001b[1;33m\u001b[0m\u001b[0m\n",
      "\u001b[1;31mRecursionError\u001b[0m: maximum recursion depth exceeded while calling a Python object"
     ]
    }
   ],
   "source": [
    "def recursive_func():\n",
    "    print(\"나는 재귀함수다!!\")\n",
    "    recursive_func()\n",
    "\n",
    "# 재귀 함수 실행\n",
    "recursive_func()"
   ]
  },
  {
   "cell_type": "code",
   "execution_count": 12,
   "id": "417070b1",
   "metadata": {},
   "outputs": [
    {
     "name": "stdout",
     "output_type": "stream",
     "text": [
      "My Factorial 불렀으? n값은?4\n",
      "My Factorial 불렀으? n값은?3\n",
      "My Factorial 불렀으? n값은?2\n",
      "My Factorial 불렀으? n값은?1\n"
     ]
    },
    {
     "data": {
      "text/plain": [
       "24"
      ]
     },
     "execution_count": 12,
     "metadata": {},
     "output_type": "execute_result"
    }
   ],
   "source": [
    "def my_factorial(n):\n",
    "    # 진짜 불러지는지 확인을 위해서 print 함수를 사용을 함..\n",
    "    print(\"My Factorial 불렀으? n값은?\" + str(n))\n",
    "    if n <=1 :\n",
    "        return 1\n",
    "    else:\n",
    "        return  n * my_factorial(n - 1)\n",
    "\n",
    "### 실제 4!에 대한 계산 시행\n",
    "my_factorial(4)"
   ]
  },
  {
   "cell_type": "code",
   "execution_count": 13,
   "id": "ad0535d7",
   "metadata": {},
   "outputs": [
    {
     "name": "stdout",
     "output_type": "stream",
     "text": [
      "24\n"
     ]
    }
   ],
   "source": [
    "import math\n",
    "\n",
    "n =4\n",
    "print(math.factorial(int(n)))"
   ]
  },
  {
   "cell_type": "code",
   "execution_count": 14,
   "id": "45273178",
   "metadata": {},
   "outputs": [
    {
     "name": "stdout",
     "output_type": "stream",
     "text": [
      "4! =24\n",
      "4! =24\n"
     ]
    }
   ],
   "source": [
    "##############################\n",
    "# While 문 사용\n",
    "n = 4\n",
    "fact = 1 # 계산에 대한 최종 결과 처리용\n",
    "a=1 # 증감용\n",
    "while a <= n :\n",
    "    fact*=a\n",
    "    a+=1\n",
    "print( str(n)+\"! =\" + str(fact))\n",
    "\n",
    "\n",
    "\n",
    "##############################\n",
    "# for 문 사용\n",
    "n = 4\n",
    "fact = 1\n",
    "for i in range(1, n+1):\n",
    "    fact  *= i\n",
    "print( str(n)+\"! =\" + str(fact))"
   ]
  },
  {
   "cell_type": "code",
   "execution_count": 15,
   "id": "0fee77a8",
   "metadata": {},
   "outputs": [
    {
     "name": "stdout",
     "output_type": "stream",
     "text": [
      "나는 1번째 재귀함수다!!\n",
      "나는 2번째 재귀함수다!!\n",
      "나는 3번째 재귀함수다!!\n",
      "나는 4번째 재귀함수다!!\n",
      "나는 5번째 재귀함수다!!\n",
      "나는 6번째 재귀함수다!!\n",
      "나는 7번째 재귀함수다!!\n",
      "나는 8번째 재귀함수다!!\n",
      "나는 9번째 재귀함수다!!\n",
      "나는 10번째 재귀함수다!!\n",
      "나는 11번째 재귀함수다!!\n",
      "나는 12번째 재귀함수다!!\n",
      "나는 13번째 재귀함수다!!\n",
      "나는 14번째 재귀함수다!!\n",
      "나는 15번째 재귀함수다!!\n",
      "나는 16번째 재귀함수다!!\n",
      "나는 17번째 재귀함수다!!\n",
      "나는 18번째 재귀함수다!!\n",
      "나는 19번째 재귀함수다!!\n",
      "나는 20번째 재귀함수다!!\n",
      "나는 21번째 재귀함수다!!\n",
      "나는 22번째 재귀함수다!!\n",
      "나는 23번째 재귀함수다!!\n",
      "나는 24번째 재귀함수다!!\n",
      "나는 25번째 재귀함수다!!\n",
      "나는 26번째 재귀함수다!!\n",
      "나는 27번째 재귀함수다!!\n",
      "나는 28번째 재귀함수다!!\n",
      "나는 29번째 재귀함수다!!\n",
      "나는 30번째 재귀함수다!!\n",
      "나는 31번째 재귀함수다!!\n",
      "나는 32번째 재귀함수다!!\n",
      "나는 33번째 재귀함수다!!\n",
      "나는 34번째 재귀함수다!!\n",
      "나는 35번째 재귀함수다!!\n",
      "나는 36번째 재귀함수다!!\n",
      "나는 37번째 재귀함수다!!\n",
      "나는 38번째 재귀함수다!!\n",
      "나는 39번째 재귀함수다!!\n",
      "나는 40번째 재귀함수다!!\n",
      "나는 41번째 재귀함수다!!\n",
      "나는 42번째 재귀함수다!!\n",
      "나는 43번째 재귀함수다!!\n",
      "나는 44번째 재귀함수다!!\n",
      "나는 45번째 재귀함수다!!\n",
      "나는 46번째 재귀함수다!!\n",
      "나는 47번째 재귀함수다!!\n",
      "나는 48번째 재귀함수다!!\n",
      "나는 49번째 재귀함수다!!\n"
     ]
    }
   ],
   "source": [
    "def recursive_func(i):\n",
    "    # 50번까지만 하기 위해서는\n",
    "    if i == 50 :\n",
    "        return\n",
    "    else:\n",
    "        print(\"나는 {}번째 재귀함수다!!\".format(i))\n",
    "        recursive_func(i+1)\n",
    "\n",
    "recursive_func(1)"
   ]
  },
  {
   "cell_type": "code",
   "execution_count": 21,
   "id": "adb2dd69",
   "metadata": {},
   "outputs": [
    {
     "name": "stdout",
     "output_type": "stream",
     "text": [
      "[[0, 7, 5], [7, 0, 999999999], [5, 999999999, 0]]\n",
      "[[0, 7, 5], [7, 0, inf], [5, inf, 0]]\n"
     ]
    }
   ],
   "source": [
    "# 방법1) 직접 큰 수를 할당\n",
    "INF = 999999999\n",
    "\n",
    "graph = [\n",
    "            [0,7,5],\n",
    "            [7,0,INF],\n",
    "            [5,INF,0]\n",
    "        ]\n",
    "print(graph)\n",
    "\n",
    "# 방법2) 파이썬을 활용해서 명시적으로 할 때\n",
    "INF = float('inf')\n",
    "\n",
    "graph = [\n",
    "            [0,7,5],\n",
    "            [7,0,INF],\n",
    "            [5,INF,0]\n",
    "        ]\n",
    "print(graph)"
   ]
  },
  {
   "cell_type": "code",
   "execution_count": 19,
   "id": "5ae46b52",
   "metadata": {},
   "outputs": [
    {
     "name": "stdout",
     "output_type": "stream",
     "text": [
      "inf\n",
      "True True\n"
     ]
    }
   ],
   "source": [
    "num = float('inf')\n",
    "print(num)\n",
    "print(num>1, num>9999999999999999999999999)"
   ]
  },
  {
   "cell_type": "code",
   "execution_count": 24,
   "id": "014523c1",
   "metadata": {},
   "outputs": [
    {
     "name": "stdout",
     "output_type": "stream",
     "text": [
      "[[0, 1, inf, 1], [1, 0, 1, 1], [inf, 1, 0, 1], [1, 1, 1, 0]]\n"
     ]
    }
   ],
   "source": [
    "INF = float('inf')\n",
    "\n",
    "graph = [\n",
    "            [0,1,INF,1],\n",
    "            [1,0,1,1],\n",
    "            [INF,1,0,1],\n",
    "            [1,1,1,0]\n",
    "        ]\n",
    "print(graph)"
   ]
  },
  {
   "cell_type": "code",
   "execution_count": 25,
   "id": "ab1ff864",
   "metadata": {},
   "outputs": [
    {
     "data": {
      "text/plain": [
       "[[], [], []]"
      ]
     },
     "execution_count": 25,
     "metadata": {},
     "output_type": "execute_result"
    }
   ],
   "source": [
    "# 참고) 입력으로 이렇게 빈 리스트를 생성해서 받을 때..\n",
    "graph = [[] for _ in range(3)]\n",
    "graph"
   ]
  },
  {
   "cell_type": "code",
   "execution_count": 26,
   "id": "36552d11",
   "metadata": {},
   "outputs": [
    {
     "name": "stdout",
     "output_type": "stream",
     "text": [
      "[[(1, 7), (2, 5)], [(0, 7)], [(0, 5)]]\n"
     ]
    }
   ],
   "source": [
    "# 노드 0번에 대해서 연결에 대한 정보를 추가를 하려고 함\n",
    "# 노드 0번은 graph[0]\n",
    "# 0번 노드와 연결된 노드 번호, 가중치\n",
    "graph[0].append((1,7))\n",
    "graph[0].append((2,5))\n",
    "\n",
    "# 노드 1에 대한 정보를 추가해보겠음.\n",
    "graph[1].append((0,7))\n",
    "\n",
    "# 노드 2에 대한 정보를 추가\n",
    "graph[2].append((0,5))\n",
    "\n",
    "print(graph)"
   ]
  },
  {
   "cell_type": "code",
   "execution_count": 51,
   "id": "77ad5187",
   "metadata": {},
   "outputs": [
    {
     "data": {
      "text/plain": [
       "{'1': ['2', '3', '8'],\n",
       " '2': ['1', '7'],\n",
       " '3': ['1', '4', '5'],\n",
       " '4': ['3', '5'],\n",
       " '5': ['3', '4'],\n",
       " '6': ['7'],\n",
       " '7': ['2', '6', '8'],\n",
       " '8': ['1', '7']}"
      ]
     },
     "execution_count": 51,
     "metadata": {},
     "output_type": "execute_result"
    }
   ],
   "source": [
    "# 위의 주어진 예제에 대해서 그래프의 연결리스트를 아래와 같이 dict로 구현\n",
    "graph = {\n",
    "    \"1\" : [\"2\",\"3\",\"8\"],\n",
    "    \"2\" : [\"1\",\"7\"],\n",
    "    \"3\" : [\"1\",\"4\",\"5\"],\n",
    "    \"4\" : [\"3\",\"5\"],\n",
    "    \"5\" : [\"3\",\"4\"],\n",
    "    \"6\" : [\"7\"],\n",
    "    \"7\" : [\"2\",\"6\",\"8\"],\n",
    "    \"8\" : [\"1\",\"7\"]\n",
    "}\n",
    "graph"
   ]
  },
  {
   "cell_type": "code",
   "execution_count": 52,
   "id": "e619deb9",
   "metadata": {},
   "outputs": [],
   "source": [
    "def dfs_list(graph, start_node):\n",
    "    #필요한 것....\n",
    "    need_visit = list()\n",
    "    visited = list()\n",
    "    # 이제 출발을 하자 -> start_node\n",
    "    need_visit.append(start_node)\n",
    "    #언제까지 가냐? -> need_visit에 원소가 없을때까지\n",
    "    while need_visit:\n",
    "        node = need_visit.pop()\n",
    "        if node not in visited: # 아직 방문 안 한노드\n",
    "            visited.append(node)\n",
    "            need_visit.extend(graph[node])\n",
    "            print(need_visit, visited)\n",
    "        else:\n",
    "            pass\n",
    "    return visited"
   ]
  },
  {
   "cell_type": "code",
   "execution_count": 53,
   "id": "f154f5cc",
   "metadata": {},
   "outputs": [
    {
     "name": "stdout",
     "output_type": "stream",
     "text": [
      "['2', '3', '8'] ['1']\n",
      "['2', '3', '1', '7'] ['1', '8']\n",
      "['2', '3', '1', '2', '6', '8'] ['1', '8', '7']\n",
      "['2', '3', '1', '2', '7'] ['1', '8', '7', '6']\n",
      "['2', '3', '1', '1', '7'] ['1', '8', '7', '6', '2']\n",
      "['2', '1', '4', '5'] ['1', '8', '7', '6', '2', '3']\n",
      "['2', '1', '4', '3', '4'] ['1', '8', '7', '6', '2', '3', '5']\n",
      "['2', '1', '4', '3', '3', '5'] ['1', '8', '7', '6', '2', '3', '5', '4']\n"
     ]
    },
    {
     "data": {
      "text/plain": [
       "['1', '8', '7', '6', '2', '3', '5', '4']"
      ]
     },
     "execution_count": 53,
     "metadata": {},
     "output_type": "execute_result"
    }
   ],
   "source": [
    "dfs_list(graph, \"1\")"
   ]
  },
  {
   "cell_type": "code",
   "execution_count": 39,
   "id": "54b3d79f",
   "metadata": {},
   "outputs": [],
   "source": [
    "def dfs_list_re(graph, start_node):\n",
    "    #필요한 것....\n",
    "    need_visit = list()\n",
    "    visited = list()\n",
    "    # 이제 출발을 하자 -> start_node\n",
    "    need_visit.append(start_node)\n",
    "    #언제까지 가냐? -> need_visit에 원소가 없을때까지\n",
    "    while need_visit:\n",
    "        node = need_visit.pop()\n",
    "        if node not in visited: # 아직 방문 안 한노드\n",
    "            visited.append(node)\n",
    "            # [2,3,8] -> pop 8 -> 숫자가 큰 노드부터..\n",
    "            # [8,3,2]\n",
    "            #need_visit.extend(graph[node])\n",
    "            temp = graph[node]\n",
    "            reverse_temp = list(reversed(temp))\n",
    "            need_visit.extend(reverse_temp)\n",
    "            print(need_visit, visited)\n",
    "        else:\n",
    "            pass\n",
    "    return visited\n",
    "\n",
    "# def dfs_list(graph, start_node):\n",
    "#     need_visit = list()\n",
    "#     visited = list()\n",
    "#     need_visit.append(start_node)\n",
    "#     while need_visit:\n",
    "#         node = need_visit.pop()\n",
    "#         if node not in visited:\n",
    "#             visited.append(node)\n",
    "#             tmp = graph[node]\n",
    "#             reverse_tmp = reversed(tmp)\n",
    "#             need_visit.extend(reverse_tmp)\n",
    "#     return visited"
   ]
  },
  {
   "cell_type": "code",
   "execution_count": 40,
   "id": "b0c4fe77",
   "metadata": {},
   "outputs": [
    {
     "name": "stdout",
     "output_type": "stream",
     "text": [
      "['8', '3', '2'] ['1']\n",
      "['8', '3', '7', '1'] ['1', '2']\n",
      "['8', '3', '8', '6', '2'] ['1', '2', '7']\n",
      "['8', '3', '8', '7'] ['1', '2', '7', '6']\n",
      "['8', '3', '7', '1'] ['1', '2', '7', '6', '8']\n",
      "['8', '5', '4', '1'] ['1', '2', '7', '6', '8', '3']\n",
      "['8', '5', '5', '3'] ['1', '2', '7', '6', '8', '3', '4']\n",
      "['8', '5', '4', '3'] ['1', '2', '7', '6', '8', '3', '4', '5']\n"
     ]
    },
    {
     "data": {
      "text/plain": [
       "['1', '2', '7', '6', '8', '3', '4', '5']"
      ]
     },
     "execution_count": 40,
     "metadata": {},
     "output_type": "execute_result"
    }
   ],
   "source": [
    "dfs_list_re(graph, \"1\")"
   ]
  },
  {
   "cell_type": "code",
   "execution_count": 45,
   "id": "74e1f24c",
   "metadata": {},
   "outputs": [],
   "source": [
    "def dfs_list(graph, start_node):\n",
    "    need_visit = list()\n",
    "    visited = list()\n",
    "    need_visit.append(start_node)\n",
    "    while need_visit:\n",
    "        node = need_visit.pop()\n",
    "        if node not in visited:\n",
    "            visited.append(node)\n",
    "            tmp = graph[node]\n",
    "            reverse_tmp = reversed(tmp)\n",
    "            need_visit.extend(reverse_tmp)\n",
    "    return visited\n",
    "\n",
    "def dfs_recursive_dict(graph, start, visited = []):\n",
    "    # 일단 시작 노드에 대해서 visited 추가\n",
    "    visited.append(start)\n",
    "    print(graph[start])\n",
    "    for node in graph[start]:\n",
    "        if node not in visited:\n",
    "            dfs_recursive_dict(graph, node, visited)\n",
    "        else:\n",
    "            pass\n",
    "    return visited"
   ]
  },
  {
   "cell_type": "code",
   "execution_count": 46,
   "id": "07806f37",
   "metadata": {},
   "outputs": [
    {
     "name": "stdout",
     "output_type": "stream",
     "text": [
      "['2', '3', '8']\n",
      "['1', '7']\n",
      "['2', '6', '8']\n",
      "['7']\n",
      "['1', '7']\n",
      "['1', '4', '5']\n",
      "['3', '5']\n",
      "['3', '4']\n"
     ]
    },
    {
     "data": {
      "text/plain": [
       "['1', '2', '7', '6', '8', '3', '4', '5']"
      ]
     },
     "execution_count": 46,
     "metadata": {},
     "output_type": "execute_result"
    }
   ],
   "source": [
    "dfs_recursive_dict(graph, \"1\")"
   ]
  },
  {
   "cell_type": "code",
   "execution_count": 47,
   "id": "df1c55c5",
   "metadata": {},
   "outputs": [],
   "source": [
    "def bfs_list(graph, start_node):\n",
    "    # 필요한 것....\n",
    "    need_visit_q = list()\n",
    "    visited = list()\n",
    "    # 이제 출발을 하자 -> start_node\n",
    "    need_visit_q.append(start_node)\n",
    "    while need_visit_q:\n",
    "        node = need_visit_q.pop(0)\n",
    "        if node not in visited:\n",
    "            visited.append(node)\n",
    "            need_visit_q.extend(graph[node])\n",
    "        else:\n",
    "            pass\n",
    "    \n",
    "    return visited"
   ]
  },
  {
   "cell_type": "code",
   "execution_count": 48,
   "id": "d70ea862",
   "metadata": {},
   "outputs": [
    {
     "data": {
      "text/plain": [
       "['1', '2', '3', '8', '7', '4', '5', '6']"
      ]
     },
     "execution_count": 48,
     "metadata": {},
     "output_type": "execute_result"
    }
   ],
   "source": [
    "bfs_list(graph, \"1\")"
   ]
  },
  {
   "cell_type": "code",
   "execution_count": 60,
   "id": "35711b6a",
   "metadata": {},
   "outputs": [
    {
     "name": "stdout",
     "output_type": "stream",
     "text": [
      "3\n"
     ]
    }
   ],
   "source": [
    "graph45 = [\n",
    "    [0,0,1,1,0],\n",
    "    [0,0,0,1,1],\n",
    "    [1,1,1,1,1],\n",
    "    [0,0,0,0,0],\n",
    "]\n",
    "result = 0\n",
    "n = len(graph45)\n",
    "m = len(graph45[0])\n",
    "# 주어진 맵에 대해서 모든 점에서 다 시작을 해보려고 함.\n",
    "for i in range(n): # 0~n-1\n",
    "    for j in range(m): # 0~ m-1\n",
    "        # 주어진 그래프에서 모든 점을 다 가볼 수 있음!!!\n",
    "        if ice_check(i,j) == True:\n",
    "            result +=1\n",
    "        else:\n",
    "            pass\n",
    "        \n",
    "print(result)"
   ]
  },
  {
   "cell_type": "code",
   "execution_count": 59,
   "id": "52956fa6",
   "metadata": {},
   "outputs": [],
   "source": [
    "def ice_check(x,y):\n",
    "    # 시킨 좌표가 주어진 범위 밖이면(얼음 케이스 밖엘 때 할 필요없음)\n",
    "    if x <= -1 or x >= n or y <= -1 or y >= m:\n",
    "        return False\n",
    "    # 내가 있는 위치가 해야할 곳인지, 안해도 될 곳인지...\n",
    "    if graph45[x][y] == 0:\n",
    "        # 나 여기 왔어요.... 0 -> 1로 뒤집어....\n",
    "        graph45[x][y] = 1\n",
    "        # 지금까지 한 일을 상,하,좌,우에 다 해볼려고 함..\n",
    "        ice_check(x-1, y)\n",
    "        ice_check(x, y-1)\n",
    "        ice_check(x+1, y)\n",
    "        ice_check(x, y+1)\n",
    "        return True\n",
    "    return False\n"
   ]
  },
  {
   "cell_type": "code",
   "execution_count": 61,
   "id": "65c26f7f",
   "metadata": {},
   "outputs": [
    {
     "data": {
      "text/plain": [
       "[[1, 1, 1, 1, 1], [1, 1, 1, 1, 1], [1, 1, 1, 1, 1], [1, 1, 1, 1, 1]]"
      ]
     },
     "execution_count": 61,
     "metadata": {},
     "output_type": "execute_result"
    }
   ],
   "source": [
    "graph45"
   ]
  },
  {
   "cell_type": "code",
   "execution_count": 4,
   "id": "19c2e314",
   "metadata": {},
   "outputs": [
    {
     "data": {
      "text/plain": [
       "[5, 7, 9, 0, 3, 1, 6, 2, 4, 8]"
      ]
     },
     "execution_count": 4,
     "metadata": {},
     "output_type": "execute_result"
    }
   ],
   "source": [
    "arr = [ 5, 7 ,9, 0, 3, 1, 6, 2, 4, 8 ]\n",
    "arr"
   ]
  },
  {
   "cell_type": "code",
   "execution_count": 5,
   "id": "f3c517c9",
   "metadata": {},
   "outputs": [
    {
     "name": "stdout",
     "output_type": "stream",
     "text": [
      "[5, 7, 9, 0, 3, 1, 6, 2, 4, 8]\n",
      "[1, 4, 2, 0, 3, 5, 6, 9, 7, 8]\n",
      "[0, 1, 2, 4, 3, 5, 6, 9, 7, 8]\n",
      "[0, 1, 2, 4, 3, 5, 6, 9, 7, 8]\n",
      "[0, 1, 2, 4, 3, 5, 6, 9, 7, 8]\n",
      "[0, 1, 2, 4, 3, 5, 6, 9, 7, 8]\n",
      "[0, 1, 2, 3, 4, 5, 6, 9, 7, 8]\n",
      "[0, 1, 2, 3, 4, 5, 6, 9, 7, 8]\n",
      "[0, 1, 2, 3, 4, 5, 6, 9, 7, 8]\n",
      "[0, 1, 2, 3, 4, 5, 6, 9, 7, 8]\n",
      "[0, 1, 2, 3, 4, 5, 6, 9, 7, 8]\n",
      "[0, 1, 2, 3, 4, 5, 6, 8, 7, 9]\n",
      "[0, 1, 2, 3, 4, 5, 6, 7, 8, 9]\n",
      "[0, 1, 2, 3, 4, 5, 6, 7, 8, 9]\n",
      "[0, 1, 2, 3, 4, 5, 6, 7, 8, 9]\n",
      "[0, 1, 2, 3, 4, 5, 6, 7, 8, 9]\n"
     ]
    }
   ],
   "source": [
    "# 재귀 함수로 구현을 하면 보다 쉽게 구현을 할 수 있음!!!\n",
    "# 입력 : 숫자들의 데이터\n",
    "def quick_sort(array, start, end):\n",
    "    # 원소가 한개인 경우에 종료를 위해서...\n",
    "    # print(array)\n",
    "    if start >= end:\n",
    "        return\n",
    "    else :#실제 원소의 수가 2개 이상인 경우들에 대해서 정리를 해야함\n",
    "        # 시작을 위한 기준\n",
    "        pivot = start\n",
    "        left = start + 1 # --->\n",
    "        right = end\n",
    "        \n",
    "        while(left <= right):\n",
    "            # pivot보다 큰 데이터를 찾을 때 까지 :left가 오른쪽으로 달릴 조건..\n",
    "            while(left <= end and array[left] <= array[pivot]) : # left가 도는 기준\n",
    "                left += 1\n",
    "            # pivot 보다 작은 데이터를 찾을 때 까지 : right가 왼쪽으로 달릴 조건..\n",
    "            while(right > start and array[right] >= array[pivot]) : # left가 도는 기준\n",
    "                right -= 1\n",
    "                \n",
    "            # left, right 다 각기 역할을 수행을 시킨 후에\n",
    "            # 서로 위치가 뒤집어 지는지, 아닌지에 따라서....\n",
    "            if left > right:\n",
    "                array[right], array[pivot] = array[pivot], array[right]\n",
    "            else: # 아직 left, right가 서로 크로스는 아니고, 멈춘 상태...\n",
    "                array[left], array[right] = array[right], array[left]\n",
    "                \n",
    "    ####################################################################\n",
    "    ### pivot을 기준으로 UP, DOWN만 구별을 함!!!!!\n",
    "    # pivot 보다 작은 파트에 적용\n",
    "    quick_sort(array, start, right - 1)\n",
    "    # pivot 보다 큰 파트에 적용\n",
    "    quick_sort(array, right + 1, end)\n",
    "                \n",
    "        \n",
    "quick_sort(arr, 0, len(arr) - 1)\n",
    "print(arr)\n",
    "    "
   ]
  },
  {
   "cell_type": "code",
   "execution_count": 6,
   "id": "8579af21",
   "metadata": {},
   "outputs": [],
   "source": [
    "# 퀵 정렬에 대해서 파이썬 답게 수정해보면..\n",
    "def sort_quick_py(array):\n",
    "    # 입력의 리스트에 원소가 1개가 있으면 종료하자~~\n",
    "    if len(array) <= 1:\n",
    "        return array\n",
    "    # 입력한 부분에서 기존 pivot은 첫번째 원소로 세팅\n",
    "    pivot = array[0]\n",
    "    tail =array[1:] # pivot 제외한 값들...\n",
    "    # -> 그 pivot을 제외한 값들 분리하고 -> pivot을 중심으로 up part, down part 구현!!!\n",
    "    # 이거 할때 주의 할 점 있으니 유의~~\n",
    "    # 주어진 tail을 겹치지 않게 left, right 로 분할을 위해서 등호처리는 한쪽.\n",
    "    left_side = [ x for x in tail if x <= pivot]\n",
    "    right_side = [ x for x in tail if x > pivot]\n",
    "    \n",
    "    # 이 부분에서 파이썬의 리스트의 컴프리핸션기능으로 구현가능할 듯?\n",
    "    \n",
    "    # 출력\n",
    "    # 위에서 구한 pivot의 왼쪽 파트? + 기준 + pivot 오른쪽 파트 ?\n",
    "    return sort_quick_py(left_side) + [pivot] + sort_quick_py(right_side)"
   ]
  },
  {
   "cell_type": "code",
   "execution_count": 7,
   "id": "be3e2719",
   "metadata": {},
   "outputs": [
    {
     "data": {
      "text/plain": [
       "[5, 7, 9, 0, 3, 1, 6, 2, 4, 8]"
      ]
     },
     "execution_count": 7,
     "metadata": {},
     "output_type": "execute_result"
    }
   ],
   "source": [
    "arr = [ 5, 7 ,9, 0, 3, 1, 6, 2, 4, 8 ]\n",
    "arr"
   ]
  },
  {
   "cell_type": "code",
   "execution_count": 8,
   "id": "a1130ead",
   "metadata": {},
   "outputs": [
    {
     "data": {
      "text/plain": [
       "[0, 1, 2, 3, 4, 5, 6, 7, 8, 9]"
      ]
     },
     "execution_count": 8,
     "metadata": {},
     "output_type": "execute_result"
    }
   ],
   "source": [
    "sort_quick_py(arr)"
   ]
  },
  {
   "cell_type": "code",
   "execution_count": 16,
   "id": "e29ed48b",
   "metadata": {},
   "outputs": [
    {
     "name": "stdout",
     "output_type": "stream",
     "text": [
      "31\n"
     ]
    }
   ],
   "source": [
    "cost = 4720\n",
    "coin_type = [1, 50, 100, 500]\n",
    "coin_type.sort(reverse = True)\n",
    "count = 0\n",
    "\n",
    "for coin in coin_type:\n",
    "    count += (cost // coin) # count = count + cost // coin\n",
    "    cost = cost % coin # cost = cost % coin\n",
    "    \n",
    "print(count)"
   ]
  },
  {
   "cell_type": "code",
   "execution_count": 31,
   "id": "9d0ae0fa",
   "metadata": {},
   "outputs": [
    {
     "name": "stdout",
     "output_type": "stream",
     "text": [
      "5 8 3\n",
      "2 4 5 4 6\n",
      "6 + 6 + 5 + 6 + 6 + 5 + 6 + 6 + =46\n"
     ]
    }
   ],
   "source": [
    "arr1 = input().split()\n",
    "arr2 = input().split()\n",
    "\n",
    "#print(arr1)\n",
    "#print(arr2)\n",
    "\n",
    "arr1Int = []\n",
    "arr2Int = []\n",
    "\n",
    "for i in arr1:\n",
    "    arr1Int.append(int(i))\n",
    "    \n",
    "\n",
    "for i in arr2:\n",
    "    arr2Int.append(int(i))\n",
    "\n",
    "# print(arr1Int)\n",
    "# print(arr2Int)\n",
    "arr2Int.sort(key = lambda x : x, reverse = True)\n",
    "# print(arr2Int)\n",
    "# print(arr2Int[1:len(arr2Int)])\n",
    "# print(max(arr2Int))\n",
    "\n",
    "count = 0\n",
    "sum = 0\n",
    "s = \"\"\n",
    "for i in range(arr1Int[1]):\n",
    "    count += 1\n",
    "    if count < arr1Int[2]:\n",
    "        sum += arr2Int[0]\n",
    "        s += str(arr2Int[0])\n",
    "    else:\n",
    "        count = 0\n",
    "        sum += arr2Int[1]\n",
    "        s += str(arr2Int[1])\n",
    "    s +=  \" + \"\n",
    "s += \"=\" + str(sum)\n",
    "print(s)\n",
    "\n",
    "# 5 8 3\n",
    "# 2 4 5 4 6"
   ]
  },
  {
   "cell_type": "code",
   "execution_count": 36,
   "id": "bd2477c9",
   "metadata": {},
   "outputs": [
    {
     "name": "stdout",
     "output_type": "stream",
     "text": [
      "n, m, k의 수를 입력하세요...(공란기준)5 8 3\n",
      "수들을 입력하세요~2 4 5 4 6\n",
      "[2, 4, 4, 5, 6]\n",
      "6 --- 5\n",
      "46\n"
     ]
    }
   ],
   "source": [
    "# 입력 부분 -> 크게 2파트\n",
    "n, m, k = map(int, input(\"n, m, k의 수를 입력하세요...(공란기준)\").split())\n",
    "data = list(map(int, input(\"수들을 입력하세요~\").split()))\n",
    "\n",
    "# 1) data의 max를 알아야 함!!!! -> first : 최대 k 번 더하기..\n",
    "# 2) data의 max보다 바로 작은 수 -> second : 최대 1번\n",
    "# 1~2이 셋 이 1/2번 세트를 언제까지 m번까지~~~~\n",
    "\n",
    "# first, second\n",
    "data.sort()\n",
    "first = data[n - 1]\n",
    "second = data[n - 2]\n",
    "print(data)\n",
    "print(first, \"---\",second)\n",
    "# 더한 값을 기록할 변수\n",
    "result = 0\n",
    "\n",
    "# first : k, second : 1 -> 이것을 덩어리로 보면, 덩어리 원소의 수 : k + 1\n",
    "# --------------------------------> 몇 덩어리인지, 몇 개가 남는지...\n",
    "# 1) first는 덩어리에서 몇 덩어리 + 남는 것...\n",
    "\n",
    "count_first = (m // (k+1)) * k\n",
    "count_first += m % (k+1)\n",
    "\n",
    "# 2) second는 오로지 몇 덩어리인지만!!!!!!\n",
    "count_second = m - count_first\n",
    "\n",
    "# first의 숫자와 갯수로 합을, second의 숫자와 갯수로 합을\n",
    "result += count_first * first\n",
    "result += count_second * second\n",
    "\n",
    "print(result)"
   ]
  },
  {
   "cell_type": "code",
   "execution_count": 38,
   "id": "420c0cae",
   "metadata": {},
   "outputs": [
    {
     "name": "stdout",
     "output_type": "stream",
     "text": [
      "n, m, k의 수를 입력하세요...(공란기준)5 8 3\n",
      "수들을 입력하세요~2 4 5 4 6\n",
      "[2, 4, 4, 5, 6]\n",
      "6 --- 5\n",
      "46\n"
     ]
    }
   ],
   "source": [
    "# 입력 부분 -> 크게 2파트\n",
    "n, m, k = map(int, input(\"n, m, k의 수를 입력하세요...(공란기준)\").split())\n",
    "data = list(map(int, input(\"수들을 입력하세요~\").split()))\n",
    "\n",
    "# 1) data의 max를 알아야 함!!!! -> first : 최대 k 번 더하기..\n",
    "# 2) data의 max보다 바로 작은 수 -> second : 최대 1번\n",
    "# 1~2이 셋 이 1/2번 세트를 언제까지 m번까지~~~~\n",
    "# --> 1개 값을 더할 때 마다....m : -1씩 줄여나갑니다.. m=0 종료를~~~\n",
    "# first, second\n",
    "data.sort()\n",
    "first = data[n - 1]\n",
    "second = data[n - 2]\n",
    "print(data)\n",
    "print(first, \"---\",second)\n",
    "# 더한 값을 기록할 변수\n",
    "result = 0\n",
    "\n",
    "while True:\n",
    "    # first를 최대 k개까지 더해가면서, m에서는 더할 때 마다 줄임.\n",
    "    for i in range(k):\n",
    "        if m == 0:\n",
    "            break\n",
    "        else:\n",
    "            result += first\n",
    "            m -= 1\n",
    "    # first 작업이 끝나고,,, 혹시 그 전에 m = 0이 될 수 있으니...\n",
    "    # m = 0이면 체크해서 나가고... 아니면... second만 1번만 더하고\n",
    "    # 다시 first 쪽으로 넘기기 위해서..\n",
    "    if m == 0:\n",
    "        break\n",
    "    else:\n",
    "        result += second\n",
    "        m -= 1\n",
    "        \n",
    "print(result)"
   ]
  },
  {
   "cell_type": "code",
   "execution_count": 45,
   "id": "3190b32e",
   "metadata": {},
   "outputs": [
    {
     "name": "stdout",
     "output_type": "stream",
     "text": [
      "leo\n",
      "vinko\n"
     ]
    },
    {
     "ename": "IndexError",
     "evalue": "list index out of range",
     "output_type": "error",
     "traceback": [
      "\u001b[1;31m---------------------------------------------------------------------------\u001b[0m",
      "\u001b[1;31mIndexError\u001b[0m                                Traceback (most recent call last)",
      "\u001b[1;32m<ipython-input-45-4b40c6f89a74>\u001b[0m in \u001b[0;36m<module>\u001b[1;34m\u001b[0m\n\u001b[0;32m     10\u001b[0m solution([\"marina\", \"josipa\", \"nikola\", \"vinko\", \"filipa\"], \n\u001b[0;32m     11\u001b[0m          [\"josipa\", \"filipa\", \"marina\", \"nikola\"])\n\u001b[1;32m---> 12\u001b[1;33m solution([\"mislav\", \"stanko\", \"mislav\", \"ana\"],\n\u001b[0m\u001b[0;32m     13\u001b[0m          [\"stanko\", \"ana\", \"mislav\"])\n",
      "\u001b[1;32m<ipython-input-45-4b40c6f89a74>\u001b[0m in \u001b[0;36msolution\u001b[1;34m(participant, completion)\u001b[0m\n\u001b[0;32m      3\u001b[0m     \u001b[0ms1\u001b[0m \u001b[1;33m=\u001b[0m \u001b[0mset\u001b[0m\u001b[1;33m(\u001b[0m\u001b[0mparticipant\u001b[0m\u001b[1;33m)\u001b[0m\u001b[1;33m\u001b[0m\u001b[1;33m\u001b[0m\u001b[0m\n\u001b[0;32m      4\u001b[0m     \u001b[0ms2\u001b[0m \u001b[1;33m=\u001b[0m \u001b[0mset\u001b[0m\u001b[1;33m(\u001b[0m\u001b[0mcompletion\u001b[0m\u001b[1;33m)\u001b[0m\u001b[1;33m\u001b[0m\u001b[1;33m\u001b[0m\u001b[0m\n\u001b[1;32m----> 5\u001b[1;33m     \u001b[0manswer\u001b[0m \u001b[1;33m=\u001b[0m \u001b[0mstr\u001b[0m\u001b[1;33m(\u001b[0m\u001b[0mlist\u001b[0m\u001b[1;33m(\u001b[0m\u001b[0ms1\u001b[0m\u001b[1;33m.\u001b[0m\u001b[0mdifference\u001b[0m\u001b[1;33m(\u001b[0m\u001b[0ms2\u001b[0m\u001b[1;33m)\u001b[0m\u001b[1;33m)\u001b[0m\u001b[1;33m[\u001b[0m\u001b[1;36m0\u001b[0m\u001b[1;33m]\u001b[0m\u001b[1;33m)\u001b[0m\u001b[1;33m\u001b[0m\u001b[1;33m\u001b[0m\u001b[0m\n\u001b[0m\u001b[0;32m      6\u001b[0m     \u001b[0mprint\u001b[0m\u001b[1;33m(\u001b[0m\u001b[0manswer\u001b[0m\u001b[1;33m)\u001b[0m\u001b[1;33m\u001b[0m\u001b[1;33m\u001b[0m\u001b[0m\n\u001b[0;32m      7\u001b[0m     \u001b[1;32mreturn\u001b[0m \u001b[0manswer\u001b[0m\u001b[1;33m\u001b[0m\u001b[1;33m\u001b[0m\u001b[0m\n",
      "\u001b[1;31mIndexError\u001b[0m: list index out of range"
     ]
    }
   ],
   "source": [
    "def solution(participant, completion):\n",
    "    answer = ''\n",
    "    s1 = set(participant)\n",
    "    s2 = set(completion)\n",
    "    answer = str(list(s1.difference(s2))[0])\n",
    "    print(answer)\n",
    "    return answer\n",
    "    \n",
    "solution([\"leo\", \"kiki\", \"eden\"], [\"eden\", \"kiki\"])\n",
    "solution([\"marina\", \"josipa\", \"nikola\", \"vinko\", \"filipa\"], \n",
    "         [\"josipa\", \"filipa\", \"marina\", \"nikola\"])\n",
    "solution([\"mislav\", \"stanko\", \"mislav\", \"ana\"],\n",
    "         [\"stanko\", \"ana\", \"mislav\"])"
   ]
  },
  {
   "cell_type": "code",
   "execution_count": 44,
   "id": "494dad0d",
   "metadata": {},
   "outputs": [
    {
     "data": {
      "text/plain": [
       "{'a': 345, 'b': 345}"
      ]
     },
     "execution_count": 44,
     "metadata": {},
     "output_type": "execute_result"
    }
   ],
   "source": [
    "a = {}\n",
    "a[\"a\"] = 123\n",
    "a[\"b\"] = 345\n",
    "a\n",
    "\n",
    "a[\"a\"] = 345\n",
    "a"
   ]
  },
  {
   "cell_type": "code",
   "execution_count": 48,
   "id": "04d7ef14",
   "metadata": {},
   "outputs": [
    {
     "name": "stdout",
     "output_type": "stream",
     "text": [
      "leo\n",
      "vinko\n",
      "mislav\n"
     ]
    },
    {
     "data": {
      "text/plain": [
       "'mislav'"
      ]
     },
     "execution_count": 48,
     "metadata": {},
     "output_type": "execute_result"
    }
   ],
   "source": [
    "def solution(participant, completion):\n",
    "    answer = ''\n",
    "    hash = {}\n",
    "    for i in participant:\n",
    "        if i in hash:\n",
    "            hash[i] += 1 # 동명 이인인 경우에는 값을 +1을 더 추가..Update\n",
    "        else:\n",
    "            hash[i] = 1 # \n",
    "    \n",
    "    # 완주자들을 빼가면 될 듯\n",
    "    for i in completion:\n",
    "        if hash[i] == 1: # 동명이인이 아닌 참가자 중 완주했다면..\n",
    "            del hash[i]\n",
    "        else:\n",
    "            hash[i] -= 1 # 동명이인 중 완주한 사람이 있다면...\n",
    "            \n",
    "    answer = str(list(hash.keys())[0])\n",
    "    print(answer)\n",
    "    return answer\n",
    "\n",
    "solution([\"leo\", \"kiki\", \"eden\"], [\"eden\", \"kiki\"])\n",
    "solution([\"marina\", \"josipa\", \"nikola\", \"vinko\", \"filipa\"], \n",
    "         [\"josipa\", \"filipa\", \"marina\", \"nikola\"])\n",
    "solution([\"mislav\", \"stanko\", \"mislav\", \"ana\"],\n",
    "         [\"stanko\", \"ana\", \"mislav\"])"
   ]
  },
  {
   "cell_type": "code",
   "execution_count": 50,
   "id": "203bb7f0",
   "metadata": {},
   "outputs": [
    {
     "data": {
      "text/plain": [
       "'mislav'"
      ]
     },
     "execution_count": 50,
     "metadata": {},
     "output_type": "execute_result"
    }
   ],
   "source": [
    "def solution(participant, completion):\n",
    "    answer = ''\n",
    "    \n",
    "    for i in completion:\n",
    "        participant.remove(i) # remove가 속도가 느린듯\n",
    "    # print(participant)\n",
    "    answer = participant[0]\n",
    "    \n",
    "    return answer\n",
    "solution([\"leo\", \"kiki\", \"eden\"], [\"eden\", \"kiki\"])\n",
    "solution([\"marina\", \"josipa\", \"nikola\", \"vinko\", \"filipa\"], \n",
    "         [\"josipa\", \"filipa\", \"marina\", \"nikola\"])\n",
    "solution([\"mislav\", \"stanko\", \"mislav\", \"ana\"],\n",
    "         [\"stanko\", \"ana\", \"mislav\"])"
   ]
  },
  {
   "cell_type": "code",
   "execution_count": 71,
   "id": "b43879db",
   "metadata": {},
   "outputs": [
    {
     "name": "stdout",
     "output_type": "stream",
     "text": [
      "deque(['c', 'o', 'd', 'i', 'n', 'g'])\n",
      "deque(['c', 'o', 'd', 'i', 'n', 'g', 'a'])\n",
      "deque(['c', 'o', 'd', 'i', 'n', 'g'])\n",
      "deque(['c', 'o', 'd', 'i', 'n', 'g', 'a'])\n",
      "deque(['o', 'd', 'i', 'n', 'g', 'a'])\n"
     ]
    }
   ],
   "source": [
    "from collections import deque\n",
    "dq = deque(\"coding\")\n",
    "print(dq)\n",
    "## dq를 stack 처럼 사용하려면... -> DFS\n",
    "dq.append(\"a\")\n",
    "print(dq)\n",
    "dq.pop()\n",
    "print(dq)\n",
    "\n",
    "## dq를 queue처럼 사용하려면....\n",
    "dq.append(\"a\")\n",
    "print(dq)\n",
    "dq.popleft()\n",
    "print(dq)"
   ]
  },
  {
   "cell_type": "code",
   "execution_count": 72,
   "id": "d884d4b0",
   "metadata": {},
   "outputs": [
    {
     "name": "stdout",
     "output_type": "stream",
     "text": [
      "List Time stack:  0.6100945472717285\n",
      "Deque Time stack:  0.588158130645752\n",
      "List Time queue:  3.6088600158691406\n",
      "Deque Time queue:  0.5615439414978027\n"
     ]
    }
   ],
   "source": [
    "from collections import deque\n",
    "import time\n",
    "\n",
    "N = 5000 # 초기에 담아둘 원소의 수\n",
    "TIMES = 1000 # 실험 횟수\n",
    "M = 5000 # M번의 pop을 수행, append 수행...\n",
    "\n",
    "# py_list, deque에 N개의 원소를 넣어두기...\n",
    "list_stack = list([i for i in range(0,N)])\n",
    "deque_stack = deque([i for i in range(0,N)])\n",
    "\n",
    "# list as stack\n",
    "start_time = time.time()\n",
    "for _ in range(0, TIMES):\n",
    "    for i in range(0, M):\n",
    "        list_stack.append(i)\n",
    "        list_stack.pop()\n",
    "end_time = time.time()\n",
    "print(\"List Time stack: \", end_time - start_time)\n",
    "\n",
    "start_time = time.time()\n",
    "# deque as stack\n",
    "for _ in range(0, TIMES):\n",
    "    for i in range(0, M):\n",
    "        deque_stack.append(i)\n",
    "        deque_stack.pop()\n",
    "end_time = time.time()\n",
    "print(\"Deque Time stack: \", end_time - start_time)\n",
    "\n",
    "# list as queue\n",
    "start_time = time.time()\n",
    "for _ in range(0, TIMES):\n",
    "    for i in range(0, M):\n",
    "        list_stack.append(i)\n",
    "        list_stack.pop(0)\n",
    "end_time = time.time()\n",
    "print(\"List Time queue: \", end_time - start_time)\n",
    "\n",
    "start_time = time.time()\n",
    "# deque as queue\n",
    "for _ in range(0, TIMES):\n",
    "    for i in range(0, M):\n",
    "        deque_stack.append(i)\n",
    "        deque_stack.popleft()\n",
    "end_time = time.time()\n",
    "print(\"Deque Time queue: \", end_time - start_time)"
   ]
  },
  {
   "cell_type": "code",
   "execution_count": 74,
   "id": "ea92bb16",
   "metadata": {},
   "outputs": [
    {
     "data": {
      "text/plain": [
       "{'1': ['2', '3', '8'],\n",
       " '2': ['1', '7'],\n",
       " '3': ['1', '4', '5'],\n",
       " '4': ['3', '5'],\n",
       " '5': ['3', '4'],\n",
       " '6': ['7'],\n",
       " '7': ['2', '6', '8'],\n",
       " '8': ['1', '7']}"
      ]
     },
     "execution_count": 74,
     "metadata": {},
     "output_type": "execute_result"
    }
   ],
   "source": [
    "# 위의 주어진 예제에 대해서 그래프의 연결리스트를 아래와 같이 dict로 구현\n",
    "graph = {\n",
    "    \"1\" : [\"2\",\"3\",\"8\"],\n",
    "    \"2\" : [\"1\",\"7\"],\n",
    "    \"3\" : [\"1\",\"4\",\"5\"],\n",
    "    \"4\" : [\"3\",\"5\"],\n",
    "    \"5\" : [\"3\",\"4\"],\n",
    "    \"6\" : [\"7\"],\n",
    "    \"7\" : [\"2\",\"6\",\"8\"],\n",
    "    \"8\" : [\"1\",\"7\"]\n",
    "}\n",
    "graph"
   ]
  },
  {
   "cell_type": "code",
   "execution_count": 76,
   "id": "f49ab90c",
   "metadata": {},
   "outputs": [
    {
     "data": {
      "text/plain": [
       "deque(['1', '8', '7', '6', '2', '3', '5', '4'])"
      ]
     },
     "execution_count": 76,
     "metadata": {},
     "output_type": "execute_result"
    }
   ],
   "source": [
    "# deque를 이용해서 DFS를 구현해보자~\n",
    "from collections import deque\n",
    "\n",
    "def dfs_deque(graph, start_node):\n",
    "    # 사전 필요한 변수들\n",
    "    need_visit = deque() ########## deque 타입으로 설정.\n",
    "    visited = deque()\n",
    "    \n",
    "    # 출발은 어디서 부터~~~\n",
    "    need_visit.append(start_node)\n",
    "    \n",
    "    # 언제까지...need_visit가 없을때 까지....\n",
    "    while need_visit:\n",
    "        node = need_visit.pop()\n",
    "        if node not in visited: # 새로운 장소다 라는 경우에 대해서~~~\n",
    "            visited.append(node)\n",
    "            need_visit.extend(graph[node])\n",
    "    return visited\n",
    "\n",
    "dfs_deque(graph, \"1\")"
   ]
  },
  {
   "cell_type": "code",
   "execution_count": 78,
   "id": "27e90a5f",
   "metadata": {},
   "outputs": [
    {
     "data": {
      "text/plain": [
       "['1', '2', '7', '6', '8', '3', '4', '5']"
      ]
     },
     "execution_count": 78,
     "metadata": {},
     "output_type": "execute_result"
    }
   ],
   "source": [
    "# graph_dict & DFS & 재귀함수\n",
    "def dfs_recursive_dict(graph, start, visited = []):\n",
    "    # 일단 시작 노드에 대해서 visited 추가\n",
    "    visited.append(start)\n",
    "    for node in graph[start]:\n",
    "        if node not in visited:\n",
    "            dfs_recursive_dict(graph, node, visited)\n",
    "        else:\n",
    "            pass\n",
    "    return visited\n",
    "\n",
    "dfs_recursive_dict(graph, \"1\")"
   ]
  },
  {
   "cell_type": "code",
   "execution_count": 79,
   "id": "7e5093fa",
   "metadata": {},
   "outputs": [
    {
     "data": {
      "text/plain": [
       "[[], [2, 3, 8], [1, 7], [1, 4, 5], [3, 5], [3, 4], [7], [2, 6, 8], [1, 7]]"
      ]
     },
     "execution_count": 79,
     "metadata": {},
     "output_type": "execute_result"
    }
   ],
   "source": [
    "### 주어진 그래프를 인접리스트를 dict가 아닌 리스트로 표현을 하고 할 때...\n",
    "graph_list = [\n",
    "    [], # 그래프 상에 0번 노드가 없어서 임!!!!\n",
    "    [2, 3, 8],  # 1번 노드에 대한 연결 노드들에 대한 리스트\n",
    "    [1, 7], # 2번 노드에 대한 연결 노드들에 대한 리스트\n",
    "    [1, 4, 5], # 3번 노드에 대한 연결 노드들에 대한 리스트\n",
    "    [3, 5], # 4번 노드에 대한 연결 노드들에 대한 리스트\n",
    "    [3, 4], # 5번 노드에 대한 연결 노드들에 대한 리스트\n",
    "    [7], # 6번 노드에 대한 연결 노드들에 대한 리스트\n",
    "    [2, 6, 8], # 7번 노드에 대한 연결 노드들에 대한 리스트\n",
    "    [1, 7], # 8번 노드에 대한 연결 노드들에 대한 리스트\n",
    "]\n",
    "graph_list"
   ]
  },
  {
   "cell_type": "code",
   "execution_count": 82,
   "id": "82ceb9e0",
   "metadata": {},
   "outputs": [
    {
     "data": {
      "text/plain": [
       "[False, False, False, False, False, False, False, False, False]"
      ]
     },
     "execution_count": 82,
     "metadata": {},
     "output_type": "execute_result"
    }
   ],
   "source": [
    "# 각 노드에 대한 방문여부에 대한 F로 초기화\n",
    "visited = [False] * len(graph_list)\n",
    "visited"
   ]
  },
  {
   "cell_type": "code",
   "execution_count": 83,
   "id": "920d52f5",
   "metadata": {},
   "outputs": [
    {
     "name": "stdout",
     "output_type": "stream",
     "text": [
      "1 2 7 6 8 3 4 5 "
     ]
    }
   ],
   "source": [
    "def dfs_list(graph, start, visited): # start = 1\n",
    "    # 나 start 노드에 방문했다고 인증\n",
    "    visited[start] = True\n",
    "    print(start, end = \" \")\n",
    "    for node in graph[start]: # [2, 3, 8] -> 2, 3, 8\n",
    "        if not visited[node]:\n",
    "            visited[node] = True\n",
    "            dfs_list(graph, node, visited)\n",
    "            \n",
    "dfs_list(graph_list,1,visited)"
   ]
  },
  {
   "cell_type": "code",
   "execution_count": 90,
   "id": "e6b674d7",
   "metadata": {},
   "outputs": [
    {
     "data": {
      "text/plain": [
       "{'1': ['2', '3', '8'],\n",
       " '2': ['1', '7'],\n",
       " '3': ['1', '4', '5'],\n",
       " '4': ['3', '5'],\n",
       " '5': ['3', '4'],\n",
       " '6': ['7'],\n",
       " '7': ['2', '6', '8'],\n",
       " '8': ['1', '7']}"
      ]
     },
     "execution_count": 90,
     "metadata": {},
     "output_type": "execute_result"
    }
   ],
   "source": [
    "graph"
   ]
  },
  {
   "cell_type": "code",
   "execution_count": 86,
   "id": "b7e28145",
   "metadata": {},
   "outputs": [],
   "source": [
    "def bfs_list(graph, start_node):\n",
    "    # 필요한 것....\n",
    "    need_visit_q = list()\n",
    "    visited = list()\n",
    "    # 이제 출발을 하자 -> start_node\n",
    "    need_visit_q.append(start_node)\n",
    "    while need_visit_q:\n",
    "        node = need_visit_q.pop(0) # 맨 앞에서 뽑아냄~~~~\n",
    "        if node not in visited:\n",
    "            visited.append(node)\n",
    "            need_visit_q.extend(graph[node])\n",
    "        else:\n",
    "            pass\n",
    "    \n",
    "    return visited"
   ]
  },
  {
   "cell_type": "code",
   "execution_count": 96,
   "id": "ef404ec5",
   "metadata": {},
   "outputs": [],
   "source": [
    "from collections import deque\n",
    "\n",
    "def bfs_deque(graph, start_node):\n",
    "    # 필요한 것....\n",
    "    need_visit_q = deque()\n",
    "    visited = deque()\n",
    "    # 이제 출발을 하자 -> start_node\n",
    "    need_visit_q.append(start_node)\n",
    "    while need_visit_q:\n",
    "        node = need_visit_q.popleft() # 맨 앞에서 뽑아냄~~~~\n",
    "        if node not in visited:\n",
    "            visited.append(node)\n",
    "            need_visit_q.extend(graph[node])\n",
    "        else:\n",
    "            pass\n",
    "    \n",
    "    return visited"
   ]
  },
  {
   "cell_type": "code",
   "execution_count": 98,
   "id": "e4b53645",
   "metadata": {},
   "outputs": [
    {
     "data": {
      "text/plain": [
       "deque([1, 2, 3, 8, 7, 4, 5, 6])"
      ]
     },
     "execution_count": 98,
     "metadata": {},
     "output_type": "execute_result"
    }
   ],
   "source": [
    "bfs_deque(graph_list,1)"
   ]
  },
  {
   "cell_type": "code",
   "execution_count": 95,
   "id": "114ac50d",
   "metadata": {},
   "outputs": [
    {
     "name": "stdout",
     "output_type": "stream",
     "text": [
      "{'1': ['2', '3', '8'], '2': ['1', '7'], '3': ['1', '4', '5'], '4': ['3', '5'], '5': ['3', '4'], '6': ['7'], '7': ['2', '6', '8'], '8': ['1', '7']}\n",
      "[[], [2, 3, 8], [1, 7], [1, 4, 5], [3, 5], [3, 4], [7], [2, 6, 8], [1, 7]]\n"
     ]
    }
   ],
   "source": [
    "print(graph)\n",
    "print(graph_list)"
   ]
  },
  {
   "cell_type": "code",
   "execution_count": 111,
   "id": "0d3869a6",
   "metadata": {},
   "outputs": [
    {
     "name": "stdout",
     "output_type": "stream",
     "text": [
      "2 25\n",
      "1011101110111011101110111\n",
      "1110111011101110111011101\n",
      "2 25\n",
      "[[1, 0, 1, 1, 1, 0, 1, 1, 1, 0, 1, 1, 1, 0, 1, 1, 1, 0, 1, 1, 1, 0, 1, 1, 1], [1, 1, 1, 0, 1, 1, 1, 0, 1, 1, 1, 0, 1, 1, 1, 0, 1, 1, 1, 0, 1, 1, 1, 0, 1]]\n",
      "[[0, 0, 0, 0, 0, 0, 0, 0, 0, 0, 0, 0, 0, 0, 0, 0, 0, 0, 0, 0, 0, 0, 0, 0, 0], [0, 0, 0, 0, 0, 0, 0, 0, 0, 0, 0, 0, 0, 0, 0, 0, 0, 0, 0, 0, 0, 0, 0, 0, 0]]\n"
     ]
    }
   ],
   "source": [
    "N, M = map(int, input().split())\n",
    "graph = []\n",
    "for _ in range(N):\n",
    "    graph.append(list(map(int, input())))\n",
    "    \n",
    "print(N, M)\n",
    "print(graph)\n",
    "visited = []\n",
    "for i in range(N):\n",
    "    visited.append([])\n",
    "    for j in range(M):\n",
    "        visited[i].append(0)\n",
    "print(visited)\n",
    "\n",
    "def miro(s_l, x, y, count, visited):\n",
    "    print(x, y, s_l[x][y])\n",
    "    visited[x][y] = 1\n",
    "    if s_l[x+1][y] == 1:\n",
    "        count += 1\n",
    "        miro(s_l,x+1,y, count)\n",
    "    if s_l[x][y-1] == 1:\n",
    "        count += 1\n",
    "        miro(s_l,x,y-1, count)\n",
    "    if s_l[x][y+1] == 1:\n",
    "        count += 1\n",
    "        miro(s_l,x,y+1, count)\n",
    "    if s_l[x-1][y] == 1:\n",
    "        count += 1\n",
    "        miro(s_l,x-1,y, count)\n",
    "    \n",
    "    \n",
    "# [입력 예시1]\n",
    "# 4 6\n",
    "# 101111\n",
    "# 101010\n",
    "# 101011\n",
    "# 111011\n",
    "# → 15\n",
    "\n",
    "# [입력 예시2]\n",
    "# 4 6\n",
    "# 110110\n",
    "# 110110\n",
    "# 111111\n",
    "# 111101\n",
    "# → 9\n",
    "\n",
    "# [입력예시3]\n",
    "# 2 25\n",
    "# 1011101110111011101110111\n",
    "# 1110111011101110111011101\n",
    "# → 38"
   ]
  },
  {
   "cell_type": "code",
   "execution_count": 116,
   "id": "f4a0a0c1",
   "metadata": {},
   "outputs": [
    {
     "name": "stdout",
     "output_type": "stream",
     "text": [
      "가로, 세로 크기를 공란으로 구분해서 입력하세요.2 25\n",
      "처음 임력한 n by m에 대한0번째 가로줄 값을 입력하세요1011101110111011101110111\n",
      "처음 임력한 n by m에 대한1번째 가로줄 값을 입력하세요1110111011101110111011101\n",
      "[[1, 0, 1, 1, 1, 0, 1, 1, 1, 0, 1, 1, 1, 0, 1, 1, 1, 0, 1, 1, 1, 0, 1, 1, 1], [1, 1, 1, 0, 1, 1, 1, 0, 1, 1, 1, 0, 1, 1, 1, 0, 1, 1, 1, 0, 1, 1, 1, 0, 1]]\n",
      "[[3, 0, 5, 6, 7, 0, 11, 12, 13, 0, 17, 18, 19, 0, 23, 24, 25, 0, 29, 30, 31, 0, 35, 36, 37], [2, 3, 4, 0, 8, 9, 10, 0, 14, 15, 16, 0, 20, 21, 22, 0, 26, 27, 28, 0, 32, 33, 34, 0, 38]]\n",
      "38\n"
     ]
    }
   ],
   "source": [
    "#미로 (1,1) ~ (n,m) 까지\n",
    "n, m = map(int, input(\"가로, 세로 크기를 공란으로 구분해서 입력하세요.\").split())\n",
    "graph = []\n",
    "for i in range(n):\n",
    "    graph.append(\n",
    "        list(map(int, input(\"처음 임력한 n by m에 대한{0}번째 가로줄 값을 입력하세요\".format(i))))\n",
    "    )\n",
    "print(graph)\n",
    "\n",
    "# 상하좌우 이동에 대해서 표시\n",
    "dx = [-1, 1, 0, 0]\n",
    "dy = [0, 0, -1, 1]\n",
    "\n",
    "# queue에 대해서 구현을 좀 더 효율적으로 하기 위해서 deque 패키지\n",
    "from collections import deque\n",
    "\n",
    "# 이제 bfs 방식으로 구현... -> 큐 --> 내 지금 위치에서 연결된 것들을 하는데..\n",
    "# 큐 방식을 사용을 해야.. 지금 바로 나한테 연결된 것 다 하고, 그 다음 뎁스로..\n",
    "def bfs_miro(start):\n",
    "    # 2차원에서 움직이게 되니..\n",
    "    x_pos = start[0]\n",
    "    y_pos = start[1]\n",
    "    \n",
    "    # 이동을 해야하는 것들을 담을 큐\n",
    "    q = deque()\n",
    "    q.append((x_pos, y_pos)) # ex) q: (0, 0)\n",
    "    # q가 빌때까지.... \n",
    "    while q:\n",
    "        x, y = q.popleft()   # ex) x = 0, y = 0\n",
    "        \n",
    "        # x, y에서 이동할 수 있는 LRUD\n",
    "        for i in range(4):\n",
    "            nx = x + dx[i]\n",
    "            ny = y + dy[i]\n",
    "            # x, y에서 일단 1가지 방향으로 이동한다고 하면..\n",
    "            # 주어진 맵 안에 있는 경우에 대해서만....\n",
    "            if 0 <= nx < n and 0 <= ny < m:\n",
    "                if graph[nx][ny] == 1:\n",
    "                    graph[nx][ny]= graph[x][y] + 1\n",
    "                    q.append((nx, ny))\n",
    "        \n",
    "bfs_miro((0,0))\n",
    "print(graph)\n",
    "print(graph[n-1][m-1]) # 출구에 도달할 때 까지 거친 블록 수...."
   ]
  },
  {
   "cell_type": "code",
   "execution_count": 113,
   "id": "79aa2169",
   "metadata": {},
   "outputs": [],
   "source": [
    "# [입력 예시1]\n",
    "# 4 6\n",
    "# 101111\n",
    "# 101010\n",
    "# 101011\n",
    "# 111011\n",
    "# → 15\n",
    "\n",
    "# [입력 예시2]\n",
    "# 4 6\n",
    "# 110110\n",
    "# 110110\n",
    "# 111111\n",
    "# 111101\n",
    "# → 9\n",
    "\n",
    "# [입력예시3]\n",
    "# 2 25\n",
    "# 1011101110111011101110111\n",
    "# 1110111011101110111011101\n",
    "# → 38"
   ]
  },
  {
   "cell_type": "code",
   "execution_count": 1,
   "id": "0eebd580",
   "metadata": {},
   "outputs": [],
   "source": [
    "##### 특별 메소드 #### -> 언더바 앞뒤로 2개씩\n",
    "# 생성자 : 클래스를 바탕으로 새로운 구체적인 대상(객체) 생성될 때.\n",
    "# init -> 초기화의 용도로 사용( 속성값들을 지정을 하게 되는 현상!!!!!)\n",
    "\n",
    "# 소멸자 : 클래스를 바탕으로 대상으로 대상을 만들었는데(객체를 만들었는데..)\n",
    "# 필요가 없어서.... 사라질 때..."
   ]
  },
  {
   "cell_type": "code",
   "execution_count": 25,
   "id": "28c2b10c",
   "metadata": {},
   "outputs": [],
   "source": [
    "class Test:\n",
    "    def __init__(self, name):\n",
    "        self.fullname = name\n",
    "        print(\"Test 클래스가 생성되었음!\")\n",
    "    ### 기타 메서드들은 생략\n",
    "    def __del__(self):\n",
    "        print(\"Test 클래스가 제거되었음!!!\")"
   ]
  },
  {
   "cell_type": "code",
   "execution_count": 26,
   "id": "b80d04a0",
   "metadata": {},
   "outputs": [
    {
     "name": "stdout",
     "output_type": "stream",
     "text": [
      "Test 클래스가 생성되었음!\n"
     ]
    }
   ],
   "source": [
    "t = Test(\"ABCD\")\n"
   ]
  },
  {
   "cell_type": "code",
   "execution_count": 27,
   "id": "47bf1e37",
   "metadata": {},
   "outputs": [
    {
     "data": {
      "text/plain": [
       "'ABCD'"
      ]
     },
     "execution_count": 27,
     "metadata": {},
     "output_type": "execute_result"
    }
   ],
   "source": [
    "t.fullname"
   ]
  },
  {
   "cell_type": "code",
   "execution_count": 24,
   "id": "98e98629",
   "metadata": {},
   "outputs": [
    {
     "name": "stdout",
     "output_type": "stream",
     "text": [
      "Test 클래스가 제거되었음!!!\n"
     ]
    }
   ],
   "source": [
    "del t"
   ]
  },
  {
   "cell_type": "code",
   "execution_count": 28,
   "id": "b899b5c0",
   "metadata": {},
   "outputs": [
    {
     "data": {
      "text/plain": [
       "<__main__.Test at 0x270d0764700>"
      ]
     },
     "execution_count": 28,
     "metadata": {},
     "output_type": "execute_result"
    }
   ],
   "source": [
    "t"
   ]
  },
  {
   "cell_type": "code",
   "execution_count": 32,
   "id": "1d6baee6",
   "metadata": {},
   "outputs": [
    {
     "name": "stdout",
     "output_type": "stream",
     "text": [
      "<class '__main__.Test'>\n"
     ]
    }
   ],
   "source": [
    "print(str(type(t)))"
   ]
  },
  {
   "cell_type": "code",
   "execution_count": 30,
   "id": "183bcdf5",
   "metadata": {},
   "outputs": [
    {
     "data": {
      "text/plain": [
       "True"
      ]
     },
     "execution_count": 30,
     "metadata": {},
     "output_type": "execute_result"
    }
   ],
   "source": [
    "isinstance(t, Test) "
   ]
  },
  {
   "cell_type": "code",
   "execution_count": 38,
   "id": "d451b885",
   "metadata": {},
   "outputs": [],
   "source": [
    "class Studentt:\n",
    "    def study(self):\n",
    "        print(\"공부하자~~\")\n",
    "        \n",
    "class Teacher:\n",
    "    def teach(self):\n",
    "        print(\"공부해라~~\")\n",
    "        \n",
    "        "
   ]
  },
  {
   "cell_type": "code",
   "execution_count": 39,
   "id": "1220bb3f",
   "metadata": {},
   "outputs": [],
   "source": [
    "classroom = [ Studentt(), Studentt(), Teacher(),\n",
    "            Studentt(), Studentt()]"
   ]
  },
  {
   "cell_type": "code",
   "execution_count": 40,
   "id": "34fdb210",
   "metadata": {},
   "outputs": [
    {
     "data": {
      "text/plain": [
       "[<__main__.Studentt at 0x270d0764970>,\n",
       " <__main__.Studentt at 0x270d0764610>,\n",
       " <__main__.Teacher at 0x270d07645b0>,\n",
       " <__main__.Studentt at 0x270d0764d60>,\n",
       " <__main__.Studentt at 0x270d1560e50>]"
      ]
     },
     "execution_count": 40,
     "metadata": {},
     "output_type": "execute_result"
    }
   ],
   "source": [
    "classroom"
   ]
  },
  {
   "cell_type": "code",
   "execution_count": 41,
   "id": "77df05f6",
   "metadata": {},
   "outputs": [
    {
     "name": "stdout",
     "output_type": "stream",
     "text": [
      "공부하자~~\n",
      "공부하자~~\n",
      "공부해라~~\n",
      "공부하자~~\n",
      "공부하자~~\n"
     ]
    }
   ],
   "source": [
    "for person in classroom: # person은 구체적인 대상들\n",
    "    if isinstance(person, Studentt):\n",
    "        person.study()\n",
    "    elif isinstance(person, Teacher):\n",
    "        person.teach()"
   ]
  },
  {
   "cell_type": "code",
   "execution_count": 37,
   "id": "490a8662",
   "metadata": {},
   "outputs": [],
   "source": [
    "del studentt"
   ]
  },
  {
   "cell_type": "code",
   "execution_count": 42,
   "id": "48d4a4e8",
   "metadata": {},
   "outputs": [],
   "source": [
    "#클래스의 변수 사용"
   ]
  },
  {
   "cell_type": "code",
   "execution_count": 43,
   "id": "7eebb0c3",
   "metadata": {},
   "outputs": [],
   "source": [
    "class Student:\n",
    "    #######\n",
    "    count = 0 # Student 클래스로 생성된 애들이 몇명인지.\n",
    "    #######\n",
    "    def __init__(self,name,korean,math,english,science):\n",
    "        self.name = name\n",
    "        self.korean = korean\n",
    "        self.math = math\n",
    "        self.english = english\n",
    "        self.science = science\n",
    "        #######\n",
    "        Student.count += 1\n",
    "        print(\"{}번째 학생 생성됨\".format(Student.count))\n",
    "        #######\n",
    "    ## student 클래스에서 필요한 기능들을 만들자 : 메소드\n",
    "    def get_sum(self):\n",
    "        score_sum = self.korean + self.math + self.english + self.science\n",
    "        return score_sum\n",
    "    def get_avg(self):\n",
    "        score_avg = self.get_sum() / 4\n",
    "        return score_avg\n",
    "    def to_string(self):\n",
    "        temp = \"{0}\\t{1}\\t{2}\".format(self.name\n",
    "                                  ,self.get_sum()\n",
    "                                  ,self.get_avg())\n",
    "        return temp\n",
    "    ## 특별 메소드\n",
    "    def __str__(self):\n",
    "        temp = \"{0}\\t{1}\\t{2}\".format(self.name\n",
    "                                  ,self.get_sum()\n",
    "                                  ,self.get_avg())\n",
    "        return temp\n",
    "    ### 비교 관련 특별 메소드\n",
    "    # == : eq, != :ne, > : gt, >= : ge, < : lt, <= le\n",
    "    def __eq__(self, value):\n",
    "        return self.get_sum() == value.get_sum()\n",
    "    def __ne__(self, value):\n",
    "        return self.get_sum() != value.get_sum()\n",
    "    def __gt__(self, value):\n",
    "        return self.get_sum() > value.get_sum()\n",
    "    def __ge__(self, value):\n",
    "        return self.get_sum() >= value.get_sum()\n",
    "    def __lt__(self, value):\n",
    "        return self.get_sum() < value.get_sum()\n",
    "    def __le__(self, value):\n",
    "        return self.get_sum() <= value.get_sum()"
   ]
  },
  {
   "cell_type": "code",
   "execution_count": 44,
   "id": "aa680fdd",
   "metadata": {},
   "outputs": [
    {
     "name": "stdout",
     "output_type": "stream",
     "text": [
      "1번째 학생 생성됨\n",
      "2번째 학생 생성됨\n",
      "3번째 학생 생성됨\n",
      "4번째 학생 생성됨\n",
      "5번째 학생 생성됨\n",
      "6번째 학생 생성됨\n",
      "7번째 학생 생성됨\n",
      "8번째 학생 생성됨\n"
     ]
    }
   ],
   "source": [
    "students = [\n",
    "    Student('AAA',98,93,79,95),\n",
    "    Student('BBB',78,87,87,91),\n",
    "    Student('CCC',87,88,83,93),\n",
    "    Student('DDD',79,92,99,88),\n",
    "    Student('EEE',92,98,94,83),\n",
    "    Student('FFF',94,99,98,77),\n",
    "    Student('GGG',84,96,99,79),\n",
    "    Student('HHH',87,78,88,95)\n",
    "]"
   ]
  },
  {
   "cell_type": "code",
   "execution_count": 45,
   "id": "3bc53e83",
   "metadata": {},
   "outputs": [
    {
     "name": "stdout",
     "output_type": "stream",
     "text": [
      "8\n"
     ]
    }
   ],
   "source": [
    "print(Student.count)"
   ]
  },
  {
   "cell_type": "code",
   "execution_count": 60,
   "id": "f176293d",
   "metadata": {},
   "outputs": [],
   "source": [
    "# (클래스 속성값)에 대해서 접근하는 방법에 대해서...\n",
    "# ---> 클래스의 속성값은 보통 생성할 때...\n",
    "# ---> 외부에서 뭔가 바꾸고 싶을 때....\n",
    "import math\n",
    "\n",
    "class Square:\n",
    "    def __init__(self, size):\n",
    "        ## 속성변수에 이름 앞에 언더바 2개로 지정...\n",
    "        self.__size = size # self.size = size\n",
    "    def get_total_length(self):\n",
    "        return self.__size * 4\n",
    "    def get_area(self):\n",
    "        return self.__size * self.__size\n",
    "    # 속성 변수에 직접적으로 접근을 못 할 때\n",
    "    # 우회경로를 만들어 주고, 그것을 통해서만 하도록 할 때.\n",
    "    ############## 내가 만든 방법에 의해서 변경해라~~~\n",
    "    # 속성변수의 값을 출력하는 용도의 메서드...\n",
    "    def get_size(self):\n",
    "        return self.__size\n",
    "    # 속성변수의 값을 변경하는 용도의 메서드...\n",
    "    def set_size(self, value):\n",
    "        self.__size = value\n",
    "    "
   ]
  },
  {
   "cell_type": "code",
   "execution_count": 61,
   "id": "3b29ff2a",
   "metadata": {},
   "outputs": [],
   "source": [
    "sq1 = Square(10)"
   ]
  },
  {
   "cell_type": "code",
   "execution_count": 54,
   "id": "86f62e13",
   "metadata": {},
   "outputs": [
    {
     "data": {
      "text/plain": [
       "40"
      ]
     },
     "execution_count": 54,
     "metadata": {},
     "output_type": "execute_result"
    }
   ],
   "source": [
    "sq1.get_total_length()"
   ]
  },
  {
   "cell_type": "code",
   "execution_count": 55,
   "id": "726df298",
   "metadata": {},
   "outputs": [
    {
     "data": {
      "text/plain": [
       "100"
      ]
     },
     "execution_count": 55,
     "metadata": {},
     "output_type": "execute_result"
    }
   ],
   "source": [
    "sq1.get_area()"
   ]
  },
  {
   "cell_type": "code",
   "execution_count": 57,
   "id": "61816270",
   "metadata": {},
   "outputs": [],
   "source": [
    "sq1.__size = 1000"
   ]
  },
  {
   "cell_type": "code",
   "execution_count": 56,
   "id": "85fca862",
   "metadata": {},
   "outputs": [
    {
     "ename": "AttributeError",
     "evalue": "'Square' object has no attribute '__size'",
     "output_type": "error",
     "traceback": [
      "\u001b[1;31m---------------------------------------------------------------------------\u001b[0m",
      "\u001b[1;31mAttributeError\u001b[0m                            Traceback (most recent call last)",
      "\u001b[1;32m<ipython-input-56-a1e9b313918e>\u001b[0m in \u001b[0;36m<module>\u001b[1;34m\u001b[0m\n\u001b[1;32m----> 1\u001b[1;33m \u001b[0msq1\u001b[0m\u001b[1;33m.\u001b[0m\u001b[0m__size\u001b[0m\u001b[1;33m\u001b[0m\u001b[1;33m\u001b[0m\u001b[0m\n\u001b[0m",
      "\u001b[1;31mAttributeError\u001b[0m: 'Square' object has no attribute '__size'"
     ]
    }
   ],
   "source": [
    "sq1.__size"
   ]
  },
  {
   "cell_type": "code",
   "execution_count": 70,
   "id": "c4edcfe1",
   "metadata": {},
   "outputs": [],
   "source": [
    "sq2 = Square(20)"
   ]
  },
  {
   "cell_type": "code",
   "execution_count": 71,
   "id": "4d874ea9",
   "metadata": {},
   "outputs": [
    {
     "data": {
      "text/plain": [
       "80"
      ]
     },
     "execution_count": 71,
     "metadata": {},
     "output_type": "execute_result"
    }
   ],
   "source": [
    "sq2.get_total_length()"
   ]
  },
  {
   "cell_type": "code",
   "execution_count": 72,
   "id": "e9a1b4e5",
   "metadata": {},
   "outputs": [
    {
     "data": {
      "text/plain": [
       "400"
      ]
     },
     "execution_count": 72,
     "metadata": {},
     "output_type": "execute_result"
    }
   ],
   "source": [
    "sq2.get_area()"
   ]
  },
  {
   "cell_type": "code",
   "execution_count": 74,
   "id": "b48bebf5",
   "metadata": {
    "scrolled": true
   },
   "outputs": [
    {
     "ename": "AttributeError",
     "evalue": "'Square' object has no attribute '__size'",
     "output_type": "error",
     "traceback": [
      "\u001b[1;31m---------------------------------------------------------------------------\u001b[0m",
      "\u001b[1;31mAttributeError\u001b[0m                            Traceback (most recent call last)",
      "\u001b[1;32m<ipython-input-74-fc39f04ecb23>\u001b[0m in \u001b[0;36m<module>\u001b[1;34m\u001b[0m\n\u001b[1;32m----> 1\u001b[1;33m \u001b[0msq2\u001b[0m\u001b[1;33m.\u001b[0m\u001b[0m__size\u001b[0m\u001b[1;33m\u001b[0m\u001b[1;33m\u001b[0m\u001b[0m\n\u001b[0m",
      "\u001b[1;31mAttributeError\u001b[0m: 'Square' object has no attribute '__size'"
     ]
    }
   ],
   "source": [
    "sq2.__size"
   ]
  },
  {
   "cell_type": "code",
   "execution_count": 75,
   "id": "7342e84d",
   "metadata": {},
   "outputs": [
    {
     "data": {
      "text/plain": [
       "20"
      ]
     },
     "execution_count": 75,
     "metadata": {},
     "output_type": "execute_result"
    }
   ],
   "source": [
    "sq2.get_size()"
   ]
  },
  {
   "cell_type": "code",
   "execution_count": 77,
   "id": "543c9029",
   "metadata": {},
   "outputs": [],
   "source": [
    "sq2.set_size(100)"
   ]
  },
  {
   "cell_type": "code",
   "execution_count": 78,
   "id": "b665e5dc",
   "metadata": {},
   "outputs": [
    {
     "data": {
      "text/plain": [
       "400"
      ]
     },
     "execution_count": 78,
     "metadata": {},
     "output_type": "execute_result"
    }
   ],
   "source": [
    "sq2.get_total_length()"
   ]
  },
  {
   "cell_type": "code",
   "execution_count": 79,
   "id": "ddbce6a8",
   "metadata": {},
   "outputs": [
    {
     "name": "stdout",
     "output_type": "stream",
     "text": [
      "2 시간 3 분입니다.\n"
     ]
    }
   ],
   "source": [
    "### try_except\n",
    "minutes_to_convert = 123\n",
    "\n",
    "hours_part = minutes_to_convert // 60\n",
    "minutes_part = minutes_to_convert % 60\n",
    "print(\"{0} 시간 {1} 분입니다.\".format(hours_part, minutes_part))\n"
   ]
  },
  {
   "cell_type": "code",
   "execution_count": 81,
   "id": "a58a1c67",
   "metadata": {},
   "outputs": [
    {
     "name": "stdout",
     "output_type": "stream",
     "text": [
      "분을 입력하세요.341s\n"
     ]
    },
    {
     "ename": "ValueError",
     "evalue": "invalid literal for int() with base 10: '341s'",
     "output_type": "error",
     "traceback": [
      "\u001b[1;31m---------------------------------------------------------------------------\u001b[0m",
      "\u001b[1;31mValueError\u001b[0m                                Traceback (most recent call last)",
      "\u001b[1;32m<ipython-input-81-72c9cd7065c3>\u001b[0m in \u001b[0;36m<module>\u001b[1;34m\u001b[0m\n\u001b[0;32m      1\u001b[0m \u001b[1;31m### 사용자의 입력에 따라서 처리하기에 input\u001b[0m\u001b[1;33m\u001b[0m\u001b[1;33m\u001b[0m\u001b[1;33m\u001b[0m\u001b[0m\n\u001b[1;32m----> 2\u001b[1;33m \u001b[0mminutes_to_convert\u001b[0m \u001b[1;33m=\u001b[0m \u001b[0mint\u001b[0m\u001b[1;33m(\u001b[0m\u001b[0minput\u001b[0m\u001b[1;33m(\u001b[0m\u001b[1;34m\"분을 입력하세요.\"\u001b[0m\u001b[1;33m)\u001b[0m\u001b[1;33m)\u001b[0m\u001b[1;33m\u001b[0m\u001b[1;33m\u001b[0m\u001b[0m\n\u001b[0m\u001b[0;32m      3\u001b[0m \u001b[1;33m\u001b[0m\u001b[0m\n\u001b[0;32m      4\u001b[0m \u001b[0mhours_part\u001b[0m \u001b[1;33m=\u001b[0m \u001b[0mminutes_to_convert\u001b[0m \u001b[1;33m//\u001b[0m \u001b[1;36m60\u001b[0m\u001b[1;33m\u001b[0m\u001b[1;33m\u001b[0m\u001b[0m\n\u001b[0;32m      5\u001b[0m \u001b[0mminutes_part\u001b[0m \u001b[1;33m=\u001b[0m \u001b[0mminutes_to_convert\u001b[0m \u001b[1;33m%\u001b[0m \u001b[1;36m60\u001b[0m\u001b[1;33m\u001b[0m\u001b[1;33m\u001b[0m\u001b[0m\n",
      "\u001b[1;31mValueError\u001b[0m: invalid literal for int() with base 10: '341s'"
     ]
    }
   ],
   "source": [
    "### 사용자의 입력에 따라서 처리하기에 input\n",
    "minutes_to_convert = int(input(\"분을 입력하세요.\"))\n",
    "\n",
    "hours_part = minutes_to_convert // 60\n",
    "minutes_part = minutes_to_convert % 60\n",
    "print(\"{0} 시간 {1} 분입니다.\".format(hours_part, minutes_part))\n"
   ]
  },
  {
   "cell_type": "code",
   "execution_count": 82,
   "id": "a40b4f44",
   "metadata": {},
   "outputs": [
    {
     "name": "stdout",
     "output_type": "stream",
     "text": [
      "시간과 분으로 변환활 분을 입력해주세요234s\n"
     ]
    },
    {
     "ename": "ValueError",
     "evalue": "invalid literal for int() with base 10: '234s'",
     "output_type": "error",
     "traceback": [
      "\u001b[1;31m---------------------------------------------------------------------------\u001b[0m",
      "\u001b[1;31mValueError\u001b[0m                                Traceback (most recent call last)",
      "\u001b[1;32m<ipython-input-82-35e3ba711540>\u001b[0m in \u001b[0;36m<module>\u001b[1;34m\u001b[0m\n\u001b[0;32m      1\u001b[0m \u001b[0mminutes_to_convert\u001b[0m \u001b[1;33m=\u001b[0m \u001b[0minput\u001b[0m\u001b[1;33m(\u001b[0m\u001b[1;34m\"시간과 분으로 변환활 분을 입력해주세요\"\u001b[0m\u001b[1;33m)\u001b[0m\u001b[1;33m\u001b[0m\u001b[1;33m\u001b[0m\u001b[0m\n\u001b[1;32m----> 2\u001b[1;33m \u001b[0mminutes_to_convert\u001b[0m \u001b[1;33m=\u001b[0m \u001b[0mint\u001b[0m\u001b[1;33m(\u001b[0m\u001b[0mminutes_to_convert\u001b[0m\u001b[1;33m)\u001b[0m\u001b[1;33m\u001b[0m\u001b[1;33m\u001b[0m\u001b[0m\n\u001b[0m\u001b[0;32m      3\u001b[0m \u001b[1;33m\u001b[0m\u001b[0m\n\u001b[0;32m      4\u001b[0m \u001b[1;32mif\u001b[0m \u001b[0mtype\u001b[0m\u001b[1;33m(\u001b[0m\u001b[0mminutes_to_convert\u001b[0m\u001b[1;33m)\u001b[0m \u001b[1;33m==\u001b[0m  \u001b[0mint\u001b[0m\u001b[1;33m:\u001b[0m\u001b[1;33m\u001b[0m\u001b[1;33m\u001b[0m\u001b[0m\n\u001b[0;32m      5\u001b[0m     \u001b[1;32mif\u001b[0m \u001b[0mminutes_to_convert\u001b[0m \u001b[1;33m>=\u001b[0m \u001b[1;36m0\u001b[0m\u001b[1;33m:\u001b[0m\u001b[1;33m\u001b[0m\u001b[1;33m\u001b[0m\u001b[0m\n",
      "\u001b[1;31mValueError\u001b[0m: invalid literal for int() with base 10: '234s'"
     ]
    }
   ],
   "source": [
    "minutes_to_convert = input(\"시간과 분으로 변환활 분을 입력해주세요\")\n",
    "minutes_to_convert = int(minutes_to_convert)\n",
    "\n",
    "if type(minutes_to_convert) ==  int:\n",
    "    if minutes_to_convert >= 0:\n",
    "        hours_part = minutes_to_convert // 60\n",
    "        minutes_part = minutes_to_convert % 60\n",
    "        print(hours_part)\n",
    "        print(\"시간\")\n",
    "        print(minutes_part)\n",
    "        print(\"분\")\n",
    "    else:\n",
    "        print(\"시간이 음의 정수입니다!!!!!다시!\")\n",
    "else:\n",
    "    print(\"입력이 음수이거나 정수가 아닙니다...\")\n"
   ]
  },
  {
   "cell_type": "code",
   "execution_count": 87,
   "id": "efa9ca54",
   "metadata": {},
   "outputs": [
    {
     "name": "stdout",
     "output_type": "stream",
     "text": [
      "10만원을 몇명이서 나눌까요?\n",
      "숫자를 입력하세요.0\n"
     ]
    },
    {
     "ename": "NameError",
     "evalue": "name 'Error' is not defined",
     "output_type": "error",
     "traceback": [
      "\u001b[1;31m---------------------------------------------------------------------------\u001b[0m",
      "\u001b[1;31mZeroDivisionError\u001b[0m                         Traceback (most recent call last)",
      "\u001b[1;32m<ipython-input-87-9cff32b96caa>\u001b[0m in \u001b[0;36m<module>\u001b[1;34m\u001b[0m\n\u001b[0;32m      3\u001b[0m     \u001b[0mnumber\u001b[0m \u001b[1;33m=\u001b[0m \u001b[0mint\u001b[0m\u001b[1;33m(\u001b[0m\u001b[0minput\u001b[0m\u001b[1;33m(\u001b[0m\u001b[1;34m'숫자를 입력하세요.'\u001b[0m\u001b[1;33m)\u001b[0m\u001b[1;33m)\u001b[0m\u001b[1;33m\u001b[0m\u001b[1;33m\u001b[0m\u001b[0m\n\u001b[1;32m----> 4\u001b[1;33m     \u001b[0mprint\u001b[0m\u001b[1;33m(\u001b[0m\u001b[1;34m'한 사람당 {}만원을 가집니다'\u001b[0m\u001b[1;33m.\u001b[0m\u001b[0mformat\u001b[0m\u001b[1;33m(\u001b[0m\u001b[1;36m10\u001b[0m\u001b[1;33m/\u001b[0m\u001b[0mnumber\u001b[0m\u001b[1;33m)\u001b[0m\u001b[1;33m)\u001b[0m\u001b[1;33m\u001b[0m\u001b[1;33m\u001b[0m\u001b[0m\n\u001b[0m\u001b[0;32m      5\u001b[0m \u001b[1;32mexcept\u001b[0m \u001b[0mError\u001b[0m\u001b[1;33m:\u001b[0m\u001b[1;33m\u001b[0m\u001b[1;33m\u001b[0m\u001b[0m\n",
      "\u001b[1;31mZeroDivisionError\u001b[0m: division by zero",
      "\nDuring handling of the above exception, another exception occurred:\n",
      "\u001b[1;31mNameError\u001b[0m                                 Traceback (most recent call last)",
      "\u001b[1;32m<ipython-input-87-9cff32b96caa>\u001b[0m in \u001b[0;36m<module>\u001b[1;34m\u001b[0m\n\u001b[0;32m      3\u001b[0m     \u001b[0mnumber\u001b[0m \u001b[1;33m=\u001b[0m \u001b[0mint\u001b[0m\u001b[1;33m(\u001b[0m\u001b[0minput\u001b[0m\u001b[1;33m(\u001b[0m\u001b[1;34m'숫자를 입력하세요.'\u001b[0m\u001b[1;33m)\u001b[0m\u001b[1;33m)\u001b[0m\u001b[1;33m\u001b[0m\u001b[1;33m\u001b[0m\u001b[0m\n\u001b[0;32m      4\u001b[0m     \u001b[0mprint\u001b[0m\u001b[1;33m(\u001b[0m\u001b[1;34m'한 사람당 {}만원을 가집니다'\u001b[0m\u001b[1;33m.\u001b[0m\u001b[0mformat\u001b[0m\u001b[1;33m(\u001b[0m\u001b[1;36m10\u001b[0m\u001b[1;33m/\u001b[0m\u001b[0mnumber\u001b[0m\u001b[1;33m)\u001b[0m\u001b[1;33m)\u001b[0m\u001b[1;33m\u001b[0m\u001b[1;33m\u001b[0m\u001b[0m\n\u001b[1;32m----> 5\u001b[1;33m \u001b[1;32mexcept\u001b[0m \u001b[0mError\u001b[0m\u001b[1;33m:\u001b[0m\u001b[1;33m\u001b[0m\u001b[1;33m\u001b[0m\u001b[0m\n\u001b[0m\u001b[0;32m      6\u001b[0m     \u001b[0mprint\u001b[0m\u001b[1;33m(\u001b[0m\u001b[1;34m\"왜 숫자 아닌걸 입력하시나요..아니면 0을 입력하셔서 0으로 나눌 수 없습니다\"\u001b[0m\u001b[1;33m)\u001b[0m\u001b[1;33m\u001b[0m\u001b[1;33m\u001b[0m\u001b[0m\n",
      "\u001b[1;31mNameError\u001b[0m: name 'Error' is not defined"
     ]
    }
   ],
   "source": [
    "try:\n",
    "    print(\"10만원을 몇명이서 나눌까요?\")\n",
    "    number = int(input('숫자를 입력하세요.'))\n",
    "    print('한 사람당 {}만원을 가집니다'.format(10/number))\n",
    "except (ValueError , ZeroDivisionError):\n",
    "    print(\"왜 숫자 아닌걸 입력하시나요..아니면 0을 입력하셔서 0으로 나눌 수 없습니다\")"
   ]
  },
  {
   "cell_type": "code",
   "execution_count": 88,
   "id": "4be0e1a7",
   "metadata": {},
   "outputs": [
    {
     "ename": "IndentationError",
     "evalue": "expected an indented block (<ipython-input-88-37cf2efd2ea3>, line 15)",
     "output_type": "error",
     "traceback": [
      "\u001b[1;36m  File \u001b[1;32m\"<ipython-input-88-37cf2efd2ea3>\"\u001b[1;36m, line \u001b[1;32m15\u001b[0m\n\u001b[1;33m    while True:\u001b[0m\n\u001b[1;37m               ^\u001b[0m\n\u001b[1;31mIndentationError\u001b[0m\u001b[1;31m:\u001b[0m expected an indented block\n"
     ]
    }
   ],
   "source": [
    "##### 뭔가 입력을 받아서 하는 것 같은데,,, 끝이 안 난다...\n",
    "while True:\n",
    "    try:\n",
    "        minutes_to_convert = int(input(\"시간과 분으로 변환활 분을 입력해주세요\"))\n",
    "        if minutes_to_convert >= 0:\n",
    "            hours_part = minutes_to_convert // 60\n",
    "            minutes_part = minutes_to_convert % 60\n",
    "            print(hours_part)\n",
    "            print(\"시간\")\n",
    "            print(minutes_part)\n",
    "            print(\"분\")\n",
    "        else:\n",
    "            print(\"시간이 음의 정수입니다!!!!!다시!\")\n",
    "    except ValueError:### 맞는 타입을 지정할 때 까지 계속 안 끝내는 경우\n",
    "\n"
   ]
  },
  {
   "cell_type": "code",
   "execution_count": 92,
   "id": "c1977b29",
   "metadata": {},
   "outputs": [
    {
     "name": "stdout",
     "output_type": "stream",
     "text": [
      "시간과 분으로 변환활 분을 입력해주세요s\n",
      "Not a Integer!!! Try Again\n",
      "시간과 분으로 변환활 분을 입력해주세요0\n",
      "0\n",
      "시간\n",
      "0\n",
      "분\n"
     ]
    }
   ],
   "source": [
    "while True:\n",
    "    try:\n",
    "        minutes_to_convert = int(input(\"시간과 분으로 변환활 분을 입력해주세요\"))\n",
    "        if minutes_to_convert >= 0:\n",
    "            hours_part = minutes_to_convert // 60\n",
    "            minutes_part = minutes_to_convert % 60\n",
    "            print(hours_part)\n",
    "            print(\"시간\")\n",
    "            print(minutes_part)\n",
    "            print(\"분\")\n",
    "        else:\n",
    "            print(\"시간이 음의 정수입니다!!!!!다시!\")\n",
    "        break\n",
    "    except ValueError:\n",
    "        print(\"Not a Integer!!! Try Again\")\n",
    "        continue\n",
    "        print(\"Not a Integer!!! Try Again\")"
   ]
  },
  {
   "cell_type": "code",
   "execution_count": 94,
   "id": "81771551",
   "metadata": {},
   "outputs": [
    {
     "name": "stdout",
     "output_type": "stream",
     "text": [
      "시간과 분으로 변경할 분을 입력하세요. 멈추시기 위해서는 q를 입력하세요s\n",
      "Not a Integer!!! Try Again\n",
      "시간과 분으로 변경할 분을 입력하세요. 멈추시기 위해서는 q를 입력하세요-1\n",
      "시간이 음의 정수입니다!!!!!다시!\n",
      "시간과 분으로 변경할 분을 입력하세요. 멈추시기 위해서는 q를 입력하세요234\n",
      "3\n",
      "시간\n",
      "54\n",
      "분\n",
      "시간과 분으로 변경할 분을 입력하세요. 멈추시기 위해서는 q를 입력하세요q\n",
      "Good Bye\n"
     ]
    }
   ],
   "source": [
    "###   무덤이다;;;종료 버튼을 만들자...\n",
    "while True:\n",
    "    try:\n",
    "        minutes_to_convert = input(\"시간과 분으로 변경할 분을 입력하세요. 멈추시기 위해서는 q를 입력하세요\")\n",
    "        if minutes_to_convert==\"q\":\n",
    "            print(\"Good Bye\")\n",
    "            break\n",
    "        else:\n",
    "            minutes_to_convert = int(minutes_to_convert)\n",
    "            if minutes_to_convert >= 0:\n",
    "                hours_part = minutes_to_convert // 60\n",
    "                minutes_part = minutes_to_convert % 60\n",
    "                print(hours_part)\n",
    "                print(\"시간\")\n",
    "                print(minutes_part)\n",
    "                print(\"분\")\n",
    "            else:\n",
    "                print(\"시간이 음의 정수입니다!!!!!다시!\")\n",
    "    except ValueError:\n",
    "        print(\"Not a Integer!!! Try Again\")\n",
    "        continue"
   ]
  },
  {
   "cell_type": "code",
   "execution_count": 98,
   "id": "efb75fe3",
   "metadata": {},
   "outputs": [],
   "source": [
    "from sympy import Symbol, solve\n",
    "x = Symbol('x')\n",
    "\n",
    "equation = 2 * x - 6\n"
   ]
  },
  {
   "cell_type": "code",
   "execution_count": 99,
   "id": "5ca6056b",
   "metadata": {},
   "outputs": [
    {
     "name": "stdout",
     "output_type": "stream",
     "text": [
      "[3]\n"
     ]
    }
   ],
   "source": [
    "print(solve(equation))"
   ]
  },
  {
   "cell_type": "code",
   "execution_count": 100,
   "id": "b714796d",
   "metadata": {},
   "outputs": [
    {
     "data": {
      "text/plain": [
       "2.3978952727983707"
      ]
     },
     "execution_count": 100,
     "metadata": {},
     "output_type": "execute_result"
    }
   ],
   "source": [
    "import numpy as np\n",
    "np.log1p(10)\n"
   ]
  },
  {
   "cell_type": "code",
   "execution_count": 101,
   "id": "a3d90b31",
   "metadata": {},
   "outputs": [
    {
     "data": {
      "text/plain": [
       "10.000000000000002"
      ]
     },
     "execution_count": 101,
     "metadata": {},
     "output_type": "execute_result"
    }
   ],
   "source": [
    "np.expm1(np.log1p(10))"
   ]
  },
  {
   "cell_type": "code",
   "execution_count": 102,
   "id": "25614273",
   "metadata": {},
   "outputs": [],
   "source": [
    "# 주택 가격 예측\n",
    "# 0보다는 커.\n",
    "# 한쪽 쏠림.\n",
    "# x -> (x+1) -> log(x+1)\n",
    "# np.log1p\n",
    "# 열심히 모델링\n",
    "# -> exp : x + 1\n",
    "# -> -1\n",
    "# -----> np.exp1m"
   ]
  },
  {
   "cell_type": "code",
   "execution_count": 104,
   "id": "72d1e36b",
   "metadata": {},
   "outputs": [],
   "source": [
    "# 선형대수\n",
    "# --> 표현법;;;;\n",
    "# 행렬?\n",
    "# -> 회전변환\n",
    "# -> 각도 세타로 돌릴때\n",
    "\n",
    "# 수리통계\n",
    "\n",
    "\n",
    "# 다변수(미분), 확률\n"
   ]
  },
  {
   "cell_type": "code",
   "execution_count": 105,
   "id": "ac3a5e07",
   "metadata": {},
   "outputs": [],
   "source": [
    "# 데이터를 분석\n",
    "# -> 변화!!!\n",
    "# -> 변동\n",
    "# -> 분산.\n",
    "# A 100 -> 200 (2배)\n",
    "# B 0.0001 > 0.01(100배)\n",
    "# 000000000000\n",
    "# -----------\n",
    "# 정규화\n"
   ]
  },
  {
   "cell_type": "code",
   "execution_count": 107,
   "id": "a23ae4fb",
   "metadata": {},
   "outputs": [
    {
     "name": "stdout",
     "output_type": "stream",
     "text": [
      "0.3429999999999999\n",
      "0.44099999999999995\n",
      "0.189\n",
      "0.027\n"
     ]
    }
   ],
   "source": [
    "### 앙상블에 대해서...\n",
    "\n",
    "# A : 70% (SVM)\n",
    "# B : 70% (DT)\n",
    "# C : 70% (KNN)\n",
    "\n",
    "# 01) A, B, C --> 모두다 맞춘 경우(3개 모델이 다 정확히 맞춘)\n",
    "case1 = 0.7 * 0.7 * 0.7\n",
    "print(case1)\n",
    "# 02) A, B, C --> 2개의 모델만 맞춘 경우(2개 o, 1개 x) ----- 맞춘 케이스..\n",
    "case2 = 0.7 * 0.7 * 0.3 + 0.7 * 0.3 * 0.7 + 0.3 * 0.7 * 0.7\n",
    "print(case2)\n",
    "# 03) A, B, C --> 1개의 모델만 맞춘 경우(1개 o, 2개 x)\n",
    "case3 = 0.7 * 0.3 * 0.3 + 0.3 * 0.7 * 0.3 + 0.3 * 0.3 * 0.7\n",
    "print(case3)\n",
    "# 04) A, B, C --> 3개 다 틀린 경우 (3개 x)\n",
    "case4 = 0.3 * 0.3 * 0.3\n",
    "print(case4)\n",
    "\n",
    "\n"
   ]
  },
  {
   "cell_type": "code",
   "execution_count": 108,
   "id": "6b0b3c4e",
   "metadata": {},
   "outputs": [
    {
     "data": {
      "text/plain": [
       "0.9999999999999999"
      ]
     },
     "execution_count": 108,
     "metadata": {},
     "output_type": "execute_result"
    }
   ],
   "source": [
    "case1 + case2 + case3 + case4"
   ]
  },
  {
   "cell_type": "code",
   "execution_count": 109,
   "id": "fb677cf4",
   "metadata": {},
   "outputs": [
    {
     "data": {
      "text/plain": [
       "0.7839999999999998"
      ]
     },
     "execution_count": 109,
     "metadata": {},
     "output_type": "execute_result"
    }
   ],
   "source": [
    "case1 + case2"
   ]
  },
  {
   "cell_type": "code",
   "execution_count": 110,
   "id": "e6a61830",
   "metadata": {},
   "outputs": [],
   "source": [
    "## 모델 A, B, C, D, E => 5개의 모델, 대략 성능 0.7\n",
    "# 5개 O\n",
    "# 4개 O\n",
    "# 3개 O --> 맞출 수\n",
    "import itertools\n",
    "import numpy as np"
   ]
  },
  {
   "cell_type": "code",
   "execution_count": 113,
   "id": "be6799b3",
   "metadata": {},
   "outputs": [
    {
     "name": "stdout",
     "output_type": "stream",
     "text": [
      "0.16806999999999994\n"
     ]
    }
   ],
   "source": [
    "# case1 : 5개만 맞춘 케이스\n",
    "case1 = 0.7 * 0.7 * 0.7 * 0.7 * 0.7\n",
    "print(case1)"
   ]
  },
  {
   "cell_type": "code",
   "execution_count": 114,
   "id": "5477a24f",
   "metadata": {},
   "outputs": [
    {
     "name": "stdout",
     "output_type": "stream",
     "text": [
      "0.36014999999999986\n"
     ]
    }
   ],
   "source": [
    "# case2 : 4개만 맞춘 케이스\n",
    "case2 = 0.7 * 0.7 * 0.7 * 0.7 * 0.3 * 5\n",
    "print(case2)"
   ]
  },
  {
   "cell_type": "code",
   "execution_count": 116,
   "id": "99aaccfc",
   "metadata": {},
   "outputs": [
    {
     "name": "stdout",
     "output_type": "stream",
     "text": [
      "0.3086999999999999\n"
     ]
    }
   ],
   "source": [
    "# case3 : 3개만 맞춘 케이스\n",
    "case3 = 0.7 * 0.7 * 0.7 * 0.3 * 0.3 * 10\n",
    "print(case3)"
   ]
  },
  {
   "cell_type": "code",
   "execution_count": 117,
   "id": "2be04f3f",
   "metadata": {},
   "outputs": [
    {
     "data": {
      "text/plain": [
       "0.8369199999999997"
      ]
     },
     "execution_count": 117,
     "metadata": {},
     "output_type": "execute_result"
    }
   ],
   "source": [
    "case1 + case2 + case3"
   ]
  },
  {
   "cell_type": "code",
   "execution_count": 119,
   "id": "4feb2761",
   "metadata": {},
   "outputs": [],
   "source": [
    "#1 1 1 1 1 1 1 1 1 1 : 오리지널 데이터 정답\n",
    "#1 1 1 1 1 1 1 1 0 0 : A -> 80%\n",
    "#1 1 1 1 1 1 1 1 0 0 : B -> 80%\n",
    "#1 0 1 1 1 1 1 1 0 0 : C -> 70%\n",
    "#다양성(랜덤 샘플링 : bootstraping) & 많은 인원 -> "
   ]
  },
  {
   "cell_type": "code",
   "execution_count": 121,
   "id": "60eae3eb",
   "metadata": {},
   "outputs": [
    {
     "name": "stdout",
     "output_type": "stream",
     "text": [
      "4개 입력..4 4 2 1\n",
      "2개 입력..1 2\n",
      "2개 입력..1 3\n",
      "2개 입력..2 3\n",
      "2개 입력..2 4\n",
      "[[], [2, 3], [3, 4], [], []]\n",
      "3\n",
      "4\n"
     ]
    }
   ],
   "source": [
    "# 입력 부분 #\n",
    "n, m, k, x = map(int, input(\"4개 입력..\").split())\n",
    "graph = [ [] for _ in range(n+1)]\n",
    "for _ in range(m):\n",
    "    s, e = map(int, input(\"2개 입력..\").split())\n",
    "    graph[s].append(e)\n",
    "    \n",
    "print(graph)\n"
   ]
  },
  {
   "cell_type": "code",
   "execution_count": 122,
   "id": "dd4265ba",
   "metadata": {},
   "outputs": [
    {
     "data": {
      "text/plain": [
       "[inf, 0, inf, inf, inf]"
      ]
     },
     "execution_count": 122,
     "metadata": {},
     "output_type": "execute_result"
    }
   ],
   "source": [
    "#### 거리에 대해서 초기화\n",
    "INF = float(\"inf\")\n",
    "distance = [INF] * (n+1)\n",
    "distance[x] = 0\n",
    "distance"
   ]
  },
  {
   "cell_type": "code",
   "execution_count": 123,
   "id": "6ac698cd",
   "metadata": {},
   "outputs": [],
   "source": [
    "#### bfs 방식을 이용하여 구현...\n",
    "from collections import deque\n",
    "# 큐를 -> 방문한 리스트로 작성을 하고 -> 방문할 곳이 없을 때 까지...\n",
    "q = deque()\n",
    "q.append(x)\n",
    "while q:\n",
    "    # 방문할 곳이 어디니?? -> 방문할 곳을 가지고 와야 함.!\n",
    "    now = q.popleft() # list.pop(0) -> 큐 방식으로..\n",
    "    for next_node in graph[now]:\n",
    "        # now에서 연결된 도시가 있다면..... 그 도시들을 방문을\n",
    "        if distance[next_node] == INF : # now - next_node가 연결은, 거리는 아직\n",
    "            #기존 inf의 값을... 뭐로? 업데이트 하고...\n",
    "            distance[next_node] = distance[now] + 1\n",
    "            # 다시 방문 해야 할 곳에 대한 정보 추가....\n",
    "            q.append(next_node)"
   ]
  },
  {
   "cell_type": "code",
   "execution_count": 124,
   "id": "281937b7",
   "metadata": {},
   "outputs": [
    {
     "data": {
      "text/plain": [
       "[inf, 0, 1, 1, 2]"
      ]
     },
     "execution_count": 124,
     "metadata": {},
     "output_type": "execute_result"
    }
   ],
   "source": [
    "distance"
   ]
  },
  {
   "cell_type": "code",
   "execution_count": 125,
   "id": "c0ad5e04",
   "metadata": {},
   "outputs": [
    {
     "ename": "SyntaxError",
     "evalue": "invalid syntax (<ipython-input-125-5999f74dc71f>, line 3)",
     "output_type": "error",
     "traceback": [
      "\u001b[1;36m  File \u001b[1;32m\"<ipython-input-125-5999f74dc71f>\"\u001b[1;36m, line \u001b[1;32m3\u001b[0m\n\u001b[1;33m    ~~~\u001b[0m\n\u001b[1;37m       ^\u001b[0m\n\u001b[1;31mSyntaxError\u001b[0m\u001b[1;31m:\u001b[0m invalid syntax\n"
     ]
    }
   ],
   "source": [
    "for idx, v in enumerate(distance) : # 인덱스, 리스트 값을\n",
    "    if v == k:\n",
    "        ~~~"
   ]
  },
  {
   "cell_type": "code",
   "execution_count": 126,
   "id": "eff979e0",
   "metadata": {},
   "outputs": [
    {
     "data": {
      "text/plain": [
       "[4]"
      ]
     },
     "execution_count": 126,
     "metadata": {},
     "output_type": "execute_result"
    }
   ],
   "source": [
    "distance_k = [ i for i, v in enumerate(distance) if v == k]\n",
    "distance_k"
   ]
  },
  {
   "cell_type": "code",
   "execution_count": 128,
   "id": "abbca55b",
   "metadata": {},
   "outputs": [
    {
     "name": "stdout",
     "output_type": "stream",
     "text": [
      "4\n"
     ]
    }
   ],
   "source": [
    "if distance_k == []:\n",
    "    print(-1)\n",
    "else:\n",
    "    while distance_k:\n",
    "        print(distance_k.pop(0))"
   ]
  },
  {
   "cell_type": "code",
   "execution_count": 1,
   "id": "82723bb4",
   "metadata": {},
   "outputs": [
    {
     "ename": "NameError",
     "evalue": "name 'a' is not defined",
     "output_type": "error",
     "traceback": [
      "\u001b[1;31m---------------------------------------------------------------------------\u001b[0m",
      "\u001b[1;31mNameError\u001b[0m                                 Traceback (most recent call last)",
      "\u001b[1;32m<ipython-input-1-24e281569c27>\u001b[0m in \u001b[0;36m<module>\u001b[1;34m\u001b[0m\n\u001b[1;32m----> 1\u001b[1;33m \u001b[0mc\u001b[0m \u001b[1;33m=\u001b[0m \u001b[1;36m4\u001b[0m \u001b[1;33m*\u001b[0m \u001b[0ma\u001b[0m \u001b[1;33m+\u001b[0m \u001b[1;33m(\u001b[0m\u001b[1;33m-\u001b[0m\u001b[1;36m3\u001b[0m\u001b[1;33m)\u001b[0m \u001b[1;33m*\u001b[0m \u001b[0mb\u001b[0m\u001b[1;33m\u001b[0m\u001b[1;33m\u001b[0m\u001b[0m\n\u001b[0m\u001b[0;32m      2\u001b[0m \u001b[0mc\u001b[0m\u001b[1;33m\u001b[0m\u001b[1;33m\u001b[0m\u001b[0m\n",
      "\u001b[1;31mNameError\u001b[0m: name 'a' is not defined"
     ]
    }
   ],
   "source": [
    "c = 4 * a + (-3) * b\n",
    "c"
   ]
  },
  {
   "cell_type": "code",
   "execution_count": 3,
   "id": "f5b5dba8",
   "metadata": {},
   "outputs": [],
   "source": [
    "#numpy -> vector 표현\n",
    "import numpy as np"
   ]
  },
  {
   "cell_type": "code",
   "execution_count": 4,
   "id": "94203a4d",
   "metadata": {},
   "outputs": [
    {
     "data": {
      "text/plain": [
       "array([2, 4])"
      ]
     },
     "execution_count": 4,
     "metadata": {},
     "output_type": "execute_result"
    }
   ],
   "source": [
    "a = np.array([2,4])\n",
    "a"
   ]
  },
  {
   "cell_type": "code",
   "execution_count": 5,
   "id": "70ddee27",
   "metadata": {},
   "outputs": [
    {
     "data": {
      "text/plain": [
       "array([1, 6])"
      ]
     },
     "execution_count": 5,
     "metadata": {},
     "output_type": "execute_result"
    }
   ],
   "source": [
    "b = np.array([1,6])\n",
    "b"
   ]
  },
  {
   "cell_type": "code",
   "execution_count": 6,
   "id": "c20f16b4",
   "metadata": {},
   "outputs": [
    {
     "data": {
      "text/plain": [
       "array([ 5, -2])"
      ]
     },
     "execution_count": 6,
     "metadata": {},
     "output_type": "execute_result"
    }
   ],
   "source": [
    "c = 4*a + (-3)*b\n",
    "c"
   ]
  },
  {
   "cell_type": "code",
   "execution_count": 7,
   "id": "87d4c093",
   "metadata": {},
   "outputs": [
    {
     "ename": "ModuleNotFoundError",
     "evalue": "No module named 'tensorflow'",
     "output_type": "error",
     "traceback": [
      "\u001b[1;31m---------------------------------------------------------------------------\u001b[0m",
      "\u001b[1;31mModuleNotFoundError\u001b[0m                       Traceback (most recent call last)",
      "\u001b[1;32m<ipython-input-7-64156d691fe5>\u001b[0m in \u001b[0;36m<module>\u001b[1;34m\u001b[0m\n\u001b[1;32m----> 1\u001b[1;33m \u001b[1;32mimport\u001b[0m \u001b[0mtensorflow\u001b[0m \u001b[1;32mas\u001b[0m \u001b[0mtf\u001b[0m\u001b[1;33m\u001b[0m\u001b[1;33m\u001b[0m\u001b[0m\n\u001b[0m",
      "\u001b[1;31mModuleNotFoundError\u001b[0m: No module named 'tensorflow'"
     ]
    }
   ],
   "source": [
    "import tensorflow as tf"
   ]
  },
  {
   "cell_type": "code",
   "execution_count": 8,
   "id": "ded776dd",
   "metadata": {},
   "outputs": [
    {
     "ename": "NameError",
     "evalue": "name 'tf' is not defined",
     "output_type": "error",
     "traceback": [
      "\u001b[1;31m---------------------------------------------------------------------------\u001b[0m",
      "\u001b[1;31mNameError\u001b[0m                                 Traceback (most recent call last)",
      "\u001b[1;32m<ipython-input-8-65996cac02ec>\u001b[0m in \u001b[0;36m<module>\u001b[1;34m\u001b[0m\n\u001b[1;32m----> 1\u001b[1;33m \u001b[0mtf\u001b[0m\u001b[1;33m.\u001b[0m\u001b[0m__version__\u001b[0m\u001b[1;33m\u001b[0m\u001b[1;33m\u001b[0m\u001b[0m\n\u001b[0m",
      "\u001b[1;31mNameError\u001b[0m: name 'tf' is not defined"
     ]
    }
   ],
   "source": [
    "tf.__version__"
   ]
  },
  {
   "cell_type": "code",
   "execution_count": 9,
   "id": "5860f0db",
   "metadata": {},
   "outputs": [
    {
     "ename": "NameError",
     "evalue": "name 'tf' is not defined",
     "output_type": "error",
     "traceback": [
      "\u001b[1;31m---------------------------------------------------------------------------\u001b[0m",
      "\u001b[1;31mNameError\u001b[0m                                 Traceback (most recent call last)",
      "\u001b[1;32m<ipython-input-9-e9564c27cfba>\u001b[0m in \u001b[0;36m<module>\u001b[1;34m\u001b[0m\n\u001b[1;32m----> 1\u001b[1;33m \u001b[0mx\u001b[0m \u001b[1;33m=\u001b[0m \u001b[0mtf\u001b[0m\u001b[1;33m.\u001b[0m\u001b[0mVariable\u001b[0m\u001b[1;33m(\u001b[0m\u001b[1;33m[\u001b[0m\u001b[1;33m[\u001b[0m\u001b[1;36m1\u001b[0m\u001b[1;33m]\u001b[0m\u001b[1;33m,\u001b[0m\u001b[1;33m[\u001b[0m\u001b[1;36m2\u001b[0m\u001b[1;33m]\u001b[0m\u001b[1;33m,\u001b[0m\u001b[1;33m[\u001b[0m\u001b[1;36m3\u001b[0m\u001b[1;33m]\u001b[0m\u001b[1;33m]\u001b[0m\u001b[1;33m)\u001b[0m\u001b[1;33m\u001b[0m\u001b[1;33m\u001b[0m\u001b[0m\n\u001b[0m\u001b[0;32m      2\u001b[0m \u001b[0my\u001b[0m \u001b[1;33m=\u001b[0m \u001b[0mtf\u001b[0m\u001b[1;33m.\u001b[0m\u001b[0mVariable\u001b[0m\u001b[1;33m(\u001b[0m\u001b[1;33m[\u001b[0m\u001b[1;33m[\u001b[0m\u001b[1;36m4\u001b[0m\u001b[1;33m]\u001b[0m\u001b[1;33m,\u001b[0m\u001b[1;33m[\u001b[0m\u001b[1;36m5\u001b[0m\u001b[1;33m]\u001b[0m\u001b[1;33m,\u001b[0m\u001b[1;33m[\u001b[0m\u001b[1;36m6\u001b[0m\u001b[1;33m]\u001b[0m\u001b[1;33m]\u001b[0m\u001b[1;33m)\u001b[0m\u001b[1;33m\u001b[0m\u001b[1;33m\u001b[0m\u001b[0m\n",
      "\u001b[1;31mNameError\u001b[0m: name 'tf' is not defined"
     ]
    }
   ],
   "source": [
    "x = tf.Variable([[1],[2],[3]])\n",
    "y = tf.Variable([[4],[5],[6]])"
   ]
  },
  {
   "cell_type": "code",
   "execution_count": 10,
   "id": "a4c5c7d7",
   "metadata": {},
   "outputs": [
    {
     "ename": "NameError",
     "evalue": "name 'tf' is not defined",
     "output_type": "error",
     "traceback": [
      "\u001b[1;31m---------------------------------------------------------------------------\u001b[0m",
      "\u001b[1;31mNameError\u001b[0m                                 Traceback (most recent call last)",
      "\u001b[1;32m<ipython-input-10-da209974d80a>\u001b[0m in \u001b[0;36m<module>\u001b[1;34m\u001b[0m\n\u001b[1;32m----> 1\u001b[1;33m \u001b[0mxT\u001b[0m \u001b[1;33m=\u001b[0m \u001b[0mtf\u001b[0m\u001b[1;33m.\u001b[0m\u001b[0mtranspose\u001b[0m\u001b[1;33m(\u001b[0m\u001b[0mx\u001b[0m\u001b[1;33m)\u001b[0m\u001b[1;33m\u001b[0m\u001b[1;33m\u001b[0m\u001b[0m\n\u001b[0m\u001b[0;32m      2\u001b[0m \u001b[0mxT\u001b[0m\u001b[1;33m\u001b[0m\u001b[1;33m\u001b[0m\u001b[0m\n",
      "\u001b[1;31mNameError\u001b[0m: name 'tf' is not defined"
     ]
    }
   ],
   "source": [
    "xT = tf.transpose(x)\n",
    "xT"
   ]
  },
  {
   "cell_type": "code",
   "execution_count": 11,
   "id": "385d31f4",
   "metadata": {},
   "outputs": [
    {
     "ename": "NameError",
     "evalue": "name 'tf' is not defined",
     "output_type": "error",
     "traceback": [
      "\u001b[1;31m---------------------------------------------------------------------------\u001b[0m",
      "\u001b[1;31mNameError\u001b[0m                                 Traceback (most recent call last)",
      "\u001b[1;32m<ipython-input-11-9c9bb0be2578>\u001b[0m in \u001b[0;36m<module>\u001b[1;34m\u001b[0m\n\u001b[1;32m----> 1\u001b[1;33m \u001b[0minner_product\u001b[0m \u001b[1;33m=\u001b[0m \u001b[0mtf\u001b[0m\u001b[1;33m.\u001b[0m\u001b[0mmatmul\u001b[0m\u001b[1;33m(\u001b[0m\u001b[0mxT\u001b[0m\u001b[1;33m,\u001b[0m \u001b[0my\u001b[0m\u001b[1;33m)\u001b[0m\u001b[1;33m\u001b[0m\u001b[1;33m\u001b[0m\u001b[0m\n\u001b[0m\u001b[0;32m      2\u001b[0m \u001b[0minner_product\u001b[0m\u001b[1;33m\u001b[0m\u001b[1;33m\u001b[0m\u001b[0m\n",
      "\u001b[1;31mNameError\u001b[0m: name 'tf' is not defined"
     ]
    }
   ],
   "source": [
    "inner_product = tf.matmul(xT, y)\n",
    "inner_product"
   ]
  },
  {
   "cell_type": "code",
   "execution_count": 12,
   "id": "2ed160ea",
   "metadata": {},
   "outputs": [
    {
     "ename": "NameError",
     "evalue": "name 'inner_product' is not defined",
     "output_type": "error",
     "traceback": [
      "\u001b[1;31m---------------------------------------------------------------------------\u001b[0m",
      "\u001b[1;31mNameError\u001b[0m                                 Traceback (most recent call last)",
      "\u001b[1;32m<ipython-input-12-a06807473f90>\u001b[0m in \u001b[0;36m<module>\u001b[1;34m\u001b[0m\n\u001b[1;32m----> 1\u001b[1;33m \u001b[0mprint\u001b[0m\u001b[1;33m(\u001b[0m\u001b[0minner_product\u001b[0m\u001b[1;33m)\u001b[0m\u001b[1;33m\u001b[0m\u001b[1;33m\u001b[0m\u001b[0m\n\u001b[0m",
      "\u001b[1;31mNameError\u001b[0m: name 'inner_product' is not defined"
     ]
    }
   ],
   "source": [
    "print(inner_product)"
   ]
  },
  {
   "cell_type": "code",
   "execution_count": 13,
   "id": "53915dc0",
   "metadata": {},
   "outputs": [
    {
     "ename": "NameError",
     "evalue": "name 'tf' is not defined",
     "output_type": "error",
     "traceback": [
      "\u001b[1;31m---------------------------------------------------------------------------\u001b[0m",
      "\u001b[1;31mNameError\u001b[0m                                 Traceback (most recent call last)",
      "\u001b[1;32m<ipython-input-13-e10775924919>\u001b[0m in \u001b[0;36m<module>\u001b[1;34m\u001b[0m\n\u001b[1;32m----> 1\u001b[1;33m \u001b[0mtf\u001b[0m\u001b[1;33m.\u001b[0m\u001b[0mprint\u001b[0m\u001b[1;33m(\u001b[0m\u001b[0minner_product\u001b[0m\u001b[1;33m)\u001b[0m\u001b[1;33m\u001b[0m\u001b[1;33m\u001b[0m\u001b[0m\n\u001b[0m",
      "\u001b[1;31mNameError\u001b[0m: name 'tf' is not defined"
     ]
    }
   ],
   "source": [
    "tf.print(inner_product)"
   ]
  },
  {
   "cell_type": "code",
   "execution_count": 14,
   "id": "d71a8758",
   "metadata": {},
   "outputs": [
    {
     "ename": "NameError",
     "evalue": "name 'tf' is not defined",
     "output_type": "error",
     "traceback": [
      "\u001b[1;31m---------------------------------------------------------------------------\u001b[0m",
      "\u001b[1;31mNameError\u001b[0m                                 Traceback (most recent call last)",
      "\u001b[1;32m<ipython-input-14-aa169f646a03>\u001b[0m in \u001b[0;36m<module>\u001b[1;34m\u001b[0m\n\u001b[1;32m----> 1\u001b[1;33m \u001b[0mx\u001b[0m \u001b[1;33m=\u001b[0m \u001b[0mtf\u001b[0m\u001b[1;33m.\u001b[0m\u001b[0mVariable\u001b[0m\u001b[1;33m(\u001b[0m\u001b[1;33m[\u001b[0m\u001b[1;33m[\u001b[0m\u001b[1;36m1\u001b[0m\u001b[1;33m]\u001b[0m\u001b[1;33m,\u001b[0m\u001b[1;33m[\u001b[0m\u001b[1;36m2\u001b[0m\u001b[1;33m]\u001b[0m\u001b[1;33m,\u001b[0m\u001b[1;33m[\u001b[0m\u001b[1;36m3\u001b[0m\u001b[1;33m]\u001b[0m\u001b[1;33m]\u001b[0m\u001b[1;33m,\u001b[0m \u001b[0mdtype\u001b[0m \u001b[1;33m=\u001b[0m \u001b[0mtf\u001b[0m\u001b[1;33m.\u001b[0m\u001b[0mfloat32\u001b[0m\u001b[1;33m)\u001b[0m\u001b[1;33m\u001b[0m\u001b[1;33m\u001b[0m\u001b[0m\n\u001b[0m\u001b[0;32m      2\u001b[0m \u001b[1;31m#xT = tf.transpose(x)\u001b[0m\u001b[1;33m\u001b[0m\u001b[1;33m\u001b[0m\u001b[1;33m\u001b[0m\u001b[0m\n\u001b[0;32m      3\u001b[0m \u001b[0mx_norm\u001b[0m \u001b[1;33m=\u001b[0m \u001b[0mtf\u001b[0m\u001b[1;33m.\u001b[0m\u001b[0mnorm\u001b[0m\u001b[1;33m(\u001b[0m\u001b[0mx\u001b[0m\u001b[1;33m,\u001b[0m \u001b[0mord\u001b[0m \u001b[1;33m=\u001b[0m \u001b[1;36m2\u001b[0m\u001b[1;33m)\u001b[0m \u001b[1;31m# ord =2  L2\u001b[0m\u001b[1;33m\u001b[0m\u001b[1;33m\u001b[0m\u001b[0m\n\u001b[0;32m      4\u001b[0m \u001b[0mtf\u001b[0m\u001b[1;33m.\u001b[0m\u001b[0mprint\u001b[0m\u001b[1;33m(\u001b[0m\u001b[0mx_norm\u001b[0m\u001b[1;33m)\u001b[0m\u001b[1;33m\u001b[0m\u001b[1;33m\u001b[0m\u001b[0m\n",
      "\u001b[1;31mNameError\u001b[0m: name 'tf' is not defined"
     ]
    }
   ],
   "source": [
    "x = tf.Variable([[1],[2],[3]], dtype = tf.float32)\n",
    "#xT = tf.transpose(x)\n",
    "x_norm = tf.norm(x, ord = 2) # ord =2  L2 \n",
    "tf.print(x_norm)"
   ]
  },
  {
   "cell_type": "code",
   "execution_count": 15,
   "id": "cb9717ff",
   "metadata": {},
   "outputs": [
    {
     "ename": "NameError",
     "evalue": "name 'x_norm' is not defined",
     "output_type": "error",
     "traceback": [
      "\u001b[1;31m---------------------------------------------------------------------------\u001b[0m",
      "\u001b[1;31mNameError\u001b[0m                                 Traceback (most recent call last)",
      "\u001b[1;32m<ipython-input-15-ab3ba44bced4>\u001b[0m in \u001b[0;36m<module>\u001b[1;34m\u001b[0m\n\u001b[1;32m----> 1\u001b[1;33m \u001b[0mx_norm\u001b[0m\u001b[1;33m\u001b[0m\u001b[1;33m\u001b[0m\u001b[0m\n\u001b[0m",
      "\u001b[1;31mNameError\u001b[0m: name 'x_norm' is not defined"
     ]
    }
   ],
   "source": [
    "x_norm"
   ]
  },
  {
   "cell_type": "code",
   "execution_count": 16,
   "id": "6f6a825e",
   "metadata": {},
   "outputs": [
    {
     "ename": "NameError",
     "evalue": "name 'tf' is not defined",
     "output_type": "error",
     "traceback": [
      "\u001b[1;31m---------------------------------------------------------------------------\u001b[0m",
      "\u001b[1;31mNameError\u001b[0m                                 Traceback (most recent call last)",
      "\u001b[1;32m<ipython-input-16-5a09caef3858>\u001b[0m in \u001b[0;36m<module>\u001b[1;34m\u001b[0m\n\u001b[1;32m----> 1\u001b[1;33m \u001b[0mx\u001b[0m \u001b[1;33m=\u001b[0m \u001b[0mtf\u001b[0m\u001b[1;33m.\u001b[0m\u001b[0mVariable\u001b[0m\u001b[1;33m(\u001b[0m\u001b[1;33m[\u001b[0m\u001b[1;33m[\u001b[0m\u001b[1;36m1\u001b[0m\u001b[1;33m]\u001b[0m\u001b[1;33m,\u001b[0m\u001b[1;33m[\u001b[0m\u001b[1;36m2\u001b[0m\u001b[1;33m]\u001b[0m\u001b[1;33m,\u001b[0m\u001b[1;33m[\u001b[0m\u001b[1;36m3\u001b[0m\u001b[1;33m]\u001b[0m\u001b[1;33m]\u001b[0m\u001b[1;33m,\u001b[0m \u001b[0mdtype\u001b[0m \u001b[1;33m=\u001b[0m \u001b[0mtf\u001b[0m\u001b[1;33m.\u001b[0m\u001b[0mfloat32\u001b[0m\u001b[1;33m)\u001b[0m\u001b[1;33m\u001b[0m\u001b[1;33m\u001b[0m\u001b[0m\n\u001b[0m\u001b[0;32m      2\u001b[0m \u001b[0mxT\u001b[0m \u001b[1;33m=\u001b[0m \u001b[0mtf\u001b[0m\u001b[1;33m.\u001b[0m\u001b[0mtranspose\u001b[0m\u001b[1;33m(\u001b[0m\u001b[0mx\u001b[0m\u001b[1;33m)\u001b[0m\u001b[1;33m\u001b[0m\u001b[1;33m\u001b[0m\u001b[0m\n\u001b[0;32m      3\u001b[0m \u001b[0mx_norm_2\u001b[0m \u001b[1;33m=\u001b[0m \u001b[0mtf\u001b[0m\u001b[1;33m.\u001b[0m\u001b[0mmath\u001b[0m\u001b[1;33m.\u001b[0m\u001b[0msqrt\u001b[0m\u001b[1;33m(\u001b[0m\u001b[0mtf\u001b[0m\u001b[1;33m.\u001b[0m\u001b[0mmatmul\u001b[0m\u001b[1;33m(\u001b[0m\u001b[0mxT\u001b[0m\u001b[1;33m,\u001b[0m \u001b[0mx\u001b[0m\u001b[1;33m)\u001b[0m\u001b[1;33m)\u001b[0m\u001b[1;33m\u001b[0m\u001b[1;33m\u001b[0m\u001b[0m\n\u001b[0;32m      4\u001b[0m \u001b[0mtf\u001b[0m\u001b[1;33m.\u001b[0m\u001b[0mprint\u001b[0m\u001b[1;33m(\u001b[0m\u001b[0mx_norm_2\u001b[0m\u001b[1;33m)\u001b[0m\u001b[1;33m\u001b[0m\u001b[1;33m\u001b[0m\u001b[0m\n",
      "\u001b[1;31mNameError\u001b[0m: name 'tf' is not defined"
     ]
    }
   ],
   "source": [
    "x = tf.Variable([[1],[2],[3]], dtype = tf.float32)\n",
    "xT = tf.transpose(x)\n",
    "x_norm_2 = tf.math.sqrt(tf.matmul(xT, x))\n",
    "tf.print(x_norm_2)\n"
   ]
  },
  {
   "cell_type": "code",
   "execution_count": 17,
   "id": "135376eb",
   "metadata": {},
   "outputs": [],
   "source": [
    "# 1 by 1 mat & 1dim Vec"
   ]
  },
  {
   "cell_type": "code",
   "execution_count": 18,
   "id": "62033296",
   "metadata": {},
   "outputs": [
    {
     "ename": "NameError",
     "evalue": "name 'tf' is not defined",
     "output_type": "error",
     "traceback": [
      "\u001b[1;31m---------------------------------------------------------------------------\u001b[0m",
      "\u001b[1;31mNameError\u001b[0m                                 Traceback (most recent call last)",
      "\u001b[1;32m<ipython-input-18-421aefdd4c0a>\u001b[0m in \u001b[0;36m<module>\u001b[1;34m\u001b[0m\n\u001b[1;32m----> 1\u001b[1;33m \u001b[0mA\u001b[0m \u001b[1;33m=\u001b[0m \u001b[0mtf\u001b[0m\u001b[1;33m.\u001b[0m\u001b[0mVariable\u001b[0m\u001b[1;33m(\u001b[0m\u001b[0mnp\u001b[0m\u001b[1;33m.\u001b[0m\u001b[0marray\u001b[0m\u001b[1;33m(\u001b[0m \u001b[1;33m[\u001b[0m \u001b[1;33m[\u001b[0m\u001b[1;36m1\u001b[0m\u001b[1;33m]\u001b[0m \u001b[1;33m]\u001b[0m\u001b[1;33m)\u001b[0m\u001b[1;33m,\u001b[0m \u001b[0mdtype\u001b[0m \u001b[1;33m=\u001b[0m \u001b[0mtf\u001b[0m\u001b[1;33m.\u001b[0m\u001b[0mfloat32\u001b[0m\u001b[1;33m)\u001b[0m\u001b[1;33m\u001b[0m\u001b[1;33m\u001b[0m\u001b[0m\n\u001b[0m\u001b[0;32m      2\u001b[0m \u001b[0mx\u001b[0m \u001b[1;33m=\u001b[0m \u001b[0mtf\u001b[0m\u001b[1;33m.\u001b[0m\u001b[0mVariable\u001b[0m\u001b[1;33m(\u001b[0m\u001b[0mnp\u001b[0m\u001b[1;33m.\u001b[0m\u001b[0marray\u001b[0m\u001b[1;33m(\u001b[0m \u001b[1;33m[\u001b[0m \u001b[1;33m[\u001b[0m\u001b[1;36m1\u001b[0m\u001b[1;33m]\u001b[0m \u001b[1;33m]\u001b[0m\u001b[1;33m)\u001b[0m\u001b[1;33m,\u001b[0m \u001b[0mdtype\u001b[0m \u001b[1;33m=\u001b[0m \u001b[0mtf\u001b[0m\u001b[1;33m.\u001b[0m\u001b[0mfloat32\u001b[0m\u001b[1;33m)\u001b[0m\u001b[1;33m\u001b[0m\u001b[1;33m\u001b[0m\u001b[0m\n\u001b[0;32m      3\u001b[0m \u001b[0mb\u001b[0m \u001b[1;33m=\u001b[0m \u001b[0mtf\u001b[0m\u001b[1;33m.\u001b[0m\u001b[0mmatmul\u001b[0m\u001b[1;33m(\u001b[0m\u001b[0mA\u001b[0m\u001b[1;33m,\u001b[0m\u001b[0mx\u001b[0m\u001b[1;33m)\u001b[0m\u001b[1;33m\u001b[0m\u001b[1;33m\u001b[0m\u001b[0m\n\u001b[0;32m      4\u001b[0m \u001b[0mprint\u001b[0m\u001b[1;33m(\u001b[0m\u001b[0mA\u001b[0m\u001b[1;33m.\u001b[0m\u001b[0mshape\u001b[0m\u001b[1;33m)\u001b[0m\u001b[1;33m\u001b[0m\u001b[1;33m\u001b[0m\u001b[0m\n\u001b[0;32m      5\u001b[0m \u001b[0mprint\u001b[0m\u001b[1;33m(\u001b[0m\u001b[0mx\u001b[0m\u001b[1;33m.\u001b[0m\u001b[0mshape\u001b[0m\u001b[1;33m)\u001b[0m\u001b[1;33m\u001b[0m\u001b[1;33m\u001b[0m\u001b[0m\n",
      "\u001b[1;31mNameError\u001b[0m: name 'tf' is not defined"
     ]
    }
   ],
   "source": [
    "A = tf.Variable(np.array( [ [1] ]), dtype = tf.float32)\n",
    "x = tf.Variable(np.array( [ [1] ]), dtype = tf.float32)\n",
    "b = tf.matmul(A,x)\n",
    "print(A.shape)\n",
    "print(x.shape)\n",
    "print(b.shape)\n",
    "tf.print(b)\n"
   ]
  },
  {
   "cell_type": "code",
   "execution_count": 19,
   "id": "5282f751",
   "metadata": {},
   "outputs": [],
   "source": [
    "# 1by2 mat & 2dim Vector"
   ]
  },
  {
   "cell_type": "code",
   "execution_count": 20,
   "id": "ff3fbff8",
   "metadata": {},
   "outputs": [
    {
     "ename": "NameError",
     "evalue": "name 'tf' is not defined",
     "output_type": "error",
     "traceback": [
      "\u001b[1;31m---------------------------------------------------------------------------\u001b[0m",
      "\u001b[1;31mNameError\u001b[0m                                 Traceback (most recent call last)",
      "\u001b[1;32m<ipython-input-20-b1cf16c5a4c5>\u001b[0m in \u001b[0;36m<module>\u001b[1;34m\u001b[0m\n\u001b[1;32m----> 1\u001b[1;33m \u001b[0mA\u001b[0m \u001b[1;33m=\u001b[0m \u001b[0mtf\u001b[0m\u001b[1;33m.\u001b[0m\u001b[0mVariable\u001b[0m\u001b[1;33m(\u001b[0m\u001b[0mnp\u001b[0m\u001b[1;33m.\u001b[0m\u001b[0marray\u001b[0m\u001b[1;33m(\u001b[0m \u001b[1;33m[\u001b[0m \u001b[1;33m[\u001b[0m\u001b[1;36m1\u001b[0m\u001b[1;33m,\u001b[0m\u001b[1;36m4\u001b[0m\u001b[1;33m]\u001b[0m\u001b[1;33m]\u001b[0m\u001b[1;33m)\u001b[0m\u001b[1;33m,\u001b[0m\u001b[0mdtype\u001b[0m \u001b[1;33m=\u001b[0m \u001b[0mtf\u001b[0m\u001b[1;33m.\u001b[0m\u001b[0mfloat32\u001b[0m\u001b[1;33m)\u001b[0m\u001b[1;33m\u001b[0m\u001b[1;33m\u001b[0m\u001b[0m\n\u001b[0m\u001b[0;32m      2\u001b[0m \u001b[0mx\u001b[0m \u001b[1;33m=\u001b[0m \u001b[0mtf\u001b[0m\u001b[1;33m.\u001b[0m\u001b[0mVariable\u001b[0m\u001b[1;33m(\u001b[0m\u001b[0mnp\u001b[0m\u001b[1;33m.\u001b[0m\u001b[0marray\u001b[0m\u001b[1;33m(\u001b[0m \u001b[1;33m[\u001b[0m \u001b[1;33m[\u001b[0m\u001b[1;36m1\u001b[0m\u001b[1;33m]\u001b[0m\u001b[1;33m,\u001b[0m \u001b[1;33m[\u001b[0m\u001b[1;36m2\u001b[0m\u001b[1;33m]\u001b[0m \u001b[1;33m]\u001b[0m\u001b[1;33m)\u001b[0m\u001b[1;33m,\u001b[0m \u001b[0mdtype\u001b[0m \u001b[1;33m=\u001b[0m \u001b[0mtf\u001b[0m\u001b[1;33m.\u001b[0m\u001b[0mfloat32\u001b[0m\u001b[1;33m)\u001b[0m\u001b[1;33m\u001b[0m\u001b[1;33m\u001b[0m\u001b[0m\n\u001b[0;32m      3\u001b[0m \u001b[0mb\u001b[0m \u001b[1;33m=\u001b[0m \u001b[0mtf\u001b[0m\u001b[1;33m.\u001b[0m\u001b[0mmatmul\u001b[0m\u001b[1;33m(\u001b[0m\u001b[0mA\u001b[0m\u001b[1;33m,\u001b[0m \u001b[0mx\u001b[0m\u001b[1;33m)\u001b[0m\u001b[1;33m\u001b[0m\u001b[1;33m\u001b[0m\u001b[0m\n\u001b[0;32m      4\u001b[0m \u001b[0mprint\u001b[0m\u001b[1;33m(\u001b[0m\u001b[0mA\u001b[0m\u001b[1;33m.\u001b[0m\u001b[0mshape\u001b[0m\u001b[1;33m)\u001b[0m\u001b[1;33m\u001b[0m\u001b[1;33m\u001b[0m\u001b[0m\n\u001b[0;32m      5\u001b[0m \u001b[0mprint\u001b[0m\u001b[1;33m(\u001b[0m\u001b[0mx\u001b[0m\u001b[1;33m.\u001b[0m\u001b[0mshape\u001b[0m\u001b[1;33m)\u001b[0m\u001b[1;33m\u001b[0m\u001b[1;33m\u001b[0m\u001b[0m\n",
      "\u001b[1;31mNameError\u001b[0m: name 'tf' is not defined"
     ]
    }
   ],
   "source": [
    "A = tf.Variable(np.array( [ [1,4]]),dtype = tf.float32)\n",
    "x = tf.Variable(np.array( [ [1], [2] ]), dtype = tf.float32)\n",
    "b = tf.matmul(A, x)\n",
    "print(A.shape)\n",
    "print(x.shape)\n",
    "print(b.shape)\n",
    "tf.print(b)"
   ]
  },
  {
   "cell_type": "code",
   "execution_count": 21,
   "id": "10e8f626",
   "metadata": {},
   "outputs": [
    {
     "ename": "NameError",
     "evalue": "name 'tf' is not defined",
     "output_type": "error",
     "traceback": [
      "\u001b[1;31m---------------------------------------------------------------------------\u001b[0m",
      "\u001b[1;31mNameError\u001b[0m                                 Traceback (most recent call last)",
      "\u001b[1;32m<ipython-input-21-8d6910ee9b7b>\u001b[0m in \u001b[0;36m<module>\u001b[1;34m\u001b[0m\n\u001b[1;32m----> 1\u001b[1;33m \u001b[0mA\u001b[0m \u001b[1;33m=\u001b[0m \u001b[0mtf\u001b[0m\u001b[1;33m.\u001b[0m\u001b[0mVariable\u001b[0m\u001b[1;33m(\u001b[0m\u001b[0mnp\u001b[0m\u001b[1;33m.\u001b[0m\u001b[0marray\u001b[0m\u001b[1;33m(\u001b[0m \u001b[1;33m[\u001b[0m \u001b[1;33m[\u001b[0m\u001b[1;36m1\u001b[0m\u001b[1;33m,\u001b[0m \u001b[1;36m4\u001b[0m\u001b[1;33m]\u001b[0m\u001b[1;33m,\u001b[0m \u001b[1;33m[\u001b[0m\u001b[1;36m9\u001b[0m\u001b[1;33m,\u001b[0m\u001b[1;36m5\u001b[0m\u001b[1;33m]\u001b[0m \u001b[1;33m]\u001b[0m \u001b[1;33m)\u001b[0m\u001b[1;33m,\u001b[0m\u001b[0mdtype\u001b[0m \u001b[1;33m=\u001b[0m \u001b[0mtf\u001b[0m\u001b[1;33m.\u001b[0m\u001b[0mfloat32\u001b[0m\u001b[1;33m)\u001b[0m\u001b[1;33m\u001b[0m\u001b[1;33m\u001b[0m\u001b[0m\n\u001b[0m\u001b[0;32m      2\u001b[0m \u001b[0mx\u001b[0m \u001b[1;33m=\u001b[0m \u001b[0mtf\u001b[0m\u001b[1;33m.\u001b[0m\u001b[0mVariable\u001b[0m\u001b[1;33m(\u001b[0m\u001b[0mnp\u001b[0m\u001b[1;33m.\u001b[0m\u001b[0marray\u001b[0m\u001b[1;33m(\u001b[0m \u001b[1;33m[\u001b[0m \u001b[1;33m[\u001b[0m\u001b[1;36m1\u001b[0m\u001b[1;33m]\u001b[0m\u001b[1;33m,\u001b[0m \u001b[1;33m[\u001b[0m\u001b[1;36m2\u001b[0m\u001b[1;33m]\u001b[0m \u001b[1;33m]\u001b[0m \u001b[1;33m)\u001b[0m\u001b[1;33m,\u001b[0m \u001b[0mdtype\u001b[0m \u001b[1;33m=\u001b[0m \u001b[0mtf\u001b[0m\u001b[1;33m.\u001b[0m\u001b[0mfloat32\u001b[0m\u001b[1;33m)\u001b[0m\u001b[1;33m\u001b[0m\u001b[1;33m\u001b[0m\u001b[0m\n\u001b[0;32m      3\u001b[0m \u001b[0mb\u001b[0m \u001b[1;33m=\u001b[0m \u001b[0mtf\u001b[0m\u001b[1;33m.\u001b[0m\u001b[0mmatmul\u001b[0m\u001b[1;33m(\u001b[0m\u001b[0mA\u001b[0m\u001b[1;33m,\u001b[0m \u001b[0mx\u001b[0m\u001b[1;33m)\u001b[0m\u001b[1;33m\u001b[0m\u001b[1;33m\u001b[0m\u001b[0m\n\u001b[0;32m      4\u001b[0m \u001b[0mprint\u001b[0m\u001b[1;33m(\u001b[0m\u001b[0mA\u001b[0m\u001b[1;33m.\u001b[0m\u001b[0mshape\u001b[0m\u001b[1;33m)\u001b[0m\u001b[1;33m\u001b[0m\u001b[1;33m\u001b[0m\u001b[0m\n\u001b[0;32m      5\u001b[0m \u001b[0mprint\u001b[0m\u001b[1;33m(\u001b[0m\u001b[0mx\u001b[0m\u001b[1;33m.\u001b[0m\u001b[0mshape\u001b[0m\u001b[1;33m)\u001b[0m\u001b[1;33m\u001b[0m\u001b[1;33m\u001b[0m\u001b[0m\n",
      "\u001b[1;31mNameError\u001b[0m: name 'tf' is not defined"
     ]
    }
   ],
   "source": [
    "A = tf.Variable(np.array( [ [1, 4], [9,5] ] ),dtype = tf.float32)\n",
    "x = tf.Variable(np.array( [ [1], [2] ] ), dtype = tf.float32)\n",
    "b = tf.matmul(A, x)\n",
    "print(A.shape)\n",
    "print(x.shape)\n",
    "print(b.shape)\n",
    "tf.print(b)"
   ]
  },
  {
   "cell_type": "code",
   "execution_count": null,
   "id": "8f853215",
   "metadata": {},
   "outputs": [],
   "source": []
  }
 ],
 "metadata": {
  "kernelspec": {
   "display_name": "Python 3",
   "language": "python",
   "name": "python3"
  },
  "language_info": {
   "codemirror_mode": {
    "name": "ipython",
    "version": 3
   },
   "file_extension": ".py",
   "mimetype": "text/x-python",
   "name": "python",
   "nbconvert_exporter": "python",
   "pygments_lexer": "ipython3",
   "version": "3.8.8"
  }
 },
 "nbformat": 4,
 "nbformat_minor": 5
}
