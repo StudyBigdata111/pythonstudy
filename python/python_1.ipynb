{
  "nbformat": 4,
  "nbformat_minor": 5,
  "metadata": {
    "kernelspec": {
      "display_name": "Python 3",
      "language": "python",
      "name": "python3"
    },
    "language_info": {
      "codemirror_mode": {
        "name": "ipython",
        "version": 3
      },
      "file_extension": ".py",
      "mimetype": "text/x-python",
      "name": "python",
      "nbconvert_exporter": "python",
      "pygments_lexer": "ipython3",
      "version": "3.8.8"
    },
    "colab": {
      "name": "python_1.ipynb",
      "provenance": []
    }
  },
  "cells": [
    {
      "cell_type": "markdown",
      "metadata": {
        "id": "9f6a933e"
      },
      "source": [
        "## Hello, world! 출력\n",
        "print 함수로 Hello, world!를 출력합니다"
      ],
      "id": "9f6a933e"
    },
    {
      "cell_type": "code",
      "metadata": {
        "id": "c80f9fc8",
        "outputId": "5007a60d-a22b-49e3-f9ae-01fea30dcd50"
      },
      "source": [
        "print(\"hello\")"
      ],
      "id": "c80f9fc8",
      "execution_count": null,
      "outputs": [
        {
          "name": "stdout",
          "output_type": "stream",
          "text": [
            "hello\n"
          ]
        }
      ]
    },
    {
      "cell_type": "code",
      "metadata": {
        "id": "4a398032",
        "outputId": "0fe4120e-7840-4037-9166-7ce23ce90264"
      },
      "source": [
        "from bs4 import BeatutifulSoup\n",
        "\n",
        "import bs4.tests"
      ],
      "id": "4a398032",
      "execution_count": null,
      "outputs": [
        {
          "ename": "ImportError",
          "evalue": "cannot import name 'BeatutifulSoup' from 'bs4' (C:\\Users\\TFG5076XG\\anaconda3\\lib\\site-packages\\bs4\\__init__.py)",
          "output_type": "error",
          "traceback": [
            "\u001b[1;31m---------------------------------------------------------------------------\u001b[0m",
            "\u001b[1;31mImportError\u001b[0m                               Traceback (most recent call last)",
            "\u001b[1;32m<ipython-input-2-34fa1f9f48d5>\u001b[0m in \u001b[0;36m<module>\u001b[1;34m\u001b[0m\n\u001b[1;32m----> 1\u001b[1;33m \u001b[1;32mfrom\u001b[0m \u001b[0mbs4\u001b[0m \u001b[1;32mimport\u001b[0m \u001b[0mBeatutifulSoup\u001b[0m\u001b[1;33m\u001b[0m\u001b[1;33m\u001b[0m\u001b[0m\n\u001b[0m\u001b[0;32m      2\u001b[0m \u001b[1;33m\u001b[0m\u001b[0m\n\u001b[0;32m      3\u001b[0m \u001b[1;32mimport\u001b[0m \u001b[0mbs4\u001b[0m\u001b[1;33m.\u001b[0m\u001b[0mtests\u001b[0m\u001b[1;33m\u001b[0m\u001b[1;33m\u001b[0m\u001b[0m\n",
            "\u001b[1;31mImportError\u001b[0m: cannot import name 'BeatutifulSoup' from 'bs4' (C:\\Users\\TFG5076XG\\anaconda3\\lib\\site-packages\\bs4\\__init__.py)"
          ]
        }
      ]
    },
    {
      "cell_type": "code",
      "metadata": {
        "id": "ca24b0f9",
        "outputId": "d1d86ff3-b1b4-476d-c872-318c09184de0"
      },
      "source": [
        "a = 3\n",
        "print(a)"
      ],
      "id": "ca24b0f9",
      "execution_count": null,
      "outputs": [
        {
          "name": "stdout",
          "output_type": "stream",
          "text": [
            "3\n"
          ]
        }
      ]
    },
    {
      "cell_type": "code",
      "metadata": {
        "id": "48706b7e",
        "outputId": "eb137c07-7682-4327-c697-74227118d051"
      },
      "source": [
        "a = \"a\"\n",
        "A = \"1\"\n",
        "print(a)\n",
        "print(A)"
      ],
      "id": "48706b7e",
      "execution_count": null,
      "outputs": [
        {
          "name": "stdout",
          "output_type": "stream",
          "text": [
            "a\n",
            "1\n"
          ]
        }
      ]
    },
    {
      "cell_type": "code",
      "metadata": {
        "id": "fe87292e",
        "outputId": "0563fde3-e4b6-48d3-b5b6-426af95ace2f"
      },
      "source": [
        "print (a)"
      ],
      "id": "fe87292e",
      "execution_count": null,
      "outputs": [
        {
          "name": "stdout",
          "output_type": "stream",
          "text": [
            "a\n"
          ]
        }
      ]
    },
    {
      "cell_type": "code",
      "metadata": {
        "id": "ff4c1814",
        "outputId": "7197a84a-38d6-4a60-a0f0-bd71f14fbf6e"
      },
      "source": [
        "type(a)"
      ],
      "id": "ff4c1814",
      "execution_count": null,
      "outputs": [
        {
          "data": {
            "text/plain": [
              "str"
            ]
          },
          "execution_count": 6,
          "metadata": {},
          "output_type": "execute_result"
        }
      ]
    },
    {
      "cell_type": "code",
      "metadata": {
        "id": "2d69a608",
        "outputId": "1c6ee4cd-af2f-4b3e-ccaf-e27096bd55dd"
      },
      "source": [
        "print(type(a))"
      ],
      "id": "2d69a608",
      "execution_count": null,
      "outputs": [
        {
          "name": "stdout",
          "output_type": "stream",
          "text": [
            "<class 'str'>\n"
          ]
        }
      ]
    },
    {
      "cell_type": "code",
      "metadata": {
        "id": "5ba01608",
        "outputId": "cc6a8cf7-a7ac-4a32-d7ca-a986ec9b1837"
      },
      "source": [
        "a = 3\n",
        "print(type(a))\n",
        "a = 3.11111\n",
        "print(type(a))\n",
        "a = \"1234\"\n",
        "print(type(a))"
      ],
      "id": "5ba01608",
      "execution_count": null,
      "outputs": [
        {
          "name": "stdout",
          "output_type": "stream",
          "text": [
            "<class 'int'>\n",
            "<class 'float'>\n",
            "<class 'str'>\n"
          ]
        }
      ]
    },
    {
      "cell_type": "code",
      "metadata": {
        "id": "007727fb",
        "outputId": "0f8188ed-5178-4bcd-8ad7-7a8fd8c3469e"
      },
      "source": [
        "print(5/3)\n",
        "print(5//3)\n",
        "print(5 % 3)"
      ],
      "id": "007727fb",
      "execution_count": null,
      "outputs": [
        {
          "name": "stdout",
          "output_type": "stream",
          "text": [
            "1.6666666666666667\n",
            "1\n",
            "2\n"
          ]
        }
      ]
    },
    {
      "cell_type": "code",
      "metadata": {
        "id": "9d36c427",
        "outputId": "07d90323-e7f1-4f09-81f6-847f5cf0b51d"
      },
      "source": [
        "print(5**3)"
      ],
      "id": "9d36c427",
      "execution_count": null,
      "outputs": [
        {
          "name": "stdout",
          "output_type": "stream",
          "text": [
            "125\n"
          ]
        }
      ]
    },
    {
      "cell_type": "code",
      "metadata": {
        "id": "57c57911",
        "outputId": "5bb23c3b-9b4c-455f-facf-ec2f91338fe1"
      },
      "source": [
        "a = 3\n",
        "b = 2\n",
        "a & b"
      ],
      "id": "57c57911",
      "execution_count": null,
      "outputs": [
        {
          "data": {
            "text/plain": [
              "2"
            ]
          },
          "execution_count": 12,
          "metadata": {},
          "output_type": "execute_result"
        }
      ]
    },
    {
      "cell_type": "code",
      "metadata": {
        "id": "4f56d473",
        "outputId": "d686cd9c-0927-4085-b65a-2c5acfc6228c"
      },
      "source": [
        "print(a & b)"
      ],
      "id": "4f56d473",
      "execution_count": null,
      "outputs": [
        {
          "name": "stdout",
          "output_type": "stream",
          "text": [
            "2\n"
          ]
        }
      ]
    },
    {
      "cell_type": "code",
      "metadata": {
        "id": "da358103",
        "outputId": "85edddc8-4eb8-43fc-bcda-c89377aa8052"
      },
      "source": [
        "print(a)"
      ],
      "id": "da358103",
      "execution_count": null,
      "outputs": [
        {
          "name": "stdout",
          "output_type": "stream",
          "text": [
            "3\n"
          ]
        }
      ]
    },
    {
      "cell_type": "code",
      "metadata": {
        "id": "74f6fd6d",
        "outputId": "8d637877-28a0-40ad-ad82-6bfac27d9683"
      },
      "source": [
        "print(b)"
      ],
      "id": "74f6fd6d",
      "execution_count": null,
      "outputs": [
        {
          "name": "stdout",
          "output_type": "stream",
          "text": [
            "2\n"
          ]
        }
      ]
    },
    {
      "cell_type": "code",
      "metadata": {
        "id": "840ba1ff",
        "outputId": "301cbf6f-30f8-47f2-f2df-a4aab0f76642"
      },
      "source": [
        "print(a==b)"
      ],
      "id": "840ba1ff",
      "execution_count": null,
      "outputs": [
        {
          "name": "stdout",
          "output_type": "stream",
          "text": [
            "False\n"
          ]
        }
      ]
    },
    {
      "cell_type": "code",
      "metadata": {
        "id": "0132a447",
        "outputId": "1383efc1-ad66-4ecc-89f8-ecb15428a365"
      },
      "source": [
        "print(a|b)"
      ],
      "id": "0132a447",
      "execution_count": null,
      "outputs": [
        {
          "name": "stdout",
          "output_type": "stream",
          "text": [
            "3\n"
          ]
        }
      ]
    },
    {
      "cell_type": "code",
      "metadata": {
        "id": "9d914640",
        "outputId": "54335290-610e-4f4f-9adc-e9647b01e624"
      },
      "source": [
        "print(a==3 & b ==2)"
      ],
      "id": "9d914640",
      "execution_count": null,
      "outputs": [
        {
          "name": "stdout",
          "output_type": "stream",
          "text": [
            "False\n"
          ]
        }
      ]
    },
    {
      "cell_type": "code",
      "metadata": {
        "id": "e45b9e1a",
        "outputId": "3167fe53-b27b-4ed6-f42f-c5fb2d457e34"
      },
      "source": [
        "print(a == 3)"
      ],
      "id": "e45b9e1a",
      "execution_count": null,
      "outputs": [
        {
          "name": "stdout",
          "output_type": "stream",
          "text": [
            "True\n"
          ]
        }
      ]
    },
    {
      "cell_type": "code",
      "metadata": {
        "id": "81d38d3c",
        "outputId": "11956769-12a4-415c-c3a7-61c731fbde8a"
      },
      "source": [
        "print(b == 2)"
      ],
      "id": "81d38d3c",
      "execution_count": null,
      "outputs": [
        {
          "name": "stdout",
          "output_type": "stream",
          "text": [
            "True\n"
          ]
        }
      ]
    },
    {
      "cell_type": "code",
      "metadata": {
        "id": "524bc9b2",
        "outputId": "d5bcb092-b9d0-443b-aec1-e95c92387474"
      },
      "source": [
        "print(a == 3 | b == 2)"
      ],
      "id": "524bc9b2",
      "execution_count": null,
      "outputs": [
        {
          "name": "stdout",
          "output_type": "stream",
          "text": [
            "False\n"
          ]
        }
      ]
    },
    {
      "cell_type": "code",
      "metadata": {
        "id": "24cd83d7",
        "outputId": "e67a7c37-2295-4a05-d07a-b2f5ad18b6c3"
      },
      "source": [
        "print (a == 3 and b == 2)"
      ],
      "id": "24cd83d7",
      "execution_count": null,
      "outputs": [
        {
          "name": "stdout",
          "output_type": "stream",
          "text": [
            "True\n"
          ]
        }
      ]
    },
    {
      "cell_type": "code",
      "metadata": {
        "id": "282f46a1",
        "outputId": "4e67636c-b0c5-4d51-8143-dade739980ee"
      },
      "source": [
        "a = 'aaaa'\n",
        "b = \"abcd\"\n",
        "c = '''ac \"helloe\" bd'''\n",
        "print(c)"
      ],
      "id": "282f46a1",
      "execution_count": null,
      "outputs": [
        {
          "name": "stdout",
          "output_type": "stream",
          "text": [
            "ac \"helloe\" bd\n"
          ]
        }
      ]
    },
    {
      "cell_type": "code",
      "metadata": {
        "id": "6ce2197e",
        "outputId": "5bd13bdd-7358-4e73-8dbb-70c755141069"
      },
      "source": [
        "c = \"\"\" \"WJAT!\"\\\" \"\"\"\n",
        "print(c)"
      ],
      "id": "6ce2197e",
      "execution_count": null,
      "outputs": [
        {
          "name": "stdout",
          "output_type": "stream",
          "text": [
            " \"WJAT!\"\" \n"
          ]
        }
      ]
    },
    {
      "cell_type": "code",
      "metadata": {
        "id": "1330fb18",
        "outputId": "31a879a4-c02b-492c-d2b4-0378f36586ce"
      },
      "source": [
        "[10, 20, 30, 'abd', [1, 2, 3]]"
      ],
      "id": "1330fb18",
      "execution_count": null,
      "outputs": [
        {
          "data": {
            "text/plain": [
              "[10, 20, 30, 'abd', [1, 2, 3]]"
            ]
          },
          "execution_count": 27,
          "metadata": {},
          "output_type": "execute_result"
        }
      ]
    },
    {
      "cell_type": "code",
      "metadata": {
        "id": "10ecaf12",
        "outputId": "19257109-94b4-4e22-83af-76a84a04e3b1"
      },
      "source": [
        "# 슬라이싱~~~ 시작 : 끝 : 간격\n",
        "a[0:3]"
      ],
      "id": "10ecaf12",
      "execution_count": null,
      "outputs": [
        {
          "data": {
            "text/plain": [
              "'aaa'"
            ]
          },
          "execution_count": 28,
          "metadata": {},
          "output_type": "execute_result"
        }
      ]
    },
    {
      "cell_type": "code",
      "metadata": {
        "id": "3e0ff351",
        "outputId": "24033779-2d26-4063-99d7-a9299e6bf201"
      },
      "source": [
        "a_list = [1,2,3,\"abcd\"]\n",
        "print(a_list)"
      ],
      "id": "3e0ff351",
      "execution_count": null,
      "outputs": [
        {
          "name": "stdout",
          "output_type": "stream",
          "text": [
            "[1, 2, 3, 'abcd']\n"
          ]
        }
      ]
    },
    {
      "cell_type": "code",
      "metadata": {
        "id": "41bca847",
        "outputId": "8259298d-ca53-4e80-8783-e14c99213f6b"
      },
      "source": [
        "a_list.append(\"a\")\n",
        "print(a_list)"
      ],
      "id": "41bca847",
      "execution_count": null,
      "outputs": [
        {
          "name": "stdout",
          "output_type": "stream",
          "text": [
            "[1, 2, 3, 'abcd', 'a']\n"
          ]
        }
      ]
    },
    {
      "cell_type": "code",
      "metadata": {
        "id": "6f44ba1e",
        "outputId": "c9fd1b27-1a2e-4616-8e20-8358cc9356b1"
      },
      "source": [
        "a_list.insert(2,\"b\")\n",
        "print(a_list)"
      ],
      "id": "6f44ba1e",
      "execution_count": null,
      "outputs": [
        {
          "name": "stdout",
          "output_type": "stream",
          "text": [
            "[1, 2, 'b', 3, 'abcd', 'a']\n"
          ]
        }
      ]
    },
    {
      "cell_type": "code",
      "metadata": {
        "id": "1add3997",
        "outputId": "1232b6ac-d008-40da-965d-73d61a89f08e"
      },
      "source": [
        "print (a_list)\n",
        "a_list.pop(3)\n",
        "print (a_list)"
      ],
      "id": "1add3997",
      "execution_count": null,
      "outputs": [
        {
          "name": "stdout",
          "output_type": "stream",
          "text": [
            "[1, 2, 'b', 3, 'abcd', 'a']\n",
            "[1, 2, 'b', 'abcd', 'a']\n"
          ]
        }
      ]
    },
    {
      "cell_type": "code",
      "metadata": {
        "id": "79ac41fe",
        "outputId": "1e0303c4-c4cd-4af7-a9a3-a2be4ded69b7"
      },
      "source": [
        "print(a_list)"
      ],
      "id": "79ac41fe",
      "execution_count": null,
      "outputs": [
        {
          "name": "stdout",
          "output_type": "stream",
          "text": [
            "[1, 2, 'b', 'abcd', 'a']\n"
          ]
        }
      ]
    },
    {
      "cell_type": "code",
      "metadata": {
        "id": "8cced370",
        "outputId": "b2c3e859-8c34-4ec9-8a5a-99eedaa87dda"
      },
      "source": [
        "a_list.remove(1)\n",
        "print(a_list)"
      ],
      "id": "8cced370",
      "execution_count": null,
      "outputs": [
        {
          "name": "stdout",
          "output_type": "stream",
          "text": [
            "[2, 'b', 'abcd', 'a']\n"
          ]
        }
      ]
    },
    {
      "cell_type": "code",
      "metadata": {
        "id": "3eb3fcd9",
        "outputId": "8af9f921-f4b5-4ab6-ae03-b6e71a01ef7f"
      },
      "source": [
        "a_list[1::2]"
      ],
      "id": "3eb3fcd9",
      "execution_count": null,
      "outputs": [
        {
          "data": {
            "text/plain": [
              "['b', 'a']"
            ]
          },
          "execution_count": 36,
          "metadata": {},
          "output_type": "execute_result"
        }
      ]
    },
    {
      "cell_type": "code",
      "metadata": {
        "id": "dc4e7aa8",
        "outputId": "35ebe9e4-527e-420f-a27a-8f2f5088e31b"
      },
      "source": [
        "print(a_list[1::2])"
      ],
      "id": "dc4e7aa8",
      "execution_count": null,
      "outputs": [
        {
          "name": "stdout",
          "output_type": "stream",
          "text": [
            "['b', 'a']\n"
          ]
        }
      ]
    },
    {
      "cell_type": "code",
      "metadata": {
        "id": "4bf7f8e4",
        "outputId": "6dda7155-93c7-4ff4-e701-5392876f6b27"
      },
      "source": [
        "print(a_list[1::1])"
      ],
      "id": "4bf7f8e4",
      "execution_count": null,
      "outputs": [
        {
          "name": "stdout",
          "output_type": "stream",
          "text": [
            "['b', 'abcd', 'a']\n"
          ]
        }
      ]
    },
    {
      "cell_type": "code",
      "metadata": {
        "id": "55d7cdae",
        "outputId": "ef9d1b41-21e2-4fe0-9808-ccb7c635b289"
      },
      "source": [
        "print(a_list[1::3])"
      ],
      "id": "55d7cdae",
      "execution_count": null,
      "outputs": [
        {
          "name": "stdout",
          "output_type": "stream",
          "text": [
            "['b']\n"
          ]
        }
      ]
    },
    {
      "cell_type": "code",
      "metadata": {
        "id": "848ff645",
        "outputId": "cd447ea2-8bfa-4010-ac4e-f87c94e97f97"
      },
      "source": [
        "print(a_list[1::4])"
      ],
      "id": "848ff645",
      "execution_count": null,
      "outputs": [
        {
          "name": "stdout",
          "output_type": "stream",
          "text": [
            "['b']\n"
          ]
        }
      ]
    },
    {
      "cell_type": "code",
      "metadata": {
        "id": "3321e31d",
        "outputId": "c48483c6-c83b-4d03-8d32-51653561703f"
      },
      "source": [
        "print(a_list[0::1])"
      ],
      "id": "3321e31d",
      "execution_count": null,
      "outputs": [
        {
          "name": "stdout",
          "output_type": "stream",
          "text": [
            "[2, 'b', 'abcd', 'a']\n"
          ]
        }
      ]
    },
    {
      "cell_type": "code",
      "metadata": {
        "id": "c35e10db",
        "outputId": "a5001db7-974e-44a5-fc31-2aecdd58a287"
      },
      "source": [
        "print(a_list[0::3])"
      ],
      "id": "c35e10db",
      "execution_count": null,
      "outputs": [
        {
          "name": "stdout",
          "output_type": "stream",
          "text": [
            "[2, 'a']\n"
          ]
        }
      ]
    },
    {
      "cell_type": "code",
      "metadata": {
        "id": "a19a6b28",
        "outputId": "6b53519d-5086-4e78-c9cc-9306df275730"
      },
      "source": [
        "print(a_list[0::2])"
      ],
      "id": "a19a6b28",
      "execution_count": null,
      "outputs": [
        {
          "name": "stdout",
          "output_type": "stream",
          "text": [
            "[2, 'abcd']\n"
          ]
        }
      ]
    },
    {
      "cell_type": "code",
      "metadata": {
        "id": "d00524b6",
        "outputId": "a52c5971-08e7-4545-881e-5bff51baa557"
      },
      "source": [
        "print(a_list[0::4])"
      ],
      "id": "d00524b6",
      "execution_count": null,
      "outputs": [
        {
          "name": "stdout",
          "output_type": "stream",
          "text": [
            "[2]\n"
          ]
        }
      ]
    },
    {
      "cell_type": "code",
      "metadata": {
        "id": "df35e002",
        "outputId": "d3d911b1-66c9-4b6c-b60f-11dff8fed51a"
      },
      "source": [
        "print(a_list[::1])"
      ],
      "id": "df35e002",
      "execution_count": null,
      "outputs": [
        {
          "name": "stdout",
          "output_type": "stream",
          "text": [
            "[2, 'b', 'abcd', 'a']\n"
          ]
        }
      ]
    },
    {
      "cell_type": "code",
      "metadata": {
        "id": "a6d85e3e",
        "outputId": "e9150870-1672-4084-e761-2f51f498ef1c"
      },
      "source": [
        "print(a_list[::-1])"
      ],
      "id": "a6d85e3e",
      "execution_count": null,
      "outputs": [
        {
          "name": "stdout",
          "output_type": "stream",
          "text": [
            "['a', 'abcd', 'b', 2]\n"
          ]
        }
      ]
    },
    {
      "cell_type": "code",
      "metadata": {
        "id": "0834e234",
        "outputId": "fdf4b421-5c3b-427b-e52f-5978cfeec2bf"
      },
      "source": [
        "a_dict = {키 : 값, 키2 : 값2}"
      ],
      "id": "0834e234",
      "execution_count": null,
      "outputs": [
        {
          "ename": "NameError",
          "evalue": "name '키' is not defined",
          "output_type": "error",
          "traceback": [
            "\u001b[1;31m---------------------------------------------------------------------------\u001b[0m",
            "\u001b[1;31mNameError\u001b[0m                                 Traceback (most recent call last)",
            "\u001b[1;32m<ipython-input-48-5df6bbe0726b>\u001b[0m in \u001b[0;36m<module>\u001b[1;34m\u001b[0m\n\u001b[1;32m----> 1\u001b[1;33m \u001b[0ma_dict\u001b[0m \u001b[1;33m=\u001b[0m \u001b[1;33m{\u001b[0m\u001b[0m키\u001b[0m \u001b[1;33m:\u001b[0m \u001b[0m값\u001b[0m\u001b[1;33m,\u001b[0m \u001b[0m키2\u001b[0m \u001b[1;33m:\u001b[0m \u001b[0m값2\u001b[0m\u001b[1;33m}\u001b[0m\u001b[1;33m\u001b[0m\u001b[1;33m\u001b[0m\u001b[0m\n\u001b[0m",
            "\u001b[1;31mNameError\u001b[0m: name '키' is not defined"
          ]
        }
      ]
    },
    {
      "cell_type": "code",
      "metadata": {
        "id": "ce554dc7"
      },
      "source": [
        "a_dict = {'a':1234, 'b':5678}"
      ],
      "id": "ce554dc7",
      "execution_count": null,
      "outputs": []
    },
    {
      "cell_type": "code",
      "metadata": {
        "id": "39aa54cd",
        "outputId": "cd16464d-892f-457c-bf04-8078a6818ed1"
      },
      "source": [
        "print(a_dict)"
      ],
      "id": "39aa54cd",
      "execution_count": null,
      "outputs": [
        {
          "name": "stdout",
          "output_type": "stream",
          "text": [
            "{'a': 1234, 'b': 5678}\n"
          ]
        }
      ]
    },
    {
      "cell_type": "code",
      "metadata": {
        "id": "45310444",
        "outputId": "bccb5db2-7767-4c22-804c-2608ad1e8de6"
      },
      "source": [
        "a_dict.keys()"
      ],
      "id": "45310444",
      "execution_count": null,
      "outputs": [
        {
          "data": {
            "text/plain": [
              "dict_keys(['a', 'b'])"
            ]
          },
          "execution_count": 53,
          "metadata": {},
          "output_type": "execute_result"
        }
      ]
    },
    {
      "cell_type": "code",
      "metadata": {
        "id": "232650f6",
        "outputId": "a676b8b8-5762-41e4-83e5-dfc3dca45cda"
      },
      "source": [
        "print(a_dict.keys())"
      ],
      "id": "232650f6",
      "execution_count": null,
      "outputs": [
        {
          "name": "stdout",
          "output_type": "stream",
          "text": [
            "dict_keys(['a', 'b'])\n"
          ]
        }
      ]
    },
    {
      "cell_type": "code",
      "metadata": {
        "id": "4329c4fe",
        "outputId": "cb6f2e66-2c1e-467a-97fa-8145e22d24a3"
      },
      "source": [
        "print(a_dict.values())"
      ],
      "id": "4329c4fe",
      "execution_count": null,
      "outputs": [
        {
          "name": "stdout",
          "output_type": "stream",
          "text": [
            "dict_values([1234, 5678])\n"
          ]
        }
      ]
    },
    {
      "cell_type": "code",
      "metadata": {
        "id": "6f21e00d",
        "outputId": "d78eed59-430d-4031-b209-4ca5164e7590"
      },
      "source": [
        "print(a_dict[\"a\"])"
      ],
      "id": "6f21e00d",
      "execution_count": null,
      "outputs": [
        {
          "name": "stdout",
          "output_type": "stream",
          "text": [
            "1234\n"
          ]
        }
      ]
    },
    {
      "cell_type": "code",
      "metadata": {
        "id": "66fe89f1",
        "outputId": "3d52c1db-18f9-420d-c0c9-d6efed241310"
      },
      "source": [
        "for i in range(0, 4, 1):\n",
        "    print(i)"
      ],
      "id": "66fe89f1",
      "execution_count": null,
      "outputs": [
        {
          "name": "stdout",
          "output_type": "stream",
          "text": [
            "0\n",
            "1\n",
            "2\n",
            "3\n"
          ]
        }
      ]
    },
    {
      "cell_type": "code",
      "metadata": {
        "id": "d3d7aa41",
        "outputId": "2c1157ac-af36-43f3-8bde-8a823429f12f"
      },
      "source": [
        "for i in [\"a\", \"b\", \"c\"]:\n",
        "    print(i)"
      ],
      "id": "d3d7aa41",
      "execution_count": null,
      "outputs": [
        {
          "name": "stdout",
          "output_type": "stream",
          "text": [
            "a\n",
            "b\n",
            "c\n"
          ]
        }
      ]
    },
    {
      "cell_type": "code",
      "metadata": {
        "id": "636c9230",
        "outputId": "0ccec155-f95d-4970-c81c-a2cb6df2a776"
      },
      "source": [
        "a = [\"a\", \"b\", \"c\", \"d\", \"f\", \"g\", \"c\", \"i\"]\n",
        "# -> c원소만 제거를 해서...\n",
        "# b = [ \"a\", \"b\", \"d\", \"f\", \"g\", \"i\"]\n",
        "\n",
        "# 1) a의 모든 원소를 돌아가면서.... -> 값, 정수 인덱스\n",
        "# 2) \"C\"인지 아닌지 비교..\n",
        "# 3) \"C\" 이냐, 아니냐에 따라서~~~~~~~\n",
        "b = []\n",
        "for i in a:\n",
        "     if i != \"c\":\n",
        "         b.append(i)\n",
        "     \n",
        "print(b)\n",
        "         "
      ],
      "id": "636c9230",
      "execution_count": null,
      "outputs": [
        {
          "name": "stdout",
          "output_type": "stream",
          "text": [
            "['a', 'b', 'd', 'f', 'g', 'i']\n"
          ]
        }
      ]
    },
    {
      "cell_type": "code",
      "metadata": {
        "id": "213d956b",
        "outputId": "2361ec53-af40-464f-835c-6e49a4c8abb6"
      },
      "source": [
        "print(a)\n",
        "print(b)"
      ],
      "id": "213d956b",
      "execution_count": null,
      "outputs": [
        {
          "name": "stdout",
          "output_type": "stream",
          "text": [
            "['a', 'b', 'c', 'd', 'f', 'g', 'c', 'i']\n",
            "['a', 'b', 'd', 'f', 'g', 'i']\n"
          ]
        }
      ]
    },
    {
      "cell_type": "code",
      "metadata": {
        "id": "4598db64",
        "outputId": "7440550f-3627-4d93-ed5f-4b6f5e34c193"
      },
      "source": [
        "for i in range(0, len(a)):\n",
        "    print(a[i])"
      ],
      "id": "4598db64",
      "execution_count": null,
      "outputs": [
        {
          "name": "stdout",
          "output_type": "stream",
          "text": [
            "a\n",
            "b\n",
            "c\n",
            "d\n",
            "f\n",
            "g\n",
            "c\n",
            "i\n"
          ]
        }
      ]
    },
    {
      "cell_type": "code",
      "metadata": {
        "id": "6a4e9398",
        "outputId": "62abfb63-7508-42d2-9768-3b83569055be"
      },
      "source": [
        "for i in range(0, len(a)):\n",
        "    if(a[i] != \"c\"):\n",
        "        print(a[i])"
      ],
      "id": "6a4e9398",
      "execution_count": null,
      "outputs": [
        {
          "name": "stdout",
          "output_type": "stream",
          "text": [
            "a\n",
            "b\n",
            "d\n",
            "f\n",
            "g\n",
            "i\n"
          ]
        }
      ]
    },
    {
      "cell_type": "code",
      "metadata": {
        "id": "6d001de1",
        "outputId": "309796f8-fba7-44a1-e056-9b909bb76bbd"
      },
      "source": [
        "for i in range(0, len(a)):\n",
        "    if a[i] != \"c\":\n",
        "        print(a[i])"
      ],
      "id": "6d001de1",
      "execution_count": null,
      "outputs": [
        {
          "name": "stdout",
          "output_type": "stream",
          "text": [
            "a\n",
            "b\n",
            "d\n",
            "f\n",
            "g\n",
            "i\n"
          ]
        }
      ]
    },
    {
      "cell_type": "code",
      "metadata": {
        "id": "031f5543"
      },
      "source": [
        "b = []\n",
        "for i in range(0, len(a)):\n",
        "    if a[i] != \"c\":\n",
        "        b.append(a[i])\n",
        "    else:\n",
        "        pass"
      ],
      "id": "031f5543",
      "execution_count": null,
      "outputs": []
    },
    {
      "cell_type": "code",
      "metadata": {
        "id": "8a740cd2",
        "outputId": "fb34dce8-1bb7-4f3e-a174-22a94ed81e1f"
      },
      "source": [
        "b"
      ],
      "id": "8a740cd2",
      "execution_count": null,
      "outputs": [
        {
          "data": {
            "text/plain": [
              "['a', 'b', 'd', 'f', 'g', 'i']"
            ]
          },
          "execution_count": 73,
          "metadata": {},
          "output_type": "execute_result"
        }
      ]
    },
    {
      "cell_type": "code",
      "metadata": {
        "id": "a62c8a06",
        "outputId": "650dc979-0ff4-424f-a06a-41b896c53dc0"
      },
      "source": [
        "b = []\n",
        "for i in range(0, len(a)):\n",
        "    if a[i] != \"c\":\n",
        "        b.append(a[i])\n",
        "    else:\n",
        "        pass\n",
        "print(b)"
      ],
      "id": "a62c8a06",
      "execution_count": null,
      "outputs": [
        {
          "name": "stdout",
          "output_type": "stream",
          "text": [
            "['a', 'b', 'd', 'f', 'g', 'i']\n"
          ]
        }
      ]
    },
    {
      "cell_type": "code",
      "metadata": {
        "id": "741716bb"
      },
      "source": [
        "a = [['a', 'b', 'c', 'd'], 'f', 'g', ['c'], 'i']"
      ],
      "id": "741716bb",
      "execution_count": null,
      "outputs": []
    },
    {
      "cell_type": "code",
      "metadata": {
        "id": "b0de6d6e",
        "outputId": "4bc7352d-47e6-487f-f3b5-d87052b43831"
      },
      "source": [
        "a[0]"
      ],
      "id": "b0de6d6e",
      "execution_count": null,
      "outputs": [
        {
          "data": {
            "text/plain": [
              "['a', 'b', 'c', 'd']"
            ]
          },
          "execution_count": 77,
          "metadata": {},
          "output_type": "execute_result"
        }
      ]
    },
    {
      "cell_type": "code",
      "metadata": {
        "id": "82172bb0",
        "outputId": "64043659-6119-45b8-8fb4-5022c3b33e91"
      },
      "source": [
        "a[0][2]"
      ],
      "id": "82172bb0",
      "execution_count": null,
      "outputs": [
        {
          "data": {
            "text/plain": [
              "'c'"
            ]
          },
          "execution_count": 78,
          "metadata": {},
          "output_type": "execute_result"
        }
      ]
    },
    {
      "cell_type": "code",
      "metadata": {
        "id": "b7def1aa",
        "outputId": "5525e501-c2f4-4649-f746-2653944194a8"
      },
      "source": [
        "a[1]"
      ],
      "id": "b7def1aa",
      "execution_count": null,
      "outputs": [
        {
          "data": {
            "text/plain": [
              "'f'"
            ]
          },
          "execution_count": 79,
          "metadata": {},
          "output_type": "execute_result"
        }
      ]
    },
    {
      "cell_type": "code",
      "metadata": {
        "id": "e0d84100",
        "outputId": "ec1638bb-45cd-46e7-d894-6c6e5233a5e5"
      },
      "source": [
        "for i in a:\n",
        "    for j in i:\n",
        "        print(j)"
      ],
      "id": "e0d84100",
      "execution_count": null,
      "outputs": [
        {
          "name": "stdout",
          "output_type": "stream",
          "text": [
            "a\n",
            "b\n",
            "c\n",
            "d\n",
            "f\n",
            "g\n",
            "c\n",
            "i\n"
          ]
        }
      ]
    },
    {
      "cell_type": "code",
      "metadata": {
        "id": "e22348b7",
        "outputId": "686e653f-4bab-409d-a528-e766a26fb884"
      },
      "source": [
        "len(a)"
      ],
      "id": "e22348b7",
      "execution_count": null,
      "outputs": [
        {
          "data": {
            "text/plain": [
              "5"
            ]
          },
          "execution_count": 81,
          "metadata": {},
          "output_type": "execute_result"
        }
      ]
    },
    {
      "cell_type": "code",
      "metadata": {
        "id": "1c9fc736",
        "outputId": "691db925-5405-4735-dc8d-7ed67c8fc842"
      },
      "source": [
        "# 1) 정수인덱스로 해보기\n",
        "b = []\n",
        "for i in range(0, len(a)):\n",
        "    for j in range(0, len(a[i])):\n",
        "        if a[i][j] != \"c\":\n",
        "            b.append(a[i][j])\n",
        "        else:\n",
        "            pass\n",
        "        \n",
        "print(b)\n",
        "\n",
        "\n",
        "# 2) 값 자체로 해보기... --> for\n",
        "b = []\n",
        "for i in a:\n",
        "    for j in i:\n",
        "        if j != \"c\":\n",
        "            b.append(j)\n",
        "        else:\n",
        "            pass\n",
        "        \n",
        "print(b)\n",
        "        "
      ],
      "id": "1c9fc736",
      "execution_count": null,
      "outputs": [
        {
          "name": "stdout",
          "output_type": "stream",
          "text": [
            "['a', 'b', 'd', 'f', 'g', 'i']\n",
            "['a', 'b', 'd', 'f', 'g', 'i']\n"
          ]
        }
      ]
    },
    {
      "cell_type": "code",
      "metadata": {
        "id": "4db04b93",
        "outputId": "dc43f20b-4543-47f4-cff8-e85012ab5ec4"
      },
      "source": [
        "print(1 + 3 + 5)\n",
        "print( sum([1, 3, 5]) )"
      ],
      "id": "4db04b93",
      "execution_count": null,
      "outputs": [
        {
          "name": "stdout",
          "output_type": "stream",
          "text": [
            "9\n",
            "9\n"
          ]
        }
      ]
    },
    {
      "cell_type": "code",
      "metadata": {
        "id": "448298fd",
        "outputId": "0258aa83-646d-4a73-8402-dce8ef4c1c53"
      },
      "source": [
        "# 입력, 출력, 입출관계!!!!\n",
        "def sum2( a, b ): # 입력은 2개, a/b --> 왜냐 + 하는데, 이는 이항연산자여서...\n",
        "    # 입력 : a, b, 출력 : result ---> 입/출력의 관계~~~~~~\n",
        "    result = a + b\n",
        "    return result # return : 출력!!!!\n",
        "\n",
        "print( sum2(10, 30) )\n",
        "print(10 + 30)"
      ],
      "id": "448298fd",
      "execution_count": null,
      "outputs": [
        {
          "name": "stdout",
          "output_type": "stream",
          "text": [
            "40\n",
            "40\n"
          ]
        }
      ]
    },
    {
      "cell_type": "code",
      "metadata": {
        "id": "2a098017",
        "outputId": "8506b623-512d-4f77-be53-99983270f05b"
      },
      "source": [
        "def multiple2( a, b):\n",
        "    result = a * b\n",
        "    return result\n",
        "\n",
        "print( multiple2(2, 20) )"
      ],
      "id": "2a098017",
      "execution_count": null,
      "outputs": [
        {
          "name": "stdout",
          "output_type": "stream",
          "text": [
            "40\n"
          ]
        }
      ]
    },
    {
      "cell_type": "code",
      "metadata": {
        "id": "0f5744f1",
        "outputId": "cb489949-3302-413a-8e5b-d7eca71c4322"
      },
      "source": [
        "def noinput():\n",
        "    result = \"Hello\"\n",
        "    return result\n",
        "\n",
        "a = noinput()\n",
        "print(a)"
      ],
      "id": "0f5744f1",
      "execution_count": null,
      "outputs": [
        {
          "name": "stdout",
          "output_type": "stream",
          "text": [
            "Hello\n"
          ]
        }
      ]
    },
    {
      "cell_type": "code",
      "metadata": {
        "id": "8a929830",
        "outputId": "256c8644-694e-47e9-d02b-fa7b10da17df"
      },
      "source": [
        "def noreturn(a, b):\n",
        "    result = a + b\n",
        "    print(\"Hello \" + str(result))\n",
        "    \n",
        "a = noreturn(2, 3)\n",
        "print(a)"
      ],
      "id": "8a929830",
      "execution_count": null,
      "outputs": [
        {
          "name": "stdout",
          "output_type": "stream",
          "text": [
            "Hello 5\n",
            "None\n"
          ]
        }
      ]
    },
    {
      "cell_type": "code",
      "metadata": {
        "id": "a794f805",
        "outputId": "5f8786bb-9676-4a34-f84f-7555a1d0d21b"
      },
      "source": [
        "#def sumrandom( 몇개가 될 지 모르는 수들...):\n",
        "#    그 수들을 다 더해서....\n",
        "#    출력 : 그 더한 값을 내보내겠다..\n",
        "        \n",
        "def sumrandom( *args ):\n",
        "    result = 0\n",
        "    for i in args:\n",
        "        result += i     #result = result + i\n",
        "    return result\n",
        "\n",
        "print(sumrandom(1,2,3,4,5,6))\n",
        "print(sumrandom(10,20,30,40,50,60,70,80,90,100))"
      ],
      "id": "a794f805",
      "execution_count": null,
      "outputs": [
        {
          "name": "stdout",
          "output_type": "stream",
          "text": [
            "21\n",
            "550\n"
          ]
        }
      ]
    },
    {
      "cell_type": "code",
      "metadata": {
        "id": "e230fd7d",
        "outputId": "0693fb46-9f54-4e5e-ed84-6052e10b10b9"
      },
      "source": [
        "# 입력 : 내가 여러개의 숫자들, 대신, 몇 개일지는 미정...\n",
        "# ---> 그 입력 숫자들에 대해서 합도,,,, 몇 개인지도....\n",
        "# ---------------> 입력 : 기능(문자열로 \"sum\" / \"count\", 여러개의 숫자...)\n",
        "# aaa(\"sum\", 10, 20, 30) : 60\n",
        "# aaa(\"count\", 10, 20, 30) : 3\n",
        "    \n",
        "def myfunc(func, *args):\n",
        "    \n",
        "    if func == \"sum\":\n",
        "        result = 0\n",
        "        for i in args:\n",
        "            result += i\n",
        "        return result\n",
        "    elif func == \"count\":\n",
        "        return len(args)\n",
        "    else:\n",
        "        return \"No func!\"\n",
        "\n",
        "print(myfunc(\"sum\", 10, 20, 30))\n",
        "print(myfunc(\"count\", 10, 20, 30))\n",
        "print(myfunc(\"nono\", 10, 20 ,30))"
      ],
      "id": "e230fd7d",
      "execution_count": null,
      "outputs": [
        {
          "name": "stdout",
          "output_type": "stream",
          "text": [
            "60\n",
            "3\n",
            "No func!\n"
          ]
        }
      ]
    },
    {
      "cell_type": "code",
      "metadata": {
        "id": "9b9606e6",
        "outputId": "0e31bb4d-1986-45b7-a297-4ca6959dcaec"
      },
      "source": [
        "def multititi(a, b):\n",
        "    return a+b, a*b, a/b, a+b+20\n",
        "\n",
        "print(multititi(20, 30))"
      ],
      "id": "9b9606e6",
      "execution_count": null,
      "outputs": [
        {
          "name": "stdout",
          "output_type": "stream",
          "text": [
            "(50, 600, 0.6666666666666666, 70)\n"
          ]
        }
      ]
    },
    {
      "cell_type": "code",
      "metadata": {
        "id": "df109f8e"
      },
      "source": [
        "#df[\"new_id\"] = df[\"id\"].apply(lambda x : str(x)[:3])\n",
        "\n",
        "#for i in range(0, len(df)):\n",
        "#    df.iat[1, 0] = ~~~~~"
      ],
      "id": "df109f8e",
      "execution_count": null,
      "outputs": []
    },
    {
      "cell_type": "code",
      "metadata": {
        "id": "4090bd5d",
        "outputId": "21a239b0-1a25-470a-9416-c41684e6bbd3"
      },
      "source": [
        "def sum2(a, b):\n",
        "    return a + b\n",
        "\n",
        "print( sum2(10, 20) )\n",
        "\n",
        "print( (lambda x, y: x + y)(10, 20) )"
      ],
      "id": "4090bd5d",
      "execution_count": null,
      "outputs": [
        {
          "name": "stdout",
          "output_type": "stream",
          "text": [
            "30\n",
            "30\n"
          ]
        }
      ]
    },
    {
      "cell_type": "code",
      "metadata": {
        "id": "6cc7f964",
        "outputId": "59978ea2-ae5b-441e-8fe2-516d4c0e1eac"
      },
      "source": [
        "# 실습) 몇 개의 입력이 들어올지(단, 숫자로) 모르는 상황에서,\n",
        "# 입력한 값들에 대한 평균값을 계산하여 출력하는 함수를 만들어 보세요.\n",
        "# mean 이런 함수 사용하시지 마시구요~\n",
        "def mean2( *args ):\n",
        "    sum = 0\n",
        "    for i in args:\n",
        "        sum += i\n",
        "    ave = sum // len(args)\n",
        "    return ave\n",
        "\n",
        "print(mean2(10, 30, 50))\n",
        "print(mean2(20, 30))\n",
        "\n",
        "def mymean(*args):\n",
        "    #sum, 곱\n",
        "    result = 0\n",
        "    cnt = 0\n",
        "    for i in args:\n",
        "        result += i\n",
        "        cnt += 1\n",
        "    return result/cnt\n",
        "\n",
        "print(mymean(10, 30, 50))\n",
        "print(mymean(20, 30))"
      ],
      "id": "6cc7f964",
      "execution_count": null,
      "outputs": [
        {
          "name": "stdout",
          "output_type": "stream",
          "text": [
            "30\n",
            "25\n",
            "30.0\n",
            "25.0\n"
          ]
        }
      ]
    },
    {
      "cell_type": "code",
      "metadata": {
        "id": "96f7b173",
        "outputId": "5389a6b0-96f1-417d-a225-2cf6e49b41e4"
      },
      "source": [
        "a = {'A':30,\"B\":40}\n",
        "print(a.items())\n",
        "for k, v in a.items():\n",
        "    print(k)\n",
        "    print(v)\n",
        "    print('-----')\n",
        "    \n"
      ],
      "id": "96f7b173",
      "execution_count": null,
      "outputs": [
        {
          "name": "stdout",
          "output_type": "stream",
          "text": [
            "dict_items([('A', 30), ('B', 40)])\n",
            "A\n",
            "30\n",
            "-----\n",
            "B\n",
            "40\n",
            "-----\n"
          ]
        }
      ]
    },
    {
      "cell_type": "code",
      "metadata": {
        "id": "2454c675",
        "outputId": "f1daf353-4ff7-420b-acb6-5036b978b3ed"
      },
      "source": [
        "a = [1,2,3,4,5]\n",
        "print([ i+10 for i in a])\n",
        "print([ i+10 for i in a if i not in [2,4]])\n",
        "for i in a:\n",
        "    if i not in [2,4]:\n",
        "        print(i)"
      ],
      "id": "2454c675",
      "execution_count": null,
      "outputs": [
        {
          "name": "stdout",
          "output_type": "stream",
          "text": [
            "[11, 12, 13, 14, 15]\n",
            "[11, 13, 15]\n",
            "1\n",
            "3\n",
            "5\n"
          ]
        }
      ]
    },
    {
      "cell_type": "code",
      "metadata": {
        "id": "922e7cdf",
        "outputId": "bffe2861-38da-484f-9683-2609a37e2e9f"
      },
      "source": [
        "a = input()\n",
        "b = input()\n",
        "c = int(a)+int(b)\n",
        "print(c)"
      ],
      "id": "922e7cdf",
      "execution_count": null,
      "outputs": [
        {
          "name": "stdout",
          "output_type": "stream",
          "text": [
            "1\n",
            "2\n",
            "3\n"
          ]
        }
      ]
    },
    {
      "cell_type": "code",
      "metadata": {
        "id": "1b456bd6",
        "outputId": "28fb5565-dd00-445d-b33a-666ac23ba859"
      },
      "source": [
        "import sys\n",
        "N, X = map(int, input().split())\n",
        "\n",
        "a = []\n",
        "for i in range(N):\n",
        "    a.append(int(input()))\n",
        "    \n",
        "for i in len(a):\n",
        "    print(i)"
      ],
      "id": "1b456bd6",
      "execution_count": null,
      "outputs": [
        {
          "name": "stdout",
          "output_type": "stream",
          "text": [
            "2\n",
            "1 3\n",
            "3 4\n",
            "Case #1: 1 + 3 = 4\n",
            "Case #2: 3 + 4 = 7\n"
          ]
        }
      ]
    },
    {
      "cell_type": "code",
      "metadata": {
        "id": "7881c7ac",
        "outputId": "5cfccb2d-53c7-46ff-ec48-caa6030a2a27"
      },
      "source": [
        "import sys\n",
        "n, x = map(int, input().split())\n",
        "\n",
        "a = input().split(\" \")\n",
        "    \n",
        "s = \"\"\n",
        "for i in a:\n",
        "    if int(i) < x:\n",
        "        s += str(i) + \" \"\n",
        "        \n",
        "print(s)"
      ],
      "id": "7881c7ac",
      "execution_count": null,
      "outputs": [
        {
          "name": "stdout",
          "output_type": "stream",
          "text": [
            "10 5\n",
            "1 10 4 9 2 3 8 5 7 6\n",
            "1 4 2 3 \n"
          ]
        }
      ]
    },
    {
      "cell_type": "code",
      "metadata": {
        "id": "4b6d3ad0",
        "outputId": "2444c986-7dde-4f88-c35b-be8eb2afb69a"
      },
      "source": [
        "a = [1, 1]\n",
        "N = int(input())\n",
        "Move = input().upper().split(\" \")\n",
        "m = \"\"\n",
        "MoveDic = {\n",
        "    \"L\" : [0, -1],\n",
        "    \"R\" : [0, 1],\n",
        "    \"U\" : [-1, 0],\n",
        "    \"D\" : [1, 0]}\n",
        "\n",
        "for m in Move:\n",
        "    a[0] += MoveDic[m][0]\n",
        "    a[1] += MoveDic[m][1]\n",
        "    if a[0] > N:\n",
        "        a[0] = N\n",
        "    elif a[0] < 1:\n",
        "        a[0] = 1\n",
        "    if a[1] > N:\n",
        "        a[1] = N\n",
        "    elif a[1] < 1:\n",
        "        a[1] = 1\n",
        "\n",
        "    print(a[0],a[1])"
      ],
      "id": "4b6d3ad0",
      "execution_count": null,
      "outputs": [
        {
          "name": "stdout",
          "output_type": "stream",
          "text": [
            "5\n",
            "R R R R R\n",
            "1 2\n",
            "1 3\n",
            "1 4\n",
            "1 5\n",
            "5\n",
            "1 5\n"
          ]
        }
      ]
    },
    {
      "cell_type": "code",
      "metadata": {
        "id": "7b5a5cf6",
        "outputId": "a6bb16e6-3449-4608-e595-556a7bc7c19b"
      },
      "source": [
        "\n",
        "from random import randint\n",
        "\n",
        "a = []\n",
        "number = [1,2,3,4,5,6,7,8,9]\n",
        "numberSize = len(number)\n",
        "\n",
        "for j in range(0, 3):\n",
        "    numberSize -= 1\n",
        "    i = randint(0, numberSize)\n",
        "    print(number[i])\n",
        "    a.append(number[i])    \n",
        "    tmp = number[numberSize]\n",
        "    number[numberSize] = number[i]\n",
        "    number[i] = tmp\n",
        "\n",
        "print(number)\n",
        "print(a)"
      ],
      "id": "7b5a5cf6",
      "execution_count": null,
      "outputs": [
        {
          "name": "stdout",
          "output_type": "stream",
          "text": [
            "4\n",
            "9\n",
            "8\n",
            "[1, 2, 3, 7, 5, 6, 8, 9, 4]\n",
            "[4, 9, 8]\n"
          ]
        }
      ]
    },
    {
      "cell_type": "code",
      "metadata": {
        "id": "c28ab727"
      },
      "source": [
        "import pymysql\n"
      ],
      "id": "c28ab727",
      "execution_count": null,
      "outputs": []
    },
    {
      "cell_type": "code",
      "metadata": {
        "id": "576adc0b"
      },
      "source": [
        "#mysql이 동작하고 있어야 함!!!\n",
        "mysql_con = pymysql.connect(\n",
        "    user = \"root\", #사용자 계정\n",
        "    passwd = \"1234\", # 계정에 대한 비번\n",
        "    host = \"127.0.0.1\", # 접속할 ip 주소\n",
        "    db = \"sqldb\", # db이름..\n",
        "    #port번호 생략..\n",
        "    charset = \"utf8\" # 데이타가 한글 일 때, 파이썬에서 안깨지고 보려고.....\n",
        ")"
      ],
      "id": "576adc0b",
      "execution_count": null,
      "outputs": []
    },
    {
      "cell_type": "code",
      "metadata": {
        "id": "c4ece657"
      },
      "source": [
        "#연결\n",
        "my_cursor = mysql_con.cursor(pymysql.cursors.DictCursor)"
      ],
      "id": "c4ece657",
      "execution_count": null,
      "outputs": []
    },
    {
      "cell_type": "code",
      "metadata": {
        "id": "f6191372"
      },
      "source": [
        "# 요청할 쿼리문을 문자열로!!! -> ; 까지 포함해서!!!!\n",
        "sql = \"select * from usertbl;\""
      ],
      "id": "f6191372",
      "execution_count": null,
      "outputs": []
    },
    {
      "cell_type": "code",
      "metadata": {
        "id": "b9b8c9fb",
        "outputId": "95edba88-bd5d-4f28-fb6a-fe75edd3bb49"
      },
      "source": [
        "my_cursor.execute(sql)"
      ],
      "id": "b9b8c9fb",
      "execution_count": null,
      "outputs": [
        {
          "data": {
            "text/plain": [
              "10"
            ]
          },
          "execution_count": 48,
          "metadata": {},
          "output_type": "execute_result"
        }
      ]
    },
    {
      "cell_type": "code",
      "metadata": {
        "id": "57300a92"
      },
      "source": [
        "result = my_cursor.fetchall()"
      ],
      "id": "57300a92",
      "execution_count": null,
      "outputs": []
    },
    {
      "cell_type": "code",
      "metadata": {
        "id": "42fde54f",
        "outputId": "bf02f983-eb63-4437-d9eb-a3c1b923423c"
      },
      "source": [
        "result"
      ],
      "id": "42fde54f",
      "execution_count": null,
      "outputs": [
        {
          "data": {
            "text/plain": [
              "[{'userID': 'BBK',\n",
              "  'name': '바비킴',\n",
              "  'birthYear': 1973,\n",
              "  'addr': '서울',\n",
              "  'mobile1': '010',\n",
              "  'mobile2': '0000000',\n",
              "  'height': 176,\n",
              "  'mDate': datetime.date(2013, 5, 5)},\n",
              " {'userID': 'EJW',\n",
              "  'name': '은지원',\n",
              "  'birthYear': 1972,\n",
              "  'addr': '경북',\n",
              "  'mobile1': '011',\n",
              "  'mobile2': '8888888',\n",
              "  'height': 174,\n",
              "  'mDate': datetime.date(2014, 3, 3)},\n",
              " {'userID': 'JKW',\n",
              "  'name': '조관우',\n",
              "  'birthYear': 1965,\n",
              "  'addr': '경기',\n",
              "  'mobile1': '018',\n",
              "  'mobile2': '9999999',\n",
              "  'height': 172,\n",
              "  'mDate': datetime.date(2010, 10, 10)},\n",
              " {'userID': 'JYP',\n",
              "  'name': '조용필',\n",
              "  'birthYear': 1950,\n",
              "  'addr': '경기',\n",
              "  'mobile1': '011',\n",
              "  'mobile2': '4444444',\n",
              "  'height': 166,\n",
              "  'mDate': datetime.date(2009, 4, 4)},\n",
              " {'userID': 'KBS',\n",
              "  'name': '김범수',\n",
              "  'birthYear': 1979,\n",
              "  'addr': '경남',\n",
              "  'mobile1': '011',\n",
              "  'mobile2': '2222222',\n",
              "  'height': 173,\n",
              "  'mDate': datetime.date(2012, 4, 4)},\n",
              " {'userID': 'KKH',\n",
              "  'name': '김경호',\n",
              "  'birthYear': 1971,\n",
              "  'addr': '전남',\n",
              "  'mobile1': '019',\n",
              "  'mobile2': '3333333',\n",
              "  'height': 177,\n",
              "  'mDate': datetime.date(2007, 7, 7)},\n",
              " {'userID': 'LJB',\n",
              "  'name': '임재범',\n",
              "  'birthYear': 1963,\n",
              "  'addr': '서울',\n",
              "  'mobile1': '016',\n",
              "  'mobile2': '666666',\n",
              "  'height': 182,\n",
              "  'mDate': datetime.date(2009, 9, 9)},\n",
              " {'userID': 'LSG',\n",
              "  'name': '이승기',\n",
              "  'birthYear': 1987,\n",
              "  'addr': '서울',\n",
              "  'mobile1': '011',\n",
              "  'mobile2': '111111',\n",
              "  'height': 182,\n",
              "  'mDate': datetime.date(2008, 8, 8)},\n",
              " {'userID': 'SSK',\n",
              "  'name': '성시경',\n",
              "  'birthYear': 1979,\n",
              "  'addr': '서울',\n",
              "  'mobile1': None,\n",
              "  'mobile2': None,\n",
              "  'height': 186,\n",
              "  'mDate': datetime.date(2013, 12, 12)},\n",
              " {'userID': 'YJS',\n",
              "  'name': '윤종신',\n",
              "  'birthYear': 1969,\n",
              "  'addr': '경남',\n",
              "  'mobile1': None,\n",
              "  'mobile2': None,\n",
              "  'height': 170,\n",
              "  'mDate': datetime.date(2005, 5, 5)}]"
            ]
          },
          "execution_count": 50,
          "metadata": {},
          "output_type": "execute_result"
        }
      ]
    },
    {
      "cell_type": "code",
      "metadata": {
        "id": "2f43af7b"
      },
      "source": [
        "import pandas as pd"
      ],
      "id": "2f43af7b",
      "execution_count": null,
      "outputs": []
    },
    {
      "cell_type": "code",
      "metadata": {
        "id": "299e6986"
      },
      "source": [
        "result_df = pd.DataFrame(result)"
      ],
      "id": "299e6986",
      "execution_count": null,
      "outputs": []
    },
    {
      "cell_type": "code",
      "metadata": {
        "id": "1cfdd851",
        "outputId": "26300d17-5d24-41e8-cff9-9e104c167a06"
      },
      "source": [
        "result_df"
      ],
      "id": "1cfdd851",
      "execution_count": null,
      "outputs": [
        {
          "data": {
            "text/html": [
              "<div>\n",
              "<style scoped>\n",
              "    .dataframe tbody tr th:only-of-type {\n",
              "        vertical-align: middle;\n",
              "    }\n",
              "\n",
              "    .dataframe tbody tr th {\n",
              "        vertical-align: top;\n",
              "    }\n",
              "\n",
              "    .dataframe thead th {\n",
              "        text-align: right;\n",
              "    }\n",
              "</style>\n",
              "<table border=\"1\" class=\"dataframe\">\n",
              "  <thead>\n",
              "    <tr style=\"text-align: right;\">\n",
              "      <th></th>\n",
              "      <th>userID</th>\n",
              "      <th>name</th>\n",
              "      <th>birthYear</th>\n",
              "      <th>addr</th>\n",
              "      <th>mobile1</th>\n",
              "      <th>mobile2</th>\n",
              "      <th>height</th>\n",
              "      <th>mDate</th>\n",
              "    </tr>\n",
              "  </thead>\n",
              "  <tbody>\n",
              "    <tr>\n",
              "      <th>0</th>\n",
              "      <td>BBK</td>\n",
              "      <td>바비킴</td>\n",
              "      <td>1973</td>\n",
              "      <td>서울</td>\n",
              "      <td>010</td>\n",
              "      <td>0000000</td>\n",
              "      <td>176</td>\n",
              "      <td>2013-05-05</td>\n",
              "    </tr>\n",
              "    <tr>\n",
              "      <th>1</th>\n",
              "      <td>EJW</td>\n",
              "      <td>은지원</td>\n",
              "      <td>1972</td>\n",
              "      <td>경북</td>\n",
              "      <td>011</td>\n",
              "      <td>8888888</td>\n",
              "      <td>174</td>\n",
              "      <td>2014-03-03</td>\n",
              "    </tr>\n",
              "    <tr>\n",
              "      <th>2</th>\n",
              "      <td>JKW</td>\n",
              "      <td>조관우</td>\n",
              "      <td>1965</td>\n",
              "      <td>경기</td>\n",
              "      <td>018</td>\n",
              "      <td>9999999</td>\n",
              "      <td>172</td>\n",
              "      <td>2010-10-10</td>\n",
              "    </tr>\n",
              "    <tr>\n",
              "      <th>3</th>\n",
              "      <td>JYP</td>\n",
              "      <td>조용필</td>\n",
              "      <td>1950</td>\n",
              "      <td>경기</td>\n",
              "      <td>011</td>\n",
              "      <td>4444444</td>\n",
              "      <td>166</td>\n",
              "      <td>2009-04-04</td>\n",
              "    </tr>\n",
              "    <tr>\n",
              "      <th>4</th>\n",
              "      <td>KBS</td>\n",
              "      <td>김범수</td>\n",
              "      <td>1979</td>\n",
              "      <td>경남</td>\n",
              "      <td>011</td>\n",
              "      <td>2222222</td>\n",
              "      <td>173</td>\n",
              "      <td>2012-04-04</td>\n",
              "    </tr>\n",
              "    <tr>\n",
              "      <th>5</th>\n",
              "      <td>KKH</td>\n",
              "      <td>김경호</td>\n",
              "      <td>1971</td>\n",
              "      <td>전남</td>\n",
              "      <td>019</td>\n",
              "      <td>3333333</td>\n",
              "      <td>177</td>\n",
              "      <td>2007-07-07</td>\n",
              "    </tr>\n",
              "    <tr>\n",
              "      <th>6</th>\n",
              "      <td>LJB</td>\n",
              "      <td>임재범</td>\n",
              "      <td>1963</td>\n",
              "      <td>서울</td>\n",
              "      <td>016</td>\n",
              "      <td>666666</td>\n",
              "      <td>182</td>\n",
              "      <td>2009-09-09</td>\n",
              "    </tr>\n",
              "    <tr>\n",
              "      <th>7</th>\n",
              "      <td>LSG</td>\n",
              "      <td>이승기</td>\n",
              "      <td>1987</td>\n",
              "      <td>서울</td>\n",
              "      <td>011</td>\n",
              "      <td>111111</td>\n",
              "      <td>182</td>\n",
              "      <td>2008-08-08</td>\n",
              "    </tr>\n",
              "    <tr>\n",
              "      <th>8</th>\n",
              "      <td>SSK</td>\n",
              "      <td>성시경</td>\n",
              "      <td>1979</td>\n",
              "      <td>서울</td>\n",
              "      <td>None</td>\n",
              "      <td>None</td>\n",
              "      <td>186</td>\n",
              "      <td>2013-12-12</td>\n",
              "    </tr>\n",
              "    <tr>\n",
              "      <th>9</th>\n",
              "      <td>YJS</td>\n",
              "      <td>윤종신</td>\n",
              "      <td>1969</td>\n",
              "      <td>경남</td>\n",
              "      <td>None</td>\n",
              "      <td>None</td>\n",
              "      <td>170</td>\n",
              "      <td>2005-05-05</td>\n",
              "    </tr>\n",
              "  </tbody>\n",
              "</table>\n",
              "</div>"
            ],
            "text/plain": [
              "  userID name  birthYear addr mobile1  mobile2  height       mDate\n",
              "0    BBK  바비킴       1973   서울     010  0000000     176  2013-05-05\n",
              "1    EJW  은지원       1972   경북     011  8888888     174  2014-03-03\n",
              "2    JKW  조관우       1965   경기     018  9999999     172  2010-10-10\n",
              "3    JYP  조용필       1950   경기     011  4444444     166  2009-04-04\n",
              "4    KBS  김범수       1979   경남     011  2222222     173  2012-04-04\n",
              "5    KKH  김경호       1971   전남     019  3333333     177  2007-07-07\n",
              "6    LJB  임재범       1963   서울     016   666666     182  2009-09-09\n",
              "7    LSG  이승기       1987   서울     011   111111     182  2008-08-08\n",
              "8    SSK  성시경       1979   서울    None     None     186  2013-12-12\n",
              "9    YJS  윤종신       1969   경남    None     None     170  2005-05-05"
            ]
          },
          "execution_count": 53,
          "metadata": {},
          "output_type": "execute_result"
        }
      ]
    },
    {
      "cell_type": "code",
      "metadata": {
        "id": "3b629ca2",
        "outputId": "ccb0fc5f-3d01-4cd4-bad8-8b9d16b1e1b8"
      },
      "source": [
        "result_df.info()"
      ],
      "id": "3b629ca2",
      "execution_count": null,
      "outputs": [
        {
          "name": "stdout",
          "output_type": "stream",
          "text": [
            "<class 'pandas.core.frame.DataFrame'>\n",
            "RangeIndex: 10 entries, 0 to 9\n",
            "Data columns (total 8 columns):\n",
            " #   Column     Non-Null Count  Dtype \n",
            "---  ------     --------------  ----- \n",
            " 0   userID     10 non-null     object\n",
            " 1   name       10 non-null     object\n",
            " 2   birthYear  10 non-null     int64 \n",
            " 3   addr       10 non-null     object\n",
            " 4   mobile1    8 non-null      object\n",
            " 5   mobile2    8 non-null      object\n",
            " 6   height     10 non-null     int64 \n",
            " 7   mDate      10 non-null     object\n",
            "dtypes: int64(2), object(6)\n",
            "memory usage: 768.0+ bytes\n"
          ]
        }
      ]
    },
    {
      "cell_type": "code",
      "metadata": {
        "id": "601735f0",
        "outputId": "9f630d88-69ec-4ba7-ac6e-a8d195945368"
      },
      "source": [
        "arr = []\n",
        "for i in range(20):\n",
        "    arr.append(i)\n",
        "print(arr)\n",
        "##################################\n",
        "arr = [ i for i in range(20)]\n",
        "arr"
      ],
      "id": "601735f0",
      "execution_count": null,
      "outputs": [
        {
          "name": "stdout",
          "output_type": "stream",
          "text": [
            "[0, 1, 2, 3, 4, 5, 6, 7, 8, 9, 10, 11, 12, 13, 14, 15, 16, 17, 18, 19]\n"
          ]
        },
        {
          "data": {
            "text/plain": [
              "[0, 1, 2, 3, 4, 5, 6, 7, 8, 9, 10, 11, 12, 13, 14, 15, 16, 17, 18, 19]"
            ]
          },
          "execution_count": 5,
          "metadata": {},
          "output_type": "execute_result"
        }
      ]
    },
    {
      "cell_type": "code",
      "metadata": {
        "id": "ad6da62a",
        "outputId": "a32c4f82-650d-479e-e33e-73dff7efafc3"
      },
      "source": [
        "arr = []\n",
        "for i in range(20):\n",
        "    if i % 2 ==1:\n",
        "        arr.append(i)\n",
        "    else:\n",
        "        pass\n",
        "print(arr)\n",
        "###############################\n",
        "arr = [ i for i in range(20) if i%2 ==1]\n",
        "arr"
      ],
      "id": "ad6da62a",
      "execution_count": null,
      "outputs": [
        {
          "name": "stdout",
          "output_type": "stream",
          "text": [
            "[1, 3, 5, 7, 9, 11, 13, 15, 17, 19]\n"
          ]
        },
        {
          "data": {
            "text/plain": [
              "[1, 3, 5, 7, 9, 11, 13, 15, 17, 19]"
            ]
          },
          "execution_count": 2,
          "metadata": {},
          "output_type": "execute_result"
        }
      ]
    },
    {
      "cell_type": "code",
      "metadata": {
        "id": "1be69efe",
        "outputId": "20b8e8ef-8db7-442c-fd7b-c648fbe07bc6"
      },
      "source": [
        "# for에서 i 의 값을 사용\n",
        "sum = 0\n",
        "for i in range(1, 10):\n",
        "    sum += i\n",
        "print(sum)\n",
        "####################################\n",
        "# 단순 반복횟수에 대해서\n",
        "for _ in range(1,10):\n",
        "    print(\"hello\")"
      ],
      "id": "1be69efe",
      "execution_count": null,
      "outputs": [
        {
          "name": "stdout",
          "output_type": "stream",
          "text": [
            "45\n",
            "hello\n",
            "hello\n",
            "hello\n",
            "hello\n",
            "hello\n",
            "hello\n",
            "hello\n",
            "hello\n",
            "hello\n"
          ]
        }
      ]
    },
    {
      "cell_type": "code",
      "metadata": {
        "id": "e592ab9d",
        "outputId": "641090e4-50cc-4753-d53d-c1f5284efabd"
      },
      "source": [
        "a = input(\"입력하세요\")\n",
        "print(a)"
      ],
      "id": "e592ab9d",
      "execution_count": null,
      "outputs": [
        {
          "name": "stdout",
          "output_type": "stream",
          "text": [
            "입력하세요1\n",
            "1\n"
          ]
        }
      ]
    },
    {
      "cell_type": "code",
      "metadata": {
        "id": "d66e6005",
        "outputId": "fd62663c-c5b8-463d-b116-8af473bb821f"
      },
      "source": [
        "######################################################################\n",
        "##### 2개의 입력에 대한 구분 : 공란\n",
        "a ,b = input(\"입력하세요\").split()\n",
        "print(a)\n",
        "print(b)\n",
        "######################################################################\n",
        "\n",
        "\n",
        "######################################################################\n",
        "##### 2개의 입력이 특정한 문자로 구분:\n",
        "a ,b = input(\"입력하세요\").split(\"/\")\n",
        "print(a)\n",
        "print(b)\n",
        "######################################################################"
      ],
      "id": "d66e6005",
      "execution_count": null,
      "outputs": [
        {
          "name": "stdout",
          "output_type": "stream",
          "text": [
            "입력하세요10 20\n",
            "10\n",
            "20\n",
            "입력하세요10/20\n",
            "10\n",
            "20\n"
          ]
        }
      ]
    },
    {
      "cell_type": "code",
      "metadata": {
        "id": "5a7a23c9",
        "outputId": "3b3d2f65-06db-4122-bcba-413170abb2a9"
      },
      "source": [
        "######################################################################\n",
        "# 문제 제기) 아래와 같이 하면 편할 것 같은데,,,안 되네;;;;\n",
        "# 이유는 input은 기본적으로 문자열로 받아서 처리를 하기 때문!!\n",
        "a, b = input(\"더하기를 할 두 수를 공란으로 입력하세요..\").split()\n",
        "print(a+b)\n",
        "######################################################################"
      ],
      "id": "5a7a23c9",
      "execution_count": null,
      "outputs": [
        {
          "name": "stdout",
          "output_type": "stream",
          "text": [
            "더하기를 할 두 수를 공란으로 입력하세요..1 2\n",
            "12\n"
          ]
        }
      ]
    },
    {
      "cell_type": "code",
      "metadata": {
        "id": "9977d041",
        "outputId": "b92440d3-6eef-47fb-a6d2-cd01c7a1525f"
      },
      "source": [
        "a, b = input(\"더하기를 할 두 수를 공란으로 입력하세요..\").split()\n",
        "# 강제 형 변환\n",
        "a = int(a)\n",
        "b = int(b)\n",
        "print(a+b)"
      ],
      "id": "9977d041",
      "execution_count": null,
      "outputs": [
        {
          "name": "stdout",
          "output_type": "stream",
          "text": [
            "더하기를 할 두 수를 공란으로 입력하세요..1 2\n",
            "3\n"
          ]
        }
      ]
    },
    {
      "cell_type": "code",
      "metadata": {
        "id": "495f909c",
        "outputId": "a1d8f01f-dc41-4b0c-a46f-bb30502edbbe"
      },
      "source": [
        "def add_one(n): \n",
        "    return n + 1\n",
        "\n",
        "a = map(add_one, [1,2,3,4])\n",
        "print(a)\n",
        "a = list(a)\n",
        "print(a)\n",
        "\n",
        "list(map(add_one, [1,2,3,4]))"
      ],
      "id": "495f909c",
      "execution_count": null,
      "outputs": [
        {
          "name": "stdout",
          "output_type": "stream",
          "text": [
            "<map object at 0x000001CB01FCC850>\n",
            "[2, 3, 4, 5]\n"
          ]
        },
        {
          "data": {
            "text/plain": [
              "[2, 3, 4, 5]"
            ]
          },
          "execution_count": 16,
          "metadata": {},
          "output_type": "execute_result"
        }
      ]
    },
    {
      "cell_type": "code",
      "metadata": {
        "id": "7202447f",
        "outputId": "abec6e70-850c-49a5-96d6-adb29f263aa3"
      },
      "source": [
        "######################################################################\n",
        "##### 단순 공란으로\n",
        "a, b = map(int, input(\"더하기를 할 두 수를 공란으로 입력하세요..\").split())\n",
        "print(a + b)\n",
        "######################################################################\n",
        "\n",
        "######################################################################\n",
        "##### ,로 구분\n",
        "a, b = map(int, input(\"더하기를 할 두 수를 ,으로 입력하세요..\").split(\",\"))\n",
        "print(a + b)\n",
        "######################################################################\n",
        "\n"
      ],
      "id": "7202447f",
      "execution_count": null,
      "outputs": [
        {
          "name": "stdout",
          "output_type": "stream",
          "text": [
            "더하기를 할 두 수를 공란으로 입력하세요..1 2\n",
            "3\n",
            "더하기를 할 두 수를 ,으로 입력하세요..1 , 3\n",
            "4\n"
          ]
        }
      ]
    },
    {
      "cell_type": "code",
      "metadata": {
        "id": "e1709dcc",
        "outputId": "4fb106dd-ef3e-4ae4-a075-1998008eecdd"
      },
      "source": [
        "b = [\"aaa\",\"bbb\",\"ccc\"]\n",
        "for i,j in enumerate(b):\n",
        "\tprint(i)\n",
        "\tprint(j)"
      ],
      "id": "e1709dcc",
      "execution_count": null,
      "outputs": [
        {
          "name": "stdout",
          "output_type": "stream",
          "text": [
            "0\n",
            "aaa\n",
            "1\n",
            "bbb\n",
            "2\n",
            "ccc\n"
          ]
        }
      ]
    },
    {
      "cell_type": "code",
      "metadata": {
        "id": "8709106f",
        "outputId": "5d53521a-3c12-4e19-9ef4-7c0e748d8681"
      },
      "source": [
        "    b = [\"aaa\",\"bbb\",\"ccc\"]\n",
        "for i,j in enumerate(b, start =10):\n",
        "\tprint(i)\n",
        "\tprint(j)"
      ],
      "id": "8709106f",
      "execution_count": null,
      "outputs": [
        {
          "name": "stdout",
          "output_type": "stream",
          "text": [
            "10\n",
            "aaa\n",
            "11\n",
            "bbb\n",
            "12\n",
            "ccc\n"
          ]
        }
      ]
    },
    {
      "cell_type": "code",
      "metadata": {
        "id": "eb8e51bc",
        "outputId": "1fef0486-5e33-44e5-d86f-86d11d6c7eca"
      },
      "source": [
        "# 서로 다른 2개의 리스트를 합쳐서 순서대로 사용할 때 \n",
        "colors = [\"red\", \"green\", \"blue\", \"purple\"]\n",
        "ratios = [0.2, 0.3, 0.1, 0.4]\n",
        "for i, color in enumerate(colors):\n",
        "    ratio = ratios[i]\n",
        "    print(\"{}% {}\".format(ratio * 100, color))\n",
        "\n",
        "\n",
        "# 위의  enumerate가 아니라 2개의 서로 다른 리스트를 한 번에 하기위해서는\n",
        "# zip으로 묶어서 사용한다!!!!\n",
        "colors = [\"red\", \"green\", \"blue\", \"purple\"]\n",
        "ratios = [0.2, 0.3, 0.1, 0.4]\n",
        "for color, ratio in zip(colors, ratios):\n",
        "    print(\"{}% {}\".format(ratio * 100, color))"
      ],
      "id": "eb8e51bc",
      "execution_count": null,
      "outputs": [
        {
          "name": "stdout",
          "output_type": "stream",
          "text": [
            "20.0% red\n",
            "30.0% green\n",
            "10.0% blue\n",
            "40.0% purple\n",
            "20.0% red\n",
            "30.0% green\n",
            "10.0% blue\n",
            "40.0% purple\n"
          ]
        }
      ]
    },
    {
      "cell_type": "code",
      "metadata": {
        "id": "b005fa51",
        "outputId": "b362db01-8885-4c9f-9bba-11c6b1cbbe4a"
      },
      "source": [
        "# 기능 : sum -> 더하기, count -> 입력된 숫자들의 수\n",
        "def myfunction(func, *args):\n",
        "\tif func ==\"sum\":\n",
        "\t\tresult = 0\n",
        "\t\tfor i in args:\n",
        "\t\t\tresult = result + i\n",
        "\t\treturn result\n",
        "\telif func ==\"count\":\n",
        "\t\treturn len(args)\n",
        "\telse:\n",
        "\t\treturn \"No Function!!!!\"\n",
        "\n",
        "a = print(myfunction(\"sum\",10,20,30,40,50))\n",
        "b = print(myfunction(\"count\",10,20,30,40,50))\n",
        "c = print(myfunction(\"nono\",10,20,30,40,50))\n",
        "\n",
        "print(a)\n",
        "print(b)\n",
        "print(c)"
      ],
      "id": "b005fa51",
      "execution_count": null,
      "outputs": [
        {
          "name": "stdout",
          "output_type": "stream",
          "text": [
            "150\n",
            "5\n",
            "No Function!!!!\n",
            "None\n",
            "None\n",
            "None\n"
          ]
        }
      ]
    },
    {
      "cell_type": "code",
      "metadata": {
        "id": "2a6071d2",
        "outputId": "2e68d2b6-6f5e-4602-f56a-05f36e30c2a2"
      },
      "source": [
        "#### 일반적으로 swap를 하기위해서는 아래와 같은 temp를 사용해서 처리를 해야한\n",
        "arr = [3,10]\n",
        "print(arr)\n",
        "print(\"--------\")\n",
        "temp = arr[0]\n",
        "arr[0] = arr[1]\n",
        "arr[1] = temp\n",
        "print(arr)"
      ],
      "id": "2a6071d2",
      "execution_count": null,
      "outputs": [
        {
          "name": "stdout",
          "output_type": "stream",
          "text": [
            "[3, 10]\n",
            "--------\n",
            "[10, 3]\n"
          ]
        }
      ]
    },
    {
      "cell_type": "code",
      "metadata": {
        "id": "c2556c56",
        "outputId": "7434eda6-3a2e-4d47-ed88-334321fff4a1"
      },
      "source": [
        "# temp 없이 바로 바꾸기 위해서는 아래와 같은 형식을 사용을 함!!!!!\n",
        "arr = [3, 10]\n",
        "print(arr)\n",
        "print(\"------\")\n",
        "arr[0], arr[1] = arr[1], arr[0]\n",
        "print(arr)"
      ],
      "id": "c2556c56",
      "execution_count": null,
      "outputs": [
        {
          "name": "stdout",
          "output_type": "stream",
          "text": [
            "[3, 10]\n",
            "------\n",
            "[10, 3]\n"
          ]
        }
      ]
    },
    {
      "cell_type": "code",
      "metadata": {
        "id": "16ad81b6",
        "outputId": "bc4f90f9-19a4-4f13-c7a7-ed5e6b8e973b"
      },
      "source": [
        "numbers = (10,30, 50,100,23,4,1130)\n",
        "numbers\n",
        "print(min(numbers))\n",
        "print(max(numbers))\n",
        "print(sum(numbers))"
      ],
      "id": "16ad81b6",
      "execution_count": null,
      "outputs": [
        {
          "name": "stdout",
          "output_type": "stream",
          "text": [
            "4\n",
            "1130\n"
          ]
        },
        {
          "ename": "TypeError",
          "evalue": "'int' object is not callable",
          "output_type": "error",
          "traceback": [
            "\u001b[1;31m---------------------------------------------------------------------------\u001b[0m",
            "\u001b[1;31mTypeError\u001b[0m                                 Traceback (most recent call last)",
            "\u001b[1;32m<ipython-input-32-1551337273fc>\u001b[0m in \u001b[0;36m<module>\u001b[1;34m\u001b[0m\n\u001b[0;32m      3\u001b[0m \u001b[0mprint\u001b[0m\u001b[1;33m(\u001b[0m\u001b[0mmin\u001b[0m\u001b[1;33m(\u001b[0m\u001b[0mnumbers\u001b[0m\u001b[1;33m)\u001b[0m\u001b[1;33m)\u001b[0m\u001b[1;33m\u001b[0m\u001b[1;33m\u001b[0m\u001b[0m\n\u001b[0;32m      4\u001b[0m \u001b[0mprint\u001b[0m\u001b[1;33m(\u001b[0m\u001b[0mmax\u001b[0m\u001b[1;33m(\u001b[0m\u001b[0mnumbers\u001b[0m\u001b[1;33m)\u001b[0m\u001b[1;33m)\u001b[0m\u001b[1;33m\u001b[0m\u001b[1;33m\u001b[0m\u001b[0m\n\u001b[1;32m----> 5\u001b[1;33m \u001b[0mprint\u001b[0m\u001b[1;33m(\u001b[0m\u001b[0msum\u001b[0m\u001b[1;33m(\u001b[0m\u001b[0mnumbers\u001b[0m\u001b[1;33m)\u001b[0m\u001b[1;33m)\u001b[0m\u001b[1;33m\u001b[0m\u001b[1;33m\u001b[0m\u001b[0m\n\u001b[0m",
            "\u001b[1;31mTypeError\u001b[0m: 'int' object is not callable"
          ]
        }
      ]
    },
    {
      "cell_type": "code",
      "metadata": {
        "id": "a93ef088",
        "outputId": "817708af-847c-4149-ccd4-57324b1ab833"
      },
      "source": [
        "a = [('a', 5), ('b', 3), ('c', 1), ('d', 6),(\"F\",10), (\"A\",1)]\n",
        "min(a, key=lambda t:t[1])"
      ],
      "id": "a93ef088",
      "execution_count": null,
      "outputs": [
        {
          "data": {
            "text/plain": [
              "('c', 1)"
            ]
          },
          "execution_count": 26,
          "metadata": {},
          "output_type": "execute_result"
        }
      ]
    },
    {
      "cell_type": "code",
      "metadata": {
        "id": "ea981e54",
        "outputId": "78febc14-50f0-4865-809b-738df0f72938"
      },
      "source": [
        "a = [('a', 5), ('b', 3), ('c', 1), ('d', 6),(\"F\",10), (\"A\",0.2)]\n",
        "print(min(a, key=lambda t:t[1]))\n",
        "print(max(a, key=lambda t:t[1]))"
      ],
      "id": "ea981e54",
      "execution_count": null,
      "outputs": [
        {
          "name": "stdout",
          "output_type": "stream",
          "text": [
            "('A', 0.2)\n",
            "('F', 10)\n"
          ]
        }
      ]
    },
    {
      "cell_type": "code",
      "metadata": {
        "id": "6158d093",
        "outputId": "4cf99057-195f-414c-9d19-b07bdfef94bd"
      },
      "source": [
        "dict_1 = {\"name\" : \"Kwon\",\n",
        "         \"region\":\"Seoul\",\n",
        "         \"age\" : \"Mola\",\n",
        "         \"height\": 180}\n",
        "dict_1"
      ],
      "id": "6158d093",
      "execution_count": null,
      "outputs": [
        {
          "data": {
            "text/plain": [
              "{'name': 'Kwon', 'region': 'Seoul', 'age': 'Mola', 'height': 180}"
            ]
          },
          "execution_count": 33,
          "metadata": {},
          "output_type": "execute_result"
        }
      ]
    },
    {
      "cell_type": "code",
      "metadata": {
        "id": "bb3c85c2",
        "outputId": "3c438dd7-52d1-4d9c-993b-6f7029d7aca4"
      },
      "source": [
        "dict_1 = {\"name\" : \"Kwon\",\n",
        "         \"region\":\"Seoul\",\n",
        "         \"age\" : \"Mola\",\n",
        "         \"height\": 180}\n",
        "dict_1"
      ],
      "id": "bb3c85c2",
      "execution_count": null,
      "outputs": [
        {
          "data": {
            "text/plain": [
              "{'name': 'Kwon', 'region': 'Seoul', 'age': 'Mola', 'height': 180}"
            ]
          },
          "execution_count": 34,
          "metadata": {},
          "output_type": "execute_result"
        }
      ]
    },
    {
      "cell_type": "code",
      "metadata": {
        "id": "922a2e71",
        "outputId": "0f3ffc66-c255-40f9-927e-bfe1b6efe7f6"
      },
      "source": [
        "################ 위에 있었던 코드 그대로 활용 #########\n",
        "dict_2 = { }\n",
        "dict_2[\"name\"] = \"Kwon\"\n",
        "dict_2[\"region\"] = \"Seoul\"\n",
        "dict_2[\"age\"] = \"Mola\"\n",
        "dict_2[\"region\"] = 180\n",
        "dict_2[\"Face\"] = \"Mola\"\n",
        "dict_2[\"Face\"] = \"NoComment\"\n",
        "##################################################\n",
        "del dict_2[\"Face\"]\n",
        "dict_2"
      ],
      "id": "922a2e71",
      "execution_count": null,
      "outputs": [
        {
          "data": {
            "text/plain": [
              "{'name': 'Kwon', 'region': 180, 'age': 'Mola'}"
            ]
          },
          "execution_count": 35,
          "metadata": {},
          "output_type": "execute_result"
        }
      ]
    },
    {
      "cell_type": "code",
      "metadata": {
        "id": "799c988b",
        "outputId": "752374bf-4e7e-4916-fbf1-a59f5941eab6"
      },
      "source": [
        "dict_2.clear()\n",
        "dict_2"
      ],
      "id": "799c988b",
      "execution_count": null,
      "outputs": [
        {
          "data": {
            "text/plain": [
              "{}"
            ]
          },
          "execution_count": 37,
          "metadata": {},
          "output_type": "execute_result"
        }
      ]
    },
    {
      "cell_type": "code",
      "metadata": {
        "id": "2e8cf370",
        "outputId": "7ea6dc43-7caa-4b5d-aff3-9a88dec95f3e"
      },
      "source": [
        "del dict2\n",
        "dict"
      ],
      "id": "2e8cf370",
      "execution_count": null,
      "outputs": [
        {
          "ename": "NameError",
          "evalue": "name 'dict2' is not defined",
          "output_type": "error",
          "traceback": [
            "\u001b[1;31m---------------------------------------------------------------------------\u001b[0m",
            "\u001b[1;31mNameError\u001b[0m                                 Traceback (most recent call last)",
            "\u001b[1;32m<ipython-input-38-9d12c48c8b39>\u001b[0m in \u001b[0;36m<module>\u001b[1;34m\u001b[0m\n\u001b[1;32m----> 1\u001b[1;33m \u001b[1;32mdel\u001b[0m \u001b[0mdict2\u001b[0m\u001b[1;33m\u001b[0m\u001b[1;33m\u001b[0m\u001b[0m\n\u001b[0m\u001b[0;32m      2\u001b[0m \u001b[0mdict\u001b[0m\u001b[1;33m\u001b[0m\u001b[1;33m\u001b[0m\u001b[0m\n",
            "\u001b[1;31mNameError\u001b[0m: name 'dict2' is not defined"
          ]
        }
      ]
    },
    {
      "cell_type": "code",
      "metadata": {
        "id": "a54410e7",
        "outputId": "e424915f-c0e1-4370-957c-40cf9e45dea4"
      },
      "source": [
        "# 키 값에 문자열, 숫자 가능함.\n",
        "dict_1 = {\"name\" : \"Kwon\",\n",
        "         \"region\":\"Seoul\",\n",
        "         \"age\" : \"Mola\",\n",
        "         \"region\": 180,\n",
        "         1234 : \"Mola\"}\n",
        "dict_1"
      ],
      "id": "a54410e7",
      "execution_count": null,
      "outputs": [
        {
          "data": {
            "text/plain": [
              "{'name': 'Kwon', 'region': 180, 'age': 'Mola', 1234: 'Mola'}"
            ]
          },
          "execution_count": 39,
          "metadata": {},
          "output_type": "execute_result"
        }
      ]
    },
    {
      "cell_type": "code",
      "metadata": {
        "id": "fbea4b6f",
        "outputId": "f3e56395-c91f-4532-d814-d1f5cdd4ff44"
      },
      "source": [
        "# 키 값에 튜플은 가능함!!!!\n",
        "dict_1 = {\"name\" : \"Kwon\",\n",
        "         \"region\":\"Seoul\",\n",
        "         \"age\" : \"Mola\",\n",
        "         \"region\": 180,\n",
        "         (\"Face\",\"Face2\") : \"Mola\"}\n",
        "dict_1"
      ],
      "id": "fbea4b6f",
      "execution_count": null,
      "outputs": [
        {
          "data": {
            "text/plain": [
              "{'name': 'Kwon', 'region': 180, 'age': 'Mola', ('Face', 'Face2'): 'Mola'}"
            ]
          },
          "execution_count": 40,
          "metadata": {},
          "output_type": "execute_result"
        }
      ]
    },
    {
      "cell_type": "code",
      "metadata": {
        "id": "6f9895e9",
        "outputId": "b0c26a06-d6e3-463e-8a97-75433ccceace"
      },
      "source": [
        "dict_1 = {\"name\" : \"Kwon\",\n",
        "         \"region\":\"Seoul\",\n",
        "         \"age\" : \"Mola\",\n",
        "         \"region\": 180,\n",
        "         \"Face\" : \"Mola\"}\n",
        "#########\n",
        "len(dict_1)"
      ],
      "id": "6f9895e9",
      "execution_count": null,
      "outputs": [
        {
          "data": {
            "text/plain": [
              "4"
            ]
          },
          "execution_count": 41,
          "metadata": {},
          "output_type": "execute_result"
        }
      ]
    },
    {
      "cell_type": "code",
      "metadata": {
        "id": "9b1cb591",
        "outputId": "0dff3695-7aea-417e-a7a1-5b3ff9b4d983"
      },
      "source": [
        "dict_1 = {\"name\" : \"Kwon\",\n",
        "         \"region\":\"Seoul\",\n",
        "         \"age\" : \"Mola\",\n",
        "         \"region\": 180,\n",
        "         \"Face\" : \"Mola\"}\n",
        "##########################\n",
        "dict_1.keys()\n",
        "\n",
        "type(dict_1.keys())\n",
        "\n",
        "dict_1.keys()[1]\n",
        "\n",
        "list(dict_1.keys())[1]"
      ],
      "id": "9b1cb591",
      "execution_count": null,
      "outputs": [
        {
          "ename": "TypeError",
          "evalue": "'dict_keys' object is not subscriptable",
          "output_type": "error",
          "traceback": [
            "\u001b[1;31m---------------------------------------------------------------------------\u001b[0m",
            "\u001b[1;31mTypeError\u001b[0m                                 Traceback (most recent call last)",
            "\u001b[1;32m<ipython-input-42-2cd51a385298>\u001b[0m in \u001b[0;36m<module>\u001b[1;34m\u001b[0m\n\u001b[0;32m      9\u001b[0m \u001b[0mtype\u001b[0m\u001b[1;33m(\u001b[0m\u001b[0mdict_1\u001b[0m\u001b[1;33m.\u001b[0m\u001b[0mkeys\u001b[0m\u001b[1;33m(\u001b[0m\u001b[1;33m)\u001b[0m\u001b[1;33m)\u001b[0m\u001b[1;33m\u001b[0m\u001b[1;33m\u001b[0m\u001b[0m\n\u001b[0;32m     10\u001b[0m \u001b[1;33m\u001b[0m\u001b[0m\n\u001b[1;32m---> 11\u001b[1;33m \u001b[0mdict_1\u001b[0m\u001b[1;33m.\u001b[0m\u001b[0mkeys\u001b[0m\u001b[1;33m(\u001b[0m\u001b[1;33m)\u001b[0m\u001b[1;33m[\u001b[0m\u001b[1;36m1\u001b[0m\u001b[1;33m]\u001b[0m\u001b[1;33m\u001b[0m\u001b[1;33m\u001b[0m\u001b[0m\n\u001b[0m\u001b[0;32m     12\u001b[0m \u001b[1;33m\u001b[0m\u001b[0m\n\u001b[0;32m     13\u001b[0m \u001b[0mlist\u001b[0m\u001b[1;33m(\u001b[0m\u001b[0mdict_1\u001b[0m\u001b[1;33m.\u001b[0m\u001b[0mkeys\u001b[0m\u001b[1;33m(\u001b[0m\u001b[1;33m)\u001b[0m\u001b[1;33m)\u001b[0m\u001b[1;33m[\u001b[0m\u001b[1;36m1\u001b[0m\u001b[1;33m]\u001b[0m\u001b[1;33m\u001b[0m\u001b[1;33m\u001b[0m\u001b[0m\n",
            "\u001b[1;31mTypeError\u001b[0m: 'dict_keys' object is not subscriptable"
          ]
        }
      ]
    },
    {
      "cell_type": "code",
      "metadata": {
        "id": "a552a013",
        "outputId": "6fce9092-2576-4e9e-8526-4989f35b3c8e"
      },
      "source": [
        "dict_1 = {\"name\" : \"Kwon\",\n",
        "         \"region\":\"Seoul\",\n",
        "         \"age\" : \"Mola\",\n",
        "         \"region\": 180,\n",
        "         \"Face\" : \"Mola\"}\n",
        "##########################\n",
        "dict_1.values()\n",
        "\n",
        "type(dict_1.values())\n",
        "\n",
        "dict_1.values()[1]\n",
        "\n",
        "list(dict_1.values())[1]"
      ],
      "id": "a552a013",
      "execution_count": null,
      "outputs": [
        {
          "ename": "TypeError",
          "evalue": "'dict_values' object is not subscriptable",
          "output_type": "error",
          "traceback": [
            "\u001b[1;31m---------------------------------------------------------------------------\u001b[0m",
            "\u001b[1;31mTypeError\u001b[0m                                 Traceback (most recent call last)",
            "\u001b[1;32m<ipython-input-43-a4bda3bd1e22>\u001b[0m in \u001b[0;36m<module>\u001b[1;34m\u001b[0m\n\u001b[0;32m      9\u001b[0m \u001b[0mtype\u001b[0m\u001b[1;33m(\u001b[0m\u001b[0mdict_1\u001b[0m\u001b[1;33m.\u001b[0m\u001b[0mvalues\u001b[0m\u001b[1;33m(\u001b[0m\u001b[1;33m)\u001b[0m\u001b[1;33m)\u001b[0m\u001b[1;33m\u001b[0m\u001b[1;33m\u001b[0m\u001b[0m\n\u001b[0;32m     10\u001b[0m \u001b[1;33m\u001b[0m\u001b[0m\n\u001b[1;32m---> 11\u001b[1;33m \u001b[0mdict_1\u001b[0m\u001b[1;33m.\u001b[0m\u001b[0mvalues\u001b[0m\u001b[1;33m(\u001b[0m\u001b[1;33m)\u001b[0m\u001b[1;33m[\u001b[0m\u001b[1;36m1\u001b[0m\u001b[1;33m]\u001b[0m\u001b[1;33m\u001b[0m\u001b[1;33m\u001b[0m\u001b[0m\n\u001b[0m\u001b[0;32m     12\u001b[0m \u001b[1;33m\u001b[0m\u001b[0m\n\u001b[0;32m     13\u001b[0m \u001b[0mlist\u001b[0m\u001b[1;33m(\u001b[0m\u001b[0mdict_1\u001b[0m\u001b[1;33m.\u001b[0m\u001b[0mvalues\u001b[0m\u001b[1;33m(\u001b[0m\u001b[1;33m)\u001b[0m\u001b[1;33m)\u001b[0m\u001b[1;33m[\u001b[0m\u001b[1;36m1\u001b[0m\u001b[1;33m]\u001b[0m\u001b[1;33m\u001b[0m\u001b[1;33m\u001b[0m\u001b[0m\n",
            "\u001b[1;31mTypeError\u001b[0m: 'dict_values' object is not subscriptable"
          ]
        }
      ]
    },
    {
      "cell_type": "code",
      "metadata": {
        "id": "cd5339e7",
        "outputId": "037d9bc9-01fe-4af9-afd1-eb2734db7b8c"
      },
      "source": [
        "dict_1 = {\"name\" : \"Kwon\",\n",
        "         \"region\":\"Seoul\",\n",
        "         \"age\" : \"Mola\",\n",
        "         \"region\": 180,\n",
        "         \"Face\" : \"Mola\"}\n",
        "###################\n",
        "dict_1.items()\n",
        "dict_1.items()[1]\n",
        "\n",
        "list(dict_1.items())[1]"
      ],
      "id": "cd5339e7",
      "execution_count": null,
      "outputs": [
        {
          "ename": "TypeError",
          "evalue": "'dict_items' object is not subscriptable",
          "output_type": "error",
          "traceback": [
            "\u001b[1;31m---------------------------------------------------------------------------\u001b[0m",
            "\u001b[1;31mTypeError\u001b[0m                                 Traceback (most recent call last)",
            "\u001b[1;32m<ipython-input-44-eb8128069285>\u001b[0m in \u001b[0;36m<module>\u001b[1;34m\u001b[0m\n\u001b[0;32m      6\u001b[0m \u001b[1;31m###################\u001b[0m\u001b[1;33m\u001b[0m\u001b[1;33m\u001b[0m\u001b[1;33m\u001b[0m\u001b[0m\n\u001b[0;32m      7\u001b[0m \u001b[0mdict_1\u001b[0m\u001b[1;33m.\u001b[0m\u001b[0mitems\u001b[0m\u001b[1;33m(\u001b[0m\u001b[1;33m)\u001b[0m\u001b[1;33m\u001b[0m\u001b[1;33m\u001b[0m\u001b[0m\n\u001b[1;32m----> 8\u001b[1;33m \u001b[0mdict_1\u001b[0m\u001b[1;33m.\u001b[0m\u001b[0mitems\u001b[0m\u001b[1;33m(\u001b[0m\u001b[1;33m)\u001b[0m\u001b[1;33m[\u001b[0m\u001b[1;36m1\u001b[0m\u001b[1;33m]\u001b[0m\u001b[1;33m\u001b[0m\u001b[1;33m\u001b[0m\u001b[0m\n\u001b[0m\u001b[0;32m      9\u001b[0m \u001b[1;33m\u001b[0m\u001b[0m\n\u001b[0;32m     10\u001b[0m \u001b[0mlist\u001b[0m\u001b[1;33m(\u001b[0m\u001b[0mdict_1\u001b[0m\u001b[1;33m.\u001b[0m\u001b[0mitems\u001b[0m\u001b[1;33m(\u001b[0m\u001b[1;33m)\u001b[0m\u001b[1;33m)\u001b[0m\u001b[1;33m[\u001b[0m\u001b[1;36m1\u001b[0m\u001b[1;33m]\u001b[0m\u001b[1;33m\u001b[0m\u001b[1;33m\u001b[0m\u001b[0m\n",
            "\u001b[1;31mTypeError\u001b[0m: 'dict_items' object is not subscriptable"
          ]
        }
      ]
    },
    {
      "cell_type": "code",
      "metadata": {
        "id": "ef281ecb",
        "outputId": "67053f4e-441a-4aa6-cd2e-2a9c92da60d7"
      },
      "source": [
        "dict_1 = {\"name\" : \"Kwon\",\n",
        "         \"region\":\"Seoul\",\n",
        "         \"age\" : \"Mola\",\n",
        "         \"region\": 180,\n",
        "         \"Face\" : \"Mola\"}\n",
        "###########\n",
        "dict_1.pop()\n",
        "\n",
        "dict_1.pop(\"Face\")\n",
        "\n",
        "dict_1"
      ],
      "id": "ef281ecb",
      "execution_count": null,
      "outputs": [
        {
          "ename": "TypeError",
          "evalue": "pop expected at least 1 argument, got 0",
          "output_type": "error",
          "traceback": [
            "\u001b[1;31m---------------------------------------------------------------------------\u001b[0m",
            "\u001b[1;31mTypeError\u001b[0m                                 Traceback (most recent call last)",
            "\u001b[1;32m<ipython-input-45-00d32d89c785>\u001b[0m in \u001b[0;36m<module>\u001b[1;34m\u001b[0m\n\u001b[0;32m      5\u001b[0m          \"Face\" : \"Mola\"}\n\u001b[0;32m      6\u001b[0m \u001b[1;31m###########\u001b[0m\u001b[1;33m\u001b[0m\u001b[1;33m\u001b[0m\u001b[1;33m\u001b[0m\u001b[0m\n\u001b[1;32m----> 7\u001b[1;33m \u001b[0mdict_1\u001b[0m\u001b[1;33m.\u001b[0m\u001b[0mpop\u001b[0m\u001b[1;33m(\u001b[0m\u001b[1;33m)\u001b[0m\u001b[1;33m\u001b[0m\u001b[1;33m\u001b[0m\u001b[0m\n\u001b[0m\u001b[0;32m      8\u001b[0m \u001b[1;33m\u001b[0m\u001b[0m\n\u001b[0;32m      9\u001b[0m \u001b[0mdict_1\u001b[0m\u001b[1;33m.\u001b[0m\u001b[0mpop\u001b[0m\u001b[1;33m(\u001b[0m\u001b[1;34m\"Face\"\u001b[0m\u001b[1;33m)\u001b[0m\u001b[1;33m\u001b[0m\u001b[1;33m\u001b[0m\u001b[0m\n",
            "\u001b[1;31mTypeError\u001b[0m: pop expected at least 1 argument, got 0"
          ]
        }
      ]
    },
    {
      "cell_type": "code",
      "metadata": {
        "id": "ef0b37ee",
        "outputId": "ba0f9250-791d-49af-c258-d0cec93f0e07"
      },
      "source": [
        "# 노래 가사\n",
        "songs= \"The snow glows white on the mountain tonight Not a footprint to be seen A kingdom of isolation And it looks like I'm the queen\"\n",
        "# 비어있는 사전\n",
        "counts = { } \n",
        "# 노래 가사를 공란을 중심으로 분리 \n",
        "words = songs.split(\" \")\n",
        "# 분리된 것들 돌아가면서 추가하자!!!\n",
        "for word in words:\n",
        "    word = word.lower() # 소문자 변경\n",
        "    if word not in counts:\n",
        "        counts[word] = 1  # 새롭게 등장한 단어는 1로 신규 등록\n",
        "    else:\n",
        "        counts[word] +=1 # 기존에 있는 단어는 +1로 카운팅\n",
        "print(counts)"
      ],
      "id": "ef0b37ee",
      "execution_count": null,
      "outputs": [
        {
          "name": "stdout",
          "output_type": "stream",
          "text": [
            "{'the': 3, 'snow': 1, 'glows': 1, 'white': 1, 'on': 1, 'mountain': 1, 'tonight': 1, 'not': 1, 'a': 2, 'footprint': 1, 'to': 1, 'be': 1, 'seen': 1, 'kingdom': 1, 'of': 1, 'isolation': 1, 'and': 1, 'it': 1, 'looks': 1, 'like': 1, \"i'm\": 1, 'queen': 1}\n"
          ]
        }
      ]
    },
    {
      "cell_type": "code",
      "metadata": {
        "id": "0701eac3",
        "outputId": "4215f298-ecd6-4bf5-d7d2-0793e7c1dc73"
      },
      "source": [
        "# 정사각형의 넓이 계산 함수\n",
        "def square(x):\n",
        "    return x*x \n",
        "\n",
        "# 원 넓이 계산 함수\n",
        "def circle(r):\n",
        "    return 3.14 * r * r\n",
        "\n",
        "# 정삼각형 넓이 함수\n",
        "def equilateraltriangle(s):\n",
        "    return (s*s) * (3 ** 0.5) /4 \n",
        "\n",
        "# 문자열과 함수를 매핑하는 사전!!!!\n",
        "areas = { \"sq\": square, \"ci\":circle, \"eqtri\":equilateraltriangle}\n",
        "\n",
        "#####\n",
        "n = 2\n",
        "print(areas[\"sq\"](n))\n",
        "print(areas[\"ci\"](n))\n",
        "print(areas[\"eqtri\"](n))"
      ],
      "id": "0701eac3",
      "execution_count": null,
      "outputs": [
        {
          "name": "stdout",
          "output_type": "stream",
          "text": [
            "4\n",
            "12.56\n",
            "1.7320508075688772\n"
          ]
        }
      ]
    },
    {
      "cell_type": "code",
      "metadata": {
        "id": "9a2f23fd",
        "outputId": "145393a1-b628-4a8b-b375-4f46feaf4d38"
      },
      "source": [
        "# 사람 개별 이름 접근하기\n",
        "for student in grades.keys():\n",
        "    print(student)"
      ],
      "id": "9a2f23fd",
      "execution_count": null,
      "outputs": [
        {
          "ename": "NameError",
          "evalue": "name 'grades' is not defined",
          "output_type": "error",
          "traceback": [
            "\u001b[1;31m---------------------------------------------------------------------------\u001b[0m",
            "\u001b[1;31mNameError\u001b[0m                                 Traceback (most recent call last)",
            "\u001b[1;32m<ipython-input-48-3ce06c812add>\u001b[0m in \u001b[0;36m<module>\u001b[1;34m\u001b[0m\n\u001b[0;32m      1\u001b[0m \u001b[1;31m# 사람 개별 이름 접근하기\u001b[0m\u001b[1;33m\u001b[0m\u001b[1;33m\u001b[0m\u001b[1;33m\u001b[0m\u001b[0m\n\u001b[1;32m----> 2\u001b[1;33m \u001b[1;32mfor\u001b[0m \u001b[0mstudent\u001b[0m \u001b[1;32min\u001b[0m \u001b[0mgrades\u001b[0m\u001b[1;33m.\u001b[0m\u001b[0mkeys\u001b[0m\u001b[1;33m(\u001b[0m\u001b[1;33m)\u001b[0m\u001b[1;33m:\u001b[0m\u001b[1;33m\u001b[0m\u001b[1;33m\u001b[0m\u001b[0m\n\u001b[0m\u001b[0;32m      3\u001b[0m     \u001b[0mprint\u001b[0m\u001b[1;33m(\u001b[0m\u001b[0mstudent\u001b[0m\u001b[1;33m)\u001b[0m\u001b[1;33m\u001b[0m\u001b[1;33m\u001b[0m\u001b[0m\n",
            "\u001b[1;31mNameError\u001b[0m: name 'grades' is not defined"
          ]
        }
      ]
    },
    {
      "cell_type": "code",
      "metadata": {
        "id": "3fd01194",
        "outputId": "d1d27dc8-cc03-43dd-89a2-a2b46b2e915a"
      },
      "source": [
        "# 개별 점수를 가지고 와서 평균을 구하기..\n",
        "for score in grades.values():\n",
        "    print(sum(score)/2)"
      ],
      "id": "3fd01194",
      "execution_count": null,
      "outputs": [
        {
          "ename": "NameError",
          "evalue": "name 'grades' is not defined",
          "output_type": "error",
          "traceback": [
            "\u001b[1;31m---------------------------------------------------------------------------\u001b[0m",
            "\u001b[1;31mNameError\u001b[0m                                 Traceback (most recent call last)",
            "\u001b[1;32m<ipython-input-49-6f51b37d658c>\u001b[0m in \u001b[0;36m<module>\u001b[1;34m\u001b[0m\n\u001b[0;32m      1\u001b[0m \u001b[1;31m# 개별 점수를 가지고 와서 평균을 구하기..\u001b[0m\u001b[1;33m\u001b[0m\u001b[1;33m\u001b[0m\u001b[1;33m\u001b[0m\u001b[0m\n\u001b[1;32m----> 2\u001b[1;33m \u001b[1;32mfor\u001b[0m \u001b[0mscore\u001b[0m \u001b[1;32min\u001b[0m \u001b[0mgrades\u001b[0m\u001b[1;33m.\u001b[0m\u001b[0mvalues\u001b[0m\u001b[1;33m(\u001b[0m\u001b[1;33m)\u001b[0m\u001b[1;33m:\u001b[0m\u001b[1;33m\u001b[0m\u001b[1;33m\u001b[0m\u001b[0m\n\u001b[0m\u001b[0;32m      3\u001b[0m     \u001b[0mprint\u001b[0m\u001b[1;33m(\u001b[0m\u001b[0msum\u001b[0m\u001b[1;33m(\u001b[0m\u001b[0mscore\u001b[0m\u001b[1;33m)\u001b[0m\u001b[1;33m/\u001b[0m\u001b[1;36m2\u001b[0m\u001b[1;33m)\u001b[0m\u001b[1;33m\u001b[0m\u001b[1;33m\u001b[0m\u001b[0m\n",
            "\u001b[1;31mNameError\u001b[0m: name 'grades' is not defined"
          ]
        }
      ]
    },
    {
      "cell_type": "code",
      "metadata": {
        "id": "01734488",
        "outputId": "e5548782-7ffa-4672-c5e9-8e79fef69a64"
      },
      "source": [
        "for student in grades.keys():\n",
        "    scores = grades[student]\n",
        "\t\t### 이 부분이 앞에서 배운 것들을 종합적으로 응용\n",
        "    #### ---> grades[student]  가 결과가 리스트\n",
        "    ### ---> 그러니 리스트의 원소 추라 append 활용 가능!!!\n",
        "    grades[student].append(sum(scores)/2)\n",
        "print(grades)"
      ],
      "id": "01734488",
      "execution_count": null,
      "outputs": [
        {
          "ename": "NameError",
          "evalue": "name 'grades' is not defined",
          "output_type": "error",
          "traceback": [
            "\u001b[1;31m---------------------------------------------------------------------------\u001b[0m",
            "\u001b[1;31mNameError\u001b[0m                                 Traceback (most recent call last)",
            "\u001b[1;32m<ipython-input-50-086ed9102e5f>\u001b[0m in \u001b[0;36m<module>\u001b[1;34m\u001b[0m\n\u001b[1;32m----> 1\u001b[1;33m \u001b[1;32mfor\u001b[0m \u001b[0mstudent\u001b[0m \u001b[1;32min\u001b[0m \u001b[0mgrades\u001b[0m\u001b[1;33m.\u001b[0m\u001b[0mkeys\u001b[0m\u001b[1;33m(\u001b[0m\u001b[1;33m)\u001b[0m\u001b[1;33m:\u001b[0m\u001b[1;33m\u001b[0m\u001b[1;33m\u001b[0m\u001b[0m\n\u001b[0m\u001b[0;32m      2\u001b[0m     \u001b[0mscores\u001b[0m \u001b[1;33m=\u001b[0m \u001b[0mgrades\u001b[0m\u001b[1;33m[\u001b[0m\u001b[0mstudent\u001b[0m\u001b[1;33m]\u001b[0m\u001b[1;33m\u001b[0m\u001b[1;33m\u001b[0m\u001b[0m\n\u001b[0;32m      3\u001b[0m                 \u001b[1;31m### 이 부분이 앞에서 배운 것들을 종합적으로 응용\u001b[0m\u001b[1;33m\u001b[0m\u001b[1;33m\u001b[0m\u001b[1;33m\u001b[0m\u001b[0m\n\u001b[0;32m      4\u001b[0m     \u001b[1;31m#### ---> grades[student]  가 결과가 리스트\u001b[0m\u001b[1;33m\u001b[0m\u001b[1;33m\u001b[0m\u001b[1;33m\u001b[0m\u001b[0m\n\u001b[0;32m      5\u001b[0m     \u001b[1;31m### ---> 그러니 리스트의 원소 추라 append 활용 가능!!!\u001b[0m\u001b[1;33m\u001b[0m\u001b[1;33m\u001b[0m\u001b[1;33m\u001b[0m\u001b[0m\n",
            "\u001b[1;31mNameError\u001b[0m: name 'grades' is not defined"
          ]
        }
      ]
    },
    {
      "cell_type": "code",
      "metadata": {
        "id": "2740dd3a",
        "outputId": "bc448280-0225-4052-9370-3d1ed6021af6"
      },
      "source": [
        "s1 = set({1,2,3,4,5})\n",
        "print(type(s1))\n",
        "print(s1)\n",
        "###############\n",
        "s2= set([1,2,3,4,5])\n",
        "print(type(s2))\n",
        "print(s2)\n",
        "################\n",
        "s3= set((1,2,3,4,5))\n",
        "print(type(s3))\n",
        "print(s3)\n",
        "#################\n",
        "s4 = { 1,2,3,4,5}\n",
        "print(type(s4))\n",
        "print(s4)\n",
        "\n",
        "#순서가 없음 & 값 중복은 불가능!! & 값들 수정 가능함!!!!"
      ],
      "id": "2740dd3a",
      "execution_count": null,
      "outputs": [
        {
          "name": "stdout",
          "output_type": "stream",
          "text": [
            "<class 'set'>\n",
            "{1, 2, 3, 4, 5}\n",
            "<class 'set'>\n",
            "{1, 2, 3, 4, 5}\n",
            "<class 'set'>\n",
            "{1, 2, 3, 4, 5}\n",
            "<class 'set'>\n",
            "{1, 2, 3, 4, 5}\n"
          ]
        }
      ]
    },
    {
      "cell_type": "code",
      "metadata": {
        "id": "de9b10fe",
        "outputId": "b24cc80c-d9e2-476c-c46c-0b87cf49a136"
      },
      "source": [
        "s1 = { 1,2,3,4,5}\n",
        "s2 = {4,5,6,7,8,9,10}\n",
        "# 교집합 메서드\n",
        "print(s1.intersection(s2))\n",
        "# 교집합 연산자\n",
        "print(s1 & s2)"
      ],
      "id": "de9b10fe",
      "execution_count": null,
      "outputs": [
        {
          "name": "stdout",
          "output_type": "stream",
          "text": [
            "{4, 5}\n",
            "{4, 5}\n"
          ]
        }
      ]
    },
    {
      "cell_type": "code",
      "metadata": {
        "id": "72988fcf",
        "outputId": "9ed8576e-b6b1-414d-ded2-a94da4fd9721"
      },
      "source": [
        "s1 = { 1,2,3,4,5}\n",
        "s2 = {4,5,6,7,8,9,10}\n",
        "# 합집합 메서드\n",
        "print(s1.union(s2))\n",
        "# 합집합 연산자\n",
        "print(s1 | s2)"
      ],
      "id": "72988fcf",
      "execution_count": null,
      "outputs": [
        {
          "name": "stdout",
          "output_type": "stream",
          "text": [
            "{1, 2, 3, 4, 5, 6, 7, 8, 9, 10}\n",
            "{1, 2, 3, 4, 5, 6, 7, 8, 9, 10}\n"
          ]
        }
      ]
    },
    {
      "cell_type": "code",
      "metadata": {
        "id": "d8da7105",
        "outputId": "5a385df7-0b13-4b6c-9c0e-038db81bdfcc"
      },
      "source": [
        "s1 = { 1,2,3,4,5}\n",
        "s2 = {4,5,6,7,8,9,10}\n",
        "# 차집합 메서드\n",
        "print(s1.difference(s2))\n",
        "# 차집합 연산자\n",
        "print(s1 - s2)"
      ],
      "id": "d8da7105",
      "execution_count": null,
      "outputs": [
        {
          "name": "stdout",
          "output_type": "stream",
          "text": [
            "{1, 2, 3}\n",
            "{1, 2, 3}\n"
          ]
        }
      ]
    },
    {
      "cell_type": "code",
      "metadata": {
        "id": "707ac071",
        "outputId": "544b0c39-b91c-4461-aeaa-89e14f09e40d"
      },
      "source": [
        "s1 = { 1,2,3,4,5}\n",
        "s2 = {4,5,6,7,8,9,10}\n",
        "print(s1 == s2)\n",
        "#################################3\n",
        "s1 = { 1,2,3,4,5}\n",
        "s2 = {5,4,3,2,1}\n",
        "print(s1 == s2)\n",
        "##################################\n",
        "\n",
        "\n",
        "s1 = { 1,2,3,4,5}\n",
        "s2 = {5,4,3,2,1,1,1,1,1,2,2,2,3,4,4,4} \n",
        "print(s1 == s2)\n",
        "## 이유는 집합은 중복된 것을 1개로 인식!!! & 순서 상관 없으니,,\n",
        "##단순히 값들이 같은 것들이 정확히 있는지만."
      ],
      "id": "707ac071",
      "execution_count": null,
      "outputs": [
        {
          "name": "stdout",
          "output_type": "stream",
          "text": [
            "False\n",
            "True\n",
            "True\n"
          ]
        }
      ]
    },
    {
      "cell_type": "code",
      "metadata": {
        "id": "4ab21300",
        "outputId": "6cee37e4-1861-4587-fa9f-6117b34a3fc3"
      },
      "source": [
        "## 기타 등등 (어차피 잘 안 쓰니..일단 있다는 정도만..)\n",
        "\n",
        "#- 아예 다른지 등에서는 \n",
        "s1.isdisjoint(s2)\n",
        "#- 부분집합 :  \n",
        "s1.issubset()\n",
        "#- 대칭차집합 : \n",
        "s1.symmetric_difference(s2), s1 ^ s2"
      ],
      "id": "4ab21300",
      "execution_count": null,
      "outputs": [
        {
          "ename": "TypeError",
          "evalue": "issubset() takes exactly one argument (0 given)",
          "output_type": "error",
          "traceback": [
            "\u001b[1;31m---------------------------------------------------------------------------\u001b[0m",
            "\u001b[1;31mTypeError\u001b[0m                                 Traceback (most recent call last)",
            "\u001b[1;32m<ipython-input-40-2472ac5b49fd>\u001b[0m in \u001b[0;36m<module>\u001b[1;34m\u001b[0m\n\u001b[0;32m      4\u001b[0m \u001b[0ms1\u001b[0m\u001b[1;33m.\u001b[0m\u001b[0misdisjoint\u001b[0m\u001b[1;33m(\u001b[0m\u001b[0ms2\u001b[0m\u001b[1;33m)\u001b[0m\u001b[1;33m\u001b[0m\u001b[1;33m\u001b[0m\u001b[0m\n\u001b[0;32m      5\u001b[0m \u001b[1;31m#- 부분집합 :\u001b[0m\u001b[1;33m\u001b[0m\u001b[1;33m\u001b[0m\u001b[1;33m\u001b[0m\u001b[0m\n\u001b[1;32m----> 6\u001b[1;33m \u001b[0ms1\u001b[0m\u001b[1;33m.\u001b[0m\u001b[0missubset\u001b[0m\u001b[1;33m(\u001b[0m\u001b[1;33m)\u001b[0m\u001b[1;33m\u001b[0m\u001b[1;33m\u001b[0m\u001b[0m\n\u001b[0m\u001b[0;32m      7\u001b[0m \u001b[1;31m#- 대칭차집합 :\u001b[0m\u001b[1;33m\u001b[0m\u001b[1;33m\u001b[0m\u001b[1;33m\u001b[0m\u001b[0m\n\u001b[0;32m      8\u001b[0m \u001b[0ms1\u001b[0m\u001b[1;33m.\u001b[0m\u001b[0msymmetric_difference\u001b[0m\u001b[1;33m(\u001b[0m\u001b[0ms2\u001b[0m\u001b[1;33m)\u001b[0m\u001b[1;33m,\u001b[0m \u001b[0ms1\u001b[0m \u001b[1;33m^\u001b[0m \u001b[0ms2\u001b[0m\u001b[1;33m\u001b[0m\u001b[1;33m\u001b[0m\u001b[0m\n",
            "\u001b[1;31mTypeError\u001b[0m: issubset() takes exactly one argument (0 given)"
          ]
        }
      ]
    },
    {
      "cell_type": "code",
      "metadata": {
        "id": "9fd19b10",
        "outputId": "9a3804ad-1e55-4779-c86c-21801052c730"
      },
      "source": [
        "def SelectionSort(args):\n",
        "    print(args)\n",
        "    for i in range(0, len(args)):\n",
        "        min_index = i\n",
        "        for j in range(i, len(args)):\n",
        "            if args[min_index] > args[j]:\n",
        "                min_index = j\n",
        "            else:\n",
        "                pass\n",
        "        args[i], args[min_index] = args[min_index], args[i]\n",
        "        print(i,\"번째\",args)\n",
        "    return args\n",
        "\n",
        "#print(SelectionSort(input().split()))\n",
        "print(SelectionSort([20, 12, 10, 15, 2]))\n",
        "print(SelectionSort([29, 72, 98, 13, 87, 66, 52, 51, 36]))\n",
        "print(SelectionSort([9,5,1,4,3]))"
      ],
      "id": "9fd19b10",
      "execution_count": null,
      "outputs": [
        {
          "name": "stdout",
          "output_type": "stream",
          "text": [
            "[20, 12, 10, 15, 2]\n",
            "0 번째 [2, 12, 10, 15, 20]\n",
            "1 번째 [2, 10, 12, 15, 20]\n",
            "2 번째 [2, 10, 12, 15, 20]\n",
            "3 번째 [2, 10, 12, 15, 20]\n",
            "4 번째 [2, 10, 12, 15, 20]\n",
            "[2, 10, 12, 15, 20]\n",
            "[29, 72, 98, 13, 87, 66, 52, 51, 36]\n",
            "0 번째 [13, 72, 98, 29, 87, 66, 52, 51, 36]\n",
            "1 번째 [13, 29, 98, 72, 87, 66, 52, 51, 36]\n",
            "2 번째 [13, 29, 36, 72, 87, 66, 52, 51, 98]\n",
            "3 번째 [13, 29, 36, 51, 87, 66, 52, 72, 98]\n",
            "4 번째 [13, 29, 36, 51, 52, 66, 87, 72, 98]\n",
            "5 번째 [13, 29, 36, 51, 52, 66, 87, 72, 98]\n",
            "6 번째 [13, 29, 36, 51, 52, 66, 72, 87, 98]\n",
            "7 번째 [13, 29, 36, 51, 52, 66, 72, 87, 98]\n",
            "8 번째 [13, 29, 36, 51, 52, 66, 72, 87, 98]\n",
            "[13, 29, 36, 51, 52, 66, 72, 87, 98]\n",
            "[9, 5, 1, 4, 3]\n",
            "0 번째 [1, 5, 9, 4, 3]\n",
            "1 번째 [1, 3, 9, 4, 5]\n",
            "2 번째 [1, 3, 4, 9, 5]\n",
            "3 번째 [1, 3, 4, 5, 9]\n",
            "4 번째 [1, 3, 4, 5, 9]\n",
            "[1, 3, 4, 5, 9]\n"
          ]
        }
      ]
    },
    {
      "cell_type": "code",
      "metadata": {
        "id": "7a1b5d03",
        "outputId": "f7c111bb-c188-4f00-ec7d-517a3b2e0b12"
      },
      "source": [
        "arr = [9,5,1,4,3]\n",
        "for step in range(len(arr)):\n",
        "    min_index = step\n",
        "    for i in range(step+1, len(arr)):\n",
        "        if arr[i] < arr[min_index]:\n",
        "            min_index = i\n",
        "        else:\n",
        "            pass\n",
        "    arr[step], arr[min_index] = arr[min_index], arr[step]\n",
        "\n",
        "print(arr)"
      ],
      "id": "7a1b5d03",
      "execution_count": null,
      "outputs": [
        {
          "name": "stdout",
          "output_type": "stream",
          "text": [
            "[1, 3, 4, 5, 9]\n"
          ]
        }
      ]
    },
    {
      "cell_type": "code",
      "metadata": {
        "id": "b371945c",
        "outputId": "22529930-2c72-4ba4-f8f0-8a464e7d666e"
      },
      "source": [
        "def InsertionSort(args):\n",
        "    lenA = len(args)\n",
        "    #print(args)\n",
        "    for i in range(1, lenA):\n",
        "        for j in range(i, 0, -1):\n",
        "            #print(j)\n",
        "            if args[j] < args[j-1]:\n",
        "                args[j], args[j-1] = args[j-1], args[j]\n",
        "            #print(j, args[j], j + 1, args[j+1])\n",
        "            #if args[j] > args[j+1]:\n",
        "            #    args[j], args[j+1] = args[j+1], args[j]\n",
        "        #print(i,\"번째\",args)\n",
        "    return args\n",
        "#print(InsertionSort(input().split()))\n",
        "print(InsertionSort([20, 12, 10, 15, 2]))\n",
        "print(InsertionSort([29, 72, 98, 13, 87, 66, 52, 51, 36]))\n",
        "print(InsertionSort([9,5,1,4,3]))"
      ],
      "id": "b371945c",
      "execution_count": null,
      "outputs": [
        {
          "name": "stdout",
          "output_type": "stream",
          "text": [
            "[2, 10, 12, 15, 20]\n",
            "[13, 29, 36, 51, 52, 66, 72, 87, 98]\n",
            "[1, 3, 4, 5, 9]\n"
          ]
        }
      ]
    },
    {
      "cell_type": "code",
      "metadata": {
        "id": "c44da037",
        "outputId": "c665f111-ea99-4218-904e-1c8d23b61962"
      },
      "source": [
        "i = 2\n",
        "for j in range(i, 0, -1):\n",
        "    print(j)"
      ],
      "id": "c44da037",
      "execution_count": null,
      "outputs": [
        {
          "name": "stdout",
          "output_type": "stream",
          "text": [
            "2\n",
            "1\n"
          ]
        }
      ]
    },
    {
      "cell_type": "code",
      "metadata": {
        "id": "214f6a6e",
        "outputId": "3e26dc6e-07bf-4697-a54f-d0b2a04d5438"
      },
      "source": [
        "arr = [9,5,1,4,3]\n",
        "print(arr)\n",
        "for step in range(1, len(arr)):\n",
        "    for i in range(step, 0, -1):\n",
        "        if arr[i-1] > arr[i]:\n",
        "            arr[i], arr[i-1] = arr[i-1], arr[i]\n",
        "        else:\n",
        "            pass\n",
        "    print(arr)\n",
        "    print(\"------\")\n",
        "print(arr)"
      ],
      "id": "214f6a6e",
      "execution_count": null,
      "outputs": [
        {
          "name": "stdout",
          "output_type": "stream",
          "text": [
            "[9, 5, 1, 4, 3]\n",
            "[5, 9, 1, 4, 3]\n",
            "------\n",
            "[1, 5, 9, 4, 3]\n",
            "------\n",
            "[1, 4, 5, 9, 3]\n",
            "------\n",
            "[1, 3, 4, 5, 9]\n",
            "------\n",
            "[1, 3, 4, 5, 9]\n"
          ]
        }
      ]
    },
    {
      "cell_type": "code",
      "metadata": {
        "id": "198866a3",
        "outputId": "7b8faed2-1a02-4771-8686-f7def582ac50"
      },
      "source": [
        "arr = [9,5,1,4,3]\n",
        "def BubbleSort(args):\n",
        "    print(args)\n",
        "    lenA = len(args)\n",
        "    for i in range(lenA, 0, -1):\n",
        "        for j in range(0, i - 1):\n",
        "            if args[j] > args[j+1]:\n",
        "                args[j], args[j+1] = args[j+1], args[j]\n",
        "        print(i,\"번째\",args)\n",
        "    return args\n",
        "\n",
        "arr = [20, 12, 10, 15, 2]\n",
        "print(BubbleSort(arr))\n",
        "arr = [29, 72, 98, 13, 87, 66, 52, 51, 36]\n",
        "print(BubbleSort(arr))\n",
        "arr = [9,5,1,4,3]\n",
        "print(BubbleSort(arr))\n",
        "arr = [-2, 45, 0, 11, -9]\n",
        "print(BubbleSort(arr))"
      ],
      "id": "198866a3",
      "execution_count": null,
      "outputs": [
        {
          "name": "stdout",
          "output_type": "stream",
          "text": [
            "[20, 12, 10, 15, 2]\n",
            "5 번째 [12, 10, 15, 2, 20]\n",
            "4 번째 [10, 12, 2, 15, 20]\n",
            "3 번째 [10, 2, 12, 15, 20]\n",
            "2 번째 [2, 10, 12, 15, 20]\n",
            "1 번째 [2, 10, 12, 15, 20]\n",
            "[2, 10, 12, 15, 20]\n",
            "[29, 72, 98, 13, 87, 66, 52, 51, 36]\n",
            "9 번째 [29, 72, 13, 87, 66, 52, 51, 36, 98]\n",
            "8 번째 [29, 13, 72, 66, 52, 51, 36, 87, 98]\n",
            "7 번째 [13, 29, 66, 52, 51, 36, 72, 87, 98]\n",
            "6 번째 [13, 29, 52, 51, 36, 66, 72, 87, 98]\n",
            "5 번째 [13, 29, 51, 36, 52, 66, 72, 87, 98]\n",
            "4 번째 [13, 29, 36, 51, 52, 66, 72, 87, 98]\n",
            "3 번째 [13, 29, 36, 51, 52, 66, 72, 87, 98]\n",
            "2 번째 [13, 29, 36, 51, 52, 66, 72, 87, 98]\n",
            "1 번째 [13, 29, 36, 51, 52, 66, 72, 87, 98]\n",
            "[13, 29, 36, 51, 52, 66, 72, 87, 98]\n",
            "[9, 5, 1, 4, 3]\n",
            "5 번째 [5, 1, 4, 3, 9]\n",
            "4 번째 [1, 4, 3, 5, 9]\n",
            "3 번째 [1, 3, 4, 5, 9]\n",
            "2 번째 [1, 3, 4, 5, 9]\n",
            "1 번째 [1, 3, 4, 5, 9]\n",
            "[1, 3, 4, 5, 9]\n",
            "[-2, 45, 0, 11, -9]\n",
            "5 번째 [-2, 0, 11, -9, 45]\n",
            "4 번째 [-2, 0, -9, 11, 45]\n",
            "3 번째 [-2, -9, 0, 11, 45]\n",
            "2 번째 [-9, -2, 0, 11, 45]\n",
            "1 번째 [-9, -2, 0, 11, 45]\n",
            "[-9, -2, 0, 11, 45]\n"
          ]
        }
      ]
    },
    {
      "cell_type": "code",
      "metadata": {
        "id": "9218dbe7",
        "outputId": "ba47efa6-1635-41b3-b152-c4474ab1da26"
      },
      "source": [
        "arr = [-2, 45, 0, 11, -9]\n",
        "\n",
        "# 원소 갯수만큼 돌려야하니..\n",
        "for step in range(0, len(arr)):\n",
        "    for i in range(0, len(arr) - step - 1):\n",
        "        if arr[i] > arr[i+1] : # 2 값중에서 앞에가 더 크면 swap\n",
        "            arr[i], arr[i+1] = arr [i+1], arr[i]\n",
        "        else:\n",
        "            pass\n",
        "print(arr)"
      ],
      "id": "9218dbe7",
      "execution_count": null,
      "outputs": [
        {
          "name": "stdout",
          "output_type": "stream",
          "text": [
            "[-9, -2, 0, 11, 45]\n"
          ]
        }
      ]
    },
    {
      "cell_type": "code",
      "metadata": {
        "id": "054b32ab",
        "outputId": "cc73af55-d041-4956-e6e5-acee4f98a562"
      },
      "source": [
        "b = [\"one\", \"two\", \"four\", \"six\", \"eight\"]\n",
        "b"
      ],
      "id": "054b32ab",
      "execution_count": null,
      "outputs": [
        {
          "data": {
            "text/plain": [
              "['one', 'two', 'four', 'six', 'eight']"
            ]
          },
          "execution_count": 117,
          "metadata": {},
          "output_type": "execute_result"
        }
      ]
    },
    {
      "cell_type": "code",
      "metadata": {
        "id": "5766274b",
        "outputId": "1b7c76bf-0350-4fcf-df24-e7f6e1cb6a76"
      },
      "source": [
        "b.sort()\n",
        "b"
      ],
      "id": "5766274b",
      "execution_count": null,
      "outputs": [
        {
          "data": {
            "text/plain": [
              "['eight', 'four', 'one', 'six', 'two']"
            ]
          },
          "execution_count": 118,
          "metadata": {},
          "output_type": "execute_result"
        }
      ]
    },
    {
      "cell_type": "code",
      "metadata": {
        "id": "89ae4b16",
        "outputId": "a847dfdc-7fc7-4917-ecfa-21793f7a3240"
      },
      "source": [
        "b.sort( key = lambda x : len(x))\n",
        "b"
      ],
      "id": "89ae4b16",
      "execution_count": null,
      "outputs": [
        {
          "data": {
            "text/plain": [
              "['one', 'six', 'two', 'four', 'eight']"
            ]
          },
          "execution_count": 120,
          "metadata": {},
          "output_type": "execute_result"
        }
      ]
    },
    {
      "cell_type": "code",
      "metadata": {
        "id": "32cc425e",
        "outputId": "522aaf3b-2c76-4843-a84e-13c992e63fb3"
      },
      "source": [
        "sorted"
      ],
      "id": "32cc425e",
      "execution_count": null,
      "outputs": [
        {
          "data": {
            "text/plain": [
              "<function sorted(iterable, /, *, key=None, reverse=False)>"
            ]
          },
          "execution_count": 121,
          "metadata": {},
          "output_type": "execute_result"
        }
      ]
    },
    {
      "cell_type": "code",
      "metadata": {
        "id": "2297b293",
        "outputId": "6adfdc56-4efd-4c03-d8c8-6571593f8906"
      },
      "source": [
        "a = [20, 80, 10, 3, 90, 13]\n",
        "a_s = sorted(a, reverse = True)\n",
        "print(a_s)\n",
        "print(a)"
      ],
      "id": "2297b293",
      "execution_count": null,
      "outputs": [
        {
          "name": "stdout",
          "output_type": "stream",
          "text": [
            "[90, 80, 20, 13, 10, 3]\n",
            "[20, 80, 10, 3, 90, 13]\n"
          ]
        }
      ]
    },
    {
      "cell_type": "code",
      "metadata": {
        "id": "bb7ab1d5",
        "outputId": "132ef527-03c5-4fbb-a2b5-dd3178351fc5"
      },
      "source": [
        "bb = [ (\"d\", 30),(\"c\",20),(\"a\",50),(\"b\",25),(\"e\",40)]\n",
        "bb"
      ],
      "id": "bb7ab1d5",
      "execution_count": null,
      "outputs": [
        {
          "data": {
            "text/plain": [
              "[('d', 30), ('c', 20), ('a', 50), ('b', 25), ('e', 40)]"
            ]
          },
          "execution_count": 123,
          "metadata": {},
          "output_type": "execute_result"
        }
      ]
    },
    {
      "cell_type": "code",
      "metadata": {
        "id": "e3be2264",
        "outputId": "d6d5685d-9b3e-45dd-b368-0d4b3561d2a7"
      },
      "source": [
        "sorted(bb)"
      ],
      "id": "e3be2264",
      "execution_count": null,
      "outputs": [
        {
          "data": {
            "text/plain": [
              "[('a', 50), ('b', 25), ('c', 20), ('d', 30), ('e', 40)]"
            ]
          },
          "execution_count": 124,
          "metadata": {},
          "output_type": "execute_result"
        }
      ]
    },
    {
      "cell_type": "code",
      "metadata": {
        "id": "5a72c4bf",
        "outputId": "da9102c0-9208-4b86-ddda-06629416adb0"
      },
      "source": [
        "sorted(bb, key = lambda x : x[1], reverse = True)"
      ],
      "id": "5a72c4bf",
      "execution_count": null,
      "outputs": [
        {
          "data": {
            "text/plain": [
              "[('a', 50), ('e', 40), ('d', 30), ('b', 25), ('c', 20)]"
            ]
          },
          "execution_count": 126,
          "metadata": {},
          "output_type": "execute_result"
        }
      ]
    },
    {
      "cell_type": "code",
      "metadata": {
        "id": "e777c35f"
      },
      "source": [
        "import re"
      ],
      "id": "e777c35f",
      "execution_count": null,
      "outputs": []
    },
    {
      "cell_type": "code",
      "metadata": {
        "id": "1444b195",
        "outputId": "8bd8dbcb-3f12-463c-fc0b-a9dcb2cbd95b"
      },
      "source": [
        "[a-z]"
      ],
      "id": "1444b195",
      "execution_count": null,
      "outputs": [
        {
          "ename": "NameError",
          "evalue": "name 'a' is not defined",
          "output_type": "error",
          "traceback": [
            "\u001b[1;31m---------------------------------------------------------------------------\u001b[0m",
            "\u001b[1;31mNameError\u001b[0m                                 Traceback (most recent call last)",
            "\u001b[1;32m<ipython-input-2-4a4004f9230f>\u001b[0m in \u001b[0;36m<module>\u001b[1;34m\u001b[0m\n\u001b[1;32m----> 1\u001b[1;33m \u001b[1;33m[\u001b[0m\u001b[0ma\u001b[0m\u001b[1;33m-\u001b[0m\u001b[0mz\u001b[0m\u001b[1;33m]\u001b[0m\u001b[1;33m\u001b[0m\u001b[1;33m\u001b[0m\u001b[0m\n\u001b[0m",
            "\u001b[1;31mNameError\u001b[0m: name 'a' is not defined"
          ]
        }
      ]
    },
    {
      "cell_type": "code",
      "metadata": {
        "id": "3593a4fd"
      },
      "source": [
        "# * 학생이름, 국어, 수학, 영어, 과학 점수 테이블을 만들고 싶다\n",
        "students = [\n",
        "    {\"name\":\"AAA\", \"korean\":98,\"math\":93,\"english\":79,\"science\":95},\n",
        "    {\"name\":\"BBB\", \"korean\":78,\"math\":87,\"english\":87,\"science\":91},\n",
        "    {\"name\":\"CCC\", \"korean\":87,\"math\":88,\"english\":83,\"science\":93},\n",
        "    {\"name\":\"DDD\", \"korean\":79,\"math\":92,\"english\":99,\"science\":88},\n",
        "    {\"name\":\"EEE\", \"korean\":92,\"math\":98,\"english\":94,\"science\":83},\n",
        "    {\"name\":\"FFF\", \"korean\":94,\"math\":99,\"english\":98,\"science\":77},\n",
        "    {\"name\":\"GGG\", \"korean\":84,\"math\":96,\"english\":99,\"science\":79},\n",
        "    {\"name\":\"HHH\", \"korean\":87,\"math\":78,\"english\":88,\"science\":95}\n",
        "]"
      ],
      "id": "3593a4fd",
      "execution_count": null,
      "outputs": []
    },
    {
      "cell_type": "code",
      "metadata": {
        "id": "7246f1f1",
        "outputId": "1610f4f9-8016-424b-88bf-4c56b978e09e"
      },
      "source": [
        "students"
      ],
      "id": "7246f1f1",
      "execution_count": null,
      "outputs": [
        {
          "data": {
            "text/plain": [
              "[{'name': 'AAA', 'korean': 98, 'math': 93, 'english': 79, 'science': 95},\n",
              " {'name': 'BBB', 'korean': 78, 'math': 87, 'english': 87, 'science': 91},\n",
              " {'name': 'CCC', 'korean': 87, 'math': 88, 'english': 83, 'science': 93},\n",
              " {'name': 'DDD', 'korean': 79, 'math': 92, 'english': 99, 'science': 88},\n",
              " {'name': 'EEE', 'korean': 92, 'math': 98, 'english': 94, 'science': 83},\n",
              " {'name': 'FFF', 'korean': 94, 'math': 99, 'english': 98, 'science': 77},\n",
              " {'name': 'GGG', 'korean': 84, 'math': 96, 'english': 99, 'science': 79},\n",
              " {'name': 'HHH', 'korean': 87, 'math': 78, 'english': 88, 'science': 95}]"
            ]
          },
          "execution_count": 7,
          "metadata": {},
          "output_type": "execute_result"
        }
      ]
    },
    {
      "cell_type": "code",
      "metadata": {
        "id": "58144d6c",
        "outputId": "50925da5-2801-4d8d-e2d6-8d8652663959"
      },
      "source": [
        "for student in students:\n",
        "    score_sum = student[\"korean\"] + student[\"math\"] \\\n",
        "                + student[\"english\"] + student[\"science\"]\n",
        "    score_avg = score_sum / 4\n",
        "    print(student[\"name\"], score_sum, score_avg, sep=\"\\t\")"
      ],
      "id": "58144d6c",
      "execution_count": null,
      "outputs": [
        {
          "name": "stdout",
          "output_type": "stream",
          "text": [
            "AAA\t365\t91.25\n",
            "BBB\t343\t85.75\n",
            "CCC\t351\t87.75\n",
            "DDD\t358\t89.5\n",
            "EEE\t367\t91.75\n",
            "FFF\t368\t92.0\n",
            "GGG\t358\t89.5\n",
            "HHH\t348\t87.0\n"
          ]
        }
      ]
    },
    {
      "cell_type": "code",
      "metadata": {
        "id": "6266f2b1"
      },
      "source": [
        "# 학생에 대한 정보 생성 함수, 1명 학생에 대한 정보로 총점구하는 함수\n",
        "# 1명 학생에 대한 정보로 총점을 구하는 함수\n",
        "# 1명 학생에 대한 정보로 평균을 구하는 함수\n",
        "# 1명 학생에 대한 이름, 총점, 평균을 출력하는 함수\n",
        "def create_student(name, korean, math, english, science):\n",
        "    return {\"name\":name,\n",
        "           \"korean\":korean,\n",
        "           \"math\":math,\n",
        "           \"english\":english,\n",
        "           \"science\":science}\n",
        "\n",
        "def student_get_sum(student):\n",
        "    score_sum = student[\"korean\"] + student[\"math\"] \\\n",
        "                + student[\"english\"] + student[\"science\"]\n",
        "    return score_sum\n",
        "\n",
        "def student_get_avg(student):\n",
        "    score_avg = student_get_sum(student) / 4\n",
        "    return score_avg\n",
        "\n",
        "def student_to_string(student):\n",
        "    temp = \"{0}\\t{1}\\t{2}\".format(student[\"name\"]\n",
        "                                  ,student_get_sum(student)\n",
        "                                  ,student_get_avg(student))\n",
        "    return temp"
      ],
      "id": "6266f2b1",
      "execution_count": null,
      "outputs": []
    },
    {
      "cell_type": "code",
      "metadata": {
        "id": "937d1786"
      },
      "source": [
        "students = [\n",
        "    create_student('AAA',98,93,79,95),\n",
        "    create_student('BBB',78,87,87,91),\n",
        "    create_student('CCC',87,88,83,93),\n",
        "    create_student('DDD',79,92,99,88),\n",
        "    create_student('EEE',92,98,94,83),\n",
        "    create_student('FFF',94,99,98,77),\n",
        "    create_student('GGG',84,96,99,79),\n",
        "    create_student('HHH',87,78,88,95)\n",
        "]"
      ],
      "id": "937d1786",
      "execution_count": null,
      "outputs": []
    },
    {
      "cell_type": "code",
      "metadata": {
        "id": "84ec3500",
        "outputId": "be1129af-f1cf-4ab1-9ff4-594fd4e5ab4a"
      },
      "source": [
        "for student in students:\n",
        "    print(student_to_string(student))"
      ],
      "id": "84ec3500",
      "execution_count": null,
      "outputs": [
        {
          "name": "stdout",
          "output_type": "stream",
          "text": [
            "AAA\t365\t91.25\n",
            "BBB\t343\t85.75\n",
            "CCC\t351\t87.75\n",
            "DDD\t358\t89.5\n",
            "EEE\t367\t91.75\n",
            "FFF\t368\t92.0\n",
            "GGG\t358\t89.5\n",
            "HHH\t348\t87.0\n"
          ]
        }
      ]
    },
    {
      "cell_type": "code",
      "metadata": {
        "id": "09dff675"
      },
      "source": [
        "class Student:\n",
        "    def __init__(self,name,korean,math,english,science):\n",
        "        self.name = name\n",
        "        self.korean = korean\n",
        "        self.math = math\n",
        "        self.english = english\n",
        "        self.science = science\n",
        "    ## student 클래스에서 필요한 기능들을 만들자 : 메소드\n",
        "    def get_sum(self):\n",
        "        score_sum = self.korean + self.math + self.english + self.science\n",
        "        return score_sum\n",
        "    def get_avg(self):\n",
        "        score_avg = self.get_sum() / 4\n",
        "        return score_avg\n",
        "    def to_string(self):\n",
        "        temp = \"{0}\\t{1}\\t{2}\".format(self.name\n",
        "                                  ,self.get_sum()\n",
        "                                  ,self.get_avg())\n",
        "        return temp\n",
        "    ## 특별 메소드\n",
        "    def __str__(self):\n",
        "        temp = \"{0}\\t{1}\\t{2}\".format(self.name\n",
        "                                  ,self.get_sum()\n",
        "                                  ,self.get_avg())\n",
        "        return temp\n",
        "    ### 비교 관련 특별 메소드\n",
        "    # == : eq, != :ne, > : gt, >= : ge, < : lt, <= le\n",
        "    def __eq__(self, value):\n",
        "        return self.get_sum() == value.get_sum()\n",
        "    def __ne__(self, value):\n",
        "        return self.get_sum() != value.get_sum()\n",
        "    def __gt__(self, value):\n",
        "        return self.get_sum() > value.get_sum()\n",
        "    def __ge__(self, value):\n",
        "        return self.get_sum() >= value.get_sum()\n",
        "    def __lt__(self, value):\n",
        "        return self.get_sum() < value.get_sum()\n",
        "    def __le__(self, value):\n",
        "        return self.get_sum() <= value.get_sum()"
      ],
      "id": "09dff675",
      "execution_count": null,
      "outputs": []
    },
    {
      "cell_type": "code",
      "metadata": {
        "id": "3857d2d7"
      },
      "source": [
        "students = [\n",
        "    Student('AAA',98,93,79,95),\n",
        "    Student('BBB',78,87,87,91),\n",
        "    Student('CCC',87,88,83,93),\n",
        "    Student('DDD',79,92,99,88),\n",
        "    Student('EEE',92,98,94,83),\n",
        "    Student('FFF',94,99,98,77),\n",
        "    Student('GGG',84,96,99,79),\n",
        "    Student('HHH',87,78,88,95)\n",
        "]"
      ],
      "id": "3857d2d7",
      "execution_count": null,
      "outputs": []
    },
    {
      "cell_type": "code",
      "metadata": {
        "id": "e10c1dc9",
        "outputId": "23e507ef-9817-4749-d478-d8687fa50efe"
      },
      "source": [
        "print(students[0].name)\n",
        "print(students[0].korean)\n",
        "print(students[0].science)\n",
        "\n",
        "print(students[7].korean)"
      ],
      "id": "e10c1dc9",
      "execution_count": null,
      "outputs": [
        {
          "name": "stdout",
          "output_type": "stream",
          "text": [
            "AAA\n",
            "98\n",
            "95\n",
            "87\n"
          ]
        }
      ]
    },
    {
      "cell_type": "code",
      "metadata": {
        "id": "6c6d6d5f"
      },
      "source": [
        "#이번에는 학생이라는 대상의 속성이 아니라, 그 속성을 바탕으로 뭔가 기능을 정의를 하고 싶음!!"
      ],
      "id": "6c6d6d5f",
      "execution_count": null,
      "outputs": []
    },
    {
      "cell_type": "code",
      "metadata": {
        "id": "7fe34695",
        "outputId": "94902dd6-0a06-44df-d8fb-d6b9937e7e17"
      },
      "source": [
        "class 클래스이름:\n",
        "    def __init__(self):\n",
        "        생성자 : 뭔가 틀을 만들 때, 처음에 그 틀에 채울 값들..\n",
        "    def 메서드에 대한 이름(self, 입력 인자들이 필요하면...)\n",
        "        ~~~~~~"
      ],
      "id": "7fe34695",
      "execution_count": null,
      "outputs": [
        {
          "ename": "SyntaxError",
          "evalue": "invalid syntax (<ipython-input-33-3ae2a9a68821>, line 3)",
          "output_type": "error",
          "traceback": [
            "\u001b[1;36m  File \u001b[1;32m\"<ipython-input-33-3ae2a9a68821>\"\u001b[1;36m, line \u001b[1;32m3\u001b[0m\n\u001b[1;33m    생성자 : 뭔가 틀을 만들 때, 처음에 그 틀에 채울 값들..\u001b[0m\n\u001b[1;37m             ^\u001b[0m\n\u001b[1;31mSyntaxError\u001b[0m\u001b[1;31m:\u001b[0m invalid syntax\n"
          ]
        }
      ]
    },
    {
      "cell_type": "code",
      "metadata": {
        "id": "735d0012",
        "outputId": "6bb05a2e-c2f1-4b51-85ee-ca1a11e2f704"
      },
      "source": [
        "a = [1, 2, 3, 4]\n",
        "a.append(2)\n",
        "a"
      ],
      "id": "735d0012",
      "execution_count": null,
      "outputs": [
        {
          "data": {
            "text/plain": [
              "[1, 2, 3, 4, 2]"
            ]
          },
          "execution_count": 51,
          "metadata": {},
          "output_type": "execute_result"
        }
      ]
    },
    {
      "cell_type": "code",
      "metadata": {
        "id": "37c50579",
        "outputId": "46498047-ce28-4e36-ae6f-ce1ac008dc80"
      },
      "source": [
        "print(students[1].get_sum())\n",
        "print(students[1].get_avg())"
      ],
      "id": "37c50579",
      "execution_count": null,
      "outputs": [
        {
          "name": "stdout",
          "output_type": "stream",
          "text": [
            "343\n",
            "85.75\n"
          ]
        }
      ]
    },
    {
      "cell_type": "code",
      "metadata": {
        "id": "bc9ee6b9",
        "outputId": "3fdd8b81-b900-4444-b288-2c2dc345e30d"
      },
      "source": [
        "for student in students:\n",
        "    print(student.to_string())\n",
        "    print(student)"
      ],
      "id": "bc9ee6b9",
      "execution_count": null,
      "outputs": [
        {
          "name": "stdout",
          "output_type": "stream",
          "text": [
            "AAA\t365\t91.25\n",
            "<__main__.Student object at 0x00000190511EBD90>\n",
            "BBB\t343\t85.75\n",
            "<__main__.Student object at 0x00000190511EBF70>\n",
            "CCC\t351\t87.75\n",
            "<__main__.Student object at 0x00000190511EB880>\n",
            "DDD\t358\t89.5\n",
            "<__main__.Student object at 0x00000190511EBF40>\n",
            "EEE\t367\t91.75\n",
            "<__main__.Student object at 0x00000190511EB970>\n",
            "FFF\t368\t92.0\n",
            "<__main__.Student object at 0x00000190511EBC40>\n",
            "GGG\t358\t89.5\n",
            "<__main__.Student object at 0x00000190511EBFD0>\n",
            "HHH\t348\t87.0\n",
            "<__main__.Student object at 0x00000190511EB3A0>\n"
          ]
        }
      ]
    },
    {
      "cell_type": "code",
      "metadata": {
        "id": "9e4c3b20",
        "outputId": "ed01bf5b-9b0a-47b3-8024-b4c5392a9c9b"
      },
      "source": [
        "for student in students:\n",
        "    print(student.to_string())\n",
        "    print(student)"
      ],
      "id": "9e4c3b20",
      "execution_count": null,
      "outputs": [
        {
          "name": "stdout",
          "output_type": "stream",
          "text": [
            "AAA\t365\t91.25\n",
            "AAA\t365\t91.25\n",
            "BBB\t343\t85.75\n",
            "BBB\t343\t85.75\n",
            "CCC\t351\t87.75\n",
            "CCC\t351\t87.75\n",
            "DDD\t358\t89.5\n",
            "DDD\t358\t89.5\n",
            "EEE\t367\t91.75\n",
            "EEE\t367\t91.75\n",
            "FFF\t368\t92.0\n",
            "FFF\t368\t92.0\n",
            "GGG\t358\t89.5\n",
            "GGG\t358\t89.5\n",
            "HHH\t348\t87.0\n",
            "HHH\t348\t87.0\n"
          ]
        }
      ]
    },
    {
      "cell_type": "code",
      "metadata": {
        "id": "acc8ce5c",
        "outputId": "44d78cbc-4a41-4774-c09e-b99c827762cf"
      },
      "source": [
        "\"123\" + \"456\""
      ],
      "id": "acc8ce5c",
      "execution_count": null,
      "outputs": [
        {
          "data": {
            "text/plain": [
              "'123456'"
            ]
          },
          "execution_count": 58,
          "metadata": {},
          "output_type": "execute_result"
        }
      ]
    },
    {
      "cell_type": "code",
      "metadata": {
        "id": "23c82c20",
        "outputId": "c8574483-6ee1-4539-ee91-96a6cb676ce0"
      },
      "source": [
        "123 + 456"
      ],
      "id": "23c82c20",
      "execution_count": null,
      "outputs": [
        {
          "data": {
            "text/plain": [
              "579"
            ]
          },
          "execution_count": 59,
          "metadata": {},
          "output_type": "execute_result"
        }
      ]
    },
    {
      "cell_type": "code",
      "metadata": {
        "id": "65478383",
        "outputId": "6d1be3b8-7faf-41c4-bd45-1afad554dad2"
      },
      "source": [
        "[123] + [456]"
      ],
      "id": "65478383",
      "execution_count": null,
      "outputs": [
        {
          "data": {
            "text/plain": [
              "[123, 456]"
            ]
          },
          "execution_count": 60,
          "metadata": {},
          "output_type": "execute_result"
        }
      ]
    },
    {
      "cell_type": "code",
      "metadata": {
        "id": "49a7687d",
        "outputId": "3b18f042-3f9d-44b3-ad1f-2d32d9192194"
      },
      "source": [
        "123 < 456"
      ],
      "id": "49a7687d",
      "execution_count": null,
      "outputs": [
        {
          "data": {
            "text/plain": [
              "False"
            ]
          },
          "execution_count": 61,
          "metadata": {},
          "output_type": "execute_result"
        }
      ]
    },
    {
      "cell_type": "code",
      "metadata": {
        "id": "511dad89",
        "outputId": "e19346c0-becb-48ae-e619-a494ac984b3c"
      },
      "source": [
        "\"123\" < \"456\""
      ],
      "id": "511dad89",
      "execution_count": null,
      "outputs": [
        {
          "data": {
            "text/plain": [
              "False"
            ]
          },
          "execution_count": 62,
          "metadata": {},
          "output_type": "execute_result"
        }
      ]
    },
    {
      "cell_type": "code",
      "metadata": {
        "id": "a2632d69",
        "outputId": "0475b425-3095-4c04-d59d-e396fa88d2a8"
      },
      "source": [
        "[123,4] > [123,5]"
      ],
      "id": "a2632d69",
      "execution_count": null,
      "outputs": [
        {
          "data": {
            "text/plain": [
              "False"
            ]
          },
          "execution_count": 66,
          "metadata": {},
          "output_type": "execute_result"
        }
      ]
    },
    {
      "cell_type": "code",
      "metadata": {
        "scrolled": true,
        "id": "90dd668d",
        "outputId": "aa93d14f-b6b4-4245-bcfd-79b289b55a3c"
      },
      "source": [
        "[\"c=\",12] < [\"c=\",45]"
      ],
      "id": "90dd668d",
      "execution_count": null,
      "outputs": [
        {
          "data": {
            "text/plain": [
              "True"
            ]
          },
          "execution_count": 68,
          "metadata": {},
          "output_type": "execute_result"
        }
      ]
    },
    {
      "cell_type": "code",
      "metadata": {
        "id": "14bc42b8",
        "outputId": "e85c1e53-8e9d-4834-b173-3dfdce5c91b1"
      },
      "source": [
        "[\"c=\",45] == [\"c=\",45]"
      ],
      "id": "14bc42b8",
      "execution_count": null,
      "outputs": [
        {
          "data": {
            "text/plain": [
              "True"
            ]
          },
          "execution_count": 69,
          "metadata": {},
          "output_type": "execute_result"
        }
      ]
    },
    {
      "cell_type": "code",
      "metadata": {
        "id": "a9242b27",
        "outputId": "66530648-bcd8-4d24-ae6c-91aa4f46cbbd"
      },
      "source": [
        "std1 = Student('AAA',98,93,79,95)\n",
        "std2 = Student('BBB',78,87,87,91)\n",
        "print(std1.get_sum())\n",
        "print(std2.get_sum())\n",
        "print(std1 == std2)\n",
        "print(std1 != std2)\n",
        "print(std1 > std2)\n",
        "print(std1 >= std2)\n",
        "print(std1 < std2)\n",
        "print(std1 <= std2)\n"
      ],
      "id": "a9242b27",
      "execution_count": null,
      "outputs": [
        {
          "name": "stdout",
          "output_type": "stream",
          "text": [
            "365\n",
            "343\n",
            "False\n",
            "True\n",
            "True\n",
            "True\n",
            "False\n",
            "False\n"
          ]
        }
      ]
    },
    {
      "cell_type": "code",
      "metadata": {
        "id": "a2f502f9",
        "outputId": "5a9ad816-25ad-49d6-d02f-fe70a55995f4"
      },
      "source": [
        "numbers = [1,2,3,4,5]\n",
        "print(numbers)\n",
        "print(numbers.append(6))\n",
        "print(numbers)\n",
        "print(numbers.append(7))\n",
        "print(numbers)\n",
        "print(numbers.pop())\n",
        "print(numbers)\n",
        "print(numbers.pop())\n",
        "print(numbers)"
      ],
      "id": "a2f502f9",
      "execution_count": null,
      "outputs": [
        {
          "name": "stdout",
          "output_type": "stream",
          "text": [
            "[1, 2, 3, 4, 5]\n",
            "None\n",
            "[1, 2, 3, 4, 5, 6]\n",
            "None\n",
            "[1, 2, 3, 4, 5, 6, 7]\n",
            "7\n",
            "[1, 2, 3, 4, 5, 6]\n",
            "6\n",
            "[1, 2, 3, 4, 5]\n"
          ]
        }
      ]
    },
    {
      "cell_type": "code",
      "metadata": {
        "id": "c9cb6f4b",
        "outputId": "a7a5193e-9d1e-4905-a3ae-67f2dc23734a"
      },
      "source": [
        "numbers = [1,2,3,4,5]\n",
        "numbers.append(6)\n",
        "print(numbers)\n",
        "numbers.append(7)\n",
        "print(numbers)\n",
        "print(numbers.pop(0))\n",
        "print(numbers)\n",
        "print(numbers.pop(0))\n",
        "print(numbers)"
      ],
      "id": "c9cb6f4b",
      "execution_count": null,
      "outputs": [
        {
          "name": "stdout",
          "output_type": "stream",
          "text": [
            "[1, 2, 3, 4, 5, 6]\n",
            "[1, 2, 3, 4, 5, 6, 7]\n",
            "1\n",
            "[2, 3, 4, 5, 6, 7]\n",
            "2\n",
            "[3, 4, 5, 6, 7]\n"
          ]
        }
      ]
    },
    {
      "cell_type": "code",
      "metadata": {
        "id": "40b12c69",
        "outputId": "534140e3-7dea-4893-8e73-52893fdb5754"
      },
      "source": [
        "def recursive_func():\n",
        "    print(\"나는 재귀함수다!!\")\n",
        "    recursive_func()\n",
        "\n",
        "# 재귀 함수 실행\n",
        "recursive_func()"
      ],
      "id": "40b12c69",
      "execution_count": null,
      "outputs": [
        {
          "name": "stdout",
          "output_type": "stream",
          "text": [
            "나는 재귀함수다!!\n",
            "나는 재귀함수다!!\n",
            "나는 재귀함수다!!\n",
            "나는 재귀함수다!!\n",
            "나는 재귀함수다!!\n",
            "나는 재귀함수다!!\n",
            "나는 재귀함수다!!\n",
            "나는 재귀함수다!!\n",
            "나는 재귀함수다!!\n",
            "나는 재귀함수다!!\n",
            "나는 재귀함수다!!\n",
            "나는 재귀함수다!!\n",
            "나는 재귀함수다!!\n",
            "나는 재귀함수다!!\n",
            "나는 재귀함수다!!\n",
            "나는 재귀함수다!!\n",
            "나는 재귀함수다!!\n",
            "나는 재귀함수다!!\n",
            "나는 재귀함수다!!\n",
            "나는 재귀함수다!!\n",
            "나는 재귀함수다!!\n",
            "나는 재귀함수다!!\n",
            "나는 재귀함수다!!\n",
            "나는 재귀함수다!!\n",
            "나는 재귀함수다!!\n",
            "나는 재귀함수다!!\n",
            "나는 재귀함수다!!\n",
            "나는 재귀함수다!!\n",
            "나는 재귀함수다!!\n",
            "나는 재귀함수다!!\n",
            "나는 재귀함수다!!\n",
            "나는 재귀함수다!!\n",
            "나는 재귀함수다!!\n",
            "나는 재귀함수다!!\n",
            "나는 재귀함수다!!\n",
            "나는 재귀함수다!!\n",
            "나는 재귀함수다!!\n",
            "나는 재귀함수다!!\n",
            "나는 재귀함수다!!\n",
            "나는 재귀함수다!!\n",
            "나는 재귀함수다!!\n",
            "나는 재귀함수다!!\n",
            "나는 재귀함수다!!\n",
            "나는 재귀함수다!!\n",
            "나는 재귀함수다!!\n",
            "나는 재귀함수다!!\n",
            "나는 재귀함수다!!\n",
            "나는 재귀함수다!!\n",
            "나는 재귀함수다!!\n",
            "나는 재귀함수다!!\n",
            "나는 재귀함수다!!\n",
            "나는 재귀함수다!!\n",
            "나는 재귀함수다!!\n",
            "나는 재귀함수다!!\n",
            "나는 재귀함수다!!\n",
            "나는 재귀함수다!!\n",
            "나는 재귀함수다!!\n",
            "나는 재귀함수다!!\n",
            "나는 재귀함수다!!\n",
            "나는 재귀함수다!!\n",
            "나는 재귀함수다!!\n",
            "나는 재귀함수다!!\n",
            "나는 재귀함수다!!\n",
            "나는 재귀함수다!!\n",
            "나는 재귀함수다!!\n",
            "나는 재귀함수다!!\n",
            "나는 재귀함수다!!\n",
            "나는 재귀함수다!!\n",
            "나는 재귀함수다!!\n",
            "나는 재귀함수다!!\n",
            "나는 재귀함수다!!\n",
            "나는 재귀함수다!!\n",
            "나는 재귀함수다!!\n",
            "나는 재귀함수다!!\n",
            "나는 재귀함수다!!\n",
            "나는 재귀함수다!!\n",
            "나는 재귀함수다!!\n",
            "나는 재귀함수다!!\n",
            "나는 재귀함수다!!\n",
            "나는 재귀함수다!!\n",
            "나는 재귀함수다!!\n",
            "나는 재귀함수다!!\n",
            "나는 재귀함수다!!\n",
            "나는 재귀함수다!!\n",
            "나는 재귀함수다!!\n",
            "나는 재귀함수다!!\n",
            "나는 재귀함수다!!\n",
            "나는 재귀함수다!!\n",
            "나는 재귀함수다!!\n",
            "나는 재귀함수다!!\n",
            "나는 재귀함수다!!\n",
            "나는 재귀함수다!!\n",
            "나는 재귀함수다!!\n",
            "나는 재귀함수다!!\n",
            "나는 재귀함수다!!\n",
            "나는 재귀함수다!!\n",
            "나는 재귀함수다!!\n",
            "나는 재귀함수다!!\n",
            "나는 재귀함수다!!\n",
            "나는 재귀함수다!!\n",
            "나는 재귀함수다!!\n",
            "나는 재귀함수다!!\n",
            "나는 재귀함수다!!\n",
            "나는 재귀함수다!!\n",
            "나는 재귀함수다!!\n",
            "나는 재귀함수다!!\n",
            "나는 재귀함수다!!\n",
            "나는 재귀함수다!!\n",
            "나는 재귀함수다!!\n",
            "나는 재귀함수다!!\n",
            "나는 재귀함수다!!\n",
            "나는 재귀함수다!!\n",
            "나는 재귀함수다!!\n",
            "나는 재귀함수다!!\n",
            "나는 재귀함수다!!\n",
            "나는 재귀함수다!!\n",
            "나는 재귀함수다!!\n",
            "나는 재귀함수다!!\n",
            "나는 재귀함수다!!\n",
            "나는 재귀함수다!!\n",
            "나는 재귀함수다!!\n",
            "나는 재귀함수다!!\n",
            "나는 재귀함수다!!\n",
            "나는 재귀함수다!!\n",
            "나는 재귀함수다!!\n",
            "나는 재귀함수다!!\n",
            "나는 재귀함수다!!\n",
            "나는 재귀함수다!!\n",
            "나는 재귀함수다!!\n",
            "나는 재귀함수다!!\n",
            "나는 재귀함수다!!\n",
            "나는 재귀함수다!!\n",
            "나는 재귀함수다!!\n",
            "나는 재귀함수다!!\n",
            "나는 재귀함수다!!\n",
            "나는 재귀함수다!!\n",
            "나는 재귀함수다!!\n",
            "나는 재귀함수다!!\n",
            "나는 재귀함수다!!\n",
            "나는 재귀함수다!!\n",
            "나는 재귀함수다!!\n",
            "나는 재귀함수다!!\n",
            "나는 재귀함수다!!\n",
            "나는 재귀함수다!!\n",
            "나는 재귀함수다!!\n",
            "나는 재귀함수다!!\n",
            "나는 재귀함수다!!\n",
            "나는 재귀함수다!!\n",
            "나는 재귀함수다!!\n",
            "나는 재귀함수다!!\n",
            "나는 재귀함수다!!\n",
            "나는 재귀함수다!!\n",
            "나는 재귀함수다!!\n",
            "나는 재귀함수다!!\n",
            "나는 재귀함수다!!\n",
            "나는 재귀함수다!!\n",
            "나는 재귀함수다!!\n",
            "나는 재귀함수다!!\n",
            "나는 재귀함수다!!\n",
            "나는 재귀함수다!!\n",
            "나는 재귀함수다!!\n",
            "나는 재귀함수다!!\n",
            "나는 재귀함수다!!\n",
            "나는 재귀함수다!!\n",
            "나는 재귀함수다!!\n",
            "나는 재귀함수다!!\n",
            "나는 재귀함수다!!\n",
            "나는 재귀함수다!!\n",
            "나는 재귀함수다!!\n",
            "나는 재귀함수다!!\n",
            "나는 재귀함수다!!\n",
            "나는 재귀함수다!!\n",
            "나는 재귀함수다!!\n",
            "나는 재귀함수다!!\n",
            "나는 재귀함수다!!\n",
            "나는 재귀함수다!!\n",
            "나는 재귀함수다!!\n",
            "나는 재귀함수다!!\n",
            "나는 재귀함수다!!\n",
            "나는 재귀함수다!!\n",
            "나는 재귀함수다!!\n",
            "나는 재귀함수다!!\n",
            "나는 재귀함수다!!\n",
            "나는 재귀함수다!!\n",
            "나는 재귀함수다!!\n",
            "나는 재귀함수다!!\n",
            "나는 재귀함수다!!\n",
            "나는 재귀함수다!!\n",
            "나는 재귀함수다!!\n",
            "나는 재귀함수다!!\n",
            "나는 재귀함수다!!\n",
            "나는 재귀함수다!!\n",
            "나는 재귀함수다!!\n",
            "나는 재귀함수다!!\n",
            "나는 재귀함수다!!\n",
            "나는 재귀함수다!!\n",
            "나는 재귀함수다!!\n",
            "나는 재귀함수다!!\n",
            "나는 재귀함수다!!\n",
            "나는 재귀함수다!!\n",
            "나는 재귀함수다!!\n",
            "나는 재귀함수다!!\n",
            "나는 재귀함수다!!\n",
            "나는 재귀함수다!!\n",
            "나는 재귀함수다!!\n",
            "나는 재귀함수다!!\n",
            "나는 재귀함수다!!\n",
            "나는 재귀함수다!!\n",
            "나는 재귀함수다!!\n",
            "나는 재귀함수다!!\n",
            "나는 재귀함수다!!\n",
            "나는 재귀함수다!!\n",
            "나는 재귀함수다!!\n",
            "나는 재귀함수다!!\n",
            "나는 재귀함수다!!\n",
            "나는 재귀함수다!!\n",
            "나는 재귀함수다!!\n",
            "나는 재귀함수다!!\n",
            "나는 재귀함수다!!\n",
            "나는 재귀함수다!!\n",
            "나는 재귀함수다!!\n",
            "나는 재귀함수다!!\n",
            "나는 재귀함수다!!\n",
            "나는 재귀함수다!!\n",
            "나는 재귀함수다!!\n",
            "나는 재귀함수다!!\n",
            "나는 재귀함수다!!\n",
            "나는 재귀함수다!!\n",
            "나는 재귀함수다!!\n",
            "나는 재귀함수다!!\n",
            "나는 재귀함수다!!\n",
            "나는 재귀함수다!!\n",
            "나는 재귀함수다!!\n",
            "나는 재귀함수다!!\n",
            "나는 재귀함수다!!\n",
            "나는 재귀함수다!!\n",
            "나는 재귀함수다!!\n",
            "나는 재귀함수다!!\n",
            "나는 재귀함수다!!\n",
            "나는 재귀함수다!!\n",
            "나는 재귀함수다!!\n",
            "나는 재귀함수다!!\n",
            "나는 재귀함수다!!\n",
            "나는 재귀함수다!!\n",
            "나는 재귀함수다!!\n",
            "나는 재귀함수다!!\n",
            "나는 재귀함수다!!\n",
            "나는 재귀함수다!!\n",
            "나는 재귀함수다!!\n",
            "나는 재귀함수다!!\n",
            "나는 재귀함수다!!\n",
            "나는 재귀함수다!!\n",
            "나는 재귀함수다!!\n",
            "나는 재귀함수다!!\n",
            "나는 재귀함수다!!\n",
            "나는 재귀함수다!!\n",
            "나는 재귀함수다!!\n",
            "나는 재귀함수다!!\n",
            "나는 재귀함수다!!\n",
            "나는 재귀함수다!!\n",
            "나는 재귀함수다!!\n",
            "나는 재귀함수다!!\n",
            "나는 재귀함수다!!\n",
            "나는 재귀함수다!!\n",
            "나는 재귀함수다!!\n",
            "나는 재귀함수다!!\n",
            "나는 재귀함수다!!\n",
            "나는 재귀함수다!!\n",
            "나는 재귀함수다!!\n",
            "나는 재귀함수다!!\n",
            "나는 재귀함수다!!\n",
            "나는 재귀함수다!!\n",
            "나는 재귀함수다!!\n",
            "나는 재귀함수다!!\n",
            "나는 재귀함수다!!\n",
            "나는 재귀함수다!!\n",
            "나는 재귀함수다!!\n",
            "나는 재귀함수다!!\n",
            "나는 재귀함수다!!\n",
            "나는 재귀함수다!!\n",
            "나는 재귀함수다!!\n",
            "나는 재귀함수다!!\n",
            "나는 재귀함수다!!\n",
            "나는 재귀함수다!!\n",
            "나는 재귀함수다!!\n",
            "나는 재귀함수다!!\n",
            "나는 재귀함수다!!\n",
            "나는 재귀함수다!!\n",
            "나는 재귀함수다!!\n",
            "나는 재귀함수다!!\n",
            "나는 재귀함수다!!\n",
            "나는 재귀함수다!!\n",
            "나는 재귀함수다!!\n",
            "나는 재귀함수다!!\n",
            "나는 재귀함수다!!\n",
            "나는 재귀함수다!!\n",
            "나는 재귀함수다!!\n",
            "나는 재귀함수다!!\n",
            "나는 재귀함수다!!\n",
            "나는 재귀함수다!!\n",
            "나는 재귀함수다!!\n",
            "나는 재귀함수다!!\n",
            "나는 재귀함수다!!\n",
            "나는 재귀함수다!!\n",
            "나는 재귀함수다!!\n",
            "나는 재귀함수다!!\n",
            "나는 재귀함수다!!\n",
            "나는 재귀함수다!!\n",
            "나는 재귀함수다!!\n",
            "나는 재귀함수다!!\n",
            "나는 재귀함수다!!\n",
            "나는 재귀함수다!!\n",
            "나는 재귀함수다!!\n",
            "나는 재귀함수다!!\n",
            "나는 재귀함수다!!\n",
            "나는 재귀함수다!!\n",
            "나는 재귀함수다!!\n",
            "나는 재귀함수다!!\n",
            "나는 재귀함수다!!\n",
            "나는 재귀함수다!!\n",
            "나는 재귀함수다!!\n",
            "나는 재귀함수다!!\n",
            "나는 재귀함수다!!\n",
            "나는 재귀함수다!!\n",
            "나는 재귀함수다!!\n",
            "나는 재귀함수다!!\n",
            "나는 재귀함수다!!\n",
            "나는 재귀함수다!!\n",
            "나는 재귀함수다!!\n",
            "나는 재귀함수다!!\n",
            "나는 재귀함수다!!\n",
            "나는 재귀함수다!!\n",
            "나는 재귀함수다!!\n",
            "나는 재귀함수다!!\n",
            "나는 재귀함수다!!\n",
            "나는 재귀함수다!!\n",
            "나는 재귀함수다!!\n",
            "나는 재귀함수다!!\n",
            "나는 재귀함수다!!\n",
            "나는 재귀함수다!!\n",
            "나는 재귀함수다!!\n",
            "나는 재귀함수다!!\n",
            "나는 재귀함수다!!\n",
            "나는 재귀함수다!!\n",
            "나는 재귀함수다!!\n",
            "나는 재귀함수다!!\n",
            "나는 재귀함수다!!\n",
            "나는 재귀함수다!!\n",
            "나는 재귀함수다!!\n",
            "나는 재귀함수다!!\n",
            "나는 재귀함수다!!\n",
            "나는 재귀함수다!!\n",
            "나는 재귀함수다!!\n",
            "나는 재귀함수다!!\n",
            "나는 재귀함수다!!\n",
            "나는 재귀함수다!!\n",
            "나는 재귀함수다!!\n",
            "나는 재귀함수다!!\n",
            "나는 재귀함수다!!\n",
            "나는 재귀함수다!!\n",
            "나는 재귀함수다!!\n",
            "나는 재귀함수다!!\n",
            "나는 재귀함수다!!\n",
            "나는 재귀함수다!!\n",
            "나는 재귀함수다!!\n",
            "나는 재귀함수다!!\n",
            "나는 재귀함수다!!\n",
            "나는 재귀함수다!!\n",
            "나는 재귀함수다!!\n",
            "나는 재귀함수다!!\n",
            "나는 재귀함수다!!\n",
            "나는 재귀함수다!!\n",
            "나는 재귀함수다!!\n",
            "나는 재귀함수다!!\n",
            "나는 재귀함수다!!\n",
            "나는 재귀함수다!!\n",
            "나는 재귀함수다!!\n",
            "나는 재귀함수다!!\n",
            "나는 재귀함수다!!\n",
            "나는 재귀함수다!!\n",
            "나는 재귀함수다!!\n",
            "나는 재귀함수다!!\n",
            "나는 재귀함수다!!\n",
            "나는 재귀함수다!!\n",
            "나는 재귀함수다!!\n",
            "나는 재귀함수다!!\n",
            "나는 재귀함수다!!\n",
            "나는 재귀함수다!!\n",
            "나는 재귀함수다!!\n",
            "나는 재귀함수다!!\n",
            "나는 재귀함수다!!\n",
            "나는 재귀함수다!!\n",
            "나는 재귀함수다!!\n",
            "나는 재귀함수다!!\n",
            "나는 재귀함수다!!\n",
            "나는 재귀함수다!!\n",
            "나는 재귀함수다!!\n",
            "나는 재귀함수다!!\n",
            "나는 재귀함수다!!\n",
            "나는 재귀함수다!!\n",
            "나는 재귀함수다!!\n",
            "나는 재귀함수다!!\n",
            "나는 재귀함수다!!\n",
            "나는 재귀함수다!!\n",
            "나는 재귀함수다!!\n",
            "나는 재귀함수다!!\n",
            "나는 재귀함수다!!\n",
            "나는 재귀함수다!!\n",
            "나는 재귀함수다!!\n",
            "나는 재귀함수다!!\n",
            "나는 재귀함수다!!\n",
            "나는 재귀함수다!!\n",
            "나는 재귀함수다!!\n",
            "나는 재귀함수다!!\n",
            "나는 재귀함수다!!\n",
            "나는 재귀함수다!!\n",
            "나는 재귀함수다!!\n",
            "나는 재귀함수다!!\n",
            "나는 재귀함수다!!\n",
            "나는 재귀함수다!!\n",
            "나는 재귀함수다!!\n",
            "나는 재귀함수다!!\n",
            "나는 재귀함수다!!\n",
            "나는 재귀함수다!!\n",
            "나는 재귀함수다!!\n",
            "나는 재귀함수다!!\n",
            "나는 재귀함수다!!\n",
            "나는 재귀함수다!!\n",
            "나는 재귀함수다!!\n",
            "나는 재귀함수다!!\n",
            "나는 재귀함수다!!\n",
            "나는 재귀함수다!!\n",
            "나는 재귀함수다!!\n",
            "나는 재귀함수다!!\n",
            "나는 재귀함수다!!\n",
            "나는 재귀함수다!!\n",
            "나는 재귀함수다!!\n",
            "나는 재귀함수다!!\n",
            "나는 재귀함수다!!\n",
            "나는 재귀함수다!!\n",
            "나는 재귀함수다!!\n",
            "나는 재귀함수다!!\n",
            "나는 재귀함수다!!\n",
            "나는 재귀함수다!!\n",
            "나는 재귀함수다!!\n",
            "나는 재귀함수다!!\n",
            "나는 재귀함수다!!\n",
            "나는 재귀함수다!!\n",
            "나는 재귀함수다!!\n",
            "나는 재귀함수다!!\n",
            "나는 재귀함수다!!\n",
            "나는 재귀함수다!!\n",
            "나는 재귀함수다!!\n",
            "나는 재귀함수다!!\n",
            "나는 재귀함수다!!\n",
            "나는 재귀함수다!!\n",
            "나는 재귀함수다!!\n",
            "나는 재귀함수다!!\n",
            "나는 재귀함수다!!\n",
            "나는 재귀함수다!!\n",
            "나는 재귀함수다!!\n",
            "나는 재귀함수다!!\n",
            "나는 재귀함수다!!\n",
            "나는 재귀함수다!!\n",
            "나는 재귀함수다!!\n",
            "나는 재귀함수다!!\n",
            "나는 재귀함수다!!\n",
            "나는 재귀함수다!!\n",
            "나는 재귀함수다!!\n",
            "나는 재귀함수다!!\n",
            "나는 재귀함수다!!\n",
            "나는 재귀함수다!!\n",
            "나는 재귀함수다!!\n",
            "나는 재귀함수다!!\n",
            "나는 재귀함수다!!\n",
            "나는 재귀함수다!!\n",
            "나는 재귀함수다!!\n",
            "나는 재귀함수다!!\n",
            "나는 재귀함수다!!\n",
            "나는 재귀함수다!!\n",
            "나는 재귀함수다!!\n",
            "나는 재귀함수다!!\n",
            "나는 재귀함수다!!\n",
            "나는 재귀함수다!!\n",
            "나는 재귀함수다!!\n",
            "나는 재귀함수다!!\n",
            "나는 재귀함수다!!\n",
            "나는 재귀함수다!!\n",
            "나는 재귀함수다!!\n",
            "나는 재귀함수다!!\n",
            "나는 재귀함수다!!\n",
            "나는 재귀함수다!!\n",
            "나는 재귀함수다!!\n",
            "나는 재귀함수다!!\n",
            "나는 재귀함수다!!\n",
            "나는 재귀함수다!!\n",
            "나는 재귀함수다!!\n",
            "나는 재귀함수다!!\n",
            "나는 재귀함수다!!\n",
            "나는 재귀함수다!!\n",
            "나는 재귀함수다!!\n",
            "나는 재귀함수다!!\n",
            "나는 재귀함수다!!\n",
            "나는 재귀함수다!!\n",
            "나는 재귀함수다!!\n",
            "나는 재귀함수다!!\n",
            "나는 재귀함수다!!\n",
            "나는 재귀함수다!!\n",
            "나는 재귀함수다!!\n",
            "나는 재귀함수다!!\n",
            "나는 재귀함수다!!\n",
            "나는 재귀함수다!!\n",
            "나는 재귀함수다!!\n",
            "나는 재귀함수다!!\n",
            "나는 재귀함수다!!\n",
            "나는 재귀함수다!!\n",
            "나는 재귀함수다!!\n",
            "나는 재귀함수다!!\n",
            "나는 재귀함수다!!\n",
            "나는 재귀함수다!!\n",
            "나는 재귀함수다!!\n",
            "나는 재귀함수다!!\n",
            "나는 재귀함수다!!\n",
            "나는 재귀함수다!!\n",
            "나는 재귀함수다!!\n",
            "나는 재귀함수다!!\n",
            "나는 재귀함수다!!\n",
            "나는 재귀함수다!!\n",
            "나는 재귀함수다!!\n",
            "나는 재귀함수다!!\n",
            "나는 재귀함수다!!\n",
            "나는 재귀함수다!!\n",
            "나는 재귀함수다!!\n",
            "나는 재귀함수다!!\n",
            "나는 재귀함수다!!\n",
            "나는 재귀함수다!!\n",
            "나는 재귀함수다!!\n",
            "나는 재귀함수다!!\n",
            "나는 재귀함수다!!\n",
            "나는 재귀함수다!!\n",
            "나는 재귀함수다!!\n",
            "나는 재귀함수다!!\n",
            "나는 재귀함수다!!\n",
            "나는 재귀함수다!!\n",
            "나는 재귀함수다!!\n",
            "나는 재귀함수다!!\n",
            "나는 재귀함수다!!\n",
            "나는 재귀함수다!!\n",
            "나는 재귀함수다!!\n",
            "나는 재귀함수다!!\n",
            "나는 재귀함수다!!\n",
            "나는 재귀함수다!!\n",
            "나는 재귀함수다!!\n",
            "나는 재귀함수다!!\n",
            "나는 재귀함수다!!\n",
            "나는 재귀함수다!!\n",
            "나는 재귀함수다!!\n",
            "나는 재귀함수다!!\n",
            "나는 재귀함수다!!\n",
            "나는 재귀함수다!!\n",
            "나는 재귀함수다!!\n",
            "나는 재귀함수다!!\n",
            "나는 재귀함수다!!\n",
            "나는 재귀함수다!!\n",
            "나는 재귀함수다!!\n",
            "나는 재귀함수다!!\n",
            "나는 재귀함수다!!\n",
            "나는 재귀함수다!!\n",
            "나는 재귀함수다!!\n",
            "나는 재귀함수다!!\n",
            "나는 재귀함수다!!\n",
            "나는 재귀함수다!!\n",
            "나는 재귀함수다!!\n",
            "나는 재귀함수다!!\n",
            "나는 재귀함수다!!\n",
            "나는 재귀함수다!!\n",
            "나는 재귀함수다!!\n",
            "나는 재귀함수다!!\n",
            "나는 재귀함수다!!\n",
            "나는 재귀함수다!!\n",
            "나는 재귀함수다!!\n",
            "나는 재귀함수다!!\n",
            "나는 재귀함수다!!\n",
            "나는 재귀함수다!!\n",
            "나는 재귀함수다!!\n",
            "나는 재귀함수다!!\n",
            "나는 재귀함수다!!\n",
            "나는 재귀함수다!!\n",
            "나는 재귀함수다!!\n",
            "나는 재귀함수다!!\n",
            "나는 재귀함수다!!\n",
            "나는 재귀함수다!!\n",
            "나는 재귀함수다!!\n",
            "나는 재귀함수다!!\n",
            "나는 재귀함수다!!\n",
            "나는 재귀함수다!!\n",
            "나는 재귀함수다!!\n",
            "나는 재귀함수다!!\n",
            "나는 재귀함수다!!\n",
            "나는 재귀함수다!!\n",
            "나는 재귀함수다!!\n",
            "나는 재귀함수다!!\n",
            "나는 재귀함수다!!\n",
            "나는 재귀함수다!!\n",
            "나는 재귀함수다!!\n",
            "나는 재귀함수다!!\n",
            "나는 재귀함수다!!\n",
            "나는 재귀함수다!!\n",
            "나는 재귀함수다!!\n",
            "나는 재귀함수다!!\n",
            "나는 재귀함수다!!\n",
            "나는 재귀함수다!!\n",
            "나는 재귀함수다!!\n",
            "나는 재귀함수다!!\n",
            "나는 재귀함수다!!\n",
            "나는 재귀함수다!!\n",
            "나는 재귀함수다!!\n",
            "나는 재귀함수다!!\n",
            "나는 재귀함수다!!\n",
            "나는 재귀함수다!!\n",
            "나는 재귀함수다!!\n",
            "나는 재귀함수다!!\n",
            "나는 재귀함수다!!\n",
            "나는 재귀함수다!!\n",
            "나는 재귀함수다!!\n",
            "나는 재귀함수다!!\n",
            "나는 재귀함수다!!\n",
            "나는 재귀함수다!!\n",
            "나는 재귀함수다!!\n",
            "나는 재귀함수다!!\n",
            "나는 재귀함수다!!\n",
            "나는 재귀함수다!!\n",
            "나는 재귀함수다!!\n",
            "나는 재귀함수다!!\n",
            "나는 재귀함수다!!\n",
            "나는 재귀함수다!!\n",
            "나는 재귀함수다!!\n",
            "나는 재귀함수다!!\n",
            "나는 재귀함수다!!\n",
            "나는 재귀함수다!!\n",
            "나는 재귀함수다!!\n",
            "나는 재귀함수다!!\n",
            "나는 재귀함수다!!\n",
            "나는 재귀함수다!!\n",
            "나는 재귀함수다!!\n",
            "나는 재귀함수다!!\n",
            "나는 재귀함수다!!\n",
            "나는 재귀함수다!!\n",
            "나는 재귀함수다!!\n",
            "나는 재귀함수다!!\n",
            "나는 재귀함수다!!\n",
            "나는 재귀함수다!!\n",
            "나는 재귀함수다!!\n",
            "나는 재귀함수다!!\n",
            "나는 재귀함수다!!\n",
            "나는 재귀함수다!!\n",
            "나는 재귀함수다!!\n",
            "나는 재귀함수다!!\n",
            "나는 재귀함수다!!\n",
            "나는 재귀함수다!!\n",
            "나는 재귀함수다!!\n",
            "나는 재귀함수다!!\n",
            "나는 재귀함수다!!\n",
            "나는 재귀함수다!!\n",
            "나는 재귀함수다!!\n",
            "나는 재귀함수다!!\n",
            "나는 재귀함수다!!\n",
            "나는 재귀함수다!!\n",
            "나는 재귀함수다!!\n",
            "나는 재귀함수다!!\n",
            "나는 재귀함수다!!\n",
            "나는 재귀함수다!!\n",
            "나는 재귀함수다!!\n",
            "나는 재귀함수다!!\n",
            "나는 재귀함수다!!\n",
            "나는 재귀함수다!!\n",
            "나는 재귀함수다!!\n",
            "나는 재귀함수다!!\n",
            "나는 재귀함수다!!\n",
            "나는 재귀함수다!!\n",
            "나는 재귀함수다!!\n",
            "나는 재귀함수다!!\n",
            "나는 재귀함수다!!\n",
            "나는 재귀함수다!!\n",
            "나는 재귀함수다!!\n",
            "나는 재귀함수다!!\n",
            "나는 재귀함수다!!\n",
            "나는 재귀함수다!!\n",
            "나는 재귀함수다!!\n",
            "나는 재귀함수다!!\n",
            "나는 재귀함수다!!\n",
            "나는 재귀함수다!!\n",
            "나는 재귀함수다!!\n",
            "나는 재귀함수다!!\n",
            "나는 재귀함수다!!\n",
            "나는 재귀함수다!!\n",
            "나는 재귀함수다!!\n",
            "나는 재귀함수다!!\n",
            "나는 재귀함수다!!\n",
            "나는 재귀함수다!!\n",
            "나는 재귀함수다!!\n",
            "나는 재귀함수다!!\n",
            "나는 재귀함수다!!\n",
            "나는 재귀함수다!!\n",
            "나는 재귀함수다!!\n",
            "나는 재귀함수다!!\n",
            "나는 재귀함수다!!\n",
            "나는 재귀함수다!!\n",
            "나는 재귀함수다!!\n",
            "나는 재귀함수다!!\n",
            "나는 재귀함수다!!\n",
            "나는 재귀함수다!!\n",
            "나는 재귀함수다!!\n",
            "나는 재귀함수다!!\n",
            "나는 재귀함수다!!\n",
            "나는 재귀함수다!!\n",
            "나는 재귀함수다!!\n",
            "나는 재귀함수다!!\n",
            "나는 재귀함수다!!\n",
            "나는 재귀함수다!!\n",
            "나는 재귀함수다!!\n",
            "나는 재귀함수다!!\n",
            "나는 재귀함수다!!\n",
            "나는 재귀함수다!!\n",
            "나는 재귀함수다!!\n",
            "나는 재귀함수다!!\n",
            "나는 재귀함수다!!\n",
            "나는 재귀함수다!!\n",
            "나는 재귀함수다!!\n",
            "나는 재귀함수다!!\n",
            "나는 재귀함수다!!\n",
            "나는 재귀함수다!!\n",
            "나는 재귀함수다!!\n",
            "나는 재귀함수다!!\n",
            "나는 재귀함수다!!\n",
            "나는 재귀함수다!!\n",
            "나는 재귀함수다!!\n",
            "나는 재귀함수다!!\n",
            "나는 재귀함수다!!\n",
            "나는 재귀함수다!!\n",
            "나는 재귀함수다!!\n",
            "나는 재귀함수다!!\n",
            "나는 재귀함수다!!\n",
            "나는 재귀함수다!!\n",
            "나는 재귀함수다!!\n",
            "나는 재귀함수다!!\n",
            "나는 재귀함수다!!\n",
            "나는 재귀함수다!!\n",
            "나는 재귀함수다!!\n",
            "나는 재귀함수다!!\n",
            "나는 재귀함수다!!\n",
            "나는 재귀함수다!!\n",
            "나는 재귀함수다!!\n",
            "나는 재귀함수다!!\n",
            "나는 재귀함수다!!\n",
            "나는 재귀함수다!!\n",
            "나는 재귀함수다!!\n",
            "나는 재귀함수다!!\n",
            "나는 재귀함수다!!\n",
            "나는 재귀함수다!!\n",
            "나는 재귀함수다!!\n",
            "나는 재귀함수다!!\n",
            "나는 재귀함수다!!\n",
            "나는 재귀함수다!!\n",
            "나는 재귀함수다!!\n",
            "나는 재귀함수다!!\n",
            "나는 재귀함수다!!\n",
            "나는 재귀함수다!!\n",
            "나는 재귀함수다!!\n",
            "나는 재귀함수다!!\n",
            "나는 재귀함수다!!\n",
            "나는 재귀함수다!!\n",
            "나는 재귀함수다!!\n",
            "나는 재귀함수다!!\n",
            "나는 재귀함수다!!\n",
            "나는 재귀함수다!!\n",
            "나는 재귀함수다!!\n",
            "나는 재귀함수다!!\n",
            "나는 재귀함수다!!\n",
            "나는 재귀함수다!!\n",
            "나는 재귀함수다!!\n",
            "나는 재귀함수다!!\n",
            "나는 재귀함수다!!\n",
            "나는 재귀함수다!!\n",
            "나는 재귀함수다!!\n",
            "나는 재귀함수다!!\n",
            "나는 재귀함수다!!\n",
            "나는 재귀함수다!!\n",
            "나는 재귀함수다!!\n",
            "나는 재귀함수다!!\n",
            "나는 재귀함수다!!\n",
            "나는 재귀함수다!!\n",
            "나는 재귀함수다!!\n",
            "나는 재귀함수다!!\n",
            "나는 재귀함수다!!\n",
            "나는 재귀함수다!!\n",
            "나는 재귀함수다!!\n",
            "나는 재귀함수다!!\n",
            "나는 재귀함수다!!\n",
            "나는 재귀함수다!!\n",
            "나는 재귀함수다!!\n",
            "나는 재귀함수다!!\n",
            "나는 재귀함수다!!\n",
            "나는 재귀함수다!!\n",
            "나는 재귀함수다!!\n",
            "나는 재귀함수다!!\n",
            "나는 재귀함수다!!\n",
            "나는 재귀함수다!!\n",
            "나는 재귀함수다!!\n",
            "나는 재귀함수다!!\n",
            "나는 재귀함수다!!\n",
            "나는 재귀함수다!!\n",
            "나는 재귀함수다!!\n",
            "나는 재귀함수다!!\n",
            "나는 재귀함수다!!\n",
            "나는 재귀함수다!!\n",
            "나는 재귀함수다!!\n",
            "나는 재귀함수다!!\n",
            "나는 재귀함수다!!\n",
            "나는 재귀함수다!!\n",
            "나는 재귀함수다!!\n",
            "나는 재귀함수다!!\n",
            "나는 재귀함수다!!\n",
            "나는 재귀함수다!!\n",
            "나는 재귀함수다!!\n",
            "나는 재귀함수다!!\n",
            "나는 재귀함수다!!\n",
            "나는 재귀함수다!!\n",
            "나는 재귀함수다!!\n",
            "나는 재귀함수다!!\n",
            "나는 재귀함수다!!\n",
            "나는 재귀함수다!!\n",
            "나는 재귀함수다!!\n",
            "나는 재귀함수다!!\n",
            "나는 재귀함수다!!\n",
            "나는 재귀함수다!!\n",
            "나는 재귀함수다!!\n",
            "나는 재귀함수다!!\n",
            "나는 재귀함수다!!\n",
            "나는 재귀함수다!!\n",
            "나는 재귀함수다!!\n",
            "나는 재귀함수다!!\n",
            "나는 재귀함수다!!\n",
            "나는 재귀함수다!!\n",
            "나는 재귀함수다!!\n",
            "나는 재귀함수다!!\n",
            "나는 재귀함수다!!\n",
            "나는 재귀함수다!!\n",
            "나는 재귀함수다!!\n",
            "나는 재귀함수다!!\n",
            "나는 재귀함수다!!\n",
            "나는 재귀함수다!!\n",
            "나는 재귀함수다!!\n",
            "나는 재귀함수다!!\n",
            "나는 재귀함수다!!\n",
            "나는 재귀함수다!!\n",
            "나는 재귀함수다!!\n",
            "나는 재귀함수다!!\n",
            "나는 재귀함수다!!\n",
            "나는 재귀함수다!!\n",
            "나는 재귀함수다!!\n",
            "나는 재귀함수다!!\n",
            "나는 재귀함수다!!\n",
            "나는 재귀함수다!!\n",
            "나는 재귀함수다!!\n",
            "나는 재귀함수다!!\n",
            "나는 재귀함수다!!\n",
            "나는 재귀함수다!!\n",
            "나는 재귀함수다!!\n",
            "나는 재귀함수다!!\n",
            "나는 재귀함수다!!\n",
            "나는 재귀함수다!!\n",
            "나는 재귀함수다!!\n",
            "나는 재귀함수다!!\n",
            "나는 재귀함수다!!\n",
            "나는 재귀함수다!!\n",
            "나는 재귀함수다!!\n",
            "나는 재귀함수다!!\n",
            "나는 재귀함수다!!\n",
            "나는 재귀함수다!!\n",
            "나는 재귀함수다!!\n",
            "나는 재귀함수다!!\n",
            "나는 재귀함수다!!\n",
            "나는 재귀함수다!!\n",
            "나는 재귀함수다!!\n",
            "나는 재귀함수다!!\n",
            "나는 재귀함수다!!\n",
            "나는 재귀함수다!!\n",
            "나는 재귀함수다!!\n",
            "나는 재귀함수다!!\n",
            "나는 재귀함수다!!\n",
            "나는 재귀함수다!!\n",
            "나는 재귀함수다!!\n",
            "나는 재귀함수다!!\n",
            "나는 재귀함수다!!\n",
            "나는 재귀함수다!!\n",
            "나는 재귀함수다!!\n",
            "나는 재귀함수다!!\n",
            "나는 재귀함수다!!\n",
            "나는 재귀함수다!!\n",
            "나는 재귀함수다!!\n",
            "나는 재귀함수다!!\n",
            "나는 재귀함수다!!\n",
            "나는 재귀함수다!!\n",
            "나는 재귀함수다!!\n",
            "나는 재귀함수다!!\n",
            "나는 재귀함수다!!\n",
            "나는 재귀함수다!!\n",
            "나는 재귀함수다!!\n",
            "나는 재귀함수다!!\n",
            "나는 재귀함수다!!\n",
            "나는 재귀함수다!!\n",
            "나는 재귀함수다!!\n",
            "나는 재귀함수다!!\n",
            "나는 재귀함수다!!\n",
            "나는 재귀함수다!!\n",
            "나는 재귀함수다!!\n",
            "나는 재귀함수다!!\n",
            "나는 재귀함수다!!\n",
            "나는 재귀함수다!!\n",
            "나는 재귀함수다!!\n",
            "나는 재귀함수다!!\n",
            "나는 재귀함수다!!\n",
            "나는 재귀함수다!!\n",
            "나는 재귀함수다!!\n",
            "나는 재귀함수다!!\n",
            "나는 재귀함수다!!\n",
            "나는 재귀함수다!!\n",
            "나는 재귀함수다!!\n",
            "나는 재귀함수다!!\n",
            "나는 재귀함수다!!\n",
            "나는 재귀함수다!!\n",
            "나는 재귀함수다!!\n",
            "나는 재귀함수다!!\n",
            "나는 재귀함수다!!\n",
            "나는 재귀함수다!!\n",
            "나는 재귀함수다!!\n",
            "나는 재귀함수다!!\n",
            "나는 재귀함수다!!\n",
            "나는 재귀함수다!!\n",
            "나는 재귀함수다!!\n",
            "나는 재귀함수다!!\n",
            "나는 재귀함수다!!\n",
            "나는 재귀함수다!!\n",
            "나는 재귀함수다!!\n",
            "나는 재귀함수다!!\n",
            "나는 재귀함수다!!\n",
            "나는 재귀함수다!!\n",
            "나는 재귀함수다!!\n",
            "나는 재귀함수다!!\n",
            "나는 재귀함수다!!\n",
            "나는 재귀함수다!!\n",
            "나는 재귀함수다!!\n",
            "나는 재귀함수다!!\n",
            "나는 재귀함수다!!\n",
            "나는 재귀함수다!!\n",
            "나는 재귀함수다!!\n",
            "나는 재귀함수다!!\n",
            "나는 재귀함수다!!\n",
            "나는 재귀함수다!!\n",
            "나는 재귀함수다!!\n",
            "나는 재귀함수다!!\n",
            "나는 재귀함수다!!\n",
            "나는 재귀함수다!!\n",
            "나는 재귀함수다!!\n",
            "나는 재귀함수다!!\n",
            "나는 재귀함수다!!\n",
            "나는 재귀함수다!!\n",
            "나는 재귀함수다!!\n",
            "나는 재귀함수다!!\n",
            "나는 재귀함수다!!\n",
            "나는 재귀함수다!!\n",
            "나는 재귀함수다!!\n",
            "나는 재귀함수다!!\n",
            "나는 재귀함수다!!\n",
            "나는 재귀함수다!!\n",
            "나는 재귀함수다!!\n",
            "나는 재귀함수다!!\n",
            "나는 재귀함수다!!\n",
            "나는 재귀함수다!!\n",
            "나는 재귀함수다!!\n",
            "나는 재귀함수다!!\n",
            "나는 재귀함수다!!\n",
            "나는 재귀함수다!!\n",
            "나는 재귀함수다!!\n",
            "나는 재귀함수다!!\n",
            "나는 재귀함수다!!\n",
            "나는 재귀함수다!!\n",
            "나는 재귀함수다!!\n",
            "나는 재귀함수다!!\n",
            "나는 재귀함수다!!\n",
            "나는 재귀함수다!!\n",
            "나는 재귀함수다!!\n",
            "나는 재귀함수다!!\n",
            "나는 재귀함수다!!\n",
            "나는 재귀함수다!!\n",
            "나는 재귀함수다!!\n",
            "나는 재귀함수다!!\n",
            "나는 재귀함수다!!\n",
            "나는 재귀함수다!!\n",
            "나는 재귀함수다!!\n",
            "나는 재귀함수다!!\n",
            "나는 재귀함수다!!\n",
            "나는 재귀함수다!!\n",
            "나는 재귀함수다!!\n",
            "나는 재귀함수다!!\n",
            "나는 재귀함수다!!\n",
            "나는 재귀함수다!!\n",
            "나는 재귀함수다!!\n",
            "나는 재귀함수다!!\n",
            "나는 재귀함수다!!\n",
            "나는 재귀함수다!!\n",
            "나는 재귀함수다!!\n",
            "나는 재귀함수다!!\n",
            "나는 재귀함수다!!\n",
            "나는 재귀함수다!!\n",
            "나는 재귀함수다!!\n",
            "나는 재귀함수다!!\n",
            "나는 재귀함수다!!\n",
            "나는 재귀함수다!!\n",
            "나는 재귀함수다!!\n",
            "나는 재귀함수다!!\n",
            "나는 재귀함수다!!\n",
            "나는 재귀함수다!!\n",
            "나는 재귀함수다!!\n",
            "나는 재귀함수다!!\n",
            "나는 재귀함수다!!\n",
            "나는 재귀함수다!!\n",
            "나는 재귀함수다!!\n",
            "나는 재귀함수다!!\n",
            "나는 재귀함수다!!\n",
            "나는 재귀함수다!!\n",
            "나는 재귀함수다!!\n",
            "나는 재귀함수다!!\n",
            "나는 재귀함수다!!\n",
            "나는 재귀함수다!!\n",
            "나는 재귀함수다!!\n",
            "나는 재귀함수다!!\n",
            "나는 재귀함수다!!\n",
            "나는 재귀함수다!!\n",
            "나는 재귀함수다!!\n",
            "나는 재귀함수다!!\n",
            "나는 재귀함수다!!\n",
            "나는 재귀함수다!!\n",
            "나는 재귀함수다!!\n",
            "나는 재귀함수다!!\n",
            "나는 재귀함수다!!\n",
            "나는 재귀함수다!!\n",
            "나는 재귀함수다!!\n",
            "나는 재귀함수다!!\n",
            "나는 재귀함수다!!\n",
            "나는 재귀함수다!!\n",
            "나는 재귀함수다!!\n",
            "나는 재귀함수다!!\n",
            "나는 재귀함수다!!\n",
            "나는 재귀함수다!!\n",
            "나는 재귀함수다!!\n",
            "나는 재귀함수다!!\n",
            "나는 재귀함수다!!\n",
            "나는 재귀함수다!!\n",
            "나는 재귀함수다!!\n",
            "나는 재귀함수다!!\n",
            "나는 재귀함수다!!\n",
            "나는 재귀함수다!!\n",
            "나는 재귀함수다!!\n",
            "나는 재귀함수다!!\n",
            "나는 재귀함수다!!\n",
            "나는 재귀함수다!!\n",
            "나는 재귀함수다!!\n",
            "나는 재귀함수다!!\n",
            "나는 재귀함수다!!\n",
            "나는 재귀함수다!!\n",
            "나는 재귀함수다!!\n",
            "나는 재귀함수다!!\n",
            "나는 재귀함수다!!\n",
            "나는 재귀함수다!!\n",
            "나는 재귀함수다!!\n",
            "나는 재귀함수다!!\n",
            "나는 재귀함수다!!\n",
            "나는 재귀함수다!!\n",
            "나는 재귀함수다!!\n",
            "나는 재귀함수다!!\n",
            "나는 재귀함수다!!\n",
            "나는 재귀함수다!!\n",
            "나는 재귀함수다!!\n",
            "나는 재귀함수다!!\n",
            "나는 재귀함수다!!\n",
            "나는 재귀함수다!!\n",
            "나는 재귀함수다!!\n",
            "나는 재귀함수다!!\n",
            "나는 재귀함수다!!\n",
            "나는 재귀함수다!!\n",
            "나는 재귀함수다!!\n",
            "나는 재귀함수다!!\n",
            "나는 재귀함수다!!\n",
            "나는 재귀함수다!!\n",
            "나는 재귀함수다!!\n",
            "나는 재귀함수다!!\n",
            "나는 재귀함수다!!\n",
            "나는 재귀함수다!!\n",
            "나는 재귀함수다!!\n",
            "나는 재귀함수다!!\n",
            "나는 재귀함수다!!\n",
            "나는 재귀함수다!!\n",
            "나는 재귀함수다!!\n",
            "나는 재귀함수다!!\n",
            "나는 재귀함수다!!\n",
            "나는 재귀함수다!!\n",
            "나는 재귀함수다!!\n",
            "나는 재귀함수다!!\n",
            "나는 재귀함수다!!\n",
            "나는 재귀함수다!!\n",
            "나는 재귀함수다!!\n",
            "나는 재귀함수다!!\n",
            "나는 재귀함수다!!\n",
            "나는 재귀함수다!!\n",
            "나는 재귀함수다!!\n",
            "나는 재귀함수다!!\n",
            "나는 재귀함수다!!\n",
            "나는 재귀함수다!!\n",
            "나는 재귀함수다!!\n",
            "나는 재귀함수다!!\n",
            "나는 재귀함수다!!\n",
            "나는 재귀함수다!!\n",
            "나는 재귀함수다!!\n",
            "나는 재귀함수다!!\n",
            "나는 재귀함수다!!\n",
            "나는 재귀함수다!!\n",
            "나는 재귀함수다!!\n",
            "나는 재귀함수다!!\n",
            "나는 재귀함수다!!\n",
            "나는 재귀함수다!!\n",
            "나는 재귀함수다!!\n",
            "나는 재귀함수다!!\n",
            "나는 재귀함수다!!\n",
            "나는 재귀함수다!!\n",
            "나는 재귀함수다!!\n",
            "나는 재귀함수다!!\n",
            "나는 재귀함수다!!\n",
            "나는 재귀함수다!!\n",
            "나는 재귀함수다!!\n",
            "나는 재귀함수다!!\n",
            "나는 재귀함수다!!\n",
            "나는 재귀함수다!!\n",
            "나는 재귀함수다!!\n",
            "나는 재귀함수다!!\n",
            "나는 재귀함수다!!\n",
            "나는 재귀함수다!!\n",
            "나는 재귀함수다!!\n",
            "나는 재귀함수다!!\n",
            "나는 재귀함수다!!\n",
            "나는 재귀함수다!!\n",
            "나는 재귀함수다!!\n",
            "나는 재귀함수다!!\n",
            "나는 재귀함수다!!\n",
            "나는 재귀함수다!!\n",
            "나는 재귀함수다!!\n",
            "나는 재귀함수다!!\n",
            "나는 재귀함수다!!\n",
            "나는 재귀함수다!!\n",
            "나는 재귀함수다!!\n",
            "나는 재귀함수다!!\n",
            "나는 재귀함수다!!\n",
            "나는 재귀함수다!!\n",
            "나는 재귀함수다!!\n",
            "나는 재귀함수다!!\n",
            "나는 재귀함수다!!\n",
            "나는 재귀함수다!!\n",
            "나는 재귀함수다!!\n",
            "나는 재귀함수다!!\n",
            "나는 재귀함수다!!\n",
            "나는 재귀함수다!!\n",
            "나는 재귀함수다!!\n",
            "나는 재귀함수다!!\n",
            "나는 재귀함수다!!\n",
            "나는 재귀함수다!!\n",
            "나는 재귀함수다!!\n",
            "나는 재귀함수다!!\n",
            "나는 재귀함수다!!\n",
            "나는 재귀함수다!!\n",
            "나는 재귀함수다!!\n",
            "나는 재귀함수다!!\n",
            "나는 재귀함수다!!\n",
            "나는 재귀함수다!!\n",
            "나는 재귀함수다!!\n",
            "나는 재귀함수다!!\n",
            "나는 재귀함수다!!\n",
            "나는 재귀함수다!!\n",
            "나는 재귀함수다!!\n",
            "나는 재귀함수다!!\n",
            "나는 재귀함수다!!\n",
            "나는 재귀함수다!!\n",
            "나는 재귀함수다!!\n",
            "나는 재귀함수다!!\n",
            "나는 재귀함수다!!\n",
            "나는 재귀함수다!!\n",
            "나는 재귀함수다!!\n",
            "나는 재귀함수다!!\n",
            "나는 재귀함수다!!\n",
            "나는 재귀함수다!!\n",
            "나는 재귀함수다!!\n",
            "나는 재귀함수다!!\n",
            "나는 재귀함수다!!\n",
            "나는 재귀함수다!!\n",
            "나는 재귀함수다!!\n",
            "나는 재귀함수다!!\n",
            "나는 재귀함수다!!\n",
            "나는 재귀함수다!!\n",
            "나는 재귀함수다!!\n",
            "나는 재귀함수다!!\n",
            "나는 재귀함수다!!\n",
            "나는 재귀함수다!!\n",
            "나는 재귀함수다!!\n",
            "나는 재귀함수다!!\n",
            "나는 재귀함수다!!\n",
            "나는 재귀함수다!!\n",
            "나는 재귀함수다!!\n",
            "나는 재귀함수다!!\n",
            "나는 재귀함수다!!\n",
            "나는 재귀함수다!!\n",
            "나는 재귀함수다!!\n",
            "나는 재귀함수다!!\n",
            "나는 재귀함수다!!\n",
            "나는 재귀함수다!!\n",
            "나는 재귀함수다!!\n",
            "나는 재귀함수다!!\n",
            "나는 재귀함수다!!\n",
            "나는 재귀함수다!!\n",
            "나는 재귀함수다!!\n",
            "나는 재귀함수다!!\n",
            "나는 재귀함수다!!\n",
            "나는 재귀함수다!!\n",
            "나는 재귀함수다!!\n",
            "나는 재귀함수다!!\n",
            "나는 재귀함수다!!\n",
            "나는 재귀함수다!!\n",
            "나는 재귀함수다!!\n",
            "나는 재귀함수다!!\n",
            "나는 재귀함수다!!\n",
            "나는 재귀함수다!!\n",
            "나는 재귀함수다!!\n",
            "나는 재귀함수다!!\n",
            "나는 재귀함수다!!\n",
            "나는 재귀함수다!!\n",
            "나는 재귀함수다!!\n",
            "나는 재귀함수다!!\n",
            "나는 재귀함수다!!\n",
            "나는 재귀함수다!!\n",
            "나는 재귀함수다!!\n",
            "나는 재귀함수다!!\n",
            "나는 재귀함수다!!\n",
            "나는 재귀함수다!!\n",
            "나는 재귀함수다!!\n",
            "나는 재귀함수다!!\n",
            "나는 재귀함수다!!\n",
            "나는 재귀함수다!!\n",
            "나는 재귀함수다!!\n",
            "나는 재귀함수다!!\n",
            "나는 재귀함수다!!\n",
            "나는 재귀함수다!!\n",
            "나는 재귀함수다!!\n",
            "나는 재귀함수다!!\n",
            "나는 재귀함수다!!\n",
            "나는 재귀함수다!!\n",
            "나는 재귀함수다!!\n",
            "나는 재귀함수다!!\n",
            "나는 재귀함수다!!\n",
            "나는 재귀함수다!!\n",
            "나는 재귀함수다!!\n",
            "나는 재귀함수다!!\n",
            "나는 재귀함수다!!\n",
            "나는 재귀함수다!!\n",
            "나는 재귀함수다!!\n",
            "나는 재귀함수다!!\n",
            "나는 재귀함수다!!\n",
            "나는 재귀함수다!!\n",
            "나는 재귀함수다!!\n",
            "나는 재귀함수다!!\n",
            "나는 재귀함수다!!\n",
            "나는 재귀함수다!!\n",
            "나는 재귀함수다!!\n",
            "나는 재귀함수다!!\n",
            "나는 재귀함수다!!\n",
            "나는 재귀함수다!!\n",
            "나는 재귀함수다!!\n",
            "나는 재귀함수다!!\n",
            "나는 재귀함수다!!\n",
            "나는 재귀함수다!!\n",
            "나는 재귀함수다!!\n",
            "나는 재귀함수다!!\n",
            "나는 재귀함수다!!\n",
            "나는 재귀함수다!!\n",
            "나는 재귀함수다!!\n",
            "나는 재귀함수다!!\n",
            "나는 재귀함수다!!\n",
            "나는 재귀함수다!!\n",
            "나는 재귀함수다!!\n",
            "나는 재귀함수다!!\n",
            "나는 재귀함수다!!\n",
            "나는 재귀함수다!!\n",
            "나는 재귀함수다!!\n",
            "나는 재귀함수다!!\n",
            "나는 재귀함수다!!\n",
            "나는 재귀함수다!!\n",
            "나는 재귀함수다!!\n",
            "나는 재귀함수다!!\n",
            "나는 재귀함수다!!\n",
            "나는 재귀함수다!!\n",
            "나는 재귀함수다!!\n",
            "나는 재귀함수다!!\n",
            "나는 재귀함수다!!\n",
            "나는 재귀함수다!!\n",
            "나는 재귀함수다!!\n",
            "나는 재귀함수다!!\n",
            "나는 재귀함수다!!\n",
            "나는 재귀함수다!!\n",
            "나는 재귀함수다!!\n",
            "나는 재귀함수다!!\n",
            "나는 재귀함수다!!\n",
            "나는 재귀함수다!!\n",
            "나는 재귀함수다!!\n",
            "나는 재귀함수다!!\n",
            "나는 재귀함수다!!\n",
            "나는 재귀함수다!!\n",
            "나는 재귀함수다!!\n",
            "나는 재귀함수다!!\n",
            "나는 재귀함수다!!\n",
            "나는 재귀함수다!!\n",
            "나는 재귀함수다!!\n",
            "나는 재귀함수다!!\n",
            "나는 재귀함수다!!\n",
            "나는 재귀함수다!!\n",
            "나는 재귀함수다!!\n",
            "나는 재귀함수다!!\n",
            "나는 재귀함수다!!\n",
            "나는 재귀함수다!!\n",
            "나는 재귀함수다!!\n",
            "나는 재귀함수다!!\n",
            "나는 재귀함수다!!\n",
            "나는 재귀함수다!!\n",
            "나는 재귀함수다!!\n",
            "나는 재귀함수다!!\n",
            "나는 재귀함수다!!\n",
            "나는 재귀함수다!!\n",
            "나는 재귀함수다!!\n",
            "나는 재귀함수다!!\n",
            "나는 재귀함수다!!\n",
            "나는 재귀함수다!!\n",
            "나는 재귀함수다!!\n",
            "나는 재귀함수다!!\n",
            "나는 재귀함수다!!\n",
            "나는 재귀함수다!!\n",
            "나는 재귀함수다!!\n",
            "나는 재귀함수다!!\n",
            "나는 재귀함수다!!\n",
            "나는 재귀함수다!!\n",
            "나는 재귀함수다!!\n",
            "나는 재귀함수다!!\n",
            "나는 재귀함수다!!\n",
            "나는 재귀함수다!!\n",
            "나는 재귀함수다!!\n",
            "나는 재귀함수다!!\n",
            "나는 재귀함수다!!\n",
            "나는 재귀함수다!!\n",
            "나는 재귀함수다!!\n",
            "나는 재귀함수다!!\n",
            "나는 재귀함수다!!\n",
            "나는 재귀함수다!!\n",
            "나는 재귀함수다!!\n",
            "나는 재귀함수다!!\n",
            "나는 재귀함수다!!\n",
            "나는 재귀함수다!!\n",
            "나는 재귀함수다!!\n",
            "나는 재귀함수다!!\n",
            "나는 재귀함수다!!\n",
            "나는 재귀함수다!!\n",
            "나는 재귀함수다!!\n",
            "나는 재귀함수다!!\n",
            "나는 재귀함수다!!\n",
            "나는 재귀함수다!!\n",
            "나는 재귀함수다!!\n",
            "나는 재귀함수다!!\n",
            "나는 재귀함수다!!\n",
            "나는 재귀함수다!!\n",
            "나는 재귀함수다!!\n",
            "나는 재귀함수다!!\n",
            "나는 재귀함수다!!\n",
            "나는 재귀함수다!!\n",
            "나는 재귀함수다!!\n",
            "나는 재귀함수다!!\n",
            "나는 재귀함수다!!\n",
            "나는 재귀함수다!!\n",
            "나는 재귀함수다!!\n",
            "나는 재귀함수다!!\n",
            "나는 재귀함수다!!\n",
            "나는 재귀함수다!!\n",
            "나는 재귀함수다!!\n",
            "나는 재귀함수다!!\n",
            "나는 재귀함수다!!\n",
            "나는 재귀함수다!!\n",
            "나는 재귀함수다!!\n",
            "나는 재귀함수다!!\n",
            "나는 재귀함수다!!\n",
            "나는 재귀함수다!!\n",
            "나는 재귀함수다!!\n",
            "나는 재귀함수다!!\n",
            "나는 재귀함수다!!\n",
            "나는 재귀함수다!!\n",
            "나는 재귀함수다!!\n",
            "나는 재귀함수다!!\n",
            "나는 재귀함수다!!\n",
            "나는 재귀함수다!!\n",
            "나는 재귀함수다!!\n",
            "나는 재귀함수다!!\n",
            "나는 재귀함수다!!\n",
            "나는 재귀함수다!!\n",
            "나는 재귀함수다!!\n",
            "나는 재귀함수다!!\n",
            "나는 재귀함수다!!\n",
            "나는 재귀함수다!!\n",
            "나는 재귀함수다!!\n",
            "나는 재귀함수다!!\n",
            "나는 재귀함수다!!\n",
            "나는 재귀함수다!!\n",
            "나는 재귀함수다!!\n",
            "나는 재귀함수다!!\n",
            "나는 재귀함수다!!\n",
            "나는 재귀함수다!!\n",
            "나는 재귀함수다!!\n",
            "나는 재귀함수다!!\n",
            "나는 재귀함수다!!\n",
            "나는 재귀함수다!!\n",
            "나는 재귀함수다!!\n",
            "나는 재귀함수다!!\n",
            "나는 재귀함수다!!\n",
            "나는 재귀함수다!!\n",
            "나는 재귀함수다!!\n",
            "나는 재귀함수다!!\n",
            "나는 재귀함수다!!\n",
            "나는 재귀함수다!!\n",
            "나는 재귀함수다!!\n",
            "나는 재귀함수다!!\n",
            "나는 재귀함수다!!\n",
            "나는 재귀함수다!!\n",
            "나는 재귀함수다!!\n",
            "나는 재귀함수다!!\n",
            "나는 재귀함수다!!\n",
            "나는 재귀함수다!!\n",
            "나는 재귀함수다!!\n",
            "나는 재귀함수다!!\n",
            "나는 재귀함수다!!\n",
            "나는 재귀함수다!!\n",
            "나는 재귀함수다!!\n",
            "나는 재귀함수다!!\n",
            "나는 재귀함수다!!\n",
            "나는 재귀함수다!!\n",
            "나는 재귀함수다!!\n",
            "나는 재귀함수다!!\n",
            "나는 재귀함수다!!\n",
            "나는 재귀함수다!!\n",
            "나는 재귀함수다!!\n",
            "나는 재귀함수다!!\n",
            "나는 재귀함수다!!\n",
            "나는 재귀함수다!!\n",
            "나는 재귀함수다!!\n",
            "나는 재귀함수다!!\n",
            "나는 재귀함수다!!\n",
            "나는 재귀함수다!!\n",
            "나는 재귀함수다!!\n",
            "나는 재귀함수다!!\n",
            "나는 재귀함수다!!\n",
            "나는 재귀함수다!!\n",
            "나는 재귀함수다!!\n",
            "나는 재귀함수다!!\n",
            "나는 재귀함수다!!\n",
            "나는 재귀함수다!!\n",
            "나는 재귀함수다!!\n",
            "나는 재귀함수다!!\n",
            "나는 재귀함수다!!\n",
            "나는 재귀함수다!!\n",
            "나는 재귀함수다!!\n",
            "나는 재귀함수다!!\n",
            "나는 재귀함수다!!\n",
            "나는 재귀함수다!!\n",
            "나는 재귀함수다!!\n",
            "나는 재귀함수다!!\n",
            "나는 재귀함수다!!\n",
            "나는 재귀함수다!!\n",
            "나는 재귀함수다!!\n",
            "나는 재귀함수다!!\n",
            "나는 재귀함수다!!\n",
            "나는 재귀함수다!!\n",
            "나는 재귀함수다!!\n",
            "나는 재귀함수다!!\n",
            "나는 재귀함수다!!\n",
            "나는 재귀함수다!!\n",
            "나는 재귀함수다!!\n",
            "나는 재귀함수다!!\n",
            "나는 재귀함수다!!\n",
            "나는 재귀함수다!!\n",
            "나는 재귀함수다!!\n",
            "나는 재귀함수다!!\n",
            "나는 재귀함수다!!\n",
            "나는 재귀함수다!!\n",
            "나는 재귀함수다!!\n",
            "나는 재귀함수다!!\n",
            "나는 재귀함수다!!\n",
            "나는 재귀함수다!!\n",
            "나는 재귀함수다!!\n",
            "나는 재귀함수다!!\n",
            "나는 재귀함수다!!\n",
            "나는 재귀함수다!!\n",
            "나는 재귀함수다!!\n",
            "나는 재귀함수다!!\n",
            "나는 재귀함수다!!\n",
            "나는 재귀함수다!!\n",
            "나는 재귀함수다!!\n",
            "나는 재귀함수다!!\n",
            "나는 재귀함수다!!\n",
            "나는 재귀함수다!!\n",
            "나는 재귀함수다!!\n",
            "나는 재귀함수다!!\n",
            "나는 재귀함수다!!\n",
            "나는 재귀함수다!!\n",
            "나는 재귀함수다!!\n",
            "나는 재귀함수다!!\n",
            "나는 재귀함수다!!\n",
            "나는 재귀함수다!!\n",
            "나는 재귀함수다!!\n",
            "나는 재귀함수다!!\n",
            "나는 재귀함수다!!\n",
            "나는 재귀함수다!!\n",
            "나는 재귀함수다!!\n",
            "나는 재귀함수다!!\n",
            "나는 재귀함수다!!\n",
            "나는 재귀함수다!!\n",
            "나는 재귀함수다!!\n",
            "나는 재귀함수다!!\n",
            "나는 재귀함수다!!\n",
            "나는 재귀함수다!!\n",
            "나는 재귀함수다!!\n",
            "나는 재귀함수다!!\n",
            "나는 재귀함수다!!\n",
            "나는 재귀함수다!!\n",
            "나는 재귀함수다!!\n",
            "나는 재귀함수다!!\n",
            "나는 재귀함수다!!\n",
            "나는 재귀함수다!!\n",
            "나는 재귀함수다!!\n",
            "나는 재귀함수다!!\n",
            "나는 재귀함수다!!\n",
            "나는 재귀함수다!!\n",
            "나는 재귀함수다!!\n",
            "나는 재귀함수다!!\n",
            "나는 재귀함수다!!\n",
            "나는 재귀함수다!!\n",
            "나는 재귀함수다!!\n",
            "나는 재귀함수다!!\n",
            "나는 재귀함수다!!\n",
            "나는 재귀함수다!!\n",
            "나는 재귀함수다!!\n",
            "나는 재귀함수다!!\n",
            "나는 재귀함수다!!\n",
            "나는 재귀함수다!!\n",
            "나는 재귀함수다!!\n",
            "나는 재귀함수다!!\n",
            "나는 재귀함수다!!\n",
            "나는 재귀함수다!!\n",
            "나는 재귀함수다!!\n",
            "나는 재귀함수다!!\n",
            "나는 재귀함수다!!\n",
            "나는 재귀함수다!!\n",
            "나는 재귀함수다!!\n",
            "나는 재귀함수다!!\n",
            "나는 재귀함수다!!\n",
            "나는 재귀함수다!!\n",
            "나는 재귀함수다!!\n",
            "나는 재귀함수다!!\n",
            "나는 재귀함수다!!\n",
            "나는 재귀함수다!!\n",
            "나는 재귀함수다!!\n",
            "나는 재귀함수다!!\n",
            "나는 재귀함수다!!\n",
            "나는 재귀함수다!!\n",
            "나는 재귀함수다!!\n",
            "나는 재귀함수다!!\n",
            "나는 재귀함수다!!\n",
            "나는 재귀함수다!!\n",
            "나는 재귀함수다!!\n",
            "나는 재귀함수다!!\n",
            "나는 재귀함수다!!\n",
            "나는 재귀함수다!!\n",
            "나는 재귀함수다!!\n",
            "나는 재귀함수다!!\n",
            "나는 재귀함수다!!\n",
            "나는 재귀함수다!!\n",
            "나는 재귀함수다!!\n",
            "나는 재귀함수다!!\n",
            "나는 재귀함수다!!\n",
            "나는 재귀함수다!!\n",
            "나는 재귀함수다!!\n",
            "나는 재귀함수다!!\n",
            "나는 재귀함수다!!\n",
            "나는 재귀함수다!!\n",
            "나는 재귀함수다!!\n",
            "나는 재귀함수다!!\n",
            "나는 재귀함수다!!\n",
            "나는 재귀함수다!!\n",
            "나는 재귀함수다!!\n",
            "나는 재귀함수다!!\n",
            "나는 재귀함수다!!\n",
            "나는 재귀함수다!!\n",
            "나는 재귀함수다!!\n",
            "나는 재귀함수다!!\n",
            "나는 재귀함수다!!\n",
            "나는 재귀함수다!!\n",
            "나는 재귀함수다!!\n",
            "나는 재귀함수다!!\n",
            "나는 재귀함수다!!\n",
            "나는 재귀함수다!!\n",
            "나는 재귀함수다!!\n",
            "나는 재귀함수다!!\n",
            "나는 재귀함수다!!\n",
            "나는 재귀함수다!!\n",
            "나는 재귀함수다!!\n",
            "나는 재귀함수다!!\n",
            "나는 재귀함수다!!\n",
            "나는 재귀함수다!!\n",
            "나는 재귀함수다!!\n",
            "나는 재귀함수다!!\n",
            "나는 재귀함수다!!\n",
            "나는 재귀함수다!!\n",
            "나는 재귀함수다!!\n",
            "나는 재귀함수다!!\n",
            "나는 재귀함수다!!\n",
            "나는 재귀함수다!!\n",
            "나는 재귀함수다!!\n",
            "나는 재귀함수다!!\n",
            "나는 재귀함수다!!\n",
            "나는 재귀함수다!!\n",
            "나는 재귀함수다!!\n",
            "나는 재귀함수다!!\n",
            "나는 재귀함수다!!\n",
            "나는 재귀함수다!!\n",
            "나는 재귀함수다!!\n",
            "나는 재귀함수다!!\n",
            "나는 재귀함수다!!\n",
            "나는 재귀함수다!!\n",
            "나는 재귀함수다!!\n",
            "나는 재귀함수다!!\n",
            "나는 재귀함수다!!\n",
            "나는 재귀함수다!!\n",
            "나는 재귀함수다!!\n",
            "나는 재귀함수다!!\n",
            "나는 재귀함수다!!\n",
            "나는 재귀함수다!!\n",
            "나는 재귀함수다!!\n",
            "나는 재귀함수다!!\n",
            "나는 재귀함수다!!\n",
            "나는 재귀함수다!!\n",
            "나는 재귀함수다!!\n",
            "나는 재귀함수다!!\n",
            "나는 재귀함수다!!\n",
            "나는 재귀함수다!!\n",
            "나는 재귀함수다!!\n",
            "나는 재귀함수다!!\n",
            "나는 재귀함수다!!\n",
            "나는 재귀함수다!!\n",
            "나는 재귀함수다!!\n",
            "나는 재귀함수다!!\n",
            "나는 재귀함수다!!\n",
            "나는 재귀함수다!!\n",
            "나는 재귀함수다!!\n",
            "나는 재귀함수다!!\n",
            "나는 재귀함수다!!\n",
            "나는 재귀함수다!!\n",
            "나는 재귀함수다!!\n",
            "나는 재귀함수다!!\n",
            "나는 재귀함수다!!\n",
            "나는 재귀함수다!!\n",
            "나는 재귀함수다!!\n",
            "나는 재귀함수다!!\n",
            "나는 재귀함수다!!\n",
            "나는 재귀함수다!!\n",
            "나는 재귀함수다!!\n",
            "나는 재귀함수다!!\n",
            "나는 재귀함수다!!\n",
            "나는 재귀함수다!!\n",
            "나는 재귀함수다!!\n",
            "나는 재귀함수다!!\n",
            "나는 재귀함수다!!\n",
            "나는 재귀함수다!!\n",
            "나는 재귀함수다!!\n",
            "나는 재귀함수다!!\n",
            "나는 재귀함수다!!\n",
            "나는 재귀함수다!!\n",
            "나는 재귀함수다!!\n",
            "나는 재귀함수다!!\n",
            "나는 재귀함수다!!\n",
            "나는 재귀함수다!!\n",
            "나는 재귀함수다!!\n",
            "나는 재귀함수다!!\n",
            "나는 재귀함수다!!\n",
            "나는 재귀함수다!!\n",
            "나는 재귀함수다!!\n",
            "나는 재귀함수다!!\n",
            "나는 재귀함수다!!\n",
            "나는 재귀함수다!!\n",
            "나는 재귀함수다!!\n",
            "나는 재귀함수다!!\n",
            "나는 재귀함수다!!\n",
            "나는 재귀함수다!!\n",
            "나는 재귀함수다!!\n",
            "나는 재귀함수다!!\n",
            "나는 재귀함수다!!\n",
            "나는 재귀함수다!!\n",
            "나는 재귀함수다!!\n",
            "나는 재귀함수다!!\n",
            "나는 재귀함수다!!\n",
            "나는 재귀함수다!!\n",
            "나는 재귀함수다!!\n",
            "나는 재귀함수다!!\n",
            "나는 재귀함수다!!\n",
            "나는 재귀함수다!!\n",
            "나는 재귀함수다!!\n",
            "나는 재귀함수다!!\n",
            "나는 재귀함수다!!\n",
            "나는 재귀함수다!!\n",
            "나는 재귀함수다!!\n",
            "나는 재귀함수다!!\n",
            "나는 재귀함수다!!\n",
            "나는 재귀함수다!!\n",
            "나는 재귀함수다!!\n",
            "나는 재귀함수다!!\n",
            "나는 재귀함수다!!\n",
            "나는 재귀함수다!!\n",
            "나는 재귀함수다!!\n",
            "나는 재귀함수다!!\n",
            "나는 재귀함수다!!\n",
            "나는 재귀함수다!!\n",
            "나는 재귀함수다!!\n",
            "나는 재귀함수다!!\n",
            "나는 재귀함수다!!\n",
            "나는 재귀함수다!!\n",
            "나는 재귀함수다!!\n",
            "나는 재귀함수다!!\n",
            "나는 재귀함수다!!\n",
            "나는 재귀함수다!!\n",
            "나는 재귀함수다!!\n",
            "나는 재귀함수다!!\n",
            "나는 재귀함수다!!\n",
            "나는 재귀함수다!!\n",
            "나는 재귀함수다!!\n",
            "나는 재귀함수다!!\n",
            "나는 재귀함수다!!\n",
            "나는 재귀함수다!!\n",
            "나는 재귀함수다!!\n",
            "나는 재귀함수다!!\n",
            "나는 재귀함수다!!\n",
            "나는 재귀함수다!!\n",
            "나는 재귀함수다!!\n",
            "나는 재귀함수다!!\n",
            "나는 재귀함수다!!\n",
            "나는 재귀함수다!!\n",
            "나는 재귀함수다!!\n",
            "나는 재귀함수다!!\n",
            "나는 재귀함수다!!\n",
            "나는 재귀함수다!!\n",
            "나는 재귀함수다!!\n",
            "나는 재귀함수다!!\n",
            "나는 재귀함수다!!\n",
            "나는 재귀함수다!!\n",
            "나는 재귀함수다!!\n",
            "나는 재귀함수다!!\n",
            "나는 재귀함수다!!\n",
            "나는 재귀함수다!!\n",
            "나는 재귀함수다!!\n",
            "나는 재귀함수다!!\n",
            "나는 재귀함수다!!\n",
            "나는 재귀함수다!!\n",
            "나는 재귀함수다!!\n",
            "나는 재귀함수다!!\n",
            "나는 재귀함수다!!\n",
            "나는 재귀함수다!!\n",
            "나는 재귀함수다!!\n",
            "나는 재귀함수다!!\n",
            "나는 재귀함수다!!\n",
            "나는 재귀함수다!!\n",
            "나는 재귀함수다!!\n",
            "나는 재귀함수다!!\n",
            "나는 재귀함수다!!\n",
            "나는 재귀함수다!!\n",
            "나는 재귀함수다!!\n",
            "나는 재귀함수다!!\n",
            "나는 재귀함수다!!\n",
            "나는 재귀함수다!!\n",
            "나는 재귀함수다!!\n",
            "나는 재귀함수다!!\n",
            "나는 재귀함수다!!\n",
            "나는 재귀함수다!!\n",
            "나는 재귀함수다!!\n",
            "나는 재귀함수다!!\n",
            "나는 재귀함수다!!\n",
            "나는 재귀함수다!!\n",
            "나는 재귀함수다!!\n",
            "나는 재귀함수다!!\n",
            "나는 재귀함수다!!\n",
            "나는 재귀함수다!!\n",
            "나는 재귀함수다!!\n",
            "나는 재귀함수다!!\n",
            "나는 재귀함수다!!\n",
            "나는 재귀함수다!!\n",
            "나는 재귀함수다!!\n",
            "나는 재귀함수다!!\n",
            "나는 재귀함수다!!\n",
            "나는 재귀함수다!!\n",
            "나는 재귀함수다!!\n",
            "나는 재귀함수다!!\n",
            "나는 재귀함수다!!\n",
            "나는 재귀함수다!!\n",
            "나는 재귀함수다!!\n",
            "나는 재귀함수다!!\n",
            "나는 재귀함수다!!\n",
            "나는 재귀함수다!!\n",
            "나는 재귀함수다!!\n",
            "나는 재귀함수다!!\n",
            "나는 재귀함수다!!\n",
            "나는 재귀함수다!!\n",
            "나는 재귀함수다!!\n",
            "나는 재귀함수다!!\n",
            "나는 재귀함수다!!\n",
            "나는 재귀함수다!!\n",
            "나는 재귀함수다!!\n",
            "나는 재귀함수다!!\n",
            "나는 재귀함수다!!\n",
            "나는 재귀함수다!!\n",
            "나는 재귀함수다!!\n",
            "나는 재귀함수다!!\n",
            "나는 재귀함수다!!\n",
            "나는 재귀함수다!!\n",
            "나는 재귀함수다!!\n",
            "나는 재귀함수다!!\n",
            "나는 재귀함수다!!\n",
            "나는 재귀함수다!!\n",
            "나는 재귀함수다!!\n",
            "나는 재귀함수다!!\n",
            "나는 재귀함수다!!\n",
            "나는 재귀함수다!!\n",
            "나는 재귀함수다!!\n",
            "나는 재귀함수다!!\n",
            "나는 재귀함수다!!\n",
            "나는 재귀함수다!!\n",
            "나는 재귀함수다!!\n",
            "나는 재귀함수다!!\n",
            "나는 재귀함수다!!\n",
            "나는 재귀함수다!!\n",
            "나는 재귀함수다!!\n",
            "나는 재귀함수다!!\n",
            "나는 재귀함수다!!\n",
            "나는 재귀함수다!!\n",
            "나는 재귀함수다!!\n",
            "나는 재귀함수다!!\n",
            "나는 재귀함수다!!\n",
            "나는 재귀함수다!!\n",
            "나는 재귀함수다!!\n",
            "나는 재귀함수다!!\n",
            "나는 재귀함수다!!\n",
            "나는 재귀함수다!!\n",
            "나는 재귀함수다!!\n",
            "나는 재귀함수다!!\n",
            "나는 재귀함수다!!\n",
            "나는 재귀함수다!!\n",
            "나는 재귀함수다!!\n",
            "나는 재귀함수다!!\n",
            "나는 재귀함수다!!\n",
            "나는 재귀함수다!!\n",
            "나는 재귀함수다!!\n",
            "나는 재귀함수다!!\n",
            "나는 재귀함수다!!\n",
            "나는 재귀함수다!!\n",
            "나는 재귀함수다!!\n",
            "나는 재귀함수다!!\n",
            "나는 재귀함수다!!\n",
            "나는 재귀함수다!!\n",
            "나는 재귀함수다!!\n",
            "나는 재귀함수다!!\n",
            "나는 재귀함수다!!\n",
            "나는 재귀함수다!!\n",
            "나는 재귀함수다!!\n",
            "나는 재귀함수다!!\n",
            "나는 재귀함수다!!\n",
            "나는 재귀함수다!!\n",
            "나는 재귀함수다!!\n",
            "나는 재귀함수다!!\n",
            "나는 재귀함수다!!\n",
            "나는 재귀함수다!!\n",
            "나는 재귀함수다!!\n",
            "나는 재귀함수다!!\n",
            "나는 재귀함수다!!\n",
            "나는 재귀함수다!!\n",
            "나는 재귀함수다!!\n",
            "나는 재귀함수다!!\n",
            "나는 재귀함수다!!\n",
            "나는 재귀함수다!!\n",
            "나는 재귀함수다!!\n",
            "나는 재귀함수다!!\n",
            "나는 재귀함수다!!\n",
            "나는 재귀함수다!!\n",
            "나는 재귀함수다!!\n",
            "나는 재귀함수다!!\n",
            "나는 재귀함수다!!\n",
            "나는 재귀함수다!!\n",
            "나는 재귀함수다!!\n",
            "나는 재귀함수다!!\n",
            "나는 재귀함수다!!\n",
            "나는 재귀함수다!!\n",
            "나는 재귀함수다!!\n",
            "나는 재귀함수다!!\n",
            "나는 재귀함수다!!\n",
            "나는 재귀함수다!!\n",
            "나는 재귀함수다!!\n",
            "나는 재귀함수다!!\n",
            "나는 재귀함수다!!\n",
            "나는 재귀함수다!!\n",
            "나는 재귀함수다!!\n",
            "나는 재귀함수다!!\n",
            "나는 재귀함수다!!\n",
            "나는 재귀함수다!!\n",
            "나는 재귀함수다!!\n",
            "나는 재귀함수다!!\n",
            "나는 재귀함수다!!\n",
            "나는 재귀함수다!!\n",
            "나는 재귀함수다!!\n",
            "나는 재귀함수다!!\n",
            "나는 재귀함수다!!\n",
            "나는 재귀함수다!!\n",
            "나는 재귀함수다!!\n",
            "나는 재귀함수다!!\n",
            "나는 재귀함수다!!\n",
            "나는 재귀함수다!!\n",
            "나는 재귀함수다!!\n",
            "나는 재귀함수다!!\n",
            "나는 재귀함수다!!\n",
            "나는 재귀함수다!!\n",
            "나는 재귀함수다!!\n",
            "나는 재귀함수다!!\n",
            "나는 재귀함수다!!\n",
            "나는 재귀함수다!!\n",
            "나는 재귀함수다!!\n",
            "나는 재귀함수다!!\n",
            "나는 재귀함수다!!\n",
            "나는 재귀함수다!!\n",
            "나는 재귀함수다!!\n",
            "나는 재귀함수다!!\n",
            "나는 재귀함수다!!\n",
            "나는 재귀함수다!!\n",
            "나는 재귀함수다!!\n",
            "나는 재귀함수다!!\n",
            "나는 재귀함수다!!\n",
            "나는 재귀함수다!!\n",
            "나는 재귀함수다!!\n",
            "나는 재귀함수다!!\n",
            "나는 재귀함수다!!\n",
            "나는 재귀함수다!!\n",
            "나는 재귀함수다!!\n",
            "나는 재귀함수다!!\n",
            "나는 재귀함수다!!\n",
            "나는 재귀함수다!!\n",
            "나는 재귀함수다!!\n",
            "나는 재귀함수다!!\n",
            "나는 재귀함수다!!\n",
            "나는 재귀함수다!!\n",
            "나는 재귀함수다!!\n",
            "나는 재귀함수다!!\n",
            "나는 재귀함수다!!\n",
            "나는 재귀함수다!!\n",
            "나는 재귀함수다!!\n",
            "나는 재귀함수다!!\n",
            "나는 재귀함수다!!\n",
            "나는 재귀함수다!!\n",
            "나는 재귀함수다!!\n",
            "나는 재귀함수다!!\n",
            "나는 재귀함수다!!\n",
            "나는 재귀함수다!!\n",
            "나는 재귀함수다!!\n",
            "나는 재귀함수다!!\n",
            "나는 재귀함수다!!\n",
            "나는 재귀함수다!!\n",
            "나는 재귀함수다!!\n",
            "나는 재귀함수다!!\n",
            "나는 재귀함수다!!\n",
            "나는 재귀함수다!!\n",
            "나는 재귀함수다!!\n",
            "나는 재귀함수다!!\n",
            "나는 재귀함수다!!\n",
            "나는 재귀함수다!!\n",
            "나는 재귀함수다!!\n",
            "나는 재귀함수다!!\n",
            "나는 재귀함수다!!\n",
            "나는 재귀함수다!!\n",
            "나는 재귀함수다!!\n",
            "나는 재귀함수다!!\n",
            "나는 재귀함수다!!\n",
            "나는 재귀함수다!!\n",
            "나는 재귀함수다!!\n",
            "나는 재귀함수다!!\n",
            "나는 재귀함수다!!\n",
            "나는 재귀함수다!!\n",
            "나는 재귀함수다!!\n",
            "나는 재귀함수다!!\n",
            "나는 재귀함수다!!\n",
            "나는 재귀함수다!!\n",
            "나는 재귀함수다!!\n",
            "나는 재귀함수다!!\n",
            "나는 재귀함수다!!\n",
            "나는 재귀함수다!!\n",
            "나는 재귀함수다!!\n",
            "나는 재귀함수다!!\n",
            "나는 재귀함수다!!\n",
            "나는 재귀함수다!!\n",
            "나는 재귀함수다!!\n",
            "나는 재귀함수다!!\n",
            "나는 재귀함수다!!\n",
            "나는 재귀함수다!!\n",
            "나는 재귀함수다!!\n",
            "나는 재귀함수다!!\n",
            "나는 재귀함수다!!\n",
            "나는 재귀함수다!!\n",
            "나는 재귀함수다!!\n",
            "나는 재귀함수다!!\n",
            "나는 재귀함수다!!\n",
            "나는 재귀함수다!!\n",
            "나는 재귀함수다!!\n",
            "나는 재귀함수다!!\n",
            "나는 재귀함수다!!\n",
            "나는 재귀함수다!!\n",
            "나는 재귀함수다!!\n",
            "나는 재귀함수다!!\n",
            "나는 재귀함수다!!\n",
            "나는 재귀함수다!!\n",
            "나는 재귀함수다!!\n",
            "나는 재귀함수다!!\n",
            "나는 재귀함수다!!\n",
            "나는 재귀함수다!!\n",
            "나는 재귀함수다!!\n",
            "나는 재귀함수다!!\n",
            "나는 재귀함수다!!\n",
            "나는 재귀함수다!!\n",
            "나는 재귀함수다!!\n",
            "나는 재귀함수다!!\n",
            "나는 재귀함수다!!\n",
            "나는 재귀함수다!!\n",
            "나는 재귀함수다!!\n",
            "나는 재귀함수다!!\n",
            "나는 재귀함수다!!\n",
            "나는 재귀함수다!!\n",
            "나는 재귀함수다!!\n",
            "나는 재귀함수다!!\n",
            "나는 재귀함수다!!\n",
            "나는 재귀함수다!!\n",
            "나는 재귀함수다!!\n",
            "나는 재귀함수다!!\n",
            "나는 재귀함수다!!\n",
            "나는 재귀함수다!!\n",
            "나는 재귀함수다!!\n",
            "나는 재귀함수다!!\n",
            "나는 재귀함수다!!\n",
            "나는 재귀함수다!!\n",
            "나는 재귀함수다!!\n",
            "나는 재귀함수다!!\n",
            "나는 재귀함수다!!\n",
            "나는 재귀함수다!!\n",
            "나는 재귀함수다!!\n",
            "나는 재귀함수다!!\n",
            "나는 재귀함수다!!\n",
            "나는 재귀함수다!!\n",
            "나는 재귀함수다!!\n",
            "나는 재귀함수다!!\n",
            "나는 재귀함수다!!\n",
            "나는 재귀함수다!!\n",
            "나는 재귀함수다!!\n",
            "나는 재귀함수다!!\n",
            "나는 재귀함수다!!\n",
            "나는 재귀함수다!!\n",
            "나는 재귀함수다!!\n",
            "나는 재귀함수다!!\n",
            "나는 재귀함수다!!\n",
            "나는 재귀함수다!!\n",
            "나는 재귀함수다!!\n",
            "나는 재귀함수다!!\n",
            "나는 재귀함수다!!\n",
            "나는 재귀함수다!!\n",
            "나는 재귀함수다!!\n",
            "나는 재귀함수다!!\n",
            "나는 재귀함수다!!\n",
            "나는 재귀함수다!!\n",
            "나는 재귀함수다!!\n",
            "나는 재귀함수다!!\n",
            "나는 재귀함수다!!\n",
            "나는 재귀함수다!!\n",
            "나는 재귀함수다!!\n",
            "나는 재귀함수다!!\n",
            "나는 재귀함수다!!\n",
            "나는 재귀함수다!!\n",
            "나는 재귀함수다!!\n",
            "나는 재귀함수다!!\n",
            "나는 재귀함수다!!\n",
            "나는 재귀함수다!!\n",
            "나는 재귀함수다!!\n",
            "나는 재귀함수다!!\n",
            "나는 재귀함수다!!\n",
            "나는 재귀함수다!!\n",
            "나는 재귀함수다!!\n",
            "나는 재귀함수다!!\n",
            "나는 재귀함수다!!\n",
            "나는 재귀함수다!!\n",
            "나는 재귀함수다!!\n",
            "나는 재귀함수다!!\n",
            "나는 재귀함수다!!\n",
            "나는 재귀함수다!!\n",
            "나는 재귀함수다!!\n",
            "나는 재귀함수다!!\n",
            "나는 재귀함수다!!\n",
            "나는 재귀함수다!!\n",
            "나는 재귀함수다!!\n",
            "나는 재귀함수다!!\n",
            "나는 재귀함수다!!\n",
            "나는 재귀함수다!!\n",
            "나는 재귀함수다!!\n",
            "나는 재귀함수다!!\n",
            "나는 재귀함수다!!\n",
            "나는 재귀함수다!!\n",
            "나는 재귀함수다!!\n",
            "나는 재귀함수다!!\n",
            "나는 재귀함수다!!\n",
            "나는 재귀함수다!!\n",
            "나는 재귀함수다!!\n",
            "나는 재귀함수다!!\n",
            "나는 재귀함수다!!\n",
            "나는 재귀함수다!!\n",
            "나는 재귀함수다!!\n",
            "나는 재귀함수다!!\n",
            "나는 재귀함수다!!\n",
            "나는 재귀함수다!!\n",
            "나는 재귀함수다!!\n",
            "나는 재귀함수다!!\n",
            "나는 재귀함수다!!\n",
            "나는 재귀함수다!!\n",
            "나는 재귀함수다!!\n",
            "나는 재귀함수다!!\n",
            "나는 재귀함수다!!\n",
            "나는 재귀함수다!!\n",
            "나는 재귀함수다!!\n",
            "나는 재귀함수다!!\n",
            "나는 재귀함수다!!\n",
            "나는 재귀함수다!!\n",
            "나는 재귀함수다!!\n",
            "나는 재귀함수다!!\n",
            "나는 재귀함수다!!\n",
            "나는 재귀함수다!!\n",
            "나는 재귀함수다!!\n",
            "나는 재귀함수다!!\n",
            "나는 재귀함수다!!\n",
            "나는 재귀함수다!!\n",
            "나는 재귀함수다!!\n",
            "나는 재귀함수다!!\n",
            "나는 재귀함수다!!\n",
            "나는 재귀함수다!!\n",
            "나는 재귀함수다!!\n",
            "나는 재귀함수다!!\n",
            "나는 재귀함수다!!\n",
            "나는 재귀함수다!!\n",
            "나는 재귀함수다!!\n",
            "나는 재귀함수다!!\n",
            "나는 재귀함수다!!\n",
            "나는 재귀함수다!!\n",
            "나는 재귀함수다!!\n",
            "나는 재귀함수다!!\n",
            "나는 재귀함수다!!\n",
            "나는 재귀함수다!!\n",
            "나는 재귀함수다!!\n",
            "나는 재귀함수다!!\n",
            "나는 재귀함수다!!\n",
            "나는 재귀함수다!!\n",
            "나는 재귀함수다!!\n",
            "나는 재귀함수다!!\n",
            "나는 재귀함수다!!\n",
            "나는 재귀함수다!!\n",
            "나는 재귀함수다!!\n",
            "나는 재귀함수다!!\n",
            "나는 재귀함수다!!\n",
            "나는 재귀함수다!!\n",
            "나는 재귀함수다!!\n",
            "나는 재귀함수다!!\n",
            "나는 재귀함수다!!\n",
            "나는 재귀함수다!!\n",
            "나는 재귀함수다!!\n",
            "나는 재귀함수다!!\n",
            "나는 재귀함수다!!\n",
            "나는 재귀함수다!!\n",
            "나는 재귀함수다!!\n",
            "나는 재귀함수다!!\n",
            "나는 재귀함수다!!\n",
            "나는 재귀함수다!!\n",
            "나는 재귀함수다!!\n",
            "나는 재귀함수다!!\n",
            "나는 재귀함수다!!\n",
            "나는 재귀함수다!!\n",
            "나는 재귀함수다!!\n",
            "나는 재귀함수다!!\n",
            "나는 재귀함수다!!\n",
            "나는 재귀함수다!!\n",
            "나는 재귀함수다!!\n",
            "나는 재귀함수다!!\n",
            "나는 재귀함수다!!\n",
            "나는 재귀함수다!!\n",
            "나는 재귀함수다!!\n",
            "나는 재귀함수다!!\n",
            "나는 재귀함수다!!\n",
            "나는 재귀함수다!!\n",
            "나는 재귀함수다!!\n",
            "나는 재귀함수다!!\n",
            "나는 재귀함수다!!\n",
            "나는 재귀함수다!!\n",
            "나는 재귀함수다!!\n",
            "나는 재귀함수다!!\n",
            "나는 재귀함수다!!\n",
            "나는 재귀함수다!!\n",
            "나는 재귀함수다!!\n",
            "나는 재귀함수다!!\n",
            "나는 재귀함수다!!\n",
            "나는 재귀함수다!!\n",
            "나는 재귀함수다!!\n",
            "나는 재귀함수다!!\n",
            "나는 재귀함수다!!\n",
            "나는 재귀함수다!!\n",
            "나는 재귀함수다!!\n",
            "나는 재귀함수다!!\n",
            "나는 재귀함수다!!\n",
            "나는 재귀함수다!!\n",
            "나는 재귀함수다!!\n",
            "나는 재귀함수다!!\n",
            "나는 재귀함수다!!\n",
            "나는 재귀함수다!!\n",
            "나는 재귀함수다!!\n",
            "나는 재귀함수다!!\n",
            "나는 재귀함수다!!\n",
            "나는 재귀함수다!!\n",
            "나는 재귀함수다!!\n",
            "나는 재귀함수다!!\n",
            "나는 재귀함수다!!\n",
            "나는 재귀함수다!!\n",
            "나는 재귀함수다!!\n",
            "나는 재귀함수다!!\n",
            "나는 재귀함수다!!\n",
            "나는 재귀함수다!!\n",
            "나는 재귀함수다!!\n",
            "나는 재귀함수다!!\n",
            "나는 재귀함수다!!\n",
            "나는 재귀함수다!!\n",
            "나는 재귀함수다!!\n",
            "나는 재귀함수다!!\n",
            "나는 재귀함수다!!\n",
            "나는 재귀함수다!!\n",
            "나는 재귀함수다!!\n",
            "나는 재귀함수다!!\n",
            "나는 재귀함수다!!\n",
            "나는 재귀함수다!!\n",
            "나는 재귀함수다!!\n",
            "나는 재귀함수다!!\n",
            "나는 재귀함수다!!\n",
            "나는 재귀함수다!!\n",
            "나는 재귀함수다!!\n",
            "나는 재귀함수다!!\n",
            "나는 재귀함수다!!\n",
            "나는 재귀함수다!!\n",
            "나는 재귀함수다!!\n",
            "나는 재귀함수다!!\n",
            "나는 재귀함수다!!\n",
            "나는 재귀함수다!!\n",
            "나는 재귀함수다!!\n",
            "나는 재귀함수다!!\n",
            "나는 재귀함수다!!\n",
            "나는 재귀함수다!!\n",
            "나는 재귀함수다!!\n",
            "나는 재귀함수다!!\n",
            "나는 재귀함수다!!\n",
            "나는 재귀함수다!!\n",
            "나는 재귀함수다!!\n",
            "나는 재귀함수다!!\n",
            "나는 재귀함수다!!\n",
            "나는 재귀함수다!!\n",
            "나는 재귀함수다!!\n",
            "나는 재귀함수다!!\n",
            "나는 재귀함수다!!\n",
            "나는 재귀함수다!!\n",
            "나는 재귀함수다!!\n",
            "나는 재귀함수다!!\n",
            "나는 재귀함수다!!\n",
            "나는 재귀함수다!!\n",
            "나는 재귀함수다!!\n",
            "나는 재귀함수다!!\n",
            "나는 재귀함수다!!\n",
            "나는 재귀함수다!!\n",
            "나는 재귀함수다!!\n",
            "나는 재귀함수다!!\n",
            "나는 재귀함수다!!\n",
            "나는 재귀함수다!!\n",
            "나는 재귀함수다!!\n",
            "나는 재귀함수다!!\n",
            "나는 재귀함수다!!\n",
            "나는 재귀함수다!!\n",
            "나는 재귀함수다!!\n",
            "나는 재귀함수다!!\n",
            "나는 재귀함수다!!\n",
            "나는 재귀함수다!!\n",
            "나는 재귀함수다!!\n",
            "나는 재귀함수다!!\n",
            "나는 재귀함수다!!\n",
            "나는 재귀함수다!!\n",
            "나는 재귀함수다!!\n",
            "나는 재귀함수다!!\n",
            "나는 재귀함수다!!\n",
            "나는 재귀함수다!!\n",
            "나는 재귀함수다!!\n",
            "나는 재귀함수다!!\n",
            "나는 재귀함수다!!\n",
            "나는 재귀함수다!!\n",
            "나는 재귀함수다!!\n",
            "나는 재귀함수다!!\n",
            "나는 재귀함수다!!\n",
            "나는 재귀함수다!!\n",
            "나는 재귀함수다!!\n",
            "나는 재귀함수다!!\n",
            "나는 재귀함수다!!\n",
            "나는 재귀함수다!!\n",
            "나는 재귀함수다!!\n",
            "나는 재귀함수다!!\n",
            "나는 재귀함수다!!\n",
            "나는 재귀함수다!!\n",
            "나는 재귀함수다!!\n",
            "나는 재귀함수다!!\n",
            "나는 재귀함수다!!\n",
            "나는 재귀함수다!!\n",
            "나는 재귀함수다!!\n",
            "나는 재귀함수다!!\n",
            "나는 재귀함수다!!\n",
            "나는 재귀함수다!!\n",
            "나는 재귀함수다!!\n",
            "나는 재귀함수다!!\n",
            "나는 재귀함수다!!\n",
            "나는 재귀함수다!!\n",
            "나는 재귀함수다!!\n",
            "나는 재귀함수다!!\n",
            "나는 재귀함수다!!\n",
            "나는 재귀함수다!!\n",
            "나는 재귀함수다!!\n",
            "나는 재귀함수다!!\n",
            "나는 재귀함수다!!\n",
            "나는 재귀함수다!!\n",
            "나는 재귀함수다!!\n",
            "나는 재귀함수다!!\n",
            "나는 재귀함수다!!\n",
            "나는 재귀함수다!!\n",
            "나는 재귀함수다!!\n",
            "나는 재귀함수다!!\n",
            "나는 재귀함수다!!\n",
            "나는 재귀함수다!!\n",
            "나는 재귀함수다!!\n",
            "나는 재귀함수다!!\n",
            "나는 재귀함수다!!\n",
            "나는 재귀함수다!!\n",
            "나는 재귀함수다!!\n",
            "나는 재귀함수다!!\n",
            "나는 재귀함수다!!\n",
            "나는 재귀함수다!!\n",
            "나는 재귀함수다!!\n",
            "나는 재귀함수다!!\n",
            "나는 재귀함수다!!\n",
            "나는 재귀함수다!!\n",
            "나는 재귀함수다!!\n",
            "나는 재귀함수다!!\n",
            "나는 재귀함수다!!\n",
            "나는 재귀함수다!!\n",
            "나는 재귀함수다!!\n",
            "나는 재귀함수다!!\n",
            "나는 재귀함수다!!\n",
            "나는 재귀함수다!!\n",
            "나는 재귀함수다!!\n",
            "나는 재귀함수다!!\n",
            "나는 재귀함수다!!\n",
            "나는 재귀함수다!!\n",
            "나는 재귀함수다!!\n",
            "나는 재귀함수다!!\n",
            "나는 재귀함수다!!\n",
            "나는 재귀함수다!!\n",
            "나는 재귀함수다!!\n",
            "나는 재귀함수다!!\n",
            "나는 재귀함수다!!\n",
            "나는 재귀함수다!!\n",
            "나는 재귀함수다!!\n",
            "나는 재귀함수다!!\n",
            "나는 재귀함수다!!\n",
            "나는 재귀함수다!!\n",
            "나는 재귀함수다!!\n",
            "나는 재귀함수다!!\n",
            "나는 재귀함수다!!\n",
            "나는 재귀함수다!!\n",
            "나는 재귀함수다!!\n",
            "나는 재귀함수다!!\n",
            "나는 재귀함수다!!\n",
            "나는 재귀함수다!!\n",
            "나는 재귀함수다!!\n",
            "나는 재귀함수다!!\n",
            "나는 재귀함수다!!\n",
            "나는 재귀함수다!!\n",
            "나는 재귀함수다!!\n",
            "나는 재귀함수다!!\n",
            "나는 재귀함수다!!\n",
            "나는 재귀함수다!!\n",
            "나는 재귀함수다!!\n",
            "나는 재귀함수다!!\n",
            "나는 재귀함수다!!\n",
            "나는 재귀함수다!!\n",
            "나는 재귀함수다!!\n",
            "나는 재귀함수다!!\n",
            "나는 재귀함수다!!\n",
            "나는 재귀함수다!!\n",
            "나는 재귀함수다!!\n",
            "나는 재귀함수다!!\n",
            "나는 재귀함수다!!\n",
            "나는 재귀함수다!!\n",
            "나는 재귀함수다!!\n",
            "나는 재귀함수다!!\n",
            "나는 재귀함수다!!\n",
            "나는 재귀함수다!!\n",
            "나는 재귀함수다!!\n",
            "나는 재귀함수다!!\n",
            "나는 재귀함수다!!\n",
            "나는 재귀함수다!!\n",
            "나는 재귀함수다!!\n",
            "나는 재귀함수다!!\n",
            "나는 재귀함수다!!\n",
            "나는 재귀함수다!!\n",
            "나는 재귀함수다!!\n",
            "나는 재귀함수다!!\n",
            "나는 재귀함수다!!\n",
            "나는 재귀함수다!!\n",
            "나는 재귀함수다!!\n",
            "나는 재귀함수다!!\n",
            "나는 재귀함수다!!\n",
            "나는 재귀함수다!!\n",
            "나는 재귀함수다!!\n",
            "나는 재귀함수다!!\n",
            "나는 재귀함수다!!\n",
            "나는 재귀함수다!!\n",
            "나는 재귀함수다!!\n",
            "나는 재귀함수다!!\n",
            "나는 재귀함수다!!\n",
            "나는 재귀함수다!!\n",
            "나는 재귀함수다!!\n",
            "나는 재귀함수다!!\n",
            "나는 재귀함수다!!\n",
            "나는 재귀함수다!!\n",
            "나는 재귀함수다!!\n",
            "나는 재귀함수다!!\n",
            "나는 재귀함수다!!\n",
            "나는 재귀함수다!!\n",
            "나는 재귀함수다!!\n",
            "나는 재귀함수다!!\n",
            "나는 재귀함수다!!\n",
            "나는 재귀함수다!!\n",
            "나는 재귀함수다!!\n",
            "나는 재귀함수다!!\n",
            "나는 재귀함수다!!\n",
            "나는 재귀함수다!!\n",
            "나는 재귀함수다!!\n",
            "나는 재귀함수다!!\n",
            "나는 재귀함수다!!\n",
            "나는 재귀함수다!!\n",
            "나는 재귀함수다!!\n",
            "나는 재귀함수다!!\n",
            "나는 재귀함수다!!\n",
            "나는 재귀함수다!!\n",
            "나는 재귀함수다!!\n",
            "나는 재귀함수다!!\n",
            "나는 재귀함수다!!\n",
            "나는 재귀함수다!!\n",
            "나는 재귀함수다!!\n",
            "나는 재귀함수다!!\n",
            "나는 재귀함수다!!\n",
            "나는 재귀함수다!!\n",
            "나는 재귀함수다!!\n",
            "나는 재귀함수다!!\n",
            "나는 재귀함수다!!\n",
            "나는 재귀함수다!!\n",
            "나는 재귀함수다!!\n",
            "나는 재귀함수다!!\n",
            "나는 재귀함수다!!\n",
            "나는 재귀함수다!!\n",
            "나는 재귀함수다!!\n",
            "나는 재귀함수다!!\n",
            "나는 재귀함수다!!\n",
            "나는 재귀함수다!!\n",
            "나는 재귀함수다!!\n",
            "나는 재귀함수다!!\n",
            "나는 재귀함수다!!\n",
            "나는 재귀함수다!!\n",
            "나는 재귀함수다!!\n",
            "나는 재귀함수다!!\n",
            "나는 재귀함수다!!\n",
            "나는 재귀함수다!!\n",
            "나는 재귀함수다!!\n",
            "나는 재귀함수다!!\n",
            "나는 재귀함수다!!\n",
            "나는 재귀함수다!!\n",
            "나는 재귀함수다!!\n",
            "나는 재귀함수다!!\n",
            "나는 재귀함수다!!\n",
            "나는 재귀함수다!!\n",
            "나는 재귀함수다!!\n",
            "나는 재귀함수다!!\n",
            "나는 재귀함수다!!\n",
            "나는 재귀함수다!!\n",
            "나는 재귀함수다!!\n",
            "나는 재귀함수다!!\n",
            "나는 재귀함수다!!\n",
            "나는 재귀함수다!!\n",
            "나는 재귀함수다!!\n",
            "나는 재귀함수다!!\n",
            "나는 재귀함수다!!\n",
            "나는 재귀함수다!!\n",
            "나는 재귀함수다!!\n",
            "나는 재귀함수다!!\n",
            "나는 재귀함수다!!\n",
            "나는 재귀함수다!!\n",
            "나는 재귀함수다!!\n",
            "나는 재귀함수다!!\n",
            "나는 재귀함수다!!\n",
            "나는 재귀함수다!!\n",
            "나는 재귀함수다!!\n",
            "나는 재귀함수다!!\n",
            "나는 재귀함수다!!\n",
            "나는 재귀함수다!!\n",
            "나는 재귀함수다!!\n",
            "나는 재귀함수다!!\n",
            "나는 재귀함수다!!\n",
            "나는 재귀함수다!!\n",
            "나는 재귀함수다!!\n",
            "나는 재귀함수다!!\n",
            "나는 재귀함수다!!\n",
            "나는 재귀함수다!!\n",
            "나는 재귀함수다!!\n",
            "나는 재귀함수다!!\n",
            "나는 재귀함수다!!\n",
            "나는 재귀함수다!!\n",
            "나는 재귀함수다!!\n",
            "나는 재귀함수다!!\n",
            "나는 재귀함수다!!\n",
            "나는 재귀함수다!!\n",
            "나는 재귀함수다!!\n",
            "나는 재귀함수다!!\n",
            "나는 재귀함수다!!\n",
            "나는 재귀함수다!!\n",
            "나는 재귀함수다!!\n",
            "나는 재귀함수다!!\n",
            "나는 재귀함수다!!\n",
            "나는 재귀함수다!!\n",
            "나는 재귀함수다!!\n",
            "나는 재귀함수다!!\n",
            "나는 재귀함수다!!\n",
            "나는 재귀함수다!!\n",
            "나는 재귀함수다!!\n",
            "나는 재귀함수다!!\n",
            "나는 재귀함수다!!\n",
            "나는 재귀함수다!!\n",
            "나는 재귀함수다!!\n",
            "나는 재귀함수다!!\n",
            "나는 재귀함수다!!\n",
            "나는 재귀함수다!!\n",
            "나는 재귀함수다!!\n",
            "나는 재귀함수다!!\n",
            "나는 재귀함수다!!\n",
            "나는 재귀함수다!!\n",
            "나는 재귀함수다!!\n",
            "나는 재귀함수다!!\n",
            "나는 재귀함수다!!\n",
            "나는 재귀함수다!!\n",
            "나는 재귀함수다!!\n",
            "나는 재귀함수다!!\n",
            "나는 재귀함수다!!\n",
            "나는 재귀함수다!!\n",
            "나는 재귀함수다!!\n",
            "나는 재귀함수다!!\n",
            "나는 재귀함수다!!\n",
            "나는 재귀함수다!!\n",
            "나는 재귀함수다!!\n",
            "나는 재귀함수다!!\n",
            "나는 재귀함수다!!\n",
            "나는 재귀함수다!!\n",
            "나는 재귀함수다!!\n",
            "나는 재귀함수다!!\n",
            "나는 재귀함수다!!\n",
            "나는 재귀함수다!!\n",
            "나는 재귀함수다!!\n",
            "나는 재귀함수다!!\n",
            "나는 재귀함수다!!\n",
            "나는 재귀함수다!!\n",
            "나는 재귀함수다!!\n",
            "나는 재귀함수다!!\n",
            "나는 재귀함수다!!\n",
            "나는 재귀함수다!!\n",
            "나는 재귀함수다!!\n",
            "나는 재귀함수다!!\n",
            "나는 재귀함수다!!\n",
            "나는 재귀함수다!!\n",
            "나는 재귀함수다!!\n",
            "나는 재귀함수다!!\n",
            "나는 재귀함수다!!\n",
            "나는 재귀함수다!!\n",
            "나는 재귀함수다!!\n",
            "나는 재귀함수다!!\n",
            "나는 재귀함수다!!\n",
            "나는 재귀함수다!!\n",
            "나는 재귀함수다!!\n",
            "나는 재귀함수다!!\n",
            "나는 재귀함수다!!\n",
            "나는 재귀함수다!!\n",
            "나는 재귀함수다!!\n",
            "나는 재귀함수다!!\n",
            "나는 재귀함수다!!\n",
            "나는 재귀함수다!!\n",
            "나는 재귀함수다!!\n",
            "나는 재귀함수다!!\n",
            "나는 재귀함수다!!\n",
            "나는 재귀함수다!!\n",
            "나는 재귀함수다!!\n",
            "나는 재귀함수다!!\n",
            "나는 재귀함수다!!\n",
            "나는 재귀함수다!!\n",
            "나는 재귀함수다!!\n",
            "나는 재귀함수다!!\n",
            "나는 재귀함수다!!\n",
            "나는 재귀함수다!!\n",
            "나는 재귀함수다!!\n",
            "나는 재귀함수다!!\n",
            "나는 재귀함수다!!\n",
            "나는 재귀함수다!!\n",
            "나는 재귀함수다!!\n",
            "나는 재귀함수다!!\n",
            "나는 재귀함수다!!\n",
            "나는 재귀함수다!!\n",
            "나는 재귀함수다!!\n",
            "나는 재귀함수다!!\n",
            "나는 재귀함수다!!\n",
            "나는 재귀함수다!!\n",
            "나는 재귀함수다!!\n",
            "나는 재귀함수다!!\n",
            "나는 재귀함수다!!\n",
            "나는 재귀함수다!!\n",
            "나는 재귀함수다!!\n",
            "나는 재귀함수다!!\n",
            "나는 재귀함수다!!\n",
            "나는 재귀함수다!!\n",
            "나는 재귀함수다!!\n",
            "나는 재귀함수다!!\n",
            "나는 재귀함수다!!\n",
            "나는 재귀함수다!!\n",
            "나는 재귀함수다!!\n",
            "나는 재귀함수다!!\n",
            "나는 재귀함수다!!\n",
            "나는 재귀함수다!!\n",
            "나는 재귀함수다!!\n",
            "나는 재귀함수다!!\n",
            "나는 재귀함수다!!\n",
            "나는 재귀함수다!!\n",
            "나는 재귀함수다!!\n",
            "나는 재귀함수다!!\n",
            "나는 재귀함수다!!\n",
            "나는 재귀함수다!!\n",
            "나는 재귀함수다!!\n",
            "나는 재귀함수다!!\n",
            "나는 재귀함수다!!\n",
            "나는 재귀함수다!!\n",
            "나는 재귀함수다!!\n",
            "나는 재귀함수다!!\n",
            "나는 재귀함수다!!\n",
            "나는 재귀함수다!!\n",
            "나는 재귀함수다!!\n",
            "나는 재귀함수다!!\n",
            "나는 재귀함수다!!\n",
            "나는 재귀함수다!!\n",
            "나는 재귀함수다!!\n",
            "나는 재귀함수다!!\n",
            "나는 재귀함수다!!\n",
            "나는 재귀함수다!!\n",
            "나는 재귀함수다!!\n",
            "나는 재귀함수다!!\n",
            "나는 재귀함수다!!\n",
            "나는 재귀함수다!!\n",
            "나는 재귀함수다!!\n",
            "나는 재귀함수다!!\n",
            "나는 재귀함수다!!\n",
            "나는 재귀함수다!!\n",
            "나는 재귀함수다!!\n",
            "나는 재귀함수다!!\n",
            "나는 재귀함수다!!\n",
            "나는 재귀함수다!!\n",
            "나는 재귀함수다!!\n",
            "나는 재귀함수다!!\n",
            "나는 재귀함수다!!\n",
            "나는 재귀함수다!!\n",
            "나는 재귀함수다!!\n",
            "나는 재귀함수다!!\n",
            "나는 재귀함수다!!\n",
            "나는 재귀함수다!!\n",
            "나는 재귀함수다!!\n",
            "나는 재귀함수다!!\n",
            "나는 재귀함수다!!\n",
            "나는 재귀함수다!!\n",
            "나는 재귀함수다!!\n",
            "나는 재귀함수다!!\n",
            "나는 재귀함수다!!\n",
            "나는 재귀함수다!!\n",
            "나는 재귀함수다!!\n",
            "나는 재귀함수다!!\n",
            "나는 재귀함수다!!\n",
            "나는 재귀함수다!!\n",
            "나는 재귀함수다!!\n",
            "나는 재귀함수다!!\n",
            "나는 재귀함수다!!\n",
            "나는 재귀함수다!!\n",
            "나는 재귀함수다!!\n",
            "나는 재귀함수다!!\n",
            "나는 재귀함수다!!\n",
            "나는 재귀함수다!!\n",
            "나는 재귀함수다!!\n",
            "나는 재귀함수다!!\n",
            "나는 재귀함수다!!\n",
            "나는 재귀함수다!!\n",
            "나는 재귀함수다!!\n",
            "나는 재귀함수다!!\n",
            "나는 재귀함수다!!\n",
            "나는 재귀함수다!!\n",
            "나는 재귀함수다!!\n",
            "나는 재귀함수다!!\n",
            "나는 재귀함수다!!\n",
            "나는 재귀함수다!!\n",
            "나는 재귀함수다!!\n",
            "나는 재귀함수다!!\n",
            "나는 재귀함수다!!\n",
            "나는 재귀함수다!!\n",
            "나는 재귀함수다!!\n",
            "나는 재귀함수다!!\n",
            "나는 재귀함수다!!\n",
            "나는 재귀함수다!!\n",
            "나는 재귀함수다!!\n",
            "나는 재귀함수다!!\n",
            "나는 재귀함수다!!\n",
            "나는 재귀함수다!!\n",
            "나는 재귀함수다!!\n",
            "나는 재귀함수다!!\n",
            "나는 재귀함수다!!\n",
            "나는 재귀함수다!!\n",
            "나는 재귀함수다!!\n",
            "나는 재귀함수다!!\n",
            "나는 재귀함수다!!\n",
            "나는 재귀함수다!!\n",
            "나는 재귀함수다!!\n",
            "나는 재귀함수다!!\n",
            "나는 재귀함수다!!\n",
            "나는 재귀함수다!!\n",
            "나는 재귀함수다!!\n",
            "나는 재귀함수다!!\n",
            "나는 재귀함수다!!\n",
            "나는 재귀함수다!!\n",
            "나는 재귀함수다!!\n",
            "나는 재귀함수다!!\n",
            "나는 재귀함수다!!\n",
            "나는 재귀함수다!!\n",
            "나는 재귀함수다!!\n",
            "나는 재귀함수다!!\n",
            "나는 재귀함수다!!\n",
            "나는 재귀함수다!!\n",
            "나는 재귀함수다!!\n",
            "나는 재귀함수다!!\n",
            "나는 재귀함수다!!\n",
            "나는 재귀함수다!!\n",
            "나는 재귀함수다!!\n",
            "나는 재귀함수다!!\n",
            "나는 재귀함수다!!\n",
            "나는 재귀함수다!!\n",
            "나는 재귀함수다!!\n",
            "나는 재귀함수다!!\n",
            "나는 재귀함수다!!\n",
            "나는 재귀함수다!!\n",
            "나는 재귀함수다!!\n",
            "나는 재귀함수다!!\n",
            "나는 재귀함수다!!\n",
            "나는 재귀함수다!!\n",
            "나는 재귀함수다!!\n",
            "나는 재귀함수다!!\n",
            "나는 재귀함수다!!\n",
            "나는 재귀함수다!!\n",
            "나는 재귀함수다!!\n",
            "나는 재귀함수다!!\n",
            "나는 재귀함수다!!\n",
            "나는 재귀함수다!!\n",
            "나는 재귀함수다!!\n",
            "나는 재귀함수다!!\n",
            "나는 재귀함수다!!\n",
            "나는 재귀함수다!!\n",
            "나는 재귀함수다!!\n",
            "나는 재귀함수다!!\n",
            "나는 재귀함수다!!\n",
            "나는 재귀함수다!!\n",
            "나는 재귀함수다!!\n",
            "나는 재귀함수다!!\n",
            "나는 재귀함수다!!\n",
            "나는 재귀함수다!!\n",
            "나는 재귀함수다!!\n",
            "나는 재귀함수다!!\n",
            "나는 재귀함수다!!\n",
            "나는 재귀함수다!!\n",
            "나는 재귀함수다!!\n",
            "나는 재귀함수다!!\n",
            "나는 재귀함수다!!\n",
            "나는 재귀함수다!!\n",
            "나는 재귀함수다!!\n",
            "나는 재귀함수다!!\n",
            "나는 재귀함수다!!\n",
            "나는 재귀함수다!!\n",
            "나는 재귀함수다!!\n",
            "나는 재귀함수다!!\n",
            "나는 재귀함수다!!\n",
            "나는 재귀함수다!!\n",
            "나는 재귀함수다!!\n",
            "나는 재귀함수다!!\n",
            "나는 재귀함수다!!\n",
            "나는 재귀함수다!!\n",
            "나는 재귀함수다!!\n",
            "나는 재귀함수다!!\n",
            "나는 재귀함수다!!\n",
            "나는 재귀함수다!!\n",
            "나는 재귀함수다!!\n",
            "나는 재귀함수다!!\n",
            "나는 재귀함수다!!\n",
            "나는 재귀함수다!!\n",
            "나는 재귀함수다!!\n",
            "나는 재귀함수다!!\n",
            "나는 재귀함수다!!\n",
            "나는 재귀함수다!!\n",
            "나는 재귀함수다!!\n",
            "나는 재귀함수다!!\n",
            "나는 재귀함수다!!\n",
            "나는 재귀함수다!!\n",
            "나는 재귀함수다!!\n",
            "나는 재귀함수다!!\n",
            "나는 재귀함수다!!\n",
            "나는 재귀함수다!!\n",
            "나는 재귀함수다!!\n",
            "나는 재귀함수다!!\n",
            "나는 재귀함수다!!\n",
            "나는 재귀함수다!!\n",
            "나는 재귀함수다!!\n",
            "나는 재귀함수다!!\n",
            "나는 재귀함수다!!\n",
            "나는 재귀함수다!!\n",
            "나는 재귀함수다!!\n",
            "나는 재귀함수다!!\n",
            "나는 재귀함수다!!\n",
            "나는 재귀함수다!!\n",
            "나는 재귀함수다!!\n",
            "나는 재귀함수다!!\n",
            "나는 재귀함수다!!\n",
            "나는 재귀함수다!!\n",
            "나는 재귀함수다!!\n",
            "나는 재귀함수다!!\n",
            "나는 재귀함수다!!\n",
            "나는 재귀함수다!!\n",
            "나는 재귀함수다!!\n",
            "나는 재귀함수다!!\n",
            "나는 재귀함수다!!\n",
            "나는 재귀함수다!!\n",
            "나는 재귀함수다!!\n",
            "나는 재귀함수다!!\n",
            "나는 재귀함수다!!\n",
            "나는 재귀함수다!!\n",
            "나는 재귀함수다!!\n",
            "나는 재귀함수다!!\n",
            "나는 재귀함수다!!\n",
            "나는 재귀함수다!!\n",
            "나는 재귀함수다!!\n",
            "나는 재귀함수다!!\n",
            "나는 재귀함수다!!\n",
            "나는 재귀함수다!!\n",
            "나는 재귀함수다!!\n",
            "나는 재귀함수다!!\n",
            "나는 재귀함수다!!\n",
            "나는 재귀함수다!!\n",
            "나는 재귀함수다!!\n",
            "나는 재귀함수다!!\n",
            "나는 재귀함수다!!\n",
            "나는 재귀함수다!!\n",
            "나는 재귀함수다!!\n",
            "나는 재귀함수다!!\n",
            "나는 재귀함수다!!\n",
            "나는 재귀함수다!!\n",
            "나는 재귀함수다!!\n",
            "나는 재귀함수다!!\n",
            "나는 재귀함수다!!\n",
            "나는 재귀함수다!!\n",
            "나는 재귀함수다!!\n",
            "나는 재귀함수다!!\n",
            "나는 재귀함수다!!\n",
            "나는 재귀함수다!!\n",
            "나는 재귀함수다!!\n",
            "나는 재귀함수다!!\n",
            "나는 재귀함수다!!\n",
            "나는 재귀함수다!!\n",
            "나는 재귀함수다!!\n",
            "나는 재귀함수다!!\n",
            "나는 재귀함수다!!\n",
            "나는 재귀함수다!!\n",
            "나는 재귀함수다!!\n",
            "나는 재귀함수다!!\n",
            "나는 재귀함수다!!\n",
            "나는 재귀함수다!!\n",
            "나는 재귀함수다!!\n",
            "나는 재귀함수다!!\n",
            "나는 재귀함수다!!\n",
            "나는 재귀함수다!!\n",
            "나는 재귀함수다!!\n",
            "나는 재귀함수다!!\n",
            "나는 재귀함수다!!\n",
            "나는 재귀함수다!!\n",
            "나는 재귀함수다!!\n",
            "나는 재귀함수다!!\n",
            "나는 재귀함수다!!\n",
            "나는 재귀함수다!!\n",
            "나는 재귀함수다!!\n",
            "나는 재귀함수다!!\n",
            "나는 재귀함수다!!\n",
            "나는 재귀함수다!!\n",
            "나는 재귀함수다!!\n",
            "나는 재귀함수다!!\n",
            "나는 재귀함수다!!\n",
            "나는 재귀함수다!!\n",
            "나는 재귀함수다!!\n",
            "나는 재귀함수다!!\n",
            "나는 재귀함수다!!\n",
            "나는 재귀함수다!!\n",
            "나는 재귀함수다!!\n"
          ]
        },
        {
          "ename": "RecursionError",
          "evalue": "maximum recursion depth exceeded while calling a Python object",
          "output_type": "error",
          "traceback": [
            "\u001b[1;31m---------------------------------------------------------------------------\u001b[0m",
            "\u001b[1;31mRecursionError\u001b[0m                            Traceback (most recent call last)",
            "\u001b[1;32m<ipython-input-11-07f806e3ccb3>\u001b[0m in \u001b[0;36m<module>\u001b[1;34m\u001b[0m\n\u001b[0;32m      4\u001b[0m \u001b[1;33m\u001b[0m\u001b[0m\n\u001b[0;32m      5\u001b[0m \u001b[1;31m# 재귀 함수 실행\u001b[0m\u001b[1;33m\u001b[0m\u001b[1;33m\u001b[0m\u001b[1;33m\u001b[0m\u001b[0m\n\u001b[1;32m----> 6\u001b[1;33m \u001b[0mrecursive_func\u001b[0m\u001b[1;33m(\u001b[0m\u001b[1;33m)\u001b[0m\u001b[1;33m\u001b[0m\u001b[1;33m\u001b[0m\u001b[0m\n\u001b[0m",
            "\u001b[1;32m<ipython-input-11-07f806e3ccb3>\u001b[0m in \u001b[0;36mrecursive_func\u001b[1;34m()\u001b[0m\n\u001b[0;32m      1\u001b[0m \u001b[1;32mdef\u001b[0m \u001b[0mrecursive_func\u001b[0m\u001b[1;33m(\u001b[0m\u001b[1;33m)\u001b[0m\u001b[1;33m:\u001b[0m\u001b[1;33m\u001b[0m\u001b[1;33m\u001b[0m\u001b[0m\n\u001b[0;32m      2\u001b[0m     \u001b[0mprint\u001b[0m\u001b[1;33m(\u001b[0m\u001b[1;34m\"나는 재귀함수다!!\"\u001b[0m\u001b[1;33m)\u001b[0m\u001b[1;33m\u001b[0m\u001b[1;33m\u001b[0m\u001b[0m\n\u001b[1;32m----> 3\u001b[1;33m     \u001b[0mrecursive_func\u001b[0m\u001b[1;33m(\u001b[0m\u001b[1;33m)\u001b[0m\u001b[1;33m\u001b[0m\u001b[1;33m\u001b[0m\u001b[0m\n\u001b[0m\u001b[0;32m      4\u001b[0m \u001b[1;33m\u001b[0m\u001b[0m\n\u001b[0;32m      5\u001b[0m \u001b[1;31m# 재귀 함수 실행\u001b[0m\u001b[1;33m\u001b[0m\u001b[1;33m\u001b[0m\u001b[1;33m\u001b[0m\u001b[0m\n",
            "... last 1 frames repeated, from the frame below ...\n",
            "\u001b[1;32m<ipython-input-11-07f806e3ccb3>\u001b[0m in \u001b[0;36mrecursive_func\u001b[1;34m()\u001b[0m\n\u001b[0;32m      1\u001b[0m \u001b[1;32mdef\u001b[0m \u001b[0mrecursive_func\u001b[0m\u001b[1;33m(\u001b[0m\u001b[1;33m)\u001b[0m\u001b[1;33m:\u001b[0m\u001b[1;33m\u001b[0m\u001b[1;33m\u001b[0m\u001b[0m\n\u001b[0;32m      2\u001b[0m     \u001b[0mprint\u001b[0m\u001b[1;33m(\u001b[0m\u001b[1;34m\"나는 재귀함수다!!\"\u001b[0m\u001b[1;33m)\u001b[0m\u001b[1;33m\u001b[0m\u001b[1;33m\u001b[0m\u001b[0m\n\u001b[1;32m----> 3\u001b[1;33m     \u001b[0mrecursive_func\u001b[0m\u001b[1;33m(\u001b[0m\u001b[1;33m)\u001b[0m\u001b[1;33m\u001b[0m\u001b[1;33m\u001b[0m\u001b[0m\n\u001b[0m\u001b[0;32m      4\u001b[0m \u001b[1;33m\u001b[0m\u001b[0m\n\u001b[0;32m      5\u001b[0m \u001b[1;31m# 재귀 함수 실행\u001b[0m\u001b[1;33m\u001b[0m\u001b[1;33m\u001b[0m\u001b[1;33m\u001b[0m\u001b[0m\n",
            "\u001b[1;31mRecursionError\u001b[0m: maximum recursion depth exceeded while calling a Python object"
          ]
        }
      ]
    },
    {
      "cell_type": "code",
      "metadata": {
        "id": "417070b1",
        "outputId": "cc2da2ad-9f5b-45e6-ca7d-f37239d4c83c"
      },
      "source": [
        "def my_factorial(n):\n",
        "    # 진짜 불러지는지 확인을 위해서 print 함수를 사용을 함..\n",
        "    print(\"My Factorial 불렀으? n값은?\" + str(n))\n",
        "    if n <=1 :\n",
        "        return 1\n",
        "    else:\n",
        "        return  n * my_factorial(n - 1)\n",
        "\n",
        "### 실제 4!에 대한 계산 시행\n",
        "my_factorial(4)"
      ],
      "id": "417070b1",
      "execution_count": null,
      "outputs": [
        {
          "name": "stdout",
          "output_type": "stream",
          "text": [
            "My Factorial 불렀으? n값은?4\n",
            "My Factorial 불렀으? n값은?3\n",
            "My Factorial 불렀으? n값은?2\n",
            "My Factorial 불렀으? n값은?1\n"
          ]
        },
        {
          "data": {
            "text/plain": [
              "24"
            ]
          },
          "execution_count": 12,
          "metadata": {},
          "output_type": "execute_result"
        }
      ]
    },
    {
      "cell_type": "code",
      "metadata": {
        "id": "ad0535d7",
        "outputId": "24885c38-fb91-4a0f-de5e-5a3a406c532f"
      },
      "source": [
        "import math\n",
        "\n",
        "n =4\n",
        "print(math.factorial(int(n)))"
      ],
      "id": "ad0535d7",
      "execution_count": null,
      "outputs": [
        {
          "name": "stdout",
          "output_type": "stream",
          "text": [
            "24\n"
          ]
        }
      ]
    },
    {
      "cell_type": "code",
      "metadata": {
        "id": "45273178",
        "outputId": "fce9ad70-215b-48ac-f655-4c5a3a84c5ac"
      },
      "source": [
        "##############################\n",
        "# While 문 사용\n",
        "n = 4\n",
        "fact = 1 # 계산에 대한 최종 결과 처리용\n",
        "a=1 # 증감용\n",
        "while a <= n :\n",
        "    fact*=a\n",
        "    a+=1\n",
        "print( str(n)+\"! =\" + str(fact))\n",
        "\n",
        "\n",
        "\n",
        "##############################\n",
        "# for 문 사용\n",
        "n = 4\n",
        "fact = 1\n",
        "for i in range(1, n+1):\n",
        "    fact  *= i\n",
        "print( str(n)+\"! =\" + str(fact))"
      ],
      "id": "45273178",
      "execution_count": null,
      "outputs": [
        {
          "name": "stdout",
          "output_type": "stream",
          "text": [
            "4! =24\n",
            "4! =24\n"
          ]
        }
      ]
    },
    {
      "cell_type": "code",
      "metadata": {
        "id": "0fee77a8",
        "outputId": "bcf5590f-4823-43f6-9ca7-2da3dd1b654f"
      },
      "source": [
        "def recursive_func(i):\n",
        "    # 50번까지만 하기 위해서는\n",
        "    if i == 50 :\n",
        "        return\n",
        "    else:\n",
        "        print(\"나는 {}번째 재귀함수다!!\".format(i))\n",
        "        recursive_func(i+1)\n",
        "\n",
        "recursive_func(1)"
      ],
      "id": "0fee77a8",
      "execution_count": null,
      "outputs": [
        {
          "name": "stdout",
          "output_type": "stream",
          "text": [
            "나는 1번째 재귀함수다!!\n",
            "나는 2번째 재귀함수다!!\n",
            "나는 3번째 재귀함수다!!\n",
            "나는 4번째 재귀함수다!!\n",
            "나는 5번째 재귀함수다!!\n",
            "나는 6번째 재귀함수다!!\n",
            "나는 7번째 재귀함수다!!\n",
            "나는 8번째 재귀함수다!!\n",
            "나는 9번째 재귀함수다!!\n",
            "나는 10번째 재귀함수다!!\n",
            "나는 11번째 재귀함수다!!\n",
            "나는 12번째 재귀함수다!!\n",
            "나는 13번째 재귀함수다!!\n",
            "나는 14번째 재귀함수다!!\n",
            "나는 15번째 재귀함수다!!\n",
            "나는 16번째 재귀함수다!!\n",
            "나는 17번째 재귀함수다!!\n",
            "나는 18번째 재귀함수다!!\n",
            "나는 19번째 재귀함수다!!\n",
            "나는 20번째 재귀함수다!!\n",
            "나는 21번째 재귀함수다!!\n",
            "나는 22번째 재귀함수다!!\n",
            "나는 23번째 재귀함수다!!\n",
            "나는 24번째 재귀함수다!!\n",
            "나는 25번째 재귀함수다!!\n",
            "나는 26번째 재귀함수다!!\n",
            "나는 27번째 재귀함수다!!\n",
            "나는 28번째 재귀함수다!!\n",
            "나는 29번째 재귀함수다!!\n",
            "나는 30번째 재귀함수다!!\n",
            "나는 31번째 재귀함수다!!\n",
            "나는 32번째 재귀함수다!!\n",
            "나는 33번째 재귀함수다!!\n",
            "나는 34번째 재귀함수다!!\n",
            "나는 35번째 재귀함수다!!\n",
            "나는 36번째 재귀함수다!!\n",
            "나는 37번째 재귀함수다!!\n",
            "나는 38번째 재귀함수다!!\n",
            "나는 39번째 재귀함수다!!\n",
            "나는 40번째 재귀함수다!!\n",
            "나는 41번째 재귀함수다!!\n",
            "나는 42번째 재귀함수다!!\n",
            "나는 43번째 재귀함수다!!\n",
            "나는 44번째 재귀함수다!!\n",
            "나는 45번째 재귀함수다!!\n",
            "나는 46번째 재귀함수다!!\n",
            "나는 47번째 재귀함수다!!\n",
            "나는 48번째 재귀함수다!!\n",
            "나는 49번째 재귀함수다!!\n"
          ]
        }
      ]
    },
    {
      "cell_type": "code",
      "metadata": {
        "id": "adb2dd69",
        "outputId": "ead31293-114b-4c7b-aec1-9e6b3a0aa157"
      },
      "source": [
        "# 방법1) 직접 큰 수를 할당\n",
        "INF = 999999999\n",
        "\n",
        "graph = [\n",
        "            [0,7,5],\n",
        "            [7,0,INF],\n",
        "            [5,INF,0]\n",
        "        ]\n",
        "print(graph)\n",
        "\n",
        "# 방법2) 파이썬을 활용해서 명시적으로 할 때\n",
        "INF = float('inf')\n",
        "\n",
        "graph = [\n",
        "            [0,7,5],\n",
        "            [7,0,INF],\n",
        "            [5,INF,0]\n",
        "        ]\n",
        "print(graph)"
      ],
      "id": "adb2dd69",
      "execution_count": null,
      "outputs": [
        {
          "name": "stdout",
          "output_type": "stream",
          "text": [
            "[[0, 7, 5], [7, 0, 999999999], [5, 999999999, 0]]\n",
            "[[0, 7, 5], [7, 0, inf], [5, inf, 0]]\n"
          ]
        }
      ]
    },
    {
      "cell_type": "code",
      "metadata": {
        "id": "5ae46b52",
        "outputId": "6e156d85-7e24-40ca-a0c6-ac2eb52f4e0f"
      },
      "source": [
        "num = float('inf')\n",
        "print(num)\n",
        "print(num>1, num>9999999999999999999999999)"
      ],
      "id": "5ae46b52",
      "execution_count": null,
      "outputs": [
        {
          "name": "stdout",
          "output_type": "stream",
          "text": [
            "inf\n",
            "True True\n"
          ]
        }
      ]
    },
    {
      "cell_type": "code",
      "metadata": {
        "id": "014523c1",
        "outputId": "36f87716-b660-477d-8638-44d63dde1201"
      },
      "source": [
        "INF = float('inf')\n",
        "\n",
        "graph = [\n",
        "            [0,1,INF,1],\n",
        "            [1,0,1,1],\n",
        "            [INF,1,0,1],\n",
        "            [1,1,1,0]\n",
        "        ]\n",
        "print(graph)"
      ],
      "id": "014523c1",
      "execution_count": null,
      "outputs": [
        {
          "name": "stdout",
          "output_type": "stream",
          "text": [
            "[[0, 1, inf, 1], [1, 0, 1, 1], [inf, 1, 0, 1], [1, 1, 1, 0]]\n"
          ]
        }
      ]
    },
    {
      "cell_type": "code",
      "metadata": {
        "id": "ab1ff864",
        "outputId": "ac014a36-6c2a-473d-c046-42cd158e67f0"
      },
      "source": [
        "# 참고) 입력으로 이렇게 빈 리스트를 생성해서 받을 때..\n",
        "graph = [[] for _ in range(3)]\n",
        "graph"
      ],
      "id": "ab1ff864",
      "execution_count": null,
      "outputs": [
        {
          "data": {
            "text/plain": [
              "[[], [], []]"
            ]
          },
          "execution_count": 25,
          "metadata": {},
          "output_type": "execute_result"
        }
      ]
    },
    {
      "cell_type": "code",
      "metadata": {
        "id": "36552d11",
        "outputId": "a5f2c47c-69b4-4cdb-8b63-aa59e22ea26a"
      },
      "source": [
        "# 노드 0번에 대해서 연결에 대한 정보를 추가를 하려고 함\n",
        "# 노드 0번은 graph[0]\n",
        "# 0번 노드와 연결된 노드 번호, 가중치\n",
        "graph[0].append((1,7))\n",
        "graph[0].append((2,5))\n",
        "\n",
        "# 노드 1에 대한 정보를 추가해보겠음.\n",
        "graph[1].append((0,7))\n",
        "\n",
        "# 노드 2에 대한 정보를 추가\n",
        "graph[2].append((0,5))\n",
        "\n",
        "print(graph)"
      ],
      "id": "36552d11",
      "execution_count": null,
      "outputs": [
        {
          "name": "stdout",
          "output_type": "stream",
          "text": [
            "[[(1, 7), (2, 5)], [(0, 7)], [(0, 5)]]\n"
          ]
        }
      ]
    },
    {
      "cell_type": "code",
      "metadata": {
        "id": "77ad5187",
        "outputId": "6baaff26-9c69-4adf-8a6d-c97353dafd91"
      },
      "source": [
        "# 위의 주어진 예제에 대해서 그래프의 연결리스트를 아래와 같이 dict로 구현\n",
        "graph = {\n",
        "    \"1\" : [\"2\",\"3\",\"8\"],\n",
        "    \"2\" : [\"1\",\"7\"],\n",
        "    \"3\" : [\"1\",\"4\",\"5\"],\n",
        "    \"4\" : [\"3\",\"5\"],\n",
        "    \"5\" : [\"3\",\"4\"],\n",
        "    \"6\" : [\"7\"],\n",
        "    \"7\" : [\"2\",\"6\",\"8\"],\n",
        "    \"8\" : [\"1\",\"7\"]\n",
        "}\n",
        "graph"
      ],
      "id": "77ad5187",
      "execution_count": null,
      "outputs": [
        {
          "data": {
            "text/plain": [
              "{'1': ['2', '3', '8'],\n",
              " '2': ['1', '7'],\n",
              " '3': ['1', '4', '5'],\n",
              " '4': ['3', '5'],\n",
              " '5': ['3', '4'],\n",
              " '6': ['7'],\n",
              " '7': ['2', '6', '8'],\n",
              " '8': ['1', '7']}"
            ]
          },
          "execution_count": 51,
          "metadata": {},
          "output_type": "execute_result"
        }
      ]
    },
    {
      "cell_type": "code",
      "metadata": {
        "id": "e619deb9"
      },
      "source": [
        "def dfs_list(graph, start_node):\n",
        "    #필요한 것....\n",
        "    need_visit = list()\n",
        "    visited = list()\n",
        "    # 이제 출발을 하자 -> start_node\n",
        "    need_visit.append(start_node)\n",
        "    #언제까지 가냐? -> need_visit에 원소가 없을때까지\n",
        "    while need_visit:\n",
        "        node = need_visit.pop()\n",
        "        if node not in visited: # 아직 방문 안 한노드\n",
        "            visited.append(node)\n",
        "            need_visit.extend(graph[node])\n",
        "            print(need_visit, visited)\n",
        "        else:\n",
        "            pass\n",
        "    return visited"
      ],
      "id": "e619deb9",
      "execution_count": null,
      "outputs": []
    },
    {
      "cell_type": "code",
      "metadata": {
        "id": "f154f5cc",
        "outputId": "a6a69a12-49d1-4317-d421-b6958df25a22"
      },
      "source": [
        "dfs_list(graph, \"1\")"
      ],
      "id": "f154f5cc",
      "execution_count": null,
      "outputs": [
        {
          "name": "stdout",
          "output_type": "stream",
          "text": [
            "['2', '3', '8'] ['1']\n",
            "['2', '3', '1', '7'] ['1', '8']\n",
            "['2', '3', '1', '2', '6', '8'] ['1', '8', '7']\n",
            "['2', '3', '1', '2', '7'] ['1', '8', '7', '6']\n",
            "['2', '3', '1', '1', '7'] ['1', '8', '7', '6', '2']\n",
            "['2', '1', '4', '5'] ['1', '8', '7', '6', '2', '3']\n",
            "['2', '1', '4', '3', '4'] ['1', '8', '7', '6', '2', '3', '5']\n",
            "['2', '1', '4', '3', '3', '5'] ['1', '8', '7', '6', '2', '3', '5', '4']\n"
          ]
        },
        {
          "data": {
            "text/plain": [
              "['1', '8', '7', '6', '2', '3', '5', '4']"
            ]
          },
          "execution_count": 53,
          "metadata": {},
          "output_type": "execute_result"
        }
      ]
    },
    {
      "cell_type": "code",
      "metadata": {
        "id": "54b3d79f"
      },
      "source": [
        "def dfs_list_re(graph, start_node):\n",
        "    #필요한 것....\n",
        "    need_visit = list()\n",
        "    visited = list()\n",
        "    # 이제 출발을 하자 -> start_node\n",
        "    need_visit.append(start_node)\n",
        "    #언제까지 가냐? -> need_visit에 원소가 없을때까지\n",
        "    while need_visit:\n",
        "        node = need_visit.pop()\n",
        "        if node not in visited: # 아직 방문 안 한노드\n",
        "            visited.append(node)\n",
        "            # [2,3,8] -> pop 8 -> 숫자가 큰 노드부터..\n",
        "            # [8,3,2]\n",
        "            #need_visit.extend(graph[node])\n",
        "            temp = graph[node]\n",
        "            reverse_temp = list(reversed(temp))\n",
        "            need_visit.extend(reverse_temp)\n",
        "            print(need_visit, visited)\n",
        "        else:\n",
        "            pass\n",
        "    return visited\n",
        "\n",
        "# def dfs_list(graph, start_node):\n",
        "#     need_visit = list()\n",
        "#     visited = list()\n",
        "#     need_visit.append(start_node)\n",
        "#     while need_visit:\n",
        "#         node = need_visit.pop()\n",
        "#         if node not in visited:\n",
        "#             visited.append(node)\n",
        "#             tmp = graph[node]\n",
        "#             reverse_tmp = reversed(tmp)\n",
        "#             need_visit.extend(reverse_tmp)\n",
        "#     return visited"
      ],
      "id": "54b3d79f",
      "execution_count": null,
      "outputs": []
    },
    {
      "cell_type": "code",
      "metadata": {
        "id": "b0c4fe77",
        "outputId": "0d7fb563-6fe3-4638-8b11-7d6a4c1a1b7c"
      },
      "source": [
        "dfs_list_re(graph, \"1\")"
      ],
      "id": "b0c4fe77",
      "execution_count": null,
      "outputs": [
        {
          "name": "stdout",
          "output_type": "stream",
          "text": [
            "['8', '3', '2'] ['1']\n",
            "['8', '3', '7', '1'] ['1', '2']\n",
            "['8', '3', '8', '6', '2'] ['1', '2', '7']\n",
            "['8', '3', '8', '7'] ['1', '2', '7', '6']\n",
            "['8', '3', '7', '1'] ['1', '2', '7', '6', '8']\n",
            "['8', '5', '4', '1'] ['1', '2', '7', '6', '8', '3']\n",
            "['8', '5', '5', '3'] ['1', '2', '7', '6', '8', '3', '4']\n",
            "['8', '5', '4', '3'] ['1', '2', '7', '6', '8', '3', '4', '5']\n"
          ]
        },
        {
          "data": {
            "text/plain": [
              "['1', '2', '7', '6', '8', '3', '4', '5']"
            ]
          },
          "execution_count": 40,
          "metadata": {},
          "output_type": "execute_result"
        }
      ]
    },
    {
      "cell_type": "code",
      "metadata": {
        "id": "74e1f24c"
      },
      "source": [
        "def dfs_list(graph, start_node):\n",
        "    need_visit = list()\n",
        "    visited = list()\n",
        "    need_visit.append(start_node)\n",
        "    while need_visit:\n",
        "        node = need_visit.pop()\n",
        "        if node not in visited:\n",
        "            visited.append(node)\n",
        "            tmp = graph[node]\n",
        "            reverse_tmp = reversed(tmp)\n",
        "            need_visit.extend(reverse_tmp)\n",
        "    return visited\n",
        "\n",
        "def dfs_recursive_dict(graph, start, visited = []):\n",
        "    # 일단 시작 노드에 대해서 visited 추가\n",
        "    visited.append(start)\n",
        "    print(graph[start])\n",
        "    for node in graph[start]:\n",
        "        if node not in visited:\n",
        "            dfs_recursive_dict(graph, node, visited)\n",
        "        else:\n",
        "            pass\n",
        "    return visited"
      ],
      "id": "74e1f24c",
      "execution_count": null,
      "outputs": []
    },
    {
      "cell_type": "code",
      "metadata": {
        "id": "07806f37",
        "outputId": "ad73d0cc-3b56-4608-e852-9a3c3ec40ee0"
      },
      "source": [
        "dfs_recursive_dict(graph, \"1\")"
      ],
      "id": "07806f37",
      "execution_count": null,
      "outputs": [
        {
          "name": "stdout",
          "output_type": "stream",
          "text": [
            "['2', '3', '8']\n",
            "['1', '7']\n",
            "['2', '6', '8']\n",
            "['7']\n",
            "['1', '7']\n",
            "['1', '4', '5']\n",
            "['3', '5']\n",
            "['3', '4']\n"
          ]
        },
        {
          "data": {
            "text/plain": [
              "['1', '2', '7', '6', '8', '3', '4', '5']"
            ]
          },
          "execution_count": 46,
          "metadata": {},
          "output_type": "execute_result"
        }
      ]
    },
    {
      "cell_type": "code",
      "metadata": {
        "id": "df1c55c5"
      },
      "source": [
        "def bfs_list(graph, start_node):\n",
        "    # 필요한 것....\n",
        "    need_visit_q = list()\n",
        "    visited = list()\n",
        "    # 이제 출발을 하자 -> start_node\n",
        "    need_visit_q.append(start_node)\n",
        "    while need_visit_q:\n",
        "        node = need_visit_q.pop(0)\n",
        "        if node not in visited:\n",
        "            visited.append(node)\n",
        "            need_visit_q.extend(graph[node])\n",
        "        else:\n",
        "            pass\n",
        "    \n",
        "    return visited"
      ],
      "id": "df1c55c5",
      "execution_count": null,
      "outputs": []
    },
    {
      "cell_type": "code",
      "metadata": {
        "id": "d70ea862",
        "outputId": "7cf69d13-6a43-4c76-fd65-442dfb2e5296"
      },
      "source": [
        "bfs_list(graph, \"1\")"
      ],
      "id": "d70ea862",
      "execution_count": null,
      "outputs": [
        {
          "data": {
            "text/plain": [
              "['1', '2', '3', '8', '7', '4', '5', '6']"
            ]
          },
          "execution_count": 48,
          "metadata": {},
          "output_type": "execute_result"
        }
      ]
    },
    {
      "cell_type": "code",
      "metadata": {
        "id": "35711b6a",
        "outputId": "5fed8699-e20b-4a9c-8b99-f159a7dec254"
      },
      "source": [
        "graph45 = [\n",
        "    [0,0,1,1,0],\n",
        "    [0,0,0,1,1],\n",
        "    [1,1,1,1,1],\n",
        "    [0,0,0,0,0],\n",
        "]\n",
        "result = 0\n",
        "n = len(graph45)\n",
        "m = len(graph45[0])\n",
        "# 주어진 맵에 대해서 모든 점에서 다 시작을 해보려고 함.\n",
        "for i in range(n): # 0~n-1\n",
        "    for j in range(m): # 0~ m-1\n",
        "        # 주어진 그래프에서 모든 점을 다 가볼 수 있음!!!\n",
        "        if ice_check(i,j) == True:\n",
        "            result +=1\n",
        "        else:\n",
        "            pass\n",
        "        \n",
        "print(result)"
      ],
      "id": "35711b6a",
      "execution_count": null,
      "outputs": [
        {
          "name": "stdout",
          "output_type": "stream",
          "text": [
            "3\n"
          ]
        }
      ]
    },
    {
      "cell_type": "code",
      "metadata": {
        "id": "52956fa6"
      },
      "source": [
        "def ice_check(x,y):\n",
        "    # 시킨 좌표가 주어진 범위 밖이면(얼음 케이스 밖엘 때 할 필요없음)\n",
        "    if x <= -1 or x >= n or y <= -1 or y >= m:\n",
        "        return False\n",
        "    # 내가 있는 위치가 해야할 곳인지, 안해도 될 곳인지...\n",
        "    if graph45[x][y] == 0:\n",
        "        # 나 여기 왔어요.... 0 -> 1로 뒤집어....\n",
        "        graph45[x][y] = 1\n",
        "        # 지금까지 한 일을 상,하,좌,우에 다 해볼려고 함..\n",
        "        ice_check(x-1, y)\n",
        "        ice_check(x, y-1)\n",
        "        ice_check(x+1, y)\n",
        "        ice_check(x, y+1)\n",
        "        return True\n",
        "    return False\n"
      ],
      "id": "52956fa6",
      "execution_count": null,
      "outputs": []
    },
    {
      "cell_type": "code",
      "metadata": {
        "id": "65c26f7f",
        "outputId": "7d888bf2-d3d4-4b92-8240-2497a0eb8f6f"
      },
      "source": [
        "graph45"
      ],
      "id": "65c26f7f",
      "execution_count": null,
      "outputs": [
        {
          "data": {
            "text/plain": [
              "[[1, 1, 1, 1, 1], [1, 1, 1, 1, 1], [1, 1, 1, 1, 1], [1, 1, 1, 1, 1]]"
            ]
          },
          "execution_count": 61,
          "metadata": {},
          "output_type": "execute_result"
        }
      ]
    },
    {
      "cell_type": "code",
      "metadata": {
        "id": "19c2e314",
        "outputId": "aa85fae0-48a6-4830-cd2f-4ca394144794"
      },
      "source": [
        "arr = [ 5, 7 ,9, 0, 3, 1, 6, 2, 4, 8 ]\n",
        "arr"
      ],
      "id": "19c2e314",
      "execution_count": null,
      "outputs": [
        {
          "data": {
            "text/plain": [
              "[5, 7, 9, 0, 3, 1, 6, 2, 4, 8]"
            ]
          },
          "execution_count": 4,
          "metadata": {},
          "output_type": "execute_result"
        }
      ]
    },
    {
      "cell_type": "code",
      "metadata": {
        "id": "f3c517c9",
        "outputId": "38faf000-9d54-4bef-88d2-04362139480d"
      },
      "source": [
        "# 재귀 함수로 구현을 하면 보다 쉽게 구현을 할 수 있음!!!\n",
        "# 입력 : 숫자들의 데이터\n",
        "def quick_sort(array, start, end):\n",
        "    # 원소가 한개인 경우에 종료를 위해서...\n",
        "    # print(array)\n",
        "    if start >= end:\n",
        "        return\n",
        "    else :#실제 원소의 수가 2개 이상인 경우들에 대해서 정리를 해야함\n",
        "        # 시작을 위한 기준\n",
        "        pivot = start\n",
        "        left = start + 1 # --->\n",
        "        right = end\n",
        "        \n",
        "        while(left <= right):\n",
        "            # pivot보다 큰 데이터를 찾을 때 까지 :left가 오른쪽으로 달릴 조건..\n",
        "            while(left <= end and array[left] <= array[pivot]) : # left가 도는 기준\n",
        "                left += 1\n",
        "            # pivot 보다 작은 데이터를 찾을 때 까지 : right가 왼쪽으로 달릴 조건..\n",
        "            while(right > start and array[right] >= array[pivot]) : # left가 도는 기준\n",
        "                right -= 1\n",
        "                \n",
        "            # left, right 다 각기 역할을 수행을 시킨 후에\n",
        "            # 서로 위치가 뒤집어 지는지, 아닌지에 따라서....\n",
        "            if left > right:\n",
        "                array[right], array[pivot] = array[pivot], array[right]\n",
        "            else: # 아직 left, right가 서로 크로스는 아니고, 멈춘 상태...\n",
        "                array[left], array[right] = array[right], array[left]\n",
        "                \n",
        "    ####################################################################\n",
        "    ### pivot을 기준으로 UP, DOWN만 구별을 함!!!!!\n",
        "    # pivot 보다 작은 파트에 적용\n",
        "    quick_sort(array, start, right - 1)\n",
        "    # pivot 보다 큰 파트에 적용\n",
        "    quick_sort(array, right + 1, end)\n",
        "                \n",
        "        \n",
        "quick_sort(arr, 0, len(arr) - 1)\n",
        "print(arr)\n",
        "    "
      ],
      "id": "f3c517c9",
      "execution_count": null,
      "outputs": [
        {
          "name": "stdout",
          "output_type": "stream",
          "text": [
            "[5, 7, 9, 0, 3, 1, 6, 2, 4, 8]\n",
            "[1, 4, 2, 0, 3, 5, 6, 9, 7, 8]\n",
            "[0, 1, 2, 4, 3, 5, 6, 9, 7, 8]\n",
            "[0, 1, 2, 4, 3, 5, 6, 9, 7, 8]\n",
            "[0, 1, 2, 4, 3, 5, 6, 9, 7, 8]\n",
            "[0, 1, 2, 4, 3, 5, 6, 9, 7, 8]\n",
            "[0, 1, 2, 3, 4, 5, 6, 9, 7, 8]\n",
            "[0, 1, 2, 3, 4, 5, 6, 9, 7, 8]\n",
            "[0, 1, 2, 3, 4, 5, 6, 9, 7, 8]\n",
            "[0, 1, 2, 3, 4, 5, 6, 9, 7, 8]\n",
            "[0, 1, 2, 3, 4, 5, 6, 9, 7, 8]\n",
            "[0, 1, 2, 3, 4, 5, 6, 8, 7, 9]\n",
            "[0, 1, 2, 3, 4, 5, 6, 7, 8, 9]\n",
            "[0, 1, 2, 3, 4, 5, 6, 7, 8, 9]\n",
            "[0, 1, 2, 3, 4, 5, 6, 7, 8, 9]\n",
            "[0, 1, 2, 3, 4, 5, 6, 7, 8, 9]\n"
          ]
        }
      ]
    },
    {
      "cell_type": "code",
      "metadata": {
        "id": "8579af21"
      },
      "source": [
        "# 퀵 정렬에 대해서 파이썬 답게 수정해보면..\n",
        "def sort_quick_py(array):\n",
        "    # 입력의 리스트에 원소가 1개가 있으면 종료하자~~\n",
        "    if len(array) <= 1:\n",
        "        return array\n",
        "    # 입력한 부분에서 기존 pivot은 첫번째 원소로 세팅\n",
        "    pivot = array[0]\n",
        "    tail =array[1:] # pivot 제외한 값들...\n",
        "    # -> 그 pivot을 제외한 값들 분리하고 -> pivot을 중심으로 up part, down part 구현!!!\n",
        "    # 이거 할때 주의 할 점 있으니 유의~~\n",
        "    # 주어진 tail을 겹치지 않게 left, right 로 분할을 위해서 등호처리는 한쪽.\n",
        "    left_side = [ x for x in tail if x <= pivot]\n",
        "    right_side = [ x for x in tail if x > pivot]\n",
        "    \n",
        "    # 이 부분에서 파이썬의 리스트의 컴프리핸션기능으로 구현가능할 듯?\n",
        "    \n",
        "    # 출력\n",
        "    # 위에서 구한 pivot의 왼쪽 파트? + 기준 + pivot 오른쪽 파트 ?\n",
        "    return sort_quick_py(left_side) + [pivot] + sort_quick_py(right_side)"
      ],
      "id": "8579af21",
      "execution_count": null,
      "outputs": []
    },
    {
      "cell_type": "code",
      "metadata": {
        "id": "be3e2719",
        "outputId": "c16a8db6-e334-4498-e9a9-14eb831a2448"
      },
      "source": [
        "arr = [ 5, 7 ,9, 0, 3, 1, 6, 2, 4, 8 ]\n",
        "arr"
      ],
      "id": "be3e2719",
      "execution_count": null,
      "outputs": [
        {
          "data": {
            "text/plain": [
              "[5, 7, 9, 0, 3, 1, 6, 2, 4, 8]"
            ]
          },
          "execution_count": 7,
          "metadata": {},
          "output_type": "execute_result"
        }
      ]
    },
    {
      "cell_type": "code",
      "metadata": {
        "id": "a1130ead",
        "outputId": "d6d08105-91d2-4f9c-95ab-8901e902f012"
      },
      "source": [
        "sort_quick_py(arr)"
      ],
      "id": "a1130ead",
      "execution_count": null,
      "outputs": [
        {
          "data": {
            "text/plain": [
              "[0, 1, 2, 3, 4, 5, 6, 7, 8, 9]"
            ]
          },
          "execution_count": 8,
          "metadata": {},
          "output_type": "execute_result"
        }
      ]
    },
    {
      "cell_type": "code",
      "metadata": {
        "id": "e29ed48b",
        "outputId": "98b20c16-325d-46dc-b61e-988108da6318"
      },
      "source": [
        "cost = 4720\n",
        "coin_type = [1, 50, 100, 500]\n",
        "coin_type.sort(reverse = True)\n",
        "count = 0\n",
        "\n",
        "for coin in coin_type:\n",
        "    count += (cost // coin) # count = count + cost // coin\n",
        "    cost = cost % coin # cost = cost % coin\n",
        "    \n",
        "print(count)"
      ],
      "id": "e29ed48b",
      "execution_count": null,
      "outputs": [
        {
          "name": "stdout",
          "output_type": "stream",
          "text": [
            "31\n"
          ]
        }
      ]
    },
    {
      "cell_type": "code",
      "metadata": {
        "id": "9d0ae0fa",
        "outputId": "73551781-7e5b-4301-8cf9-71e4229794a2"
      },
      "source": [
        "arr1 = input().split()\n",
        "arr2 = input().split()\n",
        "\n",
        "#print(arr1)\n",
        "#print(arr2)\n",
        "\n",
        "arr1Int = []\n",
        "arr2Int = []\n",
        "\n",
        "for i in arr1:\n",
        "    arr1Int.append(int(i))\n",
        "    \n",
        "\n",
        "for i in arr2:\n",
        "    arr2Int.append(int(i))\n",
        "\n",
        "# print(arr1Int)\n",
        "# print(arr2Int)\n",
        "arr2Int.sort(key = lambda x : x, reverse = True)\n",
        "# print(arr2Int)\n",
        "# print(arr2Int[1:len(arr2Int)])\n",
        "# print(max(arr2Int))\n",
        "\n",
        "count = 0\n",
        "sum = 0\n",
        "s = \"\"\n",
        "for i in range(arr1Int[1]):\n",
        "    count += 1\n",
        "    if count < arr1Int[2]:\n",
        "        sum += arr2Int[0]\n",
        "        s += str(arr2Int[0])\n",
        "    else:\n",
        "        count = 0\n",
        "        sum += arr2Int[1]\n",
        "        s += str(arr2Int[1])\n",
        "    s +=  \" + \"\n",
        "s += \"=\" + str(sum)\n",
        "print(s)\n",
        "\n",
        "# 5 8 3\n",
        "# 2 4 5 4 6"
      ],
      "id": "9d0ae0fa",
      "execution_count": null,
      "outputs": [
        {
          "name": "stdout",
          "output_type": "stream",
          "text": [
            "5 8 3\n",
            "2 4 5 4 6\n",
            "6 + 6 + 5 + 6 + 6 + 5 + 6 + 6 + =46\n"
          ]
        }
      ]
    },
    {
      "cell_type": "code",
      "metadata": {
        "id": "bd2477c9",
        "outputId": "7cdd296c-a49c-44d9-ad9d-a7cff620b4b1"
      },
      "source": [
        "# 입력 부분 -> 크게 2파트\n",
        "n, m, k = map(int, input(\"n, m, k의 수를 입력하세요...(공란기준)\").split())\n",
        "data = list(map(int, input(\"수들을 입력하세요~\").split()))\n",
        "\n",
        "# 1) data의 max를 알아야 함!!!! -> first : 최대 k 번 더하기..\n",
        "# 2) data의 max보다 바로 작은 수 -> second : 최대 1번\n",
        "# 1~2이 셋 이 1/2번 세트를 언제까지 m번까지~~~~\n",
        "\n",
        "# first, second\n",
        "data.sort()\n",
        "first = data[n - 1]\n",
        "second = data[n - 2]\n",
        "print(data)\n",
        "print(first, \"---\",second)\n",
        "# 더한 값을 기록할 변수\n",
        "result = 0\n",
        "\n",
        "# first : k, second : 1 -> 이것을 덩어리로 보면, 덩어리 원소의 수 : k + 1\n",
        "# --------------------------------> 몇 덩어리인지, 몇 개가 남는지...\n",
        "# 1) first는 덩어리에서 몇 덩어리 + 남는 것...\n",
        "\n",
        "count_first = (m // (k+1)) * k\n",
        "count_first += m % (k+1)\n",
        "\n",
        "# 2) second는 오로지 몇 덩어리인지만!!!!!!\n",
        "count_second = m - count_first\n",
        "\n",
        "# first의 숫자와 갯수로 합을, second의 숫자와 갯수로 합을\n",
        "result += count_first * first\n",
        "result += count_second * second\n",
        "\n",
        "print(result)"
      ],
      "id": "bd2477c9",
      "execution_count": null,
      "outputs": [
        {
          "name": "stdout",
          "output_type": "stream",
          "text": [
            "n, m, k의 수를 입력하세요...(공란기준)5 8 3\n",
            "수들을 입력하세요~2 4 5 4 6\n",
            "[2, 4, 4, 5, 6]\n",
            "6 --- 5\n",
            "46\n"
          ]
        }
      ]
    },
    {
      "cell_type": "code",
      "metadata": {
        "id": "420c0cae",
        "outputId": "ecc57681-e158-47d7-a391-45284b67714d"
      },
      "source": [
        "# 입력 부분 -> 크게 2파트\n",
        "n, m, k = map(int, input(\"n, m, k의 수를 입력하세요...(공란기준)\").split())\n",
        "data = list(map(int, input(\"수들을 입력하세요~\").split()))\n",
        "\n",
        "# 1) data의 max를 알아야 함!!!! -> first : 최대 k 번 더하기..\n",
        "# 2) data의 max보다 바로 작은 수 -> second : 최대 1번\n",
        "# 1~2이 셋 이 1/2번 세트를 언제까지 m번까지~~~~\n",
        "# --> 1개 값을 더할 때 마다....m : -1씩 줄여나갑니다.. m=0 종료를~~~\n",
        "# first, second\n",
        "data.sort()\n",
        "first = data[n - 1]\n",
        "second = data[n - 2]\n",
        "print(data)\n",
        "print(first, \"---\",second)\n",
        "# 더한 값을 기록할 변수\n",
        "result = 0\n",
        "\n",
        "while True:\n",
        "    # first를 최대 k개까지 더해가면서, m에서는 더할 때 마다 줄임.\n",
        "    for i in range(k):\n",
        "        if m == 0:\n",
        "            break\n",
        "        else:\n",
        "            result += first\n",
        "            m -= 1\n",
        "    # first 작업이 끝나고,,, 혹시 그 전에 m = 0이 될 수 있으니...\n",
        "    # m = 0이면 체크해서 나가고... 아니면... second만 1번만 더하고\n",
        "    # 다시 first 쪽으로 넘기기 위해서..\n",
        "    if m == 0:\n",
        "        break\n",
        "    else:\n",
        "        result += second\n",
        "        m -= 1\n",
        "        \n",
        "print(result)"
      ],
      "id": "420c0cae",
      "execution_count": null,
      "outputs": [
        {
          "name": "stdout",
          "output_type": "stream",
          "text": [
            "n, m, k의 수를 입력하세요...(공란기준)5 8 3\n",
            "수들을 입력하세요~2 4 5 4 6\n",
            "[2, 4, 4, 5, 6]\n",
            "6 --- 5\n",
            "46\n"
          ]
        }
      ]
    },
    {
      "cell_type": "code",
      "metadata": {
        "id": "3190b32e",
        "outputId": "1ed5a142-3894-4f03-acb9-3802385a37e2"
      },
      "source": [
        "def solution(participant, completion):\n",
        "    answer = ''\n",
        "    s1 = set(participant)\n",
        "    s2 = set(completion)\n",
        "    answer = str(list(s1.difference(s2))[0])\n",
        "    print(answer)\n",
        "    return answer\n",
        "    \n",
        "solution([\"leo\", \"kiki\", \"eden\"], [\"eden\", \"kiki\"])\n",
        "solution([\"marina\", \"josipa\", \"nikola\", \"vinko\", \"filipa\"], \n",
        "         [\"josipa\", \"filipa\", \"marina\", \"nikola\"])\n",
        "solution([\"mislav\", \"stanko\", \"mislav\", \"ana\"],\n",
        "         [\"stanko\", \"ana\", \"mislav\"])"
      ],
      "id": "3190b32e",
      "execution_count": null,
      "outputs": [
        {
          "name": "stdout",
          "output_type": "stream",
          "text": [
            "leo\n",
            "vinko\n"
          ]
        },
        {
          "ename": "IndexError",
          "evalue": "list index out of range",
          "output_type": "error",
          "traceback": [
            "\u001b[1;31m---------------------------------------------------------------------------\u001b[0m",
            "\u001b[1;31mIndexError\u001b[0m                                Traceback (most recent call last)",
            "\u001b[1;32m<ipython-input-45-4b40c6f89a74>\u001b[0m in \u001b[0;36m<module>\u001b[1;34m\u001b[0m\n\u001b[0;32m     10\u001b[0m solution([\"marina\", \"josipa\", \"nikola\", \"vinko\", \"filipa\"], \n\u001b[0;32m     11\u001b[0m          [\"josipa\", \"filipa\", \"marina\", \"nikola\"])\n\u001b[1;32m---> 12\u001b[1;33m solution([\"mislav\", \"stanko\", \"mislav\", \"ana\"],\n\u001b[0m\u001b[0;32m     13\u001b[0m          [\"stanko\", \"ana\", \"mislav\"])\n",
            "\u001b[1;32m<ipython-input-45-4b40c6f89a74>\u001b[0m in \u001b[0;36msolution\u001b[1;34m(participant, completion)\u001b[0m\n\u001b[0;32m      3\u001b[0m     \u001b[0ms1\u001b[0m \u001b[1;33m=\u001b[0m \u001b[0mset\u001b[0m\u001b[1;33m(\u001b[0m\u001b[0mparticipant\u001b[0m\u001b[1;33m)\u001b[0m\u001b[1;33m\u001b[0m\u001b[1;33m\u001b[0m\u001b[0m\n\u001b[0;32m      4\u001b[0m     \u001b[0ms2\u001b[0m \u001b[1;33m=\u001b[0m \u001b[0mset\u001b[0m\u001b[1;33m(\u001b[0m\u001b[0mcompletion\u001b[0m\u001b[1;33m)\u001b[0m\u001b[1;33m\u001b[0m\u001b[1;33m\u001b[0m\u001b[0m\n\u001b[1;32m----> 5\u001b[1;33m     \u001b[0manswer\u001b[0m \u001b[1;33m=\u001b[0m \u001b[0mstr\u001b[0m\u001b[1;33m(\u001b[0m\u001b[0mlist\u001b[0m\u001b[1;33m(\u001b[0m\u001b[0ms1\u001b[0m\u001b[1;33m.\u001b[0m\u001b[0mdifference\u001b[0m\u001b[1;33m(\u001b[0m\u001b[0ms2\u001b[0m\u001b[1;33m)\u001b[0m\u001b[1;33m)\u001b[0m\u001b[1;33m[\u001b[0m\u001b[1;36m0\u001b[0m\u001b[1;33m]\u001b[0m\u001b[1;33m)\u001b[0m\u001b[1;33m\u001b[0m\u001b[1;33m\u001b[0m\u001b[0m\n\u001b[0m\u001b[0;32m      6\u001b[0m     \u001b[0mprint\u001b[0m\u001b[1;33m(\u001b[0m\u001b[0manswer\u001b[0m\u001b[1;33m)\u001b[0m\u001b[1;33m\u001b[0m\u001b[1;33m\u001b[0m\u001b[0m\n\u001b[0;32m      7\u001b[0m     \u001b[1;32mreturn\u001b[0m \u001b[0manswer\u001b[0m\u001b[1;33m\u001b[0m\u001b[1;33m\u001b[0m\u001b[0m\n",
            "\u001b[1;31mIndexError\u001b[0m: list index out of range"
          ]
        }
      ]
    },
    {
      "cell_type": "code",
      "metadata": {
        "id": "494dad0d",
        "outputId": "37406040-efd6-4d59-d510-57c33d1af5ee"
      },
      "source": [
        "a = {}\n",
        "a[\"a\"] = 123\n",
        "a[\"b\"] = 345\n",
        "a\n",
        "\n",
        "a[\"a\"] = 345\n",
        "a"
      ],
      "id": "494dad0d",
      "execution_count": null,
      "outputs": [
        {
          "data": {
            "text/plain": [
              "{'a': 345, 'b': 345}"
            ]
          },
          "execution_count": 44,
          "metadata": {},
          "output_type": "execute_result"
        }
      ]
    },
    {
      "cell_type": "code",
      "metadata": {
        "id": "04d7ef14",
        "outputId": "fc657847-d7d6-4bab-c60c-cc2c35466cbe"
      },
      "source": [
        "def solution(participant, completion):\n",
        "    answer = ''\n",
        "    hash = {}\n",
        "    for i in participant:\n",
        "        if i in hash:\n",
        "            hash[i] += 1 # 동명 이인인 경우에는 값을 +1을 더 추가..Update\n",
        "        else:\n",
        "            hash[i] = 1 # \n",
        "    \n",
        "    # 완주자들을 빼가면 될 듯\n",
        "    for i in completion:\n",
        "        if hash[i] == 1: # 동명이인이 아닌 참가자 중 완주했다면..\n",
        "            del hash[i]\n",
        "        else:\n",
        "            hash[i] -= 1 # 동명이인 중 완주한 사람이 있다면...\n",
        "            \n",
        "    answer = str(list(hash.keys())[0])\n",
        "    print(answer)\n",
        "    return answer\n",
        "\n",
        "solution([\"leo\", \"kiki\", \"eden\"], [\"eden\", \"kiki\"])\n",
        "solution([\"marina\", \"josipa\", \"nikola\", \"vinko\", \"filipa\"], \n",
        "         [\"josipa\", \"filipa\", \"marina\", \"nikola\"])\n",
        "solution([\"mislav\", \"stanko\", \"mislav\", \"ana\"],\n",
        "         [\"stanko\", \"ana\", \"mislav\"])"
      ],
      "id": "04d7ef14",
      "execution_count": null,
      "outputs": [
        {
          "name": "stdout",
          "output_type": "stream",
          "text": [
            "leo\n",
            "vinko\n",
            "mislav\n"
          ]
        },
        {
          "data": {
            "text/plain": [
              "'mislav'"
            ]
          },
          "execution_count": 48,
          "metadata": {},
          "output_type": "execute_result"
        }
      ]
    },
    {
      "cell_type": "code",
      "metadata": {
        "id": "203bb7f0",
        "outputId": "524896cc-f707-493e-8c92-82d3966ecc3b"
      },
      "source": [
        "def solution(participant, completion):\n",
        "    answer = ''\n",
        "    \n",
        "    for i in completion:\n",
        "        participant.remove(i) # remove가 속도가 느린듯\n",
        "    # print(participant)\n",
        "    answer = participant[0]\n",
        "    \n",
        "    return answer\n",
        "solution([\"leo\", \"kiki\", \"eden\"], [\"eden\", \"kiki\"])\n",
        "solution([\"marina\", \"josipa\", \"nikola\", \"vinko\", \"filipa\"], \n",
        "         [\"josipa\", \"filipa\", \"marina\", \"nikola\"])\n",
        "solution([\"mislav\", \"stanko\", \"mislav\", \"ana\"],\n",
        "         [\"stanko\", \"ana\", \"mislav\"])"
      ],
      "id": "203bb7f0",
      "execution_count": null,
      "outputs": [
        {
          "data": {
            "text/plain": [
              "'mislav'"
            ]
          },
          "execution_count": 50,
          "metadata": {},
          "output_type": "execute_result"
        }
      ]
    },
    {
      "cell_type": "code",
      "metadata": {
        "id": "b43879db",
        "outputId": "87569bab-3025-4c3f-958d-0822be0c3ba5"
      },
      "source": [
        "from collections import deque\n",
        "dq = deque(\"coding\")\n",
        "print(dq)\n",
        "## dq를 stack 처럼 사용하려면... -> DFS\n",
        "dq.append(\"a\")\n",
        "print(dq)\n",
        "dq.pop()\n",
        "print(dq)\n",
        "\n",
        "## dq를 queue처럼 사용하려면....\n",
        "dq.append(\"a\")\n",
        "print(dq)\n",
        "dq.popleft()\n",
        "print(dq)"
      ],
      "id": "b43879db",
      "execution_count": null,
      "outputs": [
        {
          "name": "stdout",
          "output_type": "stream",
          "text": [
            "deque(['c', 'o', 'd', 'i', 'n', 'g'])\n",
            "deque(['c', 'o', 'd', 'i', 'n', 'g', 'a'])\n",
            "deque(['c', 'o', 'd', 'i', 'n', 'g'])\n",
            "deque(['c', 'o', 'd', 'i', 'n', 'g', 'a'])\n",
            "deque(['o', 'd', 'i', 'n', 'g', 'a'])\n"
          ]
        }
      ]
    },
    {
      "cell_type": "code",
      "metadata": {
        "id": "d884d4b0",
        "outputId": "ec0c3a5f-81e6-4cef-a7f9-9381138fefc1"
      },
      "source": [
        "from collections import deque\n",
        "import time\n",
        "\n",
        "N = 5000 # 초기에 담아둘 원소의 수\n",
        "TIMES = 1000 # 실험 횟수\n",
        "M = 5000 # M번의 pop을 수행, append 수행...\n",
        "\n",
        "# py_list, deque에 N개의 원소를 넣어두기...\n",
        "list_stack = list([i for i in range(0,N)])\n",
        "deque_stack = deque([i for i in range(0,N)])\n",
        "\n",
        "# list as stack\n",
        "start_time = time.time()\n",
        "for _ in range(0, TIMES):\n",
        "    for i in range(0, M):\n",
        "        list_stack.append(i)\n",
        "        list_stack.pop()\n",
        "end_time = time.time()\n",
        "print(\"List Time stack: \", end_time - start_time)\n",
        "\n",
        "start_time = time.time()\n",
        "# deque as stack\n",
        "for _ in range(0, TIMES):\n",
        "    for i in range(0, M):\n",
        "        deque_stack.append(i)\n",
        "        deque_stack.pop()\n",
        "end_time = time.time()\n",
        "print(\"Deque Time stack: \", end_time - start_time)\n",
        "\n",
        "# list as queue\n",
        "start_time = time.time()\n",
        "for _ in range(0, TIMES):\n",
        "    for i in range(0, M):\n",
        "        list_stack.append(i)\n",
        "        list_stack.pop(0)\n",
        "end_time = time.time()\n",
        "print(\"List Time queue: \", end_time - start_time)\n",
        "\n",
        "start_time = time.time()\n",
        "# deque as queue\n",
        "for _ in range(0, TIMES):\n",
        "    for i in range(0, M):\n",
        "        deque_stack.append(i)\n",
        "        deque_stack.popleft()\n",
        "end_time = time.time()\n",
        "print(\"Deque Time queue: \", end_time - start_time)"
      ],
      "id": "d884d4b0",
      "execution_count": null,
      "outputs": [
        {
          "name": "stdout",
          "output_type": "stream",
          "text": [
            "List Time stack:  0.6100945472717285\n",
            "Deque Time stack:  0.588158130645752\n",
            "List Time queue:  3.6088600158691406\n",
            "Deque Time queue:  0.5615439414978027\n"
          ]
        }
      ]
    },
    {
      "cell_type": "code",
      "metadata": {
        "id": "ea92bb16",
        "outputId": "0be9d578-e38a-4a7c-a4cf-7b8a72c9923d"
      },
      "source": [
        "# 위의 주어진 예제에 대해서 그래프의 연결리스트를 아래와 같이 dict로 구현\n",
        "graph = {\n",
        "    \"1\" : [\"2\",\"3\",\"8\"],\n",
        "    \"2\" : [\"1\",\"7\"],\n",
        "    \"3\" : [\"1\",\"4\",\"5\"],\n",
        "    \"4\" : [\"3\",\"5\"],\n",
        "    \"5\" : [\"3\",\"4\"],\n",
        "    \"6\" : [\"7\"],\n",
        "    \"7\" : [\"2\",\"6\",\"8\"],\n",
        "    \"8\" : [\"1\",\"7\"]\n",
        "}\n",
        "graph"
      ],
      "id": "ea92bb16",
      "execution_count": null,
      "outputs": [
        {
          "data": {
            "text/plain": [
              "{'1': ['2', '3', '8'],\n",
              " '2': ['1', '7'],\n",
              " '3': ['1', '4', '5'],\n",
              " '4': ['3', '5'],\n",
              " '5': ['3', '4'],\n",
              " '6': ['7'],\n",
              " '7': ['2', '6', '8'],\n",
              " '8': ['1', '7']}"
            ]
          },
          "execution_count": 74,
          "metadata": {},
          "output_type": "execute_result"
        }
      ]
    },
    {
      "cell_type": "code",
      "metadata": {
        "id": "f49ab90c",
        "outputId": "f2929e82-ac38-4c2d-b58d-1df6a84d3081"
      },
      "source": [
        "# deque를 이용해서 DFS를 구현해보자~\n",
        "from collections import deque\n",
        "\n",
        "def dfs_deque(graph, start_node):\n",
        "    # 사전 필요한 변수들\n",
        "    need_visit = deque() ########## deque 타입으로 설정.\n",
        "    visited = deque()\n",
        "    \n",
        "    # 출발은 어디서 부터~~~\n",
        "    need_visit.append(start_node)\n",
        "    \n",
        "    # 언제까지...need_visit가 없을때 까지....\n",
        "    while need_visit:\n",
        "        node = need_visit.pop()\n",
        "        if node not in visited: # 새로운 장소다 라는 경우에 대해서~~~\n",
        "            visited.append(node)\n",
        "            need_visit.extend(graph[node])\n",
        "    return visited\n",
        "\n",
        "dfs_deque(graph, \"1\")"
      ],
      "id": "f49ab90c",
      "execution_count": null,
      "outputs": [
        {
          "data": {
            "text/plain": [
              "deque(['1', '8', '7', '6', '2', '3', '5', '4'])"
            ]
          },
          "execution_count": 76,
          "metadata": {},
          "output_type": "execute_result"
        }
      ]
    },
    {
      "cell_type": "code",
      "metadata": {
        "id": "27e90a5f",
        "outputId": "401648c7-93b3-4ed9-9619-cc6687598d7d"
      },
      "source": [
        "# graph_dict & DFS & 재귀함수\n",
        "def dfs_recursive_dict(graph, start, visited = []):\n",
        "    # 일단 시작 노드에 대해서 visited 추가\n",
        "    visited.append(start)\n",
        "    for node in graph[start]:\n",
        "        if node not in visited:\n",
        "            dfs_recursive_dict(graph, node, visited)\n",
        "        else:\n",
        "            pass\n",
        "    return visited\n",
        "\n",
        "dfs_recursive_dict(graph, \"1\")"
      ],
      "id": "27e90a5f",
      "execution_count": null,
      "outputs": [
        {
          "data": {
            "text/plain": [
              "['1', '2', '7', '6', '8', '3', '4', '5']"
            ]
          },
          "execution_count": 78,
          "metadata": {},
          "output_type": "execute_result"
        }
      ]
    },
    {
      "cell_type": "code",
      "metadata": {
        "id": "7e5093fa",
        "outputId": "e7fb2a79-9211-4a56-e809-806cf2eb2e80"
      },
      "source": [
        "### 주어진 그래프를 인접리스트를 dict가 아닌 리스트로 표현을 하고 할 때...\n",
        "graph_list = [\n",
        "    [], # 그래프 상에 0번 노드가 없어서 임!!!!\n",
        "    [2, 3, 8],  # 1번 노드에 대한 연결 노드들에 대한 리스트\n",
        "    [1, 7], # 2번 노드에 대한 연결 노드들에 대한 리스트\n",
        "    [1, 4, 5], # 3번 노드에 대한 연결 노드들에 대한 리스트\n",
        "    [3, 5], # 4번 노드에 대한 연결 노드들에 대한 리스트\n",
        "    [3, 4], # 5번 노드에 대한 연결 노드들에 대한 리스트\n",
        "    [7], # 6번 노드에 대한 연결 노드들에 대한 리스트\n",
        "    [2, 6, 8], # 7번 노드에 대한 연결 노드들에 대한 리스트\n",
        "    [1, 7], # 8번 노드에 대한 연결 노드들에 대한 리스트\n",
        "]\n",
        "graph_list"
      ],
      "id": "7e5093fa",
      "execution_count": null,
      "outputs": [
        {
          "data": {
            "text/plain": [
              "[[], [2, 3, 8], [1, 7], [1, 4, 5], [3, 5], [3, 4], [7], [2, 6, 8], [1, 7]]"
            ]
          },
          "execution_count": 79,
          "metadata": {},
          "output_type": "execute_result"
        }
      ]
    },
    {
      "cell_type": "code",
      "metadata": {
        "id": "82ceb9e0",
        "outputId": "8aa574f0-b716-4b66-8179-9cca18487ab6"
      },
      "source": [
        "# 각 노드에 대한 방문여부에 대한 F로 초기화\n",
        "visited = [False] * len(graph_list)\n",
        "visited"
      ],
      "id": "82ceb9e0",
      "execution_count": null,
      "outputs": [
        {
          "data": {
            "text/plain": [
              "[False, False, False, False, False, False, False, False, False]"
            ]
          },
          "execution_count": 82,
          "metadata": {},
          "output_type": "execute_result"
        }
      ]
    },
    {
      "cell_type": "code",
      "metadata": {
        "id": "920d52f5",
        "outputId": "20b11561-f95b-44e6-b8f9-155dbf0cd00e"
      },
      "source": [
        "def dfs_list(graph, start, visited): # start = 1\n",
        "    # 나 start 노드에 방문했다고 인증\n",
        "    visited[start] = True\n",
        "    print(start, end = \" \")\n",
        "    for node in graph[start]: # [2, 3, 8] -> 2, 3, 8\n",
        "        if not visited[node]:\n",
        "            visited[node] = True\n",
        "            dfs_list(graph, node, visited)\n",
        "            \n",
        "dfs_list(graph_list,1,visited)"
      ],
      "id": "920d52f5",
      "execution_count": null,
      "outputs": [
        {
          "name": "stdout",
          "output_type": "stream",
          "text": [
            "1 2 7 6 8 3 4 5 "
          ]
        }
      ]
    },
    {
      "cell_type": "code",
      "metadata": {
        "id": "e6b674d7",
        "outputId": "b34b872c-c101-4cde-df06-1faf5846b5a7"
      },
      "source": [
        "graph"
      ],
      "id": "e6b674d7",
      "execution_count": null,
      "outputs": [
        {
          "data": {
            "text/plain": [
              "{'1': ['2', '3', '8'],\n",
              " '2': ['1', '7'],\n",
              " '3': ['1', '4', '5'],\n",
              " '4': ['3', '5'],\n",
              " '5': ['3', '4'],\n",
              " '6': ['7'],\n",
              " '7': ['2', '6', '8'],\n",
              " '8': ['1', '7']}"
            ]
          },
          "execution_count": 90,
          "metadata": {},
          "output_type": "execute_result"
        }
      ]
    },
    {
      "cell_type": "code",
      "metadata": {
        "id": "b7e28145"
      },
      "source": [
        "def bfs_list(graph, start_node):\n",
        "    # 필요한 것....\n",
        "    need_visit_q = list()\n",
        "    visited = list()\n",
        "    # 이제 출발을 하자 -> start_node\n",
        "    need_visit_q.append(start_node)\n",
        "    while need_visit_q:\n",
        "        node = need_visit_q.pop(0) # 맨 앞에서 뽑아냄~~~~\n",
        "        if node not in visited:\n",
        "            visited.append(node)\n",
        "            need_visit_q.extend(graph[node])\n",
        "        else:\n",
        "            pass\n",
        "    \n",
        "    return visited"
      ],
      "id": "b7e28145",
      "execution_count": null,
      "outputs": []
    },
    {
      "cell_type": "code",
      "metadata": {
        "id": "ef404ec5"
      },
      "source": [
        "from collections import deque\n",
        "\n",
        "def bfs_deque(graph, start_node):\n",
        "    # 필요한 것....\n",
        "    need_visit_q = deque()\n",
        "    visited = deque()\n",
        "    # 이제 출발을 하자 -> start_node\n",
        "    need_visit_q.append(start_node)\n",
        "    while need_visit_q:\n",
        "        node = need_visit_q.popleft() # 맨 앞에서 뽑아냄~~~~\n",
        "        if node not in visited:\n",
        "            visited.append(node)\n",
        "            need_visit_q.extend(graph[node])\n",
        "        else:\n",
        "            pass\n",
        "    \n",
        "    return visited"
      ],
      "id": "ef404ec5",
      "execution_count": null,
      "outputs": []
    },
    {
      "cell_type": "code",
      "metadata": {
        "id": "e4b53645",
        "outputId": "85f62f5d-ec6a-4e8e-b547-a04ee39e3e6c"
      },
      "source": [
        "bfs_deque(graph_list,1)"
      ],
      "id": "e4b53645",
      "execution_count": null,
      "outputs": [
        {
          "data": {
            "text/plain": [
              "deque([1, 2, 3, 8, 7, 4, 5, 6])"
            ]
          },
          "execution_count": 98,
          "metadata": {},
          "output_type": "execute_result"
        }
      ]
    },
    {
      "cell_type": "code",
      "metadata": {
        "id": "114ac50d",
        "outputId": "ad0ccf34-cd30-4b9f-fac0-6a35b6fa1878"
      },
      "source": [
        "print(graph)\n",
        "print(graph_list)"
      ],
      "id": "114ac50d",
      "execution_count": null,
      "outputs": [
        {
          "name": "stdout",
          "output_type": "stream",
          "text": [
            "{'1': ['2', '3', '8'], '2': ['1', '7'], '3': ['1', '4', '5'], '4': ['3', '5'], '5': ['3', '4'], '6': ['7'], '7': ['2', '6', '8'], '8': ['1', '7']}\n",
            "[[], [2, 3, 8], [1, 7], [1, 4, 5], [3, 5], [3, 4], [7], [2, 6, 8], [1, 7]]\n"
          ]
        }
      ]
    },
    {
      "cell_type": "code",
      "metadata": {
        "id": "0d3869a6",
        "outputId": "31f409ee-8e68-4724-9c6d-c2b45e210df8"
      },
      "source": [
        "N, M = map(int, input().split())\n",
        "graph = []\n",
        "for _ in range(N):\n",
        "    graph.append(list(map(int, input())))\n",
        "    \n",
        "print(N, M)\n",
        "print(graph)\n",
        "visited = []\n",
        "for i in range(N):\n",
        "    visited.append([])\n",
        "    for j in range(M):\n",
        "        visited[i].append(0)\n",
        "print(visited)\n",
        "\n",
        "def miro(s_l, x, y, count, visited):\n",
        "    print(x, y, s_l[x][y])\n",
        "    visited[x][y] = 1\n",
        "    if s_l[x+1][y] == 1:\n",
        "        count += 1\n",
        "        miro(s_l,x+1,y, count)\n",
        "    if s_l[x][y-1] == 1:\n",
        "        count += 1\n",
        "        miro(s_l,x,y-1, count)\n",
        "    if s_l[x][y+1] == 1:\n",
        "        count += 1\n",
        "        miro(s_l,x,y+1, count)\n",
        "    if s_l[x-1][y] == 1:\n",
        "        count += 1\n",
        "        miro(s_l,x-1,y, count)\n",
        "    \n",
        "    \n",
        "# [입력 예시1]\n",
        "# 4 6\n",
        "# 101111\n",
        "# 101010\n",
        "# 101011\n",
        "# 111011\n",
        "# → 15\n",
        "\n",
        "# [입력 예시2]\n",
        "# 4 6\n",
        "# 110110\n",
        "# 110110\n",
        "# 111111\n",
        "# 111101\n",
        "# → 9\n",
        "\n",
        "# [입력예시3]\n",
        "# 2 25\n",
        "# 1011101110111011101110111\n",
        "# 1110111011101110111011101\n",
        "# → 38"
      ],
      "id": "0d3869a6",
      "execution_count": null,
      "outputs": [
        {
          "name": "stdout",
          "output_type": "stream",
          "text": [
            "2 25\n",
            "1011101110111011101110111\n",
            "1110111011101110111011101\n",
            "2 25\n",
            "[[1, 0, 1, 1, 1, 0, 1, 1, 1, 0, 1, 1, 1, 0, 1, 1, 1, 0, 1, 1, 1, 0, 1, 1, 1], [1, 1, 1, 0, 1, 1, 1, 0, 1, 1, 1, 0, 1, 1, 1, 0, 1, 1, 1, 0, 1, 1, 1, 0, 1]]\n",
            "[[0, 0, 0, 0, 0, 0, 0, 0, 0, 0, 0, 0, 0, 0, 0, 0, 0, 0, 0, 0, 0, 0, 0, 0, 0], [0, 0, 0, 0, 0, 0, 0, 0, 0, 0, 0, 0, 0, 0, 0, 0, 0, 0, 0, 0, 0, 0, 0, 0, 0]]\n"
          ]
        }
      ]
    },
    {
      "cell_type": "code",
      "metadata": {
        "id": "f4a0a0c1",
        "outputId": "5336c5cb-e2e6-4bab-ac63-9f3a87bc4144"
      },
      "source": [
        "#미로 (1,1) ~ (n,m) 까지\n",
        "n, m = map(int, input(\"가로, 세로 크기를 공란으로 구분해서 입력하세요.\").split())\n",
        "graph = []\n",
        "for i in range(n):\n",
        "    graph.append(\n",
        "        list(map(int, input(\"처음 임력한 n by m에 대한{0}번째 가로줄 값을 입력하세요\".format(i))))\n",
        "    )\n",
        "print(graph)\n",
        "\n",
        "# 상하좌우 이동에 대해서 표시\n",
        "dx = [-1, 1, 0, 0]\n",
        "dy = [0, 0, -1, 1]\n",
        "\n",
        "# queue에 대해서 구현을 좀 더 효율적으로 하기 위해서 deque 패키지\n",
        "from collections import deque\n",
        "\n",
        "# 이제 bfs 방식으로 구현... -> 큐 --> 내 지금 위치에서 연결된 것들을 하는데..\n",
        "# 큐 방식을 사용을 해야.. 지금 바로 나한테 연결된 것 다 하고, 그 다음 뎁스로..\n",
        "def bfs_miro(start):\n",
        "    # 2차원에서 움직이게 되니..\n",
        "    x_pos = start[0]\n",
        "    y_pos = start[1]\n",
        "    \n",
        "    # 이동을 해야하는 것들을 담을 큐\n",
        "    q = deque()\n",
        "    q.append((x_pos, y_pos)) # ex) q: (0, 0)\n",
        "    # q가 빌때까지.... \n",
        "    while q:\n",
        "        x, y = q.popleft()   # ex) x = 0, y = 0\n",
        "        \n",
        "        # x, y에서 이동할 수 있는 LRUD\n",
        "        for i in range(4):\n",
        "            nx = x + dx[i]\n",
        "            ny = y + dy[i]\n",
        "            # x, y에서 일단 1가지 방향으로 이동한다고 하면..\n",
        "            # 주어진 맵 안에 있는 경우에 대해서만....\n",
        "            if 0 <= nx < n and 0 <= ny < m:\n",
        "                if graph[nx][ny] == 1:\n",
        "                    graph[nx][ny]= graph[x][y] + 1\n",
        "                    q.append((nx, ny))\n",
        "        \n",
        "bfs_miro((0,0))\n",
        "print(graph)\n",
        "print(graph[n-1][m-1]) # 출구에 도달할 때 까지 거친 블록 수...."
      ],
      "id": "f4a0a0c1",
      "execution_count": null,
      "outputs": [
        {
          "name": "stdout",
          "output_type": "stream",
          "text": [
            "가로, 세로 크기를 공란으로 구분해서 입력하세요.2 25\n",
            "처음 임력한 n by m에 대한0번째 가로줄 값을 입력하세요1011101110111011101110111\n",
            "처음 임력한 n by m에 대한1번째 가로줄 값을 입력하세요1110111011101110111011101\n",
            "[[1, 0, 1, 1, 1, 0, 1, 1, 1, 0, 1, 1, 1, 0, 1, 1, 1, 0, 1, 1, 1, 0, 1, 1, 1], [1, 1, 1, 0, 1, 1, 1, 0, 1, 1, 1, 0, 1, 1, 1, 0, 1, 1, 1, 0, 1, 1, 1, 0, 1]]\n",
            "[[3, 0, 5, 6, 7, 0, 11, 12, 13, 0, 17, 18, 19, 0, 23, 24, 25, 0, 29, 30, 31, 0, 35, 36, 37], [2, 3, 4, 0, 8, 9, 10, 0, 14, 15, 16, 0, 20, 21, 22, 0, 26, 27, 28, 0, 32, 33, 34, 0, 38]]\n",
            "38\n"
          ]
        }
      ]
    },
    {
      "cell_type": "code",
      "metadata": {
        "id": "79aa2169"
      },
      "source": [
        "# [입력 예시1]\n",
        "# 4 6\n",
        "# 101111\n",
        "# 101010\n",
        "# 101011\n",
        "# 111011\n",
        "# → 15\n",
        "\n",
        "# [입력 예시2]\n",
        "# 4 6\n",
        "# 110110\n",
        "# 110110\n",
        "# 111111\n",
        "# 111101\n",
        "# → 9\n",
        "\n",
        "# [입력예시3]\n",
        "# 2 25\n",
        "# 1011101110111011101110111\n",
        "# 1110111011101110111011101\n",
        "# → 38"
      ],
      "id": "79aa2169",
      "execution_count": null,
      "outputs": []
    },
    {
      "cell_type": "code",
      "metadata": {
        "id": "0eebd580"
      },
      "source": [
        "##### 특별 메소드 #### -> 언더바 앞뒤로 2개씩\n",
        "# 생성자 : 클래스를 바탕으로 새로운 구체적인 대상(객체) 생성될 때.\n",
        "# init -> 초기화의 용도로 사용( 속성값들을 지정을 하게 되는 현상!!!!!)\n",
        "\n",
        "# 소멸자 : 클래스를 바탕으로 대상으로 대상을 만들었는데(객체를 만들었는데..)\n",
        "# 필요가 없어서.... 사라질 때..."
      ],
      "id": "0eebd580",
      "execution_count": null,
      "outputs": []
    },
    {
      "cell_type": "code",
      "metadata": {
        "id": "28c2b10c"
      },
      "source": [
        "class Test:\n",
        "    def __init__(self, name):\n",
        "        self.fullname = name\n",
        "        print(\"Test 클래스가 생성되었음!\")\n",
        "    ### 기타 메서드들은 생략\n",
        "    def __del__(self):\n",
        "        print(\"Test 클래스가 제거되었음!!!\")"
      ],
      "id": "28c2b10c",
      "execution_count": null,
      "outputs": []
    },
    {
      "cell_type": "code",
      "metadata": {
        "id": "b80d04a0",
        "outputId": "8b2128d4-dbda-4897-f376-3ee0b59b75d1"
      },
      "source": [
        "t = Test(\"ABCD\")\n"
      ],
      "id": "b80d04a0",
      "execution_count": null,
      "outputs": [
        {
          "name": "stdout",
          "output_type": "stream",
          "text": [
            "Test 클래스가 생성되었음!\n"
          ]
        }
      ]
    },
    {
      "cell_type": "code",
      "metadata": {
        "id": "47bf1e37",
        "outputId": "8f24ea67-f53f-4558-aa2f-69ece00379df"
      },
      "source": [
        "t.fullname"
      ],
      "id": "47bf1e37",
      "execution_count": null,
      "outputs": [
        {
          "data": {
            "text/plain": [
              "'ABCD'"
            ]
          },
          "execution_count": 27,
          "metadata": {},
          "output_type": "execute_result"
        }
      ]
    },
    {
      "cell_type": "code",
      "metadata": {
        "id": "98e98629",
        "outputId": "43323b51-56c8-44c6-a3eb-3fdeef9effb2"
      },
      "source": [
        "del t"
      ],
      "id": "98e98629",
      "execution_count": null,
      "outputs": [
        {
          "name": "stdout",
          "output_type": "stream",
          "text": [
            "Test 클래스가 제거되었음!!!\n"
          ]
        }
      ]
    },
    {
      "cell_type": "code",
      "metadata": {
        "id": "b899b5c0",
        "outputId": "47909cdf-0fe9-4883-d8a1-da55a5a81704"
      },
      "source": [
        "t"
      ],
      "id": "b899b5c0",
      "execution_count": null,
      "outputs": [
        {
          "data": {
            "text/plain": [
              "<__main__.Test at 0x270d0764700>"
            ]
          },
          "execution_count": 28,
          "metadata": {},
          "output_type": "execute_result"
        }
      ]
    },
    {
      "cell_type": "code",
      "metadata": {
        "id": "1d6baee6",
        "outputId": "46571017-6de1-41ea-e556-0cb73bebf130"
      },
      "source": [
        "print(str(type(t)))"
      ],
      "id": "1d6baee6",
      "execution_count": null,
      "outputs": [
        {
          "name": "stdout",
          "output_type": "stream",
          "text": [
            "<class '__main__.Test'>\n"
          ]
        }
      ]
    },
    {
      "cell_type": "code",
      "metadata": {
        "id": "183bcdf5",
        "outputId": "25055bcd-80f6-4c91-b4f5-23efcf6c1db6"
      },
      "source": [
        "isinstance(t, Test) "
      ],
      "id": "183bcdf5",
      "execution_count": null,
      "outputs": [
        {
          "data": {
            "text/plain": [
              "True"
            ]
          },
          "execution_count": 30,
          "metadata": {},
          "output_type": "execute_result"
        }
      ]
    },
    {
      "cell_type": "code",
      "metadata": {
        "id": "d451b885"
      },
      "source": [
        "class Studentt:\n",
        "    def study(self):\n",
        "        print(\"공부하자~~\")\n",
        "        \n",
        "class Teacher:\n",
        "    def teach(self):\n",
        "        print(\"공부해라~~\")\n",
        "        \n",
        "        "
      ],
      "id": "d451b885",
      "execution_count": null,
      "outputs": []
    },
    {
      "cell_type": "code",
      "metadata": {
        "id": "1220bb3f"
      },
      "source": [
        "classroom = [ Studentt(), Studentt(), Teacher(),\n",
        "            Studentt(), Studentt()]"
      ],
      "id": "1220bb3f",
      "execution_count": null,
      "outputs": []
    },
    {
      "cell_type": "code",
      "metadata": {
        "id": "34fdb210",
        "outputId": "082af461-ac14-405f-f26c-952015b43bb7"
      },
      "source": [
        "classroom"
      ],
      "id": "34fdb210",
      "execution_count": null,
      "outputs": [
        {
          "data": {
            "text/plain": [
              "[<__main__.Studentt at 0x270d0764970>,\n",
              " <__main__.Studentt at 0x270d0764610>,\n",
              " <__main__.Teacher at 0x270d07645b0>,\n",
              " <__main__.Studentt at 0x270d0764d60>,\n",
              " <__main__.Studentt at 0x270d1560e50>]"
            ]
          },
          "execution_count": 40,
          "metadata": {},
          "output_type": "execute_result"
        }
      ]
    },
    {
      "cell_type": "code",
      "metadata": {
        "id": "77df05f6",
        "outputId": "85f0d378-fbfe-4533-ab9f-20eb2b6c7d28"
      },
      "source": [
        "for person in classroom: # person은 구체적인 대상들\n",
        "    if isinstance(person, Studentt):\n",
        "        person.study()\n",
        "    elif isinstance(person, Teacher):\n",
        "        person.teach()"
      ],
      "id": "77df05f6",
      "execution_count": null,
      "outputs": [
        {
          "name": "stdout",
          "output_type": "stream",
          "text": [
            "공부하자~~\n",
            "공부하자~~\n",
            "공부해라~~\n",
            "공부하자~~\n",
            "공부하자~~\n"
          ]
        }
      ]
    },
    {
      "cell_type": "code",
      "metadata": {
        "id": "490a8662"
      },
      "source": [
        "del studentt"
      ],
      "id": "490a8662",
      "execution_count": null,
      "outputs": []
    },
    {
      "cell_type": "code",
      "metadata": {
        "id": "48d4a4e8"
      },
      "source": [
        "#클래스의 변수 사용"
      ],
      "id": "48d4a4e8",
      "execution_count": null,
      "outputs": []
    },
    {
      "cell_type": "code",
      "metadata": {
        "id": "7eebb0c3"
      },
      "source": [
        "class Student:\n",
        "    #######\n",
        "    count = 0 # Student 클래스로 생성된 애들이 몇명인지.\n",
        "    #######\n",
        "    def __init__(self,name,korean,math,english,science):\n",
        "        self.name = name\n",
        "        self.korean = korean\n",
        "        self.math = math\n",
        "        self.english = english\n",
        "        self.science = science\n",
        "        #######\n",
        "        Student.count += 1\n",
        "        print(\"{}번째 학생 생성됨\".format(Student.count))\n",
        "        #######\n",
        "    ## student 클래스에서 필요한 기능들을 만들자 : 메소드\n",
        "    def get_sum(self):\n",
        "        score_sum = self.korean + self.math + self.english + self.science\n",
        "        return score_sum\n",
        "    def get_avg(self):\n",
        "        score_avg = self.get_sum() / 4\n",
        "        return score_avg\n",
        "    def to_string(self):\n",
        "        temp = \"{0}\\t{1}\\t{2}\".format(self.name\n",
        "                                  ,self.get_sum()\n",
        "                                  ,self.get_avg())\n",
        "        return temp\n",
        "    ## 특별 메소드\n",
        "    def __str__(self):\n",
        "        temp = \"{0}\\t{1}\\t{2}\".format(self.name\n",
        "                                  ,self.get_sum()\n",
        "                                  ,self.get_avg())\n",
        "        return temp\n",
        "    ### 비교 관련 특별 메소드\n",
        "    # == : eq, != :ne, > : gt, >= : ge, < : lt, <= le\n",
        "    def __eq__(self, value):\n",
        "        return self.get_sum() == value.get_sum()\n",
        "    def __ne__(self, value):\n",
        "        return self.get_sum() != value.get_sum()\n",
        "    def __gt__(self, value):\n",
        "        return self.get_sum() > value.get_sum()\n",
        "    def __ge__(self, value):\n",
        "        return self.get_sum() >= value.get_sum()\n",
        "    def __lt__(self, value):\n",
        "        return self.get_sum() < value.get_sum()\n",
        "    def __le__(self, value):\n",
        "        return self.get_sum() <= value.get_sum()"
      ],
      "id": "7eebb0c3",
      "execution_count": null,
      "outputs": []
    },
    {
      "cell_type": "code",
      "metadata": {
        "id": "aa680fdd",
        "outputId": "d68b6518-6189-44d8-cd67-5b7297df01b8"
      },
      "source": [
        "students = [\n",
        "    Student('AAA',98,93,79,95),\n",
        "    Student('BBB',78,87,87,91),\n",
        "    Student('CCC',87,88,83,93),\n",
        "    Student('DDD',79,92,99,88),\n",
        "    Student('EEE',92,98,94,83),\n",
        "    Student('FFF',94,99,98,77),\n",
        "    Student('GGG',84,96,99,79),\n",
        "    Student('HHH',87,78,88,95)\n",
        "]"
      ],
      "id": "aa680fdd",
      "execution_count": null,
      "outputs": [
        {
          "name": "stdout",
          "output_type": "stream",
          "text": [
            "1번째 학생 생성됨\n",
            "2번째 학생 생성됨\n",
            "3번째 학생 생성됨\n",
            "4번째 학생 생성됨\n",
            "5번째 학생 생성됨\n",
            "6번째 학생 생성됨\n",
            "7번째 학생 생성됨\n",
            "8번째 학생 생성됨\n"
          ]
        }
      ]
    },
    {
      "cell_type": "code",
      "metadata": {
        "id": "3bc53e83",
        "outputId": "4aa0e6b9-6999-475d-8c37-7ff50c8efbf0"
      },
      "source": [
        "print(Student.count)"
      ],
      "id": "3bc53e83",
      "execution_count": null,
      "outputs": [
        {
          "name": "stdout",
          "output_type": "stream",
          "text": [
            "8\n"
          ]
        }
      ]
    },
    {
      "cell_type": "code",
      "metadata": {
        "id": "f176293d"
      },
      "source": [
        "# (클래스 속성값)에 대해서 접근하는 방법에 대해서...\n",
        "# ---> 클래스의 속성값은 보통 생성할 때...\n",
        "# ---> 외부에서 뭔가 바꾸고 싶을 때....\n",
        "import math\n",
        "\n",
        "class Square:\n",
        "    def __init__(self, size):\n",
        "        ## 속성변수에 이름 앞에 언더바 2개로 지정...\n",
        "        self.__size = size # self.size = size\n",
        "    def get_total_length(self):\n",
        "        return self.__size * 4\n",
        "    def get_area(self):\n",
        "        return self.__size * self.__size\n",
        "    # 속성 변수에 직접적으로 접근을 못 할 때\n",
        "    # 우회경로를 만들어 주고, 그것을 통해서만 하도록 할 때.\n",
        "    ############## 내가 만든 방법에 의해서 변경해라~~~\n",
        "    # 속성변수의 값을 출력하는 용도의 메서드...\n",
        "    def get_size(self):\n",
        "        return self.__size\n",
        "    # 속성변수의 값을 변경하는 용도의 메서드...\n",
        "    def set_size(self, value):\n",
        "        self.__size = value\n",
        "    "
      ],
      "id": "f176293d",
      "execution_count": null,
      "outputs": []
    },
    {
      "cell_type": "code",
      "metadata": {
        "id": "3b29ff2a"
      },
      "source": [
        "sq1 = Square(10)"
      ],
      "id": "3b29ff2a",
      "execution_count": null,
      "outputs": []
    },
    {
      "cell_type": "code",
      "metadata": {
        "id": "86f62e13",
        "outputId": "21c48229-8d4d-4dcc-d12f-28f232de1ac5"
      },
      "source": [
        "sq1.get_total_length()"
      ],
      "id": "86f62e13",
      "execution_count": null,
      "outputs": [
        {
          "data": {
            "text/plain": [
              "40"
            ]
          },
          "execution_count": 54,
          "metadata": {},
          "output_type": "execute_result"
        }
      ]
    },
    {
      "cell_type": "code",
      "metadata": {
        "id": "726df298",
        "outputId": "e6fce390-4050-497a-f2bf-abf322fdae9b"
      },
      "source": [
        "sq1.get_area()"
      ],
      "id": "726df298",
      "execution_count": null,
      "outputs": [
        {
          "data": {
            "text/plain": [
              "100"
            ]
          },
          "execution_count": 55,
          "metadata": {},
          "output_type": "execute_result"
        }
      ]
    },
    {
      "cell_type": "code",
      "metadata": {
        "id": "61816270"
      },
      "source": [
        "sq1.__size = 1000"
      ],
      "id": "61816270",
      "execution_count": null,
      "outputs": []
    },
    {
      "cell_type": "code",
      "metadata": {
        "id": "85fca862",
        "outputId": "ff41aaf9-3e75-4dfe-eeeb-49a926419ad4"
      },
      "source": [
        "sq1.__size"
      ],
      "id": "85fca862",
      "execution_count": null,
      "outputs": [
        {
          "ename": "AttributeError",
          "evalue": "'Square' object has no attribute '__size'",
          "output_type": "error",
          "traceback": [
            "\u001b[1;31m---------------------------------------------------------------------------\u001b[0m",
            "\u001b[1;31mAttributeError\u001b[0m                            Traceback (most recent call last)",
            "\u001b[1;32m<ipython-input-56-a1e9b313918e>\u001b[0m in \u001b[0;36m<module>\u001b[1;34m\u001b[0m\n\u001b[1;32m----> 1\u001b[1;33m \u001b[0msq1\u001b[0m\u001b[1;33m.\u001b[0m\u001b[0m__size\u001b[0m\u001b[1;33m\u001b[0m\u001b[1;33m\u001b[0m\u001b[0m\n\u001b[0m",
            "\u001b[1;31mAttributeError\u001b[0m: 'Square' object has no attribute '__size'"
          ]
        }
      ]
    },
    {
      "cell_type": "code",
      "metadata": {
        "id": "c4edcfe1"
      },
      "source": [
        "sq2 = Square(20)"
      ],
      "id": "c4edcfe1",
      "execution_count": null,
      "outputs": []
    },
    {
      "cell_type": "code",
      "metadata": {
        "id": "4d874ea9",
        "outputId": "60dda51e-006b-4ec5-8c1e-d47c382651f7"
      },
      "source": [
        "sq2.get_total_length()"
      ],
      "id": "4d874ea9",
      "execution_count": null,
      "outputs": [
        {
          "data": {
            "text/plain": [
              "80"
            ]
          },
          "execution_count": 71,
          "metadata": {},
          "output_type": "execute_result"
        }
      ]
    },
    {
      "cell_type": "code",
      "metadata": {
        "id": "e9a1b4e5",
        "outputId": "e98516bb-26d0-49eb-8076-660a4fe72493"
      },
      "source": [
        "sq2.get_area()"
      ],
      "id": "e9a1b4e5",
      "execution_count": null,
      "outputs": [
        {
          "data": {
            "text/plain": [
              "400"
            ]
          },
          "execution_count": 72,
          "metadata": {},
          "output_type": "execute_result"
        }
      ]
    },
    {
      "cell_type": "code",
      "metadata": {
        "scrolled": true,
        "id": "b48bebf5",
        "outputId": "6a42a5a4-fbd1-4f23-cb35-c11eb96e026c"
      },
      "source": [
        "sq2.__size"
      ],
      "id": "b48bebf5",
      "execution_count": null,
      "outputs": [
        {
          "ename": "AttributeError",
          "evalue": "'Square' object has no attribute '__size'",
          "output_type": "error",
          "traceback": [
            "\u001b[1;31m---------------------------------------------------------------------------\u001b[0m",
            "\u001b[1;31mAttributeError\u001b[0m                            Traceback (most recent call last)",
            "\u001b[1;32m<ipython-input-74-fc39f04ecb23>\u001b[0m in \u001b[0;36m<module>\u001b[1;34m\u001b[0m\n\u001b[1;32m----> 1\u001b[1;33m \u001b[0msq2\u001b[0m\u001b[1;33m.\u001b[0m\u001b[0m__size\u001b[0m\u001b[1;33m\u001b[0m\u001b[1;33m\u001b[0m\u001b[0m\n\u001b[0m",
            "\u001b[1;31mAttributeError\u001b[0m: 'Square' object has no attribute '__size'"
          ]
        }
      ]
    },
    {
      "cell_type": "code",
      "metadata": {
        "id": "7342e84d",
        "outputId": "dda81e71-fc84-4406-aabe-6186bdcfb822"
      },
      "source": [
        "sq2.get_size()"
      ],
      "id": "7342e84d",
      "execution_count": null,
      "outputs": [
        {
          "data": {
            "text/plain": [
              "20"
            ]
          },
          "execution_count": 75,
          "metadata": {},
          "output_type": "execute_result"
        }
      ]
    },
    {
      "cell_type": "code",
      "metadata": {
        "id": "543c9029"
      },
      "source": [
        "sq2.set_size(100)"
      ],
      "id": "543c9029",
      "execution_count": null,
      "outputs": []
    },
    {
      "cell_type": "code",
      "metadata": {
        "id": "b665e5dc",
        "outputId": "12bc25dc-923f-4ed5-be4f-c9023792c2a7"
      },
      "source": [
        "sq2.get_total_length()"
      ],
      "id": "b665e5dc",
      "execution_count": null,
      "outputs": [
        {
          "data": {
            "text/plain": [
              "400"
            ]
          },
          "execution_count": 78,
          "metadata": {},
          "output_type": "execute_result"
        }
      ]
    },
    {
      "cell_type": "code",
      "metadata": {
        "id": "ddbce6a8",
        "outputId": "d43e12cd-9cf0-479c-eb62-6148fcb149b7"
      },
      "source": [
        "### try_except\n",
        "minutes_to_convert = 123\n",
        "\n",
        "hours_part = minutes_to_convert // 60\n",
        "minutes_part = minutes_to_convert % 60\n",
        "print(\"{0} 시간 {1} 분입니다.\".format(hours_part, minutes_part))\n"
      ],
      "id": "ddbce6a8",
      "execution_count": null,
      "outputs": [
        {
          "name": "stdout",
          "output_type": "stream",
          "text": [
            "2 시간 3 분입니다.\n"
          ]
        }
      ]
    },
    {
      "cell_type": "code",
      "metadata": {
        "id": "a58a1c67",
        "outputId": "33dbabd6-50f2-4523-c989-6aa5930f2085"
      },
      "source": [
        "### 사용자의 입력에 따라서 처리하기에 input\n",
        "minutes_to_convert = int(input(\"분을 입력하세요.\"))\n",
        "\n",
        "hours_part = minutes_to_convert // 60\n",
        "minutes_part = minutes_to_convert % 60\n",
        "print(\"{0} 시간 {1} 분입니다.\".format(hours_part, minutes_part))\n"
      ],
      "id": "a58a1c67",
      "execution_count": null,
      "outputs": [
        {
          "name": "stdout",
          "output_type": "stream",
          "text": [
            "분을 입력하세요.341s\n"
          ]
        },
        {
          "ename": "ValueError",
          "evalue": "invalid literal for int() with base 10: '341s'",
          "output_type": "error",
          "traceback": [
            "\u001b[1;31m---------------------------------------------------------------------------\u001b[0m",
            "\u001b[1;31mValueError\u001b[0m                                Traceback (most recent call last)",
            "\u001b[1;32m<ipython-input-81-72c9cd7065c3>\u001b[0m in \u001b[0;36m<module>\u001b[1;34m\u001b[0m\n\u001b[0;32m      1\u001b[0m \u001b[1;31m### 사용자의 입력에 따라서 처리하기에 input\u001b[0m\u001b[1;33m\u001b[0m\u001b[1;33m\u001b[0m\u001b[1;33m\u001b[0m\u001b[0m\n\u001b[1;32m----> 2\u001b[1;33m \u001b[0mminutes_to_convert\u001b[0m \u001b[1;33m=\u001b[0m \u001b[0mint\u001b[0m\u001b[1;33m(\u001b[0m\u001b[0minput\u001b[0m\u001b[1;33m(\u001b[0m\u001b[1;34m\"분을 입력하세요.\"\u001b[0m\u001b[1;33m)\u001b[0m\u001b[1;33m)\u001b[0m\u001b[1;33m\u001b[0m\u001b[1;33m\u001b[0m\u001b[0m\n\u001b[0m\u001b[0;32m      3\u001b[0m \u001b[1;33m\u001b[0m\u001b[0m\n\u001b[0;32m      4\u001b[0m \u001b[0mhours_part\u001b[0m \u001b[1;33m=\u001b[0m \u001b[0mminutes_to_convert\u001b[0m \u001b[1;33m//\u001b[0m \u001b[1;36m60\u001b[0m\u001b[1;33m\u001b[0m\u001b[1;33m\u001b[0m\u001b[0m\n\u001b[0;32m      5\u001b[0m \u001b[0mminutes_part\u001b[0m \u001b[1;33m=\u001b[0m \u001b[0mminutes_to_convert\u001b[0m \u001b[1;33m%\u001b[0m \u001b[1;36m60\u001b[0m\u001b[1;33m\u001b[0m\u001b[1;33m\u001b[0m\u001b[0m\n",
            "\u001b[1;31mValueError\u001b[0m: invalid literal for int() with base 10: '341s'"
          ]
        }
      ]
    },
    {
      "cell_type": "code",
      "metadata": {
        "id": "a40b4f44",
        "outputId": "d421560c-7c2a-45d6-8672-b2c87c095346"
      },
      "source": [
        "minutes_to_convert = input(\"시간과 분으로 변환활 분을 입력해주세요\")\n",
        "minutes_to_convert = int(minutes_to_convert)\n",
        "\n",
        "if type(minutes_to_convert) ==  int:\n",
        "    if minutes_to_convert >= 0:\n",
        "        hours_part = minutes_to_convert // 60\n",
        "        minutes_part = minutes_to_convert % 60\n",
        "        print(hours_part)\n",
        "        print(\"시간\")\n",
        "        print(minutes_part)\n",
        "        print(\"분\")\n",
        "    else:\n",
        "        print(\"시간이 음의 정수입니다!!!!!다시!\")\n",
        "else:\n",
        "    print(\"입력이 음수이거나 정수가 아닙니다...\")\n"
      ],
      "id": "a40b4f44",
      "execution_count": null,
      "outputs": [
        {
          "name": "stdout",
          "output_type": "stream",
          "text": [
            "시간과 분으로 변환활 분을 입력해주세요234s\n"
          ]
        },
        {
          "ename": "ValueError",
          "evalue": "invalid literal for int() with base 10: '234s'",
          "output_type": "error",
          "traceback": [
            "\u001b[1;31m---------------------------------------------------------------------------\u001b[0m",
            "\u001b[1;31mValueError\u001b[0m                                Traceback (most recent call last)",
            "\u001b[1;32m<ipython-input-82-35e3ba711540>\u001b[0m in \u001b[0;36m<module>\u001b[1;34m\u001b[0m\n\u001b[0;32m      1\u001b[0m \u001b[0mminutes_to_convert\u001b[0m \u001b[1;33m=\u001b[0m \u001b[0minput\u001b[0m\u001b[1;33m(\u001b[0m\u001b[1;34m\"시간과 분으로 변환활 분을 입력해주세요\"\u001b[0m\u001b[1;33m)\u001b[0m\u001b[1;33m\u001b[0m\u001b[1;33m\u001b[0m\u001b[0m\n\u001b[1;32m----> 2\u001b[1;33m \u001b[0mminutes_to_convert\u001b[0m \u001b[1;33m=\u001b[0m \u001b[0mint\u001b[0m\u001b[1;33m(\u001b[0m\u001b[0mminutes_to_convert\u001b[0m\u001b[1;33m)\u001b[0m\u001b[1;33m\u001b[0m\u001b[1;33m\u001b[0m\u001b[0m\n\u001b[0m\u001b[0;32m      3\u001b[0m \u001b[1;33m\u001b[0m\u001b[0m\n\u001b[0;32m      4\u001b[0m \u001b[1;32mif\u001b[0m \u001b[0mtype\u001b[0m\u001b[1;33m(\u001b[0m\u001b[0mminutes_to_convert\u001b[0m\u001b[1;33m)\u001b[0m \u001b[1;33m==\u001b[0m  \u001b[0mint\u001b[0m\u001b[1;33m:\u001b[0m\u001b[1;33m\u001b[0m\u001b[1;33m\u001b[0m\u001b[0m\n\u001b[0;32m      5\u001b[0m     \u001b[1;32mif\u001b[0m \u001b[0mminutes_to_convert\u001b[0m \u001b[1;33m>=\u001b[0m \u001b[1;36m0\u001b[0m\u001b[1;33m:\u001b[0m\u001b[1;33m\u001b[0m\u001b[1;33m\u001b[0m\u001b[0m\n",
            "\u001b[1;31mValueError\u001b[0m: invalid literal for int() with base 10: '234s'"
          ]
        }
      ]
    },
    {
      "cell_type": "code",
      "metadata": {
        "id": "efa9ca54",
        "outputId": "9f60dcb8-afca-4186-b3b2-5cc0e16c7b46"
      },
      "source": [
        "try:\n",
        "    print(\"10만원을 몇명이서 나눌까요?\")\n",
        "    number = int(input('숫자를 입력하세요.'))\n",
        "    print('한 사람당 {}만원을 가집니다'.format(10/number))\n",
        "except (ValueError , ZeroDivisionError):\n",
        "    print(\"왜 숫자 아닌걸 입력하시나요..아니면 0을 입력하셔서 0으로 나눌 수 없습니다\")"
      ],
      "id": "efa9ca54",
      "execution_count": null,
      "outputs": [
        {
          "name": "stdout",
          "output_type": "stream",
          "text": [
            "10만원을 몇명이서 나눌까요?\n",
            "숫자를 입력하세요.0\n"
          ]
        },
        {
          "ename": "NameError",
          "evalue": "name 'Error' is not defined",
          "output_type": "error",
          "traceback": [
            "\u001b[1;31m---------------------------------------------------------------------------\u001b[0m",
            "\u001b[1;31mZeroDivisionError\u001b[0m                         Traceback (most recent call last)",
            "\u001b[1;32m<ipython-input-87-9cff32b96caa>\u001b[0m in \u001b[0;36m<module>\u001b[1;34m\u001b[0m\n\u001b[0;32m      3\u001b[0m     \u001b[0mnumber\u001b[0m \u001b[1;33m=\u001b[0m \u001b[0mint\u001b[0m\u001b[1;33m(\u001b[0m\u001b[0minput\u001b[0m\u001b[1;33m(\u001b[0m\u001b[1;34m'숫자를 입력하세요.'\u001b[0m\u001b[1;33m)\u001b[0m\u001b[1;33m)\u001b[0m\u001b[1;33m\u001b[0m\u001b[1;33m\u001b[0m\u001b[0m\n\u001b[1;32m----> 4\u001b[1;33m     \u001b[0mprint\u001b[0m\u001b[1;33m(\u001b[0m\u001b[1;34m'한 사람당 {}만원을 가집니다'\u001b[0m\u001b[1;33m.\u001b[0m\u001b[0mformat\u001b[0m\u001b[1;33m(\u001b[0m\u001b[1;36m10\u001b[0m\u001b[1;33m/\u001b[0m\u001b[0mnumber\u001b[0m\u001b[1;33m)\u001b[0m\u001b[1;33m)\u001b[0m\u001b[1;33m\u001b[0m\u001b[1;33m\u001b[0m\u001b[0m\n\u001b[0m\u001b[0;32m      5\u001b[0m \u001b[1;32mexcept\u001b[0m \u001b[0mError\u001b[0m\u001b[1;33m:\u001b[0m\u001b[1;33m\u001b[0m\u001b[1;33m\u001b[0m\u001b[0m\n",
            "\u001b[1;31mZeroDivisionError\u001b[0m: division by zero",
            "\nDuring handling of the above exception, another exception occurred:\n",
            "\u001b[1;31mNameError\u001b[0m                                 Traceback (most recent call last)",
            "\u001b[1;32m<ipython-input-87-9cff32b96caa>\u001b[0m in \u001b[0;36m<module>\u001b[1;34m\u001b[0m\n\u001b[0;32m      3\u001b[0m     \u001b[0mnumber\u001b[0m \u001b[1;33m=\u001b[0m \u001b[0mint\u001b[0m\u001b[1;33m(\u001b[0m\u001b[0minput\u001b[0m\u001b[1;33m(\u001b[0m\u001b[1;34m'숫자를 입력하세요.'\u001b[0m\u001b[1;33m)\u001b[0m\u001b[1;33m)\u001b[0m\u001b[1;33m\u001b[0m\u001b[1;33m\u001b[0m\u001b[0m\n\u001b[0;32m      4\u001b[0m     \u001b[0mprint\u001b[0m\u001b[1;33m(\u001b[0m\u001b[1;34m'한 사람당 {}만원을 가집니다'\u001b[0m\u001b[1;33m.\u001b[0m\u001b[0mformat\u001b[0m\u001b[1;33m(\u001b[0m\u001b[1;36m10\u001b[0m\u001b[1;33m/\u001b[0m\u001b[0mnumber\u001b[0m\u001b[1;33m)\u001b[0m\u001b[1;33m)\u001b[0m\u001b[1;33m\u001b[0m\u001b[1;33m\u001b[0m\u001b[0m\n\u001b[1;32m----> 5\u001b[1;33m \u001b[1;32mexcept\u001b[0m \u001b[0mError\u001b[0m\u001b[1;33m:\u001b[0m\u001b[1;33m\u001b[0m\u001b[1;33m\u001b[0m\u001b[0m\n\u001b[0m\u001b[0;32m      6\u001b[0m     \u001b[0mprint\u001b[0m\u001b[1;33m(\u001b[0m\u001b[1;34m\"왜 숫자 아닌걸 입력하시나요..아니면 0을 입력하셔서 0으로 나눌 수 없습니다\"\u001b[0m\u001b[1;33m)\u001b[0m\u001b[1;33m\u001b[0m\u001b[1;33m\u001b[0m\u001b[0m\n",
            "\u001b[1;31mNameError\u001b[0m: name 'Error' is not defined"
          ]
        }
      ]
    },
    {
      "cell_type": "code",
      "metadata": {
        "id": "4be0e1a7",
        "outputId": "1b4af714-d6b0-4ce7-fee5-9a422b442052"
      },
      "source": [
        "##### 뭔가 입력을 받아서 하는 것 같은데,,, 끝이 안 난다...\n",
        "while True:\n",
        "    try:\n",
        "        minutes_to_convert = int(input(\"시간과 분으로 변환활 분을 입력해주세요\"))\n",
        "        if minutes_to_convert >= 0:\n",
        "            hours_part = minutes_to_convert // 60\n",
        "            minutes_part = minutes_to_convert % 60\n",
        "            print(hours_part)\n",
        "            print(\"시간\")\n",
        "            print(minutes_part)\n",
        "            print(\"분\")\n",
        "        else:\n",
        "            print(\"시간이 음의 정수입니다!!!!!다시!\")\n",
        "    except ValueError:### 맞는 타입을 지정할 때 까지 계속 안 끝내는 경우\n",
        "\n"
      ],
      "id": "4be0e1a7",
      "execution_count": null,
      "outputs": [
        {
          "ename": "IndentationError",
          "evalue": "expected an indented block (<ipython-input-88-37cf2efd2ea3>, line 15)",
          "output_type": "error",
          "traceback": [
            "\u001b[1;36m  File \u001b[1;32m\"<ipython-input-88-37cf2efd2ea3>\"\u001b[1;36m, line \u001b[1;32m15\u001b[0m\n\u001b[1;33m    while True:\u001b[0m\n\u001b[1;37m               ^\u001b[0m\n\u001b[1;31mIndentationError\u001b[0m\u001b[1;31m:\u001b[0m expected an indented block\n"
          ]
        }
      ]
    },
    {
      "cell_type": "code",
      "metadata": {
        "id": "c1977b29",
        "outputId": "e48dcbf8-b38f-4d0a-a4b0-137f9f8615c0"
      },
      "source": [
        "while True:\n",
        "    try:\n",
        "        minutes_to_convert = int(input(\"시간과 분으로 변환활 분을 입력해주세요\"))\n",
        "        if minutes_to_convert >= 0:\n",
        "            hours_part = minutes_to_convert // 60\n",
        "            minutes_part = minutes_to_convert % 60\n",
        "            print(hours_part)\n",
        "            print(\"시간\")\n",
        "            print(minutes_part)\n",
        "            print(\"분\")\n",
        "        else:\n",
        "            print(\"시간이 음의 정수입니다!!!!!다시!\")\n",
        "        break\n",
        "    except ValueError:\n",
        "        print(\"Not a Integer!!! Try Again\")\n",
        "        continue\n",
        "        print(\"Not a Integer!!! Try Again\")"
      ],
      "id": "c1977b29",
      "execution_count": null,
      "outputs": [
        {
          "name": "stdout",
          "output_type": "stream",
          "text": [
            "시간과 분으로 변환활 분을 입력해주세요s\n",
            "Not a Integer!!! Try Again\n",
            "시간과 분으로 변환활 분을 입력해주세요0\n",
            "0\n",
            "시간\n",
            "0\n",
            "분\n"
          ]
        }
      ]
    },
    {
      "cell_type": "code",
      "metadata": {
        "id": "81771551",
        "outputId": "8b07abb2-6a55-4c41-d224-96a881ad17dd"
      },
      "source": [
        "###   무덤이다;;;종료 버튼을 만들자...\n",
        "while True:\n",
        "    try:\n",
        "        minutes_to_convert = input(\"시간과 분으로 변경할 분을 입력하세요. 멈추시기 위해서는 q를 입력하세요\")\n",
        "        if minutes_to_convert==\"q\":\n",
        "            print(\"Good Bye\")\n",
        "            break\n",
        "        else:\n",
        "            minutes_to_convert = int(minutes_to_convert)\n",
        "            if minutes_to_convert >= 0:\n",
        "                hours_part = minutes_to_convert // 60\n",
        "                minutes_part = minutes_to_convert % 60\n",
        "                print(hours_part)\n",
        "                print(\"시간\")\n",
        "                print(minutes_part)\n",
        "                print(\"분\")\n",
        "            else:\n",
        "                print(\"시간이 음의 정수입니다!!!!!다시!\")\n",
        "    except ValueError:\n",
        "        print(\"Not a Integer!!! Try Again\")\n",
        "        continue"
      ],
      "id": "81771551",
      "execution_count": null,
      "outputs": [
        {
          "name": "stdout",
          "output_type": "stream",
          "text": [
            "시간과 분으로 변경할 분을 입력하세요. 멈추시기 위해서는 q를 입력하세요s\n",
            "Not a Integer!!! Try Again\n",
            "시간과 분으로 변경할 분을 입력하세요. 멈추시기 위해서는 q를 입력하세요-1\n",
            "시간이 음의 정수입니다!!!!!다시!\n",
            "시간과 분으로 변경할 분을 입력하세요. 멈추시기 위해서는 q를 입력하세요234\n",
            "3\n",
            "시간\n",
            "54\n",
            "분\n",
            "시간과 분으로 변경할 분을 입력하세요. 멈추시기 위해서는 q를 입력하세요q\n",
            "Good Bye\n"
          ]
        }
      ]
    },
    {
      "cell_type": "code",
      "metadata": {
        "id": "efb75fe3"
      },
      "source": [
        "from sympy import Symbol, solve\n",
        "x = Symbol('x')\n",
        "\n",
        "equation = 2 * x - 6\n"
      ],
      "id": "efb75fe3",
      "execution_count": null,
      "outputs": []
    },
    {
      "cell_type": "code",
      "metadata": {
        "id": "5ca6056b",
        "outputId": "27ec4045-9efc-4ae6-b8d5-3de517d82d59"
      },
      "source": [
        "print(solve(equation))"
      ],
      "id": "5ca6056b",
      "execution_count": null,
      "outputs": [
        {
          "name": "stdout",
          "output_type": "stream",
          "text": [
            "[3]\n"
          ]
        }
      ]
    },
    {
      "cell_type": "code",
      "metadata": {
        "id": "b714796d",
        "outputId": "4aa67da3-5bf2-4469-e0ea-486483882cac"
      },
      "source": [
        "import numpy as np\n",
        "np.log1p(10)\n"
      ],
      "id": "b714796d",
      "execution_count": null,
      "outputs": [
        {
          "data": {
            "text/plain": [
              "2.3978952727983707"
            ]
          },
          "execution_count": 100,
          "metadata": {},
          "output_type": "execute_result"
        }
      ]
    },
    {
      "cell_type": "code",
      "metadata": {
        "id": "a3d90b31",
        "outputId": "b34d282b-ff3f-40d1-a625-a609abf0529f"
      },
      "source": [
        "np.expm1(np.log1p(10))"
      ],
      "id": "a3d90b31",
      "execution_count": null,
      "outputs": [
        {
          "data": {
            "text/plain": [
              "10.000000000000002"
            ]
          },
          "execution_count": 101,
          "metadata": {},
          "output_type": "execute_result"
        }
      ]
    },
    {
      "cell_type": "code",
      "metadata": {
        "id": "25614273"
      },
      "source": [
        "# 주택 가격 예측\n",
        "# 0보다는 커.\n",
        "# 한쪽 쏠림.\n",
        "# x -> (x+1) -> log(x+1)\n",
        "# np.log1p\n",
        "# 열심히 모델링\n",
        "# -> exp : x + 1\n",
        "# -> -1\n",
        "# -----> np.exp1m"
      ],
      "id": "25614273",
      "execution_count": null,
      "outputs": []
    },
    {
      "cell_type": "code",
      "metadata": {
        "id": "72d1e36b"
      },
      "source": [
        "# 선형대수\n",
        "# --> 표현법;;;;\n",
        "# 행렬?\n",
        "# -> 회전변환\n",
        "# -> 각도 세타로 돌릴때\n",
        "\n",
        "# 수리통계\n",
        "\n",
        "\n",
        "# 다변수(미분), 확률\n"
      ],
      "id": "72d1e36b",
      "execution_count": null,
      "outputs": []
    },
    {
      "cell_type": "code",
      "metadata": {
        "id": "ac3a5e07"
      },
      "source": [
        "# 데이터를 분석\n",
        "# -> 변화!!!\n",
        "# -> 변동\n",
        "# -> 분산.\n",
        "# A 100 -> 200 (2배)\n",
        "# B 0.0001 > 0.01(100배)\n",
        "# 000000000000\n",
        "# -----------\n",
        "# 정규화\n"
      ],
      "id": "ac3a5e07",
      "execution_count": null,
      "outputs": []
    },
    {
      "cell_type": "code",
      "metadata": {
        "id": "a23ae4fb",
        "outputId": "ad609472-09cc-4ebb-865e-148c4024d64c"
      },
      "source": [
        "### 앙상블에 대해서...\n",
        "\n",
        "# A : 70% (SVM)\n",
        "# B : 70% (DT)\n",
        "# C : 70% (KNN)\n",
        "\n",
        "# 01) A, B, C --> 모두다 맞춘 경우(3개 모델이 다 정확히 맞춘)\n",
        "case1 = 0.7 * 0.7 * 0.7\n",
        "print(case1)\n",
        "# 02) A, B, C --> 2개의 모델만 맞춘 경우(2개 o, 1개 x) ----- 맞춘 케이스..\n",
        "case2 = 0.7 * 0.7 * 0.3 + 0.7 * 0.3 * 0.7 + 0.3 * 0.7 * 0.7\n",
        "print(case2)\n",
        "# 03) A, B, C --> 1개의 모델만 맞춘 경우(1개 o, 2개 x)\n",
        "case3 = 0.7 * 0.3 * 0.3 + 0.3 * 0.7 * 0.3 + 0.3 * 0.3 * 0.7\n",
        "print(case3)\n",
        "# 04) A, B, C --> 3개 다 틀린 경우 (3개 x)\n",
        "case4 = 0.3 * 0.3 * 0.3\n",
        "print(case4)\n",
        "\n",
        "\n"
      ],
      "id": "a23ae4fb",
      "execution_count": null,
      "outputs": [
        {
          "name": "stdout",
          "output_type": "stream",
          "text": [
            "0.3429999999999999\n",
            "0.44099999999999995\n",
            "0.189\n",
            "0.027\n"
          ]
        }
      ]
    },
    {
      "cell_type": "code",
      "metadata": {
        "id": "6b0b3c4e",
        "outputId": "2abe4066-d293-4a11-a6e6-86c162ca66d5"
      },
      "source": [
        "case1 + case2 + case3 + case4"
      ],
      "id": "6b0b3c4e",
      "execution_count": null,
      "outputs": [
        {
          "data": {
            "text/plain": [
              "0.9999999999999999"
            ]
          },
          "execution_count": 108,
          "metadata": {},
          "output_type": "execute_result"
        }
      ]
    },
    {
      "cell_type": "code",
      "metadata": {
        "id": "fb677cf4",
        "outputId": "dcf1f9ec-698e-4d20-bdbb-788e71735e8e"
      },
      "source": [
        "case1 + case2"
      ],
      "id": "fb677cf4",
      "execution_count": null,
      "outputs": [
        {
          "data": {
            "text/plain": [
              "0.7839999999999998"
            ]
          },
          "execution_count": 109,
          "metadata": {},
          "output_type": "execute_result"
        }
      ]
    },
    {
      "cell_type": "code",
      "metadata": {
        "id": "e6a61830"
      },
      "source": [
        "## 모델 A, B, C, D, E => 5개의 모델, 대략 성능 0.7\n",
        "# 5개 O\n",
        "# 4개 O\n",
        "# 3개 O --> 맞출 수\n",
        "import itertools\n",
        "import numpy as np"
      ],
      "id": "e6a61830",
      "execution_count": null,
      "outputs": []
    },
    {
      "cell_type": "code",
      "metadata": {
        "id": "be6799b3",
        "outputId": "14d2df68-1c59-423e-dabe-ed8c23e8718b"
      },
      "source": [
        "# case1 : 5개만 맞춘 케이스\n",
        "case1 = 0.7 * 0.7 * 0.7 * 0.7 * 0.7\n",
        "print(case1)"
      ],
      "id": "be6799b3",
      "execution_count": null,
      "outputs": [
        {
          "name": "stdout",
          "output_type": "stream",
          "text": [
            "0.16806999999999994\n"
          ]
        }
      ]
    },
    {
      "cell_type": "code",
      "metadata": {
        "id": "5477a24f",
        "outputId": "85456065-775b-4603-d8e7-44849b806cd6"
      },
      "source": [
        "# case2 : 4개만 맞춘 케이스\n",
        "case2 = 0.7 * 0.7 * 0.7 * 0.7 * 0.3 * 5\n",
        "print(case2)"
      ],
      "id": "5477a24f",
      "execution_count": null,
      "outputs": [
        {
          "name": "stdout",
          "output_type": "stream",
          "text": [
            "0.36014999999999986\n"
          ]
        }
      ]
    },
    {
      "cell_type": "code",
      "metadata": {
        "id": "99aaccfc",
        "outputId": "f59f5e12-535e-46e7-94d2-339763d20a6d"
      },
      "source": [
        "# case3 : 3개만 맞춘 케이스\n",
        "case3 = 0.7 * 0.7 * 0.7 * 0.3 * 0.3 * 10\n",
        "print(case3)"
      ],
      "id": "99aaccfc",
      "execution_count": null,
      "outputs": [
        {
          "name": "stdout",
          "output_type": "stream",
          "text": [
            "0.3086999999999999\n"
          ]
        }
      ]
    },
    {
      "cell_type": "code",
      "metadata": {
        "id": "2be04f3f",
        "outputId": "65b4d247-3736-49eb-9749-9f4a66972bea"
      },
      "source": [
        "case1 + case2 + case3"
      ],
      "id": "2be04f3f",
      "execution_count": null,
      "outputs": [
        {
          "data": {
            "text/plain": [
              "0.8369199999999997"
            ]
          },
          "execution_count": 117,
          "metadata": {},
          "output_type": "execute_result"
        }
      ]
    },
    {
      "cell_type": "code",
      "metadata": {
        "id": "4feb2761"
      },
      "source": [
        "#1 1 1 1 1 1 1 1 1 1 : 오리지널 데이터 정답\n",
        "#1 1 1 1 1 1 1 1 0 0 : A -> 80%\n",
        "#1 1 1 1 1 1 1 1 0 0 : B -> 80%\n",
        "#1 0 1 1 1 1 1 1 0 0 : C -> 70%\n",
        "#다양성(랜덤 샘플링 : bootstraping) & 많은 인원 -> "
      ],
      "id": "4feb2761",
      "execution_count": null,
      "outputs": []
    },
    {
      "cell_type": "code",
      "metadata": {
        "id": "60eae3eb",
        "outputId": "d0a2cd73-fdf4-4a6a-9696-9a4b61e04d9c"
      },
      "source": [
        "# 입력 부분 #\n",
        "n, m, k, x = map(int, input(\"4개 입력..\").split())\n",
        "graph = [ [] for _ in range(n+1)]\n",
        "for _ in range(m):\n",
        "    s, e = map(int, input(\"2개 입력..\").split())\n",
        "    graph[s].append(e)\n",
        "    \n",
        "print(graph)\n"
      ],
      "id": "60eae3eb",
      "execution_count": null,
      "outputs": [
        {
          "name": "stdout",
          "output_type": "stream",
          "text": [
            "4개 입력..4 4 2 1\n",
            "2개 입력..1 2\n",
            "2개 입력..1 3\n",
            "2개 입력..2 3\n",
            "2개 입력..2 4\n",
            "[[], [2, 3], [3, 4], [], []]\n",
            "3\n",
            "4\n"
          ]
        }
      ]
    },
    {
      "cell_type": "code",
      "metadata": {
        "id": "dd4265ba",
        "outputId": "3c986845-eb84-4c41-d5ef-3708d0ec00b2"
      },
      "source": [
        "#### 거리에 대해서 초기화\n",
        "INF = float(\"inf\")\n",
        "distance = [INF] * (n+1)\n",
        "distance[x] = 0\n",
        "distance"
      ],
      "id": "dd4265ba",
      "execution_count": null,
      "outputs": [
        {
          "data": {
            "text/plain": [
              "[inf, 0, inf, inf, inf]"
            ]
          },
          "execution_count": 122,
          "metadata": {},
          "output_type": "execute_result"
        }
      ]
    },
    {
      "cell_type": "code",
      "metadata": {
        "id": "6ac698cd"
      },
      "source": [
        "#### bfs 방식을 이용하여 구현...\n",
        "from collections import deque\n",
        "# 큐를 -> 방문한 리스트로 작성을 하고 -> 방문할 곳이 없을 때 까지...\n",
        "q = deque()\n",
        "q.append(x)\n",
        "while q:\n",
        "    # 방문할 곳이 어디니?? -> 방문할 곳을 가지고 와야 함.!\n",
        "    now = q.popleft() # list.pop(0) -> 큐 방식으로..\n",
        "    for next_node in graph[now]:\n",
        "        # now에서 연결된 도시가 있다면..... 그 도시들을 방문을\n",
        "        if distance[next_node] == INF : # now - next_node가 연결은, 거리는 아직\n",
        "            #기존 inf의 값을... 뭐로? 업데이트 하고...\n",
        "            distance[next_node] = distance[now] + 1\n",
        "            # 다시 방문 해야 할 곳에 대한 정보 추가....\n",
        "            q.append(next_node)"
      ],
      "id": "6ac698cd",
      "execution_count": null,
      "outputs": []
    },
    {
      "cell_type": "code",
      "metadata": {
        "id": "281937b7",
        "outputId": "8af29517-b2d2-4537-bcba-eaef68b383e0"
      },
      "source": [
        "distance"
      ],
      "id": "281937b7",
      "execution_count": null,
      "outputs": [
        {
          "data": {
            "text/plain": [
              "[inf, 0, 1, 1, 2]"
            ]
          },
          "execution_count": 124,
          "metadata": {},
          "output_type": "execute_result"
        }
      ]
    },
    {
      "cell_type": "code",
      "metadata": {
        "id": "c0ad5e04",
        "outputId": "f5fefc17-1203-4c0c-c11b-6a133615bc2d"
      },
      "source": [
        "for idx, v in enumerate(distance) : # 인덱스, 리스트 값을\n",
        "    if v == k:\n",
        "        ~~~"
      ],
      "id": "c0ad5e04",
      "execution_count": null,
      "outputs": [
        {
          "ename": "SyntaxError",
          "evalue": "invalid syntax (<ipython-input-125-5999f74dc71f>, line 3)",
          "output_type": "error",
          "traceback": [
            "\u001b[1;36m  File \u001b[1;32m\"<ipython-input-125-5999f74dc71f>\"\u001b[1;36m, line \u001b[1;32m3\u001b[0m\n\u001b[1;33m    ~~~\u001b[0m\n\u001b[1;37m       ^\u001b[0m\n\u001b[1;31mSyntaxError\u001b[0m\u001b[1;31m:\u001b[0m invalid syntax\n"
          ]
        }
      ]
    },
    {
      "cell_type": "code",
      "metadata": {
        "id": "eff979e0",
        "outputId": "395434c9-face-4763-ac59-9bcf9fa7910c"
      },
      "source": [
        "distance_k = [ i for i, v in enumerate(distance) if v == k]\n",
        "distance_k"
      ],
      "id": "eff979e0",
      "execution_count": null,
      "outputs": [
        {
          "data": {
            "text/plain": [
              "[4]"
            ]
          },
          "execution_count": 126,
          "metadata": {},
          "output_type": "execute_result"
        }
      ]
    },
    {
      "cell_type": "code",
      "metadata": {
        "id": "abbca55b",
        "outputId": "81de2f0a-80c2-45dc-ccff-6c0bae71d16d"
      },
      "source": [
        "if distance_k == []:\n",
        "    print(-1)\n",
        "else:\n",
        "    while distance_k:\n",
        "        print(distance_k.pop(0))"
      ],
      "id": "abbca55b",
      "execution_count": null,
      "outputs": [
        {
          "name": "stdout",
          "output_type": "stream",
          "text": [
            "4\n"
          ]
        }
      ]
    },
    {
      "cell_type": "code",
      "metadata": {
        "id": "82723bb4",
        "outputId": "8b047f0c-4412-4a54-f3ca-059ad480a972"
      },
      "source": [
        "c = 4 * a + (-3) * b\n",
        "c"
      ],
      "id": "82723bb4",
      "execution_count": null,
      "outputs": [
        {
          "ename": "NameError",
          "evalue": "name 'a' is not defined",
          "output_type": "error",
          "traceback": [
            "\u001b[1;31m---------------------------------------------------------------------------\u001b[0m",
            "\u001b[1;31mNameError\u001b[0m                                 Traceback (most recent call last)",
            "\u001b[1;32m<ipython-input-1-24e281569c27>\u001b[0m in \u001b[0;36m<module>\u001b[1;34m\u001b[0m\n\u001b[1;32m----> 1\u001b[1;33m \u001b[0mc\u001b[0m \u001b[1;33m=\u001b[0m \u001b[1;36m4\u001b[0m \u001b[1;33m*\u001b[0m \u001b[0ma\u001b[0m \u001b[1;33m+\u001b[0m \u001b[1;33m(\u001b[0m\u001b[1;33m-\u001b[0m\u001b[1;36m3\u001b[0m\u001b[1;33m)\u001b[0m \u001b[1;33m*\u001b[0m \u001b[0mb\u001b[0m\u001b[1;33m\u001b[0m\u001b[1;33m\u001b[0m\u001b[0m\n\u001b[0m\u001b[0;32m      2\u001b[0m \u001b[0mc\u001b[0m\u001b[1;33m\u001b[0m\u001b[1;33m\u001b[0m\u001b[0m\n",
            "\u001b[1;31mNameError\u001b[0m: name 'a' is not defined"
          ]
        }
      ]
    },
    {
      "cell_type": "code",
      "metadata": {
        "id": "f5b5dba8"
      },
      "source": [
        "#numpy -> vector 표현\n",
        "import numpy as np"
      ],
      "id": "f5b5dba8",
      "execution_count": 17,
      "outputs": []
    },
    {
      "cell_type": "code",
      "metadata": {
        "id": "94203a4d",
        "outputId": "051e25b8-d2d6-45f0-f340-962e21cad38b"
      },
      "source": [
        "a = np.array([2,4])\n",
        "a"
      ],
      "id": "94203a4d",
      "execution_count": null,
      "outputs": [
        {
          "data": {
            "text/plain": [
              "array([2, 4])"
            ]
          },
          "execution_count": 4,
          "metadata": {},
          "output_type": "execute_result"
        }
      ]
    },
    {
      "cell_type": "code",
      "metadata": {
        "id": "70ddee27",
        "outputId": "e58f3564-45f1-413f-8621-2d2a2cb63fb7"
      },
      "source": [
        "b = np.array([1,6])\n",
        "b"
      ],
      "id": "70ddee27",
      "execution_count": null,
      "outputs": [
        {
          "data": {
            "text/plain": [
              "array([1, 6])"
            ]
          },
          "execution_count": 5,
          "metadata": {},
          "output_type": "execute_result"
        }
      ]
    },
    {
      "cell_type": "code",
      "metadata": {
        "id": "c20f16b4",
        "outputId": "6980f022-0568-461f-9d99-600421b8ee5e"
      },
      "source": [
        "c = 4*a + (-3)*b\n",
        "c"
      ],
      "id": "c20f16b4",
      "execution_count": null,
      "outputs": [
        {
          "data": {
            "text/plain": [
              "array([ 5, -2])"
            ]
          },
          "execution_count": 6,
          "metadata": {},
          "output_type": "execute_result"
        }
      ]
    },
    {
      "cell_type": "code",
      "metadata": {
        "id": "87d4c093"
      },
      "source": [
        "import tensorflow as tf"
      ],
      "id": "87d4c093",
      "execution_count": null,
      "outputs": []
    },
    {
      "cell_type": "code",
      "metadata": {
        "id": "ded776dd",
        "colab": {
          "base_uri": "https://localhost:8080/",
          "height": 35
        },
        "outputId": "41df9d7f-bd36-4750-a314-8a4467eb40e6"
      },
      "source": [
        "tf.__version__"
      ],
      "id": "ded776dd",
      "execution_count": null,
      "outputs": [
        {
          "output_type": "execute_result",
          "data": {
            "application/vnd.google.colaboratory.intrinsic+json": {
              "type": "string"
            },
            "text/plain": [
              "'2.7.0'"
            ]
          },
          "metadata": {},
          "execution_count": 2
        }
      ]
    },
    {
      "cell_type": "code",
      "metadata": {
        "id": "5860f0db"
      },
      "source": [
        "x = tf.Variable([[1],[2],[3]])\n",
        "y = tf.Variable([[4],[5],[6]])"
      ],
      "id": "5860f0db",
      "execution_count": null,
      "outputs": []
    },
    {
      "cell_type": "code",
      "metadata": {
        "id": "a4c5c7d7",
        "colab": {
          "base_uri": "https://localhost:8080/"
        },
        "outputId": "ae2b3ada-d36c-43ba-a3c2-ffd4f993fab4"
      },
      "source": [
        "xT = tf.transpose(x)\n",
        "xT"
      ],
      "id": "a4c5c7d7",
      "execution_count": null,
      "outputs": [
        {
          "output_type": "execute_result",
          "data": {
            "text/plain": [
              "<tf.Tensor: shape=(1, 3), dtype=int32, numpy=array([[1, 2, 3]], dtype=int32)>"
            ]
          },
          "metadata": {},
          "execution_count": 4
        }
      ]
    },
    {
      "cell_type": "code",
      "metadata": {
        "id": "385d31f4",
        "colab": {
          "base_uri": "https://localhost:8080/"
        },
        "outputId": "526065c5-d075-4016-97b5-8b051b0c1913"
      },
      "source": [
        "inner_product = tf.matmul(xT, y)\n",
        "inner_product"
      ],
      "id": "385d31f4",
      "execution_count": null,
      "outputs": [
        {
          "output_type": "execute_result",
          "data": {
            "text/plain": [
              "<tf.Tensor: shape=(1, 1), dtype=int32, numpy=array([[32]], dtype=int32)>"
            ]
          },
          "metadata": {},
          "execution_count": 5
        }
      ]
    },
    {
      "cell_type": "code",
      "metadata": {
        "id": "2ed160ea",
        "colab": {
          "base_uri": "https://localhost:8080/"
        },
        "outputId": "a2699ab5-49e2-476f-d65e-9b0e1126da92"
      },
      "source": [
        "print(inner_product)"
      ],
      "id": "2ed160ea",
      "execution_count": null,
      "outputs": [
        {
          "output_type": "stream",
          "name": "stdout",
          "text": [
            "tf.Tensor([[32]], shape=(1, 1), dtype=int32)\n"
          ]
        }
      ]
    },
    {
      "cell_type": "code",
      "metadata": {
        "id": "53915dc0",
        "colab": {
          "base_uri": "https://localhost:8080/"
        },
        "outputId": "22cae6c0-6334-40df-80b0-10fffc034225"
      },
      "source": [
        "tf.print(inner_product)"
      ],
      "id": "53915dc0",
      "execution_count": null,
      "outputs": [
        {
          "output_type": "stream",
          "name": "stdout",
          "text": [
            "[[32]]\n"
          ]
        }
      ]
    },
    {
      "cell_type": "code",
      "metadata": {
        "id": "d71a8758",
        "colab": {
          "base_uri": "https://localhost:8080/"
        },
        "outputId": "79ac8084-8126-4ca3-828f-7b4df1994981"
      },
      "source": [
        "x = tf.Variable([[1],[2],[3]], dtype = tf.float32)\n",
        "#xT = tf.transpose(x)\n",
        "x_norm = tf.norm(x, ord = 2) # ord =2  L2 \n",
        "tf.print(x_norm)"
      ],
      "id": "d71a8758",
      "execution_count": null,
      "outputs": [
        {
          "output_type": "stream",
          "name": "stdout",
          "text": [
            "3.7416575\n"
          ]
        }
      ]
    },
    {
      "cell_type": "code",
      "metadata": {
        "id": "cb9717ff",
        "colab": {
          "base_uri": "https://localhost:8080/"
        },
        "outputId": "b2bc4ce3-78f0-4c5d-a170-768b82257bb8"
      },
      "source": [
        "x_norm"
      ],
      "id": "cb9717ff",
      "execution_count": null,
      "outputs": [
        {
          "output_type": "execute_result",
          "data": {
            "text/plain": [
              "<tf.Tensor: shape=(), dtype=float32, numpy=3.7416575>"
            ]
          },
          "metadata": {},
          "execution_count": 9
        }
      ]
    },
    {
      "cell_type": "code",
      "metadata": {
        "id": "6f6a825e",
        "colab": {
          "base_uri": "https://localhost:8080/"
        },
        "outputId": "c88981f8-08a1-4bcb-caf4-74963b07d421"
      },
      "source": [
        "x = tf.Variable([[1],[2],[3]], dtype = tf.float32)\n",
        "xT = tf.transpose(x)\n",
        "x_norm_2 = tf.math.sqrt(tf.matmul(xT, x))\n",
        "tf.print(x_norm_2)\n"
      ],
      "id": "6f6a825e",
      "execution_count": null,
      "outputs": [
        {
          "output_type": "stream",
          "name": "stdout",
          "text": [
            "[[3.7416575]]\n"
          ]
        }
      ]
    },
    {
      "cell_type": "code",
      "metadata": {
        "id": "135376eb"
      },
      "source": [
        "# 1 by 1 mat & 1dim Vec"
      ],
      "id": "135376eb",
      "execution_count": null,
      "outputs": []
    },
    {
      "cell_type": "code",
      "metadata": {
        "id": "62033296",
        "colab": {
          "base_uri": "https://localhost:8080/"
        },
        "outputId": "6f8f997c-827d-4dd4-f476-5aab51de4f29"
      },
      "source": [
        "A = tf.Variable(np.array( [ [1] ]), dtype = tf.float32)\n",
        "x = tf.Variable(np.array( [ [1] ]), dtype = tf.float32)\n",
        "b = tf.matmul(A,x)\n",
        "print(A.shape)\n",
        "print(x.shape)\n",
        "print(b.shape)\n",
        "tf.print(b)\n"
      ],
      "id": "62033296",
      "execution_count": 18,
      "outputs": [
        {
          "output_type": "stream",
          "name": "stdout",
          "text": [
            "(1, 1)\n",
            "(1, 1)\n",
            "(1, 1)\n",
            "[[1]]\n"
          ]
        }
      ]
    },
    {
      "cell_type": "code",
      "metadata": {
        "id": "5282f751"
      },
      "source": [
        "# 1by2 mat & 2dim Vector"
      ],
      "id": "5282f751",
      "execution_count": null,
      "outputs": []
    },
    {
      "cell_type": "code",
      "metadata": {
        "id": "ff3fbff8",
        "colab": {
          "base_uri": "https://localhost:8080/"
        },
        "outputId": "6b17cc70-41dd-4bf4-b875-4e5123beae47"
      },
      "source": [
        "A = tf.Variable(np.array( [ [1,4]]),dtype = tf.float32)\n",
        "x = tf.Variable(np.array( [ [1], [2] ]), dtype = tf.float32)\n",
        "b = tf.matmul(A, x)\n",
        "print(A.shape)\n",
        "print(x.shape)\n",
        "print(b.shape)\n",
        "tf.print(b)"
      ],
      "id": "ff3fbff8",
      "execution_count": 19,
      "outputs": [
        {
          "output_type": "stream",
          "name": "stdout",
          "text": [
            "(1, 2)\n",
            "(2, 1)\n",
            "(1, 1)\n",
            "[[9]]\n"
          ]
        }
      ]
    },
    {
      "cell_type": "code",
      "metadata": {
        "id": "10e8f626",
        "colab": {
          "base_uri": "https://localhost:8080/"
        },
        "outputId": "a250f40e-7d94-4465-c6f9-4568d747a86f"
      },
      "source": [
        "A = tf.Variable(np.array( [ [1, 4], [9,5] ] ),dtype = tf.float32)\n",
        "x = tf.Variable(np.array( [ [1], [2] ] ), dtype = tf.float32)\n",
        "b = tf.matmul(A, x)\n",
        "print(A.shape)\n",
        "print(x.shape)\n",
        "print(b.shape)\n",
        "tf.print(b)"
      ],
      "id": "10e8f626",
      "execution_count": 20,
      "outputs": [
        {
          "output_type": "stream",
          "name": "stdout",
          "text": [
            "(2, 2)\n",
            "(2, 1)\n",
            "(2, 1)\n",
            "[[9]\n",
            " [19]]\n"
          ]
        }
      ]
    },
    {
      "cell_type": "code",
      "metadata": {
        "id": "8f853215"
      },
      "source": [
        "# 3 by 2 mat & 2 dim vec"
      ],
      "id": "8f853215",
      "execution_count": 21,
      "outputs": []
    },
    {
      "cell_type": "code",
      "metadata": {
        "id": "qxS-6L8VGMgI",
        "outputId": "f907f858-75f4-48e6-fc5b-02d44525e7b2",
        "colab": {
          "base_uri": "https://localhost:8080/"
        }
      },
      "source": [
        "A = tf.Variable(np.array( [ [1,4] , [9,5] , [4,0] ] ),dtype = tf.float32)\n",
        "x = tf.Variable(np.array( [ [1], [2] ]), dtype = tf.float32)\n",
        "b = tf.matmul(A, x)\n",
        "print(A.shape)\n",
        "print(x.shape)\n",
        "print(b.shape)\n",
        "tf.print(b)"
      ],
      "id": "qxS-6L8VGMgI",
      "execution_count": 22,
      "outputs": [
        {
          "output_type": "stream",
          "name": "stdout",
          "text": [
            "(3, 2)\n",
            "(2, 1)\n",
            "(3, 1)\n",
            "[[9]\n",
            " [19]\n",
            " [4]]\n"
          ]
        }
      ]
    },
    {
      "cell_type": "code",
      "metadata": {
        "id": "XMEy3j2uGORq"
      },
      "source": [
        "A = tf.Variable(np.array( [ [1,4] , [9,5] , [4,0] ] ),dtype = tf.float32)\n",
        "x = tf.Variable(np.array( [ [1], [2] ]), dtype = tf.float32)\n",
        "b = tf.matmul(A, x)\n",
        "print(A.shape)\n",
        "print(x.shape)\n",
        "print(b.shape)\n",
        "tf.print(b)"
      ],
      "id": "XMEy3j2uGORq",
      "execution_count": null,
      "outputs": []
    }
  ]
}