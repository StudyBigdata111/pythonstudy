{
  "nbformat": 4,
  "nbformat_minor": 0,
  "metadata": {
    "colab": {
      "name": "20211117.ipynb",
      "provenance": []
    },
    "kernelspec": {
      "name": "python3",
      "display_name": "Python 3"
    },
    "language_info": {
      "name": "python"
    }
  },
  "cells": [
    {
      "cell_type": "code",
      "metadata": {
        "id": "DlliYHKqMx3v"
      },
      "source": [
        ""
      ],
      "execution_count": null,
      "outputs": []
    },
    {
      "cell_type": "markdown",
      "metadata": {
        "id": "CCnCQa4aSbL5"
      },
      "source": [
        "numpy -> vector 표현"
      ]
    },
    {
      "cell_type": "code",
      "metadata": {
        "id": "PzD9kH5cSciN"
      },
      "source": [
        "import numpy as np"
      ],
      "execution_count": 14,
      "outputs": []
    },
    {
      "cell_type": "code",
      "metadata": {
        "colab": {
          "base_uri": "https://localhost:8080/"
        },
        "id": "WPkaOA8TSqjQ",
        "outputId": "f63bf909-4d03-4da5-9e05-de653989bb69"
      },
      "source": [
        "a = np.array([2,4])\n",
        "a"
      ],
      "execution_count": null,
      "outputs": [
        {
          "output_type": "execute_result",
          "data": {
            "text/plain": [
              "array([2, 4])"
            ]
          },
          "metadata": {},
          "execution_count": 2
        }
      ]
    },
    {
      "cell_type": "code",
      "metadata": {
        "colab": {
          "base_uri": "https://localhost:8080/"
        },
        "id": "ddcfh8niSqmC",
        "outputId": "9231dcc5-cb5c-4355-922a-2bc567336997"
      },
      "source": [
        "b = np.array([1,6])\n",
        "b"
      ],
      "execution_count": null,
      "outputs": [
        {
          "output_type": "execute_result",
          "data": {
            "text/plain": [
              "array([1, 6])"
            ]
          },
          "metadata": {},
          "execution_count": 3
        }
      ]
    },
    {
      "cell_type": "code",
      "metadata": {
        "colab": {
          "base_uri": "https://localhost:8080/"
        },
        "id": "konKd7VcSqol",
        "outputId": "bcad9fde-c55c-42d1-8010-1615f03ac06a"
      },
      "source": [
        "c = 4*a + (-3)*b\n",
        "c"
      ],
      "execution_count": null,
      "outputs": [
        {
          "output_type": "execute_result",
          "data": {
            "text/plain": [
              "array([ 5, -2])"
            ]
          },
          "metadata": {},
          "execution_count": 4
        }
      ]
    },
    {
      "cell_type": "code",
      "metadata": {
        "id": "k4XRxhtoSqrJ"
      },
      "source": [
        "import tensorflow as tf"
      ],
      "execution_count": 2,
      "outputs": []
    },
    {
      "cell_type": "code",
      "metadata": {
        "colab": {
          "base_uri": "https://localhost:8080/",
          "height": 35
        },
        "id": "gomdlouNSqtt",
        "outputId": "b425cbf7-d18c-49d4-bf57-407d0b62c59f"
      },
      "source": [
        "tf.__version__"
      ],
      "execution_count": 3,
      "outputs": [
        {
          "output_type": "execute_result",
          "data": {
            "application/vnd.google.colaboratory.intrinsic+json": {
              "type": "string"
            },
            "text/plain": [
              "'2.7.0'"
            ]
          },
          "metadata": {},
          "execution_count": 3
        }
      ]
    },
    {
      "cell_type": "code",
      "metadata": {
        "id": "V7S_49AMlWrd"
      },
      "source": [
        "x = tf.Variable([[1],[2],[3]])\n",
        "y = tf.Variable([[4],[5],[6]])"
      ],
      "execution_count": 4,
      "outputs": []
    },
    {
      "cell_type": "code",
      "metadata": {
        "colab": {
          "base_uri": "https://localhost:8080/"
        },
        "id": "781UEgIEmYVs",
        "outputId": "03707323-714d-475b-affe-c0faf78243ec"
      },
      "source": [
        "xT = tf.transpose(x)\n",
        "xT"
      ],
      "execution_count": 5,
      "outputs": [
        {
          "output_type": "execute_result",
          "data": {
            "text/plain": [
              "<tf.Tensor: shape=(1, 3), dtype=int32, numpy=array([[1, 2, 3]], dtype=int32)>"
            ]
          },
          "metadata": {},
          "execution_count": 5
        }
      ]
    },
    {
      "cell_type": "code",
      "metadata": {
        "colab": {
          "base_uri": "https://localhost:8080/"
        },
        "id": "wRK0s_DilWvE",
        "outputId": "d70a8081-3b78-4392-b2d6-b0bc9599caee"
      },
      "source": [
        "inner_product = tf.matmul(xT, y)\n",
        "inner_product"
      ],
      "execution_count": 6,
      "outputs": [
        {
          "output_type": "execute_result",
          "data": {
            "text/plain": [
              "<tf.Tensor: shape=(1, 1), dtype=int32, numpy=array([[32]], dtype=int32)>"
            ]
          },
          "metadata": {},
          "execution_count": 6
        }
      ]
    },
    {
      "cell_type": "code",
      "metadata": {
        "colab": {
          "base_uri": "https://localhost:8080/"
        },
        "id": "10CuXzurm1wS",
        "outputId": "ce8dcec1-46ee-4c29-d2e3-c48dc6eb857e"
      },
      "source": [
        "print(inner_product)"
      ],
      "execution_count": 7,
      "outputs": [
        {
          "output_type": "stream",
          "name": "stdout",
          "text": [
            "tf.Tensor([[32]], shape=(1, 1), dtype=int32)\n"
          ]
        }
      ]
    },
    {
      "cell_type": "code",
      "metadata": {
        "colab": {
          "base_uri": "https://localhost:8080/"
        },
        "id": "856k3Abzl8sG",
        "outputId": "e9044749-a604-4714-9a64-6eb8b7eb6af6"
      },
      "source": [
        "tf.print(inner_product)"
      ],
      "execution_count": 8,
      "outputs": [
        {
          "output_type": "stream",
          "name": "stdout",
          "text": [
            "[[32]]\n"
          ]
        }
      ]
    },
    {
      "cell_type": "markdown",
      "metadata": {
        "id": "gbnCYkOPnqek"
      },
      "source": [
        "Norm"
      ]
    },
    {
      "cell_type": "code",
      "metadata": {
        "colab": {
          "base_uri": "https://localhost:8080/"
        },
        "id": "0E_snQEwnqBU",
        "outputId": "165b8b71-424e-4e1e-854b-bfec34266aad"
      },
      "source": [
        "x = tf.Variable([[1],[2],[3]], dtype = tf.float32)\n",
        "#xT = tf.transpose(x)\n",
        "x_norm = tf.norm(x, ord = 2) # ord =2  L2 \n",
        "tf.print(x_norm)"
      ],
      "execution_count": 9,
      "outputs": [
        {
          "output_type": "stream",
          "name": "stdout",
          "text": [
            "3.7416575\n"
          ]
        }
      ]
    },
    {
      "cell_type": "code",
      "metadata": {
        "colab": {
          "base_uri": "https://localhost:8080/"
        },
        "id": "HtW3Q2CPr0OD",
        "outputId": "c5be052d-58ab-42ba-e2a9-8ac0eeb8861c"
      },
      "source": [
        "x_norm"
      ],
      "execution_count": 10,
      "outputs": [
        {
          "output_type": "execute_result",
          "data": {
            "text/plain": [
              "<tf.Tensor: shape=(), dtype=float32, numpy=3.7416575>"
            ]
          },
          "metadata": {},
          "execution_count": 10
        }
      ]
    },
    {
      "cell_type": "code",
      "metadata": {
        "colab": {
          "base_uri": "https://localhost:8080/"
        },
        "id": "rfYceE6Jomf5",
        "outputId": "b74924d1-f4d8-4382-ea92-907708a8a032"
      },
      "source": [
        "x = tf.Variable([[1],[2],[3]], dtype = tf.float32)\n",
        "xT = tf.transpose(x)\n",
        "x_norm_2 = tf.math.sqrt(tf.matmul(xT, x))\n",
        "tf.print(x_norm_2)\n"
      ],
      "execution_count": 11,
      "outputs": [
        {
          "output_type": "stream",
          "name": "stdout",
          "text": [
            "[[3.7416575]]\n"
          ]
        }
      ]
    },
    {
      "cell_type": "code",
      "metadata": {
        "id": "Y0OAaqSasHN4"
      },
      "source": [
        "# 1 by 1 mat & 1dim Vec"
      ],
      "execution_count": 12,
      "outputs": []
    },
    {
      "cell_type": "code",
      "metadata": {
        "colab": {
          "base_uri": "https://localhost:8080/"
        },
        "id": "RTGDvcEKsHQm",
        "outputId": "830c0ca6-e080-4958-ef33-7b2641164273"
      },
      "source": [
        "A = tf.Variable(np.array( [ [1] ]), dtype = tf.float32)\n",
        "x = tf.Variable(np.array( [ [1] ]), dtype = tf.float32)\n",
        "b = tf.matmul(A,x)\n",
        "print(A.shape)\n",
        "print(x.shape)\n",
        "print(b.shape)\n",
        "tf.print(b)\n"
      ],
      "execution_count": 15,
      "outputs": [
        {
          "output_type": "stream",
          "name": "stdout",
          "text": [
            "(1, 1)\n",
            "(1, 1)\n",
            "(1, 1)\n",
            "[[1]]\n"
          ]
        }
      ]
    },
    {
      "cell_type": "code",
      "metadata": {
        "id": "ZG8PamMmu4v4"
      },
      "source": [
        "# 1by2 mat & 2dim Vector"
      ],
      "execution_count": null,
      "outputs": []
    },
    {
      "cell_type": "code",
      "metadata": {
        "colab": {
          "base_uri": "https://localhost:8080/"
        },
        "id": "BDXwoE_ZsHTX",
        "outputId": "308a7e50-92d6-4073-cfce-e1039269f054"
      },
      "source": [
        "A = tf.Variable(np.array( [ [1,4]]),dtype = tf.float32)\n",
        "x = tf.Variable(np.array( [ [1], [2] ]), dtype = tf.float32)\n",
        "b = tf.matmul(A, x)\n",
        "print(A.shape)\n",
        "print(x.shape)\n",
        "print(b.shape)\n",
        "tf.print(b)"
      ],
      "execution_count": null,
      "outputs": [
        {
          "output_type": "stream",
          "name": "stdout",
          "text": [
            "(1, 2)\n",
            "(2, 1)\n",
            "(1, 1)\n",
            "[[9]]\n"
          ]
        }
      ]
    },
    {
      "cell_type": "code",
      "metadata": {
        "colab": {
          "base_uri": "https://localhost:8080/"
        },
        "id": "ywM2HcqQwX1x",
        "outputId": "405db98e-79a2-4279-bd95-b4a16bd9f25b"
      },
      "source": [
        "A = tf.Variable(np.array( [ [1, 4], [9,5] ] ),dtype = tf.float32)\n",
        "x = tf.Variable(np.array( [ [1], [2] ] ), dtype = tf.float32)\n",
        "b = tf.matmul(A, x)\n",
        "print(A.shape)\n",
        "print(x.shape)\n",
        "print(b.shape)\n",
        "tf.print(b)"
      ],
      "execution_count": null,
      "outputs": [
        {
          "output_type": "stream",
          "name": "stdout",
          "text": [
            "(2, 2)\n",
            "(2, 1)\n",
            "(2, 1)\n",
            "[[9]\n",
            " [19]]\n"
          ]
        }
      ]
    },
    {
      "cell_type": "code",
      "metadata": {
        "id": "gJds5stGw7Se"
      },
      "source": [
        "# 3 by 2 mat & 2 dim vec"
      ],
      "execution_count": null,
      "outputs": []
    },
    {
      "cell_type": "code",
      "metadata": {
        "colab": {
          "base_uri": "https://localhost:8080/"
        },
        "id": "EL7BWLbzw7VB",
        "outputId": "f6e554e7-4bae-46ac-cbf2-331297cb7e93"
      },
      "source": [
        "A = tf.Variable(np.array( [ [1,4] , [9,5] , [4,0] ] ),dtype = tf.float32)\n",
        "x = tf.Variable(np.array( [ [1], [2] ]), dtype = tf.float32)\n",
        "b = tf.matmul(A, x)\n",
        "print(A.shape)\n",
        "print(x.shape)\n",
        "print(b.shape)\n",
        "tf.print(b)"
      ],
      "execution_count": null,
      "outputs": [
        {
          "output_type": "stream",
          "name": "stdout",
          "text": [
            "(3, 2)\n",
            "(2, 1)\n",
            "(3, 1)\n",
            "[[9]\n",
            " [19]\n",
            " [4]]\n"
          ]
        }
      ]
    }
  ]
}